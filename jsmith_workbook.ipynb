{
 "cells": [
  {
   "cell_type": "code",
   "execution_count": 1,
   "id": "4c33e385",
   "metadata": {},
   "outputs": [],
   "source": [
    "import numpy as np\n",
    "import pandas as pd\n",
    "from PyPDF2 import PdfFileReader"
   ]
  },
  {
   "cell_type": "markdown",
   "id": "a39bb5c4",
   "metadata": {},
   "source": [
    "# Load the PDF File"
   ]
  },
  {
   "cell_type": "code",
   "execution_count": 2,
   "id": "0deb19ca",
   "metadata": {},
   "outputs": [],
   "source": [
    "# open the PDF file\n",
    "pdfFile = open('/Users/johnathonsmith/Downloads/293RDCV.PEND.CASE_1642601189564_-1416322429.pdf', 'rb')\n"
   ]
  },
  {
   "cell_type": "markdown",
   "id": "3b9abfc6",
   "metadata": {},
   "source": [
    "# Read the File"
   ]
  },
  {
   "cell_type": "code",
   "execution_count": 3,
   "id": "26a7995a",
   "metadata": {},
   "outputs": [],
   "source": [
    "# create PDFFileReader object to read the file\n",
    "pdfReader = PdfFileReader(pdfFile)"
   ]
  },
  {
   "cell_type": "markdown",
   "id": "db9650d4",
   "metadata": {},
   "source": [
    "# Check For Encryption"
   ]
  },
  {
   "cell_type": "code",
   "execution_count": 4,
   "id": "f04f9d6d",
   "metadata": {},
   "outputs": [
    {
     "name": "stdout",
     "output_type": "stream",
     "text": [
      "PDF File is encrypted. Password is needed to continue.\n"
     ]
    }
   ],
   "source": [
    "if pdfReader.isEncrypted == True:\n",
    "    print(\"PDF File is encrypted. Password is needed to continue.\")\n",
    "else:\n",
    "    print(\"PDF File is not encrypted. Password is not needed.\")"
   ]
  },
  {
   "cell_type": "markdown",
   "id": "37138166",
   "metadata": {},
   "source": [
    "# Print Document Info"
   ]
  },
  {
   "cell_type": "code",
   "execution_count": 5,
   "id": "706e5715",
   "metadata": {},
   "outputs": [],
   "source": [
    "#print(\"PDF File name: \" + str(pdfReader.getDocumentInfo().title))\n",
    "#print(\"PDF File created by: \" + str(pdfReader.getDocumentInfo().creator))\n",
    "#print(\"- - - - - - - - - - - - - - - - - - - -\")"
   ]
  },
  {
   "cell_type": "markdown",
   "id": "470cf3b0",
   "metadata": {},
   "source": [
    "# Try Using PDFminer3"
   ]
  },
  {
   "cell_type": "code",
   "execution_count": 6,
   "id": "eff10c6e",
   "metadata": {},
   "outputs": [],
   "source": [
    "#imports\n",
    "import pandas as pd\n",
    "\n",
    "from pdfminer3.layout import LAParams, LTTextBox\n",
    "from pdfminer3.pdfpage import PDFPage\n",
    "from pdfminer3.pdfinterp import PDFResourceManager\n",
    "from pdfminer3.pdfinterp import PDFPageInterpreter\n",
    "from pdfminer3.converter import PDFPageAggregator\n",
    "from pdfminer3.converter import TextConverter\n",
    "import io"
   ]
  },
  {
   "cell_type": "code",
   "execution_count": 247,
   "id": "011a9d2f",
   "metadata": {},
   "outputs": [
    {
     "name": "stdout",
     "output_type": "stream",
     "text": [
      "                COUNTY OF MAVERICK 293RD DISTRICT COURT CIVIL PENDING CASES AS OF 01/19/2022\n",
      "\n",
      "                                           RAN ON JANUARY 19, 2022 09:02am PAGE: 1\n",
      "\n",
      "        CAUSE #             FILE DATE CAUSE OF ACTION           DOCKT DATE  DOCKET TYPE       ANS FILED  CR CASE #\n",
      "\n",
      "PLAINTIFF NAME                PLAINTIFF ATTORNEY        DEFENDANT NAME                DEFENDANT ATTORNEY\n",
      "\n",
      "        7815-OTH           02/22/1985 1                                                                  \n",
      "\n",
      "        ATTORNEY GENERAL              MARIA LARSON              MENDEZ, CARLOS GILBERTO                            \n",
      "        MENDEZ, OLGA LIDIA                                                                                         \n",
      "        -------------------------------------------------------------------------------------------------------------\n",
      "        90-11-10256-CV     11/08/1990 1                                                                  \n",
      "\n",
      "        ATTORNEY GENERAL              ROLANDO MENCHACA          MARTINEZ, HECTOR RENE                              \n",
      "        MARTINEZ, ROSALINDA                                                                                        \n",
      "        -------------------------------------------------------------------------------------------------------------\n",
      "        90-12-10326-CV     12/14/1990 INJURY OR DAMAGE OTHER T                                           \n",
      "\n",
      "        DIAZ CARPENTER, ENRIQUETA     JAY T. KIMBROUGH          BOWLES JR., RUDY              RICHARD TINSMAN      \n",
      "        -------------------------------------------------------------------------------------------------------------\n",
      "        91-06-10598-CV     10/22/1993 MOTION ENFORCEMENT, TO M  09/13/1994  MOTION TO ENFORC             \n",
      "\n",
      "        ATTORNEY GENERAL              ROLANDO MENCHACA          ARROYO, JUAN ANTONIO                               \n",
      "        FUENTES, MARIA EUGENIA                                                                                     \n",
      "        -------------------------------------------------------------------------------------------------------------\n",
      "        95-01-12880-CV     01/05/1995 1                                                                  \n",
      "\n",
      "        ATTORNEY GENERAL              ENRIQUE FERNANDEZ         LARA, HOMERO                                       \n",
      "        LARA, MARIA GUADALUPE                                                                                      \n",
      "        -------------------------------------------------------------------------------------------------------------\n",
      "        96-05-13796-CV     05/08/1996 1                                                                  \n",
      "\n",
      "        ATTORNEY GENERAL              POLLY J BONE              HERNANDEZ, JUAN F.                                 \n",
      "        HERNANDEZ, OLGA E.                                                                                         \n",
      "        -------------------------------------------------------------------------------------------------------------\n",
      "        96-12-14214-CV     12/20/1996 OTHER CIVIL CASES         02/18/1998  WON JURY TRIAL               \n",
      "\n",
      "        THE STATE OF TEXAS            MELISSA DAYLONG           APPROX. 440 POUNDS OF MARIHU                       \n",
      "        -------------------------------------------------------------------------------------------------------------\n",
      "        97-06-14568-CV     06/16/1997 OTHER CIVIL CASES         02/19/1998  WON JURY TRIAL               \n",
      "\n",
      "        NUTMEG INSURANCE COMPANY      LOREN R. SMITH            MANCHA, GUILLERMO             MICHAEL J. BAGLEY    \n",
      "                                                                MARTINEZ, JOHNNY E.                                \n",
      "                                                                MAVERICK COUNTY                                    \n",
      "\n",
      "\f",
      "\n"
     ]
    }
   ],
   "source": [
    "#Set up resource manager to handle pdf content. text, images, etc.\n",
    "resource_manager = PDFResourceManager()\n",
    "\n",
    "#Used to display text\n",
    "fake_file_handle = io.StringIO()\n",
    "\n",
    "#Set up converter\n",
    "converter = TextConverter(resource_manager, fake_file_handle, laparams=LAParams())\n",
    "\n",
    "#Set up page interpreter\n",
    "page_interpreter = PDFPageInterpreter(resource_manager, converter)\n",
    "\n",
    "with open('/Users/johnathonsmith/Downloads/293RDCV.PEND.CASE_1642601189564_-1416322429.pdf', 'rb') as fh:\n",
    "\n",
    "    for page_number, page in enumerate(PDFPage.get_pages(fh,\n",
    "                                  caching=True,\n",
    "                                  maxpages = 14,\n",
    "                                  check_extractable=True)):\n",
    "        #Only read page 1 for now (index = 0)\n",
    "        if page_number == 0:\n",
    "            page_interpreter.process_page(page)\n",
    "\n",
    "    text = fake_file_handle.getvalue()\n",
    "\n",
    "# close open handles\n",
    "converter.close()\n",
    "fake_file_handle.close()\n",
    "\n",
    "print(text)"
   ]
  },
  {
   "cell_type": "code",
   "execution_count": 248,
   "id": "3589af5e",
   "metadata": {},
   "outputs": [
    {
     "name": "stdout",
     "output_type": "stream",
     "text": [
      "'                COUNTY OF MAVERICK 293RD DISTRICT COURT CIVIL PENDING CASES AS OF 01/19/2022\\n\\n                                           RAN ON JANUARY 19, 2022 09:02am PAGE: 1\\n\\n        CAUSE #             FILE DATE CAUSE OF ACTION           DOCKT DATE  DOCKET TYPE       ANS FILED  CR CASE #\\n\\nPLAINTIFF NAME                PLAINTIFF ATTORNEY        DEFENDANT NAME                DEFENDANT ATTORNEY\\n\\n        7815-OTH           02/22/1985 1                                                                  \\n\\n        ATTORNEY GENERAL              MARIA LARSON              MENDEZ, CARLOS GILBERTO                            \\n        MENDEZ, OLGA LIDIA                                                                                         \\n        -------------------------------------------------------------------------------------------------------------\\n        90-11-10256-CV     11/08/1990 1                                                                  \\n\\n        ATTORNEY GENERAL              ROLANDO MENCHACA          MARTINEZ, HECTOR RENE                              \\n        MARTINEZ, ROSALINDA                                                                                        \\n        -------------------------------------------------------------------------------------------------------------\\n        90-12-10326-CV     12/14/1990 INJURY OR DAMAGE OTHER T                                           \\n\\n        DIAZ CARPENTER, ENRIQUETA     JAY T. KIMBROUGH          BOWLES JR., RUDY              RICHARD TINSMAN      \\n        -------------------------------------------------------------------------------------------------------------\\n        91-06-10598-CV     10/22/1993 MOTION ENFORCEMENT, TO M  09/13/1994  MOTION TO ENFORC             \\n\\n        ATTORNEY GENERAL              ROLANDO MENCHACA          ARROYO, JUAN ANTONIO                               \\n        FUENTES, MARIA EUGENIA                                                                                     \\n        -------------------------------------------------------------------------------------------------------------\\n        95-01-12880-CV     01/05/1995 1                                                                  \\n\\n        ATTORNEY GENERAL              ENRIQUE FERNANDEZ         LARA, HOMERO                                       \\n        LARA, MARIA GUADALUPE                                                                                      \\n        -------------------------------------------------------------------------------------------------------------\\n        96-05-13796-CV     05/08/1996 1                                                                  \\n\\n        ATTORNEY GENERAL              POLLY J BONE              HERNANDEZ, JUAN F.                                 \\n        HERNANDEZ, OLGA E.                                                                                         \\n        -------------------------------------------------------------------------------------------------------------\\n        96-12-14214-CV     12/20/1996 OTHER CIVIL CASES         02/18/1998  WON JURY TRIAL               \\n\\n        THE STATE OF TEXAS            MELISSA DAYLONG           APPROX. 440 POUNDS OF MARIHU                       \\n        -------------------------------------------------------------------------------------------------------------\\n        97-06-14568-CV     06/16/1997 OTHER CIVIL CASES         02/19/1998  WON JURY TRIAL               \\n\\n        NUTMEG INSURANCE COMPANY      LOREN R. SMITH            MANCHA, GUILLERMO             MICHAEL J. BAGLEY    \\n                                                                MARTINEZ, JOHNNY E.                                \\n                                                                MAVERICK COUNTY                                    \\n\\n\\x0c'\n"
     ]
    }
   ],
   "source": [
    "#Now try finding places to break it down a bit\n",
    "print(repr(text))"
   ]
  },
  {
   "cell_type": "code",
   "execution_count": 249,
   "id": "52361327",
   "metadata": {},
   "outputs": [
    {
     "name": "stdout",
     "output_type": "stream",
     "text": [
      "'COUNTY OF MAVERICK 293RD DISTRICT COURT CIVIL PENDING CASES AS OF 01/19/2022\\n\\n                                           RAN ON JANUARY 19, 2022 09:02am PAGE: 1\\n\\n        CAUSE #             FILE DATE CAUSE OF ACTION           DOCKT DATE  DOCKET TYPE       ANS FILED  CR CASE #\\n\\nPLAINTIFF NAME                PLAINTIFF ATTORNEY        DEFENDANT NAME                DEFENDANT ATTORNEY\\n\\n        7815-OTH           02/22/1985 1                                                                  \\n\\n        ATTORNEY GENERAL              MARIA LARSON              MENDEZ, CARLOS GILBERTO                            \\n        MENDEZ, OLGA LIDIA                                                                                         \\n        -------------------------------------------------------------------------------------------------------------\\n        90-11-10256-CV     11/08/1990 1                                                                  \\n\\n        ATTORNEY GENERAL              ROLANDO MENCHACA          MARTINEZ, HECTOR RENE                              \\n        MARTINEZ, ROSALINDA                                                                                        \\n        -------------------------------------------------------------------------------------------------------------\\n        90-12-10326-CV     12/14/1990 INJURY OR DAMAGE OTHER T                                           \\n\\n        DIAZ CARPENTER, ENRIQUETA     JAY T. KIMBROUGH          BOWLES JR., RUDY              RICHARD TINSMAN      \\n        -------------------------------------------------------------------------------------------------------------\\n        91-06-10598-CV     10/22/1993 MOTION ENFORCEMENT, TO M  09/13/1994  MOTION TO ENFORC             \\n\\n        ATTORNEY GENERAL              ROLANDO MENCHACA          ARROYO, JUAN ANTONIO                               \\n        FUENTES, MARIA EUGENIA                                                                                     \\n        -------------------------------------------------------------------------------------------------------------\\n        95-01-12880-CV     01/05/1995 1                                                                  \\n\\n        ATTORNEY GENERAL              ENRIQUE FERNANDEZ         LARA, HOMERO                                       \\n        LARA, MARIA GUADALUPE                                                                                      \\n        -------------------------------------------------------------------------------------------------------------\\n        96-05-13796-CV     05/08/1996 1                                                                  \\n\\n        ATTORNEY GENERAL              POLLY J BONE              HERNANDEZ, JUAN F.                                 \\n        HERNANDEZ, OLGA E.                                                                                         \\n        -------------------------------------------------------------------------------------------------------------\\n        96-12-14214-CV     12/20/1996 OTHER CIVIL CASES         02/18/1998  WON JURY TRIAL               \\n\\n        THE STATE OF TEXAS            MELISSA DAYLONG           APPROX. 440 POUNDS OF MARIHU                       \\n        -------------------------------------------------------------------------------------------------------------\\n        97-06-14568-CV     06/16/1997 OTHER CIVIL CASES         02/19/1998  WON JURY TRIAL               \\n\\n        NUTMEG INSURANCE COMPANY      LOREN R. SMITH            MANCHA, GUILLERMO             MICHAEL J. BAGLEY    \\n                                                                MARTINEZ, JOHNNY E.                                \\n                                                                MAVERICK COUNTY'\n"
     ]
    }
   ],
   "source": [
    "#First, strip leading and trailing whitespaces\n",
    "text = text.strip()\n",
    "print(repr(text))"
   ]
  },
  {
   "cell_type": "code",
   "execution_count": 250,
   "id": "f227068c",
   "metadata": {},
   "outputs": [
    {
     "name": "stdout",
     "output_type": "stream",
     "text": [
      "'COUNTY OF MAVERICK 293RD DISTRICT COURT CIVIL PENDING CASES AS OF 01/19/2022\\n\\n                                           RAN ON JANUARY 19, 2022 09:02am PAGE: 1\\n\\n        CAUSE #             FILE DATE CAUSE OF ACTION           DOCKT DATE  DOCKET TYPE       ANS FILED  CR CASE #\\n\\nPLAINTIFF NAME                PLAINTIFF ATTORNEY        DEFENDANT NAME                DEFENDANT ATTORNEY\\n\\n        '\n"
     ]
    }
   ],
   "source": [
    "#Now separate header and body text info\n",
    "\n",
    "#For header\n",
    "header = text[:392]\n",
    "print(repr(header))"
   ]
  },
  {
   "cell_type": "code",
   "execution_count": 251,
   "id": "a7b1f3b3",
   "metadata": {},
   "outputs": [
    {
     "name": "stdout",
     "output_type": "stream",
     "text": [
      "'7815-OTH           02/22/1985 1                                                                  \\n\\n        ATTORNEY GENERAL              MARIA LARSON              MENDEZ, CARLOS GILBERTO                            \\n        MENDEZ, OLGA LIDIA                                                                                         \\n        -------------------------------------------------------------------------------------------------------------\\n        90-11-10256-CV     11/08/1990 1                                                                  \\n\\n        ATTORNEY GENERAL              ROLANDO MENCHACA          MARTINEZ, HECTOR RENE                              \\n        MARTINEZ, ROSALINDA                                                                                        \\n        -------------------------------------------------------------------------------------------------------------\\n        90-12-10326-CV     12/14/1990 INJURY OR DAMAGE OTHER T                                           \\n\\n        DIAZ CARPENTER, ENRIQUETA     JAY T. KIMBROUGH          BOWLES JR., RUDY              RICHARD TINSMAN      \\n        -------------------------------------------------------------------------------------------------------------\\n        91-06-10598-CV     10/22/1993 MOTION ENFORCEMENT, TO M  09/13/1994  MOTION TO ENFORC             \\n\\n        ATTORNEY GENERAL              ROLANDO MENCHACA          ARROYO, JUAN ANTONIO                               \\n        FUENTES, MARIA EUGENIA                                                                                     \\n        -------------------------------------------------------------------------------------------------------------\\n        95-01-12880-CV     01/05/1995 1                                                                  \\n\\n        ATTORNEY GENERAL              ENRIQUE FERNANDEZ         LARA, HOMERO                                       \\n        LARA, MARIA GUADALUPE                                                                                      \\n        -------------------------------------------------------------------------------------------------------------\\n        96-05-13796-CV     05/08/1996 1                                                                  \\n\\n        ATTORNEY GENERAL              POLLY J BONE              HERNANDEZ, JUAN F.                                 \\n        HERNANDEZ, OLGA E.                                                                                         \\n        -------------------------------------------------------------------------------------------------------------\\n        96-12-14214-CV     12/20/1996 OTHER CIVIL CASES         02/18/1998  WON JURY TRIAL               \\n\\n        THE STATE OF TEXAS            MELISSA DAYLONG           APPROX. 440 POUNDS OF MARIHU                       \\n        -------------------------------------------------------------------------------------------------------------\\n        97-06-14568-CV     06/16/1997 OTHER CIVIL CASES         02/19/1998  WON JURY TRIAL               \\n\\n        NUTMEG INSURANCE COMPANY      LOREN R. SMITH            MANCHA, GUILLERMO             MICHAEL J. BAGLEY    \\n                                                                MARTINEZ, JOHNNY E.                                \\n                                                                MAVERICK COUNTY'\n"
     ]
    }
   ],
   "source": [
    "#For body\n",
    "text = text[392:]\n",
    "print(repr(text))"
   ]
  },
  {
   "cell_type": "code",
   "execution_count": 252,
   "id": "3ac6a5b5",
   "metadata": {},
   "outputs": [
    {
     "data": {
      "text/plain": [
       "['7815-OTH           02/22/1985 1                                                                  \\n\\n        ATTORNEY GENERAL              MARIA LARSON              MENDEZ, CARLOS GILBERTO                            \\n        MENDEZ, OLGA LIDIA                                                                                         \\n        ',\n",
       " '\\n        90-11-10256-CV     11/08/1990 1                                                                  \\n\\n        ATTORNEY GENERAL              ROLANDO MENCHACA          MARTINEZ, HECTOR RENE                              \\n        MARTINEZ, ROSALINDA                                                                                        \\n        ',\n",
       " '\\n        90-12-10326-CV     12/14/1990 INJURY OR DAMAGE OTHER T                                           \\n\\n        DIAZ CARPENTER, ENRIQUETA     JAY T. KIMBROUGH          BOWLES JR., RUDY              RICHARD TINSMAN      \\n        ',\n",
       " '\\n        91-06-10598-CV     10/22/1993 MOTION ENFORCEMENT, TO M  09/13/1994  MOTION TO ENFORC             \\n\\n        ATTORNEY GENERAL              ROLANDO MENCHACA          ARROYO, JUAN ANTONIO                               \\n        FUENTES, MARIA EUGENIA                                                                                     \\n        ',\n",
       " '\\n        95-01-12880-CV     01/05/1995 1                                                                  \\n\\n        ATTORNEY GENERAL              ENRIQUE FERNANDEZ         LARA, HOMERO                                       \\n        LARA, MARIA GUADALUPE                                                                                      \\n        ',\n",
       " '\\n        96-05-13796-CV     05/08/1996 1                                                                  \\n\\n        ATTORNEY GENERAL              POLLY J BONE              HERNANDEZ, JUAN F.                                 \\n        HERNANDEZ, OLGA E.                                                                                         \\n        ',\n",
       " '\\n        96-12-14214-CV     12/20/1996 OTHER CIVIL CASES         02/18/1998  WON JURY TRIAL               \\n\\n        THE STATE OF TEXAS            MELISSA DAYLONG           APPROX. 440 POUNDS OF MARIHU                       \\n        ',\n",
       " '\\n        97-06-14568-CV     06/16/1997 OTHER CIVIL CASES         02/19/1998  WON JURY TRIAL               \\n\\n        NUTMEG INSURANCE COMPANY      LOREN R. SMITH            MANCHA, GUILLERMO             MICHAEL J. BAGLEY    \\n                                                                MARTINEZ, JOHNNY E.                                \\n                                                                MAVERICK COUNTY']"
      ]
     },
     "execution_count": 252,
     "metadata": {},
     "output_type": "execute_result"
    }
   ],
   "source": [
    "#Now split each case by the dashed lines\n",
    "cases = text.split('-------------------------------------------------------------------------------------------------------------')\n",
    "cases"
   ]
  },
  {
   "cell_type": "code",
   "execution_count": 303,
   "id": "3f1d64ce",
   "metadata": {},
   "outputs": [
    {
     "data": {
      "text/plain": [
       "8"
      ]
     },
     "execution_count": 303,
     "metadata": {},
     "output_type": "execute_result"
    }
   ],
   "source": [
    "len(cases)"
   ]
  },
  {
   "cell_type": "code",
   "execution_count": 253,
   "id": "ef3b6cf4",
   "metadata": {},
   "outputs": [
    {
     "name": "stdout",
     "output_type": "stream",
     "text": [
      "'\\n        90-11-10256-CV     11/08/1990 1                                                                  \\n\\n        ATTORNEY GENERAL              ROLANDO MENCHACA          MARTINEZ, HECTOR RENE                              \\n        MARTINEZ, ROSALINDA                                                                                        \\n        '\n"
     ]
    }
   ],
   "source": [
    "#Only work with one case for now\n",
    "test_case = cases[1]\n",
    "print(repr(test_case))"
   ]
  },
  {
   "cell_type": "code",
   "execution_count": 254,
   "id": "3b59ea1d",
   "metadata": {},
   "outputs": [
    {
     "name": "stdout",
     "output_type": "stream",
     "text": [
      "'90-11-10256-CV     11/08/1990 1                                                                  \\n\\n        ATTORNEY GENERAL              ROLANDO MENCHACA          MARTINEZ, HECTOR RENE                              \\n        MARTINEZ, ROSALINDA                                                                                        \\n        '\n"
     ]
    }
   ],
   "source": [
    "#Strip the leading white space\n",
    "test_case = test_case.lstrip()\n",
    "print(repr(test_case))"
   ]
  },
  {
   "cell_type": "code",
   "execution_count": 255,
   "id": "dfbc1121",
   "metadata": {},
   "outputs": [],
   "source": [
    "#Try splitting on the new lines\n",
    "case_info = test_case.split('\\n')"
   ]
  },
  {
   "cell_type": "code",
   "execution_count": 304,
   "id": "b9f240d5",
   "metadata": {},
   "outputs": [
    {
     "data": {
      "text/plain": [
       "5"
      ]
     },
     "execution_count": 304,
     "metadata": {},
     "output_type": "execute_result"
    }
   ],
   "source": [
    "len(case_info)"
   ]
  },
  {
   "cell_type": "code",
   "execution_count": 256,
   "id": "a0d4986d",
   "metadata": {},
   "outputs": [
    {
     "data": {
      "text/plain": [
       "'90-11-10256-CV     11/08/1990 1                                                                  '"
      ]
     },
     "execution_count": 256,
     "metadata": {},
     "output_type": "execute_result"
    }
   ],
   "source": [
    "#I can isolate the cause number, file date, cause of action, docket date, docket type, \n",
    "#ans filed date, and cr number from here\n",
    "case_info[0]"
   ]
  },
  {
   "cell_type": "code",
   "execution_count": 257,
   "id": "27603ef5",
   "metadata": {},
   "outputs": [
    {
     "data": {
      "text/plain": [
       "'11/08/1990 1                                                                  '"
      ]
     },
     "execution_count": 257,
     "metadata": {},
     "output_type": "execute_result"
    }
   ],
   "source": [
    "#Date starts 19 characters in.\n",
    "case_info[0][19:]"
   ]
  },
  {
   "cell_type": "code",
   "execution_count": 258,
   "id": "ffcf1eff",
   "metadata": {},
   "outputs": [
    {
     "data": {
      "text/plain": [
       "'1                                                                  '"
      ]
     },
     "execution_count": 258,
     "metadata": {},
     "output_type": "execute_result"
    }
   ],
   "source": [
    "#Cause of action start 30 characters in\n",
    "case_info[0][30:]"
   ]
  },
  {
   "cell_type": "code",
   "execution_count": 259,
   "id": "e2a2ee80",
   "metadata": {},
   "outputs": [
    {
     "data": {
      "text/plain": [
       "'                                         '"
      ]
     },
     "execution_count": 259,
     "metadata": {},
     "output_type": "execute_result"
    }
   ],
   "source": [
    "#Docket date starts 56 characters in\n",
    "case_info[0][56:]"
   ]
  },
  {
   "cell_type": "code",
   "execution_count": 260,
   "id": "a556bc27",
   "metadata": {},
   "outputs": [
    {
     "data": {
      "text/plain": [
       "'                             '"
      ]
     },
     "execution_count": 260,
     "metadata": {},
     "output_type": "execute_result"
    }
   ],
   "source": [
    "#Docket type starts 68 characters in\n",
    "case_info[0][68:]"
   ]
  },
  {
   "cell_type": "code",
   "execution_count": 261,
   "id": "d2e71f97",
   "metadata": {},
   "outputs": [
    {
     "data": {
      "text/plain": [
       "'           '"
      ]
     },
     "execution_count": 261,
     "metadata": {},
     "output_type": "execute_result"
    }
   ],
   "source": [
    "#ANS Filed date starts 86 characters in\n",
    "case_info[0][86:]"
   ]
  },
  {
   "cell_type": "code",
   "execution_count": 262,
   "id": "936db716",
   "metadata": {},
   "outputs": [
    {
     "data": {
      "text/plain": [
       "' '"
      ]
     },
     "execution_count": 262,
     "metadata": {},
     "output_type": "execute_result"
    }
   ],
   "source": [
    "#CR number starts after 96 characters on the first line\n",
    "case_info[0][96:]"
   ]
  },
  {
   "cell_type": "code",
   "execution_count": 263,
   "id": "f44077d3",
   "metadata": {},
   "outputs": [
    {
     "data": {
      "text/plain": [
       "''"
      ]
     },
     "execution_count": 263,
     "metadata": {},
     "output_type": "execute_result"
    }
   ],
   "source": [
    "#Appears to be an extra new line\n",
    "case_info[1]"
   ]
  },
  {
   "cell_type": "code",
   "execution_count": 264,
   "id": "6841ebe5",
   "metadata": {},
   "outputs": [
    {
     "data": {
      "text/plain": [
       "'ATTORNEY GENERAL              ROLANDO MENCHACA          MARTINEZ, HECTOR RENE                              '"
      ]
     },
     "execution_count": 264,
     "metadata": {},
     "output_type": "execute_result"
    }
   ],
   "source": [
    "#The first line of names starts 8 characters in. This should be the same for each case\n",
    "case_info[2][8:]"
   ]
  },
  {
   "cell_type": "markdown",
   "id": "b20126b6",
   "metadata": {},
   "source": [
    "__Name Spacing__\n",
    "\n",
    "The names appear to all start at the same place every time. Here is what I have found:\n",
    "\n",
    "* Plaintiff Name: 8 Characters in\n",
    "* Plaintiff Attorney: 38 Characters in\n",
    "* Defendant Name: 64 Characters in\n",
    "* Defendant Attorney: 94 Characters in\n",
    "\n",
    "These numbers seem consistent regardless of what line they appear on."
   ]
  },
  {
   "cell_type": "code",
   "execution_count": 265,
   "id": "e792fc89",
   "metadata": {},
   "outputs": [
    {
     "data": {
      "text/plain": [
       "'ROLANDO MENCHACA          MARTINEZ, HECTOR RENE                              '"
      ]
     },
     "execution_count": 265,
     "metadata": {},
     "output_type": "execute_result"
    }
   ],
   "source": [
    "#The second name starts 38 characters in. I hope this is the same for all of them\n",
    "case_info[2][38:]"
   ]
  },
  {
   "cell_type": "code",
   "execution_count": 266,
   "id": "6a20ccc9",
   "metadata": {},
   "outputs": [
    {
     "data": {
      "text/plain": [
       "'MARTINEZ, HECTOR RENE                              '"
      ]
     },
     "execution_count": 266,
     "metadata": {},
     "output_type": "execute_result"
    }
   ],
   "source": [
    "#The third name starts 64 characters in. I hope this is also the same for all of them\n",
    "case_info[2][64:]"
   ]
  },
  {
   "cell_type": "code",
   "execution_count": 267,
   "id": "4afcc84c",
   "metadata": {},
   "outputs": [
    {
     "data": {
      "text/plain": [
       "'                     '"
      ]
     },
     "execution_count": 267,
     "metadata": {},
     "output_type": "execute_result"
    }
   ],
   "source": [
    "#The fourth name starts 94 characters in\n",
    "case_info[2][94:]"
   ]
  },
  {
   "cell_type": "code",
   "execution_count": 268,
   "id": "77cc161d",
   "metadata": {},
   "outputs": [
    {
     "data": {
      "text/plain": [
       "'        MARTINEZ, ROSALINDA                                                                                        '"
      ]
     },
     "execution_count": 268,
     "metadata": {},
     "output_type": "execute_result"
    }
   ],
   "source": [
    "case_info[3]"
   ]
  },
  {
   "cell_type": "code",
   "execution_count": 269,
   "id": "9931e0b4",
   "metadata": {},
   "outputs": [
    {
     "data": {
      "text/plain": [
       "'MARTINEZ, ROSALINDA                                                                                        '"
      ]
     },
     "execution_count": 269,
     "metadata": {},
     "output_type": "execute_result"
    }
   ],
   "source": [
    "#The second plaintiff name starts 8 characters in. This should be the same for each case\n",
    "case_info[3][8:]"
   ]
  },
  {
   "cell_type": "code",
   "execution_count": 270,
   "id": "28cfd308",
   "metadata": {},
   "outputs": [
    {
     "data": {
      "text/plain": [
       "'                                                   '"
      ]
     },
     "execution_count": 270,
     "metadata": {},
     "output_type": "execute_result"
    }
   ],
   "source": [
    "#The second defendant name starts 64 characters in.\n",
    "case_info[3][64:]"
   ]
  },
  {
   "cell_type": "markdown",
   "id": "4cc64d60",
   "metadata": {},
   "source": [
    "# Start Isolating Info\n",
    "\n",
    "Isolate the case info and add it to a temp dict. When complete the temp dict will be appended to the container dictionary. Finally, when the info for each case has been extracted, convert the container dict to a dataframe."
   ]
  },
  {
   "cell_type": "code",
   "execution_count": 271,
   "id": "1e06340e",
   "metadata": {},
   "outputs": [],
   "source": [
    "#Create a container dict to store all case info\n",
    "container_dict = {}\n",
    "\n",
    "#Create a temp dict that stores individual case info\n",
    "case_dict = {}"
   ]
  },
  {
   "cell_type": "markdown",
   "id": "8ef172df",
   "metadata": {},
   "source": [
    "__County__\n",
    "\n",
    "The county name will be found in the header info of each page. The easiest way I can think to isolate the county is to just use an if statement and check for each county name in the header text. There should only be one match, so it should be fine. Possible counties: Maverick, Dimmit, Zavala"
   ]
  },
  {
   "cell_type": "code",
   "execution_count": 272,
   "id": "e9319536",
   "metadata": {},
   "outputs": [
    {
     "data": {
      "text/plain": [
       "'COUNTY OF MAVERICK 293RD DISTRICT COURT CIVIL PENDING CASES AS OF 01/19/2022\\n\\n                                           RAN ON JANUARY 19, 2022 09:02am PAGE: 1\\n\\n        CAUSE #             FILE DATE CAUSE OF ACTION           DOCKT DATE  DOCKET TYPE       ANS FILED  CR CASE #\\n\\nPLAINTIFF NAME                PLAINTIFF ATTORNEY        DEFENDANT NAME                DEFENDANT ATTORNEY\\n\\n        '"
      ]
     },
     "execution_count": 272,
     "metadata": {},
     "output_type": "execute_result"
    }
   ],
   "source": [
    "header"
   ]
  },
  {
   "cell_type": "code",
   "execution_count": 273,
   "id": "f3c6e048",
   "metadata": {},
   "outputs": [
    {
     "data": {
      "text/plain": [
       "'Maverick'"
      ]
     },
     "execution_count": 273,
     "metadata": {},
     "output_type": "execute_result"
    }
   ],
   "source": [
    "#Use if statement to check for county names inside the header info\n",
    "if header.count('MAVERICK') >= 1:\n",
    "    county = 'Maverick'\n",
    "elif header.count('DIMMIT') >= 1:\n",
    "    county = 'Dimmit'\n",
    "elif header.count('ZAVALA') >= 1:\n",
    "    county = 'Zavala'\n",
    "else:\n",
    "    county = 'Something went wrong!'\n",
    "    \n",
    "county"
   ]
  },
  {
   "cell_type": "code",
   "execution_count": 274,
   "id": "b04f759d",
   "metadata": {},
   "outputs": [],
   "source": [
    "#Add to dict\n",
    "case_dict['County'] = county"
   ]
  },
  {
   "cell_type": "markdown",
   "id": "53f61811",
   "metadata": {},
   "source": [
    "__Cause Number__"
   ]
  },
  {
   "cell_type": "code",
   "execution_count": 275,
   "id": "b0f21e2c",
   "metadata": {},
   "outputs": [
    {
     "data": {
      "text/plain": [
       "'90-11-10256-CV'"
      ]
     },
     "execution_count": 275,
     "metadata": {},
     "output_type": "execute_result"
    }
   ],
   "source": [
    "#Get the cause number\n",
    "cause_num = case_info[0][:19].strip()\n",
    "cause_num"
   ]
  },
  {
   "cell_type": "code",
   "execution_count": 276,
   "id": "0119f4a1",
   "metadata": {},
   "outputs": [],
   "source": [
    "#Add to dict\n",
    "case_dict['Cause Number'] = cause_num"
   ]
  },
  {
   "cell_type": "markdown",
   "id": "69ae010c",
   "metadata": {},
   "source": [
    "__File Date__"
   ]
  },
  {
   "cell_type": "code",
   "execution_count": 277,
   "id": "1a6b8f2c",
   "metadata": {},
   "outputs": [
    {
     "data": {
      "text/plain": [
       "'11/08/1990'"
      ]
     },
     "execution_count": 277,
     "metadata": {},
     "output_type": "execute_result"
    }
   ],
   "source": [
    "file_date = case_info[0][15:30].strip()\n",
    "file_date"
   ]
  },
  {
   "cell_type": "code",
   "execution_count": 278,
   "id": "d7917f9d",
   "metadata": {},
   "outputs": [],
   "source": [
    "#Add to dict\n",
    "case_dict['File Date'] = file_date"
   ]
  },
  {
   "cell_type": "markdown",
   "id": "7b8fb353",
   "metadata": {},
   "source": [
    "__Cause of Action__"
   ]
  },
  {
   "cell_type": "code",
   "execution_count": 279,
   "id": "8f695e67",
   "metadata": {},
   "outputs": [
    {
     "data": {
      "text/plain": [
       "'1'"
      ]
     },
     "execution_count": 279,
     "metadata": {},
     "output_type": "execute_result"
    }
   ],
   "source": [
    "coa = case_info[0][30:56].strip()\n",
    "coa"
   ]
  },
  {
   "cell_type": "code",
   "execution_count": 280,
   "id": "9b498197",
   "metadata": {},
   "outputs": [],
   "source": [
    "#Add to dict\n",
    "case_dict['Cause of Action'] = coa"
   ]
  },
  {
   "cell_type": "markdown",
   "id": "4de0dd2f",
   "metadata": {},
   "source": [
    "__Docket Date__"
   ]
  },
  {
   "cell_type": "code",
   "execution_count": 281,
   "id": "38760b11",
   "metadata": {},
   "outputs": [
    {
     "data": {
      "text/plain": [
       "''"
      ]
     },
     "execution_count": 281,
     "metadata": {},
     "output_type": "execute_result"
    }
   ],
   "source": [
    "docket_date = case_info[0][56:68].strip()\n",
    "docket_date"
   ]
  },
  {
   "cell_type": "code",
   "execution_count": 282,
   "id": "2440303d",
   "metadata": {},
   "outputs": [],
   "source": [
    "#Add to dict\n",
    "case_dict['Docket Date'] = docket_date"
   ]
  },
  {
   "cell_type": "markdown",
   "id": "cf137de5",
   "metadata": {},
   "source": [
    "__Docket Type__"
   ]
  },
  {
   "cell_type": "code",
   "execution_count": 283,
   "id": "ddf5dd45",
   "metadata": {},
   "outputs": [
    {
     "data": {
      "text/plain": [
       "''"
      ]
     },
     "execution_count": 283,
     "metadata": {},
     "output_type": "execute_result"
    }
   ],
   "source": [
    "docket_type = case_info[0][68:86].strip()\n",
    "docket_type"
   ]
  },
  {
   "cell_type": "code",
   "execution_count": 284,
   "id": "d665edb5",
   "metadata": {},
   "outputs": [],
   "source": [
    "#Add to dict\n",
    "case_dict['Docket Type'] = docket_type"
   ]
  },
  {
   "cell_type": "markdown",
   "id": "5374707e",
   "metadata": {},
   "source": [
    "__ANS File Date__"
   ]
  },
  {
   "cell_type": "code",
   "execution_count": 285,
   "id": "d8234c9e",
   "metadata": {},
   "outputs": [
    {
     "data": {
      "text/plain": [
       "''"
      ]
     },
     "execution_count": 285,
     "metadata": {},
     "output_type": "execute_result"
    }
   ],
   "source": [
    "ans_date = case_info[0][86:].strip()\n",
    "ans_date"
   ]
  },
  {
   "cell_type": "code",
   "execution_count": 286,
   "id": "6c755dfa",
   "metadata": {},
   "outputs": [],
   "source": [
    "#Add to dict\n",
    "case_dict['ANS Filed'] = ans_date"
   ]
  },
  {
   "cell_type": "markdown",
   "id": "ed683349",
   "metadata": {},
   "source": [
    "__CR Number__"
   ]
  },
  {
   "cell_type": "code",
   "execution_count": 287,
   "id": "181d3ba2",
   "metadata": {},
   "outputs": [
    {
     "data": {
      "text/plain": [
       "''"
      ]
     },
     "execution_count": 287,
     "metadata": {},
     "output_type": "execute_result"
    }
   ],
   "source": [
    "cr_num = case_info[0][96:].strip()\n",
    "cr_num"
   ]
  },
  {
   "cell_type": "code",
   "execution_count": 288,
   "id": "23f022bd",
   "metadata": {},
   "outputs": [],
   "source": [
    "#Add to dict\n",
    "case_dict['CR Number'] = cr_num"
   ]
  },
  {
   "cell_type": "markdown",
   "id": "b8eb57c9",
   "metadata": {},
   "source": [
    "__Names__\n",
    "\n",
    "The next few entries will be tricky. If there is more than one name associated with each label (plaintiff name, plaintiff attorney, defendant name, defendant attorney), then there will be more than one line of names. In my function, I'll have to set up a loop that can accurately pick up all of the names. For now, I'll make each label a list of names. If it needs to be changed to a string of names later, I can do that too. I'll also have to build a function that checks to see if each segment is composed entirely of whitespace. That way, if it is, we know there isn't a name for that particular label. "
   ]
  },
  {
   "cell_type": "code",
   "execution_count": 289,
   "id": "99115761",
   "metadata": {},
   "outputs": [],
   "source": [
    "#Will need to set up the lists before the loop. They will be added to the dict after the loop\n",
    "plaintiff_names = []\n",
    "plaintiff_attorneys = []\n",
    "defendant_names = []\n",
    "defendant_attorneys = []\n",
    "\n",
    "#The names always start on the third line (index = 2)\n",
    "for i in range(2, len(case_info)):\n",
    "    #Get the plaintiff name on current line\n",
    "    plaintiff_name = case_info[i][:38]\n",
    "    \n",
    "    #Check if plaintiff_name is all whitesapace. If not, strip it and add to names list\n",
    "    #Also check that the string is not empty\n",
    "    if plaintiff_name.isspace() == False and len(plaintiff_name) > 0:\n",
    "        plaintiff_names.append(plaintiff_name.strip())\n",
    "        \n",
    "    #Get the plaintiff attorney on current line\n",
    "    plaintiff_attorney = case_info[i][38:64]\n",
    "    \n",
    "    #Check if plaintiff_attorney is all whitespace. If not, strip it and add to list\n",
    "    #Also check that the string is not empty\n",
    "    if plaintiff_attorney.isspace() == False and len(plaintiff_attorney) > 0:\n",
    "        plaintiff_attorneys.append(plaintiff_attorney.strip())\n",
    "        \n",
    "    #Get the defendant name on current line\n",
    "    defendant_name = case_info[i][64:94]\n",
    "    \n",
    "    #Check if defendant_name is all whitespace. If not, strip it and add to list\n",
    "    #Also check that the string is not empty\n",
    "    if defendant_name.isspace() == False and len(defendant_name) > 0:\n",
    "        defendant_names.append(defendant_name.strip())\n",
    "    \n",
    "    #Get the defendant attorney on current line\n",
    "    defendant_attorney = case_info[i][94:]\n",
    "    \n",
    "    #Check if the defendant_attorney is all whitespace. If not, strip it and add to list\n",
    "    #Also check that the string is not empty\n",
    "    if defendant_attorney.isspace() == False and len(defendant_attorney) > 0:\n",
    "        defendant_attorneys.append(defendant_attorney.strip())"
   ]
  },
  {
   "cell_type": "code",
   "execution_count": 290,
   "id": "a67d2f2f",
   "metadata": {},
   "outputs": [],
   "source": [
    "#Now add all names to the dict\n",
    "case_dict['Plaintiff Name'] = plaintiff_names\n",
    "case_dict['Plaintiff Attorney'] = plaintiff_attorneys\n",
    "case_dict['Defendant Name'] = defendant_names\n",
    "case_dict['Defendant Attorney'] = defendant_attorneys"
   ]
  },
  {
   "cell_type": "code",
   "execution_count": 291,
   "id": "06849270",
   "metadata": {},
   "outputs": [
    {
     "data": {
      "text/plain": [
       "{'County': 'Maverick',\n",
       " 'Cause Number': '90-11-10256-CV',\n",
       " 'File Date': '11/08/1990',\n",
       " 'Cause of Action': '1',\n",
       " 'Docket Date': '',\n",
       " 'Docket Type': '',\n",
       " 'ANS Filed': '',\n",
       " 'CR Number': '',\n",
       " 'Plaintiff Name': ['ATTORNEY GENERAL', 'MARTINEZ, ROSALINDA'],\n",
       " 'Plaintiff Attorney': ['ROLANDO MENCHACA'],\n",
       " 'Defendant Name': ['MARTINEZ, HECTOR RENE'],\n",
       " 'Defendant Attorney': []}"
      ]
     },
     "execution_count": 291,
     "metadata": {},
     "output_type": "execute_result"
    }
   ],
   "source": [
    "case_dict"
   ]
  },
  {
   "cell_type": "markdown",
   "id": "3b89feab",
   "metadata": {},
   "source": [
    "# Automate Process\n",
    "\n",
    "Now that I can gather all available info for any single case on a page, build a function that can retrieve it all for all cases on all pages. Then convert the data to a dataframe and return it."
   ]
  },
  {
   "cell_type": "code",
   "execution_count": 299,
   "id": "d8645c04",
   "metadata": {},
   "outputs": [],
   "source": [
    "def extract_pdf_data(text):\n",
    "    \"\"\"\n",
    "    This function takes in a page of text from a pdf file. It will extract all available information for each case on\n",
    "    the page, put it all into dictionaries, and then return a list containing the other dictionaries for each\n",
    "    case.\n",
    "    \n",
    "    Parameter:\n",
    "        - text: The text of a single pdf page.\n",
    "        \n",
    "    Returns:\n",
    "        - cases: A list containing the dictionaries of all cases.\n",
    "    \"\"\"\n",
    "    \n",
    "    #Set up the container list\n",
    "    case_dicts = []\n",
    "    \n",
    "    #First, strip leading and trailing whitespaces\n",
    "    text = text.strip()\n",
    "    \n",
    "    #Separate header and body text data\n",
    "    #For header\n",
    "    header = text[:392]\n",
    "    \n",
    "    #For body\n",
    "    text = text[392:]\n",
    "    \n",
    "    #Use if statement to check for county names inside the header info\n",
    "    if header.count('MAVERICK') >= 1:\n",
    "        county = 'Maverick'\n",
    "    elif header.count('DIMMIT') >= 1:\n",
    "        county = 'Dimmit'\n",
    "    elif header.count('ZAVALA') >= 1:\n",
    "        county = 'Zavala'\n",
    "    else:\n",
    "        county = 'Something went wrong!'\n",
    "    \n",
    "    #Now split each case by the dashed lines\n",
    "    cases = text.split('-------------------------------------------------------------------------------------------------------------')\n",
    "    \n",
    "    #Initialize the temp dict\n",
    "    temp_dict = {}\n",
    "    \n",
    "    #Loop through each case and build a dictionary with its info\n",
    "    for case in cases:\n",
    "        \n",
    "        #Strip the leading whitesapces only\n",
    "        case.lstrip()\n",
    "        \n",
    "        #Split on the new lines. \n",
    "        case_info = case.split('\\n')\n",
    "        \n",
    "        #Get the cause number\n",
    "        cause_num = case_info[0][:19].strip()\n",
    "        \n",
    "        #Get the file date\n",
    "        file_date = case_info[0][15:30].strip()\n",
    "        \n",
    "        #Get the Cause of Action\n",
    "        coa = case_info[0][30:56].strip()\n",
    "        \n",
    "        #Get the docket_date\n",
    "        docket_date = case_info[0][56:68].strip()\n",
    "        \n",
    "        #Get the docket type\n",
    "        docket_type = case_info[0][68:86].strip()\n",
    "        \n",
    "        #Get the ANS File\n",
    "        ans_date = case_info[0][86:].strip()\n",
    "        \n",
    "        #Get the CR Number\n",
    "        cr_num = case_info[0][96:].strip()\n",
    "        \n",
    "        #Get the names associated with each label\n",
    "        #Will need to set up the lists before the loop. They will be added to the dict after the loop\n",
    "        plaintiff_names = []\n",
    "        plaintiff_attorneys = []\n",
    "        defendant_names = []\n",
    "        defendant_attorneys = []\n",
    "\n",
    "        #The names always start on the third line (index = 2)\n",
    "        for i in range(2, len(case_info)):\n",
    "            #Get the plaintiff name on current line\n",
    "            plaintiff_name = case_info[i][:38]\n",
    "\n",
    "            #Check if plaintiff_name is all whitesapace. If not, strip it and add to names list\n",
    "            #Also check that the string is not empty\n",
    "            if plaintiff_name.isspace() == False and len(plaintiff_name) > 0:\n",
    "                plaintiff_names.append(plaintiff_name.strip())\n",
    "\n",
    "            #Get the plaintiff attorney on current line\n",
    "            plaintiff_attorney = case_info[i][38:64]\n",
    "\n",
    "            #Check if plaintiff_attorney is all whitespace. If not, strip it and add to list\n",
    "            #Also check that the string is not empty\n",
    "            if plaintiff_attorney.isspace() == False and len(plaintiff_attorney) > 0:\n",
    "                plaintiff_attorneys.append(plaintiff_attorney.strip())\n",
    "\n",
    "            #Get the defendant name on current line\n",
    "            defendant_name = case_info[i][64:94]\n",
    "\n",
    "            #Check if defendant_name is all whitespace. If not, strip it and add to list\n",
    "            #Also check that the string is not empty\n",
    "            if defendant_name.isspace() == False and len(defendant_name) > 0:\n",
    "                defendant_names.append(defendant_name.strip())\n",
    "\n",
    "            #Get the defendant attorney on current line\n",
    "            defendant_attorney = case_info[i][94:]\n",
    "\n",
    "            #Check if the defendant_attorney is all whitespace. If not, strip it and add to list\n",
    "            #Also check that the string is not empty\n",
    "            if defendant_attorney.isspace() == False and len(defendant_attorney) > 0:\n",
    "                defendant_attorneys.append(defendant_attorney.strip())\n",
    "                \n",
    "        #Now put all the info into a temp dict. Check that each entry actually exists though\n",
    "        #If the entry does not exist, just enter None\n",
    "        temp_dict['County'] = county\n",
    "        temp_dict['Cause Number'] = cause_num\n",
    "        temp_dict['File Date'] = file_date\n",
    "        temp_dict['Cause of Action'] = coa\n",
    "        temp_dict['Docket Date'] = docket_date\n",
    "        temp_dict['Docket Type'] = docket_type\n",
    "        temp_dict['ANS File'] = ans_date\n",
    "        temp_dict['CR Number'] = cr_num\n",
    "        temp_dict['Plaintiff Name'] = plaintiff_names\n",
    "        temp_dict['Plaintiff Attorney'] = plaintiff_attorneys\n",
    "        temp_dict['Defendant Name'] = defendant_names\n",
    "        temp_dict['Defendant Attorney'] = defendant_attorneys\n",
    "        \n",
    "        #Finally, append this dictionary to the container dict\n",
    "        case_dicts.append(temp_dict)\n",
    "        \n",
    "    return case_dicts\n",
    "        "
   ]
  },
  {
   "cell_type": "code",
   "execution_count": 307,
   "id": "9d79d469",
   "metadata": {},
   "outputs": [],
   "source": [
    "def build_cases_dataframe(pdf_path):\n",
    "    \"\"\"\n",
    "    This function reads in a pdf and extracts all available information for each case. It then returns a dataframe.\n",
    "    \n",
    "    Parameter:\n",
    "        - pdf_path: The file path for the pdf to be read.\n",
    "        \n",
    "    Returns:\n",
    "        - df: A dataframe of the resulting case information\n",
    "    \"\"\"\n",
    "    \n",
    "    #Set up the container list\n",
    "    container_list = []\n",
    "    \n",
    "    #Set up resource manager to handle pdf content. text, images, etc.\n",
    "    resource_manager = PDFResourceManager()\n",
    "\n",
    "    #Used to display text\n",
    "    fake_file_handle = io.StringIO()\n",
    "\n",
    "    #Set up converter\n",
    "    converter = TextConverter(resource_manager, fake_file_handle, laparams=LAParams())\n",
    "\n",
    "    #Set up page interpreter\n",
    "    page_interpreter = PDFPageInterpreter(resource_manager, converter)\n",
    "\n",
    "    with open(pdf_path, 'rb') as fh:\n",
    "\n",
    "        for page in PDFPage.get_pages(fh, caching=True, maxpages = 1, check_extractable=True):\n",
    "            #Process the current page\n",
    "            page_interpreter.process_page(page)\n",
    "            \n",
    "            #Save the current page's text to a variable\n",
    "            text = fake_file_handle.getvalue()\n",
    "            \n",
    "            #Extract info from current page\n",
    "            case_dicts = extract_pdf_data(text)\n",
    "            \n",
    "            #Extend case_dicts to container_dict\n",
    "            container_list.extend(case_dicts)\n",
    "            \n",
    "            #Reset fake_file_handle\n",
    "            fake_file_handle.truncate(0)\n",
    "\n",
    "    # close open handles\n",
    "    converter.close()\n",
    "    fake_file_handle.close()\n",
    "    \n",
    "    #Build dataframe\n",
    "    df = pd.DataFrame(container_list)\n",
    "    \n",
    "    return df"
   ]
  },
  {
   "cell_type": "code",
   "execution_count": 308,
   "id": "44f96b02",
   "metadata": {},
   "outputs": [],
   "source": [
    "#For testing\n",
    "df = build_cases_dataframe('/Users/johnathonsmith/Downloads/293RDCV.PEND.CASE_1642601189564_-1416322429.pdf')"
   ]
  },
  {
   "cell_type": "code",
   "execution_count": 309,
   "id": "d73bab8e",
   "metadata": {},
   "outputs": [
    {
     "data": {
      "text/html": [
       "<div>\n",
       "<style scoped>\n",
       "    .dataframe tbody tr th:only-of-type {\n",
       "        vertical-align: middle;\n",
       "    }\n",
       "\n",
       "    .dataframe tbody tr th {\n",
       "        vertical-align: top;\n",
       "    }\n",
       "\n",
       "    .dataframe thead th {\n",
       "        text-align: right;\n",
       "    }\n",
       "</style>\n",
       "<table border=\"1\" class=\"dataframe\">\n",
       "  <thead>\n",
       "    <tr style=\"text-align: right;\">\n",
       "      <th></th>\n",
       "      <th>County</th>\n",
       "      <th>Cause Number</th>\n",
       "      <th>File Date</th>\n",
       "      <th>Cause of Action</th>\n",
       "      <th>Docket Date</th>\n",
       "      <th>Docket Type</th>\n",
       "      <th>ANS File</th>\n",
       "      <th>CR Number</th>\n",
       "      <th>Plaintiff Name</th>\n",
       "      <th>Plaintiff Attorney</th>\n",
       "      <th>Defendant Name</th>\n",
       "      <th>Defendant Attorney</th>\n",
       "    </tr>\n",
       "  </thead>\n",
       "  <tbody>\n",
       "    <tr>\n",
       "      <th>0</th>\n",
       "      <td>Maverick</td>\n",
       "      <td></td>\n",
       "      <td></td>\n",
       "      <td></td>\n",
       "      <td></td>\n",
       "      <td></td>\n",
       "      <td></td>\n",
       "      <td></td>\n",
       "      <td>[NUTMEG INSURANCE COMPANY]</td>\n",
       "      <td>[LOREN R. SMITH]</td>\n",
       "      <td>[MANCHA, GUILLERMO, MARTINEZ, JOHNNY E., MAVER...</td>\n",
       "      <td>[MICHAEL J. BAGLEY]</td>\n",
       "    </tr>\n",
       "    <tr>\n",
       "      <th>1</th>\n",
       "      <td>Maverick</td>\n",
       "      <td></td>\n",
       "      <td></td>\n",
       "      <td></td>\n",
       "      <td></td>\n",
       "      <td></td>\n",
       "      <td></td>\n",
       "      <td></td>\n",
       "      <td>[NUTMEG INSURANCE COMPANY]</td>\n",
       "      <td>[LOREN R. SMITH]</td>\n",
       "      <td>[MANCHA, GUILLERMO, MARTINEZ, JOHNNY E., MAVER...</td>\n",
       "      <td>[MICHAEL J. BAGLEY]</td>\n",
       "    </tr>\n",
       "    <tr>\n",
       "      <th>2</th>\n",
       "      <td>Maverick</td>\n",
       "      <td></td>\n",
       "      <td></td>\n",
       "      <td></td>\n",
       "      <td></td>\n",
       "      <td></td>\n",
       "      <td></td>\n",
       "      <td></td>\n",
       "      <td>[NUTMEG INSURANCE COMPANY]</td>\n",
       "      <td>[LOREN R. SMITH]</td>\n",
       "      <td>[MANCHA, GUILLERMO, MARTINEZ, JOHNNY E., MAVER...</td>\n",
       "      <td>[MICHAEL J. BAGLEY]</td>\n",
       "    </tr>\n",
       "    <tr>\n",
       "      <th>3</th>\n",
       "      <td>Maverick</td>\n",
       "      <td></td>\n",
       "      <td></td>\n",
       "      <td></td>\n",
       "      <td></td>\n",
       "      <td></td>\n",
       "      <td></td>\n",
       "      <td></td>\n",
       "      <td>[NUTMEG INSURANCE COMPANY]</td>\n",
       "      <td>[LOREN R. SMITH]</td>\n",
       "      <td>[MANCHA, GUILLERMO, MARTINEZ, JOHNNY E., MAVER...</td>\n",
       "      <td>[MICHAEL J. BAGLEY]</td>\n",
       "    </tr>\n",
       "    <tr>\n",
       "      <th>4</th>\n",
       "      <td>Maverick</td>\n",
       "      <td></td>\n",
       "      <td></td>\n",
       "      <td></td>\n",
       "      <td></td>\n",
       "      <td></td>\n",
       "      <td></td>\n",
       "      <td></td>\n",
       "      <td>[NUTMEG INSURANCE COMPANY]</td>\n",
       "      <td>[LOREN R. SMITH]</td>\n",
       "      <td>[MANCHA, GUILLERMO, MARTINEZ, JOHNNY E., MAVER...</td>\n",
       "      <td>[MICHAEL J. BAGLEY]</td>\n",
       "    </tr>\n",
       "    <tr>\n",
       "      <th>5</th>\n",
       "      <td>Maverick</td>\n",
       "      <td></td>\n",
       "      <td></td>\n",
       "      <td></td>\n",
       "      <td></td>\n",
       "      <td></td>\n",
       "      <td></td>\n",
       "      <td></td>\n",
       "      <td>[NUTMEG INSURANCE COMPANY]</td>\n",
       "      <td>[LOREN R. SMITH]</td>\n",
       "      <td>[MANCHA, GUILLERMO, MARTINEZ, JOHNNY E., MAVER...</td>\n",
       "      <td>[MICHAEL J. BAGLEY]</td>\n",
       "    </tr>\n",
       "    <tr>\n",
       "      <th>6</th>\n",
       "      <td>Maverick</td>\n",
       "      <td></td>\n",
       "      <td></td>\n",
       "      <td></td>\n",
       "      <td></td>\n",
       "      <td></td>\n",
       "      <td></td>\n",
       "      <td></td>\n",
       "      <td>[NUTMEG INSURANCE COMPANY]</td>\n",
       "      <td>[LOREN R. SMITH]</td>\n",
       "      <td>[MANCHA, GUILLERMO, MARTINEZ, JOHNNY E., MAVER...</td>\n",
       "      <td>[MICHAEL J. BAGLEY]</td>\n",
       "    </tr>\n",
       "    <tr>\n",
       "      <th>7</th>\n",
       "      <td>Maverick</td>\n",
       "      <td></td>\n",
       "      <td></td>\n",
       "      <td></td>\n",
       "      <td></td>\n",
       "      <td></td>\n",
       "      <td></td>\n",
       "      <td></td>\n",
       "      <td>[NUTMEG INSURANCE COMPANY]</td>\n",
       "      <td>[LOREN R. SMITH]</td>\n",
       "      <td>[MANCHA, GUILLERMO, MARTINEZ, JOHNNY E., MAVER...</td>\n",
       "      <td>[MICHAEL J. BAGLEY]</td>\n",
       "    </tr>\n",
       "  </tbody>\n",
       "</table>\n",
       "</div>"
      ],
      "text/plain": [
       "     County Cause Number File Date Cause of Action Docket Date Docket Type  \\\n",
       "0  Maverick                                                                  \n",
       "1  Maverick                                                                  \n",
       "2  Maverick                                                                  \n",
       "3  Maverick                                                                  \n",
       "4  Maverick                                                                  \n",
       "5  Maverick                                                                  \n",
       "6  Maverick                                                                  \n",
       "7  Maverick                                                                  \n",
       "\n",
       "  ANS File CR Number              Plaintiff Name Plaintiff Attorney  \\\n",
       "0                     [NUTMEG INSURANCE COMPANY]   [LOREN R. SMITH]   \n",
       "1                     [NUTMEG INSURANCE COMPANY]   [LOREN R. SMITH]   \n",
       "2                     [NUTMEG INSURANCE COMPANY]   [LOREN R. SMITH]   \n",
       "3                     [NUTMEG INSURANCE COMPANY]   [LOREN R. SMITH]   \n",
       "4                     [NUTMEG INSURANCE COMPANY]   [LOREN R. SMITH]   \n",
       "5                     [NUTMEG INSURANCE COMPANY]   [LOREN R. SMITH]   \n",
       "6                     [NUTMEG INSURANCE COMPANY]   [LOREN R. SMITH]   \n",
       "7                     [NUTMEG INSURANCE COMPANY]   [LOREN R. SMITH]   \n",
       "\n",
       "                                      Defendant Name   Defendant Attorney  \n",
       "0  [MANCHA, GUILLERMO, MARTINEZ, JOHNNY E., MAVER...  [MICHAEL J. BAGLEY]  \n",
       "1  [MANCHA, GUILLERMO, MARTINEZ, JOHNNY E., MAVER...  [MICHAEL J. BAGLEY]  \n",
       "2  [MANCHA, GUILLERMO, MARTINEZ, JOHNNY E., MAVER...  [MICHAEL J. BAGLEY]  \n",
       "3  [MANCHA, GUILLERMO, MARTINEZ, JOHNNY E., MAVER...  [MICHAEL J. BAGLEY]  \n",
       "4  [MANCHA, GUILLERMO, MARTINEZ, JOHNNY E., MAVER...  [MICHAEL J. BAGLEY]  \n",
       "5  [MANCHA, GUILLERMO, MARTINEZ, JOHNNY E., MAVER...  [MICHAEL J. BAGLEY]  \n",
       "6  [MANCHA, GUILLERMO, MARTINEZ, JOHNNY E., MAVER...  [MICHAEL J. BAGLEY]  \n",
       "7  [MANCHA, GUILLERMO, MARTINEZ, JOHNNY E., MAVER...  [MICHAEL J. BAGLEY]  "
      ]
     },
     "execution_count": 309,
     "metadata": {},
     "output_type": "execute_result"
    }
   ],
   "source": [
    "df"
   ]
  },
  {
   "cell_type": "markdown",
   "id": "5fe70213",
   "metadata": {},
   "source": [
    "# Something Went Wrong\n",
    "\n",
    "Just discovered that the PDF pages are not independent. As in, some case information can bleed over into the next page. So the process I used to extract the information won't work as is. I'll work on it some more tomorrow."
   ]
  },
  {
   "cell_type": "code",
   "execution_count": null,
   "id": "2be4f0bc",
   "metadata": {},
   "outputs": [],
   "source": []
  }
 ],
 "metadata": {
  "kernelspec": {
   "display_name": "Python 3",
   "language": "python",
   "name": "python3"
  },
  "language_info": {
   "codemirror_mode": {
    "name": "ipython",
    "version": 3
   },
   "file_extension": ".py",
   "mimetype": "text/x-python",
   "name": "python",
   "nbconvert_exporter": "python",
   "pygments_lexer": "ipython3",
   "version": "3.9.1"
  }
 },
 "nbformat": 4,
 "nbformat_minor": 5
}
