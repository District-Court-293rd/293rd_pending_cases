{
 "cells": [
  {
   "cell_type": "code",
   "execution_count": 1,
   "id": "4c33e385",
   "metadata": {},
   "outputs": [],
   "source": [
    "import numpy as np\n",
    "import pandas as pd\n",
    "from PyPDF2 import PdfFileReader"
   ]
  },
  {
   "cell_type": "markdown",
   "id": "a39bb5c4",
   "metadata": {},
   "source": [
    "# Load the PDF File"
   ]
  },
  {
   "cell_type": "code",
   "execution_count": 2,
   "id": "0deb19ca",
   "metadata": {},
   "outputs": [],
   "source": [
    "# open the PDF file\n",
    "pdfFile = open('/Users/johnathonsmith/Downloads/293RDCV.PEND.CASE_1642601189564_-1416322429.pdf', 'rb')\n"
   ]
  },
  {
   "cell_type": "markdown",
   "id": "3b9abfc6",
   "metadata": {},
   "source": [
    "# Read the File"
   ]
  },
  {
   "cell_type": "code",
   "execution_count": 3,
   "id": "26a7995a",
   "metadata": {},
   "outputs": [],
   "source": [
    "# create PDFFileReader object to read the file\n",
    "pdfReader = PdfFileReader(pdfFile)"
   ]
  },
  {
   "cell_type": "markdown",
   "id": "db9650d4",
   "metadata": {},
   "source": [
    "# Check For Encryption"
   ]
  },
  {
   "cell_type": "code",
   "execution_count": 4,
   "id": "f04f9d6d",
   "metadata": {},
   "outputs": [
    {
     "name": "stdout",
     "output_type": "stream",
     "text": [
      "PDF File is encrypted. Password is needed to continue.\n"
     ]
    }
   ],
   "source": [
    "if pdfReader.isEncrypted == True:\n",
    "    print(\"PDF File is encrypted. Password is needed to continue.\")\n",
    "else:\n",
    "    print(\"PDF File is not encrypted. Password is not needed.\")"
   ]
  },
  {
   "cell_type": "markdown",
   "id": "37138166",
   "metadata": {},
   "source": [
    "# Print Document Info"
   ]
  },
  {
   "cell_type": "code",
   "execution_count": 5,
   "id": "706e5715",
   "metadata": {},
   "outputs": [],
   "source": [
    "#print(\"PDF File name: \" + str(pdfReader.getDocumentInfo().title))\n",
    "#print(\"PDF File created by: \" + str(pdfReader.getDocumentInfo().creator))\n",
    "#print(\"- - - - - - - - - - - - - - - - - - - -\")"
   ]
  },
  {
   "cell_type": "markdown",
   "id": "316da892",
   "metadata": {},
   "source": [
    "# Try Using PDFminer3"
   ]
  },
  {
   "cell_type": "code",
   "execution_count": 6,
   "id": "08517861",
   "metadata": {},
   "outputs": [],
   "source": [
    "#imports\n",
    "import pandas as pd\n",
    "\n",
    "from pdfminer3.layout import LAParams, LTTextBox\n",
    "from pdfminer3.pdfpage import PDFPage\n",
    "from pdfminer3.pdfinterp import PDFResourceManager\n",
    "from pdfminer3.pdfinterp import PDFPageInterpreter\n",
    "from pdfminer3.converter import PDFPageAggregator\n",
    "from pdfminer3.converter import TextConverter\n",
    "import io"
   ]
  },
  {
   "cell_type": "code",
   "execution_count": 9,
   "id": "a7bb5402",
   "metadata": {},
   "outputs": [
    {
     "name": "stdout",
     "output_type": "stream",
     "text": [
      "                COUNTY OF MAVERICK 293RD DISTRICT COURT CIVIL PENDING CASES AS OF 01/19/2022\n",
      "\n",
      "                                           RAN ON JANUARY 19, 2022 09:02am PAGE: 1\n",
      "\n",
      "        CAUSE #             FILE DATE CAUSE OF ACTION           DOCKT DATE  DOCKET TYPE       ANS FILED  CR CASE #\n",
      "\n",
      "PLAINTIFF NAME                PLAINTIFF ATTORNEY        DEFENDANT NAME                DEFENDANT ATTORNEY\n",
      "\n",
      "        7815-OTH           02/22/1985 1                                                                  \n",
      "\n",
      "        ATTORNEY GENERAL              MARIA LARSON              MENDEZ, CARLOS GILBERTO                            \n",
      "        MENDEZ, OLGA LIDIA                                                                                         \n",
      "        -------------------------------------------------------------------------------------------------------------\n",
      "        90-11-10256-CV     11/08/1990 1                                                                  \n",
      "\n",
      "        ATTORNEY GENERAL              ROLANDO MENCHACA          MARTINEZ, HECTOR RENE                              \n",
      "        MARTINEZ, ROSALINDA                                                                                        \n",
      "        -------------------------------------------------------------------------------------------------------------\n",
      "        90-12-10326-CV     12/14/1990 INJURY OR DAMAGE OTHER T                                           \n",
      "\n",
      "        DIAZ CARPENTER, ENRIQUETA     JAY T. KIMBROUGH          BOWLES JR., RUDY              RICHARD TINSMAN      \n",
      "        -------------------------------------------------------------------------------------------------------------\n",
      "        91-06-10598-CV     10/22/1993 MOTION ENFORCEMENT, TO M  09/13/1994  MOTION TO ENFORC             \n",
      "\n",
      "        ATTORNEY GENERAL              ROLANDO MENCHACA          ARROYO, JUAN ANTONIO                               \n",
      "        FUENTES, MARIA EUGENIA                                                                                     \n",
      "        -------------------------------------------------------------------------------------------------------------\n",
      "        95-01-12880-CV     01/05/1995 1                                                                  \n",
      "\n",
      "        ATTORNEY GENERAL              ENRIQUE FERNANDEZ         LARA, HOMERO                                       \n",
      "        LARA, MARIA GUADALUPE                                                                                      \n",
      "        -------------------------------------------------------------------------------------------------------------\n",
      "        96-05-13796-CV     05/08/1996 1                                                                  \n",
      "\n",
      "        ATTORNEY GENERAL              POLLY J BONE              HERNANDEZ, JUAN F.                                 \n",
      "        HERNANDEZ, OLGA E.                                                                                         \n",
      "        -------------------------------------------------------------------------------------------------------------\n",
      "        96-12-14214-CV     12/20/1996 OTHER CIVIL CASES         02/18/1998  WON JURY TRIAL               \n",
      "\n",
      "        THE STATE OF TEXAS            MELISSA DAYLONG           APPROX. 440 POUNDS OF MARIHU                       \n",
      "        -------------------------------------------------------------------------------------------------------------\n",
      "        97-06-14568-CV     06/16/1997 OTHER CIVIL CASES         02/19/1998  WON JURY TRIAL               \n",
      "\n",
      "        NUTMEG INSURANCE COMPANY      LOREN R. SMITH            MANCHA, GUILLERMO             MICHAEL J. BAGLEY    \n",
      "                                                                MARTINEZ, JOHNNY E.                                \n",
      "                                                                MAVERICK COUNTY                                    \n",
      "\n",
      "\f",
      "\n"
     ]
    }
   ],
   "source": [
    "#Set up resource manager to handle pdf content. text, images, etc.\n",
    "resource_manager = PDFResourceManager()\n",
    "\n",
    "#Used to display text\n",
    "fake_file_handle = io.StringIO()\n",
    "\n",
    "#Set up converter\n",
    "converter = TextConverter(resource_manager, fake_file_handle, laparams=LAParams())\n",
    "\n",
    "#Set up page interpreter\n",
    "page_interpreter = PDFPageInterpreter(resource_manager, converter)\n",
    "\n",
    "with open('/Users/johnathonsmith/Downloads/293RDCV.PEND.CASE_1642601189564_-1416322429.pdf', 'rb') as fh:\n",
    "\n",
    "    for page in PDFPage.get_pages(fh,\n",
    "                                  caching=True,\n",
    "                                  maxpages = 1,\n",
    "                                  check_extractable=True):\n",
    "        page_interpreter.process_page(page)\n",
    "\n",
    "    text = fake_file_handle.getvalue()\n",
    "\n",
    "# close open handles\n",
    "converter.close()\n",
    "fake_file_handle.close()\n",
    "\n",
    "print(text)"
   ]
  },
  {
   "cell_type": "code",
   "execution_count": 10,
   "id": "d22dbeae",
   "metadata": {},
   "outputs": [
    {
     "name": "stdout",
     "output_type": "stream",
     "text": [
      "'                COUNTY OF MAVERICK 293RD DISTRICT COURT CIVIL PENDING CASES AS OF 01/19/2022\\n\\n                                           RAN ON JANUARY 19, 2022 09:02am PAGE: 1\\n\\n        CAUSE #             FILE DATE CAUSE OF ACTION           DOCKT DATE  DOCKET TYPE       ANS FILED  CR CASE #\\n\\nPLAINTIFF NAME                PLAINTIFF ATTORNEY        DEFENDANT NAME                DEFENDANT ATTORNEY\\n\\n        7815-OTH           02/22/1985 1                                                                  \\n\\n        ATTORNEY GENERAL              MARIA LARSON              MENDEZ, CARLOS GILBERTO                            \\n        MENDEZ, OLGA LIDIA                                                                                         \\n        -------------------------------------------------------------------------------------------------------------\\n        90-11-10256-CV     11/08/1990 1                                                                  \\n\\n        ATTORNEY GENERAL              ROLANDO MENCHACA          MARTINEZ, HECTOR RENE                              \\n        MARTINEZ, ROSALINDA                                                                                        \\n        -------------------------------------------------------------------------------------------------------------\\n        90-12-10326-CV     12/14/1990 INJURY OR DAMAGE OTHER T                                           \\n\\n        DIAZ CARPENTER, ENRIQUETA     JAY T. KIMBROUGH          BOWLES JR., RUDY              RICHARD TINSMAN      \\n        -------------------------------------------------------------------------------------------------------------\\n        91-06-10598-CV     10/22/1993 MOTION ENFORCEMENT, TO M  09/13/1994  MOTION TO ENFORC             \\n\\n        ATTORNEY GENERAL              ROLANDO MENCHACA          ARROYO, JUAN ANTONIO                               \\n        FUENTES, MARIA EUGENIA                                                                                     \\n        -------------------------------------------------------------------------------------------------------------\\n        95-01-12880-CV     01/05/1995 1                                                                  \\n\\n        ATTORNEY GENERAL              ENRIQUE FERNANDEZ         LARA, HOMERO                                       \\n        LARA, MARIA GUADALUPE                                                                                      \\n        -------------------------------------------------------------------------------------------------------------\\n        96-05-13796-CV     05/08/1996 1                                                                  \\n\\n        ATTORNEY GENERAL              POLLY J BONE              HERNANDEZ, JUAN F.                                 \\n        HERNANDEZ, OLGA E.                                                                                         \\n        -------------------------------------------------------------------------------------------------------------\\n        96-12-14214-CV     12/20/1996 OTHER CIVIL CASES         02/18/1998  WON JURY TRIAL               \\n\\n        THE STATE OF TEXAS            MELISSA DAYLONG           APPROX. 440 POUNDS OF MARIHU                       \\n        -------------------------------------------------------------------------------------------------------------\\n        97-06-14568-CV     06/16/1997 OTHER CIVIL CASES         02/19/1998  WON JURY TRIAL               \\n\\n        NUTMEG INSURANCE COMPANY      LOREN R. SMITH            MANCHA, GUILLERMO             MICHAEL J. BAGLEY    \\n                                                                MARTINEZ, JOHNNY E.                                \\n                                                                MAVERICK COUNTY                                    \\n\\n\\x0c'\n"
     ]
    }
   ],
   "source": [
    "#Now try finding places to break it down a bit\n",
    "print(repr(text))"
   ]
  },
  {
   "cell_type": "code",
   "execution_count": 12,
   "id": "e5a2329c",
   "metadata": {},
   "outputs": [
    {
     "name": "stdout",
     "output_type": "stream",
     "text": [
      "'COUNTY OF MAVERICK 293RD DISTRICT COURT CIVIL PENDING CASES AS OF 01/19/2022\\n\\n                                           RAN ON JANUARY 19, 2022 09:02am PAGE: 1\\n\\n        CAUSE #             FILE DATE CAUSE OF ACTION           DOCKT DATE  DOCKET TYPE       ANS FILED  CR CASE #\\n\\nPLAINTIFF NAME                PLAINTIFF ATTORNEY        DEFENDANT NAME                DEFENDANT ATTORNEY\\n\\n        7815-OTH           02/22/1985 1                                                                  \\n\\n        ATTORNEY GENERAL              MARIA LARSON              MENDEZ, CARLOS GILBERTO                            \\n        MENDEZ, OLGA LIDIA                                                                                         \\n        -------------------------------------------------------------------------------------------------------------\\n        90-11-10256-CV     11/08/1990 1                                                                  \\n\\n        ATTORNEY GENERAL              ROLANDO MENCHACA          MARTINEZ, HECTOR RENE                              \\n        MARTINEZ, ROSALINDA                                                                                        \\n        -------------------------------------------------------------------------------------------------------------\\n        90-12-10326-CV     12/14/1990 INJURY OR DAMAGE OTHER T                                           \\n\\n        DIAZ CARPENTER, ENRIQUETA     JAY T. KIMBROUGH          BOWLES JR., RUDY              RICHARD TINSMAN      \\n        -------------------------------------------------------------------------------------------------------------\\n        91-06-10598-CV     10/22/1993 MOTION ENFORCEMENT, TO M  09/13/1994  MOTION TO ENFORC             \\n\\n        ATTORNEY GENERAL              ROLANDO MENCHACA          ARROYO, JUAN ANTONIO                               \\n        FUENTES, MARIA EUGENIA                                                                                     \\n        -------------------------------------------------------------------------------------------------------------\\n        95-01-12880-CV     01/05/1995 1                                                                  \\n\\n        ATTORNEY GENERAL              ENRIQUE FERNANDEZ         LARA, HOMERO                                       \\n        LARA, MARIA GUADALUPE                                                                                      \\n        -------------------------------------------------------------------------------------------------------------\\n        96-05-13796-CV     05/08/1996 1                                                                  \\n\\n        ATTORNEY GENERAL              POLLY J BONE              HERNANDEZ, JUAN F.                                 \\n        HERNANDEZ, OLGA E.                                                                                         \\n        -------------------------------------------------------------------------------------------------------------\\n        96-12-14214-CV     12/20/1996 OTHER CIVIL CASES         02/18/1998  WON JURY TRIAL               \\n\\n        THE STATE OF TEXAS            MELISSA DAYLONG           APPROX. 440 POUNDS OF MARIHU                       \\n        -------------------------------------------------------------------------------------------------------------\\n        97-06-14568-CV     06/16/1997 OTHER CIVIL CASES         02/19/1998  WON JURY TRIAL               \\n\\n        NUTMEG INSURANCE COMPANY      LOREN R. SMITH            MANCHA, GUILLERMO             MICHAEL J. BAGLEY    \\n                                                                MARTINEZ, JOHNNY E.                                \\n                                                                MAVERICK COUNTY'\n"
     ]
    }
   ],
   "source": [
    "#First, strip leading and trailing whitespaces\n",
    "text = text.strip()\n",
    "print(repr(text))"
   ]
  },
  {
   "cell_type": "code",
   "execution_count": 22,
   "id": "82ada6eb",
   "metadata": {},
   "outputs": [
    {
     "name": "stdout",
     "output_type": "stream",
     "text": [
      "'7815-OTH           02/22/1985 1                                                                  \\n\\n        ATTORNEY GENERAL              MARIA LARSON              MENDEZ, CARLOS GILBERTO                            \\n        MENDEZ, OLGA LIDIA                                                                                         \\n        -------------------------------------------------------------------------------------------------------------\\n        90-11-10256-CV     11/08/1990 1                                                                  \\n\\n        ATTORNEY GENERAL              ROLANDO MENCHACA          MARTINEZ, HECTOR RENE                              \\n        MARTINEZ, ROSALINDA                                                                                        \\n        -------------------------------------------------------------------------------------------------------------\\n        90-12-10326-CV     12/14/1990 INJURY OR DAMAGE OTHER T                                           \\n\\n        DIAZ CARPENTER, ENRIQUETA     JAY T. KIMBROUGH          BOWLES JR., RUDY              RICHARD TINSMAN      \\n        -------------------------------------------------------------------------------------------------------------\\n        91-06-10598-CV     10/22/1993 MOTION ENFORCEMENT, TO M  09/13/1994  MOTION TO ENFORC             \\n\\n        ATTORNEY GENERAL              ROLANDO MENCHACA          ARROYO, JUAN ANTONIO                               \\n        FUENTES, MARIA EUGENIA                                                                                     \\n        -------------------------------------------------------------------------------------------------------------\\n        95-01-12880-CV     01/05/1995 1                                                                  \\n\\n        ATTORNEY GENERAL              ENRIQUE FERNANDEZ         LARA, HOMERO                                       \\n        LARA, MARIA GUADALUPE                                                                                      \\n        -------------------------------------------------------------------------------------------------------------\\n        96-05-13796-CV     05/08/1996 1                                                                  \\n\\n        ATTORNEY GENERAL              POLLY J BONE              HERNANDEZ, JUAN F.                                 \\n        HERNANDEZ, OLGA E.                                                                                         \\n        -------------------------------------------------------------------------------------------------------------\\n        96-12-14214-CV     12/20/1996 OTHER CIVIL CASES         02/18/1998  WON JURY TRIAL               \\n\\n        THE STATE OF TEXAS            MELISSA DAYLONG           APPROX. 440 POUNDS OF MARIHU                       \\n        -------------------------------------------------------------------------------------------------------------\\n        97-06-14568-CV     06/16/1997 OTHER CIVIL CASES         02/19/1998  WON JURY TRIAL               \\n\\n        NUTMEG INSURANCE COMPANY      LOREN R. SMITH            MANCHA, GUILLERMO             MICHAEL J. BAGLEY    \\n                                                                MARTINEZ, JOHNNY E.                                \\n                                                                MAVERICK COUNTY'\n"
     ]
    }
   ],
   "source": [
    "#Now remove header info\n",
    "text = text[392:]\n",
    "print(repr(text))"
   ]
  },
  {
   "cell_type": "code",
   "execution_count": 23,
   "id": "423d7f26",
   "metadata": {},
   "outputs": [
    {
     "data": {
      "text/plain": [
       "['7815-OTH           02/22/1985 1                                                                  \\n\\n        ATTORNEY GENERAL              MARIA LARSON              MENDEZ, CARLOS GILBERTO                            \\n        MENDEZ, OLGA LIDIA                                                                                         \\n        ',\n",
       " '\\n        90-11-10256-CV     11/08/1990 1                                                                  \\n\\n        ATTORNEY GENERAL              ROLANDO MENCHACA          MARTINEZ, HECTOR RENE                              \\n        MARTINEZ, ROSALINDA                                                                                        \\n        ',\n",
       " '\\n        90-12-10326-CV     12/14/1990 INJURY OR DAMAGE OTHER T                                           \\n\\n        DIAZ CARPENTER, ENRIQUETA     JAY T. KIMBROUGH          BOWLES JR., RUDY              RICHARD TINSMAN      \\n        ',\n",
       " '\\n        91-06-10598-CV     10/22/1993 MOTION ENFORCEMENT, TO M  09/13/1994  MOTION TO ENFORC             \\n\\n        ATTORNEY GENERAL              ROLANDO MENCHACA          ARROYO, JUAN ANTONIO                               \\n        FUENTES, MARIA EUGENIA                                                                                     \\n        ',\n",
       " '\\n        95-01-12880-CV     01/05/1995 1                                                                  \\n\\n        ATTORNEY GENERAL              ENRIQUE FERNANDEZ         LARA, HOMERO                                       \\n        LARA, MARIA GUADALUPE                                                                                      \\n        ',\n",
       " '\\n        96-05-13796-CV     05/08/1996 1                                                                  \\n\\n        ATTORNEY GENERAL              POLLY J BONE              HERNANDEZ, JUAN F.                                 \\n        HERNANDEZ, OLGA E.                                                                                         \\n        ',\n",
       " '\\n        96-12-14214-CV     12/20/1996 OTHER CIVIL CASES         02/18/1998  WON JURY TRIAL               \\n\\n        THE STATE OF TEXAS            MELISSA DAYLONG           APPROX. 440 POUNDS OF MARIHU                       \\n        ',\n",
       " '\\n        97-06-14568-CV     06/16/1997 OTHER CIVIL CASES         02/19/1998  WON JURY TRIAL               \\n\\n        NUTMEG INSURANCE COMPANY      LOREN R. SMITH            MANCHA, GUILLERMO             MICHAEL J. BAGLEY    \\n                                                                MARTINEZ, JOHNNY E.                                \\n                                                                MAVERICK COUNTY']"
      ]
     },
     "execution_count": 23,
     "metadata": {},
     "output_type": "execute_result"
    }
   ],
   "source": [
    "#Now split each case by the dashed lines\n",
    "cases = text.split('-------------------------------------------------------------------------------------------------------------')\n",
    "cases"
   ]
  },
  {
   "cell_type": "code",
   "execution_count": 27,
   "id": "d94564c0",
   "metadata": {},
   "outputs": [
    {
     "name": "stdout",
     "output_type": "stream",
     "text": [
      "'7815-OTH           02/22/1985 1                                                                  \\n\\n        ATTORNEY GENERAL              MARIA LARSON              MENDEZ, CARLOS GILBERTO                            \\n        MENDEZ, OLGA LIDIA                                                                                         \\n        '\n"
     ]
    }
   ],
   "source": [
    "test_case = cases[0]\n",
    "print(repr(test_case))"
   ]
  },
  {
   "cell_type": "code",
   "execution_count": null,
   "id": "e211001b",
   "metadata": {},
   "outputs": [],
   "source": []
  }
 ],
 "metadata": {
  "kernelspec": {
   "display_name": "Python 3",
   "language": "python",
   "name": "python3"
  },
  "language_info": {
   "codemirror_mode": {
    "name": "ipython",
    "version": 3
   },
   "file_extension": ".py",
   "mimetype": "text/x-python",
   "name": "python",
   "nbconvert_exporter": "python",
   "pygments_lexer": "ipython3",
   "version": "3.9.1"
  }
 },
 "nbformat": 4,
 "nbformat_minor": 5
}
