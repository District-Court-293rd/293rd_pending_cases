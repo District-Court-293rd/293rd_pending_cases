{
 "cells": [
  {
   "cell_type": "code",
   "execution_count": 1,
   "id": "4c33e385",
   "metadata": {},
   "outputs": [],
   "source": [
    "import numpy as np\n",
    "import pandas as pd\n",
    "from PyPDF2 import PdfFileReader"
   ]
  },
  {
   "cell_type": "markdown",
   "id": "a39bb5c4",
   "metadata": {},
   "source": [
    "# Load the PDF File"
   ]
  },
  {
   "cell_type": "code",
   "execution_count": 2,
   "id": "0deb19ca",
   "metadata": {},
   "outputs": [],
   "source": [
    "# open the PDF file\n",
    "pdfFile = open('/Users/johnathonsmith/Downloads/293RDCV.PEND.CASE_1642601189564_-1416322429.pdf', 'rb')\n"
   ]
  },
  {
   "cell_type": "markdown",
   "id": "3b9abfc6",
   "metadata": {},
   "source": [
    "# Read the File"
   ]
  },
  {
   "cell_type": "code",
   "execution_count": 3,
   "id": "26a7995a",
   "metadata": {},
   "outputs": [],
   "source": [
    "# create PDFFileReader object to read the file\n",
    "pdfReader = PdfFileReader(pdfFile)"
   ]
  },
  {
   "cell_type": "markdown",
   "id": "db9650d4",
   "metadata": {},
   "source": [
    "# Check For Encryption"
   ]
  },
  {
   "cell_type": "code",
   "execution_count": 4,
   "id": "f04f9d6d",
   "metadata": {},
   "outputs": [
    {
     "name": "stdout",
     "output_type": "stream",
     "text": [
      "PDF File is encrypted. Password is needed to continue.\n"
     ]
    }
   ],
   "source": [
    "if pdfReader.isEncrypted == True:\n",
    "    print(\"PDF File is encrypted. Password is needed to continue.\")\n",
    "else:\n",
    "    print(\"PDF File is not encrypted. Password is not needed.\")"
   ]
  },
  {
   "cell_type": "markdown",
   "id": "37138166",
   "metadata": {},
   "source": [
    "# Print Document Info"
   ]
  },
  {
   "cell_type": "code",
   "execution_count": 5,
   "id": "706e5715",
   "metadata": {},
   "outputs": [],
   "source": [
    "#print(\"PDF File name: \" + str(pdfReader.getDocumentInfo().title))\n",
    "#print(\"PDF File created by: \" + str(pdfReader.getDocumentInfo().creator))\n",
    "#print(\"- - - - - - - - - - - - - - - - - - - -\")"
   ]
  },
  {
   "cell_type": "markdown",
   "id": "d45fdda9",
   "metadata": {},
   "source": [
    "# Try Using PDFminer3"
   ]
  },
  {
   "cell_type": "code",
   "execution_count": 6,
   "id": "e9c8f1ff",
   "metadata": {},
   "outputs": [],
   "source": [
    "#imports\n",
    "import pandas as pd\n",
    "\n",
    "from pdfminer3.layout import LAParams, LTTextBox\n",
    "from pdfminer3.pdfpage import PDFPage\n",
    "from pdfminer3.pdfinterp import PDFResourceManager\n",
    "from pdfminer3.pdfinterp import PDFPageInterpreter\n",
    "from pdfminer3.converter import PDFPageAggregator\n",
    "from pdfminer3.converter import TextConverter\n",
    "import io"
   ]
  },
  {
   "cell_type": "code",
   "execution_count": 77,
   "id": "eece6ac3",
   "metadata": {},
   "outputs": [
    {
     "name": "stdout",
     "output_type": "stream",
     "text": [
      "                COUNTY OF MAVERICK 293RD DISTRICT COURT CIVIL PENDING CASES AS OF 01/19/2022\n",
      "\n",
      "                                           RAN ON JANUARY 19, 2022 09:02am PAGE: 1\n",
      "\n",
      "        CAUSE #             FILE DATE CAUSE OF ACTION           DOCKT DATE  DOCKET TYPE       ANS FILED  CR CASE #\n",
      "\n",
      "PLAINTIFF NAME                PLAINTIFF ATTORNEY        DEFENDANT NAME                DEFENDANT ATTORNEY\n",
      "\n",
      "        7815-OTH           02/22/1985 1                                                                  \n",
      "\n",
      "        ATTORNEY GENERAL              MARIA LARSON              MENDEZ, CARLOS GILBERTO                            \n",
      "        MENDEZ, OLGA LIDIA                                                                                         \n",
      "        -------------------------------------------------------------------------------------------------------------\n",
      "        90-11-10256-CV     11/08/1990 1                                                                  \n",
      "\n",
      "        ATTORNEY GENERAL              ROLANDO MENCHACA          MARTINEZ, HECTOR RENE                              \n",
      "        MARTINEZ, ROSALINDA                                                                                        \n",
      "        -------------------------------------------------------------------------------------------------------------\n",
      "        90-12-10326-CV     12/14/1990 INJURY OR DAMAGE OTHER T                                           \n",
      "\n",
      "        DIAZ CARPENTER, ENRIQUETA     JAY T. KIMBROUGH          BOWLES JR., RUDY              RICHARD TINSMAN      \n",
      "        -------------------------------------------------------------------------------------------------------------\n",
      "        91-06-10598-CV     10/22/1993 MOTION ENFORCEMENT, TO M  09/13/1994  MOTION TO ENFORC             \n",
      "\n",
      "        ATTORNEY GENERAL              ROLANDO MENCHACA          ARROYO, JUAN ANTONIO                               \n",
      "        FUENTES, MARIA EUGENIA                                                                                     \n",
      "        -------------------------------------------------------------------------------------------------------------\n",
      "        95-01-12880-CV     01/05/1995 1                                                                  \n",
      "\n",
      "        ATTORNEY GENERAL              ENRIQUE FERNANDEZ         LARA, HOMERO                                       \n",
      "        LARA, MARIA GUADALUPE                                                                                      \n",
      "        -------------------------------------------------------------------------------------------------------------\n",
      "        96-05-13796-CV     05/08/1996 1                                                                  \n",
      "\n",
      "        ATTORNEY GENERAL              POLLY J BONE              HERNANDEZ, JUAN F.                                 \n",
      "        HERNANDEZ, OLGA E.                                                                                         \n",
      "        -------------------------------------------------------------------------------------------------------------\n",
      "        96-12-14214-CV     12/20/1996 OTHER CIVIL CASES         02/18/1998  WON JURY TRIAL               \n",
      "\n",
      "        THE STATE OF TEXAS            MELISSA DAYLONG           APPROX. 440 POUNDS OF MARIHU                       \n",
      "        -------------------------------------------------------------------------------------------------------------\n",
      "        97-06-14568-CV     06/16/1997 OTHER CIVIL CASES         02/19/1998  WON JURY TRIAL               \n",
      "\n",
      "        NUTMEG INSURANCE COMPANY      LOREN R. SMITH            MANCHA, GUILLERMO             MICHAEL J. BAGLEY    \n",
      "                                                                MARTINEZ, JOHNNY E.                                \n",
      "                                                                MAVERICK COUNTY                                    \n",
      "\n",
      "\f",
      "\n"
     ]
    }
   ],
   "source": [
    "#Set up resource manager to handle pdf content. text, images, etc.\n",
    "resource_manager = PDFResourceManager()\n",
    "\n",
    "#Used to display text\n",
    "fake_file_handle = io.StringIO()\n",
    "\n",
    "#Set up converter\n",
    "converter = TextConverter(resource_manager, fake_file_handle, laparams=LAParams())\n",
    "\n",
    "#Set up page interpreter\n",
    "page_interpreter = PDFPageInterpreter(resource_manager, converter)\n",
    "\n",
    "with open('/Users/johnathonsmith/Downloads/293RDCV.PEND.CASE_1642601189564_-1416322429.pdf', 'rb') as fh:\n",
    "\n",
    "    for page in PDFPage.get_pages(fh,\n",
    "                                  caching=True,\n",
    "                                  maxpages = 1,\n",
    "                                  check_extractable=True):\n",
    "        page_interpreter.process_page(page)\n",
    "\n",
    "    text = fake_file_handle.getvalue()\n",
    "\n",
    "# close open handles\n",
    "converter.close()\n",
    "fake_file_handle.close()\n",
    "\n",
    "print(text)"
   ]
  },
  {
   "cell_type": "code",
   "execution_count": 78,
   "id": "b5da7d62",
   "metadata": {},
   "outputs": [
    {
     "name": "stdout",
     "output_type": "stream",
     "text": [
      "'                COUNTY OF MAVERICK 293RD DISTRICT COURT CIVIL PENDING CASES AS OF 01/19/2022\\n\\n                                           RAN ON JANUARY 19, 2022 09:02am PAGE: 1\\n\\n        CAUSE #             FILE DATE CAUSE OF ACTION           DOCKT DATE  DOCKET TYPE       ANS FILED  CR CASE #\\n\\nPLAINTIFF NAME                PLAINTIFF ATTORNEY        DEFENDANT NAME                DEFENDANT ATTORNEY\\n\\n        7815-OTH           02/22/1985 1                                                                  \\n\\n        ATTORNEY GENERAL              MARIA LARSON              MENDEZ, CARLOS GILBERTO                            \\n        MENDEZ, OLGA LIDIA                                                                                         \\n        -------------------------------------------------------------------------------------------------------------\\n        90-11-10256-CV     11/08/1990 1                                                                  \\n\\n        ATTORNEY GENERAL              ROLANDO MENCHACA          MARTINEZ, HECTOR RENE                              \\n        MARTINEZ, ROSALINDA                                                                                        \\n        -------------------------------------------------------------------------------------------------------------\\n        90-12-10326-CV     12/14/1990 INJURY OR DAMAGE OTHER T                                           \\n\\n        DIAZ CARPENTER, ENRIQUETA     JAY T. KIMBROUGH          BOWLES JR., RUDY              RICHARD TINSMAN      \\n        -------------------------------------------------------------------------------------------------------------\\n        91-06-10598-CV     10/22/1993 MOTION ENFORCEMENT, TO M  09/13/1994  MOTION TO ENFORC             \\n\\n        ATTORNEY GENERAL              ROLANDO MENCHACA          ARROYO, JUAN ANTONIO                               \\n        FUENTES, MARIA EUGENIA                                                                                     \\n        -------------------------------------------------------------------------------------------------------------\\n        95-01-12880-CV     01/05/1995 1                                                                  \\n\\n        ATTORNEY GENERAL              ENRIQUE FERNANDEZ         LARA, HOMERO                                       \\n        LARA, MARIA GUADALUPE                                                                                      \\n        -------------------------------------------------------------------------------------------------------------\\n        96-05-13796-CV     05/08/1996 1                                                                  \\n\\n        ATTORNEY GENERAL              POLLY J BONE              HERNANDEZ, JUAN F.                                 \\n        HERNANDEZ, OLGA E.                                                                                         \\n        -------------------------------------------------------------------------------------------------------------\\n        96-12-14214-CV     12/20/1996 OTHER CIVIL CASES         02/18/1998  WON JURY TRIAL               \\n\\n        THE STATE OF TEXAS            MELISSA DAYLONG           APPROX. 440 POUNDS OF MARIHU                       \\n        -------------------------------------------------------------------------------------------------------------\\n        97-06-14568-CV     06/16/1997 OTHER CIVIL CASES         02/19/1998  WON JURY TRIAL               \\n\\n        NUTMEG INSURANCE COMPANY      LOREN R. SMITH            MANCHA, GUILLERMO             MICHAEL J. BAGLEY    \\n                                                                MARTINEZ, JOHNNY E.                                \\n                                                                MAVERICK COUNTY                                    \\n\\n\\x0c'\n"
     ]
    }
   ],
   "source": [
    "#Now try finding places to break it down a bit\n",
    "print(repr(text))"
   ]
  },
  {
   "cell_type": "code",
   "execution_count": 79,
   "id": "f3ac947a",
   "metadata": {},
   "outputs": [
    {
     "name": "stdout",
     "output_type": "stream",
     "text": [
      "'COUNTY OF MAVERICK 293RD DISTRICT COURT CIVIL PENDING CASES AS OF 01/19/2022\\n\\n                                           RAN ON JANUARY 19, 2022 09:02am PAGE: 1\\n\\n        CAUSE #             FILE DATE CAUSE OF ACTION           DOCKT DATE  DOCKET TYPE       ANS FILED  CR CASE #\\n\\nPLAINTIFF NAME                PLAINTIFF ATTORNEY        DEFENDANT NAME                DEFENDANT ATTORNEY\\n\\n        7815-OTH           02/22/1985 1                                                                  \\n\\n        ATTORNEY GENERAL              MARIA LARSON              MENDEZ, CARLOS GILBERTO                            \\n        MENDEZ, OLGA LIDIA                                                                                         \\n        -------------------------------------------------------------------------------------------------------------\\n        90-11-10256-CV     11/08/1990 1                                                                  \\n\\n        ATTORNEY GENERAL              ROLANDO MENCHACA          MARTINEZ, HECTOR RENE                              \\n        MARTINEZ, ROSALINDA                                                                                        \\n        -------------------------------------------------------------------------------------------------------------\\n        90-12-10326-CV     12/14/1990 INJURY OR DAMAGE OTHER T                                           \\n\\n        DIAZ CARPENTER, ENRIQUETA     JAY T. KIMBROUGH          BOWLES JR., RUDY              RICHARD TINSMAN      \\n        -------------------------------------------------------------------------------------------------------------\\n        91-06-10598-CV     10/22/1993 MOTION ENFORCEMENT, TO M  09/13/1994  MOTION TO ENFORC             \\n\\n        ATTORNEY GENERAL              ROLANDO MENCHACA          ARROYO, JUAN ANTONIO                               \\n        FUENTES, MARIA EUGENIA                                                                                     \\n        -------------------------------------------------------------------------------------------------------------\\n        95-01-12880-CV     01/05/1995 1                                                                  \\n\\n        ATTORNEY GENERAL              ENRIQUE FERNANDEZ         LARA, HOMERO                                       \\n        LARA, MARIA GUADALUPE                                                                                      \\n        -------------------------------------------------------------------------------------------------------------\\n        96-05-13796-CV     05/08/1996 1                                                                  \\n\\n        ATTORNEY GENERAL              POLLY J BONE              HERNANDEZ, JUAN F.                                 \\n        HERNANDEZ, OLGA E.                                                                                         \\n        -------------------------------------------------------------------------------------------------------------\\n        96-12-14214-CV     12/20/1996 OTHER CIVIL CASES         02/18/1998  WON JURY TRIAL               \\n\\n        THE STATE OF TEXAS            MELISSA DAYLONG           APPROX. 440 POUNDS OF MARIHU                       \\n        -------------------------------------------------------------------------------------------------------------\\n        97-06-14568-CV     06/16/1997 OTHER CIVIL CASES         02/19/1998  WON JURY TRIAL               \\n\\n        NUTMEG INSURANCE COMPANY      LOREN R. SMITH            MANCHA, GUILLERMO             MICHAEL J. BAGLEY    \\n                                                                MARTINEZ, JOHNNY E.                                \\n                                                                MAVERICK COUNTY'\n"
     ]
    }
   ],
   "source": [
    "#First, strip leading and trailing whitespaces\n",
    "text = text.strip()\n",
    "print(repr(text))"
   ]
  },
  {
   "cell_type": "code",
   "execution_count": 80,
   "id": "12a9529e",
   "metadata": {},
   "outputs": [
    {
     "name": "stdout",
     "output_type": "stream",
     "text": [
      "'COUNTY OF MAVERICK 293RD DISTRICT COURT CIVIL PENDING CASES AS OF 01/19/2022\\n\\n                                           RAN ON JANUARY 19, 2022 09:02am PAGE: 1\\n\\n        CAUSE #             FILE DATE CAUSE OF ACTION           DOCKT DATE  DOCKET TYPE       ANS FILED  CR CASE #\\n\\nPLAINTIFF NAME                PLAINTIFF ATTORNEY        DEFENDANT NAME                DEFENDANT ATTORNEY\\n\\n        '\n"
     ]
    }
   ],
   "source": [
    "#Now separate header and body text info\n",
    "\n",
    "#For header\n",
    "header = text[:392]\n",
    "print(repr(header))"
   ]
  },
  {
   "cell_type": "code",
   "execution_count": 81,
   "id": "e0f4a4ac",
   "metadata": {},
   "outputs": [
    {
     "name": "stdout",
     "output_type": "stream",
     "text": [
      "'7815-OTH           02/22/1985 1                                                                  \\n\\n        ATTORNEY GENERAL              MARIA LARSON              MENDEZ, CARLOS GILBERTO                            \\n        MENDEZ, OLGA LIDIA                                                                                         \\n        -------------------------------------------------------------------------------------------------------------\\n        90-11-10256-CV     11/08/1990 1                                                                  \\n\\n        ATTORNEY GENERAL              ROLANDO MENCHACA          MARTINEZ, HECTOR RENE                              \\n        MARTINEZ, ROSALINDA                                                                                        \\n        -------------------------------------------------------------------------------------------------------------\\n        90-12-10326-CV     12/14/1990 INJURY OR DAMAGE OTHER T                                           \\n\\n        DIAZ CARPENTER, ENRIQUETA     JAY T. KIMBROUGH          BOWLES JR., RUDY              RICHARD TINSMAN      \\n        -------------------------------------------------------------------------------------------------------------\\n        91-06-10598-CV     10/22/1993 MOTION ENFORCEMENT, TO M  09/13/1994  MOTION TO ENFORC             \\n\\n        ATTORNEY GENERAL              ROLANDO MENCHACA          ARROYO, JUAN ANTONIO                               \\n        FUENTES, MARIA EUGENIA                                                                                     \\n        -------------------------------------------------------------------------------------------------------------\\n        95-01-12880-CV     01/05/1995 1                                                                  \\n\\n        ATTORNEY GENERAL              ENRIQUE FERNANDEZ         LARA, HOMERO                                       \\n        LARA, MARIA GUADALUPE                                                                                      \\n        -------------------------------------------------------------------------------------------------------------\\n        96-05-13796-CV     05/08/1996 1                                                                  \\n\\n        ATTORNEY GENERAL              POLLY J BONE              HERNANDEZ, JUAN F.                                 \\n        HERNANDEZ, OLGA E.                                                                                         \\n        -------------------------------------------------------------------------------------------------------------\\n        96-12-14214-CV     12/20/1996 OTHER CIVIL CASES         02/18/1998  WON JURY TRIAL               \\n\\n        THE STATE OF TEXAS            MELISSA DAYLONG           APPROX. 440 POUNDS OF MARIHU                       \\n        -------------------------------------------------------------------------------------------------------------\\n        97-06-14568-CV     06/16/1997 OTHER CIVIL CASES         02/19/1998  WON JURY TRIAL               \\n\\n        NUTMEG INSURANCE COMPANY      LOREN R. SMITH            MANCHA, GUILLERMO             MICHAEL J. BAGLEY    \\n                                                                MARTINEZ, JOHNNY E.                                \\n                                                                MAVERICK COUNTY'\n"
     ]
    }
   ],
   "source": [
    "#For body\n",
    "text = text[392:]\n",
    "print(repr(text))"
   ]
  },
  {
   "cell_type": "code",
   "execution_count": 82,
   "id": "d3de17a4",
   "metadata": {},
   "outputs": [
    {
     "data": {
      "text/plain": [
       "['7815-OTH           02/22/1985 1                                                                  \\n\\n        ATTORNEY GENERAL              MARIA LARSON              MENDEZ, CARLOS GILBERTO                            \\n        MENDEZ, OLGA LIDIA                                                                                         \\n        ',\n",
       " '\\n        90-11-10256-CV     11/08/1990 1                                                                  \\n\\n        ATTORNEY GENERAL              ROLANDO MENCHACA          MARTINEZ, HECTOR RENE                              \\n        MARTINEZ, ROSALINDA                                                                                        \\n        ',\n",
       " '\\n        90-12-10326-CV     12/14/1990 INJURY OR DAMAGE OTHER T                                           \\n\\n        DIAZ CARPENTER, ENRIQUETA     JAY T. KIMBROUGH          BOWLES JR., RUDY              RICHARD TINSMAN      \\n        ',\n",
       " '\\n        91-06-10598-CV     10/22/1993 MOTION ENFORCEMENT, TO M  09/13/1994  MOTION TO ENFORC             \\n\\n        ATTORNEY GENERAL              ROLANDO MENCHACA          ARROYO, JUAN ANTONIO                               \\n        FUENTES, MARIA EUGENIA                                                                                     \\n        ',\n",
       " '\\n        95-01-12880-CV     01/05/1995 1                                                                  \\n\\n        ATTORNEY GENERAL              ENRIQUE FERNANDEZ         LARA, HOMERO                                       \\n        LARA, MARIA GUADALUPE                                                                                      \\n        ',\n",
       " '\\n        96-05-13796-CV     05/08/1996 1                                                                  \\n\\n        ATTORNEY GENERAL              POLLY J BONE              HERNANDEZ, JUAN F.                                 \\n        HERNANDEZ, OLGA E.                                                                                         \\n        ',\n",
       " '\\n        96-12-14214-CV     12/20/1996 OTHER CIVIL CASES         02/18/1998  WON JURY TRIAL               \\n\\n        THE STATE OF TEXAS            MELISSA DAYLONG           APPROX. 440 POUNDS OF MARIHU                       \\n        ',\n",
       " '\\n        97-06-14568-CV     06/16/1997 OTHER CIVIL CASES         02/19/1998  WON JURY TRIAL               \\n\\n        NUTMEG INSURANCE COMPANY      LOREN R. SMITH            MANCHA, GUILLERMO             MICHAEL J. BAGLEY    \\n                                                                MARTINEZ, JOHNNY E.                                \\n                                                                MAVERICK COUNTY']"
      ]
     },
     "execution_count": 82,
     "metadata": {},
     "output_type": "execute_result"
    }
   ],
   "source": [
    "#Now split each case by the dashed lines\n",
    "cases = text.split('-------------------------------------------------------------------------------------------------------------')\n",
    "cases"
   ]
  },
  {
   "cell_type": "code",
   "execution_count": 88,
   "id": "87d34a43",
   "metadata": {},
   "outputs": [
    {
     "name": "stdout",
     "output_type": "stream",
     "text": [
      "'\\n        97-06-14568-CV     06/16/1997 OTHER CIVIL CASES         02/19/1998  WON JURY TRIAL               \\n\\n        NUTMEG INSURANCE COMPANY      LOREN R. SMITH            MANCHA, GUILLERMO             MICHAEL J. BAGLEY    \\n                                                                MARTINEZ, JOHNNY E.                                \\n                                                                MAVERICK COUNTY'\n"
     ]
    }
   ],
   "source": [
    "#Only work with one case for now\n",
    "test_case = cases[-1]\n",
    "print(repr(test_case))"
   ]
  },
  {
   "cell_type": "code",
   "execution_count": 90,
   "id": "dc96d792",
   "metadata": {},
   "outputs": [
    {
     "name": "stdout",
     "output_type": "stream",
     "text": [
      "'97-06-14568-CV     06/16/1997 OTHER CIVIL CASES         02/19/1998  WON JURY TRIAL               \\n\\n        NUTMEG INSURANCE COMPANY      LOREN R. SMITH            MANCHA, GUILLERMO             MICHAEL J. BAGLEY    \\n                                                                MARTINEZ, JOHNNY E.                                \\n                                                                MAVERICK COUNTY'\n"
     ]
    }
   ],
   "source": [
    "#Strip the leading white space\n",
    "test_case = test_case.lstrip()\n",
    "print(repr(test_case))"
   ]
  },
  {
   "cell_type": "code",
   "execution_count": 91,
   "id": "59988d24",
   "metadata": {},
   "outputs": [],
   "source": [
    "#Try splitting on the new lines\n",
    "case_info = test_case.split('\\n')"
   ]
  },
  {
   "cell_type": "code",
   "execution_count": 92,
   "id": "922ac2cf",
   "metadata": {},
   "outputs": [
    {
     "data": {
      "text/plain": [
       "'97-06-14568-CV     06/16/1997 OTHER CIVIL CASES         02/19/1998  WON JURY TRIAL               '"
      ]
     },
     "execution_count": 92,
     "metadata": {},
     "output_type": "execute_result"
    }
   ],
   "source": [
    "#I can isolate the cause number, file date, cause of action, docket date, docket type, \n",
    "#ans filed date, and cr number from here\n",
    "case_info[0]"
   ]
  },
  {
   "cell_type": "code",
   "execution_count": 94,
   "id": "fead3a69",
   "metadata": {},
   "outputs": [
    {
     "data": {
      "text/plain": [
       "'06/16/1997 OTHER CIVIL CASES         02/19/1998  WON JURY TRIAL               '"
      ]
     },
     "execution_count": 94,
     "metadata": {},
     "output_type": "execute_result"
    }
   ],
   "source": [
    "#Date starts 19 characters in.\n",
    "case_info[0][19:]"
   ]
  },
  {
   "cell_type": "code",
   "execution_count": 95,
   "id": "a53d340d",
   "metadata": {},
   "outputs": [
    {
     "data": {
      "text/plain": [
       "'OTHER CIVIL CASES         02/19/1998  WON JURY TRIAL               '"
      ]
     },
     "execution_count": 95,
     "metadata": {},
     "output_type": "execute_result"
    }
   ],
   "source": [
    "#Cause of action start 30 characters in\n",
    "case_info[0][30:]"
   ]
  },
  {
   "cell_type": "code",
   "execution_count": 99,
   "id": "52534fa6",
   "metadata": {},
   "outputs": [
    {
     "data": {
      "text/plain": [
       "'02/19/1998  WON JURY TRIAL               '"
      ]
     },
     "execution_count": 99,
     "metadata": {},
     "output_type": "execute_result"
    }
   ],
   "source": [
    "#Docket date starts 56 characters in\n",
    "case_info[0][56:]"
   ]
  },
  {
   "cell_type": "code",
   "execution_count": 101,
   "id": "e288755b",
   "metadata": {},
   "outputs": [
    {
     "data": {
      "text/plain": [
       "'WON JURY TRIAL               '"
      ]
     },
     "execution_count": 101,
     "metadata": {},
     "output_type": "execute_result"
    }
   ],
   "source": [
    "#Docket type starts 68 characters in\n",
    "case_info[0][68:]"
   ]
  },
  {
   "cell_type": "code",
   "execution_count": null,
   "id": "119515f0",
   "metadata": {},
   "outputs": [],
   "source": [
    "#ANS Filed date starts \n",
    "#Still gotta find this one"
   ]
  },
  {
   "cell_type": "code",
   "execution_count": null,
   "id": "927b81e3",
   "metadata": {},
   "outputs": [],
   "source": [
    "#CR number starts \n",
    "#Still gotta find this one"
   ]
  },
  {
   "cell_type": "code",
   "execution_count": 102,
   "id": "f5c54077",
   "metadata": {},
   "outputs": [
    {
     "data": {
      "text/plain": [
       "''"
      ]
     },
     "execution_count": 102,
     "metadata": {},
     "output_type": "execute_result"
    }
   ],
   "source": [
    "#Appears to be an extra new line\n",
    "case_info[1]"
   ]
  },
  {
   "cell_type": "code",
   "execution_count": 103,
   "id": "32f50e81",
   "metadata": {},
   "outputs": [
    {
     "data": {
      "text/plain": [
       "'NUTMEG INSURANCE COMPANY      LOREN R. SMITH            MANCHA, GUILLERMO             MICHAEL J. BAGLEY    '"
      ]
     },
     "execution_count": 103,
     "metadata": {},
     "output_type": "execute_result"
    }
   ],
   "source": [
    "#The first line of names starts 8 characters in. This should be the same for each case\n",
    "case_info[2][8:]"
   ]
  },
  {
   "cell_type": "markdown",
   "id": "af87eed6",
   "metadata": {},
   "source": [
    "__Name Spacing__\n",
    "\n",
    "The names appear to all start at the same place every time. Here is what I have found:\n",
    "\n",
    "* Plaintiff Name: 8 Characters in\n",
    "* Plaintiff Attorney: 38 Characters in\n",
    "* Defendant Name: 64 Characters in\n",
    "* Defendant Attorney: 94 Characters in\n",
    "\n",
    "These numbers seem consistent regardless of what line they appear on."
   ]
  },
  {
   "cell_type": "code",
   "execution_count": 104,
   "id": "384b5139",
   "metadata": {},
   "outputs": [
    {
     "data": {
      "text/plain": [
       "'LOREN R. SMITH            MANCHA, GUILLERMO             MICHAEL J. BAGLEY    '"
      ]
     },
     "execution_count": 104,
     "metadata": {},
     "output_type": "execute_result"
    }
   ],
   "source": [
    "#The second name starts 38 characters in. I hope this is the same for all of them\n",
    "case_info[2][38:]"
   ]
  },
  {
   "cell_type": "code",
   "execution_count": 105,
   "id": "583aa833",
   "metadata": {},
   "outputs": [
    {
     "data": {
      "text/plain": [
       "'MANCHA, GUILLERMO             MICHAEL J. BAGLEY    '"
      ]
     },
     "execution_count": 105,
     "metadata": {},
     "output_type": "execute_result"
    }
   ],
   "source": [
    "#The third name starts 64 characters in. I hope this is also the same for all of them\n",
    "case_info[2][64:]"
   ]
  },
  {
   "cell_type": "code",
   "execution_count": 110,
   "id": "0de269db",
   "metadata": {},
   "outputs": [
    {
     "data": {
      "text/plain": [
       "'MICHAEL J. BAGLEY    '"
      ]
     },
     "execution_count": 110,
     "metadata": {},
     "output_type": "execute_result"
    }
   ],
   "source": [
    "#The fourth name starts 94 characters in\n",
    "case_info[2][94:]"
   ]
  },
  {
   "cell_type": "code",
   "execution_count": 111,
   "id": "2c96849b",
   "metadata": {},
   "outputs": [
    {
     "data": {
      "text/plain": [
       "'                                                                MARTINEZ, JOHNNY E.                                '"
      ]
     },
     "execution_count": 111,
     "metadata": {},
     "output_type": "execute_result"
    }
   ],
   "source": [
    "case_info[3]"
   ]
  },
  {
   "cell_type": "code",
   "execution_count": 36,
   "id": "71c8fd47",
   "metadata": {},
   "outputs": [
    {
     "data": {
      "text/plain": [
       "'MENDEZ, OLGA LIDIA                                                                                         '"
      ]
     },
     "execution_count": 36,
     "metadata": {},
     "output_type": "execute_result"
    }
   ],
   "source": [
    "#The second plaintiff name starts 8 characters in. This should be the same for each case\n",
    "case_info[3][8:]"
   ]
  },
  {
   "cell_type": "code",
   "execution_count": 112,
   "id": "1c9d1e0f",
   "metadata": {},
   "outputs": [
    {
     "data": {
      "text/plain": [
       "'MARTINEZ, JOHNNY E.                                '"
      ]
     },
     "execution_count": 112,
     "metadata": {},
     "output_type": "execute_result"
    }
   ],
   "source": [
    "#The second defendant name starts 64 characters in.\n",
    "case_info[3][64:]"
   ]
  },
  {
   "cell_type": "markdown",
   "id": "c136369a",
   "metadata": {},
   "source": [
    "# Start Isolating Info\n",
    "\n",
    "Isolate the case info and add it to a temp dict. When complete the temp dict will be appended to the container dictionary. Finally, when the info for each case has been extracted, convert the container dict to a dataframe."
   ]
  },
  {
   "cell_type": "code",
   "execution_count": 117,
   "id": "ebb4e7e0",
   "metadata": {},
   "outputs": [],
   "source": [
    "#Create a container dict to store all case info\n",
    "container_dict = {}\n",
    "\n",
    "#Create a temp dict that stores individual case info\n",
    "case_dict = {}"
   ]
  },
  {
   "cell_type": "markdown",
   "id": "248ebc91",
   "metadata": {},
   "source": [
    "__County__\n",
    "\n",
    "The county name will be found in the header info of each page. The easiest way I can think to isolate the county is to just use an if statement and check for each county name in the header text. There should only be one match, so it should be fine. Possible counties: Maverick, Dimmit, Zavala"
   ]
  },
  {
   "cell_type": "code",
   "execution_count": 115,
   "id": "64960108",
   "metadata": {},
   "outputs": [
    {
     "data": {
      "text/plain": [
       "'COUNTY OF MAVERICK 293RD DISTRICT COURT CIVIL PENDING CASES AS OF 01/19/2022\\n\\n                                           RAN ON JANUARY 19, 2022 09:02am PAGE: 1\\n\\n        CAUSE #             FILE DATE CAUSE OF ACTION           DOCKT DATE  DOCKET TYPE       ANS FILED  CR CASE #\\n\\nPLAINTIFF NAME                PLAINTIFF ATTORNEY        DEFENDANT NAME                DEFENDANT ATTORNEY\\n\\n        '"
      ]
     },
     "execution_count": 115,
     "metadata": {},
     "output_type": "execute_result"
    }
   ],
   "source": [
    "header"
   ]
  },
  {
   "cell_type": "code",
   "execution_count": 116,
   "id": "58cfda62",
   "metadata": {},
   "outputs": [
    {
     "data": {
      "text/plain": [
       "'Maverick'"
      ]
     },
     "execution_count": 116,
     "metadata": {},
     "output_type": "execute_result"
    }
   ],
   "source": [
    "#Use if statement to check for county names inside the header info\n",
    "if header.count('MAVERICK') >= 1:\n",
    "    county = 'Maverick'\n",
    "elif header.count('DIMMIT') >= 1:\n",
    "    county = 'Dimmit'\n",
    "elif header.count('ZAVALA') >= 1:\n",
    "    county = 'Zavala'\n",
    "else:\n",
    "    county = 'Something went wrong!'\n",
    "    \n",
    "county"
   ]
  },
  {
   "cell_type": "code",
   "execution_count": 118,
   "id": "923cb5a6",
   "metadata": {},
   "outputs": [],
   "source": [
    "#Add to dict\n",
    "case_dict['County'] = county"
   ]
  },
  {
   "cell_type": "markdown",
   "id": "f7afd793",
   "metadata": {},
   "source": [
    "__Cause Number__"
   ]
  },
  {
   "cell_type": "code",
   "execution_count": 120,
   "id": "c5d831e6",
   "metadata": {},
   "outputs": [
    {
     "data": {
      "text/plain": [
       "'97-06-14568-CV'"
      ]
     },
     "execution_count": 120,
     "metadata": {},
     "output_type": "execute_result"
    }
   ],
   "source": [
    "#Get the cause number\n",
    "cause_num = case_info[0][:19].strip()\n",
    "cause_num"
   ]
  },
  {
   "cell_type": "code",
   "execution_count": 121,
   "id": "d2c88559",
   "metadata": {},
   "outputs": [],
   "source": [
    "#Add to dict\n",
    "case_dict['Cause Number'] = cause_num"
   ]
  },
  {
   "cell_type": "markdown",
   "id": "38e5d253",
   "metadata": {},
   "source": [
    "__File Date__"
   ]
  },
  {
   "cell_type": "code",
   "execution_count": 122,
   "id": "77702877",
   "metadata": {},
   "outputs": [
    {
     "data": {
      "text/plain": [
       "'06/16/1997'"
      ]
     },
     "execution_count": 122,
     "metadata": {},
     "output_type": "execute_result"
    }
   ],
   "source": [
    "file_date = case_info[0][15:30].strip()\n",
    "file_date"
   ]
  },
  {
   "cell_type": "code",
   "execution_count": 123,
   "id": "e9ee8643",
   "metadata": {},
   "outputs": [],
   "source": [
    "#Add to dict\n",
    "case_dict['File Date'] = file_date"
   ]
  },
  {
   "cell_type": "markdown",
   "id": "8d081c5a",
   "metadata": {},
   "source": [
    "__Cause of Action__"
   ]
  },
  {
   "cell_type": "code",
   "execution_count": 125,
   "id": "29dd3c6d",
   "metadata": {},
   "outputs": [
    {
     "data": {
      "text/plain": [
       "'OTHER CIVIL CASES'"
      ]
     },
     "execution_count": 125,
     "metadata": {},
     "output_type": "execute_result"
    }
   ],
   "source": [
    "coa = case_info[0][30:56].strip()\n",
    "coa"
   ]
  },
  {
   "cell_type": "code",
   "execution_count": 126,
   "id": "8468df67",
   "metadata": {},
   "outputs": [],
   "source": [
    "#Add to dict\n",
    "case_dict['Cause of Action'] = coa"
   ]
  },
  {
   "cell_type": "markdown",
   "id": "21f4697d",
   "metadata": {},
   "source": [
    "__Docket Date__"
   ]
  },
  {
   "cell_type": "code",
   "execution_count": 128,
   "id": "73ba7234",
   "metadata": {},
   "outputs": [
    {
     "data": {
      "text/plain": [
       "'02/19/1998'"
      ]
     },
     "execution_count": 128,
     "metadata": {},
     "output_type": "execute_result"
    }
   ],
   "source": [
    "docket_date = case_info[0][56:68].strip()\n",
    "docket_date"
   ]
  },
  {
   "cell_type": "code",
   "execution_count": 129,
   "id": "18ae34e1",
   "metadata": {},
   "outputs": [],
   "source": [
    "#Add to dict\n",
    "case_dict['Docket Date'] = docket_date"
   ]
  },
  {
   "cell_type": "markdown",
   "id": "9ebfd745",
   "metadata": {},
   "source": [
    "__Docket Type__"
   ]
  },
  {
   "cell_type": "code",
   "execution_count": 131,
   "id": "a5ac2c73",
   "metadata": {},
   "outputs": [
    {
     "data": {
      "text/plain": [
       "'WON JURY TRIAL'"
      ]
     },
     "execution_count": 131,
     "metadata": {},
     "output_type": "execute_result"
    }
   ],
   "source": [
    "docket_type = case_info[0][68:].strip()\n",
    "docket_type"
   ]
  },
  {
   "cell_type": "code",
   "execution_count": 132,
   "id": "a656a6cf",
   "metadata": {},
   "outputs": [],
   "source": [
    "#Add to dict\n",
    "case_dict['Docket Type'] = docket_type"
   ]
  },
  {
   "cell_type": "markdown",
   "id": "bb51a287",
   "metadata": {},
   "source": [
    "__ANS File Date__\n",
    "\n",
    "I still need to figure this one out."
   ]
  },
  {
   "cell_type": "markdown",
   "id": "c9c80a25",
   "metadata": {},
   "source": [
    "__CR Number__\n",
    "\n",
    "I still need to figure this one out."
   ]
  },
  {
   "cell_type": "markdown",
   "id": "d4a9f041",
   "metadata": {},
   "source": [
    "__Names__\n",
    "\n",
    "The next few entries will be tricky. If there is more than one name associated with each label (plaintiff name, plaintiff attorney, defendant name, defendant attorney), then there will be more than one line of names. In my function, I'll have to set up a loop that can accurately pick up all of the names. For now, I'll make each label a list of names. If it needs to be changed to a string of names later, I can do that too. I'll also have to build a function that checks to see if each segment is composed entirely of whitespace. That way, if it is, we know there isn't a name for that particular label. "
   ]
  },
  {
   "cell_type": "code",
   "execution_count": 159,
   "id": "c419b62c",
   "metadata": {},
   "outputs": [],
   "source": [
    "#Will need to set up the lists before the loop. They will be added to the dict after the loop\n",
    "plaintiff_names = []\n",
    "plaintiff_attorneys = []\n",
    "defendant_names = []\n",
    "defendant_attorneys = []\n",
    "\n",
    "#The names always start on the third line (index = 2)\n",
    "for i in range(2, len(case_info)):\n",
    "    #Get the plaintiff name on current line\n",
    "    plaintiff_name = case_info[i][:38]\n",
    "    \n",
    "    #Check if plaintiff_name is all whitesapace. If not, strip it and add to names list\n",
    "    #Also check that the string is not empty\n",
    "    if plaintiff_name.isspace() == False and len(plaintiff_name) > 0:\n",
    "        plaintiff_names.append(plaintiff_name.strip())\n",
    "        \n",
    "    #Get the plaintiff attorney on current line\n",
    "    plaintiff_attorney = case_info[i][38:64]\n",
    "    \n",
    "    #Check if plaintiff_attorney is all whitespace. If not, strip it and add to list\n",
    "    #Also check that the string is not empty\n",
    "    if plaintiff_attorney.isspace() == False and len(plaintiff_attorney) > 0:\n",
    "        plaintiff_attorneys.append(plaintiff_attorney.strip())\n",
    "        \n",
    "    #Get the defendant name on current line\n",
    "    defendant_name = case_info[i][64:94]\n",
    "    \n",
    "    #Check if defendant_name is all whitespace. If not, strip it and add to list\n",
    "    #Also check that the string is not empty\n",
    "    if defendant_name.isspace() == False and len(defendant_name) > 0:\n",
    "        defendant_names.append(defendant_name.strip())\n",
    "    \n",
    "    #Get the defendant attorney on current line\n",
    "    defendant_attorney = case_info[i][94:]\n",
    "    \n",
    "    #Check if the defendant_attorney is all whitespace. If not, strip it and add to list\n",
    "    #Also check that the string is not empty\n",
    "    if defendant_attorney.isspace() == False and len(defendant_attorney) > 0:\n",
    "        defendant_attorneys.append(defendant_attorney.strip())"
   ]
  },
  {
   "cell_type": "code",
   "execution_count": 160,
   "id": "77f94e97",
   "metadata": {},
   "outputs": [],
   "source": [
    "#Now add all names to the dict\n",
    "case_dict['Plaintiff Name'] = plaintiff_names\n",
    "case_dict['Plaintiff Attorney'] = plaintiff_attorneys\n",
    "case_dict['Defendant Name'] = defendant_names\n",
    "case_dict['Defendant Attorney'] = defendant_attorneys"
   ]
  },
  {
   "cell_type": "code",
   "execution_count": 162,
   "id": "a202d0ed",
   "metadata": {},
   "outputs": [
    {
     "data": {
      "text/plain": [
       "{'County': 'Maverick',\n",
       " 'Cause Number': '97-06-14568-CV',\n",
       " 'File Date': '06/16/1997',\n",
       " 'Cause of Action': 'OTHER CIVIL CASES',\n",
       " 'Docket Date': '02/19/1998',\n",
       " 'Docket Type': 'WON JURY TRIAL',\n",
       " 'Plaintiff Name': ['NUTMEG INSURANCE COMPANY'],\n",
       " 'Plaintiff Attorney': ['LOREN R. SMITH'],\n",
       " 'Defendant Name': ['MANCHA, GUILLERMO',\n",
       "  'MARTINEZ, JOHNNY E.',\n",
       "  'MAVERICK COUNTY'],\n",
       " 'Defendant Attorney': ['MICHAEL J. BAGLEY']}"
      ]
     },
     "execution_count": 162,
     "metadata": {},
     "output_type": "execute_result"
    }
   ],
   "source": [
    "case_dict"
   ]
  },
  {
   "cell_type": "code",
   "execution_count": null,
   "id": "c666bd19",
   "metadata": {},
   "outputs": [],
   "source": []
  }
 ],
 "metadata": {
  "kernelspec": {
   "display_name": "Python 3",
   "language": "python",
   "name": "python3"
  },
  "language_info": {
   "codemirror_mode": {
    "name": "ipython",
    "version": 3
   },
   "file_extension": ".py",
   "mimetype": "text/x-python",
   "name": "python",
   "nbconvert_exporter": "python",
   "pygments_lexer": "ipython3",
   "version": "3.9.1"
  }
 },
 "nbformat": 4,
 "nbformat_minor": 5
}
