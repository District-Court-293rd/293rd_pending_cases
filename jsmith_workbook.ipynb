{
 "cells": [
  {
   "cell_type": "code",
   "execution_count": 1,
   "id": "4c33e385",
   "metadata": {},
   "outputs": [],
   "source": [
    "import numpy as np\n",
    "import pandas as pd\n",
    "import re\n",
    "from PyPDF2 import PdfFileReader"
   ]
  },
  {
   "cell_type": "markdown",
   "id": "a39bb5c4",
   "metadata": {},
   "source": [
    "# Load the PDF File"
   ]
  },
  {
   "cell_type": "code",
   "execution_count": 2,
   "id": "0deb19ca",
   "metadata": {},
   "outputs": [],
   "source": [
    "# open the PDF file\n",
    "pdfFile = open('/Users/johnathonsmith/Downloads/293RDCV.PEND.CASE_1642601189564_-1416322429.pdf', 'rb')\n"
   ]
  },
  {
   "cell_type": "markdown",
   "id": "3b9abfc6",
   "metadata": {},
   "source": [
    "# Read the File"
   ]
  },
  {
   "cell_type": "code",
   "execution_count": 3,
   "id": "26a7995a",
   "metadata": {},
   "outputs": [],
   "source": [
    "# create PDFFileReader object to read the file\n",
    "pdfReader = PdfFileReader(pdfFile)"
   ]
  },
  {
   "cell_type": "markdown",
   "id": "db9650d4",
   "metadata": {},
   "source": [
    "# Check For Encryption"
   ]
  },
  {
   "cell_type": "code",
   "execution_count": 4,
   "id": "f04f9d6d",
   "metadata": {},
   "outputs": [
    {
     "name": "stdout",
     "output_type": "stream",
     "text": [
      "PDF File is encrypted. Password is needed to continue.\n"
     ]
    }
   ],
   "source": [
    "if pdfReader.isEncrypted == True:\n",
    "    print(\"PDF File is encrypted. Password is needed to continue.\")\n",
    "else:\n",
    "    print(\"PDF File is not encrypted. Password is not needed.\")"
   ]
  },
  {
   "cell_type": "markdown",
   "id": "37138166",
   "metadata": {},
   "source": [
    "# Print Document Info"
   ]
  },
  {
   "cell_type": "code",
   "execution_count": 5,
   "id": "706e5715",
   "metadata": {},
   "outputs": [],
   "source": [
    "#print(\"PDF File name: \" + str(pdfReader.getDocumentInfo().title))\n",
    "#print(\"PDF File created by: \" + str(pdfReader.getDocumentInfo().creator))\n",
    "#print(\"- - - - - - - - - - - - - - - - - - - -\")"
   ]
  },
  {
   "cell_type": "markdown",
   "id": "470cf3b0",
   "metadata": {},
   "source": [
    "# Try Using PDFminer3"
   ]
  },
  {
   "cell_type": "code",
   "execution_count": 6,
   "id": "eff10c6e",
   "metadata": {},
   "outputs": [],
   "source": [
    "#imports\n",
    "import pandas as pd\n",
    "\n",
    "from pdfminer3.layout import LAParams, LTTextBox\n",
    "from pdfminer3.pdfpage import PDFPage\n",
    "from pdfminer3.pdfinterp import PDFResourceManager\n",
    "from pdfminer3.pdfinterp import PDFPageInterpreter\n",
    "from pdfminer3.converter import PDFPageAggregator\n",
    "from pdfminer3.converter import TextConverter\n",
    "import io"
   ]
  },
  {
   "cell_type": "code",
   "execution_count": 7,
   "id": "011a9d2f",
   "metadata": {},
   "outputs": [
    {
     "name": "stdout",
     "output_type": "stream",
     "text": [
      "                COUNTY OF MAVERICK 293RD DISTRICT COURT CIVIL PENDING CASES AS OF 01/19/2022\n",
      "\n",
      "                                           RAN ON JANUARY 19, 2022 09:02am PAGE: 1\n",
      "\n",
      "        CAUSE #             FILE DATE CAUSE OF ACTION           DOCKT DATE  DOCKET TYPE       ANS FILED  CR CASE #\n",
      "\n",
      "PLAINTIFF NAME                PLAINTIFF ATTORNEY        DEFENDANT NAME                DEFENDANT ATTORNEY\n",
      "\n",
      "        7815-OTH           02/22/1985 1                                                                  \n",
      "\n",
      "        ATTORNEY GENERAL              MARIA LARSON              MENDEZ, CARLOS GILBERTO                            \n",
      "        MENDEZ, OLGA LIDIA                                                                                         \n",
      "        -------------------------------------------------------------------------------------------------------------\n",
      "        90-11-10256-CV     11/08/1990 1                                                                  \n",
      "\n",
      "        ATTORNEY GENERAL              ROLANDO MENCHACA          MARTINEZ, HECTOR RENE                              \n",
      "        MARTINEZ, ROSALINDA                                                                                        \n",
      "        -------------------------------------------------------------------------------------------------------------\n",
      "        90-12-10326-CV     12/14/1990 INJURY OR DAMAGE OTHER T                                           \n",
      "\n",
      "        DIAZ CARPENTER, ENRIQUETA     JAY T. KIMBROUGH          BOWLES JR., RUDY              RICHARD TINSMAN      \n",
      "        -------------------------------------------------------------------------------------------------------------\n",
      "        91-06-10598-CV     10/22/1993 MOTION ENFORCEMENT, TO M  09/13/1994  MOTION TO ENFORC             \n",
      "\n",
      "        ATTORNEY GENERAL              ROLANDO MENCHACA          ARROYO, JUAN ANTONIO                               \n",
      "        FUENTES, MARIA EUGENIA                                                                                     \n",
      "        -------------------------------------------------------------------------------------------------------------\n",
      "        95-01-12880-CV     01/05/1995 1                                                                  \n",
      "\n",
      "        ATTORNEY GENERAL              ENRIQUE FERNANDEZ         LARA, HOMERO                                       \n",
      "        LARA, MARIA GUADALUPE                                                                                      \n",
      "        -------------------------------------------------------------------------------------------------------------\n",
      "        96-05-13796-CV     05/08/1996 1                                                                  \n",
      "\n",
      "        ATTORNEY GENERAL              POLLY J BONE              HERNANDEZ, JUAN F.                                 \n",
      "        HERNANDEZ, OLGA E.                                                                                         \n",
      "        -------------------------------------------------------------------------------------------------------------\n",
      "        96-12-14214-CV     12/20/1996 OTHER CIVIL CASES         02/18/1998  WON JURY TRIAL               \n",
      "\n",
      "        THE STATE OF TEXAS            MELISSA DAYLONG           APPROX. 440 POUNDS OF MARIHU                       \n",
      "        -------------------------------------------------------------------------------------------------------------\n",
      "        97-06-14568-CV     06/16/1997 OTHER CIVIL CASES         02/19/1998  WON JURY TRIAL               \n",
      "\n",
      "        NUTMEG INSURANCE COMPANY      LOREN R. SMITH            MANCHA, GUILLERMO             MICHAEL J. BAGLEY    \n",
      "                                                                MARTINEZ, JOHNNY E.                                \n",
      "                                                                MAVERICK COUNTY                                    \n",
      "\n",
      "\f",
      "\n"
     ]
    }
   ],
   "source": [
    "#Set up resource manager to handle pdf content. text, images, etc.\n",
    "resource_manager = PDFResourceManager()\n",
    "\n",
    "#Used to display text\n",
    "fake_file_handle = io.StringIO()\n",
    "\n",
    "#Set up converter\n",
    "converter = TextConverter(resource_manager, fake_file_handle, laparams=LAParams())\n",
    "\n",
    "#Set up page interpreter\n",
    "page_interpreter = PDFPageInterpreter(resource_manager, converter)\n",
    "\n",
    "with open('/Users/johnathonsmith/Downloads/293RDCV.PEND.CASE_1642601189564_-1416322429.pdf', 'rb') as fh:\n",
    "\n",
    "    for page_number, page in enumerate(PDFPage.get_pages(fh,\n",
    "                                  caching=True,\n",
    "                                  maxpages = 14,\n",
    "                                  check_extractable=True)):\n",
    "        #Only read page 1 for now (index = 0)\n",
    "        if page_number == 0:\n",
    "            page_interpreter.process_page(page)\n",
    "\n",
    "    text = fake_file_handle.getvalue()\n",
    "\n",
    "# close open handles\n",
    "converter.close()\n",
    "fake_file_handle.close()\n",
    "\n",
    "print(text)"
   ]
  },
  {
   "cell_type": "code",
   "execution_count": 8,
   "id": "3589af5e",
   "metadata": {},
   "outputs": [
    {
     "name": "stdout",
     "output_type": "stream",
     "text": [
      "'                COUNTY OF MAVERICK 293RD DISTRICT COURT CIVIL PENDING CASES AS OF 01/19/2022\\n\\n                                           RAN ON JANUARY 19, 2022 09:02am PAGE: 1\\n\\n        CAUSE #             FILE DATE CAUSE OF ACTION           DOCKT DATE  DOCKET TYPE       ANS FILED  CR CASE #\\n\\nPLAINTIFF NAME                PLAINTIFF ATTORNEY        DEFENDANT NAME                DEFENDANT ATTORNEY\\n\\n        7815-OTH           02/22/1985 1                                                                  \\n\\n        ATTORNEY GENERAL              MARIA LARSON              MENDEZ, CARLOS GILBERTO                            \\n        MENDEZ, OLGA LIDIA                                                                                         \\n        -------------------------------------------------------------------------------------------------------------\\n        90-11-10256-CV     11/08/1990 1                                                                  \\n\\n        ATTORNEY GENERAL              ROLANDO MENCHACA          MARTINEZ, HECTOR RENE                              \\n        MARTINEZ, ROSALINDA                                                                                        \\n        -------------------------------------------------------------------------------------------------------------\\n        90-12-10326-CV     12/14/1990 INJURY OR DAMAGE OTHER T                                           \\n\\n        DIAZ CARPENTER, ENRIQUETA     JAY T. KIMBROUGH          BOWLES JR., RUDY              RICHARD TINSMAN      \\n        -------------------------------------------------------------------------------------------------------------\\n        91-06-10598-CV     10/22/1993 MOTION ENFORCEMENT, TO M  09/13/1994  MOTION TO ENFORC             \\n\\n        ATTORNEY GENERAL              ROLANDO MENCHACA          ARROYO, JUAN ANTONIO                               \\n        FUENTES, MARIA EUGENIA                                                                                     \\n        -------------------------------------------------------------------------------------------------------------\\n        95-01-12880-CV     01/05/1995 1                                                                  \\n\\n        ATTORNEY GENERAL              ENRIQUE FERNANDEZ         LARA, HOMERO                                       \\n        LARA, MARIA GUADALUPE                                                                                      \\n        -------------------------------------------------------------------------------------------------------------\\n        96-05-13796-CV     05/08/1996 1                                                                  \\n\\n        ATTORNEY GENERAL              POLLY J BONE              HERNANDEZ, JUAN F.                                 \\n        HERNANDEZ, OLGA E.                                                                                         \\n        -------------------------------------------------------------------------------------------------------------\\n        96-12-14214-CV     12/20/1996 OTHER CIVIL CASES         02/18/1998  WON JURY TRIAL               \\n\\n        THE STATE OF TEXAS            MELISSA DAYLONG           APPROX. 440 POUNDS OF MARIHU                       \\n        -------------------------------------------------------------------------------------------------------------\\n        97-06-14568-CV     06/16/1997 OTHER CIVIL CASES         02/19/1998  WON JURY TRIAL               \\n\\n        NUTMEG INSURANCE COMPANY      LOREN R. SMITH            MANCHA, GUILLERMO             MICHAEL J. BAGLEY    \\n                                                                MARTINEZ, JOHNNY E.                                \\n                                                                MAVERICK COUNTY                                    \\n\\n\\x0c'\n"
     ]
    }
   ],
   "source": [
    "#Now try finding places to break it down a bit\n",
    "print(repr(text))"
   ]
  },
  {
   "cell_type": "code",
   "execution_count": 9,
   "id": "52361327",
   "metadata": {},
   "outputs": [
    {
     "name": "stdout",
     "output_type": "stream",
     "text": [
      "'COUNTY OF MAVERICK 293RD DISTRICT COURT CIVIL PENDING CASES AS OF 01/19/2022\\n\\n                                           RAN ON JANUARY 19, 2022 09:02am PAGE: 1\\n\\n        CAUSE #             FILE DATE CAUSE OF ACTION           DOCKT DATE  DOCKET TYPE       ANS FILED  CR CASE #\\n\\nPLAINTIFF NAME                PLAINTIFF ATTORNEY        DEFENDANT NAME                DEFENDANT ATTORNEY\\n\\n        7815-OTH           02/22/1985 1                                                                  \\n\\n        ATTORNEY GENERAL              MARIA LARSON              MENDEZ, CARLOS GILBERTO                            \\n        MENDEZ, OLGA LIDIA                                                                                         \\n        -------------------------------------------------------------------------------------------------------------\\n        90-11-10256-CV     11/08/1990 1                                                                  \\n\\n        ATTORNEY GENERAL              ROLANDO MENCHACA          MARTINEZ, HECTOR RENE                              \\n        MARTINEZ, ROSALINDA                                                                                        \\n        -------------------------------------------------------------------------------------------------------------\\n        90-12-10326-CV     12/14/1990 INJURY OR DAMAGE OTHER T                                           \\n\\n        DIAZ CARPENTER, ENRIQUETA     JAY T. KIMBROUGH          BOWLES JR., RUDY              RICHARD TINSMAN      \\n        -------------------------------------------------------------------------------------------------------------\\n        91-06-10598-CV     10/22/1993 MOTION ENFORCEMENT, TO M  09/13/1994  MOTION TO ENFORC             \\n\\n        ATTORNEY GENERAL              ROLANDO MENCHACA          ARROYO, JUAN ANTONIO                               \\n        FUENTES, MARIA EUGENIA                                                                                     \\n        -------------------------------------------------------------------------------------------------------------\\n        95-01-12880-CV     01/05/1995 1                                                                  \\n\\n        ATTORNEY GENERAL              ENRIQUE FERNANDEZ         LARA, HOMERO                                       \\n        LARA, MARIA GUADALUPE                                                                                      \\n        -------------------------------------------------------------------------------------------------------------\\n        96-05-13796-CV     05/08/1996 1                                                                  \\n\\n        ATTORNEY GENERAL              POLLY J BONE              HERNANDEZ, JUAN F.                                 \\n        HERNANDEZ, OLGA E.                                                                                         \\n        -------------------------------------------------------------------------------------------------------------\\n        96-12-14214-CV     12/20/1996 OTHER CIVIL CASES         02/18/1998  WON JURY TRIAL               \\n\\n        THE STATE OF TEXAS            MELISSA DAYLONG           APPROX. 440 POUNDS OF MARIHU                       \\n        -------------------------------------------------------------------------------------------------------------\\n        97-06-14568-CV     06/16/1997 OTHER CIVIL CASES         02/19/1998  WON JURY TRIAL               \\n\\n        NUTMEG INSURANCE COMPANY      LOREN R. SMITH            MANCHA, GUILLERMO             MICHAEL J. BAGLEY    \\n                                                                MARTINEZ, JOHNNY E.                                \\n                                                                MAVERICK COUNTY'\n"
     ]
    }
   ],
   "source": [
    "#First, strip leading and trailing whitespaces\n",
    "text = text.strip()\n",
    "print(repr(text))"
   ]
  },
  {
   "cell_type": "code",
   "execution_count": 10,
   "id": "f227068c",
   "metadata": {},
   "outputs": [
    {
     "name": "stdout",
     "output_type": "stream",
     "text": [
      "'COUNTY OF MAVERICK 293RD DISTRICT COURT CIVIL PENDING CASES AS OF 01/19/2022\\n\\n                                           RAN ON JANUARY 19, 2022 09:02am PAGE: 1\\n\\n        CAUSE #             FILE DATE CAUSE OF ACTION           DOCKT DATE  DOCKET TYPE       ANS FILED  CR CASE #\\n\\nPLAINTIFF NAME                PLAINTIFF ATTORNEY        DEFENDANT NAME                DEFENDANT ATTORNEY\\n\\n        '\n"
     ]
    }
   ],
   "source": [
    "#Now separate header and body text info\n",
    "\n",
    "#For header\n",
    "header = text[:392]\n",
    "print(repr(header))"
   ]
  },
  {
   "cell_type": "code",
   "execution_count": 11,
   "id": "a7b1f3b3",
   "metadata": {},
   "outputs": [
    {
     "name": "stdout",
     "output_type": "stream",
     "text": [
      "'7815-OTH           02/22/1985 1                                                                  \\n\\n        ATTORNEY GENERAL              MARIA LARSON              MENDEZ, CARLOS GILBERTO                            \\n        MENDEZ, OLGA LIDIA                                                                                         \\n        -------------------------------------------------------------------------------------------------------------\\n        90-11-10256-CV     11/08/1990 1                                                                  \\n\\n        ATTORNEY GENERAL              ROLANDO MENCHACA          MARTINEZ, HECTOR RENE                              \\n        MARTINEZ, ROSALINDA                                                                                        \\n        -------------------------------------------------------------------------------------------------------------\\n        90-12-10326-CV     12/14/1990 INJURY OR DAMAGE OTHER T                                           \\n\\n        DIAZ CARPENTER, ENRIQUETA     JAY T. KIMBROUGH          BOWLES JR., RUDY              RICHARD TINSMAN      \\n        -------------------------------------------------------------------------------------------------------------\\n        91-06-10598-CV     10/22/1993 MOTION ENFORCEMENT, TO M  09/13/1994  MOTION TO ENFORC             \\n\\n        ATTORNEY GENERAL              ROLANDO MENCHACA          ARROYO, JUAN ANTONIO                               \\n        FUENTES, MARIA EUGENIA                                                                                     \\n        -------------------------------------------------------------------------------------------------------------\\n        95-01-12880-CV     01/05/1995 1                                                                  \\n\\n        ATTORNEY GENERAL              ENRIQUE FERNANDEZ         LARA, HOMERO                                       \\n        LARA, MARIA GUADALUPE                                                                                      \\n        -------------------------------------------------------------------------------------------------------------\\n        96-05-13796-CV     05/08/1996 1                                                                  \\n\\n        ATTORNEY GENERAL              POLLY J BONE              HERNANDEZ, JUAN F.                                 \\n        HERNANDEZ, OLGA E.                                                                                         \\n        -------------------------------------------------------------------------------------------------------------\\n        96-12-14214-CV     12/20/1996 OTHER CIVIL CASES         02/18/1998  WON JURY TRIAL               \\n\\n        THE STATE OF TEXAS            MELISSA DAYLONG           APPROX. 440 POUNDS OF MARIHU                       \\n        -------------------------------------------------------------------------------------------------------------\\n        97-06-14568-CV     06/16/1997 OTHER CIVIL CASES         02/19/1998  WON JURY TRIAL               \\n\\n        NUTMEG INSURANCE COMPANY      LOREN R. SMITH            MANCHA, GUILLERMO             MICHAEL J. BAGLEY    \\n                                                                MARTINEZ, JOHNNY E.                                \\n                                                                MAVERICK COUNTY'\n"
     ]
    }
   ],
   "source": [
    "#For body\n",
    "text = text[392:]\n",
    "print(repr(text))"
   ]
  },
  {
   "cell_type": "code",
   "execution_count": 12,
   "id": "3ac6a5b5",
   "metadata": {},
   "outputs": [
    {
     "data": {
      "text/plain": [
       "['7815-OTH           02/22/1985 1                                                                  \\n\\n        ATTORNEY GENERAL              MARIA LARSON              MENDEZ, CARLOS GILBERTO                            \\n        MENDEZ, OLGA LIDIA                                                                                         \\n        ',\n",
       " '\\n        90-11-10256-CV     11/08/1990 1                                                                  \\n\\n        ATTORNEY GENERAL              ROLANDO MENCHACA          MARTINEZ, HECTOR RENE                              \\n        MARTINEZ, ROSALINDA                                                                                        \\n        ',\n",
       " '\\n        90-12-10326-CV     12/14/1990 INJURY OR DAMAGE OTHER T                                           \\n\\n        DIAZ CARPENTER, ENRIQUETA     JAY T. KIMBROUGH          BOWLES JR., RUDY              RICHARD TINSMAN      \\n        ',\n",
       " '\\n        91-06-10598-CV     10/22/1993 MOTION ENFORCEMENT, TO M  09/13/1994  MOTION TO ENFORC             \\n\\n        ATTORNEY GENERAL              ROLANDO MENCHACA          ARROYO, JUAN ANTONIO                               \\n        FUENTES, MARIA EUGENIA                                                                                     \\n        ',\n",
       " '\\n        95-01-12880-CV     01/05/1995 1                                                                  \\n\\n        ATTORNEY GENERAL              ENRIQUE FERNANDEZ         LARA, HOMERO                                       \\n        LARA, MARIA GUADALUPE                                                                                      \\n        ',\n",
       " '\\n        96-05-13796-CV     05/08/1996 1                                                                  \\n\\n        ATTORNEY GENERAL              POLLY J BONE              HERNANDEZ, JUAN F.                                 \\n        HERNANDEZ, OLGA E.                                                                                         \\n        ',\n",
       " '\\n        96-12-14214-CV     12/20/1996 OTHER CIVIL CASES         02/18/1998  WON JURY TRIAL               \\n\\n        THE STATE OF TEXAS            MELISSA DAYLONG           APPROX. 440 POUNDS OF MARIHU                       \\n        ',\n",
       " '\\n        97-06-14568-CV     06/16/1997 OTHER CIVIL CASES         02/19/1998  WON JURY TRIAL               \\n\\n        NUTMEG INSURANCE COMPANY      LOREN R. SMITH            MANCHA, GUILLERMO             MICHAEL J. BAGLEY    \\n                                                                MARTINEZ, JOHNNY E.                                \\n                                                                MAVERICK COUNTY']"
      ]
     },
     "execution_count": 12,
     "metadata": {},
     "output_type": "execute_result"
    }
   ],
   "source": [
    "#Now split each case by the dashed lines\n",
    "cases = text.split('-------------------------------------------------------------------------------------------------------------')\n",
    "cases"
   ]
  },
  {
   "cell_type": "code",
   "execution_count": 13,
   "id": "3f1d64ce",
   "metadata": {},
   "outputs": [
    {
     "data": {
      "text/plain": [
       "8"
      ]
     },
     "execution_count": 13,
     "metadata": {},
     "output_type": "execute_result"
    }
   ],
   "source": [
    "len(cases)"
   ]
  },
  {
   "cell_type": "code",
   "execution_count": 14,
   "id": "ee48802a",
   "metadata": {},
   "outputs": [
    {
     "data": {
      "text/plain": [
       "'7815-OTH           02/22/1985 1                                                                  \\n\\n        ATTORNEY GENERAL              MARIA LARSON              MENDEZ, CARLOS GILBERTO                            \\n        MENDEZ, OLGA LIDIA                                                                                         \\n        '"
      ]
     },
     "execution_count": 14,
     "metadata": {},
     "output_type": "execute_result"
    }
   ],
   "source": [
    "cases[0]"
   ]
  },
  {
   "cell_type": "code",
   "execution_count": 15,
   "id": "ef3b6cf4",
   "metadata": {},
   "outputs": [
    {
     "name": "stdout",
     "output_type": "stream",
     "text": [
      "'\\n        90-11-10256-CV     11/08/1990 1                                                                  \\n\\n        ATTORNEY GENERAL              ROLANDO MENCHACA          MARTINEZ, HECTOR RENE                              \\n        MARTINEZ, ROSALINDA                                                                                        \\n        '\n"
     ]
    }
   ],
   "source": [
    "#Only work with one case for now\n",
    "test_case = cases[1]\n",
    "print(repr(test_case))"
   ]
  },
  {
   "cell_type": "code",
   "execution_count": 16,
   "id": "3b59ea1d",
   "metadata": {},
   "outputs": [
    {
     "name": "stdout",
     "output_type": "stream",
     "text": [
      "'90-11-10256-CV     11/08/1990 1                                                                  \\n\\n        ATTORNEY GENERAL              ROLANDO MENCHACA          MARTINEZ, HECTOR RENE                              \\n        MARTINEZ, ROSALINDA                                                                                        \\n        '\n"
     ]
    }
   ],
   "source": [
    "#Strip the leading white space\n",
    "test_case = test_case.lstrip()\n",
    "print(repr(test_case))"
   ]
  },
  {
   "cell_type": "code",
   "execution_count": 17,
   "id": "dfbc1121",
   "metadata": {},
   "outputs": [],
   "source": [
    "#Try splitting on the new lines\n",
    "case_info = test_case.split('\\n')"
   ]
  },
  {
   "cell_type": "code",
   "execution_count": 18,
   "id": "b9f240d5",
   "metadata": {},
   "outputs": [
    {
     "data": {
      "text/plain": [
       "5"
      ]
     },
     "execution_count": 18,
     "metadata": {},
     "output_type": "execute_result"
    }
   ],
   "source": [
    "len(case_info)"
   ]
  },
  {
   "cell_type": "code",
   "execution_count": 19,
   "id": "a0d4986d",
   "metadata": {},
   "outputs": [
    {
     "data": {
      "text/plain": [
       "'90-11-10256-CV     11/08/1990 1                                                                  '"
      ]
     },
     "execution_count": 19,
     "metadata": {},
     "output_type": "execute_result"
    }
   ],
   "source": [
    "#I can isolate the cause number, file date, cause of action, docket date, docket type, \n",
    "#ans filed date, and cr number from here\n",
    "case_info[0]"
   ]
  },
  {
   "cell_type": "code",
   "execution_count": 20,
   "id": "27603ef5",
   "metadata": {},
   "outputs": [
    {
     "data": {
      "text/plain": [
       "'11/08/1990 1                                                                  '"
      ]
     },
     "execution_count": 20,
     "metadata": {},
     "output_type": "execute_result"
    }
   ],
   "source": [
    "#Date starts 19 characters in.\n",
    "case_info[0][19:]"
   ]
  },
  {
   "cell_type": "code",
   "execution_count": 21,
   "id": "ffcf1eff",
   "metadata": {},
   "outputs": [
    {
     "data": {
      "text/plain": [
       "'1                                                                  '"
      ]
     },
     "execution_count": 21,
     "metadata": {},
     "output_type": "execute_result"
    }
   ],
   "source": [
    "#Cause of action start 30 characters in\n",
    "case_info[0][30:]"
   ]
  },
  {
   "cell_type": "code",
   "execution_count": 22,
   "id": "e2a2ee80",
   "metadata": {},
   "outputs": [
    {
     "data": {
      "text/plain": [
       "'                                         '"
      ]
     },
     "execution_count": 22,
     "metadata": {},
     "output_type": "execute_result"
    }
   ],
   "source": [
    "#Docket date starts 56 characters in\n",
    "case_info[0][56:]"
   ]
  },
  {
   "cell_type": "code",
   "execution_count": 23,
   "id": "a556bc27",
   "metadata": {},
   "outputs": [
    {
     "data": {
      "text/plain": [
       "'                             '"
      ]
     },
     "execution_count": 23,
     "metadata": {},
     "output_type": "execute_result"
    }
   ],
   "source": [
    "#Docket type starts 68 characters in\n",
    "case_info[0][68:]"
   ]
  },
  {
   "cell_type": "code",
   "execution_count": 24,
   "id": "d2e71f97",
   "metadata": {},
   "outputs": [
    {
     "data": {
      "text/plain": [
       "'           '"
      ]
     },
     "execution_count": 24,
     "metadata": {},
     "output_type": "execute_result"
    }
   ],
   "source": [
    "#ANS Filed date starts 86 characters in\n",
    "case_info[0][86:]"
   ]
  },
  {
   "cell_type": "code",
   "execution_count": 25,
   "id": "936db716",
   "metadata": {},
   "outputs": [
    {
     "data": {
      "text/plain": [
       "' '"
      ]
     },
     "execution_count": 25,
     "metadata": {},
     "output_type": "execute_result"
    }
   ],
   "source": [
    "#CR number starts after 96 characters on the first line\n",
    "case_info[0][96:]"
   ]
  },
  {
   "cell_type": "code",
   "execution_count": 26,
   "id": "f44077d3",
   "metadata": {},
   "outputs": [
    {
     "data": {
      "text/plain": [
       "''"
      ]
     },
     "execution_count": 26,
     "metadata": {},
     "output_type": "execute_result"
    }
   ],
   "source": [
    "#Appears to be an extra new line\n",
    "case_info[1]"
   ]
  },
  {
   "cell_type": "code",
   "execution_count": 27,
   "id": "6841ebe5",
   "metadata": {},
   "outputs": [
    {
     "data": {
      "text/plain": [
       "'ATTORNEY GENERAL              ROLANDO MENCHACA          MARTINEZ, HECTOR RENE                              '"
      ]
     },
     "execution_count": 27,
     "metadata": {},
     "output_type": "execute_result"
    }
   ],
   "source": [
    "#The first line of names starts 8 characters in. This should be the same for each case\n",
    "case_info[2][8:]"
   ]
  },
  {
   "cell_type": "markdown",
   "id": "b20126b6",
   "metadata": {},
   "source": [
    "__Name Spacing__\n",
    "\n",
    "The names appear to all start at the same place every time. Here is what I have found:\n",
    "\n",
    "* Plaintiff Name: 8 Characters in\n",
    "* Plaintiff Attorney: 38 Characters in\n",
    "* Defendant Name: 64 Characters in\n",
    "* Defendant Attorney: 94 Characters in\n",
    "\n",
    "These numbers seem consistent regardless of what line they appear on."
   ]
  },
  {
   "cell_type": "code",
   "execution_count": 28,
   "id": "e792fc89",
   "metadata": {},
   "outputs": [
    {
     "data": {
      "text/plain": [
       "'ROLANDO MENCHACA          MARTINEZ, HECTOR RENE                              '"
      ]
     },
     "execution_count": 28,
     "metadata": {},
     "output_type": "execute_result"
    }
   ],
   "source": [
    "#The second name starts 38 characters in. I hope this is the same for all of them\n",
    "case_info[2][38:]"
   ]
  },
  {
   "cell_type": "code",
   "execution_count": 29,
   "id": "6a20ccc9",
   "metadata": {},
   "outputs": [
    {
     "data": {
      "text/plain": [
       "'MARTINEZ, HECTOR RENE                              '"
      ]
     },
     "execution_count": 29,
     "metadata": {},
     "output_type": "execute_result"
    }
   ],
   "source": [
    "#The third name starts 64 characters in. I hope this is also the same for all of them\n",
    "case_info[2][64:]"
   ]
  },
  {
   "cell_type": "code",
   "execution_count": 30,
   "id": "4afcc84c",
   "metadata": {},
   "outputs": [
    {
     "data": {
      "text/plain": [
       "'                     '"
      ]
     },
     "execution_count": 30,
     "metadata": {},
     "output_type": "execute_result"
    }
   ],
   "source": [
    "#The fourth name starts 94 characters in\n",
    "case_info[2][94:]"
   ]
  },
  {
   "cell_type": "code",
   "execution_count": 31,
   "id": "77cc161d",
   "metadata": {},
   "outputs": [
    {
     "data": {
      "text/plain": [
       "'        MARTINEZ, ROSALINDA                                                                                        '"
      ]
     },
     "execution_count": 31,
     "metadata": {},
     "output_type": "execute_result"
    }
   ],
   "source": [
    "case_info[3]"
   ]
  },
  {
   "cell_type": "code",
   "execution_count": 32,
   "id": "9931e0b4",
   "metadata": {},
   "outputs": [
    {
     "data": {
      "text/plain": [
       "'MARTINEZ, ROSALINDA                                                                                        '"
      ]
     },
     "execution_count": 32,
     "metadata": {},
     "output_type": "execute_result"
    }
   ],
   "source": [
    "#The second plaintiff name starts 8 characters in. This should be the same for each case\n",
    "case_info[3][8:]"
   ]
  },
  {
   "cell_type": "code",
   "execution_count": 33,
   "id": "28cfd308",
   "metadata": {},
   "outputs": [
    {
     "data": {
      "text/plain": [
       "'                                                   '"
      ]
     },
     "execution_count": 33,
     "metadata": {},
     "output_type": "execute_result"
    }
   ],
   "source": [
    "#The second defendant name starts 64 characters in.\n",
    "case_info[3][64:]"
   ]
  },
  {
   "cell_type": "markdown",
   "id": "4cc64d60",
   "metadata": {},
   "source": [
    "# Start Isolating Info\n",
    "\n",
    "Isolate the case info and add it to a temp dict. When complete the temp dict will be appended to the container dictionary. Finally, when the info for each case has been extracted, convert the container dict to a dataframe."
   ]
  },
  {
   "cell_type": "code",
   "execution_count": 34,
   "id": "1e06340e",
   "metadata": {},
   "outputs": [],
   "source": [
    "#Create a container dict to store all case info\n",
    "container_dict = {}\n",
    "\n",
    "#Create a temp dict that stores individual case info\n",
    "case_dict = {}"
   ]
  },
  {
   "cell_type": "markdown",
   "id": "8ef172df",
   "metadata": {},
   "source": [
    "__County__\n",
    "\n",
    "The county name will be found in the header info of each page. The easiest way I can think to isolate the county is to just use an if statement and check for each county name in the header text. There should only be one match, so it should be fine. Possible counties: Maverick, Dimmit, Zavala"
   ]
  },
  {
   "cell_type": "code",
   "execution_count": 35,
   "id": "e9319536",
   "metadata": {},
   "outputs": [
    {
     "data": {
      "text/plain": [
       "'COUNTY OF MAVERICK 293RD DISTRICT COURT CIVIL PENDING CASES AS OF 01/19/2022\\n\\n                                           RAN ON JANUARY 19, 2022 09:02am PAGE: 1\\n\\n        CAUSE #             FILE DATE CAUSE OF ACTION           DOCKT DATE  DOCKET TYPE       ANS FILED  CR CASE #\\n\\nPLAINTIFF NAME                PLAINTIFF ATTORNEY        DEFENDANT NAME                DEFENDANT ATTORNEY\\n\\n        '"
      ]
     },
     "execution_count": 35,
     "metadata": {},
     "output_type": "execute_result"
    }
   ],
   "source": [
    "header"
   ]
  },
  {
   "cell_type": "code",
   "execution_count": 36,
   "id": "f3c6e048",
   "metadata": {},
   "outputs": [
    {
     "data": {
      "text/plain": [
       "'Maverick'"
      ]
     },
     "execution_count": 36,
     "metadata": {},
     "output_type": "execute_result"
    }
   ],
   "source": [
    "#Use if statement to check for county names inside the header info\n",
    "if header.count('MAVERICK') >= 1:\n",
    "    county = 'Maverick'\n",
    "elif header.count('DIMMIT') >= 1:\n",
    "    county = 'Dimmit'\n",
    "elif header.count('ZAVALA') >= 1:\n",
    "    county = 'Zavala'\n",
    "else:\n",
    "    county = 'Something went wrong!'\n",
    "    \n",
    "county"
   ]
  },
  {
   "cell_type": "code",
   "execution_count": 37,
   "id": "b04f759d",
   "metadata": {},
   "outputs": [],
   "source": [
    "#Add to dict\n",
    "case_dict['County'] = county"
   ]
  },
  {
   "cell_type": "markdown",
   "id": "53f61811",
   "metadata": {},
   "source": [
    "__Cause Number__"
   ]
  },
  {
   "cell_type": "code",
   "execution_count": 38,
   "id": "b0f21e2c",
   "metadata": {},
   "outputs": [
    {
     "data": {
      "text/plain": [
       "'90-11-10256-CV'"
      ]
     },
     "execution_count": 38,
     "metadata": {},
     "output_type": "execute_result"
    }
   ],
   "source": [
    "#Get the cause number\n",
    "cause_num = case_info[0][:19].strip()\n",
    "cause_num"
   ]
  },
  {
   "cell_type": "code",
   "execution_count": 39,
   "id": "0119f4a1",
   "metadata": {},
   "outputs": [],
   "source": [
    "#Add to dict\n",
    "case_dict['Cause Number'] = cause_num"
   ]
  },
  {
   "cell_type": "markdown",
   "id": "69ae010c",
   "metadata": {},
   "source": [
    "__File Date__"
   ]
  },
  {
   "cell_type": "code",
   "execution_count": 40,
   "id": "1a6b8f2c",
   "metadata": {},
   "outputs": [
    {
     "data": {
      "text/plain": [
       "'11/08/1990'"
      ]
     },
     "execution_count": 40,
     "metadata": {},
     "output_type": "execute_result"
    }
   ],
   "source": [
    "file_date = case_info[0][15:30].strip()\n",
    "file_date"
   ]
  },
  {
   "cell_type": "code",
   "execution_count": 41,
   "id": "d7917f9d",
   "metadata": {},
   "outputs": [],
   "source": [
    "#Add to dict\n",
    "case_dict['File Date'] = file_date"
   ]
  },
  {
   "cell_type": "markdown",
   "id": "7b8fb353",
   "metadata": {},
   "source": [
    "__Cause of Action__"
   ]
  },
  {
   "cell_type": "code",
   "execution_count": 42,
   "id": "8f695e67",
   "metadata": {},
   "outputs": [
    {
     "data": {
      "text/plain": [
       "'1'"
      ]
     },
     "execution_count": 42,
     "metadata": {},
     "output_type": "execute_result"
    }
   ],
   "source": [
    "coa = case_info[0][30:56].strip()\n",
    "coa"
   ]
  },
  {
   "cell_type": "code",
   "execution_count": 43,
   "id": "9b498197",
   "metadata": {},
   "outputs": [],
   "source": [
    "#Add to dict\n",
    "case_dict['Cause of Action'] = coa"
   ]
  },
  {
   "cell_type": "markdown",
   "id": "4de0dd2f",
   "metadata": {},
   "source": [
    "__Docket Date__"
   ]
  },
  {
   "cell_type": "code",
   "execution_count": 44,
   "id": "38760b11",
   "metadata": {},
   "outputs": [
    {
     "data": {
      "text/plain": [
       "''"
      ]
     },
     "execution_count": 44,
     "metadata": {},
     "output_type": "execute_result"
    }
   ],
   "source": [
    "docket_date = case_info[0][56:68].strip()\n",
    "docket_date"
   ]
  },
  {
   "cell_type": "code",
   "execution_count": 45,
   "id": "2440303d",
   "metadata": {},
   "outputs": [],
   "source": [
    "#Add to dict\n",
    "case_dict['Docket Date'] = docket_date"
   ]
  },
  {
   "cell_type": "markdown",
   "id": "cf137de5",
   "metadata": {},
   "source": [
    "__Docket Type__"
   ]
  },
  {
   "cell_type": "code",
   "execution_count": 46,
   "id": "ddf5dd45",
   "metadata": {},
   "outputs": [
    {
     "data": {
      "text/plain": [
       "''"
      ]
     },
     "execution_count": 46,
     "metadata": {},
     "output_type": "execute_result"
    }
   ],
   "source": [
    "docket_type = case_info[0][68:86].strip()\n",
    "docket_type"
   ]
  },
  {
   "cell_type": "code",
   "execution_count": 47,
   "id": "d665edb5",
   "metadata": {},
   "outputs": [],
   "source": [
    "#Add to dict\n",
    "case_dict['Docket Type'] = docket_type"
   ]
  },
  {
   "cell_type": "markdown",
   "id": "5374707e",
   "metadata": {},
   "source": [
    "__ANS File Date__"
   ]
  },
  {
   "cell_type": "code",
   "execution_count": 48,
   "id": "d8234c9e",
   "metadata": {},
   "outputs": [
    {
     "data": {
      "text/plain": [
       "''"
      ]
     },
     "execution_count": 48,
     "metadata": {},
     "output_type": "execute_result"
    }
   ],
   "source": [
    "ans_date = case_info[0][86:].strip()\n",
    "ans_date"
   ]
  },
  {
   "cell_type": "code",
   "execution_count": 49,
   "id": "6c755dfa",
   "metadata": {},
   "outputs": [],
   "source": [
    "#Add to dict\n",
    "case_dict['ANS Filed'] = ans_date"
   ]
  },
  {
   "cell_type": "markdown",
   "id": "ed683349",
   "metadata": {},
   "source": [
    "__CR Number__"
   ]
  },
  {
   "cell_type": "code",
   "execution_count": 50,
   "id": "181d3ba2",
   "metadata": {},
   "outputs": [
    {
     "data": {
      "text/plain": [
       "''"
      ]
     },
     "execution_count": 50,
     "metadata": {},
     "output_type": "execute_result"
    }
   ],
   "source": [
    "cr_num = case_info[0][96:].strip()\n",
    "cr_num"
   ]
  },
  {
   "cell_type": "code",
   "execution_count": 51,
   "id": "23f022bd",
   "metadata": {},
   "outputs": [],
   "source": [
    "#Add to dict\n",
    "case_dict['CR Number'] = cr_num"
   ]
  },
  {
   "cell_type": "markdown",
   "id": "b8eb57c9",
   "metadata": {},
   "source": [
    "__Names__\n",
    "\n",
    "The next few entries will be tricky. If there is more than one name associated with each label (plaintiff name, plaintiff attorney, defendant name, defendant attorney), then there will be more than one line of names. In my function, I'll have to set up a loop that can accurately pick up all of the names. For now, I'll make each label a list of names. If it needs to be changed to a string of names later, I can do that too. I'll also have to build a function that checks to see if each segment is composed entirely of whitespace. That way, if it is, we know there isn't a name for that particular label. "
   ]
  },
  {
   "cell_type": "code",
   "execution_count": 52,
   "id": "99115761",
   "metadata": {},
   "outputs": [],
   "source": [
    "#Will need to set up the lists before the loop. They will be added to the dict after the loop\n",
    "plaintiff_names = []\n",
    "plaintiff_attorneys = []\n",
    "defendant_names = []\n",
    "defendant_attorneys = []\n",
    "\n",
    "#The names always start on the third line (index = 2)\n",
    "for i in range(2, len(case_info)):\n",
    "    #Get the plaintiff name on current line\n",
    "    plaintiff_name = case_info[i][:38]\n",
    "    \n",
    "    #Check if plaintiff_name is all whitesapace. If not, strip it and add to names list\n",
    "    #Also check that the string is not empty\n",
    "    if plaintiff_name.isspace() == False and len(plaintiff_name) > 0:\n",
    "        plaintiff_names.append(plaintiff_name.strip())\n",
    "        \n",
    "    #Get the plaintiff attorney on current line\n",
    "    plaintiff_attorney = case_info[i][38:64]\n",
    "    \n",
    "    #Check if plaintiff_attorney is all whitespace. If not, strip it and add to list\n",
    "    #Also check that the string is not empty\n",
    "    if plaintiff_attorney.isspace() == False and len(plaintiff_attorney) > 0:\n",
    "        plaintiff_attorneys.append(plaintiff_attorney.strip())\n",
    "        \n",
    "    #Get the defendant name on current line\n",
    "    defendant_name = case_info[i][64:94]\n",
    "    \n",
    "    #Check if defendant_name is all whitespace. If not, strip it and add to list\n",
    "    #Also check that the string is not empty\n",
    "    if defendant_name.isspace() == False and len(defendant_name) > 0:\n",
    "        defendant_names.append(defendant_name.strip())\n",
    "    \n",
    "    #Get the defendant attorney on current line\n",
    "    defendant_attorney = case_info[i][94:]\n",
    "    \n",
    "    #Check if the defendant_attorney is all whitespace. If not, strip it and add to list\n",
    "    #Also check that the string is not empty\n",
    "    if defendant_attorney.isspace() == False and len(defendant_attorney) > 0:\n",
    "        defendant_attorneys.append(defendant_attorney.strip())"
   ]
  },
  {
   "cell_type": "code",
   "execution_count": 53,
   "id": "a67d2f2f",
   "metadata": {},
   "outputs": [],
   "source": [
    "#Now add all names to the dict\n",
    "case_dict['Plaintiff Name'] = plaintiff_names\n",
    "case_dict['Plaintiff Attorney'] = plaintiff_attorneys\n",
    "case_dict['Defendant Name'] = defendant_names\n",
    "case_dict['Defendant Attorney'] = defendant_attorneys"
   ]
  },
  {
   "cell_type": "code",
   "execution_count": 54,
   "id": "06849270",
   "metadata": {},
   "outputs": [
    {
     "data": {
      "text/plain": [
       "{'County': 'Maverick',\n",
       " 'Cause Number': '90-11-10256-CV',\n",
       " 'File Date': '11/08/1990',\n",
       " 'Cause of Action': '1',\n",
       " 'Docket Date': '',\n",
       " 'Docket Type': '',\n",
       " 'ANS Filed': '',\n",
       " 'CR Number': '',\n",
       " 'Plaintiff Name': ['ATTORNEY GENERAL', 'MARTINEZ, ROSALINDA'],\n",
       " 'Plaintiff Attorney': ['ROLANDO MENCHACA'],\n",
       " 'Defendant Name': ['MARTINEZ, HECTOR RENE'],\n",
       " 'Defendant Attorney': []}"
      ]
     },
     "execution_count": 54,
     "metadata": {},
     "output_type": "execute_result"
    }
   ],
   "source": [
    "case_dict"
   ]
  },
  {
   "cell_type": "markdown",
   "id": "3b89feab",
   "metadata": {},
   "source": [
    "# Automate Process\n",
    "\n",
    "Now that I can gather all available info for any single case on a page, build a function that can retrieve it all for all cases on all pages. Then convert the data to a dataframe and return it."
   ]
  },
  {
   "cell_type": "code",
   "execution_count": 55,
   "id": "d8645c04",
   "metadata": {},
   "outputs": [],
   "source": [
    "def extract_pdf_data(text):\n",
    "    \"\"\"\n",
    "    This function takes in a page of text from a pdf file. It will extract all available information for each case on\n",
    "    the page, put it all into dictionaries, and then return a list containing the other dictionaries for each\n",
    "    case.\n",
    "    \n",
    "    Parameter:\n",
    "        - text: The text of a single pdf page.\n",
    "        \n",
    "    Returns:\n",
    "        - cases: A list containing the dictionaries of all cases.\n",
    "    \"\"\"\n",
    "    \n",
    "    #Set up the container list\n",
    "    case_dicts = []\n",
    "    \n",
    "    #First, strip leading and trailing whitespaces\n",
    "    text = text.strip()\n",
    "    \n",
    "    #Separate header and body text data\n",
    "    #For header\n",
    "    header = text[:389]\n",
    "    \n",
    "    #For body\n",
    "    text = text[392:]\n",
    "    \n",
    "    #Remove headers from all subsequent pages\n",
    "    text = re.sub(r\"\"\"COUNTY OF .{6,8} 293RD DISTRICT COURT CIVIL PENDING CASES AS OF .{10}\n",
    "\n",
    "                                           RAN ON .{20,26} PAGE: \\d{1,3}\n",
    "\n",
    "        CAUSE #             FILE DATE CAUSE OF ACTION           DOCKT DATE  DOCKET TYPE       ANS FILED  CR CASE #\n",
    "\n",
    "PLAINTIFF NAME                PLAINTIFF ATTORNEY        DEFENDANT NAME                DEFENDANT ATTORNEY\"\"\", '', text)\n",
    "    \n",
    "    #Use if statement to check for county names inside the header info\n",
    "    if header.count('MAVERICK') >= 1:\n",
    "        county = 'Maverick'\n",
    "    elif header.count('DIMMIT') >= 1:\n",
    "        county = 'Dimmit'\n",
    "    elif header.count('ZAVALA') >= 1:\n",
    "        county = 'Zavala'\n",
    "    else:\n",
    "        county = 'Something went wrong!'\n",
    "    \n",
    "    #Now split each case by the dashed lines\n",
    "    cases = text.split('-------------------------------------------------------------------------------------------------------------')\n",
    "    \n",
    "    #Drop the last case. It only consists of the count of cases in the pdf. Not needed here\n",
    "    cases.pop()\n",
    "    \n",
    "    #Loop through each case and build a dictionary with its info\n",
    "    for case in cases:\n",
    "        \n",
    "        #Initialize the temp_dict\n",
    "        temp_dict = {}\n",
    "        \n",
    "        #Remove leading whitespace only\n",
    "        case = case.lstrip()\n",
    "        \n",
    "        #Split on the '/n'\n",
    "        case_info = case.split('\\n')\n",
    "        \n",
    "        #Gather the case data\n",
    "        case_list = collect_case_data(case_info)\n",
    "        \n",
    "        #Finally, append this dictionary to the container dict\n",
    "        case_dicts.extend(case_list)\n",
    "        \n",
    "    return case_dicts\n",
    "        "
   ]
  },
  {
   "cell_type": "code",
   "execution_count": 56,
   "id": "81ea6b9f",
   "metadata": {},
   "outputs": [],
   "source": [
    "#Create a function the collects data from combined cases\n",
    "def collect_case_data(case_info):\n",
    "    \"\"\"\n",
    "    This function takes in a list of strings that represent a single case. Each string may contain relevant information\n",
    "    that will need to be collected, and added to a dictionary. That dictionary will then be added to a list \n",
    "    and returned.\n",
    "    \n",
    "    WARNING: This function is recursive.\n",
    "    \n",
    "    Parameter:\n",
    "        -case_info: The list of strings representing a single case\n",
    "        \n",
    "    Returns:\n",
    "        -case_list: A list containing the case dictionaries\n",
    "    \"\"\"\n",
    "    \n",
    "    #Initialize the temp list to store the dict(s)\n",
    "    case_list = []\n",
    "    \n",
    "    #Initialize the temp dict\n",
    "    temp_dict = {}\n",
    "    \n",
    "    #Remove leading whitespace\n",
    "    case_info[0] = case_info[0].lstrip()\n",
    "\n",
    "    #Get the cause number\n",
    "    cause_num = case_info[0][:19].strip()\n",
    "\n",
    "    #Get the file date\n",
    "    file_date = case_info[0][15:30].strip()\n",
    "\n",
    "    #Get the Cause of Action\n",
    "    coa = case_info[0][30:56].strip()\n",
    "\n",
    "    #Get the docket_date\n",
    "    docket_date = case_info[0][56:68].strip()\n",
    "\n",
    "    #Get the docket type\n",
    "    docket_type = case_info[0][68:86].strip()\n",
    "\n",
    "    #Get the ANS File\n",
    "    ans_date = case_info[0][86:].strip()\n",
    "\n",
    "    #Get the CR Number\n",
    "    cr_num = case_info[0][96:].strip()\n",
    "\n",
    "    #Get the names associated with each label\n",
    "    #Will need to set up the lists before the loop. They will be added to the dict after the loop\n",
    "    plaintiff_names = []\n",
    "    plaintiff_attorneys = []\n",
    "    defendant_names = []\n",
    "    defendant_attorneys = []\n",
    "\n",
    "    #The names always start on the third line (index = 2)\n",
    "    for i in range(2, len(case_info)):\n",
    "\n",
    "        #Check that this line is not the start of a combined case. If it is, collect combined case data,\n",
    "        #Then break from this loop\n",
    "        if check_for_combined_case(case_info[i][:38]) == True:\n",
    "            #Set up temporary dictionary\n",
    "            combined_case = {}\n",
    "\n",
    "            #Find combined case text\n",
    "            combined_case_text = []\n",
    "\n",
    "            #Loop through and grab the necessary lines from the current case\n",
    "            for index in range(i, len(case_info)):\n",
    "                combined_case_text.append(case_info[index])\n",
    "\n",
    "            #Collect combined case data\n",
    "            combined_case = collect_case_data(combined_case_text)\n",
    "\n",
    "            #Add the temp dictionary to the overall container dict\n",
    "            case_list.extend(combined_case)\n",
    "\n",
    "            #Finally, break out of the loop\n",
    "            break\n",
    "\n",
    "\n",
    "        #Get the plaintiff name on current line\n",
    "        plaintiff_name = case_info[i][:38]\n",
    "\n",
    "        #Check if plaintiff_name is all whitesapace. If not, strip it and add to names list\n",
    "        #Also check that the string is not empty\n",
    "        if plaintiff_name.isspace() == False and len(plaintiff_name) > 0:\n",
    "            plaintiff_names.append(plaintiff_name.strip())\n",
    "\n",
    "        #Get the plaintiff attorney on current line\n",
    "        plaintiff_attorney = case_info[i][38:64]\n",
    "\n",
    "        #Check if plaintiff_attorney is all whitespace. If not, strip it and add to list\n",
    "        #Also check that the string is not empty\n",
    "        if plaintiff_attorney.isspace() == False and len(plaintiff_attorney) > 0:\n",
    "            plaintiff_attorneys.append(plaintiff_attorney.strip())\n",
    "\n",
    "        #Get the defendant name on current line\n",
    "        defendant_name = case_info[i][64:94]\n",
    "\n",
    "        #Check if defendant_name is all whitespace. If not, strip it and add to list\n",
    "        #Also check that the string is not empty\n",
    "        if defendant_name.isspace() == False and len(defendant_name) > 0:\n",
    "            defendant_names.append(defendant_name.strip())\n",
    "\n",
    "        #Get the defendant attorney on current line\n",
    "        defendant_attorney = case_info[i][94:]\n",
    "\n",
    "        #Check if the defendant_attorney is all whitespace. If not, strip it and add to list\n",
    "        #Also check that the string is not empty\n",
    "        if defendant_attorney.isspace() == False and len(defendant_attorney) > 0:\n",
    "            defendant_attorneys.append(defendant_attorney.strip())\n",
    "\n",
    "\n",
    "    #Now put all the info into a temp dict. Check that each entry actually exists though\n",
    "    #If the entry does not exist, just enter None\n",
    "    temp_dict['County'] = county\n",
    "    temp_dict['Cause Number'] = cause_num\n",
    "    temp_dict['File Date'] = file_date\n",
    "    temp_dict['Cause of Action'] = coa\n",
    "    temp_dict['Docket Date'] = docket_date\n",
    "    temp_dict['Docket Type'] = docket_type\n",
    "    temp_dict['ANS File'] = ans_date\n",
    "    temp_dict['CR Number'] = cr_num\n",
    "    temp_dict['Plaintiff Name'] = plaintiff_names\n",
    "    temp_dict['Plaintiff Attorney'] = plaintiff_attorneys\n",
    "    temp_dict['Defendant Name'] = defendant_names\n",
    "    temp_dict['Defendant Attorney'] = defendant_attorneys\n",
    "    \n",
    "    #Append the temp_dict to the case_list\n",
    "    case_list.append(temp_dict)\n",
    "    \n",
    "    return case_list\n",
    "    "
   ]
  },
  {
   "cell_type": "markdown",
   "id": "e7b4904c",
   "metadata": {},
   "source": [
    "# Notes\n",
    "\n",
    "* 12-02-27168-MCV: Has two dates under the file date. Do we need them both?\n",
    "* The case following 15-11-32356-MCV does not have a standard cause number. It just says 293rd\n",
    "* 18-02-35252-MCV: Was split into two different cases. Can be found on pages 43 and 44\n",
    "* 19-09-37842-MCV: Was split into two different cases. Can be found on pages 67 and 68\n",
    "* 19-09-37846-MCV: Was split into three different cases. Can be found on pages 69, 70, 71\n",
    "* 19-09-37846-MCV-A: Was split into two different cases. Can be found on pages 86, 87\n",
    "* 20-08-39164-MCV: Was split into two different cases. Can be found on pages 93, 94\n",
    "* 20-09-05924-TX: Was split into two different cases. Can be found on pages 97, 98\n",
    "* 20-12-39442-MCV: Was split into two different cases. Can be found on pages 103, 104\n",
    "* 21-02-39635-MCV: Was split into two different cases. Can be found on pages 110, 111\n",
    "* 21-03-39756-MCV: Was split into two different cases. Can be found on pages 115, 116\n",
    "* 21-09-40432-MCV: Was split into two different cases. Can be found on pages 146, 147\n",
    "* 21-10-40462-MCV: Was split into two different cases. Can be found on pages 148, 149\n",
    "* 21-11-40584-MCV: Was split into two different cases. Can be found on pages 156, 157"
   ]
  },
  {
   "cell_type": "code",
   "execution_count": 61,
   "id": "9d79d469",
   "metadata": {},
   "outputs": [],
   "source": [
    "def build_cases_dataframe(pdf_path):\n",
    "    \"\"\"\n",
    "    This function reads in a pdf and extracts all available information for each case. It then returns a dataframe.\n",
    "    \n",
    "    Parameter:\n",
    "        - pdf_path: The file path for the pdf to be read.\n",
    "        \n",
    "    Returns:\n",
    "        - df: A dataframe of the resulting case information\n",
    "    \"\"\"\n",
    "    \n",
    "    #Set up the container list\n",
    "    container_list = []\n",
    "    \n",
    "    #Set up resource manager to handle pdf content. text, images, etc.\n",
    "    resource_manager = PDFResourceManager()\n",
    "\n",
    "    #Used to display text\n",
    "    fake_file_handle = io.StringIO()\n",
    "\n",
    "    #Set up converter\n",
    "    converter = TextConverter(resource_manager, fake_file_handle, laparams=LAParams())\n",
    "\n",
    "    #Set up page interpreter\n",
    "    page_interpreter = PDFPageInterpreter(resource_manager, converter)\n",
    "\n",
    "    with open(pdf_path, 'rb') as fh:\n",
    "\n",
    "        for page in PDFPage.get_pages(fh, caching=True, check_extractable=True):\n",
    "            #Process the current page\n",
    "            page_interpreter.process_page(page)\n",
    "            \n",
    "        #Save the current page's text to a variable\n",
    "        text = fake_file_handle.getvalue()\n",
    "\n",
    "        #Extract info from current page\n",
    "        case_dicts = extract_pdf_data(text)\n",
    "\n",
    "        #Extend case_dicts to container_dict\n",
    "        container_list.extend(case_dicts)\n",
    "\n",
    "    # close open handles\n",
    "    converter.close()\n",
    "    fake_file_handle.close()\n",
    "    \n",
    "    #For testing\n",
    "    print(f\"Collected Data From {len(container_list)} Cases.\")\n",
    "    \n",
    "    #Build dataframe\n",
    "    df = pd.DataFrame(container_list)\n",
    "    \n",
    "    return df"
   ]
  },
  {
   "cell_type": "code",
   "execution_count": 62,
   "id": "44f96b02",
   "metadata": {},
   "outputs": [
    {
     "name": "stdout",
     "output_type": "stream",
     "text": [
      "Collected Data From 1179 Cases.\n"
     ]
    }
   ],
   "source": [
    "#For testing\n",
    "df = build_cases_dataframe('/Users/johnathonsmith/Downloads/293RDCV.PEND.CASE_1642601189564_-1416322429.pdf')"
   ]
  },
  {
   "cell_type": "code",
   "execution_count": 63,
   "id": "d73bab8e",
   "metadata": {},
   "outputs": [
    {
     "data": {
      "text/html": [
       "<div>\n",
       "<style scoped>\n",
       "    .dataframe tbody tr th:only-of-type {\n",
       "        vertical-align: middle;\n",
       "    }\n",
       "\n",
       "    .dataframe tbody tr th {\n",
       "        vertical-align: top;\n",
       "    }\n",
       "\n",
       "    .dataframe thead th {\n",
       "        text-align: right;\n",
       "    }\n",
       "</style>\n",
       "<table border=\"1\" class=\"dataframe\">\n",
       "  <thead>\n",
       "    <tr style=\"text-align: right;\">\n",
       "      <th></th>\n",
       "      <th>County</th>\n",
       "      <th>Cause Number</th>\n",
       "      <th>File Date</th>\n",
       "      <th>Cause of Action</th>\n",
       "      <th>Docket Date</th>\n",
       "      <th>Docket Type</th>\n",
       "      <th>ANS File</th>\n",
       "      <th>CR Number</th>\n",
       "      <th>Plaintiff Name</th>\n",
       "      <th>Plaintiff Attorney</th>\n",
       "      <th>Defendant Name</th>\n",
       "      <th>Defendant Attorney</th>\n",
       "    </tr>\n",
       "  </thead>\n",
       "  <tbody>\n",
       "    <tr>\n",
       "      <th>0</th>\n",
       "      <td>Maverick</td>\n",
       "      <td>7815-OTH</td>\n",
       "      <td>02/22/1985</td>\n",
       "      <td>1</td>\n",
       "      <td></td>\n",
       "      <td></td>\n",
       "      <td></td>\n",
       "      <td></td>\n",
       "      <td>[ATTORNEY GENERAL, MENDEZ, OLGA LIDIA]</td>\n",
       "      <td>[MARIA LARSON]</td>\n",
       "      <td>[MENDEZ, CARLOS GILBERTO]</td>\n",
       "      <td>[]</td>\n",
       "    </tr>\n",
       "    <tr>\n",
       "      <th>1</th>\n",
       "      <td>Maverick</td>\n",
       "      <td>90-11-10256-CV</td>\n",
       "      <td>11/08/1990</td>\n",
       "      <td>1</td>\n",
       "      <td></td>\n",
       "      <td></td>\n",
       "      <td></td>\n",
       "      <td></td>\n",
       "      <td>[ATTORNEY GENERAL, MARTINEZ, ROSALINDA]</td>\n",
       "      <td>[ROLANDO MENCHACA]</td>\n",
       "      <td>[MARTINEZ, HECTOR RENE]</td>\n",
       "      <td>[]</td>\n",
       "    </tr>\n",
       "    <tr>\n",
       "      <th>2</th>\n",
       "      <td>Maverick</td>\n",
       "      <td>90-12-10326-CV</td>\n",
       "      <td>12/14/1990</td>\n",
       "      <td>INJURY OR DAMAGE OTHER T</td>\n",
       "      <td></td>\n",
       "      <td></td>\n",
       "      <td></td>\n",
       "      <td></td>\n",
       "      <td>[DIAZ CARPENTER, ENRIQUETA]</td>\n",
       "      <td>[JAY T. KIMBROUGH]</td>\n",
       "      <td>[BOWLES JR., RUDY]</td>\n",
       "      <td>[RICHARD TINSMAN]</td>\n",
       "    </tr>\n",
       "    <tr>\n",
       "      <th>3</th>\n",
       "      <td>Maverick</td>\n",
       "      <td>91-06-10598-CV</td>\n",
       "      <td>10/22/1993</td>\n",
       "      <td>MOTION ENFORCEMENT, TO M</td>\n",
       "      <td>09/13/1994</td>\n",
       "      <td>MOTION TO ENFORC</td>\n",
       "      <td></td>\n",
       "      <td></td>\n",
       "      <td>[ATTORNEY GENERAL, FUENTES, MARIA EUGENIA]</td>\n",
       "      <td>[ROLANDO MENCHACA]</td>\n",
       "      <td>[ARROYO, JUAN ANTONIO]</td>\n",
       "      <td>[]</td>\n",
       "    </tr>\n",
       "    <tr>\n",
       "      <th>4</th>\n",
       "      <td>Maverick</td>\n",
       "      <td>95-01-12880-CV</td>\n",
       "      <td>01/05/1995</td>\n",
       "      <td>1</td>\n",
       "      <td></td>\n",
       "      <td></td>\n",
       "      <td></td>\n",
       "      <td></td>\n",
       "      <td>[ATTORNEY GENERAL, LARA, MARIA GUADALUPE]</td>\n",
       "      <td>[ENRIQUE FERNANDEZ]</td>\n",
       "      <td>[LARA, HOMERO]</td>\n",
       "      <td>[]</td>\n",
       "    </tr>\n",
       "    <tr>\n",
       "      <th>...</th>\n",
       "      <td>...</td>\n",
       "      <td>...</td>\n",
       "      <td>...</td>\n",
       "      <td>...</td>\n",
       "      <td>...</td>\n",
       "      <td>...</td>\n",
       "      <td>...</td>\n",
       "      <td>...</td>\n",
       "      <td>...</td>\n",
       "      <td>...</td>\n",
       "      <td>...</td>\n",
       "      <td>...</td>\n",
       "    </tr>\n",
       "    <tr>\n",
       "      <th>1174</th>\n",
       "      <td>Maverick</td>\n",
       "      <td>22-01-40738-MCV</td>\n",
       "      <td>01/14/2022</td>\n",
       "      <td>DIVORCE - CHILDREN</td>\n",
       "      <td></td>\n",
       "      <td></td>\n",
       "      <td></td>\n",
       "      <td></td>\n",
       "      <td>[ABOYTES CYNTHIA]</td>\n",
       "      <td>[JAD P HARPER]</td>\n",
       "      <td>[ABOYTES ANDRES]</td>\n",
       "      <td>[]</td>\n",
       "    </tr>\n",
       "    <tr>\n",
       "      <th>1175</th>\n",
       "      <td>Maverick</td>\n",
       "      <td>22-01-40740-MCV</td>\n",
       "      <td>01/14/2022</td>\n",
       "      <td>DEBT/CONTRACT - DEBT COL</td>\n",
       "      <td></td>\n",
       "      <td></td>\n",
       "      <td></td>\n",
       "      <td></td>\n",
       "      <td>[SYNCHRONY BANK]</td>\n",
       "      <td>[ZHANG JESSICA]</td>\n",
       "      <td>[CASAS EMILIO]</td>\n",
       "      <td>[]</td>\n",
       "    </tr>\n",
       "    <tr>\n",
       "      <th>1176</th>\n",
       "      <td>Maverick</td>\n",
       "      <td>22-01-40742-MCV</td>\n",
       "      <td>01/14/2022</td>\n",
       "      <td>INJURY OR DAMAGE INVOLVI</td>\n",
       "      <td></td>\n",
       "      <td></td>\n",
       "      <td></td>\n",
       "      <td></td>\n",
       "      <td>[CASARES JR CARLOS, CASARES EDUARDO]</td>\n",
       "      <td>[VICTOR E. PERRY, VICTOR E. PERRY]</td>\n",
       "      <td>[FUENTES DAVID]</td>\n",
       "      <td>[]</td>\n",
       "    </tr>\n",
       "    <tr>\n",
       "      <th>1177</th>\n",
       "      <td>Maverick</td>\n",
       "      <td>22-01-40744-MCV</td>\n",
       "      <td>01/17/2022</td>\n",
       "      <td>DEBT/CONTRACT - DEBT COL</td>\n",
       "      <td></td>\n",
       "      <td></td>\n",
       "      <td></td>\n",
       "      <td></td>\n",
       "      <td>[CROWN ASSET MANAGEMENT, LLC]</td>\n",
       "      <td>[BROGAN COLIN PATRICK]</td>\n",
       "      <td>[BALDERAS PAULA J]</td>\n",
       "      <td>[]</td>\n",
       "    </tr>\n",
       "    <tr>\n",
       "      <th>1178</th>\n",
       "      <td>Maverick</td>\n",
       "      <td>22-01-40748-MCV</td>\n",
       "      <td>01/18/2022</td>\n",
       "      <td>JUDGMENT NISI</td>\n",
       "      <td></td>\n",
       "      <td></td>\n",
       "      <td></td>\n",
       "      <td></td>\n",
       "      <td>[SERNA ROBERTO]</td>\n",
       "      <td>[]</td>\n",
       "      <td>[MEDIDORO ROILAN MARTIN]</td>\n",
       "      <td>[]</td>\n",
       "    </tr>\n",
       "  </tbody>\n",
       "</table>\n",
       "<p>1179 rows × 12 columns</p>\n",
       "</div>"
      ],
      "text/plain": [
       "        County     Cause Number   File Date           Cause of Action  \\\n",
       "0     Maverick         7815-OTH  02/22/1985                         1   \n",
       "1     Maverick   90-11-10256-CV  11/08/1990                         1   \n",
       "2     Maverick   90-12-10326-CV  12/14/1990  INJURY OR DAMAGE OTHER T   \n",
       "3     Maverick   91-06-10598-CV  10/22/1993  MOTION ENFORCEMENT, TO M   \n",
       "4     Maverick   95-01-12880-CV  01/05/1995                         1   \n",
       "...        ...              ...         ...                       ...   \n",
       "1174  Maverick  22-01-40738-MCV  01/14/2022        DIVORCE - CHILDREN   \n",
       "1175  Maverick  22-01-40740-MCV  01/14/2022  DEBT/CONTRACT - DEBT COL   \n",
       "1176  Maverick  22-01-40742-MCV  01/14/2022  INJURY OR DAMAGE INVOLVI   \n",
       "1177  Maverick  22-01-40744-MCV  01/17/2022  DEBT/CONTRACT - DEBT COL   \n",
       "1178  Maverick  22-01-40748-MCV  01/18/2022             JUDGMENT NISI   \n",
       "\n",
       "     Docket Date       Docket Type ANS File CR Number  \\\n",
       "0                                                       \n",
       "1                                                       \n",
       "2                                                       \n",
       "3     09/13/1994  MOTION TO ENFORC                      \n",
       "4                                                       \n",
       "...          ...               ...      ...       ...   \n",
       "1174                                                    \n",
       "1175                                                    \n",
       "1176                                                    \n",
       "1177                                                    \n",
       "1178                                                    \n",
       "\n",
       "                                  Plaintiff Name  \\\n",
       "0         [ATTORNEY GENERAL, MENDEZ, OLGA LIDIA]   \n",
       "1        [ATTORNEY GENERAL, MARTINEZ, ROSALINDA]   \n",
       "2                    [DIAZ CARPENTER, ENRIQUETA]   \n",
       "3     [ATTORNEY GENERAL, FUENTES, MARIA EUGENIA]   \n",
       "4      [ATTORNEY GENERAL, LARA, MARIA GUADALUPE]   \n",
       "...                                          ...   \n",
       "1174                           [ABOYTES CYNTHIA]   \n",
       "1175                            [SYNCHRONY BANK]   \n",
       "1176        [CASARES JR CARLOS, CASARES EDUARDO]   \n",
       "1177               [CROWN ASSET MANAGEMENT, LLC]   \n",
       "1178                             [SERNA ROBERTO]   \n",
       "\n",
       "                      Plaintiff Attorney             Defendant Name  \\\n",
       "0                         [MARIA LARSON]  [MENDEZ, CARLOS GILBERTO]   \n",
       "1                     [ROLANDO MENCHACA]    [MARTINEZ, HECTOR RENE]   \n",
       "2                     [JAY T. KIMBROUGH]         [BOWLES JR., RUDY]   \n",
       "3                     [ROLANDO MENCHACA]     [ARROYO, JUAN ANTONIO]   \n",
       "4                    [ENRIQUE FERNANDEZ]             [LARA, HOMERO]   \n",
       "...                                  ...                        ...   \n",
       "1174                      [JAD P HARPER]           [ABOYTES ANDRES]   \n",
       "1175                     [ZHANG JESSICA]             [CASAS EMILIO]   \n",
       "1176  [VICTOR E. PERRY, VICTOR E. PERRY]            [FUENTES DAVID]   \n",
       "1177              [BROGAN COLIN PATRICK]         [BALDERAS PAULA J]   \n",
       "1178                                  []   [MEDIDORO ROILAN MARTIN]   \n",
       "\n",
       "     Defendant Attorney  \n",
       "0                    []  \n",
       "1                    []  \n",
       "2     [RICHARD TINSMAN]  \n",
       "3                    []  \n",
       "4                    []  \n",
       "...                 ...  \n",
       "1174                 []  \n",
       "1175                 []  \n",
       "1176                 []  \n",
       "1177                 []  \n",
       "1178                 []  \n",
       "\n",
       "[1179 rows x 12 columns]"
      ]
     },
     "execution_count": 63,
     "metadata": {},
     "output_type": "execute_result"
    }
   ],
   "source": [
    "df"
   ]
  },
  {
   "cell_type": "markdown",
   "id": "5fe70213",
   "metadata": {},
   "source": [
    "# Something Went Wrong\n",
    "\n",
    "Just discovered that the PDF pages are not independent. As in, some case information can bleed over into the next page. So the process I used to extract the information won't work as is. I'll work on it some more tomorrow."
   ]
  },
  {
   "cell_type": "markdown",
   "id": "2eb2d2e3",
   "metadata": {},
   "source": [
    "__Begin Testing__"
   ]
  },
  {
   "cell_type": "code",
   "execution_count": 64,
   "id": "a88db0df",
   "metadata": {},
   "outputs": [
    {
     "name": "stdout",
     "output_type": "stream",
     "text": [
      "                COUNTY OF MAVERICK 293RD DISTRICT COURT CIVIL PENDING CASES AS OF 01/19/2022\n",
      "\n",
      "                                           RAN ON JANUARY 19, 2022 09:02am PAGE: 1\n",
      "\n",
      "        CAUSE #             FILE DATE CAUSE OF ACTION           DOCKT DATE  DOCKET TYPE       ANS FILED  CR CASE #\n",
      "\n",
      "PLAINTIFF NAME                PLAINTIFF ATTORNEY        DEFENDANT NAME                DEFENDANT ATTORNEY\n",
      "\n",
      "        7815-OTH           02/22/1985 1                                                                  \n",
      "\n",
      "        ATTORNEY GENERAL              MARIA LARSON              MENDEZ, CARLOS GILBERTO                            \n",
      "        MENDEZ, OLGA LIDIA                                                                                         \n",
      "        -------------------------------------------------------------------------------------------------------------\n",
      "        90-11-10256-CV     11/08/1990 1                                                                  \n",
      "\n",
      "        ATTORNEY GENERAL              ROLANDO MENCHACA          MARTINEZ, HECTOR RENE                              \n",
      "        MARTINEZ, ROSALINDA                                                                                        \n",
      "        -------------------------------------------------------------------------------------------------------------\n",
      "        90-12-10326-CV     12/14/1990 INJURY OR DAMAGE OTHER T                                           \n",
      "\n",
      "        DIAZ CARPENTER, ENRIQUETA     JAY T. KIMBROUGH          BOWLES JR., RUDY              RICHARD TINSMAN      \n",
      "        -------------------------------------------------------------------------------------------------------------\n",
      "        91-06-10598-CV     10/22/1993 MOTION ENFORCEMENT, TO M  09/13/1994  MOTION TO ENFORC             \n",
      "\n",
      "        ATTORNEY GENERAL              ROLANDO MENCHACA          ARROYO, JUAN ANTONIO                               \n",
      "        FUENTES, MARIA EUGENIA                                                                                     \n",
      "        -------------------------------------------------------------------------------------------------------------\n",
      "        95-01-12880-CV     01/05/1995 1                                                                  \n",
      "\n",
      "        ATTORNEY GENERAL              ENRIQUE FERNANDEZ         LARA, HOMERO                                       \n",
      "        LARA, MARIA GUADALUPE                                                                                      \n",
      "        -------------------------------------------------------------------------------------------------------------\n",
      "        96-05-13796-CV     05/08/1996 1                                                                  \n",
      "\n",
      "        ATTORNEY GENERAL              POLLY J BONE              HERNANDEZ, JUAN F.                                 \n",
      "        HERNANDEZ, OLGA E.                                                                                         \n",
      "        -------------------------------------------------------------------------------------------------------------\n",
      "        96-12-14214-CV     12/20/1996 OTHER CIVIL CASES         02/18/1998  WON JURY TRIAL               \n",
      "\n",
      "        THE STATE OF TEXAS            MELISSA DAYLONG           APPROX. 440 POUNDS OF MARIHU                       \n",
      "        -------------------------------------------------------------------------------------------------------------\n",
      "        97-06-14568-CV     06/16/1997 OTHER CIVIL CASES         02/19/1998  WON JURY TRIAL               \n",
      "\n",
      "        NUTMEG INSURANCE COMPANY      LOREN R. SMITH            MANCHA, GUILLERMO             MICHAEL J. BAGLEY    \n",
      "                                                                MARTINEZ, JOHNNY E.                                \n",
      "                                                                MAVERICK COUNTY                                    \n",
      "\n",
      "\f",
      "\n"
     ]
    }
   ],
   "source": [
    "#Set up resource manager to handle pdf content. text, images, etc.\n",
    "resource_manager = PDFResourceManager()\n",
    "\n",
    "#Used to display text\n",
    "fake_file_handle = io.StringIO()\n",
    "\n",
    "#Set up converter\n",
    "converter = TextConverter(resource_manager, fake_file_handle, laparams=LAParams())\n",
    "\n",
    "#Set up page interpreter\n",
    "page_interpreter = PDFPageInterpreter(resource_manager, converter)\n",
    "\n",
    "with open('/Users/johnathonsmith/Downloads/293RDCV.PEND.CASE_1642601189564_-1416322429.pdf', 'rb') as fh:\n",
    "\n",
    "    for page_number, page in enumerate(PDFPage.get_pages(fh,\n",
    "                                  caching=True,\n",
    "                                  maxpages = 14,\n",
    "                                  check_extractable=True)):\n",
    "        #Only read page 1 for now (index = 0)\n",
    "        if page_number == 0:\n",
    "            page_interpreter.process_page(page)\n",
    "\n",
    "    text = fake_file_handle.getvalue()\n",
    "\n",
    "# close open handles\n",
    "converter.close()\n",
    "fake_file_handle.close()\n",
    "\n",
    "print(text)"
   ]
  },
  {
   "cell_type": "code",
   "execution_count": 65,
   "id": "2be4f0bc",
   "metadata": {
    "scrolled": false
   },
   "outputs": [],
   "source": [
    "#Begin testing function\n",
    "my_list = extract_pdf_data(text)"
   ]
  },
  {
   "cell_type": "code",
   "execution_count": 66,
   "id": "db7f665a",
   "metadata": {},
   "outputs": [
    {
     "data": {
      "text/plain": [
       "[{'County': 'Maverick',\n",
       "  'Cause Number': '7815-OTH',\n",
       "  'File Date': '02/22/1985',\n",
       "  'Cause of Action': '1',\n",
       "  'Docket Date': '',\n",
       "  'Docket Type': '',\n",
       "  'ANS File': '',\n",
       "  'CR Number': '',\n",
       "  'Plaintiff Name': ['ATTORNEY GENERAL', 'MENDEZ, OLGA LIDIA'],\n",
       "  'Plaintiff Attorney': ['MARIA LARSON'],\n",
       "  'Defendant Name': ['MENDEZ, CARLOS GILBERTO'],\n",
       "  'Defendant Attorney': []},\n",
       " {'County': 'Maverick',\n",
       "  'Cause Number': '90-11-10256-CV',\n",
       "  'File Date': '11/08/1990',\n",
       "  'Cause of Action': '1',\n",
       "  'Docket Date': '',\n",
       "  'Docket Type': '',\n",
       "  'ANS File': '',\n",
       "  'CR Number': '',\n",
       "  'Plaintiff Name': ['ATTORNEY GENERAL', 'MARTINEZ, ROSALINDA'],\n",
       "  'Plaintiff Attorney': ['ROLANDO MENCHACA'],\n",
       "  'Defendant Name': ['MARTINEZ, HECTOR RENE'],\n",
       "  'Defendant Attorney': []},\n",
       " {'County': 'Maverick',\n",
       "  'Cause Number': '90-12-10326-CV',\n",
       "  'File Date': '12/14/1990',\n",
       "  'Cause of Action': 'INJURY OR DAMAGE OTHER T',\n",
       "  'Docket Date': '',\n",
       "  'Docket Type': '',\n",
       "  'ANS File': '',\n",
       "  'CR Number': '',\n",
       "  'Plaintiff Name': ['DIAZ CARPENTER, ENRIQUETA'],\n",
       "  'Plaintiff Attorney': ['JAY T. KIMBROUGH'],\n",
       "  'Defendant Name': ['BOWLES JR., RUDY'],\n",
       "  'Defendant Attorney': ['RICHARD TINSMAN']},\n",
       " {'County': 'Maverick',\n",
       "  'Cause Number': '91-06-10598-CV',\n",
       "  'File Date': '10/22/1993',\n",
       "  'Cause of Action': 'MOTION ENFORCEMENT, TO M',\n",
       "  'Docket Date': '09/13/1994',\n",
       "  'Docket Type': 'MOTION TO ENFORC',\n",
       "  'ANS File': '',\n",
       "  'CR Number': '',\n",
       "  'Plaintiff Name': ['ATTORNEY GENERAL', 'FUENTES, MARIA EUGENIA'],\n",
       "  'Plaintiff Attorney': ['ROLANDO MENCHACA'],\n",
       "  'Defendant Name': ['ARROYO, JUAN ANTONIO'],\n",
       "  'Defendant Attorney': []},\n",
       " {'County': 'Maverick',\n",
       "  'Cause Number': '95-01-12880-CV',\n",
       "  'File Date': '01/05/1995',\n",
       "  'Cause of Action': '1',\n",
       "  'Docket Date': '',\n",
       "  'Docket Type': '',\n",
       "  'ANS File': '',\n",
       "  'CR Number': '',\n",
       "  'Plaintiff Name': ['ATTORNEY GENERAL', 'LARA, MARIA GUADALUPE'],\n",
       "  'Plaintiff Attorney': ['ENRIQUE FERNANDEZ'],\n",
       "  'Defendant Name': ['LARA, HOMERO'],\n",
       "  'Defendant Attorney': []},\n",
       " {'County': 'Maverick',\n",
       "  'Cause Number': '96-05-13796-CV',\n",
       "  'File Date': '05/08/1996',\n",
       "  'Cause of Action': '1',\n",
       "  'Docket Date': '',\n",
       "  'Docket Type': '',\n",
       "  'ANS File': '',\n",
       "  'CR Number': '',\n",
       "  'Plaintiff Name': ['ATTORNEY GENERAL', 'HERNANDEZ, OLGA E.'],\n",
       "  'Plaintiff Attorney': ['POLLY J BONE'],\n",
       "  'Defendant Name': ['HERNANDEZ, JUAN F.'],\n",
       "  'Defendant Attorney': []},\n",
       " {'County': 'Maverick',\n",
       "  'Cause Number': '96-12-14214-CV',\n",
       "  'File Date': '12/20/1996',\n",
       "  'Cause of Action': 'OTHER CIVIL CASES',\n",
       "  'Docket Date': '02/18/1998',\n",
       "  'Docket Type': 'WON JURY TRIAL',\n",
       "  'ANS File': '',\n",
       "  'CR Number': '',\n",
       "  'Plaintiff Name': ['THE STATE OF TEXAS'],\n",
       "  'Plaintiff Attorney': ['MELISSA DAYLONG'],\n",
       "  'Defendant Name': ['APPROX. 440 POUNDS OF MARIHU'],\n",
       "  'Defendant Attorney': []}]"
      ]
     },
     "execution_count": 66,
     "metadata": {},
     "output_type": "execute_result"
    }
   ],
   "source": [
    "my_list"
   ]
  },
  {
   "cell_type": "code",
   "execution_count": 67,
   "id": "08b41ab2",
   "metadata": {},
   "outputs": [
    {
     "data": {
      "text/html": [
       "<div>\n",
       "<style scoped>\n",
       "    .dataframe tbody tr th:only-of-type {\n",
       "        vertical-align: middle;\n",
       "    }\n",
       "\n",
       "    .dataframe tbody tr th {\n",
       "        vertical-align: top;\n",
       "    }\n",
       "\n",
       "    .dataframe thead th {\n",
       "        text-align: right;\n",
       "    }\n",
       "</style>\n",
       "<table border=\"1\" class=\"dataframe\">\n",
       "  <thead>\n",
       "    <tr style=\"text-align: right;\">\n",
       "      <th></th>\n",
       "      <th>County</th>\n",
       "      <th>Cause Number</th>\n",
       "      <th>File Date</th>\n",
       "      <th>Cause of Action</th>\n",
       "      <th>Docket Date</th>\n",
       "      <th>Docket Type</th>\n",
       "      <th>ANS File</th>\n",
       "      <th>CR Number</th>\n",
       "      <th>Plaintiff Name</th>\n",
       "      <th>Plaintiff Attorney</th>\n",
       "      <th>Defendant Name</th>\n",
       "      <th>Defendant Attorney</th>\n",
       "    </tr>\n",
       "  </thead>\n",
       "  <tbody>\n",
       "    <tr>\n",
       "      <th>0</th>\n",
       "      <td>Maverick</td>\n",
       "      <td>7815-OTH</td>\n",
       "      <td>02/22/1985</td>\n",
       "      <td>1</td>\n",
       "      <td></td>\n",
       "      <td></td>\n",
       "      <td></td>\n",
       "      <td></td>\n",
       "      <td>[ATTORNEY GENERAL, MENDEZ, OLGA LIDIA]</td>\n",
       "      <td>[MARIA LARSON]</td>\n",
       "      <td>[MENDEZ, CARLOS GILBERTO]</td>\n",
       "      <td>[]</td>\n",
       "    </tr>\n",
       "    <tr>\n",
       "      <th>1</th>\n",
       "      <td>Maverick</td>\n",
       "      <td>90-11-10256-CV</td>\n",
       "      <td>11/08/1990</td>\n",
       "      <td>1</td>\n",
       "      <td></td>\n",
       "      <td></td>\n",
       "      <td></td>\n",
       "      <td></td>\n",
       "      <td>[ATTORNEY GENERAL, MARTINEZ, ROSALINDA]</td>\n",
       "      <td>[ROLANDO MENCHACA]</td>\n",
       "      <td>[MARTINEZ, HECTOR RENE]</td>\n",
       "      <td>[]</td>\n",
       "    </tr>\n",
       "    <tr>\n",
       "      <th>2</th>\n",
       "      <td>Maverick</td>\n",
       "      <td>90-12-10326-CV</td>\n",
       "      <td>12/14/1990</td>\n",
       "      <td>INJURY OR DAMAGE OTHER T</td>\n",
       "      <td></td>\n",
       "      <td></td>\n",
       "      <td></td>\n",
       "      <td></td>\n",
       "      <td>[DIAZ CARPENTER, ENRIQUETA]</td>\n",
       "      <td>[JAY T. KIMBROUGH]</td>\n",
       "      <td>[BOWLES JR., RUDY]</td>\n",
       "      <td>[RICHARD TINSMAN]</td>\n",
       "    </tr>\n",
       "    <tr>\n",
       "      <th>3</th>\n",
       "      <td>Maverick</td>\n",
       "      <td>91-06-10598-CV</td>\n",
       "      <td>10/22/1993</td>\n",
       "      <td>MOTION ENFORCEMENT, TO M</td>\n",
       "      <td>09/13/1994</td>\n",
       "      <td>MOTION TO ENFORC</td>\n",
       "      <td></td>\n",
       "      <td></td>\n",
       "      <td>[ATTORNEY GENERAL, FUENTES, MARIA EUGENIA]</td>\n",
       "      <td>[ROLANDO MENCHACA]</td>\n",
       "      <td>[ARROYO, JUAN ANTONIO]</td>\n",
       "      <td>[]</td>\n",
       "    </tr>\n",
       "    <tr>\n",
       "      <th>4</th>\n",
       "      <td>Maverick</td>\n",
       "      <td>95-01-12880-CV</td>\n",
       "      <td>01/05/1995</td>\n",
       "      <td>1</td>\n",
       "      <td></td>\n",
       "      <td></td>\n",
       "      <td></td>\n",
       "      <td></td>\n",
       "      <td>[ATTORNEY GENERAL, LARA, MARIA GUADALUPE]</td>\n",
       "      <td>[ENRIQUE FERNANDEZ]</td>\n",
       "      <td>[LARA, HOMERO]</td>\n",
       "      <td>[]</td>\n",
       "    </tr>\n",
       "    <tr>\n",
       "      <th>5</th>\n",
       "      <td>Maverick</td>\n",
       "      <td>96-05-13796-CV</td>\n",
       "      <td>05/08/1996</td>\n",
       "      <td>1</td>\n",
       "      <td></td>\n",
       "      <td></td>\n",
       "      <td></td>\n",
       "      <td></td>\n",
       "      <td>[ATTORNEY GENERAL, HERNANDEZ, OLGA E.]</td>\n",
       "      <td>[POLLY J BONE]</td>\n",
       "      <td>[HERNANDEZ, JUAN F.]</td>\n",
       "      <td>[]</td>\n",
       "    </tr>\n",
       "    <tr>\n",
       "      <th>6</th>\n",
       "      <td>Maverick</td>\n",
       "      <td>96-12-14214-CV</td>\n",
       "      <td>12/20/1996</td>\n",
       "      <td>OTHER CIVIL CASES</td>\n",
       "      <td>02/18/1998</td>\n",
       "      <td>WON JURY TRIAL</td>\n",
       "      <td></td>\n",
       "      <td></td>\n",
       "      <td>[THE STATE OF TEXAS]</td>\n",
       "      <td>[MELISSA DAYLONG]</td>\n",
       "      <td>[APPROX. 440 POUNDS OF MARIHU]</td>\n",
       "      <td>[]</td>\n",
       "    </tr>\n",
       "  </tbody>\n",
       "</table>\n",
       "</div>"
      ],
      "text/plain": [
       "     County    Cause Number   File Date           Cause of Action Docket Date  \\\n",
       "0  Maverick        7815-OTH  02/22/1985                         1               \n",
       "1  Maverick  90-11-10256-CV  11/08/1990                         1               \n",
       "2  Maverick  90-12-10326-CV  12/14/1990  INJURY OR DAMAGE OTHER T               \n",
       "3  Maverick  91-06-10598-CV  10/22/1993  MOTION ENFORCEMENT, TO M  09/13/1994   \n",
       "4  Maverick  95-01-12880-CV  01/05/1995                         1               \n",
       "5  Maverick  96-05-13796-CV  05/08/1996                         1               \n",
       "6  Maverick  96-12-14214-CV  12/20/1996         OTHER CIVIL CASES  02/18/1998   \n",
       "\n",
       "        Docket Type ANS File CR Number  \\\n",
       "0                                        \n",
       "1                                        \n",
       "2                                        \n",
       "3  MOTION TO ENFORC                      \n",
       "4                                        \n",
       "5                                        \n",
       "6    WON JURY TRIAL                      \n",
       "\n",
       "                               Plaintiff Name   Plaintiff Attorney  \\\n",
       "0      [ATTORNEY GENERAL, MENDEZ, OLGA LIDIA]       [MARIA LARSON]   \n",
       "1     [ATTORNEY GENERAL, MARTINEZ, ROSALINDA]   [ROLANDO MENCHACA]   \n",
       "2                 [DIAZ CARPENTER, ENRIQUETA]   [JAY T. KIMBROUGH]   \n",
       "3  [ATTORNEY GENERAL, FUENTES, MARIA EUGENIA]   [ROLANDO MENCHACA]   \n",
       "4   [ATTORNEY GENERAL, LARA, MARIA GUADALUPE]  [ENRIQUE FERNANDEZ]   \n",
       "5      [ATTORNEY GENERAL, HERNANDEZ, OLGA E.]       [POLLY J BONE]   \n",
       "6                        [THE STATE OF TEXAS]    [MELISSA DAYLONG]   \n",
       "\n",
       "                   Defendant Name Defendant Attorney  \n",
       "0       [MENDEZ, CARLOS GILBERTO]                 []  \n",
       "1         [MARTINEZ, HECTOR RENE]                 []  \n",
       "2              [BOWLES JR., RUDY]  [RICHARD TINSMAN]  \n",
       "3          [ARROYO, JUAN ANTONIO]                 []  \n",
       "4                  [LARA, HOMERO]                 []  \n",
       "5            [HERNANDEZ, JUAN F.]                 []  \n",
       "6  [APPROX. 440 POUNDS OF MARIHU]                 []  "
      ]
     },
     "execution_count": 67,
     "metadata": {},
     "output_type": "execute_result"
    }
   ],
   "source": [
    "pd.DataFrame(my_list)"
   ]
  },
  {
   "cell_type": "markdown",
   "id": "fd65babe",
   "metadata": {},
   "source": [
    "# Success!\n",
    "\n",
    "Now I will fix the multiple pages issue."
   ]
  },
  {
   "cell_type": "code",
   "execution_count": 68,
   "id": "c77670f3",
   "metadata": {},
   "outputs": [
    {
     "name": "stdout",
     "output_type": "stream",
     "text": [
      "                COUNTY OF MAVERICK 293RD DISTRICT COURT CIVIL PENDING CASES AS OF 01/19/2022\n",
      "\n",
      "                                           RAN ON JANUARY 19, 2022 09:02am PAGE: 1\n",
      "\n",
      "        CAUSE #             FILE DATE CAUSE OF ACTION           DOCKT DATE  DOCKET TYPE       ANS FILED  CR CASE #\n",
      "\n",
      "PLAINTIFF NAME                PLAINTIFF ATTORNEY        DEFENDANT NAME                DEFENDANT ATTORNEY\n",
      "\n",
      "        7815-OTH           02/22/1985 1                                                                  \n",
      "\n",
      "        ATTORNEY GENERAL              MARIA LARSON              MENDEZ, CARLOS GILBERTO                            \n",
      "        MENDEZ, OLGA LIDIA                                                                                         \n",
      "        -------------------------------------------------------------------------------------------------------------\n",
      "        90-11-10256-CV     11/08/1990 1                                                                  \n",
      "\n",
      "        ATTORNEY GENERAL              ROLANDO MENCHACA          MARTINEZ, HECTOR RENE                              \n",
      "        MARTINEZ, ROSALINDA                                                                                        \n",
      "        -------------------------------------------------------------------------------------------------------------\n",
      "        90-12-10326-CV     12/14/1990 INJURY OR DAMAGE OTHER T                                           \n",
      "\n",
      "        DIAZ CARPENTER, ENRIQUETA     JAY T. KIMBROUGH          BOWLES JR., RUDY              RICHARD TINSMAN      \n",
      "        -------------------------------------------------------------------------------------------------------------\n",
      "        91-06-10598-CV     10/22/1993 MOTION ENFORCEMENT, TO M  09/13/1994  MOTION TO ENFORC             \n",
      "\n",
      "        ATTORNEY GENERAL              ROLANDO MENCHACA          ARROYO, JUAN ANTONIO                               \n",
      "        FUENTES, MARIA EUGENIA                                                                                     \n",
      "        -------------------------------------------------------------------------------------------------------------\n",
      "        95-01-12880-CV     01/05/1995 1                                                                  \n",
      "\n",
      "        ATTORNEY GENERAL              ENRIQUE FERNANDEZ         LARA, HOMERO                                       \n",
      "        LARA, MARIA GUADALUPE                                                                                      \n",
      "        -------------------------------------------------------------------------------------------------------------\n",
      "        96-05-13796-CV     05/08/1996 1                                                                  \n",
      "\n",
      "        ATTORNEY GENERAL              POLLY J BONE              HERNANDEZ, JUAN F.                                 \n",
      "        HERNANDEZ, OLGA E.                                                                                         \n",
      "        -------------------------------------------------------------------------------------------------------------\n",
      "        96-12-14214-CV     12/20/1996 OTHER CIVIL CASES         02/18/1998  WON JURY TRIAL               \n",
      "\n",
      "        THE STATE OF TEXAS            MELISSA DAYLONG           APPROX. 440 POUNDS OF MARIHU                       \n",
      "        -------------------------------------------------------------------------------------------------------------\n",
      "        97-06-14568-CV     06/16/1997 OTHER CIVIL CASES         02/19/1998  WON JURY TRIAL               \n",
      "\n",
      "        NUTMEG INSURANCE COMPANY      LOREN R. SMITH            MANCHA, GUILLERMO             MICHAEL J. BAGLEY    \n",
      "                                                                MARTINEZ, JOHNNY E.                                \n",
      "                                                                MAVERICK COUNTY                                    \n",
      "\n",
      "\f",
      "                COUNTY OF MAVERICK 293RD DISTRICT COURT CIVIL PENDING CASES AS OF 01/19/2022\n",
      "\n",
      "                                           RAN ON JANUARY 19, 2022 09:02am PAGE: 2\n",
      "\n",
      "        CAUSE #             FILE DATE CAUSE OF ACTION           DOCKT DATE  DOCKET TYPE       ANS FILED  CR CASE #\n",
      "\n",
      "PLAINTIFF NAME                PLAINTIFF ATTORNEY        DEFENDANT NAME                DEFENDANT ATTORNEY\n",
      "\n",
      "                                                                RUIZ, ROBERTO                                      \n",
      "                                                                SAUCEDO, DAVID                                     \n",
      "        -------------------------------------------------------------------------------------------------------------\n",
      "        97-10-14776-CV     10/10/1997 INJURY OR DAMAGE INVOLVI  12/06/1999  TRIAL ON THE MER             \n",
      "\n",
      "        ALLSTATE INSURANCE COMPANY    TIM HERRON                DE LEON, FERNANDO             NORMAN JOLLY         \n",
      "                                                                DE LEON, PATRICIA                                  \n",
      "                                                                DE LEON, TONY                                      \n",
      "                                                                RAMIREZ, ARCELIA                                   \n",
      "                                                                RAMIREZ, CLAUDIA                                   \n",
      "                                                                RAMIREZ, EVA                                       \n",
      "                                                                RAMIREZ, MARIA                                     \n",
      "                                                                RAMIREZ, NARCESA ACOSTA                            \n",
      "        -------------------------------------------------------------------------------------------------------------\n",
      "        97-12-14881-CVCLM  12/15/1997 OTHER CIVIL CASES         10/21/2002  JURY TRIAL                   \n",
      "\n",
      "        GARZA, LEONEL                 GLORIA E. HERNANDEZ       DARRYL LEE                    PAUL J. TARSKI       \n",
      "        GARZA, MARTHA                                           EVA BELISLE                                        \n",
      "        HERNANDEZ, ALMA                                         JACK DUNCAN                                        \n",
      "        HERNANDEZ, REYES                                                                                           \n",
      "        HERNANDEZ, ROSARIO                                                                                         \n",
      "        HERNANDEZ, VICTOR                                                                                          \n",
      "        MOLINA, GUADALUPE                                                                                          \n",
      "        MOLINA, NORA                                                                                               \n",
      "        MUNOZ, JOSE MARIANO                                                                                        \n",
      "        MUNOZ, PETRONILA                                                                                           \n",
      "        -------------------------------------------------------------------------------------------------------------\n",
      "\n",
      "\f",
      "\n"
     ]
    }
   ],
   "source": [
    "#Load two pages\n",
    "#Set up resource manager to handle pdf content. text, images, etc.\n",
    "resource_manager = PDFResourceManager()\n",
    "\n",
    "#Used to display text\n",
    "fake_file_handle = io.StringIO()\n",
    "\n",
    "#Set up converter\n",
    "converter = TextConverter(resource_manager, fake_file_handle, laparams=LAParams())\n",
    "\n",
    "#Set up page interpreter\n",
    "page_interpreter = PDFPageInterpreter(resource_manager, converter)\n",
    "\n",
    "with open('/Users/johnathonsmith/Downloads/293RDCV.PEND.CASE_1642601189564_-1416322429.pdf', 'rb') as fh:\n",
    "\n",
    "    for page_number, page in enumerate(PDFPage.get_pages(fh,\n",
    "                                  caching=True,\n",
    "                                  maxpages = 2,\n",
    "                                  check_extractable=True)):\n",
    "        #Only read page 1 for now (index = 0)\n",
    "        #if page_number == 0:\n",
    "        page_interpreter.process_page(page)\n",
    "\n",
    "    text = fake_file_handle.getvalue()\n",
    "\n",
    "# close open handles\n",
    "converter.close()\n",
    "fake_file_handle.close()\n",
    "\n",
    "print(text)"
   ]
  },
  {
   "cell_type": "code",
   "execution_count": 69,
   "id": "fde269dc",
   "metadata": {},
   "outputs": [],
   "source": [
    "#Try using regex to remove the headers on all pages\n",
    "import re"
   ]
  },
  {
   "cell_type": "code",
   "execution_count": 70,
   "id": "73bf1e2e",
   "metadata": {},
   "outputs": [
    {
     "data": {
      "text/plain": [
       "'                \\n\\n        7815-OTH           02/22/1985 1                                                                  \\n\\n        ATTORNEY GENERAL              MARIA LARSON              MENDEZ, CARLOS GILBERTO                            \\n        MENDEZ, OLGA LIDIA                                                                                         \\n        -------------------------------------------------------------------------------------------------------------\\n        90-11-10256-CV     11/08/1990 1                                                                  \\n\\n        ATTORNEY GENERAL              ROLANDO MENCHACA          MARTINEZ, HECTOR RENE                              \\n        MARTINEZ, ROSALINDA                                                                                        \\n        -------------------------------------------------------------------------------------------------------------\\n        90-12-10326-CV     12/14/1990 INJURY OR DAMAGE OTHER T                                           \\n\\n        DIAZ CARPENTER, ENRIQUETA     JAY T. KIMBROUGH          BOWLES JR., RUDY              RICHARD TINSMAN      \\n        -------------------------------------------------------------------------------------------------------------\\n        91-06-10598-CV     10/22/1993 MOTION ENFORCEMENT, TO M  09/13/1994  MOTION TO ENFORC             \\n\\n        ATTORNEY GENERAL              ROLANDO MENCHACA          ARROYO, JUAN ANTONIO                               \\n        FUENTES, MARIA EUGENIA                                                                                     \\n        -------------------------------------------------------------------------------------------------------------\\n        95-01-12880-CV     01/05/1995 1                                                                  \\n\\n        ATTORNEY GENERAL              ENRIQUE FERNANDEZ         LARA, HOMERO                                       \\n        LARA, MARIA GUADALUPE                                                                                      \\n        -------------------------------------------------------------------------------------------------------------\\n        96-05-13796-CV     05/08/1996 1                                                                  \\n\\n        ATTORNEY GENERAL              POLLY J BONE              HERNANDEZ, JUAN F.                                 \\n        HERNANDEZ, OLGA E.                                                                                         \\n        -------------------------------------------------------------------------------------------------------------\\n        96-12-14214-CV     12/20/1996 OTHER CIVIL CASES         02/18/1998  WON JURY TRIAL               \\n\\n        THE STATE OF TEXAS            MELISSA DAYLONG           APPROX. 440 POUNDS OF MARIHU                       \\n        -------------------------------------------------------------------------------------------------------------\\n        97-06-14568-CV     06/16/1997 OTHER CIVIL CASES         02/19/1998  WON JURY TRIAL               \\n\\n        NUTMEG INSURANCE COMPANY      LOREN R. SMITH            MANCHA, GUILLERMO             MICHAEL J. BAGLEY    \\n                                                                MARTINEZ, JOHNNY E.                                \\n                                                                MAVERICK COUNTY                                    \\n\\n\\x0c                \\n\\n                                                                RUIZ, ROBERTO                                      \\n                                                                SAUCEDO, DAVID                                     \\n        -------------------------------------------------------------------------------------------------------------\\n        97-10-14776-CV     10/10/1997 INJURY OR DAMAGE INVOLVI  12/06/1999  TRIAL ON THE MER             \\n\\n        ALLSTATE INSURANCE COMPANY    TIM HERRON                DE LEON, FERNANDO             NORMAN JOLLY         \\n                                                                DE LEON, PATRICIA                                  \\n                                                                DE LEON, TONY                                      \\n                                                                RAMIREZ, ARCELIA                                   \\n                                                                RAMIREZ, CLAUDIA                                   \\n                                                                RAMIREZ, EVA                                       \\n                                                                RAMIREZ, MARIA                                     \\n                                                                RAMIREZ, NARCESA ACOSTA                            \\n        -------------------------------------------------------------------------------------------------------------\\n        97-12-14881-CVCLM  12/15/1997 OTHER CIVIL CASES         10/21/2002  JURY TRIAL                   \\n\\n        GARZA, LEONEL                 GLORIA E. HERNANDEZ       DARRYL LEE                    PAUL J. TARSKI       \\n        GARZA, MARTHA                                           EVA BELISLE                                        \\n        HERNANDEZ, ALMA                                         JACK DUNCAN                                        \\n        HERNANDEZ, REYES                                                                                           \\n        HERNANDEZ, ROSARIO                                                                                         \\n        HERNANDEZ, VICTOR                                                                                          \\n        MOLINA, GUADALUPE                                                                                          \\n        MOLINA, NORA                                                                                               \\n        MUNOZ, JOSE MARIANO                                                                                        \\n        MUNOZ, PETRONILA                                                                                           \\n        -------------------------------------------------------------------------------------------------------------\\n\\n\\x0c'"
      ]
     },
     "execution_count": 70,
     "metadata": {},
     "output_type": "execute_result"
    }
   ],
   "source": [
    "re.sub(r\"\"\"COUNTY OF MAVERICK 293RD DISTRICT COURT CIVIL PENDING CASES AS OF 01/19/2022\n",
    "\n",
    "                                           RAN ON JANUARY 19, 2022 09:02am PAGE: \\d{1,3}\n",
    "\n",
    "        CAUSE #             FILE DATE CAUSE OF ACTION           DOCKT DATE  DOCKET TYPE       ANS FILED  CR CASE #\n",
    "\n",
    "PLAINTIFF NAME                PLAINTIFF ATTORNEY        DEFENDANT NAME                DEFENDANT ATTORNEY\"\"\", '', text)"
   ]
  },
  {
   "cell_type": "code",
   "execution_count": 71,
   "id": "6dac64c6",
   "metadata": {},
   "outputs": [
    {
     "name": "stdout",
     "output_type": "stream",
     "text": [
      "                COUNTY OF MAVERICK 293RD DISTRICT COURT CIVIL PENDING CASES AS OF 01/19/2022\n",
      "\n",
      "                                           RAN ON JANUARY 19, 2022 09:02am PAGE: 1\n",
      "\n",
      "        CAUSE #             FILE DATE CAUSE OF ACTION           DOCKT DATE  DOCKET TYPE       ANS FILED  CR CASE #\n",
      "\n",
      "PLAINTIFF NAME                PLAINTIFF ATTORNEY        DEFENDANT NAME                DEFENDANT ATTORNEY\n",
      "\n",
      "        7815-OTH           02/22/1985 1                                                                  \n",
      "\n",
      "        ATTORNEY GENERAL              MARIA LARSON              MENDEZ, CARLOS GILBERTO                            \n",
      "        MENDEZ, OLGA LIDIA                                                                                         \n",
      "        -------------------------------------------------------------------------------------------------------------\n",
      "        90-11-10256-CV     11/08/1990 1                                                                  \n",
      "\n",
      "        ATTORNEY GENERAL              ROLANDO MENCHACA          MARTINEZ, HECTOR RENE                              \n",
      "        MARTINEZ, ROSALINDA                                                                                        \n",
      "        -------------------------------------------------------------------------------------------------------------\n",
      "        90-12-10326-CV     12/14/1990 INJURY OR DAMAGE OTHER T                                           \n",
      "\n",
      "        DIAZ CARPENTER, ENRIQUETA     JAY T. KIMBROUGH          BOWLES JR., RUDY              RICHARD TINSMAN      \n",
      "        -------------------------------------------------------------------------------------------------------------\n",
      "        91-06-10598-CV     10/22/1993 MOTION ENFORCEMENT, TO M  09/13/1994  MOTION TO ENFORC             \n",
      "\n",
      "        ATTORNEY GENERAL              ROLANDO MENCHACA          ARROYO, JUAN ANTONIO                               \n",
      "        FUENTES, MARIA EUGENIA                                                                                     \n",
      "        -------------------------------------------------------------------------------------------------------------\n",
      "        95-01-12880-CV     01/05/1995 1                                                                  \n",
      "\n",
      "        ATTORNEY GENERAL              ENRIQUE FERNANDEZ         LARA, HOMERO                                       \n",
      "        LARA, MARIA GUADALUPE                                                                                      \n",
      "        -------------------------------------------------------------------------------------------------------------\n",
      "        96-05-13796-CV     05/08/1996 1                                                                  \n",
      "\n",
      "        ATTORNEY GENERAL              POLLY J BONE              HERNANDEZ, JUAN F.                                 \n",
      "        HERNANDEZ, OLGA E.                                                                                         \n",
      "        -------------------------------------------------------------------------------------------------------------\n",
      "        96-12-14214-CV     12/20/1996 OTHER CIVIL CASES         02/18/1998  WON JURY TRIAL               \n",
      "\n",
      "        THE STATE OF TEXAS            MELISSA DAYLONG           APPROX. 440 POUNDS OF MARIHU                       \n",
      "        -------------------------------------------------------------------------------------------------------------\n",
      "        97-06-14568-CV     06/16/1997 OTHER CIVIL CASES         02/19/1998  WON JURY TRIAL               \n",
      "\n",
      "        NUTMEG INSURANCE COMPANY      LOREN R. SMITH            MANCHA, GUILLERMO             MICHAEL J. BAGLEY    \n",
      "                                                                MARTINEZ, JOHNNY E.                                \n",
      "                                                                MAVERICK COUNTY                                    \n",
      "\n",
      "\f",
      "                COUNTY OF MAVERICK 293RD DISTRICT COURT CIVIL PENDING CASES AS OF 01/19/2022\n",
      "\n",
      "                                           RAN ON JANUARY 19, 2022 09:02am PAGE: 2\n",
      "\n",
      "        CAUSE #             FILE DATE CAUSE OF ACTION           DOCKT DATE  DOCKET TYPE       ANS FILED  CR CASE #\n",
      "\n",
      "PLAINTIFF NAME                PLAINTIFF ATTORNEY        DEFENDANT NAME                DEFENDANT ATTORNEY\n",
      "\n",
      "                                                                RUIZ, ROBERTO                                      \n",
      "                                                                SAUCEDO, DAVID                                     \n",
      "        -------------------------------------------------------------------------------------------------------------\n",
      "        97-10-14776-CV     10/10/1997 INJURY OR DAMAGE INVOLVI  12/06/1999  TRIAL ON THE MER             \n",
      "\n",
      "        ALLSTATE INSURANCE COMPANY    TIM HERRON                DE LEON, FERNANDO             NORMAN JOLLY         \n",
      "                                                                DE LEON, PATRICIA                                  \n",
      "                                                                DE LEON, TONY                                      \n",
      "                                                                RAMIREZ, ARCELIA                                   \n",
      "                                                                RAMIREZ, CLAUDIA                                   \n",
      "                                                                RAMIREZ, EVA                                       \n",
      "                                                                RAMIREZ, MARIA                                     \n",
      "                                                                RAMIREZ, NARCESA ACOSTA                            \n",
      "        -------------------------------------------------------------------------------------------------------------\n",
      "        97-12-14881-CVCLM  12/15/1997 OTHER CIVIL CASES         10/21/2002  JURY TRIAL                   \n",
      "\n",
      "        GARZA, LEONEL                 GLORIA E. HERNANDEZ       DARRYL LEE                    PAUL J. TARSKI       \n",
      "        GARZA, MARTHA                                           EVA BELISLE                                        \n",
      "        HERNANDEZ, ALMA                                         JACK DUNCAN                                        \n",
      "        HERNANDEZ, REYES                                                                                           \n",
      "        HERNANDEZ, ROSARIO                                                                                         \n",
      "        HERNANDEZ, VICTOR                                                                                          \n",
      "        MOLINA, GUADALUPE                                                                                          \n",
      "        MOLINA, NORA                                                                                               \n",
      "        MUNOZ, JOSE MARIANO                                                                                        \n",
      "        MUNOZ, PETRONILA                                                                                           \n",
      "        -------------------------------------------------------------------------------------------------------------\n",
      "\n",
      "\f",
      "                COUNTY OF MAVERICK 293RD DISTRICT COURT CIVIL PENDING CASES AS OF 01/19/2022\n",
      "\n",
      "                                           RAN ON JANUARY 19, 2022 09:02am PAGE: 3\n",
      "\n",
      "        CAUSE #             FILE DATE CAUSE OF ACTION           DOCKT DATE  DOCKET TYPE       ANS FILED  CR CASE #\n",
      "\n",
      "PLAINTIFF NAME                PLAINTIFF ATTORNEY        DEFENDANT NAME                DEFENDANT ATTORNEY\n",
      "\n",
      "        98-03-15060-CV     03/19/1998 MOTION ENFORCEMENT, TO M                                           \n",
      "                           10/08/2021\n",
      "\n",
      "        ATTORNEY GENERAL              POLLY J BONE              CARBAJAL, ROBERTO                                  \n",
      "        FLORES, MARIA ISABEL                                                                                       \n",
      "        -------------------------------------------------------------------------------------------------------------\n",
      "        98-05-15216-CV     05/26/1998 OTHER CIVIL CASES         01/10/2003  STATUS REPORT                \n",
      "\n",
      "        PILLING, LISA DIONA           JERALD L. ABRAMS          GILLILAND, JODY C.                                 \n",
      "        -------------------------------------------------------------------------------------------------------------\n",
      "        98-10-15536-CV     10/26/1998 OTHER CIVIL CASES         05/11/2000  HEARING ON MERIT             \n",
      "\n",
      "        GARCIA, MARTIN                JOHN MICHAEL DOYLE        LOPEZ, HERMELINDA             AUGUST LINNARTZ JR.  \n",
      "        GARCIA, SOILA M.                                        LOPEZ, JESUS                                       \n",
      "        -------------------------------------------------------------------------------------------------------------\n",
      "        99-05-15966-CV     05/07/1999 DIVORCE - NO CHILDREN     07/29/2002  PRE-TRIAL                    \n",
      "\n",
      "        MARTINEZ, JUANITA GUADALUPE                             SANTIAGO MARTINEZ             GLORIA E. HERNANDEZ  \n",
      "        -------------------------------------------------------------------------------------------------------------\n",
      "        95-07-13228-CV-B   05/10/1999 INJURY OR DAMAGE OTHER T                                           \n",
      "\n",
      "        CARRILLO JR., ROBERTO         ERNEST G. MIRELES         VILLARREAL, MARIO             DAVID RIOJAS         \n",
      "        -------------------------------------------------------------------------------------------------------------\n",
      "        98-05-15224-CV-A   07/21/1999 OTHER CIVIL CASES                                                  \n",
      "\n",
      "        FRAUSTO JR., DAVID            AUGUST LINNARTZ JR.       CHAPA, ANTONIA NORMA                               \n",
      "        -------------------------------------------------------------------------------------------------------------\n",
      "        00-02-16392-CV     02/04/2000 (TITLE IV-D OAG USE ONLY                                           \n",
      "\n",
      "        ATTORNEY GENERAL              MELINDA S. LAUCK          CHAVARRIA, JOSE M.                                 \n",
      "        CHAVARRIA, AZUCENA                                                                                         \n",
      "        -------------------------------------------------------------------------------------------------------------\n",
      "        01-12-17744-MCV    12/06/2001 OTHER CIVIL CASES         04/12/2002  TRIAL ON THE MER             \n",
      "\n",
      "        STATE OF TEXAS                ROBERTO SERNA             AGUILERA, JUAN MANUEL                              \n",
      "        -------------------------------------------------------------------------------------------------------------\n",
      "\n",
      "\f",
      "\n"
     ]
    }
   ],
   "source": [
    "#Test function on two pages\n",
    "#First reload the two pages\n",
    "#Load two pages\n",
    "#Set up resource manager to handle pdf content. text, images, etc.\n",
    "resource_manager = PDFResourceManager()\n",
    "\n",
    "#Used to display text\n",
    "fake_file_handle = io.StringIO()\n",
    "\n",
    "#Set up converter\n",
    "converter = TextConverter(resource_manager, fake_file_handle, laparams=LAParams())\n",
    "\n",
    "#Set up page interpreter\n",
    "page_interpreter = PDFPageInterpreter(resource_manager, converter)\n",
    "\n",
    "with open('/Users/johnathonsmith/Downloads/293RDCV.PEND.CASE_1642601189564_-1416322429.pdf', 'rb') as fh:\n",
    "\n",
    "    for page_number, page in enumerate(PDFPage.get_pages(fh,\n",
    "                                  caching=True,\n",
    "                                  maxpages = 3,\n",
    "                                  check_extractable=True)):\n",
    "        #Only read page 1 for now (index = 0)\n",
    "        #if page_number == 0:\n",
    "        page_interpreter.process_page(page)\n",
    "\n",
    "    text = fake_file_handle.getvalue()\n",
    "\n",
    "# close open handles\n",
    "converter.close()\n",
    "fake_file_handle.close()\n",
    "\n",
    "print(text)"
   ]
  },
  {
   "cell_type": "code",
   "execution_count": 72,
   "id": "99c5823d",
   "metadata": {},
   "outputs": [],
   "source": [
    "#Now call the function\n",
    "my_list = extract_pdf_data(text)"
   ]
  },
  {
   "cell_type": "code",
   "execution_count": 73,
   "id": "9ee9256a",
   "metadata": {},
   "outputs": [
    {
     "data": {
      "text/plain": [
       "[{'County': 'Maverick',\n",
       "  'Cause Number': '7815-OTH',\n",
       "  'File Date': '02/22/1985',\n",
       "  'Cause of Action': '1',\n",
       "  'Docket Date': '',\n",
       "  'Docket Type': '',\n",
       "  'ANS File': '',\n",
       "  'CR Number': '',\n",
       "  'Plaintiff Name': ['ATTORNEY GENERAL', 'MENDEZ, OLGA LIDIA'],\n",
       "  'Plaintiff Attorney': ['MARIA LARSON'],\n",
       "  'Defendant Name': ['MENDEZ, CARLOS GILBERTO'],\n",
       "  'Defendant Attorney': []},\n",
       " {'County': 'Maverick',\n",
       "  'Cause Number': '90-11-10256-CV',\n",
       "  'File Date': '11/08/1990',\n",
       "  'Cause of Action': '1',\n",
       "  'Docket Date': '',\n",
       "  'Docket Type': '',\n",
       "  'ANS File': '',\n",
       "  'CR Number': '',\n",
       "  'Plaintiff Name': ['ATTORNEY GENERAL', 'MARTINEZ, ROSALINDA'],\n",
       "  'Plaintiff Attorney': ['ROLANDO MENCHACA'],\n",
       "  'Defendant Name': ['MARTINEZ, HECTOR RENE'],\n",
       "  'Defendant Attorney': []},\n",
       " {'County': 'Maverick',\n",
       "  'Cause Number': '90-12-10326-CV',\n",
       "  'File Date': '12/14/1990',\n",
       "  'Cause of Action': 'INJURY OR DAMAGE OTHER T',\n",
       "  'Docket Date': '',\n",
       "  'Docket Type': '',\n",
       "  'ANS File': '',\n",
       "  'CR Number': '',\n",
       "  'Plaintiff Name': ['DIAZ CARPENTER, ENRIQUETA'],\n",
       "  'Plaintiff Attorney': ['JAY T. KIMBROUGH'],\n",
       "  'Defendant Name': ['BOWLES JR., RUDY'],\n",
       "  'Defendant Attorney': ['RICHARD TINSMAN']},\n",
       " {'County': 'Maverick',\n",
       "  'Cause Number': '91-06-10598-CV',\n",
       "  'File Date': '10/22/1993',\n",
       "  'Cause of Action': 'MOTION ENFORCEMENT, TO M',\n",
       "  'Docket Date': '09/13/1994',\n",
       "  'Docket Type': 'MOTION TO ENFORC',\n",
       "  'ANS File': '',\n",
       "  'CR Number': '',\n",
       "  'Plaintiff Name': ['ATTORNEY GENERAL', 'FUENTES, MARIA EUGENIA'],\n",
       "  'Plaintiff Attorney': ['ROLANDO MENCHACA'],\n",
       "  'Defendant Name': ['ARROYO, JUAN ANTONIO'],\n",
       "  'Defendant Attorney': []},\n",
       " {'County': 'Maverick',\n",
       "  'Cause Number': '95-01-12880-CV',\n",
       "  'File Date': '01/05/1995',\n",
       "  'Cause of Action': '1',\n",
       "  'Docket Date': '',\n",
       "  'Docket Type': '',\n",
       "  'ANS File': '',\n",
       "  'CR Number': '',\n",
       "  'Plaintiff Name': ['ATTORNEY GENERAL', 'LARA, MARIA GUADALUPE'],\n",
       "  'Plaintiff Attorney': ['ENRIQUE FERNANDEZ'],\n",
       "  'Defendant Name': ['LARA, HOMERO'],\n",
       "  'Defendant Attorney': []},\n",
       " {'County': 'Maverick',\n",
       "  'Cause Number': '96-05-13796-CV',\n",
       "  'File Date': '05/08/1996',\n",
       "  'Cause of Action': '1',\n",
       "  'Docket Date': '',\n",
       "  'Docket Type': '',\n",
       "  'ANS File': '',\n",
       "  'CR Number': '',\n",
       "  'Plaintiff Name': ['ATTORNEY GENERAL', 'HERNANDEZ, OLGA E.'],\n",
       "  'Plaintiff Attorney': ['POLLY J BONE'],\n",
       "  'Defendant Name': ['HERNANDEZ, JUAN F.'],\n",
       "  'Defendant Attorney': []},\n",
       " {'County': 'Maverick',\n",
       "  'Cause Number': '96-12-14214-CV',\n",
       "  'File Date': '12/20/1996',\n",
       "  'Cause of Action': 'OTHER CIVIL CASES',\n",
       "  'Docket Date': '02/18/1998',\n",
       "  'Docket Type': 'WON JURY TRIAL',\n",
       "  'ANS File': '',\n",
       "  'CR Number': '',\n",
       "  'Plaintiff Name': ['THE STATE OF TEXAS'],\n",
       "  'Plaintiff Attorney': ['MELISSA DAYLONG'],\n",
       "  'Defendant Name': ['APPROX. 440 POUNDS OF MARIHU'],\n",
       "  'Defendant Attorney': []},\n",
       " {'County': 'Maverick',\n",
       "  'Cause Number': '97-06-14568-CV',\n",
       "  'File Date': '06/16/1997',\n",
       "  'Cause of Action': 'OTHER CIVIL CASES',\n",
       "  'Docket Date': '02/19/1998',\n",
       "  'Docket Type': 'WON JURY TRIAL',\n",
       "  'ANS File': '',\n",
       "  'CR Number': '',\n",
       "  'Plaintiff Name': ['NUTMEG INSURANCE COMPANY'],\n",
       "  'Plaintiff Attorney': ['LOREN R. SMITH'],\n",
       "  'Defendant Name': ['MANCHA, GUILLERMO',\n",
       "   'MARTINEZ, JOHNNY E.',\n",
       "   'MAVERICK COUNTY',\n",
       "   'RUIZ, ROBERTO',\n",
       "   'SAUCEDO, DAVID'],\n",
       "  'Defendant Attorney': ['MICHAEL J. BAGLEY']},\n",
       " {'County': 'Maverick',\n",
       "  'Cause Number': '97-10-14776-CV',\n",
       "  'File Date': '10/10/1997',\n",
       "  'Cause of Action': 'INJURY OR DAMAGE INVOLVI',\n",
       "  'Docket Date': '12/06/1999',\n",
       "  'Docket Type': 'TRIAL ON THE MER',\n",
       "  'ANS File': '',\n",
       "  'CR Number': '',\n",
       "  'Plaintiff Name': ['ALLSTATE INSURANCE COMPANY'],\n",
       "  'Plaintiff Attorney': ['TIM HERRON'],\n",
       "  'Defendant Name': ['DE LEON, FERNANDO',\n",
       "   'DE LEON, PATRICIA',\n",
       "   'DE LEON, TONY',\n",
       "   'RAMIREZ, ARCELIA',\n",
       "   'RAMIREZ, CLAUDIA',\n",
       "   'RAMIREZ, EVA',\n",
       "   'RAMIREZ, MARIA',\n",
       "   'RAMIREZ, NARCESA ACOSTA'],\n",
       "  'Defendant Attorney': ['NORMAN JOLLY']},\n",
       " {'County': 'Maverick',\n",
       "  'Cause Number': '97-12-14881-CVCLM',\n",
       "  'File Date': 'LM  12/15/1997',\n",
       "  'Cause of Action': 'OTHER CIVIL CASES',\n",
       "  'Docket Date': '10/21/2002',\n",
       "  'Docket Type': 'JURY TRIAL',\n",
       "  'ANS File': '',\n",
       "  'CR Number': '',\n",
       "  'Plaintiff Name': ['GARZA, LEONEL',\n",
       "   'GARZA, MARTHA',\n",
       "   'HERNANDEZ, ALMA',\n",
       "   'HERNANDEZ, REYES',\n",
       "   'HERNANDEZ, ROSARIO',\n",
       "   'HERNANDEZ, VICTOR',\n",
       "   'MOLINA, GUADALUPE',\n",
       "   'MOLINA, NORA',\n",
       "   'MUNOZ, JOSE MARIANO',\n",
       "   'MUNOZ, PETRONILA'],\n",
       "  'Plaintiff Attorney': ['GLORIA E. HERNANDEZ'],\n",
       "  'Defendant Name': ['DARRYL LEE', 'EVA BELISLE', 'JACK DUNCAN'],\n",
       "  'Defendant Attorney': ['PAUL J. TARSKI']},\n",
       " {'County': 'Maverick',\n",
       "  'Cause Number': '98-03-15060-CV',\n",
       "  'File Date': '03/19/1998',\n",
       "  'Cause of Action': 'MOTION ENFORCEMENT, TO M',\n",
       "  'Docket Date': '',\n",
       "  'Docket Type': '',\n",
       "  'ANS File': '',\n",
       "  'CR Number': '',\n",
       "  'Plaintiff Name': ['ATTORNEY GENERAL', 'FLORES, MARIA ISABEL'],\n",
       "  'Plaintiff Attorney': ['POLLY J BONE'],\n",
       "  'Defendant Name': ['CARBAJAL, ROBERTO'],\n",
       "  'Defendant Attorney': []},\n",
       " {'County': 'Maverick',\n",
       "  'Cause Number': '98-05-15216-CV',\n",
       "  'File Date': '05/26/1998',\n",
       "  'Cause of Action': 'OTHER CIVIL CASES',\n",
       "  'Docket Date': '01/10/2003',\n",
       "  'Docket Type': 'STATUS REPORT',\n",
       "  'ANS File': '',\n",
       "  'CR Number': '',\n",
       "  'Plaintiff Name': ['PILLING, LISA DIONA'],\n",
       "  'Plaintiff Attorney': ['JERALD L. ABRAMS'],\n",
       "  'Defendant Name': ['GILLILAND, JODY C.'],\n",
       "  'Defendant Attorney': []},\n",
       " {'County': 'Maverick',\n",
       "  'Cause Number': '98-10-15536-CV',\n",
       "  'File Date': '10/26/1998',\n",
       "  'Cause of Action': 'OTHER CIVIL CASES',\n",
       "  'Docket Date': '05/11/2000',\n",
       "  'Docket Type': 'HEARING ON MERIT',\n",
       "  'ANS File': '',\n",
       "  'CR Number': '',\n",
       "  'Plaintiff Name': ['GARCIA, MARTIN', 'GARCIA, SOILA M.'],\n",
       "  'Plaintiff Attorney': ['JOHN MICHAEL DOYLE'],\n",
       "  'Defendant Name': ['LOPEZ, HERMELINDA', 'LOPEZ, JESUS'],\n",
       "  'Defendant Attorney': ['AUGUST LINNARTZ JR.']},\n",
       " {'County': 'Maverick',\n",
       "  'Cause Number': '99-05-15966-CV',\n",
       "  'File Date': '05/07/1999',\n",
       "  'Cause of Action': 'DIVORCE - NO CHILDREN',\n",
       "  'Docket Date': '07/29/2002',\n",
       "  'Docket Type': 'PRE-TRIAL',\n",
       "  'ANS File': '',\n",
       "  'CR Number': '',\n",
       "  'Plaintiff Name': ['MARTINEZ, JUANITA GUADALUPE'],\n",
       "  'Plaintiff Attorney': [],\n",
       "  'Defendant Name': ['SANTIAGO MARTINEZ'],\n",
       "  'Defendant Attorney': ['GLORIA E. HERNANDEZ']},\n",
       " {'County': 'Maverick',\n",
       "  'Cause Number': '95-07-13228-CV-B',\n",
       "  'File Date': 'B   05/10/1999',\n",
       "  'Cause of Action': 'INJURY OR DAMAGE OTHER T',\n",
       "  'Docket Date': '',\n",
       "  'Docket Type': '',\n",
       "  'ANS File': '',\n",
       "  'CR Number': '',\n",
       "  'Plaintiff Name': ['CARRILLO JR., ROBERTO'],\n",
       "  'Plaintiff Attorney': ['ERNEST G. MIRELES'],\n",
       "  'Defendant Name': ['VILLARREAL, MARIO'],\n",
       "  'Defendant Attorney': ['DAVID RIOJAS']},\n",
       " {'County': 'Maverick',\n",
       "  'Cause Number': '98-05-15224-CV-A',\n",
       "  'File Date': 'A   07/21/1999',\n",
       "  'Cause of Action': 'OTHER CIVIL CASES',\n",
       "  'Docket Date': '',\n",
       "  'Docket Type': '',\n",
       "  'ANS File': '',\n",
       "  'CR Number': '',\n",
       "  'Plaintiff Name': ['FRAUSTO JR., DAVID'],\n",
       "  'Plaintiff Attorney': ['AUGUST LINNARTZ JR.'],\n",
       "  'Defendant Name': ['CHAPA, ANTONIA NORMA'],\n",
       "  'Defendant Attorney': []},\n",
       " {'County': 'Maverick',\n",
       "  'Cause Number': '00-02-16392-CV',\n",
       "  'File Date': '02/04/2000',\n",
       "  'Cause of Action': '(TITLE IV-D OAG USE ONLY',\n",
       "  'Docket Date': '',\n",
       "  'Docket Type': '',\n",
       "  'ANS File': '',\n",
       "  'CR Number': '',\n",
       "  'Plaintiff Name': ['ATTORNEY GENERAL', 'CHAVARRIA, AZUCENA'],\n",
       "  'Plaintiff Attorney': ['MELINDA S. LAUCK'],\n",
       "  'Defendant Name': ['CHAVARRIA, JOSE M.'],\n",
       "  'Defendant Attorney': []},\n",
       " {'County': 'Maverick',\n",
       "  'Cause Number': '01-12-17744-MCV',\n",
       "  'File Date': '12/06/2001',\n",
       "  'Cause of Action': 'OTHER CIVIL CASES',\n",
       "  'Docket Date': '04/12/2002',\n",
       "  'Docket Type': 'TRIAL ON THE MER',\n",
       "  'ANS File': '',\n",
       "  'CR Number': '',\n",
       "  'Plaintiff Name': ['STATE OF TEXAS'],\n",
       "  'Plaintiff Attorney': ['ROBERTO SERNA'],\n",
       "  'Defendant Name': ['AGUILERA, JUAN MANUEL'],\n",
       "  'Defendant Attorney': []}]"
      ]
     },
     "execution_count": 73,
     "metadata": {},
     "output_type": "execute_result"
    }
   ],
   "source": [
    "my_list"
   ]
  },
  {
   "cell_type": "markdown",
   "id": "931cc526",
   "metadata": {},
   "source": [
    "# Success!\n",
    "\n",
    "Now try extracting the whole document and creating a dataframe."
   ]
  },
  {
   "cell_type": "code",
   "execution_count": 74,
   "id": "e3a64466",
   "metadata": {},
   "outputs": [
    {
     "name": "stdout",
     "output_type": "stream",
     "text": [
      "Collected Data From 1179 Cases.\n"
     ]
    }
   ],
   "source": [
    "df = build_cases_dataframe('/Users/johnathonsmith/Downloads/293RDCV.PEND.CASE_1642601189564_-1416322429.pdf')"
   ]
  },
  {
   "cell_type": "code",
   "execution_count": 75,
   "id": "48adb4fd",
   "metadata": {},
   "outputs": [
    {
     "data": {
      "text/html": [
       "<div>\n",
       "<style scoped>\n",
       "    .dataframe tbody tr th:only-of-type {\n",
       "        vertical-align: middle;\n",
       "    }\n",
       "\n",
       "    .dataframe tbody tr th {\n",
       "        vertical-align: top;\n",
       "    }\n",
       "\n",
       "    .dataframe thead th {\n",
       "        text-align: right;\n",
       "    }\n",
       "</style>\n",
       "<table border=\"1\" class=\"dataframe\">\n",
       "  <thead>\n",
       "    <tr style=\"text-align: right;\">\n",
       "      <th></th>\n",
       "      <th>County</th>\n",
       "      <th>Cause Number</th>\n",
       "      <th>File Date</th>\n",
       "      <th>Cause of Action</th>\n",
       "      <th>Docket Date</th>\n",
       "      <th>Docket Type</th>\n",
       "      <th>ANS File</th>\n",
       "      <th>CR Number</th>\n",
       "      <th>Plaintiff Name</th>\n",
       "      <th>Plaintiff Attorney</th>\n",
       "      <th>Defendant Name</th>\n",
       "      <th>Defendant Attorney</th>\n",
       "    </tr>\n",
       "  </thead>\n",
       "  <tbody>\n",
       "    <tr>\n",
       "      <th>0</th>\n",
       "      <td>Maverick</td>\n",
       "      <td>7815-OTH</td>\n",
       "      <td>02/22/1985</td>\n",
       "      <td>1</td>\n",
       "      <td></td>\n",
       "      <td></td>\n",
       "      <td></td>\n",
       "      <td></td>\n",
       "      <td>[ATTORNEY GENERAL, MENDEZ, OLGA LIDIA]</td>\n",
       "      <td>[MARIA LARSON]</td>\n",
       "      <td>[MENDEZ, CARLOS GILBERTO]</td>\n",
       "      <td>[]</td>\n",
       "    </tr>\n",
       "    <tr>\n",
       "      <th>1</th>\n",
       "      <td>Maverick</td>\n",
       "      <td>90-11-10256-CV</td>\n",
       "      <td>11/08/1990</td>\n",
       "      <td>1</td>\n",
       "      <td></td>\n",
       "      <td></td>\n",
       "      <td></td>\n",
       "      <td></td>\n",
       "      <td>[ATTORNEY GENERAL, MARTINEZ, ROSALINDA]</td>\n",
       "      <td>[ROLANDO MENCHACA]</td>\n",
       "      <td>[MARTINEZ, HECTOR RENE]</td>\n",
       "      <td>[]</td>\n",
       "    </tr>\n",
       "    <tr>\n",
       "      <th>2</th>\n",
       "      <td>Maverick</td>\n",
       "      <td>90-12-10326-CV</td>\n",
       "      <td>12/14/1990</td>\n",
       "      <td>INJURY OR DAMAGE OTHER T</td>\n",
       "      <td></td>\n",
       "      <td></td>\n",
       "      <td></td>\n",
       "      <td></td>\n",
       "      <td>[DIAZ CARPENTER, ENRIQUETA]</td>\n",
       "      <td>[JAY T. KIMBROUGH]</td>\n",
       "      <td>[BOWLES JR., RUDY]</td>\n",
       "      <td>[RICHARD TINSMAN]</td>\n",
       "    </tr>\n",
       "    <tr>\n",
       "      <th>3</th>\n",
       "      <td>Maverick</td>\n",
       "      <td>91-06-10598-CV</td>\n",
       "      <td>10/22/1993</td>\n",
       "      <td>MOTION ENFORCEMENT, TO M</td>\n",
       "      <td>09/13/1994</td>\n",
       "      <td>MOTION TO ENFORC</td>\n",
       "      <td></td>\n",
       "      <td></td>\n",
       "      <td>[ATTORNEY GENERAL, FUENTES, MARIA EUGENIA]</td>\n",
       "      <td>[ROLANDO MENCHACA]</td>\n",
       "      <td>[ARROYO, JUAN ANTONIO]</td>\n",
       "      <td>[]</td>\n",
       "    </tr>\n",
       "    <tr>\n",
       "      <th>4</th>\n",
       "      <td>Maverick</td>\n",
       "      <td>95-01-12880-CV</td>\n",
       "      <td>01/05/1995</td>\n",
       "      <td>1</td>\n",
       "      <td></td>\n",
       "      <td></td>\n",
       "      <td></td>\n",
       "      <td></td>\n",
       "      <td>[ATTORNEY GENERAL, LARA, MARIA GUADALUPE]</td>\n",
       "      <td>[ENRIQUE FERNANDEZ]</td>\n",
       "      <td>[LARA, HOMERO]</td>\n",
       "      <td>[]</td>\n",
       "    </tr>\n",
       "    <tr>\n",
       "      <th>...</th>\n",
       "      <td>...</td>\n",
       "      <td>...</td>\n",
       "      <td>...</td>\n",
       "      <td>...</td>\n",
       "      <td>...</td>\n",
       "      <td>...</td>\n",
       "      <td>...</td>\n",
       "      <td>...</td>\n",
       "      <td>...</td>\n",
       "      <td>...</td>\n",
       "      <td>...</td>\n",
       "      <td>...</td>\n",
       "    </tr>\n",
       "    <tr>\n",
       "      <th>1174</th>\n",
       "      <td>Maverick</td>\n",
       "      <td>22-01-40738-MCV</td>\n",
       "      <td>01/14/2022</td>\n",
       "      <td>DIVORCE - CHILDREN</td>\n",
       "      <td></td>\n",
       "      <td></td>\n",
       "      <td></td>\n",
       "      <td></td>\n",
       "      <td>[ABOYTES CYNTHIA]</td>\n",
       "      <td>[JAD P HARPER]</td>\n",
       "      <td>[ABOYTES ANDRES]</td>\n",
       "      <td>[]</td>\n",
       "    </tr>\n",
       "    <tr>\n",
       "      <th>1175</th>\n",
       "      <td>Maverick</td>\n",
       "      <td>22-01-40740-MCV</td>\n",
       "      <td>01/14/2022</td>\n",
       "      <td>DEBT/CONTRACT - DEBT COL</td>\n",
       "      <td></td>\n",
       "      <td></td>\n",
       "      <td></td>\n",
       "      <td></td>\n",
       "      <td>[SYNCHRONY BANK]</td>\n",
       "      <td>[ZHANG JESSICA]</td>\n",
       "      <td>[CASAS EMILIO]</td>\n",
       "      <td>[]</td>\n",
       "    </tr>\n",
       "    <tr>\n",
       "      <th>1176</th>\n",
       "      <td>Maverick</td>\n",
       "      <td>22-01-40742-MCV</td>\n",
       "      <td>01/14/2022</td>\n",
       "      <td>INJURY OR DAMAGE INVOLVI</td>\n",
       "      <td></td>\n",
       "      <td></td>\n",
       "      <td></td>\n",
       "      <td></td>\n",
       "      <td>[CASARES JR CARLOS, CASARES EDUARDO]</td>\n",
       "      <td>[VICTOR E. PERRY, VICTOR E. PERRY]</td>\n",
       "      <td>[FUENTES DAVID]</td>\n",
       "      <td>[]</td>\n",
       "    </tr>\n",
       "    <tr>\n",
       "      <th>1177</th>\n",
       "      <td>Maverick</td>\n",
       "      <td>22-01-40744-MCV</td>\n",
       "      <td>01/17/2022</td>\n",
       "      <td>DEBT/CONTRACT - DEBT COL</td>\n",
       "      <td></td>\n",
       "      <td></td>\n",
       "      <td></td>\n",
       "      <td></td>\n",
       "      <td>[CROWN ASSET MANAGEMENT, LLC]</td>\n",
       "      <td>[BROGAN COLIN PATRICK]</td>\n",
       "      <td>[BALDERAS PAULA J]</td>\n",
       "      <td>[]</td>\n",
       "    </tr>\n",
       "    <tr>\n",
       "      <th>1178</th>\n",
       "      <td>Maverick</td>\n",
       "      <td>22-01-40748-MCV</td>\n",
       "      <td>01/18/2022</td>\n",
       "      <td>JUDGMENT NISI</td>\n",
       "      <td></td>\n",
       "      <td></td>\n",
       "      <td></td>\n",
       "      <td></td>\n",
       "      <td>[SERNA ROBERTO]</td>\n",
       "      <td>[]</td>\n",
       "      <td>[MEDIDORO ROILAN MARTIN]</td>\n",
       "      <td>[]</td>\n",
       "    </tr>\n",
       "  </tbody>\n",
       "</table>\n",
       "<p>1179 rows × 12 columns</p>\n",
       "</div>"
      ],
      "text/plain": [
       "        County     Cause Number   File Date           Cause of Action  \\\n",
       "0     Maverick         7815-OTH  02/22/1985                         1   \n",
       "1     Maverick   90-11-10256-CV  11/08/1990                         1   \n",
       "2     Maverick   90-12-10326-CV  12/14/1990  INJURY OR DAMAGE OTHER T   \n",
       "3     Maverick   91-06-10598-CV  10/22/1993  MOTION ENFORCEMENT, TO M   \n",
       "4     Maverick   95-01-12880-CV  01/05/1995                         1   \n",
       "...        ...              ...         ...                       ...   \n",
       "1174  Maverick  22-01-40738-MCV  01/14/2022        DIVORCE - CHILDREN   \n",
       "1175  Maverick  22-01-40740-MCV  01/14/2022  DEBT/CONTRACT - DEBT COL   \n",
       "1176  Maverick  22-01-40742-MCV  01/14/2022  INJURY OR DAMAGE INVOLVI   \n",
       "1177  Maverick  22-01-40744-MCV  01/17/2022  DEBT/CONTRACT - DEBT COL   \n",
       "1178  Maverick  22-01-40748-MCV  01/18/2022             JUDGMENT NISI   \n",
       "\n",
       "     Docket Date       Docket Type ANS File CR Number  \\\n",
       "0                                                       \n",
       "1                                                       \n",
       "2                                                       \n",
       "3     09/13/1994  MOTION TO ENFORC                      \n",
       "4                                                       \n",
       "...          ...               ...      ...       ...   \n",
       "1174                                                    \n",
       "1175                                                    \n",
       "1176                                                    \n",
       "1177                                                    \n",
       "1178                                                    \n",
       "\n",
       "                                  Plaintiff Name  \\\n",
       "0         [ATTORNEY GENERAL, MENDEZ, OLGA LIDIA]   \n",
       "1        [ATTORNEY GENERAL, MARTINEZ, ROSALINDA]   \n",
       "2                    [DIAZ CARPENTER, ENRIQUETA]   \n",
       "3     [ATTORNEY GENERAL, FUENTES, MARIA EUGENIA]   \n",
       "4      [ATTORNEY GENERAL, LARA, MARIA GUADALUPE]   \n",
       "...                                          ...   \n",
       "1174                           [ABOYTES CYNTHIA]   \n",
       "1175                            [SYNCHRONY BANK]   \n",
       "1176        [CASARES JR CARLOS, CASARES EDUARDO]   \n",
       "1177               [CROWN ASSET MANAGEMENT, LLC]   \n",
       "1178                             [SERNA ROBERTO]   \n",
       "\n",
       "                      Plaintiff Attorney             Defendant Name  \\\n",
       "0                         [MARIA LARSON]  [MENDEZ, CARLOS GILBERTO]   \n",
       "1                     [ROLANDO MENCHACA]    [MARTINEZ, HECTOR RENE]   \n",
       "2                     [JAY T. KIMBROUGH]         [BOWLES JR., RUDY]   \n",
       "3                     [ROLANDO MENCHACA]     [ARROYO, JUAN ANTONIO]   \n",
       "4                    [ENRIQUE FERNANDEZ]             [LARA, HOMERO]   \n",
       "...                                  ...                        ...   \n",
       "1174                      [JAD P HARPER]           [ABOYTES ANDRES]   \n",
       "1175                     [ZHANG JESSICA]             [CASAS EMILIO]   \n",
       "1176  [VICTOR E. PERRY, VICTOR E. PERRY]            [FUENTES DAVID]   \n",
       "1177              [BROGAN COLIN PATRICK]         [BALDERAS PAULA J]   \n",
       "1178                                  []   [MEDIDORO ROILAN MARTIN]   \n",
       "\n",
       "     Defendant Attorney  \n",
       "0                    []  \n",
       "1                    []  \n",
       "2     [RICHARD TINSMAN]  \n",
       "3                    []  \n",
       "4                    []  \n",
       "...                 ...  \n",
       "1174                 []  \n",
       "1175                 []  \n",
       "1176                 []  \n",
       "1177                 []  \n",
       "1178                 []  \n",
       "\n",
       "[1179 rows x 12 columns]"
      ]
     },
     "execution_count": 75,
     "metadata": {},
     "output_type": "execute_result"
    }
   ],
   "source": [
    "df"
   ]
  },
  {
   "cell_type": "markdown",
   "id": "990de295",
   "metadata": {},
   "source": [
    "# Nearly a Success! \n",
    "\n",
    "It looks like my function failed to pick up 6 out of the 1,179 total cases. I need to figure that out next. After looking through the original PDF, I believe I have found the problem. Sometimes, when a case ends, and a new page begins, the PDF fails to generate the dashed line. I used the dashed line to separate the cases, so without it, some of them have been put together."
   ]
  },
  {
   "cell_type": "code",
   "execution_count": 76,
   "id": "a46205c8",
   "metadata": {},
   "outputs": [
    {
     "name": "stdout",
     "output_type": "stream",
     "text": [
      "                COUNTY OF MAVERICK 293RD DISTRICT COURT CIVIL PENDING CASES AS OF 01/19/2022\n",
      "\n",
      "                                           RAN ON JANUARY 19, 2022 09:02am PAGE: 21\n",
      "\n",
      "        CAUSE #             FILE DATE CAUSE OF ACTION           DOCKT DATE  DOCKET TYPE       ANS FILED  CR CASE #\n",
      "\n",
      "PLAINTIFF NAME                PLAINTIFF ATTORNEY        DEFENDANT NAME                DEFENDANT ATTORNEY\n",
      "\n",
      "        15-01-30572-MCV    12/16/2019 DIVORCE - NO CHILDREN     09/10/2021  STATUS HEARING               \n",
      "\n",
      "        VALDEZ, ALEJANDRA SOFIA       PRISCILLA PUENTE-CHACON   ROCHA, FERNANDO ANTONIO       FRANCISCO MARTINEZ II\n",
      "        -------------------------------------------------------------------------------------------------------------\n",
      "        15-01-30610-MCV    01/21/2015 2                         11/09/2015  STATUS REPORT                \n",
      "\n",
      "        ESPINOZA, MANUEL              WES HOLLAND               ALLSTATE VEHICLE AND PROPERT  ROGER D. HIGGINS     \n",
      "        ESPINOZA, MARINA                                        STEWART JR., ALLAN                                 \n",
      "        -------------------------------------------------------------------------------------------------------------\n",
      "        15-01-30612-MCV    01/21/2015 DIVORCE - CHILDREN        01/07/2022  ENTRY OF ORDER               \n",
      "                           10/30/2019\n",
      "\n",
      "         GARZA, DIANA                 JOSE J RUIZ               GARZA JR., JUAN JOSE          CALDERON,RICARDO ENRI\n",
      "        GARZA, DIANA                  JOSE JUAN RUIZ                                                               \n",
      "        -------------------------------------------------------------------------------------------------------------\n",
      "        15-01-30646-MCV    05/03/2019 (TITLE IV-D OAG USE ONLY                                           \n",
      "\n",
      "        ATTORNEY GENERAL              MICHELE HANLON            SAUCEDO, LEONARD GABRIEL                           \n",
      "        GARZA, CYNTHIA KARINA         FRANCISCO MARTINEZ III                                                       \n",
      "        -------------------------------------------------------------------------------------------------------------\n",
      "        15-01-04922-TX     01/29/2015 TAX CASES                                                          \n",
      "\n",
      "        MAVERICK COUNTY, ETAL         CARLOS ARCE M.            FLORES, DOLORES S.            EARL M. HERRING      \n",
      "                                                                FLORES, GUADALUPE                                  \n",
      "        -------------------------------------------------------------------------------------------------------------\n",
      "        15-01-04934-TX     01/29/2015 TAX CASES                                                          \n",
      "\n",
      "        MAVERICK COUNTY, ETAL         CARLOS ARCE M.            HERNANDEZ, JUAN A.            EARL M. HERRING      \n",
      "                                                                HERNANDEZ, RODOLFO                                 \n",
      "        -------------------------------------------------------------------------------------------------------------\n",
      "        15-02-30738-MCV    02/10/2015 2                         04/11/2016  JURY SELECTION &             \n",
      "\n",
      "        LOPEZ, MARGIL                 CARLOS E. SOLIS           TEXAS FARMERS INSAURANCE CO.  CHRISTOPHER W. MARTIN\n",
      "        -------------------------------------------------------------------------------------------------------------\n",
      "        15-02-30752-MCV    02/11/2015 OTHER CIVIL CASES         06/08/2015  ENTRY OF JUDGMEN             \n",
      "\n",
      "        MONSA, LTD                    BLAYNE FISHER             DOBBINS, STEVE                ELIZABETH SANDOVAL CA\n",
      "                                                                STATE FARM LLOYDS                                  \n",
      "\n",
      "\f",
      "                COUNTY OF MAVERICK 293RD DISTRICT COURT CIVIL PENDING CASES AS OF 01/19/2022\n",
      "\n",
      "                                           RAN ON JANUARY 19, 2022 09:02am PAGE: 22\n",
      "\n",
      "        CAUSE #             FILE DATE CAUSE OF ACTION           DOCKT DATE  DOCKET TYPE       ANS FILED  CR CASE #\n",
      "\n",
      "PLAINTIFF NAME                PLAINTIFF ATTORNEY        DEFENDANT NAME                DEFENDANT ATTORNEY\n",
      "\n",
      "        15-02-30758-MCV    02/12/2015 2                         06/08/2015  PRE-TRIAL & DOCK             \n",
      "\n",
      "        MONSA, LTD                    BLAYNE FISHER             RASMUSSEN, CURTIS             ELIZABETH SANDOVAL CA\n",
      "                                                                STATE FARM LLOYDS                                  \n",
      "        -------------------------------------------------------------------------------------------------------------\n",
      "        15-03-30890-MCV    03/06/2015 2                         12/07/2015  STATUS REPORT                \n",
      "\n",
      "        MANCHA, JAVIER                CLAYTON HARDIN            STATE FARM LLOYDS             DAVID R. STEPHENS    \n",
      "        MANCHA, PETRA                                                                                              \n",
      "        -------------------------------------------------------------------------------------------------------------\n",
      "        15-03-30892-MCV    03/06/2015 INJURY OR DAMAGE INVOLVI  07/12/2016  JURY SELECTION &             \n",
      "\n",
      "        DILLARD, GEORGE               CRAIG H. VITTITOE         FEDERAL TIRE (JIANGZI) CO.,                        \n",
      "        DILLARDS, MARIA                                         JACINTO ENTERPRISES, INC. D/                       \n",
      "        GARZA, IMELDA                                                                                              \n",
      "        HERNANDEZ, NATHAN                                                                                          \n",
      "        HERNANDEZ JR., JUAN (MINOR)                                                                                \n",
      "        JIMENEZ, DOLORES                                                                                           \n",
      "        JIMENEZ, HUGO                                                                                              \n",
      "        JIMENEZ, LUIS                                                                                              \n",
      "        -------------------------------------------------------------------------------------------------------------\n",
      "        15-03-30986-MCV    03/20/2015 2                         03/07/2016  STATUS REPORT                \n",
      "\n",
      "        CORTEZ, GLORIA                WILLIAM N IV ALLAN        LIBERTY MUTUAL INS. CO.       C. BROOKS VON BIBERST\n",
      "        CORTEZ, MARIO                                           MEDELLIN, JOSE                                     \n",
      "        -------------------------------------------------------------------------------------------------------------\n",
      "        15-03-31012-MCV    03/25/2015 2                         08/10/2015  FINAL HEARING                \n",
      "\n",
      "        PORTFOLIO RECOVERY LLC        STEVE JAVANDOOST          ROSALES, ELVA                                      \n",
      "        -------------------------------------------------------------------------------------------------------------\n",
      "        15-03-04952-TX     03/26/2015 TAX CASES                 11/03/2021  TRIAL ON MERITS              \n",
      "\n",
      "        MAVERICK COUNTY, ETAL         CARLOS ARCE M.            CASTILLON, RICARDO                                 \n",
      "        -------------------------------------------------------------------------------------------------------------\n",
      "        15-03-31034-MCV    03/27/2015 2                         07/06/2015  PLEA & ABATEMENT             \n",
      "\n",
      "        VILLARREAL, DOMINGO           DOUGLAS E. PENNEBAKER     HOMEOWNERS OF AMERICA INSURA  MICHAEL WILSON       \n",
      "        -------------------------------------------------------------------------------------------------------------\n",
      "\n",
      "\f",
      "\n"
     ]
    }
   ],
   "source": [
    "#Load an example of the above problem. I found it on pages 21 and 22 of the PDF\n",
    "#Load two pages\n",
    "#Set up resource manager to handle pdf content. text, images, etc.\n",
    "resource_manager = PDFResourceManager()\n",
    "\n",
    "#Used to display text\n",
    "fake_file_handle = io.StringIO()\n",
    "\n",
    "#Set up converter\n",
    "converter = TextConverter(resource_manager, fake_file_handle, laparams=LAParams())\n",
    "\n",
    "#Set up page interpreter\n",
    "page_interpreter = PDFPageInterpreter(resource_manager, converter)\n",
    "\n",
    "with open('/Users/johnathonsmith/Downloads/293RDCV.PEND.CASE_1642601189564_-1416322429.pdf', 'rb') as fh:\n",
    "\n",
    "    for page_number, page in enumerate(PDFPage.get_pages(fh,\n",
    "                                  caching=True,\n",
    "                                  maxpages = 23,\n",
    "                                  check_extractable=True)):\n",
    "        #Only read page 21 and 22 for now (index = 20, 21)\n",
    "        if page_number == 20 or page_number == 21:\n",
    "            page_interpreter.process_page(page)\n",
    "\n",
    "    text = fake_file_handle.getvalue()\n",
    "\n",
    "# close open handles\n",
    "converter.close()\n",
    "fake_file_handle.close()\n",
    "\n",
    "print(text)"
   ]
  },
  {
   "cell_type": "code",
   "execution_count": 77,
   "id": "2683b9a0",
   "metadata": {},
   "outputs": [],
   "source": [
    "#Remove the headers using regex\n",
    "text = re.sub(r\"\"\"COUNTY OF MAVERICK 293RD DISTRICT COURT CIVIL PENDING CASES AS OF .{10}\n",
    "\n",
    "                                           RAN ON .{20,26} PAGE: \\d{1,3}\n",
    "\n",
    "        CAUSE #             FILE DATE CAUSE OF ACTION           DOCKT DATE  DOCKET TYPE       ANS FILED  CR CASE #\n",
    "\n",
    "PLAINTIFF NAME                PLAINTIFF ATTORNEY        DEFENDANT NAME                DEFENDANT ATTORNEY\"\"\", '', text)"
   ]
  },
  {
   "cell_type": "code",
   "execution_count": 78,
   "id": "ab34a565",
   "metadata": {},
   "outputs": [
    {
     "data": {
      "text/plain": [
       "'                \\n\\n        15-01-30572-MCV    12/16/2019 DIVORCE - NO CHILDREN     09/10/2021  STATUS HEARING               \\n\\n        VALDEZ, ALEJANDRA SOFIA       PRISCILLA PUENTE-CHACON   ROCHA, FERNANDO ANTONIO       FRANCISCO MARTINEZ II\\n        -------------------------------------------------------------------------------------------------------------\\n        15-01-30610-MCV    01/21/2015 2                         11/09/2015  STATUS REPORT                \\n\\n        ESPINOZA, MANUEL              WES HOLLAND               ALLSTATE VEHICLE AND PROPERT  ROGER D. HIGGINS     \\n        ESPINOZA, MARINA                                        STEWART JR., ALLAN                                 \\n        -------------------------------------------------------------------------------------------------------------\\n        15-01-30612-MCV    01/21/2015 DIVORCE - CHILDREN        01/07/2022  ENTRY OF ORDER               \\n                           10/30/2019\\n\\n         GARZA, DIANA                 JOSE J RUIZ               GARZA JR., JUAN JOSE          CALDERON,RICARDO ENRI\\n        GARZA, DIANA                  JOSE JUAN RUIZ                                                               \\n        -------------------------------------------------------------------------------------------------------------\\n        15-01-30646-MCV    05/03/2019 (TITLE IV-D OAG USE ONLY                                           \\n\\n        ATTORNEY GENERAL              MICHELE HANLON            SAUCEDO, LEONARD GABRIEL                           \\n        GARZA, CYNTHIA KARINA         FRANCISCO MARTINEZ III                                                       \\n        -------------------------------------------------------------------------------------------------------------\\n        15-01-04922-TX     01/29/2015 TAX CASES                                                          \\n\\n        MAVERICK COUNTY, ETAL         CARLOS ARCE M.            FLORES, DOLORES S.            EARL M. HERRING      \\n                                                                FLORES, GUADALUPE                                  \\n        -------------------------------------------------------------------------------------------------------------\\n        15-01-04934-TX     01/29/2015 TAX CASES                                                          \\n\\n        MAVERICK COUNTY, ETAL         CARLOS ARCE M.            HERNANDEZ, JUAN A.            EARL M. HERRING      \\n                                                                HERNANDEZ, RODOLFO                                 \\n        -------------------------------------------------------------------------------------------------------------\\n        15-02-30738-MCV    02/10/2015 2                         04/11/2016  JURY SELECTION &             \\n\\n        LOPEZ, MARGIL                 CARLOS E. SOLIS           TEXAS FARMERS INSAURANCE CO.  CHRISTOPHER W. MARTIN\\n        -------------------------------------------------------------------------------------------------------------\\n        15-02-30752-MCV    02/11/2015 OTHER CIVIL CASES         06/08/2015  ENTRY OF JUDGMEN             \\n\\n        MONSA, LTD                    BLAYNE FISHER             DOBBINS, STEVE                ELIZABETH SANDOVAL CA\\n                                                                STATE FARM LLOYDS                                  \\n\\n\\x0c                \\n\\n        15-02-30758-MCV    02/12/2015 2                         06/08/2015  PRE-TRIAL & DOCK             \\n\\n        MONSA, LTD                    BLAYNE FISHER             RASMUSSEN, CURTIS             ELIZABETH SANDOVAL CA\\n                                                                STATE FARM LLOYDS                                  \\n        -------------------------------------------------------------------------------------------------------------\\n        15-03-30890-MCV    03/06/2015 2                         12/07/2015  STATUS REPORT                \\n\\n        MANCHA, JAVIER                CLAYTON HARDIN            STATE FARM LLOYDS             DAVID R. STEPHENS    \\n        MANCHA, PETRA                                                                                              \\n        -------------------------------------------------------------------------------------------------------------\\n        15-03-30892-MCV    03/06/2015 INJURY OR DAMAGE INVOLVI  07/12/2016  JURY SELECTION &             \\n\\n        DILLARD, GEORGE               CRAIG H. VITTITOE         FEDERAL TIRE (JIANGZI) CO.,                        \\n        DILLARDS, MARIA                                         JACINTO ENTERPRISES, INC. D/                       \\n        GARZA, IMELDA                                                                                              \\n        HERNANDEZ, NATHAN                                                                                          \\n        HERNANDEZ JR., JUAN (MINOR)                                                                                \\n        JIMENEZ, DOLORES                                                                                           \\n        JIMENEZ, HUGO                                                                                              \\n        JIMENEZ, LUIS                                                                                              \\n        -------------------------------------------------------------------------------------------------------------\\n        15-03-30986-MCV    03/20/2015 2                         03/07/2016  STATUS REPORT                \\n\\n        CORTEZ, GLORIA                WILLIAM N IV ALLAN        LIBERTY MUTUAL INS. CO.       C. BROOKS VON BIBERST\\n        CORTEZ, MARIO                                           MEDELLIN, JOSE                                     \\n        -------------------------------------------------------------------------------------------------------------\\n        15-03-31012-MCV    03/25/2015 2                         08/10/2015  FINAL HEARING                \\n\\n        PORTFOLIO RECOVERY LLC        STEVE JAVANDOOST          ROSALES, ELVA                                      \\n        -------------------------------------------------------------------------------------------------------------\\n        15-03-04952-TX     03/26/2015 TAX CASES                 11/03/2021  TRIAL ON MERITS              \\n\\n        MAVERICK COUNTY, ETAL         CARLOS ARCE M.            CASTILLON, RICARDO                                 \\n        -------------------------------------------------------------------------------------------------------------\\n        15-03-31034-MCV    03/27/2015 2                         07/06/2015  PLEA & ABATEMENT             \\n\\n        VILLARREAL, DOMINGO           DOUGLAS E. PENNEBAKER     HOMEOWNERS OF AMERICA INSURA  MICHAEL WILSON       \\n        -------------------------------------------------------------------------------------------------------------\\n\\n\\x0c'"
      ]
     },
     "execution_count": 78,
     "metadata": {},
     "output_type": "execute_result"
    }
   ],
   "source": [
    "text"
   ]
  },
  {
   "cell_type": "code",
   "execution_count": 79,
   "id": "038ca10d",
   "metadata": {},
   "outputs": [],
   "source": [
    "#Now split on the dashed lines\n",
    "text = text.split('-------------------------------------------------------------------------------------------------------------')"
   ]
  },
  {
   "cell_type": "code",
   "execution_count": 80,
   "id": "03e6cbd5",
   "metadata": {},
   "outputs": [
    {
     "data": {
      "text/plain": [
       "15"
      ]
     },
     "execution_count": 80,
     "metadata": {},
     "output_type": "execute_result"
    }
   ],
   "source": [
    "#How many splits were generated?\n",
    "len(text)"
   ]
  },
  {
   "cell_type": "code",
   "execution_count": 81,
   "id": "50424e25",
   "metadata": {},
   "outputs": [
    {
     "data": {
      "text/plain": [
       "'\\n        15-02-30752-MCV    02/11/2015 OTHER CIVIL CASES         06/08/2015  ENTRY OF JUDGMEN             \\n\\n        MONSA, LTD                    BLAYNE FISHER             DOBBINS, STEVE                ELIZABETH SANDOVAL CA\\n                                                                STATE FARM LLOYDS                                  \\n\\n\\x0c                \\n\\n        15-02-30758-MCV    02/12/2015 2                         06/08/2015  PRE-TRIAL & DOCK             \\n\\n        MONSA, LTD                    BLAYNE FISHER             RASMUSSEN, CURTIS             ELIZABETH SANDOVAL CA\\n                                                                STATE FARM LLOYDS                                  \\n        '"
      ]
     },
     "execution_count": 81,
     "metadata": {},
     "output_type": "execute_result"
    }
   ],
   "source": [
    "text[7]"
   ]
  },
  {
   "cell_type": "code",
   "execution_count": 82,
   "id": "48d0dc0c",
   "metadata": {},
   "outputs": [],
   "source": [
    "def is_whitespace(x):\n",
    "    if x.isspace() == True:\n",
    "        return False\n",
    "    else:\n",
    "        return True"
   ]
  },
  {
   "cell_type": "code",
   "execution_count": 83,
   "id": "08be1cc5",
   "metadata": {},
   "outputs": [
    {
     "name": "stdout",
     "output_type": "stream",
     "text": [
      "Collected Data From 1179 Cases.\n"
     ]
    }
   ],
   "source": [
    "df = build_cases_dataframe('/Users/johnathonsmith/Downloads/293RDCV.PEND.CASE_1642601189564_-1416322429.pdf')"
   ]
  },
  {
   "cell_type": "markdown",
   "id": "940854be",
   "metadata": {},
   "source": [
    "# Getting there\n",
    "\n",
    "Function still needs work"
   ]
  },
  {
   "cell_type": "code",
   "execution_count": 84,
   "id": "2fa39242",
   "metadata": {},
   "outputs": [],
   "source": [
    "#Create a function to identify combined cases\n",
    "def check_for_combined_case(string):\n",
    "    \"\"\"\n",
    "    This function takes in a string from the case. Normally, this string would represent the plaintiff's name,\n",
    "    but sometimes the cases can be combined in the pdf. So, this function will check if this string is actually\n",
    "    a cause number. If the string contains the letters 'cv' or 'tx', it will return True.\n",
    "    \n",
    "    Parameter:\n",
    "        - string: The string to be checked\n",
    "        \n",
    "    Returns:\n",
    "        - Boolean: True or False\n",
    "    \"\"\"\n",
    "    \n",
    "    #If the string contains a hyphen or the letters 'cv', return True\n",
    "    if string.count('CV') > 0 or string.count('TX') > 0:\n",
    "        return True\n",
    "    else:\n",
    "        return False"
   ]
  },
  {
   "cell_type": "markdown",
   "id": "46f37397",
   "metadata": {},
   "source": [
    "# Testing Fix\n",
    "\n",
    "I added a recursive function to extract case information, including cases that were combined into one. Testing below."
   ]
  },
  {
   "cell_type": "code",
   "execution_count": 85,
   "id": "bf9faee2",
   "metadata": {},
   "outputs": [
    {
     "name": "stdout",
     "output_type": "stream",
     "text": [
      "Collected Data From 1179 Cases.\n"
     ]
    }
   ],
   "source": [
    "df = build_cases_dataframe('/Users/johnathonsmith/Downloads/293RDCV.PEND.CASE_1642601189564_-1416322429.pdf')"
   ]
  },
  {
   "cell_type": "code",
   "execution_count": 87,
   "id": "f7ff9849",
   "metadata": {},
   "outputs": [
    {
     "data": {
      "text/html": [
       "<div>\n",
       "<style scoped>\n",
       "    .dataframe tbody tr th:only-of-type {\n",
       "        vertical-align: middle;\n",
       "    }\n",
       "\n",
       "    .dataframe tbody tr th {\n",
       "        vertical-align: top;\n",
       "    }\n",
       "\n",
       "    .dataframe thead th {\n",
       "        text-align: right;\n",
       "    }\n",
       "</style>\n",
       "<table border=\"1\" class=\"dataframe\">\n",
       "  <thead>\n",
       "    <tr style=\"text-align: right;\">\n",
       "      <th></th>\n",
       "      <th>County</th>\n",
       "      <th>Cause Number</th>\n",
       "      <th>File Date</th>\n",
       "      <th>Cause of Action</th>\n",
       "      <th>Docket Date</th>\n",
       "      <th>Docket Type</th>\n",
       "      <th>ANS File</th>\n",
       "      <th>CR Number</th>\n",
       "      <th>Plaintiff Name</th>\n",
       "      <th>Plaintiff Attorney</th>\n",
       "      <th>Defendant Name</th>\n",
       "      <th>Defendant Attorney</th>\n",
       "    </tr>\n",
       "  </thead>\n",
       "  <tbody>\n",
       "    <tr>\n",
       "      <th>0</th>\n",
       "      <td>Maverick</td>\n",
       "      <td>7815-OTH</td>\n",
       "      <td>02/22/1985</td>\n",
       "      <td>1</td>\n",
       "      <td></td>\n",
       "      <td></td>\n",
       "      <td></td>\n",
       "      <td></td>\n",
       "      <td>[ATTORNEY GENERAL, MENDEZ, OLGA LIDIA]</td>\n",
       "      <td>[MARIA LARSON]</td>\n",
       "      <td>[MENDEZ, CARLOS GILBERTO]</td>\n",
       "      <td>[]</td>\n",
       "    </tr>\n",
       "    <tr>\n",
       "      <th>1</th>\n",
       "      <td>Maverick</td>\n",
       "      <td>90-11-10256-CV</td>\n",
       "      <td>11/08/1990</td>\n",
       "      <td>1</td>\n",
       "      <td></td>\n",
       "      <td></td>\n",
       "      <td></td>\n",
       "      <td></td>\n",
       "      <td>[ATTORNEY GENERAL, MARTINEZ, ROSALINDA]</td>\n",
       "      <td>[ROLANDO MENCHACA]</td>\n",
       "      <td>[MARTINEZ, HECTOR RENE]</td>\n",
       "      <td>[]</td>\n",
       "    </tr>\n",
       "    <tr>\n",
       "      <th>2</th>\n",
       "      <td>Maverick</td>\n",
       "      <td>90-12-10326-CV</td>\n",
       "      <td>12/14/1990</td>\n",
       "      <td>INJURY OR DAMAGE OTHER T</td>\n",
       "      <td></td>\n",
       "      <td></td>\n",
       "      <td></td>\n",
       "      <td></td>\n",
       "      <td>[DIAZ CARPENTER, ENRIQUETA]</td>\n",
       "      <td>[JAY T. KIMBROUGH]</td>\n",
       "      <td>[BOWLES JR., RUDY]</td>\n",
       "      <td>[RICHARD TINSMAN]</td>\n",
       "    </tr>\n",
       "    <tr>\n",
       "      <th>3</th>\n",
       "      <td>Maverick</td>\n",
       "      <td>91-06-10598-CV</td>\n",
       "      <td>10/22/1993</td>\n",
       "      <td>MOTION ENFORCEMENT, TO M</td>\n",
       "      <td>09/13/1994</td>\n",
       "      <td>MOTION TO ENFORC</td>\n",
       "      <td></td>\n",
       "      <td></td>\n",
       "      <td>[ATTORNEY GENERAL, FUENTES, MARIA EUGENIA]</td>\n",
       "      <td>[ROLANDO MENCHACA]</td>\n",
       "      <td>[ARROYO, JUAN ANTONIO]</td>\n",
       "      <td>[]</td>\n",
       "    </tr>\n",
       "    <tr>\n",
       "      <th>4</th>\n",
       "      <td>Maverick</td>\n",
       "      <td>95-01-12880-CV</td>\n",
       "      <td>01/05/1995</td>\n",
       "      <td>1</td>\n",
       "      <td></td>\n",
       "      <td></td>\n",
       "      <td></td>\n",
       "      <td></td>\n",
       "      <td>[ATTORNEY GENERAL, LARA, MARIA GUADALUPE]</td>\n",
       "      <td>[ENRIQUE FERNANDEZ]</td>\n",
       "      <td>[LARA, HOMERO]</td>\n",
       "      <td>[]</td>\n",
       "    </tr>\n",
       "    <tr>\n",
       "      <th>5</th>\n",
       "      <td>Maverick</td>\n",
       "      <td>96-05-13796-CV</td>\n",
       "      <td>05/08/1996</td>\n",
       "      <td>1</td>\n",
       "      <td></td>\n",
       "      <td></td>\n",
       "      <td></td>\n",
       "      <td></td>\n",
       "      <td>[ATTORNEY GENERAL, HERNANDEZ, OLGA E.]</td>\n",
       "      <td>[POLLY J BONE]</td>\n",
       "      <td>[HERNANDEZ, JUAN F.]</td>\n",
       "      <td>[]</td>\n",
       "    </tr>\n",
       "    <tr>\n",
       "      <th>6</th>\n",
       "      <td>Maverick</td>\n",
       "      <td>96-12-14214-CV</td>\n",
       "      <td>12/20/1996</td>\n",
       "      <td>OTHER CIVIL CASES</td>\n",
       "      <td>02/18/1998</td>\n",
       "      <td>WON JURY TRIAL</td>\n",
       "      <td></td>\n",
       "      <td></td>\n",
       "      <td>[THE STATE OF TEXAS]</td>\n",
       "      <td>[MELISSA DAYLONG]</td>\n",
       "      <td>[APPROX. 440 POUNDS OF MARIHU]</td>\n",
       "      <td>[]</td>\n",
       "    </tr>\n",
       "    <tr>\n",
       "      <th>7</th>\n",
       "      <td>Maverick</td>\n",
       "      <td>97-06-14568-CV</td>\n",
       "      <td>06/16/1997</td>\n",
       "      <td>OTHER CIVIL CASES</td>\n",
       "      <td>02/19/1998</td>\n",
       "      <td>WON JURY TRIAL</td>\n",
       "      <td></td>\n",
       "      <td></td>\n",
       "      <td>[NUTMEG INSURANCE COMPANY]</td>\n",
       "      <td>[LOREN R. SMITH]</td>\n",
       "      <td>[MANCHA, GUILLERMO, MARTINEZ, JOHNNY E., MAVER...</td>\n",
       "      <td>[MICHAEL J. BAGLEY]</td>\n",
       "    </tr>\n",
       "    <tr>\n",
       "      <th>8</th>\n",
       "      <td>Maverick</td>\n",
       "      <td>97-10-14776-CV</td>\n",
       "      <td>10/10/1997</td>\n",
       "      <td>INJURY OR DAMAGE INVOLVI</td>\n",
       "      <td>12/06/1999</td>\n",
       "      <td>TRIAL ON THE MER</td>\n",
       "      <td></td>\n",
       "      <td></td>\n",
       "      <td>[ALLSTATE INSURANCE COMPANY]</td>\n",
       "      <td>[TIM HERRON]</td>\n",
       "      <td>[DE LEON, FERNANDO, DE LEON, PATRICIA, DE LEON...</td>\n",
       "      <td>[NORMAN JOLLY]</td>\n",
       "    </tr>\n",
       "    <tr>\n",
       "      <th>9</th>\n",
       "      <td>Maverick</td>\n",
       "      <td>97-12-14881-CVCLM</td>\n",
       "      <td>LM  12/15/1997</td>\n",
       "      <td>OTHER CIVIL CASES</td>\n",
       "      <td>10/21/2002</td>\n",
       "      <td>JURY TRIAL</td>\n",
       "      <td></td>\n",
       "      <td></td>\n",
       "      <td>[GARZA, LEONEL, GARZA, MARTHA, HERNANDEZ, ALMA...</td>\n",
       "      <td>[GLORIA E. HERNANDEZ]</td>\n",
       "      <td>[DARRYL LEE, EVA BELISLE, JACK DUNCAN]</td>\n",
       "      <td>[PAUL J. TARSKI]</td>\n",
       "    </tr>\n",
       "    <tr>\n",
       "      <th>10</th>\n",
       "      <td>Maverick</td>\n",
       "      <td>98-03-15060-CV</td>\n",
       "      <td>03/19/1998</td>\n",
       "      <td>MOTION ENFORCEMENT, TO M</td>\n",
       "      <td></td>\n",
       "      <td></td>\n",
       "      <td></td>\n",
       "      <td></td>\n",
       "      <td>[ATTORNEY GENERAL, FLORES, MARIA ISABEL]</td>\n",
       "      <td>[POLLY J BONE]</td>\n",
       "      <td>[CARBAJAL, ROBERTO]</td>\n",
       "      <td>[]</td>\n",
       "    </tr>\n",
       "    <tr>\n",
       "      <th>11</th>\n",
       "      <td>Maverick</td>\n",
       "      <td>98-05-15216-CV</td>\n",
       "      <td>05/26/1998</td>\n",
       "      <td>OTHER CIVIL CASES</td>\n",
       "      <td>01/10/2003</td>\n",
       "      <td>STATUS REPORT</td>\n",
       "      <td></td>\n",
       "      <td></td>\n",
       "      <td>[PILLING, LISA DIONA]</td>\n",
       "      <td>[JERALD L. ABRAMS]</td>\n",
       "      <td>[GILLILAND, JODY C.]</td>\n",
       "      <td>[]</td>\n",
       "    </tr>\n",
       "    <tr>\n",
       "      <th>12</th>\n",
       "      <td>Maverick</td>\n",
       "      <td>98-10-15536-CV</td>\n",
       "      <td>10/26/1998</td>\n",
       "      <td>OTHER CIVIL CASES</td>\n",
       "      <td>05/11/2000</td>\n",
       "      <td>HEARING ON MERIT</td>\n",
       "      <td></td>\n",
       "      <td></td>\n",
       "      <td>[GARCIA, MARTIN, GARCIA, SOILA M.]</td>\n",
       "      <td>[JOHN MICHAEL DOYLE]</td>\n",
       "      <td>[LOPEZ, HERMELINDA, LOPEZ, JESUS]</td>\n",
       "      <td>[AUGUST LINNARTZ JR.]</td>\n",
       "    </tr>\n",
       "    <tr>\n",
       "      <th>13</th>\n",
       "      <td>Maverick</td>\n",
       "      <td>99-05-15966-CV</td>\n",
       "      <td>05/07/1999</td>\n",
       "      <td>DIVORCE - NO CHILDREN</td>\n",
       "      <td>07/29/2002</td>\n",
       "      <td>PRE-TRIAL</td>\n",
       "      <td></td>\n",
       "      <td></td>\n",
       "      <td>[MARTINEZ, JUANITA GUADALUPE]</td>\n",
       "      <td>[]</td>\n",
       "      <td>[SANTIAGO MARTINEZ]</td>\n",
       "      <td>[GLORIA E. HERNANDEZ]</td>\n",
       "    </tr>\n",
       "    <tr>\n",
       "      <th>14</th>\n",
       "      <td>Maverick</td>\n",
       "      <td>95-07-13228-CV-B</td>\n",
       "      <td>B   05/10/1999</td>\n",
       "      <td>INJURY OR DAMAGE OTHER T</td>\n",
       "      <td></td>\n",
       "      <td></td>\n",
       "      <td></td>\n",
       "      <td></td>\n",
       "      <td>[CARRILLO JR., ROBERTO]</td>\n",
       "      <td>[ERNEST G. MIRELES]</td>\n",
       "      <td>[VILLARREAL, MARIO]</td>\n",
       "      <td>[DAVID RIOJAS]</td>\n",
       "    </tr>\n",
       "    <tr>\n",
       "      <th>15</th>\n",
       "      <td>Maverick</td>\n",
       "      <td>98-05-15224-CV-A</td>\n",
       "      <td>A   07/21/1999</td>\n",
       "      <td>OTHER CIVIL CASES</td>\n",
       "      <td></td>\n",
       "      <td></td>\n",
       "      <td></td>\n",
       "      <td></td>\n",
       "      <td>[FRAUSTO JR., DAVID]</td>\n",
       "      <td>[AUGUST LINNARTZ JR.]</td>\n",
       "      <td>[CHAPA, ANTONIA NORMA]</td>\n",
       "      <td>[]</td>\n",
       "    </tr>\n",
       "    <tr>\n",
       "      <th>16</th>\n",
       "      <td>Maverick</td>\n",
       "      <td>00-02-16392-CV</td>\n",
       "      <td>02/04/2000</td>\n",
       "      <td>(TITLE IV-D OAG USE ONLY</td>\n",
       "      <td></td>\n",
       "      <td></td>\n",
       "      <td></td>\n",
       "      <td></td>\n",
       "      <td>[ATTORNEY GENERAL, CHAVARRIA, AZUCENA]</td>\n",
       "      <td>[MELINDA S. LAUCK]</td>\n",
       "      <td>[CHAVARRIA, JOSE M.]</td>\n",
       "      <td>[]</td>\n",
       "    </tr>\n",
       "    <tr>\n",
       "      <th>17</th>\n",
       "      <td>Maverick</td>\n",
       "      <td>01-12-17744-MCV</td>\n",
       "      <td>12/06/2001</td>\n",
       "      <td>OTHER CIVIL CASES</td>\n",
       "      <td>04/12/2002</td>\n",
       "      <td>TRIAL ON THE MER</td>\n",
       "      <td></td>\n",
       "      <td></td>\n",
       "      <td>[STATE OF TEXAS]</td>\n",
       "      <td>[ROBERTO SERNA]</td>\n",
       "      <td>[AGUILERA, JUAN MANUEL]</td>\n",
       "      <td>[]</td>\n",
       "    </tr>\n",
       "    <tr>\n",
       "      <th>18</th>\n",
       "      <td>Maverick</td>\n",
       "      <td>02-06-18350-MCV</td>\n",
       "      <td>06/05/2002</td>\n",
       "      <td>(TITLE IV-D OAG USE ONLY</td>\n",
       "      <td></td>\n",
       "      <td></td>\n",
       "      <td></td>\n",
       "      <td></td>\n",
       "      <td>[ATTORNEY GENERAL, MONTALVA, ELIZATH H]</td>\n",
       "      <td>[RICARDO RAMOS]</td>\n",
       "      <td>[GOMEZ, RUBEN ANTHONY]</td>\n",
       "      <td>[]</td>\n",
       "    </tr>\n",
       "    <tr>\n",
       "      <th>19</th>\n",
       "      <td>Maverick</td>\n",
       "      <td>02-07-18488-MCV</td>\n",
       "      <td>07/17/2002</td>\n",
       "      <td>1</td>\n",
       "      <td></td>\n",
       "      <td></td>\n",
       "      <td></td>\n",
       "      <td></td>\n",
       "      <td>[ATTORNEY GENERAL, URIBE, MINERVA]</td>\n",
       "      <td>[ROBERT D. ADAMS]</td>\n",
       "      <td>[HERNANDEZ, ARIEL]</td>\n",
       "      <td>[]</td>\n",
       "    </tr>\n",
       "  </tbody>\n",
       "</table>\n",
       "</div>"
      ],
      "text/plain": [
       "      County       Cause Number       File Date           Cause of Action  \\\n",
       "0   Maverick           7815-OTH      02/22/1985                         1   \n",
       "1   Maverick     90-11-10256-CV      11/08/1990                         1   \n",
       "2   Maverick     90-12-10326-CV      12/14/1990  INJURY OR DAMAGE OTHER T   \n",
       "3   Maverick     91-06-10598-CV      10/22/1993  MOTION ENFORCEMENT, TO M   \n",
       "4   Maverick     95-01-12880-CV      01/05/1995                         1   \n",
       "5   Maverick     96-05-13796-CV      05/08/1996                         1   \n",
       "6   Maverick     96-12-14214-CV      12/20/1996         OTHER CIVIL CASES   \n",
       "7   Maverick     97-06-14568-CV      06/16/1997         OTHER CIVIL CASES   \n",
       "8   Maverick     97-10-14776-CV      10/10/1997  INJURY OR DAMAGE INVOLVI   \n",
       "9   Maverick  97-12-14881-CVCLM  LM  12/15/1997         OTHER CIVIL CASES   \n",
       "10  Maverick     98-03-15060-CV      03/19/1998  MOTION ENFORCEMENT, TO M   \n",
       "11  Maverick     98-05-15216-CV      05/26/1998         OTHER CIVIL CASES   \n",
       "12  Maverick     98-10-15536-CV      10/26/1998         OTHER CIVIL CASES   \n",
       "13  Maverick     99-05-15966-CV      05/07/1999     DIVORCE - NO CHILDREN   \n",
       "14  Maverick   95-07-13228-CV-B  B   05/10/1999  INJURY OR DAMAGE OTHER T   \n",
       "15  Maverick   98-05-15224-CV-A  A   07/21/1999         OTHER CIVIL CASES   \n",
       "16  Maverick     00-02-16392-CV      02/04/2000  (TITLE IV-D OAG USE ONLY   \n",
       "17  Maverick    01-12-17744-MCV      12/06/2001         OTHER CIVIL CASES   \n",
       "18  Maverick    02-06-18350-MCV      06/05/2002  (TITLE IV-D OAG USE ONLY   \n",
       "19  Maverick    02-07-18488-MCV      07/17/2002                         1   \n",
       "\n",
       "   Docket Date       Docket Type ANS File CR Number  \\\n",
       "0                                                     \n",
       "1                                                     \n",
       "2                                                     \n",
       "3   09/13/1994  MOTION TO ENFORC                      \n",
       "4                                                     \n",
       "5                                                     \n",
       "6   02/18/1998    WON JURY TRIAL                      \n",
       "7   02/19/1998    WON JURY TRIAL                      \n",
       "8   12/06/1999  TRIAL ON THE MER                      \n",
       "9   10/21/2002        JURY TRIAL                      \n",
       "10                                                    \n",
       "11  01/10/2003     STATUS REPORT                      \n",
       "12  05/11/2000  HEARING ON MERIT                      \n",
       "13  07/29/2002         PRE-TRIAL                      \n",
       "14                                                    \n",
       "15                                                    \n",
       "16                                                    \n",
       "17  04/12/2002  TRIAL ON THE MER                      \n",
       "18                                                    \n",
       "19                                                    \n",
       "\n",
       "                                       Plaintiff Name     Plaintiff Attorney  \\\n",
       "0              [ATTORNEY GENERAL, MENDEZ, OLGA LIDIA]         [MARIA LARSON]   \n",
       "1             [ATTORNEY GENERAL, MARTINEZ, ROSALINDA]     [ROLANDO MENCHACA]   \n",
       "2                         [DIAZ CARPENTER, ENRIQUETA]     [JAY T. KIMBROUGH]   \n",
       "3          [ATTORNEY GENERAL, FUENTES, MARIA EUGENIA]     [ROLANDO MENCHACA]   \n",
       "4           [ATTORNEY GENERAL, LARA, MARIA GUADALUPE]    [ENRIQUE FERNANDEZ]   \n",
       "5              [ATTORNEY GENERAL, HERNANDEZ, OLGA E.]         [POLLY J BONE]   \n",
       "6                                [THE STATE OF TEXAS]      [MELISSA DAYLONG]   \n",
       "7                          [NUTMEG INSURANCE COMPANY]       [LOREN R. SMITH]   \n",
       "8                        [ALLSTATE INSURANCE COMPANY]           [TIM HERRON]   \n",
       "9   [GARZA, LEONEL, GARZA, MARTHA, HERNANDEZ, ALMA...  [GLORIA E. HERNANDEZ]   \n",
       "10           [ATTORNEY GENERAL, FLORES, MARIA ISABEL]         [POLLY J BONE]   \n",
       "11                              [PILLING, LISA DIONA]     [JERALD L. ABRAMS]   \n",
       "12                 [GARCIA, MARTIN, GARCIA, SOILA M.]   [JOHN MICHAEL DOYLE]   \n",
       "13                      [MARTINEZ, JUANITA GUADALUPE]                     []   \n",
       "14                            [CARRILLO JR., ROBERTO]    [ERNEST G. MIRELES]   \n",
       "15                               [FRAUSTO JR., DAVID]  [AUGUST LINNARTZ JR.]   \n",
       "16             [ATTORNEY GENERAL, CHAVARRIA, AZUCENA]     [MELINDA S. LAUCK]   \n",
       "17                                   [STATE OF TEXAS]        [ROBERTO SERNA]   \n",
       "18            [ATTORNEY GENERAL, MONTALVA, ELIZATH H]        [RICARDO RAMOS]   \n",
       "19                 [ATTORNEY GENERAL, URIBE, MINERVA]      [ROBERT D. ADAMS]   \n",
       "\n",
       "                                       Defendant Name     Defendant Attorney  \n",
       "0                           [MENDEZ, CARLOS GILBERTO]                     []  \n",
       "1                             [MARTINEZ, HECTOR RENE]                     []  \n",
       "2                                  [BOWLES JR., RUDY]      [RICHARD TINSMAN]  \n",
       "3                              [ARROYO, JUAN ANTONIO]                     []  \n",
       "4                                      [LARA, HOMERO]                     []  \n",
       "5                                [HERNANDEZ, JUAN F.]                     []  \n",
       "6                      [APPROX. 440 POUNDS OF MARIHU]                     []  \n",
       "7   [MANCHA, GUILLERMO, MARTINEZ, JOHNNY E., MAVER...    [MICHAEL J. BAGLEY]  \n",
       "8   [DE LEON, FERNANDO, DE LEON, PATRICIA, DE LEON...         [NORMAN JOLLY]  \n",
       "9              [DARRYL LEE, EVA BELISLE, JACK DUNCAN]       [PAUL J. TARSKI]  \n",
       "10                                [CARBAJAL, ROBERTO]                     []  \n",
       "11                               [GILLILAND, JODY C.]                     []  \n",
       "12                  [LOPEZ, HERMELINDA, LOPEZ, JESUS]  [AUGUST LINNARTZ JR.]  \n",
       "13                                [SANTIAGO MARTINEZ]  [GLORIA E. HERNANDEZ]  \n",
       "14                                [VILLARREAL, MARIO]         [DAVID RIOJAS]  \n",
       "15                             [CHAPA, ANTONIA NORMA]                     []  \n",
       "16                               [CHAVARRIA, JOSE M.]                     []  \n",
       "17                            [AGUILERA, JUAN MANUEL]                     []  \n",
       "18                             [GOMEZ, RUBEN ANTHONY]                     []  \n",
       "19                                 [HERNANDEZ, ARIEL]                     []  "
      ]
     },
     "execution_count": 87,
     "metadata": {},
     "output_type": "execute_result"
    }
   ],
   "source": [
    "df.head(20)"
   ]
  },
  {
   "cell_type": "markdown",
   "id": "0f28fdc7",
   "metadata": {},
   "source": [
    "# Got It!\n",
    "\n",
    "I believe the problem has been solved! Next step is to build a function for the criminal case PDFs. I'll work on that later."
   ]
  },
  {
   "cell_type": "code",
   "execution_count": null,
   "id": "2b080ea2",
   "metadata": {},
   "outputs": [],
   "source": []
  }
 ],
 "metadata": {
  "kernelspec": {
   "display_name": "Python 3 (ipykernel)",
   "language": "python",
   "name": "python3"
  },
  "language_info": {
   "codemirror_mode": {
    "name": "ipython",
    "version": 3
   },
   "file_extension": ".py",
   "mimetype": "text/x-python",
   "name": "python",
   "nbconvert_exporter": "python",
   "pygments_lexer": "ipython3",
   "version": "3.10.1"
  }
 },
 "nbformat": 4,
 "nbformat_minor": 5
}
