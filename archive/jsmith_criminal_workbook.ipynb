{
 "cells": [
  {
   "cell_type": "code",
   "execution_count": 2,
   "id": "76f4fbb4",
   "metadata": {},
   "outputs": [],
   "source": [
    "import numpy as np\n",
    "import pandas as pd\n",
    "import re\n",
    "from pdfminer3.layout import LAParams, LTTextBox\n",
    "from pdfminer3.pdfpage import PDFPage\n",
    "from pdfminer3.pdfinterp import PDFResourceManager\n",
    "from pdfminer3.pdfinterp import PDFPageInterpreter\n",
    "from pdfminer3.converter import PDFPageAggregator\n",
    "from pdfminer3.converter import TextConverter\n",
    "import io\n",
    "\n",
    "#Custom module\n",
    "#import jsmith_acquire"
   ]
  },
  {
   "cell_type": "markdown",
   "id": "7994a293",
   "metadata": {},
   "source": [
    "# Read In Criminal Case PDF\n",
    "\n",
    "Start with just the first page. Break it down and gather the available info."
   ]
  },
  {
   "cell_type": "code",
   "execution_count": 2,
   "id": "3b3a3f19",
   "metadata": {},
   "outputs": [],
   "source": [
    "#Set up the pdf path\n",
    "pdf_path = '/Users/johnathonsmith/Downloads/Files/June 5_Zavala Criminal _ DETAILED Pending Rpt.pdf'"
   ]
  },
  {
   "cell_type": "code",
   "execution_count": 3,
   "id": "a5075f26",
   "metadata": {
    "jupyter": {
     "outputs_hidden": true
    },
    "tags": []
   },
   "outputs": [
    {
     "name": "stdout",
     "output_type": "stream",
     "text": [
      "                                     CRIMINAL DETAILED PENDING CASES REPORT - 06/07/2023\n",
      "                                    ZAVALA COUNTY - DISTRICT CLERK - 293RD DISTRICT COURT\n",
      "                              FILED PENDING CASES AS OF 06/05/2023 - SORTED BY FILE DATE - PAGE 1\n",
      "\n",
      "CAUSE #                  FILE DT  DEFENDANT'S NAME                      COURT   DOCKET DT  OUTSTANDING WARRANTS\n",
      "   ACTIVE ATTORNEY/S               1ST OFFENSE                            ST RPT COLUMN                                       \n",
      "\n",
      "96-04-02608-ZCR       04/19/1996  POMPA-CONTRERAS, JESUS                293    07/12/2023                      \n",
      "                                   AGG ROBBERY                            AGGRAVATED ROBBERY OR ROBBERY                       \n",
      "07-04-03066-ZCR       04/30/2007  HERRERA, JOSE NICOLAS                 293                                    \n",
      "   PADILLA, ALFREDO Z.             INDECENCY W/CHILD SEXUAL CONTACT       INDECENCY WITH OR SEXUAL ASSAULT OF A CHILD         \n",
      "09-02-03164-ZCR       03/04/2009  MIRABAL, JOSE LUIS                    293    12/01/2023                      \n",
      "                                   POSS MARIJ >2,000LBS                   DRUG POSSESSION                                     \n",
      "09-02-03170-ZCR       03/05/2009  GONZALEZ, GISEL ALEJANDRA             293    12/01/2023                      \n",
      "                                   POSS MARIJ <2OZ                        ALL MISDEMEANORS                                    \n",
      "03-12-02906-ZCR       12/30/2009  PUENTE, LISA MARIE                    293    07/12/2023                      \n",
      "                                   BURGLARY OF HABITATION                 BURGLARY                                            \n",
      "04-06-02918-ZCR       01/26/2010  RIOS, OSVALDO                         293                                    \n",
      "                                   BURGLARY OF BUILDING                   BURGLARY                                            \n",
      "04-06-02920-ZCR       01/29/2010  RIOS, OSVALDO                         293                                    \n",
      "   BAGLEY, MICHAEL J.              BURGLARY OF BUILDING                   BURGLARY                                            \n",
      "15-03-03456-ZCR       03/25/2015  MONTANEZ, ROSALLINDA                  293                                    \n",
      "                                   EVADING ARREST DET W/VEH               OTHER FELONIES                                      \n",
      "16-04-03622-ZCR       04/22/2016  JIMENEZ, VICTOR HUGO                  293    08/01/2023                      \n",
      "   TORRES, GREGORY D.              SEXUAL ASSAULT                         SEXUAL ASSAULT OF AN ADULT                          \n",
      "16-04-03623-ZCR       04/22/2016  JIMENEZ, VICTOR HUGO                  293    08/01/2023                      \n",
      "   TORRES, GREGORY D.              AGG SEXUAL ASSAULT                     SEXUAL ASSAULT OF AN ADULT                          \n",
      "16-04-03624-ZCR       04/22/2016  JIMENEZ, VICTOR HUGO                  293    08/01/2023                      \n",
      "   TORRES, GREGORY D.              BURGLARY HABITATION INTEND OTHER       BURGLARY                                            \n",
      "                                   FELONY                                                                                     \n",
      "17-09-03704-ZCR       09/14/2017  RAMIREZ, MARCO                        293                                    \n",
      "                                   THEFT PROP >=$2,500<$30K               THEFT                                               \n",
      "17-09-03700-ZCR       09/17/2017  REYES ROSALES, RAMIRO                 293                                    \n",
      "                                   BURGLARY OF BUILDING                   BURGLARY                                            \n",
      "19-07-03808-ZCR       07/15/2019  MORENO, OSEAS ALBERTO                 293    07/12/2023                      \n",
      "                                   SEXUAL ASSAULT                         SEXUAL ASSAULT OF AN ADULT                          \n",
      "19-08-03812-ZCR       08/23/2019  TREVINO, RICHARD MICHAEL              293    07/12/2023                      \n",
      "                                   TAMPER/FABRICATE PHYSICAL EVIDENCE     OTHER FELONIES                                      \n",
      "19-08-03816-ZCR       08/23/2019  TREVINO, RICHARD MICHAEL              293    07/12/2023                      \n",
      "                                   AGG ASSAULT W/DEADLY WEAPON            AGGRAVATED ASSAULT OR ATTEMPTED MURDER              \n",
      "21-01-03846-ZCR       01/28/2021  FERA, PETRA ROMONA                    293    08/01/2023                      \n",
      "                                   MURDER                                 MURDER                                              \n",
      "21-01-03848-ZCR       01/28/2021  MENA, BERNABE                         293    12/01/2023                      \n",
      "                                   ABANDON ENDANGER CHILD                 AGGRAVATED ASSAULT OR ATTEMPTED MURDER              \n",
      "                                   INT/KNOW/RECK/CRIM NEG                                                                     \n",
      "\n",
      "\f",
      "\n"
     ]
    }
   ],
   "source": [
    "#Set up resource manager to handle pdf content. text, images, etc.\n",
    "resource_manager = PDFResourceManager()\n",
    "\n",
    "#Used to display text\n",
    "fake_file_handle = io.StringIO()\n",
    "\n",
    "#Set up converter\n",
    "converter = TextConverter(resource_manager, fake_file_handle, laparams=LAParams())\n",
    "\n",
    "#Set up page interpreter\n",
    "page_interpreter = PDFPageInterpreter(resource_manager, converter)\n",
    "\n",
    "with open(pdf_path, 'rb') as fh:\n",
    "\n",
    "    for page in PDFPage.get_pages(fh, caching=True, maxpages = 1, check_extractable=True):\n",
    "        #Process the current page\n",
    "        page_interpreter.process_page(page)\n",
    "\n",
    "    #Save the current page's text to a variable\n",
    "    text = fake_file_handle.getvalue()\n",
    "\n",
    "# close open handles\n",
    "converter.close()\n",
    "fake_file_handle.close()\n",
    "\n",
    "print(text)"
   ]
  },
  {
   "cell_type": "code",
   "execution_count": 4,
   "id": "4106bb46",
   "metadata": {
    "jupyter": {
     "outputs_hidden": true
    },
    "tags": []
   },
   "outputs": [
    {
     "name": "stdout",
     "output_type": "stream",
     "text": [
      "\"                                     CRIMINAL DETAILED PENDING CASES REPORT - 06/07/2023\\n                                    ZAVALA COUNTY - DISTRICT CLERK - 293RD DISTRICT COURT\\n                              FILED PENDING CASES AS OF 06/05/2023 - SORTED BY FILE DATE - PAGE 1\\n\\nCAUSE #                  FILE DT  DEFENDANT'S NAME                      COURT   DOCKET DT  OUTSTANDING WARRANTS\\n   ACTIVE ATTORNEY/S               1ST OFFENSE                            ST RPT COLUMN                                       \\n\\n96-04-02608-ZCR       04/19/1996  POMPA-CONTRERAS, JESUS                293    07/12/2023                      \\n                                   AGG ROBBERY                            AGGRAVATED ROBBERY OR ROBBERY                       \\n07-04-03066-ZCR       04/30/2007  HERRERA, JOSE NICOLAS                 293                                    \\n   PADILLA, ALFREDO Z.             INDECENCY W/CHILD SEXUAL CONTACT       INDECENCY WITH OR SEXUAL ASSAULT OF A CHILD         \\n09-02-03164-ZCR       03/04/2009  MIRABAL, JOSE LUIS                    293    12/01/2023                      \\n                                   POSS MARIJ >2,000LBS                   DRUG POSSESSION                                     \\n09-02-03170-ZCR       03/05/2009  GONZALEZ, GISEL ALEJANDRA             293    12/01/2023                      \\n                                   POSS MARIJ <2OZ                        ALL MISDEMEANORS                                    \\n03-12-02906-ZCR       12/30/2009  PUENTE, LISA MARIE                    293    07/12/2023                      \\n                                   BURGLARY OF HABITATION                 BURGLARY                                            \\n04-06-02918-ZCR       01/26/2010  RIOS, OSVALDO                         293                                    \\n                                   BURGLARY OF BUILDING                   BURGLARY                                            \\n04-06-02920-ZCR       01/29/2010  RIOS, OSVALDO                         293                                    \\n   BAGLEY, MICHAEL J.              BURGLARY OF BUILDING                   BURGLARY                                            \\n15-03-03456-ZCR       03/25/2015  MONTANEZ, ROSALLINDA                  293                                    \\n                                   EVADING ARREST DET W/VEH               OTHER FELONIES                                      \\n16-04-03622-ZCR       04/22/2016  JIMENEZ, VICTOR HUGO                  293    08/01/2023                      \\n   TORRES, GREGORY D.              SEXUAL ASSAULT                         SEXUAL ASSAULT OF AN ADULT                          \\n16-04-03623-ZCR       04/22/2016  JIMENEZ, VICTOR HUGO                  293    08/01/2023                      \\n   TORRES, GREGORY D.              AGG SEXUAL ASSAULT                     SEXUAL ASSAULT OF AN ADULT                          \\n16-04-03624-ZCR       04/22/2016  JIMENEZ, VICTOR HUGO                  293    08/01/2023                      \\n   TORRES, GREGORY D.              BURGLARY HABITATION INTEND OTHER       BURGLARY                                            \\n                                   FELONY                                                                                     \\n17-09-03704-ZCR       09/14/2017  RAMIREZ, MARCO                        293                                    \\n                                   THEFT PROP >=$2,500<$30K               THEFT                                               \\n17-09-03700-ZCR       09/17/2017  REYES ROSALES, RAMIRO                 293                                    \\n                                   BURGLARY OF BUILDING                   BURGLARY                                            \\n19-07-03808-ZCR       07/15/2019  MORENO, OSEAS ALBERTO                 293    07/12/2023                      \\n                                   SEXUAL ASSAULT                         SEXUAL ASSAULT OF AN ADULT                          \\n19-08-03812-ZCR       08/23/2019  TREVINO, RICHARD MICHAEL              293    07/12/2023                      \\n                                   TAMPER/FABRICATE PHYSICAL EVIDENCE     OTHER FELONIES                                      \\n19-08-03816-ZCR       08/23/2019  TREVINO, RICHARD MICHAEL              293    07/12/2023                      \\n                                   AGG ASSAULT W/DEADLY WEAPON            AGGRAVATED ASSAULT OR ATTEMPTED MURDER              \\n21-01-03846-ZCR       01/28/2021  FERA, PETRA ROMONA                    293    08/01/2023                      \\n                                   MURDER                                 MURDER                                              \\n21-01-03848-ZCR       01/28/2021  MENA, BERNABE                         293    12/01/2023                      \\n                                   ABANDON ENDANGER CHILD                 AGGRAVATED ASSAULT OR ATTEMPTED MURDER              \\n                                   INT/KNOW/RECK/CRIM NEG                                                                     \\n\\n\\x0c\"\n"
     ]
    }
   ],
   "source": [
    "print(repr(text))"
   ]
  },
  {
   "cell_type": "code",
   "execution_count": 5,
   "id": "618f79be",
   "metadata": {
    "jupyter": {
     "outputs_hidden": true
    },
    "tags": []
   },
   "outputs": [
    {
     "data": {
      "text/plain": [
       "\"                                     CRIMINAL DETAILED PENDING CASES REPORT - 06/07/2023\\n                                    ZAVALA COUNTY - DISTRICT CLERK - 293RD DISTRICT COURT\\n                              FILED PENDING CASES AS OF 06/05/2023 - SORTED BY FILE DATE - PAGE 1\\n\\nCAUSE #                  FILE DT  DEFENDANT'S NAME                      COURT   DOCKET DT  OUTSTANDING WARRANTS\\n   ACTIVE ATTORNEY/S               1ST OFFENSE                            ST RPT COLUMN                                       \\n\""
      ]
     },
     "execution_count": 5,
     "metadata": {},
     "output_type": "execute_result"
    }
   ],
   "source": [
    "#Separate the header from the body\n",
    "header = text[:517]\n",
    "header"
   ]
  },
  {
   "cell_type": "code",
   "execution_count": 6,
   "id": "801833bd",
   "metadata": {
    "jupyter": {
     "outputs_hidden": true
    },
    "tags": []
   },
   "outputs": [
    {
     "data": {
      "text/plain": [
       "'\\n96-04-02608-ZCR       04/19/1996  POMPA-CONTRERAS, JESUS                293    07/12/2023                      \\n                                   AGG ROBBERY                            AGGRAVATED ROBBERY OR ROBBERY                       \\n07-04-03066-ZCR       04/30/2007  HERRERA, JOSE NICOLAS                 293                                    \\n   PADILLA, ALFREDO Z.             INDECENCY W/CHILD SEXUAL CONTACT       INDECENCY WITH OR SEXUAL ASSAULT OF A CHILD         \\n09-02-03164-ZCR       03/04/2009  MIRABAL, JOSE LUIS                    293    12/01/2023                      \\n                                   POSS MARIJ >2,000LBS                   DRUG POSSESSION                                     \\n09-02-03170-ZCR       03/05/2009  GONZALEZ, GISEL ALEJANDRA             293    12/01/2023                      \\n                                   POSS MARIJ <2OZ                        ALL MISDEMEANORS                                    \\n03-12-02906-ZCR       12/30/2009  PUENTE, LISA MARIE                    293    07/12/2023                      \\n                                   BURGLARY OF HABITATION                 BURGLARY                                            \\n04-06-02918-ZCR       01/26/2010  RIOS, OSVALDO                         293                                    \\n                                   BURGLARY OF BUILDING                   BURGLARY                                            \\n04-06-02920-ZCR       01/29/2010  RIOS, OSVALDO                         293                                    \\n   BAGLEY, MICHAEL J.              BURGLARY OF BUILDING                   BURGLARY                                            \\n15-03-03456-ZCR       03/25/2015  MONTANEZ, ROSALLINDA                  293                                    \\n                                   EVADING ARREST DET W/VEH               OTHER FELONIES                                      \\n16-04-03622-ZCR       04/22/2016  JIMENEZ, VICTOR HUGO                  293    08/01/2023                      \\n   TORRES, GREGORY D.              SEXUAL ASSAULT                         SEXUAL ASSAULT OF AN ADULT                          \\n16-04-03623-ZCR       04/22/2016  JIMENEZ, VICTOR HUGO                  293    08/01/2023                      \\n   TORRES, GREGORY D.              AGG SEXUAL ASSAULT                     SEXUAL ASSAULT OF AN ADULT                          \\n16-04-03624-ZCR       04/22/2016  JIMENEZ, VICTOR HUGO                  293    08/01/2023                      \\n   TORRES, GREGORY D.              BURGLARY HABITATION INTEND OTHER       BURGLARY                                            \\n                                   FELONY                                                                                     \\n17-09-03704-ZCR       09/14/2017  RAMIREZ, MARCO                        293                                    \\n                                   THEFT PROP >=$2,500<$30K               THEFT                                               \\n17-09-03700-ZCR       09/17/2017  REYES ROSALES, RAMIRO                 293                                    \\n                                   BURGLARY OF BUILDING                   BURGLARY                                            \\n19-07-03808-ZCR       07/15/2019  MORENO, OSEAS ALBERTO                 293    07/12/2023                      \\n                                   SEXUAL ASSAULT                         SEXUAL ASSAULT OF AN ADULT                          \\n19-08-03812-ZCR       08/23/2019  TREVINO, RICHARD MICHAEL              293    07/12/2023                      \\n                                   TAMPER/FABRICATE PHYSICAL EVIDENCE     OTHER FELONIES                                      \\n19-08-03816-ZCR       08/23/2019  TREVINO, RICHARD MICHAEL              293    07/12/2023                      \\n                                   AGG ASSAULT W/DEADLY WEAPON            AGGRAVATED ASSAULT OR ATTEMPTED MURDER              \\n21-01-03846-ZCR       01/28/2021  FERA, PETRA ROMONA                    293    08/01/2023                      \\n                                   MURDER                                 MURDER                                              \\n21-01-03848-ZCR       01/28/2021  MENA, BERNABE                         293    12/01/2023                      \\n                                   ABANDON ENDANGER CHILD                 AGGRAVATED ASSAULT OR ATTEMPTED MURDER              \\n                                   INT/KNOW/RECK/CRIM NEG                                                                     \\n\\n\\x0c'"
      ]
     },
     "execution_count": 6,
     "metadata": {},
     "output_type": "execute_result"
    }
   ],
   "source": [
    "#body \n",
    "body = text[517:]\n",
    "body"
   ]
  },
  {
   "cell_type": "code",
   "execution_count": 7,
   "id": "d2640f71",
   "metadata": {},
   "outputs": [],
   "source": [
    "#Remove leading and trailing whitespace\n",
    "body = body.strip()"
   ]
  },
  {
   "cell_type": "code",
   "execution_count": 8,
   "id": "83d05ce0",
   "metadata": {},
   "outputs": [],
   "source": [
    "#Try splitting the cases up on the new lines\n",
    "cases = body.split('\\n')"
   ]
  },
  {
   "cell_type": "code",
   "execution_count": 9,
   "id": "6e1488bf",
   "metadata": {},
   "outputs": [
    {
     "data": {
      "text/plain": [
       "38"
      ]
     },
     "execution_count": 9,
     "metadata": {},
     "output_type": "execute_result"
    }
   ],
   "source": [
    "#How many cases per page? (in the detailed report, there are more new lines than cases)\n",
    "len(cases)"
   ]
  },
  {
   "cell_type": "code",
   "execution_count": 10,
   "id": "a8b7a870",
   "metadata": {
    "jupyter": {
     "outputs_hidden": true
    },
    "tags": []
   },
   "outputs": [
    {
     "data": {
      "text/plain": [
       "['96-04-02608-ZCR       04/19/1996  POMPA-CONTRERAS, JESUS                293    07/12/2023                      ',\n",
       " '                                   AGG ROBBERY                            AGGRAVATED ROBBERY OR ROBBERY                       ',\n",
       " '07-04-03066-ZCR       04/30/2007  HERRERA, JOSE NICOLAS                 293                                    ',\n",
       " '   PADILLA, ALFREDO Z.             INDECENCY W/CHILD SEXUAL CONTACT       INDECENCY WITH OR SEXUAL ASSAULT OF A CHILD         ',\n",
       " '09-02-03164-ZCR       03/04/2009  MIRABAL, JOSE LUIS                    293    12/01/2023                      ',\n",
       " '                                   POSS MARIJ >2,000LBS                   DRUG POSSESSION                                     ',\n",
       " '09-02-03170-ZCR       03/05/2009  GONZALEZ, GISEL ALEJANDRA             293    12/01/2023                      ',\n",
       " '                                   POSS MARIJ <2OZ                        ALL MISDEMEANORS                                    ',\n",
       " '03-12-02906-ZCR       12/30/2009  PUENTE, LISA MARIE                    293    07/12/2023                      ',\n",
       " '                                   BURGLARY OF HABITATION                 BURGLARY                                            ',\n",
       " '04-06-02918-ZCR       01/26/2010  RIOS, OSVALDO                         293                                    ',\n",
       " '                                   BURGLARY OF BUILDING                   BURGLARY                                            ',\n",
       " '04-06-02920-ZCR       01/29/2010  RIOS, OSVALDO                         293                                    ',\n",
       " '   BAGLEY, MICHAEL J.              BURGLARY OF BUILDING                   BURGLARY                                            ',\n",
       " '15-03-03456-ZCR       03/25/2015  MONTANEZ, ROSALLINDA                  293                                    ',\n",
       " '                                   EVADING ARREST DET W/VEH               OTHER FELONIES                                      ',\n",
       " '16-04-03622-ZCR       04/22/2016  JIMENEZ, VICTOR HUGO                  293    08/01/2023                      ',\n",
       " '   TORRES, GREGORY D.              SEXUAL ASSAULT                         SEXUAL ASSAULT OF AN ADULT                          ',\n",
       " '16-04-03623-ZCR       04/22/2016  JIMENEZ, VICTOR HUGO                  293    08/01/2023                      ',\n",
       " '   TORRES, GREGORY D.              AGG SEXUAL ASSAULT                     SEXUAL ASSAULT OF AN ADULT                          ',\n",
       " '16-04-03624-ZCR       04/22/2016  JIMENEZ, VICTOR HUGO                  293    08/01/2023                      ',\n",
       " '   TORRES, GREGORY D.              BURGLARY HABITATION INTEND OTHER       BURGLARY                                            ',\n",
       " '                                   FELONY                                                                                     ',\n",
       " '17-09-03704-ZCR       09/14/2017  RAMIREZ, MARCO                        293                                    ',\n",
       " '                                   THEFT PROP >=$2,500<$30K               THEFT                                               ',\n",
       " '17-09-03700-ZCR       09/17/2017  REYES ROSALES, RAMIRO                 293                                    ',\n",
       " '                                   BURGLARY OF BUILDING                   BURGLARY                                            ',\n",
       " '19-07-03808-ZCR       07/15/2019  MORENO, OSEAS ALBERTO                 293    07/12/2023                      ',\n",
       " '                                   SEXUAL ASSAULT                         SEXUAL ASSAULT OF AN ADULT                          ',\n",
       " '19-08-03812-ZCR       08/23/2019  TREVINO, RICHARD MICHAEL              293    07/12/2023                      ',\n",
       " '                                   TAMPER/FABRICATE PHYSICAL EVIDENCE     OTHER FELONIES                                      ',\n",
       " '19-08-03816-ZCR       08/23/2019  TREVINO, RICHARD MICHAEL              293    07/12/2023                      ',\n",
       " '                                   AGG ASSAULT W/DEADLY WEAPON            AGGRAVATED ASSAULT OR ATTEMPTED MURDER              ',\n",
       " '21-01-03846-ZCR       01/28/2021  FERA, PETRA ROMONA                    293    08/01/2023                      ',\n",
       " '                                   MURDER                                 MURDER                                              ',\n",
       " '21-01-03848-ZCR       01/28/2021  MENA, BERNABE                         293    12/01/2023                      ',\n",
       " '                                   ABANDON ENDANGER CHILD                 AGGRAVATED ASSAULT OR ATTEMPTED MURDER              ',\n",
       " '                                   INT/KNOW/RECK/CRIM NEG']"
      ]
     },
     "execution_count": 10,
     "metadata": {},
     "output_type": "execute_result"
    }
   ],
   "source": [
    "cases"
   ]
  },
  {
   "cell_type": "code",
   "execution_count": 11,
   "id": "5a79e82f",
   "metadata": {},
   "outputs": [
    {
     "data": {
      "text/plain": [
       "'96-04-02608-ZCR       04/19/1996  POMPA-CONTRERAS, JESUS                293    07/12/2023                      '"
      ]
     },
     "execution_count": 11,
     "metadata": {},
     "output_type": "execute_result"
    }
   ],
   "source": [
    "#Just work with the first line for now\n",
    "case = cases[0]\n",
    "case"
   ]
  },
  {
   "cell_type": "markdown",
   "id": "8d5681d5",
   "metadata": {},
   "source": [
    "# Gather Info For a Single Case"
   ]
  },
  {
   "cell_type": "markdown",
   "id": "52460d09",
   "metadata": {},
   "source": [
    "__Cause Number__"
   ]
  },
  {
   "cell_type": "code",
   "execution_count": 12,
   "id": "497637b8",
   "metadata": {},
   "outputs": [
    {
     "data": {
      "text/plain": [
       "'96-04-02608-ZCR'"
      ]
     },
     "execution_count": 12,
     "metadata": {},
     "output_type": "execute_result"
    }
   ],
   "source": [
    "#Gather the cause number\n",
    "cause_num = case[:22].strip()\n",
    "cause_num"
   ]
  },
  {
   "cell_type": "markdown",
   "id": "2c742f58",
   "metadata": {},
   "source": [
    "__File Date__"
   ]
  },
  {
   "cell_type": "code",
   "execution_count": 13,
   "id": "02c79a44",
   "metadata": {},
   "outputs": [
    {
     "data": {
      "text/plain": [
       "'04/19/1996'"
      ]
     },
     "execution_count": 13,
     "metadata": {},
     "output_type": "execute_result"
    }
   ],
   "source": [
    "#Gather the file date\n",
    "file_date = case[22:34].strip()\n",
    "file_date"
   ]
  },
  {
   "cell_type": "markdown",
   "id": "44e0fa8e",
   "metadata": {},
   "source": [
    "__Defendant Name__"
   ]
  },
  {
   "cell_type": "code",
   "execution_count": 14,
   "id": "19bb62ed",
   "metadata": {},
   "outputs": [
    {
     "data": {
      "text/plain": [
       "'POMPA-CONTRERAS, JESUS'"
      ]
     },
     "execution_count": 14,
     "metadata": {},
     "output_type": "execute_result"
    }
   ],
   "source": [
    "defendant_name = case[34:72].strip()\n",
    "defendant_name"
   ]
  },
  {
   "cell_type": "markdown",
   "id": "efe69ce9",
   "metadata": {},
   "source": [
    "__Court__"
   ]
  },
  {
   "cell_type": "code",
   "execution_count": 15,
   "id": "404cec01",
   "metadata": {},
   "outputs": [
    {
     "data": {
      "text/plain": [
       "'293'"
      ]
     },
     "execution_count": 15,
     "metadata": {},
     "output_type": "execute_result"
    }
   ],
   "source": [
    "court = case[72:79].strip()\n",
    "court"
   ]
  },
  {
   "cell_type": "markdown",
   "id": "6e8b0e7d",
   "metadata": {},
   "source": [
    "__Docket Date__"
   ]
  },
  {
   "cell_type": "code",
   "execution_count": 16,
   "id": "2bd8eb38",
   "metadata": {},
   "outputs": [
    {
     "data": {
      "text/plain": [
       "'07/12/2023'"
      ]
     },
     "execution_count": 16,
     "metadata": {},
     "output_type": "execute_result"
    }
   ],
   "source": [
    "docket_date = case[79:89].strip()\n",
    "docket_date"
   ]
  },
  {
   "cell_type": "markdown",
   "id": "17accc3c",
   "metadata": {},
   "source": [
    "__Outstanding Warrants__"
   ]
  },
  {
   "cell_type": "code",
   "execution_count": 17,
   "id": "0b4f79d3",
   "metadata": {},
   "outputs": [
    {
     "data": {
      "text/plain": [
       "''"
      ]
     },
     "execution_count": 17,
     "metadata": {},
     "output_type": "execute_result"
    }
   ],
   "source": [
    "#Everything after the docket date\n",
    "warrants = case[89:].strip()\n",
    "warrants"
   ]
  },
  {
   "cell_type": "markdown",
   "id": "0a84cb5c",
   "metadata": {},
   "source": [
    "__Attorney__"
   ]
  },
  {
   "cell_type": "code",
   "execution_count": 18,
   "id": "75cc2bd4",
   "metadata": {},
   "outputs": [
    {
     "data": {
      "text/plain": [
       "'   PADILLA, ALFREDO Z.             INDECENCY W/CHILD SEXUAL CONTACT       INDECENCY WITH OR SEXUAL ASSAULT OF A CHILD         '"
      ]
     },
     "execution_count": 18,
     "metadata": {},
     "output_type": "execute_result"
    }
   ],
   "source": [
    "#The following information is found on subsequent lines due to the way the report is formatted.\n",
    "#Use a case with all 3 pieces of info\n",
    "case = cases[3]\n",
    "case"
   ]
  },
  {
   "cell_type": "code",
   "execution_count": 19,
   "id": "a5bcf3e8",
   "metadata": {},
   "outputs": [
    {
     "data": {
      "text/plain": [
       "'PADILLA, ALFREDO Z.'"
      ]
     },
     "execution_count": 19,
     "metadata": {},
     "output_type": "execute_result"
    }
   ],
   "source": [
    "attorney = case[:35].strip()\n",
    "attorney"
   ]
  },
  {
   "cell_type": "markdown",
   "id": "289574b2",
   "metadata": {},
   "source": [
    "__First Offense__"
   ]
  },
  {
   "cell_type": "code",
   "execution_count": 20,
   "id": "22a47742",
   "metadata": {},
   "outputs": [
    {
     "data": {
      "text/plain": [
       "'INDECENCY W/CHILD SEXUAL CONTACT'"
      ]
     },
     "execution_count": 20,
     "metadata": {},
     "output_type": "execute_result"
    }
   ],
   "source": [
    "offense = case[35:74].strip()\n",
    "offense"
   ]
  },
  {
   "cell_type": "markdown",
   "id": "e302f654",
   "metadata": {},
   "source": [
    "__ST RPT Column__"
   ]
  },
  {
   "cell_type": "code",
   "execution_count": 21,
   "id": "f70ce2c8",
   "metadata": {},
   "outputs": [
    {
     "data": {
      "text/plain": [
       "'INDECENCY WITH OR SEXUAL ASSAULT OF A CHILD'"
      ]
     },
     "execution_count": 21,
     "metadata": {},
     "output_type": "execute_result"
    }
   ],
   "source": [
    "st_rpt = case[74:].strip()\n",
    "st_rpt"
   ]
  },
  {
   "cell_type": "markdown",
   "id": "8226ed99",
   "metadata": {},
   "source": [
    "# Load The First Two Pages\n",
    "\n",
    "Using the first two pages, set up a loop to gather all the info for each case and create a dataframe."
   ]
  },
  {
   "cell_type": "code",
   "execution_count": 22,
   "id": "a9761906",
   "metadata": {},
   "outputs": [],
   "source": [
    "#Set up resource manager to handle pdf content. text, images, etc.\n",
    "resource_manager = PDFResourceManager()\n",
    "\n",
    "#Used to display text\n",
    "fake_file_handle = io.StringIO()\n",
    "\n",
    "#Set up converter\n",
    "converter = TextConverter(resource_manager, fake_file_handle, laparams=LAParams())\n",
    "\n",
    "#Set up page interpreter\n",
    "page_interpreter = PDFPageInterpreter(resource_manager, converter)\n",
    "\n",
    "with open(pdf_path, 'rb') as fh:\n",
    "\n",
    "    for page in PDFPage.get_pages(fh, caching=True, maxpages = 2, check_extractable=True):\n",
    "        #Process the current page\n",
    "        page_interpreter.process_page(page)\n",
    "\n",
    "    #Save the current page's text to a variable\n",
    "    text = fake_file_handle.getvalue()\n",
    "\n",
    "# close open handles\n",
    "converter.close()\n",
    "fake_file_handle.close()\n",
    "\n",
    "#print(text)"
   ]
  },
  {
   "cell_type": "code",
   "execution_count": 23,
   "id": "818e20dd",
   "metadata": {},
   "outputs": [],
   "source": [
    "#Separate the first header from the body\n",
    "#We'll use this to identify the county later\n",
    "header = text[:517]"
   ]
  },
  {
   "cell_type": "code",
   "execution_count": 24,
   "id": "2553f60b",
   "metadata": {},
   "outputs": [],
   "source": [
    "#body\n",
    "body = text[517:]"
   ]
  },
  {
   "cell_type": "code",
   "execution_count": 25,
   "id": "d1933226",
   "metadata": {},
   "outputs": [],
   "source": [
    "#Remove leading and trailing whitespaces from the body text\n",
    "body = body.strip()"
   ]
  },
  {
   "cell_type": "code",
   "execution_count": 26,
   "id": "a29234b5",
   "metadata": {},
   "outputs": [
    {
     "data": {
      "text/plain": [
       "\"                                     CRIMINAL DETAILED PENDING CASES REPORT - 06/07/2023\\n                                    ZAVALA COUNTY - DISTRICT CLERK - 293RD DISTRICT COURT\\n                              FILED PENDING CASES AS OF 06/05/2023 - SORTED BY FILE DATE - PAGE 1\\n\\nCAUSE #                  FILE DT  DEFENDANT'S NAME                      COURT   DOCKET DT  OUTSTANDING WARRANTS\\n   ACTIVE ATTORNEY/S               1ST OFFENSE                            ST RPT COLUMN                                       \\n\""
      ]
     },
     "execution_count": 26,
     "metadata": {},
     "output_type": "execute_result"
    }
   ],
   "source": [
    "header"
   ]
  },
  {
   "cell_type": "code",
   "execution_count": 27,
   "id": "974bffe3",
   "metadata": {},
   "outputs": [
    {
     "data": {
      "text/plain": [
       "\"96-04-02608-ZCR       04/19/1996  POMPA-CONTRERAS, JESUS                293    07/12/2023                      \\n                                   AGG ROBBERY                            AGGRAVATED ROBBERY OR ROBBERY                       \\n07-04-03066-ZCR       04/30/2007  HERRERA, JOSE NICOLAS                 293                                    \\n   PADILLA, ALFREDO Z.             INDECENCY W/CHILD SEXUAL CONTACT       INDECENCY WITH OR SEXUAL ASSAULT OF A CHILD         \\n09-02-03164-ZCR       03/04/2009  MIRABAL, JOSE LUIS                    293    12/01/2023                      \\n                                   POSS MARIJ >2,000LBS                   DRUG POSSESSION                                     \\n09-02-03170-ZCR       03/05/2009  GONZALEZ, GISEL ALEJANDRA             293    12/01/2023                      \\n                                   POSS MARIJ <2OZ                        ALL MISDEMEANORS                                    \\n03-12-02906-ZCR       12/30/2009  PUENTE, LISA MARIE                    293    07/12/2023                      \\n                                   BURGLARY OF HABITATION                 BURGLARY                                            \\n04-06-02918-ZCR       01/26/2010  RIOS, OSVALDO                         293                                    \\n                                   BURGLARY OF BUILDING                   BURGLARY                                            \\n04-06-02920-ZCR       01/29/2010  RIOS, OSVALDO                         293                                    \\n   BAGLEY, MICHAEL J.              BURGLARY OF BUILDING                   BURGLARY                                            \\n15-03-03456-ZCR       03/25/2015  MONTANEZ, ROSALLINDA                  293                                    \\n                                   EVADING ARREST DET W/VEH               OTHER FELONIES                                      \\n16-04-03622-ZCR       04/22/2016  JIMENEZ, VICTOR HUGO                  293    08/01/2023                      \\n   TORRES, GREGORY D.              SEXUAL ASSAULT                         SEXUAL ASSAULT OF AN ADULT                          \\n16-04-03623-ZCR       04/22/2016  JIMENEZ, VICTOR HUGO                  293    08/01/2023                      \\n   TORRES, GREGORY D.              AGG SEXUAL ASSAULT                     SEXUAL ASSAULT OF AN ADULT                          \\n16-04-03624-ZCR       04/22/2016  JIMENEZ, VICTOR HUGO                  293    08/01/2023                      \\n   TORRES, GREGORY D.              BURGLARY HABITATION INTEND OTHER       BURGLARY                                            \\n                                   FELONY                                                                                     \\n17-09-03704-ZCR       09/14/2017  RAMIREZ, MARCO                        293                                    \\n                                   THEFT PROP >=$2,500<$30K               THEFT                                               \\n17-09-03700-ZCR       09/17/2017  REYES ROSALES, RAMIRO                 293                                    \\n                                   BURGLARY OF BUILDING                   BURGLARY                                            \\n19-07-03808-ZCR       07/15/2019  MORENO, OSEAS ALBERTO                 293    07/12/2023                      \\n                                   SEXUAL ASSAULT                         SEXUAL ASSAULT OF AN ADULT                          \\n19-08-03812-ZCR       08/23/2019  TREVINO, RICHARD MICHAEL              293    07/12/2023                      \\n                                   TAMPER/FABRICATE PHYSICAL EVIDENCE     OTHER FELONIES                                      \\n19-08-03816-ZCR       08/23/2019  TREVINO, RICHARD MICHAEL              293    07/12/2023                      \\n                                   AGG ASSAULT W/DEADLY WEAPON            AGGRAVATED ASSAULT OR ATTEMPTED MURDER              \\n21-01-03846-ZCR       01/28/2021  FERA, PETRA ROMONA                    293    08/01/2023                      \\n                                   MURDER                                 MURDER                                              \\n21-01-03848-ZCR       01/28/2021  MENA, BERNABE                         293    12/01/2023                      \\n                                   ABANDON ENDANGER CHILD                 AGGRAVATED ASSAULT OR ATTEMPTED MURDER              \\n                                   INT/KNOW/RECK/CRIM NEG                                                                     \\n\\n\\x0c                                     CRIMINAL DETAILED PENDING CASES REPORT - 06/07/2023\\n                                    ZAVALA COUNTY - DISTRICT CLERK - 293RD DISTRICT COURT\\n                              FILED PENDING CASES AS OF 06/05/2023 - SORTED BY FILE DATE - PAGE 2\\n\\nCAUSE #                  FILE DT  DEFENDANT'S NAME                      COURT   DOCKET DT  OUTSTANDING WARRANTS\\n   ACTIVE ATTORNEY/S               1ST OFFENSE                            ST RPT COLUMN                                       \\n\\n21-01-03849-ZCR       01/28/2021  MENA, BERNABE                         293    12/01/2023                      \\n                                   EVADING ARREST DET W/VEH               OTHER FELONIES                                      \\n21-01-03854-ZCR       01/28/2021  SANCHEZ, FRANCES                      293                                    \\n   PONCE, FRANCISCO                POSS CS PG 1 >=1G<4G                   DRUG POSSESSION                                     \\n21-01-03856-ZCR       01/28/2021  MARTINEZ, CHRISTINA CECILIA           293    07/12/2023                      \\n                                   POSS CS PG 1 <1G                       DRUG POSSESSION                                     \\n21-01-03857-ZCR       01/28/2021  MARTINEZ, CHRISTINA CECILIA           293    07/12/2023                      \\n                                   POSS CS PG 1 <1G                       DRUG POSSESSION                                     \\n21-01-03858-ZCR       01/28/2021  GARCIA, JUAN JAIME                    293                                    \\n                                   POSS CS PG 2 < 1G                      DRUG POSSESSION                                     \\n21-04-03862-ZCR       04/01/2021  CROWSEY, BRANDON IRVING               293                                    \\n                                   POSS CS PG 1 <1G                       DRUG POSSESSION                                     \\n21-06-03876-ZCR       06/20/2021  PEREZ, JEANNIE                        293                                    \\n                                   EVADING ARREST DET W/VEH               OTHER FELONIES                                      \\n21-08-03886-ZCR       08/04/2021  ROBLES, ROMAN HECTOR                  293                                    \\n   CASARES, ANDREA                 BAIL JUMPING AND FAIL TO APPEAR        OTHER FELONIES                                      \\n                                   FELONY                                                                                     \\n21-11-03892-ZCR       11/18/2021  MITCHELL, KARLA RENE                  293    08/01/2023                      \\n                                   POSS CS PG 1 <1G                       DRUG POSSESSION                                     \\n22-03-03898-ZCR       03/04/2022  AGUERO, JOHN PEDRO                    293                                    \\n                                   EVADING ARREST DET W/VEH               OTHER FELONIES                                      \\n22-03-03900-ZCR       03/04/2022  MACHADO, MARTHA CORTEZ                293    07/12/2023                      \\n                                   ASSAULT PUBLIC SERVANT                 AGGRAVATED ASSAULT OR ATTEMPTED MURDER              \\n22-03-03904-ZCR       03/04/2022  LUCIO, GABRIELA KATHLEEN              293    07/12/2023                      \\n   CHACON, PRISCILLA PUENTE        POSS CS PG 1 <1G                       DRUG POSSESSION                                     \\n22-05-03910-ZCR       05/13/2022  CASTILLO III, DAVID                   293    10/02/2023                      \\n                                   OFFICIAL OPPR:INTENT IMPAIR ACCURACY   OTHER FELONIES                                      \\n                                   PEIMS RPT                                                                                  \\n22-08-03922-ZCR       08/10/2022  MONCADA, GEOFFREY                     293    07/12/2023                      \\n   RODRIGUEZ JR., TED              POSS CS PG 1 >=4G<200G                 DRUG POSSESSION                                     \\n22-08-03923-ZCR       08/10/2022  MONCADA, GEOFFREY                     293    07/12/2023                      \\n                                   EVADING ARREST DET W/VEH               OTHER FELONIES                                      \\n22-11-03956-ZCR       11/09/2022  SANCHEZ, PEDRO                        293    07/10/2023                      \\n                                   EVADING ARREST DET W/VEH               OTHER FELONIES                                      \\n22-11-03962-ZCR       11/09/2022  JIMENEZ, VICTOR HUGO                  293    07/12/2023                      \\n                                   AGG ASSAULT CAUSES SERIOUS BODILY INJ  AGGRAVATED ASSAULT OR ATTEMPTED MURDER              \\n22-11-03963-ZCR       11/09/2022  JIMENEZ, VICTOR HUGO                  293    07/12/2023                      \\n                                   UNL POSS FIREARM BY FELON              OTHER FELONIES\""
      ]
     },
     "execution_count": 27,
     "metadata": {},
     "output_type": "execute_result"
    }
   ],
   "source": [
    "body"
   ]
  },
  {
   "cell_type": "code",
   "execution_count": 28,
   "id": "7b84dff6",
   "metadata": {},
   "outputs": [
    {
     "data": {
      "text/plain": [
       "'96-04-02608-ZCR       04/19/1996  POMPA-CONTRERAS, JESUS                293    07/12/2023                      \\n                                   AGG ROBBERY                            AGGRAVATED ROBBERY OR ROBBERY                       \\n07-04-03066-ZCR       04/30/2007  HERRERA, JOSE NICOLAS                 293                                    \\n   PADILLA, ALFREDO Z.             INDECENCY W/CHILD SEXUAL CONTACT       INDECENCY WITH OR SEXUAL ASSAULT OF A CHILD         \\n09-02-03164-ZCR       03/04/2009  MIRABAL, JOSE LUIS                    293    12/01/2023                      \\n                                   POSS MARIJ >2,000LBS                   DRUG POSSESSION                                     \\n09-02-03170-ZCR       03/05/2009  GONZALEZ, GISEL ALEJANDRA             293    12/01/2023                      \\n                                   POSS MARIJ <2OZ                        ALL MISDEMEANORS                                    \\n03-12-02906-ZCR       12/30/2009  PUENTE, LISA MARIE                    293    07/12/2023                      \\n                                   BURGLARY OF HABITATION                 BURGLARY                                            \\n04-06-02918-ZCR       01/26/2010  RIOS, OSVALDO                         293                                    \\n                                   BURGLARY OF BUILDING                   BURGLARY                                            \\n04-06-02920-ZCR       01/29/2010  RIOS, OSVALDO                         293                                    \\n   BAGLEY, MICHAEL J.              BURGLARY OF BUILDING                   BURGLARY                                            \\n15-03-03456-ZCR       03/25/2015  MONTANEZ, ROSALLINDA                  293                                    \\n                                   EVADING ARREST DET W/VEH               OTHER FELONIES                                      \\n16-04-03622-ZCR       04/22/2016  JIMENEZ, VICTOR HUGO                  293    08/01/2023                      \\n   TORRES, GREGORY D.              SEXUAL ASSAULT                         SEXUAL ASSAULT OF AN ADULT                          \\n16-04-03623-ZCR       04/22/2016  JIMENEZ, VICTOR HUGO                  293    08/01/2023                      \\n   TORRES, GREGORY D.              AGG SEXUAL ASSAULT                     SEXUAL ASSAULT OF AN ADULT                          \\n16-04-03624-ZCR       04/22/2016  JIMENEZ, VICTOR HUGO                  293    08/01/2023                      \\n   TORRES, GREGORY D.              BURGLARY HABITATION INTEND OTHER       BURGLARY                                            \\n                                   FELONY                                                                                     \\n17-09-03704-ZCR       09/14/2017  RAMIREZ, MARCO                        293                                    \\n                                   THEFT PROP >=$2,500<$30K               THEFT                                               \\n17-09-03700-ZCR       09/17/2017  REYES ROSALES, RAMIRO                 293                                    \\n                                   BURGLARY OF BUILDING                   BURGLARY                                            \\n19-07-03808-ZCR       07/15/2019  MORENO, OSEAS ALBERTO                 293    07/12/2023                      \\n                                   SEXUAL ASSAULT                         SEXUAL ASSAULT OF AN ADULT                          \\n19-08-03812-ZCR       08/23/2019  TREVINO, RICHARD MICHAEL              293    07/12/2023                      \\n                                   TAMPER/FABRICATE PHYSICAL EVIDENCE     OTHER FELONIES                                      \\n19-08-03816-ZCR       08/23/2019  TREVINO, RICHARD MICHAEL              293    07/12/2023                      \\n                                   AGG ASSAULT W/DEADLY WEAPON            AGGRAVATED ASSAULT OR ATTEMPTED MURDER              \\n21-01-03846-ZCR       01/28/2021  FERA, PETRA ROMONA                    293    08/01/2023                      \\n                                   MURDER                                 MURDER                                              \\n21-01-03848-ZCR       01/28/2021  MENA, BERNABE                         293    12/01/2023                      \\n                                   ABANDON ENDANGER CHILD                 AGGRAVATED ASSAULT OR ATTEMPTED MURDER              \\n                                   INT/KNOW/RECK/CRIM NEG                                                                     \\n21-01-03849-ZCR       01/28/2021  MENA, BERNABE                         293    12/01/2023                      \\n                                   EVADING ARREST DET W/VEH               OTHER FELONIES                                      \\n21-01-03854-ZCR       01/28/2021  SANCHEZ, FRANCES                      293                                    \\n   PONCE, FRANCISCO                POSS CS PG 1 >=1G<4G                   DRUG POSSESSION                                     \\n21-01-03856-ZCR       01/28/2021  MARTINEZ, CHRISTINA CECILIA           293    07/12/2023                      \\n                                   POSS CS PG 1 <1G                       DRUG POSSESSION                                     \\n21-01-03857-ZCR       01/28/2021  MARTINEZ, CHRISTINA CECILIA           293    07/12/2023                      \\n                                   POSS CS PG 1 <1G                       DRUG POSSESSION                                     \\n21-01-03858-ZCR       01/28/2021  GARCIA, JUAN JAIME                    293                                    \\n                                   POSS CS PG 2 < 1G                      DRUG POSSESSION                                     \\n21-04-03862-ZCR       04/01/2021  CROWSEY, BRANDON IRVING               293                                    \\n                                   POSS CS PG 1 <1G                       DRUG POSSESSION                                     \\n21-06-03876-ZCR       06/20/2021  PEREZ, JEANNIE                        293                                    \\n                                   EVADING ARREST DET W/VEH               OTHER FELONIES                                      \\n21-08-03886-ZCR       08/04/2021  ROBLES, ROMAN HECTOR                  293                                    \\n   CASARES, ANDREA                 BAIL JUMPING AND FAIL TO APPEAR        OTHER FELONIES                                      \\n                                   FELONY                                                                                     \\n21-11-03892-ZCR       11/18/2021  MITCHELL, KARLA RENE                  293    08/01/2023                      \\n                                   POSS CS PG 1 <1G                       DRUG POSSESSION                                     \\n22-03-03898-ZCR       03/04/2022  AGUERO, JOHN PEDRO                    293                                    \\n                                   EVADING ARREST DET W/VEH               OTHER FELONIES                                      \\n22-03-03900-ZCR       03/04/2022  MACHADO, MARTHA CORTEZ                293    07/12/2023                      \\n                                   ASSAULT PUBLIC SERVANT                 AGGRAVATED ASSAULT OR ATTEMPTED MURDER              \\n22-03-03904-ZCR       03/04/2022  LUCIO, GABRIELA KATHLEEN              293    07/12/2023                      \\n   CHACON, PRISCILLA PUENTE        POSS CS PG 1 <1G                       DRUG POSSESSION                                     \\n22-05-03910-ZCR       05/13/2022  CASTILLO III, DAVID                   293    10/02/2023                      \\n                                   OFFICIAL OPPR:INTENT IMPAIR ACCURACY   OTHER FELONIES                                      \\n                                   PEIMS RPT                                                                                  \\n22-08-03922-ZCR       08/10/2022  MONCADA, GEOFFREY                     293    07/12/2023                      \\n   RODRIGUEZ JR., TED              POSS CS PG 1 >=4G<200G                 DRUG POSSESSION                                     \\n22-08-03923-ZCR       08/10/2022  MONCADA, GEOFFREY                     293    07/12/2023                      \\n                                   EVADING ARREST DET W/VEH               OTHER FELONIES                                      \\n22-11-03956-ZCR       11/09/2022  SANCHEZ, PEDRO                        293    07/10/2023                      \\n                                   EVADING ARREST DET W/VEH               OTHER FELONIES                                      \\n22-11-03962-ZCR       11/09/2022  JIMENEZ, VICTOR HUGO                  293    07/12/2023                      \\n                                   AGG ASSAULT CAUSES SERIOUS BODILY INJ  AGGRAVATED ASSAULT OR ATTEMPTED MURDER              \\n22-11-03963-ZCR       11/09/2022  JIMENEZ, VICTOR HUGO                  293    07/12/2023                      \\n                                   UNL POSS FIREARM BY FELON              OTHER FELONIES'"
      ]
     },
     "execution_count": 28,
     "metadata": {},
     "output_type": "execute_result"
    }
   ],
   "source": [
    "#Set up regex to remove all subsequent headers\n",
    "#This regex should identify the headers even if the name of the district clerk changes later on\n",
    "body = re.sub(r\"\"\"\\n\\x0c\\s*[A-Z -]*\\d{2}/\\d{2}/\\d{4}\\n\\s*\\w{6,8}[A-Z0-9 -]*\\n\\s*[A-Z ]*\\d{2}/\\d{2}/\\d{4}[A-Z0-9 -]*\\n\\n[A-Z ]*#\\s*[A-Z -']*\\n[A-Z0-9/ -]*\\n\\n\"\"\", '', body)\n",
    "body"
   ]
  },
  {
   "cell_type": "code",
   "execution_count": 29,
   "id": "0f2e565a",
   "metadata": {},
   "outputs": [],
   "source": [
    "#Split the text on the '\\n'\n",
    "cases = body.split('\\n')"
   ]
  },
  {
   "cell_type": "code",
   "execution_count": 30,
   "id": "3708e58e",
   "metadata": {},
   "outputs": [],
   "source": [
    "#Establish a container list for the dictionaries\n",
    "case_list = []\n",
    "attorney_names = []\n",
    "offense_list = []\n",
    "st_rpt_list = []\n",
    "temp_dict = {}"
   ]
  },
  {
   "cell_type": "code",
   "execution_count": 38,
   "id": "090c7fbe",
   "metadata": {},
   "outputs": [],
   "source": [
    "for line in cases:\n",
    "    #Check if line is the start of a new case\n",
    "    if not line[0].isspace():\n",
    "        #Check if the temp_dict is empty.\n",
    "        #If not, add temp_dict data to case_list\n",
    "        if bool(temp_dict) == True:\n",
    "            #Add list info to temp_dict\n",
    "            temp_dict['Attorney'] = attorney_names\n",
    "            temp_dict['First Offense'] = offense_list\n",
    "            temp_dict['ST RPT Column'] = st_rpt_list\n",
    "            \n",
    "            #Add temp dict data to case_list\n",
    "            case_list.append(temp_dict)\n",
    "        \n",
    "        #Reset temp_dict\n",
    "        temp_dict = {}\n",
    "        \n",
    "        #Reset lists\n",
    "        attorney_names = []\n",
    "        offense_list = []\n",
    "        st_rpt_list = []\n",
    "        \n",
    "        #Gather the cause number\n",
    "        temp_dict['Cause Number'] = line[:22].strip()\n",
    "        \n",
    "        #Gather the file date\n",
    "        temp_dict['File Date'] = line[22:34].strip()\n",
    "        \n",
    "        #Get defendant name\n",
    "        temp_dict['Defendant'] = line[34:72].strip()\n",
    "        \n",
    "        #Get court\n",
    "        temp_dict['Court'] = line[72:79].strip()\n",
    "        \n",
    "        #Get docket date\n",
    "        temp_dict['Docket Date'] = line[79:89].strip()\n",
    "        \n",
    "        #Get outstanding warrants\n",
    "        temp_dict['Outstanding Warrants'] = line[89:].strip()\n",
    "        \n",
    "        #End of line, so move to next one\n",
    "    \n",
    "    else:\n",
    "        #Get attorney name\n",
    "        attorney_name = line[:35].strip()\n",
    "        \n",
    "        #Check if attorney_name is all whitesapace. If not, strip it and add to names list\n",
    "        #Also check that the string is not empty\n",
    "        if attorney_name.isspace() == False and len(attorney_name) > 0:\n",
    "            attorney_names.append(attorney_name.strip())\n",
    "        \n",
    "        #Get first offense\n",
    "        offense = line[35:74].strip()\n",
    "        \n",
    "        #Check if offense is all whitesapace. If not, strip it and add to names list\n",
    "        #Also check that the string is not empty\n",
    "        if offense.isspace() == False and len(offense) > 0:\n",
    "            offense_list.append(offense.strip())\n",
    "        \n",
    "        #Get ST RPT Column\n",
    "        st_rpt = line[74:].strip()\n",
    "        \n",
    "        #Check if st_rpt is all whitesapace. If not, strip it and add to names list\n",
    "        #Also check that the string is not empty\n",
    "        if st_rpt.isspace() == False and len(st_rpt) > 0:\n",
    "            st_rpt_list.append(st_rpt.strip())\n",
    "        \n",
    "        #End of line\n",
    "        \n",
    "#Check that the last case was added to the list\n",
    "#If not, add it\n",
    "#Add list info to temp_dict\n",
    "temp_dict['Attorney'] = attorney_names\n",
    "temp_dict['First Offense'] = offense_list\n",
    "temp_dict['ST RPT Column'] = st_rpt_list\n",
    "\n",
    "#Add temp dict data to case_list\n",
    "case_list.append(temp_dict)"
   ]
  },
  {
   "cell_type": "code",
   "execution_count": 37,
   "id": "3decb48c",
   "metadata": {},
   "outputs": [
    {
     "data": {
      "text/plain": [
       "'22-11-03963-ZCR       11/09/2022  JIMENEZ, VICTOR HUGO                  293    07/12/2023                      '"
      ]
     },
     "execution_count": 37,
     "metadata": {},
     "output_type": "execute_result"
    }
   ],
   "source": [
    "cases[-2]"
   ]
  },
  {
   "cell_type": "code",
   "execution_count": 39,
   "id": "704d24fa",
   "metadata": {},
   "outputs": [
    {
     "data": {
      "text/plain": [
       "[{'Cause Number': '96-04-02608-ZCR',\n",
       "  'File Date': '04/19/1996',\n",
       "  'Defendant': 'POMPA-CONTRERAS, JESUS',\n",
       "  'Court': '293',\n",
       "  'Docket Date': '07/12/2023',\n",
       "  'Outstanding Warrants': '',\n",
       "  'Attorney': [],\n",
       "  'First Offense': ['AGG ROBBERY'],\n",
       "  'ST RPT Column': ['AGGRAVATED ROBBERY OR ROBBERY']},\n",
       " {'Cause Number': '07-04-03066-ZCR',\n",
       "  'File Date': '04/30/2007',\n",
       "  'Defendant': 'HERRERA, JOSE NICOLAS',\n",
       "  'Court': '293',\n",
       "  'Docket Date': '',\n",
       "  'Outstanding Warrants': '',\n",
       "  'Attorney': ['PADILLA, ALFREDO Z.'],\n",
       "  'First Offense': ['INDECENCY W/CHILD SEXUAL CONTACT'],\n",
       "  'ST RPT Column': ['INDECENCY WITH OR SEXUAL ASSAULT OF A CHILD']},\n",
       " {'Cause Number': '09-02-03164-ZCR',\n",
       "  'File Date': '03/04/2009',\n",
       "  'Defendant': 'MIRABAL, JOSE LUIS',\n",
       "  'Court': '293',\n",
       "  'Docket Date': '12/01/2023',\n",
       "  'Outstanding Warrants': '',\n",
       "  'Attorney': [],\n",
       "  'First Offense': ['POSS MARIJ >2,000LBS'],\n",
       "  'ST RPT Column': ['DRUG POSSESSION']},\n",
       " {'Cause Number': '09-02-03170-ZCR',\n",
       "  'File Date': '03/05/2009',\n",
       "  'Defendant': 'GONZALEZ, GISEL ALEJANDRA',\n",
       "  'Court': '293',\n",
       "  'Docket Date': '12/01/2023',\n",
       "  'Outstanding Warrants': '',\n",
       "  'Attorney': [],\n",
       "  'First Offense': ['POSS MARIJ <2OZ'],\n",
       "  'ST RPT Column': ['ALL MISDEMEANORS']},\n",
       " {'Cause Number': '03-12-02906-ZCR',\n",
       "  'File Date': '12/30/2009',\n",
       "  'Defendant': 'PUENTE, LISA MARIE',\n",
       "  'Court': '293',\n",
       "  'Docket Date': '07/12/2023',\n",
       "  'Outstanding Warrants': '',\n",
       "  'Attorney': [],\n",
       "  'First Offense': ['BURGLARY OF HABITATION'],\n",
       "  'ST RPT Column': ['BURGLARY']},\n",
       " {'Cause Number': '04-06-02918-ZCR',\n",
       "  'File Date': '01/26/2010',\n",
       "  'Defendant': 'RIOS, OSVALDO',\n",
       "  'Court': '293',\n",
       "  'Docket Date': '',\n",
       "  'Outstanding Warrants': '',\n",
       "  'Attorney': [],\n",
       "  'First Offense': ['BURGLARY OF BUILDING'],\n",
       "  'ST RPT Column': ['BURGLARY']},\n",
       " {'Cause Number': '04-06-02920-ZCR',\n",
       "  'File Date': '01/29/2010',\n",
       "  'Defendant': 'RIOS, OSVALDO',\n",
       "  'Court': '293',\n",
       "  'Docket Date': '',\n",
       "  'Outstanding Warrants': '',\n",
       "  'Attorney': ['BAGLEY, MICHAEL J.'],\n",
       "  'First Offense': ['BURGLARY OF BUILDING'],\n",
       "  'ST RPT Column': ['BURGLARY']},\n",
       " {'Cause Number': '15-03-03456-ZCR',\n",
       "  'File Date': '03/25/2015',\n",
       "  'Defendant': 'MONTANEZ, ROSALLINDA',\n",
       "  'Court': '293',\n",
       "  'Docket Date': '',\n",
       "  'Outstanding Warrants': '',\n",
       "  'Attorney': [],\n",
       "  'First Offense': ['EVADING ARREST DET W/VEH'],\n",
       "  'ST RPT Column': ['OTHER FELONIES']},\n",
       " {'Cause Number': '16-04-03622-ZCR',\n",
       "  'File Date': '04/22/2016',\n",
       "  'Defendant': 'JIMENEZ, VICTOR HUGO',\n",
       "  'Court': '293',\n",
       "  'Docket Date': '08/01/2023',\n",
       "  'Outstanding Warrants': '',\n",
       "  'Attorney': ['TORRES, GREGORY D.'],\n",
       "  'First Offense': ['SEXUAL ASSAULT'],\n",
       "  'ST RPT Column': ['SEXUAL ASSAULT OF AN ADULT']},\n",
       " {'Cause Number': '16-04-03623-ZCR',\n",
       "  'File Date': '04/22/2016',\n",
       "  'Defendant': 'JIMENEZ, VICTOR HUGO',\n",
       "  'Court': '293',\n",
       "  'Docket Date': '08/01/2023',\n",
       "  'Outstanding Warrants': '',\n",
       "  'Attorney': ['TORRES, GREGORY D.'],\n",
       "  'First Offense': ['AGG SEXUAL ASSAULT'],\n",
       "  'ST RPT Column': ['SEXUAL ASSAULT OF AN ADULT']},\n",
       " {'Cause Number': '16-04-03624-ZCR',\n",
       "  'File Date': '04/22/2016',\n",
       "  'Defendant': 'JIMENEZ, VICTOR HUGO',\n",
       "  'Court': '293',\n",
       "  'Docket Date': '08/01/2023',\n",
       "  'Outstanding Warrants': '',\n",
       "  'Attorney': ['TORRES, GREGORY D.'],\n",
       "  'First Offense': ['BURGLARY HABITATION INTEND OTHER', 'FELONY'],\n",
       "  'ST RPT Column': ['BURGLARY']},\n",
       " {'Cause Number': '17-09-03704-ZCR',\n",
       "  'File Date': '09/14/2017',\n",
       "  'Defendant': 'RAMIREZ, MARCO',\n",
       "  'Court': '293',\n",
       "  'Docket Date': '',\n",
       "  'Outstanding Warrants': '',\n",
       "  'Attorney': [],\n",
       "  'First Offense': ['THEFT PROP >=$2,500<$30K'],\n",
       "  'ST RPT Column': ['THEFT']},\n",
       " {'Cause Number': '17-09-03700-ZCR',\n",
       "  'File Date': '09/17/2017',\n",
       "  'Defendant': 'REYES ROSALES, RAMIRO',\n",
       "  'Court': '293',\n",
       "  'Docket Date': '',\n",
       "  'Outstanding Warrants': '',\n",
       "  'Attorney': [],\n",
       "  'First Offense': ['BURGLARY OF BUILDING'],\n",
       "  'ST RPT Column': ['BURGLARY']},\n",
       " {'Cause Number': '19-07-03808-ZCR',\n",
       "  'File Date': '07/15/2019',\n",
       "  'Defendant': 'MORENO, OSEAS ALBERTO',\n",
       "  'Court': '293',\n",
       "  'Docket Date': '07/12/2023',\n",
       "  'Outstanding Warrants': '',\n",
       "  'Attorney': [],\n",
       "  'First Offense': ['SEXUAL ASSAULT'],\n",
       "  'ST RPT Column': ['SEXUAL ASSAULT OF AN ADULT']},\n",
       " {'Cause Number': '19-08-03812-ZCR',\n",
       "  'File Date': '08/23/2019',\n",
       "  'Defendant': 'TREVINO, RICHARD MICHAEL',\n",
       "  'Court': '293',\n",
       "  'Docket Date': '07/12/2023',\n",
       "  'Outstanding Warrants': '',\n",
       "  'Attorney': [],\n",
       "  'First Offense': ['TAMPER/FABRICATE PHYSICAL EVIDENCE'],\n",
       "  'ST RPT Column': ['OTHER FELONIES']},\n",
       " {'Cause Number': '19-08-03816-ZCR',\n",
       "  'File Date': '08/23/2019',\n",
       "  'Defendant': 'TREVINO, RICHARD MICHAEL',\n",
       "  'Court': '293',\n",
       "  'Docket Date': '07/12/2023',\n",
       "  'Outstanding Warrants': '',\n",
       "  'Attorney': [],\n",
       "  'First Offense': ['AGG ASSAULT W/DEADLY WEAPON'],\n",
       "  'ST RPT Column': ['AGGRAVATED ASSAULT OR ATTEMPTED MURDER']},\n",
       " {'Cause Number': '21-01-03846-ZCR',\n",
       "  'File Date': '01/28/2021',\n",
       "  'Defendant': 'FERA, PETRA ROMONA',\n",
       "  'Court': '293',\n",
       "  'Docket Date': '08/01/2023',\n",
       "  'Outstanding Warrants': '',\n",
       "  'Attorney': [],\n",
       "  'First Offense': ['MURDER'],\n",
       "  'ST RPT Column': ['MURDER']},\n",
       " {'Cause Number': '21-01-03848-ZCR',\n",
       "  'File Date': '01/28/2021',\n",
       "  'Defendant': 'MENA, BERNABE',\n",
       "  'Court': '293',\n",
       "  'Docket Date': '12/01/2023',\n",
       "  'Outstanding Warrants': '',\n",
       "  'Attorney': [],\n",
       "  'First Offense': ['ABANDON ENDANGER CHILD', 'INT/KNOW/RECK/CRIM NEG'],\n",
       "  'ST RPT Column': ['AGGRAVATED ASSAULT OR ATTEMPTED MURDER']},\n",
       " {'Cause Number': '21-01-03849-ZCR',\n",
       "  'File Date': '01/28/2021',\n",
       "  'Defendant': 'MENA, BERNABE',\n",
       "  'Court': '293',\n",
       "  'Docket Date': '12/01/2023',\n",
       "  'Outstanding Warrants': '',\n",
       "  'Attorney': [],\n",
       "  'First Offense': ['EVADING ARREST DET W/VEH'],\n",
       "  'ST RPT Column': ['OTHER FELONIES']},\n",
       " {'Cause Number': '21-01-03854-ZCR',\n",
       "  'File Date': '01/28/2021',\n",
       "  'Defendant': 'SANCHEZ, FRANCES',\n",
       "  'Court': '293',\n",
       "  'Docket Date': '',\n",
       "  'Outstanding Warrants': '',\n",
       "  'Attorney': ['PONCE, FRANCISCO'],\n",
       "  'First Offense': ['POSS CS PG 1 >=1G<4G'],\n",
       "  'ST RPT Column': ['DRUG POSSESSION']},\n",
       " {'Cause Number': '21-01-03856-ZCR',\n",
       "  'File Date': '01/28/2021',\n",
       "  'Defendant': 'MARTINEZ, CHRISTINA CECILIA',\n",
       "  'Court': '293',\n",
       "  'Docket Date': '07/12/2023',\n",
       "  'Outstanding Warrants': '',\n",
       "  'Attorney': [],\n",
       "  'First Offense': ['POSS CS PG 1 <1G'],\n",
       "  'ST RPT Column': ['DRUG POSSESSION']},\n",
       " {'Cause Number': '21-01-03857-ZCR',\n",
       "  'File Date': '01/28/2021',\n",
       "  'Defendant': 'MARTINEZ, CHRISTINA CECILIA',\n",
       "  'Court': '293',\n",
       "  'Docket Date': '07/12/2023',\n",
       "  'Outstanding Warrants': '',\n",
       "  'Attorney': [],\n",
       "  'First Offense': ['POSS CS PG 1 <1G'],\n",
       "  'ST RPT Column': ['DRUG POSSESSION']},\n",
       " {'Cause Number': '21-01-03858-ZCR',\n",
       "  'File Date': '01/28/2021',\n",
       "  'Defendant': 'GARCIA, JUAN JAIME',\n",
       "  'Court': '293',\n",
       "  'Docket Date': '',\n",
       "  'Outstanding Warrants': '',\n",
       "  'Attorney': [],\n",
       "  'First Offense': ['POSS CS PG 2 < 1G'],\n",
       "  'ST RPT Column': ['DRUG POSSESSION']},\n",
       " {'Cause Number': '21-04-03862-ZCR',\n",
       "  'File Date': '04/01/2021',\n",
       "  'Defendant': 'CROWSEY, BRANDON IRVING',\n",
       "  'Court': '293',\n",
       "  'Docket Date': '',\n",
       "  'Outstanding Warrants': '',\n",
       "  'Attorney': [],\n",
       "  'First Offense': ['POSS CS PG 1 <1G'],\n",
       "  'ST RPT Column': ['DRUG POSSESSION']},\n",
       " {'Cause Number': '21-06-03876-ZCR',\n",
       "  'File Date': '06/20/2021',\n",
       "  'Defendant': 'PEREZ, JEANNIE',\n",
       "  'Court': '293',\n",
       "  'Docket Date': '',\n",
       "  'Outstanding Warrants': '',\n",
       "  'Attorney': [],\n",
       "  'First Offense': ['EVADING ARREST DET W/VEH'],\n",
       "  'ST RPT Column': ['OTHER FELONIES']},\n",
       " {'Cause Number': '21-08-03886-ZCR',\n",
       "  'File Date': '08/04/2021',\n",
       "  'Defendant': 'ROBLES, ROMAN HECTOR',\n",
       "  'Court': '293',\n",
       "  'Docket Date': '',\n",
       "  'Outstanding Warrants': '',\n",
       "  'Attorney': ['CASARES, ANDREA'],\n",
       "  'First Offense': ['BAIL JUMPING AND FAIL TO APPEAR', 'FELONY'],\n",
       "  'ST RPT Column': ['OTHER FELONIES']},\n",
       " {'Cause Number': '21-11-03892-ZCR',\n",
       "  'File Date': '11/18/2021',\n",
       "  'Defendant': 'MITCHELL, KARLA RENE',\n",
       "  'Court': '293',\n",
       "  'Docket Date': '08/01/2023',\n",
       "  'Outstanding Warrants': '',\n",
       "  'Attorney': [],\n",
       "  'First Offense': ['POSS CS PG 1 <1G'],\n",
       "  'ST RPT Column': ['DRUG POSSESSION']},\n",
       " {'Cause Number': '22-03-03898-ZCR',\n",
       "  'File Date': '03/04/2022',\n",
       "  'Defendant': 'AGUERO, JOHN PEDRO',\n",
       "  'Court': '293',\n",
       "  'Docket Date': '',\n",
       "  'Outstanding Warrants': '',\n",
       "  'Attorney': [],\n",
       "  'First Offense': ['EVADING ARREST DET W/VEH'],\n",
       "  'ST RPT Column': ['OTHER FELONIES']},\n",
       " {'Cause Number': '22-03-03900-ZCR',\n",
       "  'File Date': '03/04/2022',\n",
       "  'Defendant': 'MACHADO, MARTHA CORTEZ',\n",
       "  'Court': '293',\n",
       "  'Docket Date': '07/12/2023',\n",
       "  'Outstanding Warrants': '',\n",
       "  'Attorney': [],\n",
       "  'First Offense': ['ASSAULT PUBLIC SERVANT'],\n",
       "  'ST RPT Column': ['AGGRAVATED ASSAULT OR ATTEMPTED MURDER']},\n",
       " {'Cause Number': '22-03-03904-ZCR',\n",
       "  'File Date': '03/04/2022',\n",
       "  'Defendant': 'LUCIO, GABRIELA KATHLEEN',\n",
       "  'Court': '293',\n",
       "  'Docket Date': '07/12/2023',\n",
       "  'Outstanding Warrants': '',\n",
       "  'Attorney': ['CHACON, PRISCILLA PUENTE'],\n",
       "  'First Offense': ['POSS CS PG 1 <1G'],\n",
       "  'ST RPT Column': ['DRUG POSSESSION']},\n",
       " {'Cause Number': '22-05-03910-ZCR',\n",
       "  'File Date': '05/13/2022',\n",
       "  'Defendant': 'CASTILLO III, DAVID',\n",
       "  'Court': '293',\n",
       "  'Docket Date': '10/02/2023',\n",
       "  'Outstanding Warrants': '',\n",
       "  'Attorney': [],\n",
       "  'First Offense': ['OFFICIAL OPPR:INTENT IMPAIR ACCURACY', 'PEIMS RPT'],\n",
       "  'ST RPT Column': ['OTHER FELONIES']},\n",
       " {'Cause Number': '22-08-03922-ZCR',\n",
       "  'File Date': '08/10/2022',\n",
       "  'Defendant': 'MONCADA, GEOFFREY',\n",
       "  'Court': '293',\n",
       "  'Docket Date': '07/12/2023',\n",
       "  'Outstanding Warrants': '',\n",
       "  'Attorney': ['RODRIGUEZ JR., TED'],\n",
       "  'First Offense': ['POSS CS PG 1 >=4G<200G'],\n",
       "  'ST RPT Column': ['DRUG POSSESSION']},\n",
       " {'Cause Number': '22-08-03923-ZCR',\n",
       "  'File Date': '08/10/2022',\n",
       "  'Defendant': 'MONCADA, GEOFFREY',\n",
       "  'Court': '293',\n",
       "  'Docket Date': '07/12/2023',\n",
       "  'Outstanding Warrants': '',\n",
       "  'Attorney': [],\n",
       "  'First Offense': ['EVADING ARREST DET W/VEH'],\n",
       "  'ST RPT Column': ['OTHER FELONIES']},\n",
       " {'Cause Number': '22-11-03956-ZCR',\n",
       "  'File Date': '11/09/2022',\n",
       "  'Defendant': 'SANCHEZ, PEDRO',\n",
       "  'Court': '293',\n",
       "  'Docket Date': '07/10/2023',\n",
       "  'Outstanding Warrants': '',\n",
       "  'Attorney': [],\n",
       "  'First Offense': ['EVADING ARREST DET W/VEH'],\n",
       "  'ST RPT Column': ['OTHER FELONIES']},\n",
       " {'Cause Number': '22-11-03962-ZCR',\n",
       "  'File Date': '11/09/2022',\n",
       "  'Defendant': 'JIMENEZ, VICTOR HUGO',\n",
       "  'Court': '293',\n",
       "  'Docket Date': '07/12/2023',\n",
       "  'Outstanding Warrants': '',\n",
       "  'Attorney': [],\n",
       "  'First Offense': ['AGG ASSAULT CAUSES SERIOUS BODILY INJ'],\n",
       "  'ST RPT Column': ['AGGRAVATED ASSAULT OR ATTEMPTED MURDER']},\n",
       " {'Cause Number': '22-11-03963-ZCR',\n",
       "  'File Date': '11/09/2022',\n",
       "  'Defendant': 'JIMENEZ, VICTOR HUGO',\n",
       "  'Court': '293',\n",
       "  'Docket Date': '07/12/2023',\n",
       "  'Outstanding Warrants': '',\n",
       "  'Attorney': [],\n",
       "  'First Offense': ['UNL POSS FIREARM BY FELON'],\n",
       "  'ST RPT Column': ['OTHER FELONIES']},\n",
       " {'Cause Number': '96-04-02608-ZCR',\n",
       "  'File Date': '04/19/1996',\n",
       "  'Defendant': 'POMPA-CONTRERAS, JESUS',\n",
       "  'Court': '293',\n",
       "  'Docket Date': '07/12/2023',\n",
       "  'Outstanding Warrants': '',\n",
       "  'Attorney': [],\n",
       "  'First Offense': ['AGG ROBBERY'],\n",
       "  'ST RPT Column': ['AGGRAVATED ROBBERY OR ROBBERY']},\n",
       " {'Cause Number': '07-04-03066-ZCR',\n",
       "  'File Date': '04/30/2007',\n",
       "  'Defendant': 'HERRERA, JOSE NICOLAS',\n",
       "  'Court': '293',\n",
       "  'Docket Date': '',\n",
       "  'Outstanding Warrants': '',\n",
       "  'Attorney': ['PADILLA, ALFREDO Z.'],\n",
       "  'First Offense': ['INDECENCY W/CHILD SEXUAL CONTACT'],\n",
       "  'ST RPT Column': ['INDECENCY WITH OR SEXUAL ASSAULT OF A CHILD']},\n",
       " {'Cause Number': '09-02-03164-ZCR',\n",
       "  'File Date': '03/04/2009',\n",
       "  'Defendant': 'MIRABAL, JOSE LUIS',\n",
       "  'Court': '293',\n",
       "  'Docket Date': '12/01/2023',\n",
       "  'Outstanding Warrants': '',\n",
       "  'Attorney': [],\n",
       "  'First Offense': ['POSS MARIJ >2,000LBS'],\n",
       "  'ST RPT Column': ['DRUG POSSESSION']},\n",
       " {'Cause Number': '09-02-03170-ZCR',\n",
       "  'File Date': '03/05/2009',\n",
       "  'Defendant': 'GONZALEZ, GISEL ALEJANDRA',\n",
       "  'Court': '293',\n",
       "  'Docket Date': '12/01/2023',\n",
       "  'Outstanding Warrants': '',\n",
       "  'Attorney': [],\n",
       "  'First Offense': ['POSS MARIJ <2OZ'],\n",
       "  'ST RPT Column': ['ALL MISDEMEANORS']},\n",
       " {'Cause Number': '03-12-02906-ZCR',\n",
       "  'File Date': '12/30/2009',\n",
       "  'Defendant': 'PUENTE, LISA MARIE',\n",
       "  'Court': '293',\n",
       "  'Docket Date': '07/12/2023',\n",
       "  'Outstanding Warrants': '',\n",
       "  'Attorney': [],\n",
       "  'First Offense': ['BURGLARY OF HABITATION'],\n",
       "  'ST RPT Column': ['BURGLARY']},\n",
       " {'Cause Number': '04-06-02918-ZCR',\n",
       "  'File Date': '01/26/2010',\n",
       "  'Defendant': 'RIOS, OSVALDO',\n",
       "  'Court': '293',\n",
       "  'Docket Date': '',\n",
       "  'Outstanding Warrants': '',\n",
       "  'Attorney': [],\n",
       "  'First Offense': ['BURGLARY OF BUILDING'],\n",
       "  'ST RPT Column': ['BURGLARY']},\n",
       " {'Cause Number': '04-06-02920-ZCR',\n",
       "  'File Date': '01/29/2010',\n",
       "  'Defendant': 'RIOS, OSVALDO',\n",
       "  'Court': '293',\n",
       "  'Docket Date': '',\n",
       "  'Outstanding Warrants': '',\n",
       "  'Attorney': ['BAGLEY, MICHAEL J.'],\n",
       "  'First Offense': ['BURGLARY OF BUILDING'],\n",
       "  'ST RPT Column': ['BURGLARY']},\n",
       " {'Cause Number': '15-03-03456-ZCR',\n",
       "  'File Date': '03/25/2015',\n",
       "  'Defendant': 'MONTANEZ, ROSALLINDA',\n",
       "  'Court': '293',\n",
       "  'Docket Date': '',\n",
       "  'Outstanding Warrants': '',\n",
       "  'Attorney': [],\n",
       "  'First Offense': ['EVADING ARREST DET W/VEH'],\n",
       "  'ST RPT Column': ['OTHER FELONIES']},\n",
       " {'Cause Number': '16-04-03622-ZCR',\n",
       "  'File Date': '04/22/2016',\n",
       "  'Defendant': 'JIMENEZ, VICTOR HUGO',\n",
       "  'Court': '293',\n",
       "  'Docket Date': '08/01/2023',\n",
       "  'Outstanding Warrants': '',\n",
       "  'Attorney': ['TORRES, GREGORY D.'],\n",
       "  'First Offense': ['SEXUAL ASSAULT'],\n",
       "  'ST RPT Column': ['SEXUAL ASSAULT OF AN ADULT']},\n",
       " {'Cause Number': '16-04-03623-ZCR',\n",
       "  'File Date': '04/22/2016',\n",
       "  'Defendant': 'JIMENEZ, VICTOR HUGO',\n",
       "  'Court': '293',\n",
       "  'Docket Date': '08/01/2023',\n",
       "  'Outstanding Warrants': '',\n",
       "  'Attorney': ['TORRES, GREGORY D.'],\n",
       "  'First Offense': ['AGG SEXUAL ASSAULT'],\n",
       "  'ST RPT Column': ['SEXUAL ASSAULT OF AN ADULT']},\n",
       " {'Cause Number': '16-04-03624-ZCR',\n",
       "  'File Date': '04/22/2016',\n",
       "  'Defendant': 'JIMENEZ, VICTOR HUGO',\n",
       "  'Court': '293',\n",
       "  'Docket Date': '08/01/2023',\n",
       "  'Outstanding Warrants': '',\n",
       "  'Attorney': ['TORRES, GREGORY D.'],\n",
       "  'First Offense': ['BURGLARY HABITATION INTEND OTHER', 'FELONY'],\n",
       "  'ST RPT Column': ['BURGLARY']},\n",
       " {'Cause Number': '17-09-03704-ZCR',\n",
       "  'File Date': '09/14/2017',\n",
       "  'Defendant': 'RAMIREZ, MARCO',\n",
       "  'Court': '293',\n",
       "  'Docket Date': '',\n",
       "  'Outstanding Warrants': '',\n",
       "  'Attorney': [],\n",
       "  'First Offense': ['THEFT PROP >=$2,500<$30K'],\n",
       "  'ST RPT Column': ['THEFT']},\n",
       " {'Cause Number': '17-09-03700-ZCR',\n",
       "  'File Date': '09/17/2017',\n",
       "  'Defendant': 'REYES ROSALES, RAMIRO',\n",
       "  'Court': '293',\n",
       "  'Docket Date': '',\n",
       "  'Outstanding Warrants': '',\n",
       "  'Attorney': [],\n",
       "  'First Offense': ['BURGLARY OF BUILDING'],\n",
       "  'ST RPT Column': ['BURGLARY']},\n",
       " {'Cause Number': '19-07-03808-ZCR',\n",
       "  'File Date': '07/15/2019',\n",
       "  'Defendant': 'MORENO, OSEAS ALBERTO',\n",
       "  'Court': '293',\n",
       "  'Docket Date': '07/12/2023',\n",
       "  'Outstanding Warrants': '',\n",
       "  'Attorney': [],\n",
       "  'First Offense': ['SEXUAL ASSAULT'],\n",
       "  'ST RPT Column': ['SEXUAL ASSAULT OF AN ADULT']},\n",
       " {'Cause Number': '19-08-03812-ZCR',\n",
       "  'File Date': '08/23/2019',\n",
       "  'Defendant': 'TREVINO, RICHARD MICHAEL',\n",
       "  'Court': '293',\n",
       "  'Docket Date': '07/12/2023',\n",
       "  'Outstanding Warrants': '',\n",
       "  'Attorney': [],\n",
       "  'First Offense': ['TAMPER/FABRICATE PHYSICAL EVIDENCE'],\n",
       "  'ST RPT Column': ['OTHER FELONIES']},\n",
       " {'Cause Number': '19-08-03816-ZCR',\n",
       "  'File Date': '08/23/2019',\n",
       "  'Defendant': 'TREVINO, RICHARD MICHAEL',\n",
       "  'Court': '293',\n",
       "  'Docket Date': '07/12/2023',\n",
       "  'Outstanding Warrants': '',\n",
       "  'Attorney': [],\n",
       "  'First Offense': ['AGG ASSAULT W/DEADLY WEAPON'],\n",
       "  'ST RPT Column': ['AGGRAVATED ASSAULT OR ATTEMPTED MURDER']},\n",
       " {'Cause Number': '21-01-03846-ZCR',\n",
       "  'File Date': '01/28/2021',\n",
       "  'Defendant': 'FERA, PETRA ROMONA',\n",
       "  'Court': '293',\n",
       "  'Docket Date': '08/01/2023',\n",
       "  'Outstanding Warrants': '',\n",
       "  'Attorney': [],\n",
       "  'First Offense': ['MURDER'],\n",
       "  'ST RPT Column': ['MURDER']},\n",
       " {'Cause Number': '21-01-03848-ZCR',\n",
       "  'File Date': '01/28/2021',\n",
       "  'Defendant': 'MENA, BERNABE',\n",
       "  'Court': '293',\n",
       "  'Docket Date': '12/01/2023',\n",
       "  'Outstanding Warrants': '',\n",
       "  'Attorney': [],\n",
       "  'First Offense': ['ABANDON ENDANGER CHILD', 'INT/KNOW/RECK/CRIM NEG'],\n",
       "  'ST RPT Column': ['AGGRAVATED ASSAULT OR ATTEMPTED MURDER']},\n",
       " {'Cause Number': '21-01-03849-ZCR',\n",
       "  'File Date': '01/28/2021',\n",
       "  'Defendant': 'MENA, BERNABE',\n",
       "  'Court': '293',\n",
       "  'Docket Date': '12/01/2023',\n",
       "  'Outstanding Warrants': '',\n",
       "  'Attorney': [],\n",
       "  'First Offense': ['EVADING ARREST DET W/VEH'],\n",
       "  'ST RPT Column': ['OTHER FELONIES']},\n",
       " {'Cause Number': '21-01-03854-ZCR',\n",
       "  'File Date': '01/28/2021',\n",
       "  'Defendant': 'SANCHEZ, FRANCES',\n",
       "  'Court': '293',\n",
       "  'Docket Date': '',\n",
       "  'Outstanding Warrants': '',\n",
       "  'Attorney': ['PONCE, FRANCISCO'],\n",
       "  'First Offense': ['POSS CS PG 1 >=1G<4G'],\n",
       "  'ST RPT Column': ['DRUG POSSESSION']},\n",
       " {'Cause Number': '21-01-03856-ZCR',\n",
       "  'File Date': '01/28/2021',\n",
       "  'Defendant': 'MARTINEZ, CHRISTINA CECILIA',\n",
       "  'Court': '293',\n",
       "  'Docket Date': '07/12/2023',\n",
       "  'Outstanding Warrants': '',\n",
       "  'Attorney': [],\n",
       "  'First Offense': ['POSS CS PG 1 <1G'],\n",
       "  'ST RPT Column': ['DRUG POSSESSION']},\n",
       " {'Cause Number': '21-01-03857-ZCR',\n",
       "  'File Date': '01/28/2021',\n",
       "  'Defendant': 'MARTINEZ, CHRISTINA CECILIA',\n",
       "  'Court': '293',\n",
       "  'Docket Date': '07/12/2023',\n",
       "  'Outstanding Warrants': '',\n",
       "  'Attorney': [],\n",
       "  'First Offense': ['POSS CS PG 1 <1G'],\n",
       "  'ST RPT Column': ['DRUG POSSESSION']},\n",
       " {'Cause Number': '21-01-03858-ZCR',\n",
       "  'File Date': '01/28/2021',\n",
       "  'Defendant': 'GARCIA, JUAN JAIME',\n",
       "  'Court': '293',\n",
       "  'Docket Date': '',\n",
       "  'Outstanding Warrants': '',\n",
       "  'Attorney': [],\n",
       "  'First Offense': ['POSS CS PG 2 < 1G'],\n",
       "  'ST RPT Column': ['DRUG POSSESSION']},\n",
       " {'Cause Number': '21-04-03862-ZCR',\n",
       "  'File Date': '04/01/2021',\n",
       "  'Defendant': 'CROWSEY, BRANDON IRVING',\n",
       "  'Court': '293',\n",
       "  'Docket Date': '',\n",
       "  'Outstanding Warrants': '',\n",
       "  'Attorney': [],\n",
       "  'First Offense': ['POSS CS PG 1 <1G'],\n",
       "  'ST RPT Column': ['DRUG POSSESSION']},\n",
       " {'Cause Number': '21-06-03876-ZCR',\n",
       "  'File Date': '06/20/2021',\n",
       "  'Defendant': 'PEREZ, JEANNIE',\n",
       "  'Court': '293',\n",
       "  'Docket Date': '',\n",
       "  'Outstanding Warrants': '',\n",
       "  'Attorney': [],\n",
       "  'First Offense': ['EVADING ARREST DET W/VEH'],\n",
       "  'ST RPT Column': ['OTHER FELONIES']},\n",
       " {'Cause Number': '21-08-03886-ZCR',\n",
       "  'File Date': '08/04/2021',\n",
       "  'Defendant': 'ROBLES, ROMAN HECTOR',\n",
       "  'Court': '293',\n",
       "  'Docket Date': '',\n",
       "  'Outstanding Warrants': '',\n",
       "  'Attorney': ['CASARES, ANDREA'],\n",
       "  'First Offense': ['BAIL JUMPING AND FAIL TO APPEAR', 'FELONY'],\n",
       "  'ST RPT Column': ['OTHER FELONIES']},\n",
       " {'Cause Number': '21-11-03892-ZCR',\n",
       "  'File Date': '11/18/2021',\n",
       "  'Defendant': 'MITCHELL, KARLA RENE',\n",
       "  'Court': '293',\n",
       "  'Docket Date': '08/01/2023',\n",
       "  'Outstanding Warrants': '',\n",
       "  'Attorney': [],\n",
       "  'First Offense': ['POSS CS PG 1 <1G'],\n",
       "  'ST RPT Column': ['DRUG POSSESSION']},\n",
       " {'Cause Number': '22-03-03898-ZCR',\n",
       "  'File Date': '03/04/2022',\n",
       "  'Defendant': 'AGUERO, JOHN PEDRO',\n",
       "  'Court': '293',\n",
       "  'Docket Date': '',\n",
       "  'Outstanding Warrants': '',\n",
       "  'Attorney': [],\n",
       "  'First Offense': ['EVADING ARREST DET W/VEH'],\n",
       "  'ST RPT Column': ['OTHER FELONIES']},\n",
       " {'Cause Number': '22-03-03900-ZCR',\n",
       "  'File Date': '03/04/2022',\n",
       "  'Defendant': 'MACHADO, MARTHA CORTEZ',\n",
       "  'Court': '293',\n",
       "  'Docket Date': '07/12/2023',\n",
       "  'Outstanding Warrants': '',\n",
       "  'Attorney': [],\n",
       "  'First Offense': ['ASSAULT PUBLIC SERVANT'],\n",
       "  'ST RPT Column': ['AGGRAVATED ASSAULT OR ATTEMPTED MURDER']},\n",
       " {'Cause Number': '22-03-03904-ZCR',\n",
       "  'File Date': '03/04/2022',\n",
       "  'Defendant': 'LUCIO, GABRIELA KATHLEEN',\n",
       "  'Court': '293',\n",
       "  'Docket Date': '07/12/2023',\n",
       "  'Outstanding Warrants': '',\n",
       "  'Attorney': ['CHACON, PRISCILLA PUENTE'],\n",
       "  'First Offense': ['POSS CS PG 1 <1G'],\n",
       "  'ST RPT Column': ['DRUG POSSESSION']},\n",
       " {'Cause Number': '22-05-03910-ZCR',\n",
       "  'File Date': '05/13/2022',\n",
       "  'Defendant': 'CASTILLO III, DAVID',\n",
       "  'Court': '293',\n",
       "  'Docket Date': '10/02/2023',\n",
       "  'Outstanding Warrants': '',\n",
       "  'Attorney': [],\n",
       "  'First Offense': ['OFFICIAL OPPR:INTENT IMPAIR ACCURACY', 'PEIMS RPT'],\n",
       "  'ST RPT Column': ['OTHER FELONIES']},\n",
       " {'Cause Number': '22-08-03922-ZCR',\n",
       "  'File Date': '08/10/2022',\n",
       "  'Defendant': 'MONCADA, GEOFFREY',\n",
       "  'Court': '293',\n",
       "  'Docket Date': '07/12/2023',\n",
       "  'Outstanding Warrants': '',\n",
       "  'Attorney': ['RODRIGUEZ JR., TED'],\n",
       "  'First Offense': ['POSS CS PG 1 >=4G<200G'],\n",
       "  'ST RPT Column': ['DRUG POSSESSION']},\n",
       " {'Cause Number': '22-08-03923-ZCR',\n",
       "  'File Date': '08/10/2022',\n",
       "  'Defendant': 'MONCADA, GEOFFREY',\n",
       "  'Court': '293',\n",
       "  'Docket Date': '07/12/2023',\n",
       "  'Outstanding Warrants': '',\n",
       "  'Attorney': [],\n",
       "  'First Offense': ['EVADING ARREST DET W/VEH'],\n",
       "  'ST RPT Column': ['OTHER FELONIES']},\n",
       " {'Cause Number': '22-11-03956-ZCR',\n",
       "  'File Date': '11/09/2022',\n",
       "  'Defendant': 'SANCHEZ, PEDRO',\n",
       "  'Court': '293',\n",
       "  'Docket Date': '07/10/2023',\n",
       "  'Outstanding Warrants': '',\n",
       "  'Attorney': [],\n",
       "  'First Offense': ['EVADING ARREST DET W/VEH'],\n",
       "  'ST RPT Column': ['OTHER FELONIES']},\n",
       " {'Cause Number': '22-11-03962-ZCR',\n",
       "  'File Date': '11/09/2022',\n",
       "  'Defendant': 'JIMENEZ, VICTOR HUGO',\n",
       "  'Court': '293',\n",
       "  'Docket Date': '07/12/2023',\n",
       "  'Outstanding Warrants': '',\n",
       "  'Attorney': [],\n",
       "  'First Offense': ['AGG ASSAULT CAUSES SERIOUS BODILY INJ'],\n",
       "  'ST RPT Column': ['AGGRAVATED ASSAULT OR ATTEMPTED MURDER']},\n",
       " {'Cause Number': '22-11-03963-ZCR',\n",
       "  'File Date': '11/09/2022',\n",
       "  'Defendant': 'JIMENEZ, VICTOR HUGO',\n",
       "  'Court': '293',\n",
       "  'Docket Date': '07/12/2023',\n",
       "  'Outstanding Warrants': '',\n",
       "  'Attorney': [],\n",
       "  'First Offense': ['UNL POSS FIREARM BY FELON'],\n",
       "  'ST RPT Column': ['OTHER FELONIES']}]"
      ]
     },
     "execution_count": 39,
     "metadata": {},
     "output_type": "execute_result"
    }
   ],
   "source": [
    "case_list"
   ]
  },
  {
   "cell_type": "code",
   "execution_count": 40,
   "id": "830cefa0",
   "metadata": {},
   "outputs": [],
   "source": [
    "#Create dataframe\n",
    "df = pd.DataFrame(case_list)"
   ]
  },
  {
   "cell_type": "code",
   "execution_count": 41,
   "id": "c514cd59",
   "metadata": {
    "jupyter": {
     "outputs_hidden": true
    },
    "scrolled": false,
    "tags": []
   },
   "outputs": [
    {
     "data": {
      "text/html": [
       "<div>\n",
       "<style scoped>\n",
       "    .dataframe tbody tr th:only-of-type {\n",
       "        vertical-align: middle;\n",
       "    }\n",
       "\n",
       "    .dataframe tbody tr th {\n",
       "        vertical-align: top;\n",
       "    }\n",
       "\n",
       "    .dataframe thead th {\n",
       "        text-align: right;\n",
       "    }\n",
       "</style>\n",
       "<table border=\"1\" class=\"dataframe\">\n",
       "  <thead>\n",
       "    <tr style=\"text-align: right;\">\n",
       "      <th></th>\n",
       "      <th>Cause Number</th>\n",
       "      <th>File Date</th>\n",
       "      <th>Defendant</th>\n",
       "      <th>Court</th>\n",
       "      <th>Docket Date</th>\n",
       "      <th>Outstanding Warrants</th>\n",
       "      <th>Attorney</th>\n",
       "      <th>First Offense</th>\n",
       "      <th>ST RPT Column</th>\n",
       "    </tr>\n",
       "  </thead>\n",
       "  <tbody>\n",
       "    <tr>\n",
       "      <th>0</th>\n",
       "      <td>96-04-02608-ZCR</td>\n",
       "      <td>04/19/1996</td>\n",
       "      <td>POMPA-CONTRERAS, JESUS</td>\n",
       "      <td>293</td>\n",
       "      <td>07/12/2023</td>\n",
       "      <td></td>\n",
       "      <td>[]</td>\n",
       "      <td>[AGG ROBBERY]</td>\n",
       "      <td>[AGGRAVATED ROBBERY OR ROBBERY]</td>\n",
       "    </tr>\n",
       "    <tr>\n",
       "      <th>1</th>\n",
       "      <td>07-04-03066-ZCR</td>\n",
       "      <td>04/30/2007</td>\n",
       "      <td>HERRERA, JOSE NICOLAS</td>\n",
       "      <td>293</td>\n",
       "      <td></td>\n",
       "      <td></td>\n",
       "      <td>[PADILLA, ALFREDO Z.]</td>\n",
       "      <td>[INDECENCY W/CHILD SEXUAL CONTACT]</td>\n",
       "      <td>[INDECENCY WITH OR SEXUAL ASSAULT OF A CHILD]</td>\n",
       "    </tr>\n",
       "    <tr>\n",
       "      <th>2</th>\n",
       "      <td>09-02-03164-ZCR</td>\n",
       "      <td>03/04/2009</td>\n",
       "      <td>MIRABAL, JOSE LUIS</td>\n",
       "      <td>293</td>\n",
       "      <td>12/01/2023</td>\n",
       "      <td></td>\n",
       "      <td>[]</td>\n",
       "      <td>[POSS MARIJ &gt;2,000LBS]</td>\n",
       "      <td>[DRUG POSSESSION]</td>\n",
       "    </tr>\n",
       "    <tr>\n",
       "      <th>3</th>\n",
       "      <td>09-02-03170-ZCR</td>\n",
       "      <td>03/05/2009</td>\n",
       "      <td>GONZALEZ, GISEL ALEJANDRA</td>\n",
       "      <td>293</td>\n",
       "      <td>12/01/2023</td>\n",
       "      <td></td>\n",
       "      <td>[]</td>\n",
       "      <td>[POSS MARIJ &lt;2OZ]</td>\n",
       "      <td>[ALL MISDEMEANORS]</td>\n",
       "    </tr>\n",
       "    <tr>\n",
       "      <th>4</th>\n",
       "      <td>03-12-02906-ZCR</td>\n",
       "      <td>12/30/2009</td>\n",
       "      <td>PUENTE, LISA MARIE</td>\n",
       "      <td>293</td>\n",
       "      <td>07/12/2023</td>\n",
       "      <td></td>\n",
       "      <td>[]</td>\n",
       "      <td>[BURGLARY OF HABITATION]</td>\n",
       "      <td>[BURGLARY]</td>\n",
       "    </tr>\n",
       "    <tr>\n",
       "      <th>...</th>\n",
       "      <td>...</td>\n",
       "      <td>...</td>\n",
       "      <td>...</td>\n",
       "      <td>...</td>\n",
       "      <td>...</td>\n",
       "      <td>...</td>\n",
       "      <td>...</td>\n",
       "      <td>...</td>\n",
       "      <td>...</td>\n",
       "    </tr>\n",
       "    <tr>\n",
       "      <th>67</th>\n",
       "      <td>22-08-03922-ZCR</td>\n",
       "      <td>08/10/2022</td>\n",
       "      <td>MONCADA, GEOFFREY</td>\n",
       "      <td>293</td>\n",
       "      <td>07/12/2023</td>\n",
       "      <td></td>\n",
       "      <td>[RODRIGUEZ JR., TED]</td>\n",
       "      <td>[POSS CS PG 1 &gt;=4G&lt;200G]</td>\n",
       "      <td>[DRUG POSSESSION]</td>\n",
       "    </tr>\n",
       "    <tr>\n",
       "      <th>68</th>\n",
       "      <td>22-08-03923-ZCR</td>\n",
       "      <td>08/10/2022</td>\n",
       "      <td>MONCADA, GEOFFREY</td>\n",
       "      <td>293</td>\n",
       "      <td>07/12/2023</td>\n",
       "      <td></td>\n",
       "      <td>[]</td>\n",
       "      <td>[EVADING ARREST DET W/VEH]</td>\n",
       "      <td>[OTHER FELONIES]</td>\n",
       "    </tr>\n",
       "    <tr>\n",
       "      <th>69</th>\n",
       "      <td>22-11-03956-ZCR</td>\n",
       "      <td>11/09/2022</td>\n",
       "      <td>SANCHEZ, PEDRO</td>\n",
       "      <td>293</td>\n",
       "      <td>07/10/2023</td>\n",
       "      <td></td>\n",
       "      <td>[]</td>\n",
       "      <td>[EVADING ARREST DET W/VEH]</td>\n",
       "      <td>[OTHER FELONIES]</td>\n",
       "    </tr>\n",
       "    <tr>\n",
       "      <th>70</th>\n",
       "      <td>22-11-03962-ZCR</td>\n",
       "      <td>11/09/2022</td>\n",
       "      <td>JIMENEZ, VICTOR HUGO</td>\n",
       "      <td>293</td>\n",
       "      <td>07/12/2023</td>\n",
       "      <td></td>\n",
       "      <td>[]</td>\n",
       "      <td>[AGG ASSAULT CAUSES SERIOUS BODILY INJ]</td>\n",
       "      <td>[AGGRAVATED ASSAULT OR ATTEMPTED MURDER]</td>\n",
       "    </tr>\n",
       "    <tr>\n",
       "      <th>71</th>\n",
       "      <td>22-11-03963-ZCR</td>\n",
       "      <td>11/09/2022</td>\n",
       "      <td>JIMENEZ, VICTOR HUGO</td>\n",
       "      <td>293</td>\n",
       "      <td>07/12/2023</td>\n",
       "      <td></td>\n",
       "      <td>[]</td>\n",
       "      <td>[UNL POSS FIREARM BY FELON]</td>\n",
       "      <td>[OTHER FELONIES]</td>\n",
       "    </tr>\n",
       "  </tbody>\n",
       "</table>\n",
       "<p>72 rows × 9 columns</p>\n",
       "</div>"
      ],
      "text/plain": [
       "       Cause Number   File Date                  Defendant Court Docket Date  \\\n",
       "0   96-04-02608-ZCR  04/19/1996     POMPA-CONTRERAS, JESUS   293  07/12/2023   \n",
       "1   07-04-03066-ZCR  04/30/2007      HERRERA, JOSE NICOLAS   293               \n",
       "2   09-02-03164-ZCR  03/04/2009         MIRABAL, JOSE LUIS   293  12/01/2023   \n",
       "3   09-02-03170-ZCR  03/05/2009  GONZALEZ, GISEL ALEJANDRA   293  12/01/2023   \n",
       "4   03-12-02906-ZCR  12/30/2009         PUENTE, LISA MARIE   293  07/12/2023   \n",
       "..              ...         ...                        ...   ...         ...   \n",
       "67  22-08-03922-ZCR  08/10/2022          MONCADA, GEOFFREY   293  07/12/2023   \n",
       "68  22-08-03923-ZCR  08/10/2022          MONCADA, GEOFFREY   293  07/12/2023   \n",
       "69  22-11-03956-ZCR  11/09/2022             SANCHEZ, PEDRO   293  07/10/2023   \n",
       "70  22-11-03962-ZCR  11/09/2022       JIMENEZ, VICTOR HUGO   293  07/12/2023   \n",
       "71  22-11-03963-ZCR  11/09/2022       JIMENEZ, VICTOR HUGO   293  07/12/2023   \n",
       "\n",
       "   Outstanding Warrants               Attorney  \\\n",
       "0                                           []   \n",
       "1                        [PADILLA, ALFREDO Z.]   \n",
       "2                                           []   \n",
       "3                                           []   \n",
       "4                                           []   \n",
       "..                  ...                    ...   \n",
       "67                        [RODRIGUEZ JR., TED]   \n",
       "68                                          []   \n",
       "69                                          []   \n",
       "70                                          []   \n",
       "71                                          []   \n",
       "\n",
       "                              First Offense  \\\n",
       "0                             [AGG ROBBERY]   \n",
       "1        [INDECENCY W/CHILD SEXUAL CONTACT]   \n",
       "2                    [POSS MARIJ >2,000LBS]   \n",
       "3                         [POSS MARIJ <2OZ]   \n",
       "4                  [BURGLARY OF HABITATION]   \n",
       "..                                      ...   \n",
       "67                 [POSS CS PG 1 >=4G<200G]   \n",
       "68               [EVADING ARREST DET W/VEH]   \n",
       "69               [EVADING ARREST DET W/VEH]   \n",
       "70  [AGG ASSAULT CAUSES SERIOUS BODILY INJ]   \n",
       "71              [UNL POSS FIREARM BY FELON]   \n",
       "\n",
       "                                    ST RPT Column  \n",
       "0                 [AGGRAVATED ROBBERY OR ROBBERY]  \n",
       "1   [INDECENCY WITH OR SEXUAL ASSAULT OF A CHILD]  \n",
       "2                               [DRUG POSSESSION]  \n",
       "3                              [ALL MISDEMEANORS]  \n",
       "4                                      [BURGLARY]  \n",
       "..                                            ...  \n",
       "67                              [DRUG POSSESSION]  \n",
       "68                               [OTHER FELONIES]  \n",
       "69                               [OTHER FELONIES]  \n",
       "70       [AGGRAVATED ASSAULT OR ATTEMPTED MURDER]  \n",
       "71                               [OTHER FELONIES]  \n",
       "\n",
       "[72 rows x 9 columns]"
      ]
     },
     "execution_count": 41,
     "metadata": {},
     "output_type": "execute_result"
    }
   ],
   "source": [
    "df"
   ]
  },
  {
   "cell_type": "markdown",
   "id": "5f1f163d",
   "metadata": {},
   "source": [
    "__Remove MTR Case Counts__\n",
    "\n",
    "The bottom of the report has a count of all cases and includes more info on MTR-A cases.\n",
    "\n",
    "We don't need it, so use regex to remove it."
   ]
  },
  {
   "cell_type": "code",
   "execution_count": 11,
   "id": "a6214b18",
   "metadata": {},
   "outputs": [],
   "source": [
    "#Read in the whole document\n",
    "\n",
    "#Set up resource manager to handle pdf content. text, images, etc.\n",
    "resource_manager = PDFResourceManager()\n",
    "\n",
    "#Used to display text\n",
    "fake_file_handle = io.StringIO()\n",
    "\n",
    "#Set up converter\n",
    "converter = TextConverter(resource_manager, fake_file_handle, laparams=LAParams())\n",
    "\n",
    "#Set up page interpreter\n",
    "page_interpreter = PDFPageInterpreter(resource_manager, converter)\n",
    "\n",
    "with open(pdf_path, 'rb') as fh:\n",
    "\n",
    "    for page_num, page in enumerate(PDFPage.get_pages(fh, caching=True, check_extractable=True)):\n",
    "        #Process the current page\n",
    "        page_interpreter.process_page(page)\n",
    "\n",
    "    #Save the current page's text to a variable\n",
    "    text = fake_file_handle.getvalue()\n",
    "\n",
    "# close open handles\n",
    "converter.close()\n",
    "fake_file_handle.close()\n",
    "\n",
    "#print(text)"
   ]
  },
  {
   "cell_type": "code",
   "execution_count": 14,
   "id": "1057709f",
   "metadata": {},
   "outputs": [],
   "source": [
    "#Remove the header\n",
    "header = text[:500]\n",
    "body = text[500:]"
   ]
  },
  {
   "cell_type": "code",
   "execution_count": 15,
   "id": "c72c1ba2",
   "metadata": {},
   "outputs": [
    {
     "data": {
      "text/plain": [
       "\"                                     CRIMINAL DETAILED PENDING CASES REPORT - 06/07/2023\\n                                          ZAVALA COUNTY - DISTRICT CLERK - OLS COURT\\n                              FILED PENDING CASES AS OF 06/05/2023 - SORTED BY FILE DATE - PAGE 1\\n\\nCAUSE #                  FILE DT  DEFENDANT'S NAME                      COURT   DOCKET DT  OUTSTANDING WARRANTS\\n   ACTIVE ATTORNEY/S               1ST OFFENSE                            ST RPT COLUMN                            \""
      ]
     },
     "execution_count": 15,
     "metadata": {},
     "output_type": "execute_result"
    }
   ],
   "source": [
    "header"
   ]
  },
  {
   "cell_type": "code",
   "execution_count": 16,
   "id": "f39b3978",
   "metadata": {},
   "outputs": [
    {
     "data": {
      "text/plain": [
       "'           \\n\\n23-05-04063-ZCRAJA    05/23/0203  THOMPSON, TAREZ CHARLES               OLS                                    \\n                                   SMUGGLING OF PERSONS: UNDER 18 YOA     OTHER FELONIES                                      \\n23-05-04065-ZCRAJA    05/23/2021  FLORES, JOE ANTHONY                   OLS                                    \\n                                   SMUGGLING OF PERSONS: FIREARM          OTHER FELONIES                                      \\n22-05-03911-ZCR       05/13/2022  TORRES, BRYAN OMAR ESCOBAR            OLS                                    \\n                                   SMUGGLING OF PERSONS                   OTHER FELONIES                                      \\n22-05-03912-ZCR       05/13/2022  GONZALEZ ESCOBAR, MARIA T.            OLS                                    \\n                                   SMUGGLING OF PERSONS                   OTHER FELONIES                                      \\n22-05-03913-ZCR       05/13/2022  LOPEZ, DANIEL PEREZ                   OLS                                    \\n                                   SMUGGLING OF PERSONS                   OTHER FELONIES                                      \\n22-05-03914-ZCR       05/13/2022  CONTRERAS DE JESUS, JOSE              OLS                                    \\n   PONCE, FRANCISCO                SMUGGLING OF PERSONS                   OTHER FELONIES                                      \\n22-05-03915-ZCR       05/13/2022  ALLEN, CHRISTOPHER DESHAWN            OLS                                    \\n                                   SMUGGLING OF PERSONS                   OTHER FELONIES                                      \\n22-05-03917-ZCR       05/13/2022  ANORVE, JASON QUINTERO                OLS                                    \\n                                   SMUGGLING OF PERSONS                   OTHER FELONIES                                      \\n22-08-03924-ZCRAJA    08/10/2022  MOTEN III, BOBBY EUGENE               OLS                                    \\n   RODRIGUEZ JR., TED              SMUGGLING OF PERSONS                   OTHER FELONIES                                      \\n22-08-03925-ZCRAJA    08/10/2022  MOTEN III, BOBBY EUGENE               OLS                                    \\n                                   EVADING ARREST DET W/VEH               OTHER FELONIES                                      \\n22-08-03926-ZCRAJA    08/10/2022  CRUZ, CARLOS MANUEL                   OLS                                    \\n   RODRIGUEZ JR., TED              SMUGGLING OF PERSONS                   OTHER FELONIES                                      \\n22-08-03930-ZCRAJA    08/10/2022  HARRIS, BURNARSHA ASHUNAE             OLS                                    \\n                                   SMUGGLING OF PERSONS                   OTHER FELONIES                                      \\n22-08-03932-ZCRAJA    08/10/2022  WILKINS, ERIN DORAY                   OLS                                    \\n                                   SMUGGLING OF PERSONS                   OTHER FELONIES                                      \\n22-08-03933-ZCRAJA    08/10/2022  CHAIREZ, JOSE ALFREDO                 OLS                                    \\n                                   SMUGGLING OF PERSONS                   OTHER FELONIES                                      \\n22-08-03936-ZCRAJA    08/10/2022  WILLIAMS, DAVID EDWARD                OLS                                    \\n                                   SMUGGLING OF PERSONS: UNDER 18 YOA     OTHER FELONIES                                      \\n22-08-03938-ZCRAJA    08/10/2022  NAVA, MARCOS GERARDO                  OLS                                    \\n                                   SMUGGLING OF PERSONS                   OTHER FELONIES                                      \\n22-08-03939-ZCRAJA    08/10/2022  MOSLEY, CORY NICHOLS                  OLS                                    \\n                                   SMUGGLING OF PERSONS                   OTHER FELONIES                                      \\n22-08-03940-ZCRAJA    08/10/2022  ALVARADO, PATRICIA FELIZA             OLS                                    \\n                                   SMUGGLING OF PERSONS                   OTHER FELONIES                                      \\n22-08-03942-ZCRAJA    08/10/2022  ARREDONDO JR, RAMON                   OLS                                    \\n                                   SMUGGLING OF PERSONS                   OTHER FELONIES                                      \\n22-08-03943-ZCR       08/10/2022  MORATAYA, ANGEL HERNANDEZ             OLS                                    \\n                                   SMUGGLING OF PERSONS                   OTHER FELONIES                                      \\n22-08-03944-ZCRAJA    08/10/2022  RAMIREZ, DAMIAN ROY                   OLS                                    \\n                                   SMUGGLING OF PERSONS                   OTHER FELONIES                                      \\n22-08-03945-ZCRAJA    08/10/2022  CHERNOSKY, DONNA RENNEE               OLS                                    \\n                                   SMUGGLING OF PERSONS                   OTHER FELONIES                                      \\n22-08-03946-ZCRAJA    08/10/2022  AGUIRRE JR, DAVID                     OLS                                    \\n   PONCE, FRANCISCO                SMUGGLING OF PERSONS                   OTHER FELONIES                                      \\n22-08-03948-ZCRAJA    08/10/2022  ANDRADE, KARINA M                     OLS                                    \\n                                   SMUGGLING OF PERSONS                   OTHER FELONIES                                      \\n22-08-03949-ZCRAJA    08/10/2022  ANDRADE, KARINA M                     OLS                                    \\n                                   EVADING ARREST DET W/VEH               OTHER FELONIES                                      \\n22-08-03950-ZCRAJA    08/10/2022  MOORE JR, PAUL JOHN                   OLS                                    \\n                                   SMUGGLING OF PERSONS                   OTHER FELONIES                                      \\n22-08-03951-ZCR       08/10/2022  PASTRANA, JAIME MATUTE                OLS                                    \\n                                   SMUGGLING OF PERSONS                   OTHER FELONIES                                      \\n22-08-03952-ZCRAJA    08/10/2022  LOPEZ, AUSTIN RYAN                    OLS                                    \\n                                   SMUGGLING OF PERSONS                   OTHER FELONIES                                      \\n22-08-03928-ZCRAJA    08/29/2022  RAMIREZ, NAHTANIEL XAVIER             OLS                                    \\n                                   SMUGGLING OF PERSONS                   OTHER FELONIES                                      \\n22-11-03964-ZCRAJA    11/09/2022  JIMENEZ, VICTOR HUGO                  OLS                                    \\n   PONCE, FRANCISCO                SMUGGLING OF PERSONS: PECUNIARY        OTHER FELONIES                                      \\n                                   BENEFIT                                                                                    \\n22-11-03965-ZCR       11/09/2022  MIRELES, BLAS CRLOS                   OLS                                    \\n                                   SMUGGLING OF PERSONS: LIKELIHOOD SBI   OTHER FELONIES                                      \\n                                   OR DEATH                                                                                   \\n23-02-03975-ZCRAJA    02/16/2023  MENDOZA III, VALENTIN                 OLS                                    \\n                                   SMUGGLING OF PERSONS                   OTHER FELONIES                                      \\n23-02-03976-ZCRAJA    02/16/2023  RINA, DULCE RUBY                      OLS                                    \\n                                   SMUGGLING OF PERSONS                   OTHER FELONIES                                      \\n23-02-03977-ZCRAJA    02/16/2023  MURILLO, MARIANO DAVILA               OLS                                    \\n                                   SMUGGLING OF PERSONS                   OTHER FELONIES                                      \\n23-02-03978-ZCRAJA    02/16/2023  ANDUJAR, JULIO CESAR NATER            OLS                                    \\n                                   SMUGGLING OF PERSONS                   OTHER FELONIES                                      \\n23-02-03979-ZCRAJA    02/16/2023  GARCIA JR, ROBERTO                    OLS                                    \\n                                   SMUGGLING OF PERSONS                   OTHER FELONIES                                      \\n23-02-03980-ZCRAJA    02/16/2023  ROSALES, NOE CORREA                   OLS                                    \\n                                   SMUGGLING OF PERSONS                   OTHER FELONIES                                      \\n23-02-03981-ZCRAJA    02/16/2023  HERNDERSON, TERAICE LARAY             OLS                                    \\n                                   SMUGGLING OF PERSONS                   OTHER FELONIES                                      \\n23-02-03982-ZCRAJA    02/16/2023  CRUZ, NORMA M GALO                    OLS                                    \\n                                   SMUGGLING OF PERSONS                   OTHER FELONIES                                      \\n23-02-03983-ZCRAJA    02/16/2023  HERNANDEZ, JOSIAS PEREZ               OLS                                    \\n   DE LOS SANTOS, LUIS             SMUGGLING OF PERSONS                   OTHER FELONIES                                      \\n23-02-03984-ZCRAJA    02/16/2023  CAMPOS, JUAN CARLOS                   OLS                                    \\n                                   SMUGGLING OF PERSONS                   OTHER FELONIES                                      \\n23-02-03985-ZCRAJA    02/16/2023  GARCIA, PAUL ALLEN                    OLS                                    \\n   CASARES, ANDREA                 EVADING ARREST DET W/VEH               OTHER FELONIES                                      \\n23-02-03986-ZCRAJA    02/16/2023  RIVAS, ERVIN ARIEL                    OLS                                    \\n                                   SMUGGLING OF PERSONS                   OTHER FELONIES                                      \\n23-02-03987-ZCRAJA    02/16/2023  DANIEL, PATRICK HENRY                 OLS                                    \\n                                   EVADING ARREST DET W/VEH               OTHER FELONIES                                      \\n23-02-03988-ZCRAJA    02/16/2023  HERNANDEZ, ARTURO CRUZ                OLS                                    \\n   RODRIGUEZ JR., TED              SMUGGLING OF PERSONS                   OTHER FELONIES                                      \\n23-02-03989-ZCRAJA    02/16/2023  DURON, MIALYZA NICOLE                 OLS                                    \\n                                   SMUGGLING OF PERSONS                   OTHER FELONIES                                      \\n23-02-03990-ZCRAJA    02/16/2023  JOINER, JEROME RASHAWN                OLS                                    \\n                                   SMUGGLING OF PERSONS                   OTHER FELONIES                                      \\n23-02-03991-ZCRAJA    02/16/2023  CARTER, KEITHRICK TIJAH               OLS                                    \\n                                   SMUGGLING OF PERSONS                   OTHER FELONIES                                      \\n23-02-03992-ZCRAJA    02/16/2023  MATA, PRISCILLA ANN                   OLS                                    \\n                                   SMUGGLING OF PERSONS                   OTHER FELONIES                                      \\n23-02-03993-ZCRAJA    02/16/2023  MATA, PRISCILLA ANN                   OLS                                    \\n                                   SMUGGLING OF PERSONS: UNDER 18 YOA     OTHER FELONIES                                      \\n23-02-03994-ZCRAJA    02/16/2023  ALONZO, FREDDY A. VEGA                OLS                                    \\n                                   SMUGGLING OF PERSONS                   OTHER FELONIES                                      \\n23-02-03995-ZCRAJA    02/16/2023  FUENTES, MARIO ALBERTO MARTINEZ       OLS                                    \\n                                   SMUGGLING OF PERSONS: SBI OR DEATH     OTHER FELONIES                                      \\n23-02-03996-ZCRAJA    02/16/2023  FUENTES, MARIO ALBERTO MARTINEZ       OLS                                    \\n                                   SMUGGLING OF PERSONS: SBI OR DEATH     OTHER FELONIES                                      \\n23-02-03997-ZCRAJA    02/16/2023  FUENTES, MARIO ALBERTO MARTINEZ       OLS                                    \\n                                   SMUGGLING OF PERSONS: SBI OR DEATH     OTHER FELONIES                                      \\n23-02-03998-ZCRAJA    02/16/2023  BARRON, DANIEL ANDRES MAYA            OLS                                    \\n   RODRIGUEZ JR., TED              SMUGGLING OF PERSONS: FLEEING          OTHER FELONIES                                      \\n   RODRIGUEZ JR., TED                                                                                                         \\n23-02-03999-ZCRAJA    02/16/2023  TEATE, DALCOBY DONNELL                OLS                                    \\n                                   SMUGGLING OF PERSONS                   OTHER FELONIES                                      \\n23-02-04000-ZCRAJA    02/16/2023  RUVALCABA, SONIA ARACELI              OLS                                    \\n                                   SMUGGLING OF PERSONS                   OTHER FELONIES                                      \\n23-02-04001-ZCRAJA    02/16/2023  RUVALCABA, SONIA ARACELI              OLS                                    \\n                                   POSS CS PG 1 <1G                       DRUG POSSESSION                                     \\n23-02-04002-ZCRAJA    02/16/2023  PHILLIPS, JOSHUA RONALD               OLS                                    \\n                                   SMUGGLING OF PERSONS                   OTHER FELONIES                                      \\n23-02-04003-ZCRAJA    02/16/2023  REYES, RUBEN HERNANDEZ                OLS                                    \\n                                   SMUGGLING OF PERSONS                   OTHER FELONIES                                      \\n23-02-04004-ZCRAJA    02/16/2023  GUERRA, DAMIAN RAY                    OLS                                    \\n                                   EVADING ARREST DET W/VEH               OTHER FELONIES                                      \\n23-02-04005-ZCRAJA    02/16/2023  MONREAL, XAVIER ORTIZ                 OLS                                    \\n                                   EVADING ARREST DET W/VEH               OTHER FELONIES                                      \\n23-02-04006-ZCRAJA    02/16/2023  MARQUEZ, ADXEL GUERRA                 OLS                                    \\n                                   SMUGGLING OF PERSONS                   OTHER FELONIES                                      \\n23-02-04007-ZCRAJA    02/16/2023  ALVAREZ, DAVID                        OLS                                    \\n                                   SMUGGLING OF PERSONS: UNDER 18 YOA     OTHER FELONIES                                      \\n23-02-04008-ZCRAJA    02/16/2023  ALVAREZ, MARIA GUADALUPE              OLS                                    \\n                                   SMUGGLING OF PERSONS                   OTHER FELONIES                                      \\n23-02-04009-ZCRAJA    02/16/2023  GOMEZ, NESTOR GEOVANNI ORTIZ          OLS                                    \\n                                   SMUGGLING OF PERSONS                   OTHER FELONIES                                      \\n23-02-04010-ZCRAJA    02/16/2023  SOTO, IRENE NICOLE                    OLS                                    \\n                                   SMUGGLING OF PERSONS                   OTHER FELONIES                                      \\n23-02-04011-ZCRAJA    02/16/2023  GUERRA, DAMIAN RAY                    OLS                                    \\n                                   SMUGGLING OF PERSONS                   OTHER FELONIES                                      \\n23-02-04012-ZCRAJA    02/16/2023  CROSSWELL, CHRISTOPHER ANDERSON       OLS                                    \\n                                   EVADING ARREST DET W/VEH               OTHER FELONIES                                      \\n23-02-04013-ZCRAJA    02/16/2023  CROSWELL, CHRISTOPHER ANDERSON        OLS                                    \\n                                   SMUGGLING OF PERSONS                   OTHER FELONIES                                      \\n23-03-04016-ZCRAJA    04/17/2023  ALAS, ODALYS MARCELA                  OLS                                    \\n                                   SMUGGLING OF PERSONS: PECUNIARY        OTHER FELONIES                                      \\n                                   BENEFIT                                                                                    \\n23-03-04017-ZCRAJA    04/17/2023  COMPIAN JR, PERFECTO                  OLS                                    \\n                                   SMUGGLING OF PERSONS: FLEEING          OTHER FELONIES                                      \\n23-03-04018-ZCRAJA    04/17/2023  GALLARDO, JOSE ABDON IBARRA           OLS                                    \\n                                   SMUGGLING OF PERSONS: PECUNIARY        OTHER FELONIES                                      \\n                                   BENEFIT                                                                                    \\n23-03-04020-ZCRAJA    04/18/2023  RIOS, NOE                             OLS                                    \\n                                   SMUGGLING OF PERSONS: PECUNIARY        OTHER FELONIES                                      \\n                                   BENEFIT                                                                                    \\n23-04-04033-ZCRAJA    04/27/2023  SHEDRICK, RUDOLPH JOHN                OLS                                    \\n                                   SMUGGLING OF PERSONS                   OTHER FELONIES                                      \\n23-04-04034-ZCRAJA    04/27/2023  CAMPOS, FLOR ALEJANDRA MENDOZA        OLS                                    \\n                                   SMUGGLING OF PERSONS                   OTHER FELONIES                                      \\n23-04-04035-ZCRAJA    04/27/2023  SEGOVIA, ROSA ISABEL                  OLS                                    \\n                                   EVADING ARREST DET W/VEH               OTHER FELONIES                                      \\n23-04-04036-ZCRAJA    04/27/2023  ALPIZAR, JASMINE                      OLS                                    \\n                                   SMUGGLING OF PERSONS                   OTHER FELONIES                                      \\n23-04-04037-ZCRAJA    04/27/2023  VALDEZ, JASON ALLEN                   OLS                                    \\n                                   SMUGGLING OF PERSONS                   OTHER FELONIES                                      \\n23-04-04038-ZCRAJA    04/27/2023  OROPEZA, ALFREDO DURAN                OLS                                    \\n                                   SMUGGLING OF PERSONS: FLEEING          OTHER FELONIES                                      \\n23-04-04039-ZCRAJA    04/27/2023  IBARRA, OSCAR ALBERTO                 OLS                                    \\n                                   SMUGGLING OF PERSONS: PECUNIARY        OTHER FELONIES                                      \\n                                   BENEFIT                                                                                    \\n23-04-04040-ZCRAJA    04/27/2023  IPINA, DULCE                          OLS                                    \\n                                   EVADING ARREST DET W/VEH               OTHER FELONIES                                      \\n23-04-04041-ZCRAJA    04/27/2023  MEYER, DAVID ASHTON                   OLS                                    \\n                                   SMUGGLING OF PERSONS                   OTHER FELONIES                                      \\n23-04-04042-ZCRAJA    04/27/2023  SAMANIEGO, CHRISTOPHER LAWREN         OLS                                    \\n                                   SMUGGLING OF PERSONS                   OTHER FELONIES                                      \\n23-04-04043-ZCRAJA    04/27/2023  MEDINA, VERONICA SAHARAI              OLS                                    \\n                                   SMUGGLING OF PERSONS                   OTHER FELONIES                                      \\n23-04-04044-ZCRAJA    04/27/2023  HERNANDEZ, MARLENE LEDESMA            OLS                                    \\n                                   SMUGGLING OF PERSONS                   OTHER FELONIES                                      \\n23-04-04045-ZCRAJA    04/27/2023  GRACIANO, JOHN ANTHONY                OLS                                    \\n                                   SMUGGLING OF PERSONS                   OTHER FELONIES                                      \\n23-04-04046-ZCRAJA    04/27/2023  SOLORZANO, ERIC GARCIA                OLS                                    \\n                                   SMUGGLING OF PERSONS: FLEEING          OTHER FELONIES                                      \\n23-04-04047-ZCRAJA    04/27/2023  FUENTES, DAVID NOE                    OLS                                    \\n                                   SMUGGLING OF PERSONS                   OTHER FELONIES                                      \\n23-04-04048-ZCRAJA    04/27/2023  ALEMAN, LUIS MORADEL                  OLS                                    \\n                                   SMUGGLING OF PERSONS                   OTHER FELONIES                                      \\n23-04-04049-ZCRAJA    04/27/2023  GAUNA, NANCY MARIE                    OLS                                    \\n                                   SMUGGLING OF PERSONS                   OTHER FELONIES                                      \\n23-04-04050-ZCRAJA    04/27/2023  LE, DERICK HUY TRANH                  OLS                                    \\n                                   EVADING ARREST DET W/VEH               OTHER FELONIES                                      \\n23-04-04051-ZCRAJA    04/27/2023  ARENAS JR., ARTURO                    OLS                                    \\n                                   SMUGGLING OF PERSONS: PECUNIARY        OTHER FELONIES                                      \\n                                   BENEFIT                                                                                    \\n23-04-04052-ZCRAJA    04/27/2023  MACIAS, JULIA MARIE                   OLS                                    \\n                                   SMUGGLING OF PERSONS                   OTHER FELONIES                                      \\n23-04-04053-ZCRAJA    04/27/2023  DAVILA, JOSE FELIPE                   OLS                                    \\n                                   SMUGGLING OF PERSONS: FLEEING          OTHER FELONIES                                      \\n23-04-04028-ZCRAJA    05/02/2023  RODRIGUEZ, SAMUEL ROBERTO RAMIREZ     OLS                                    \\n                                   SMUGGLING OF PERSONS: MONETARY GAIN    OTHER FELONIES                                      \\n23-04-04029-ZCRAJA    05/02/2023  ALVAREZ, LISA MICHELLE                OLS                                    \\n                                   SMUGGLING OF PERSONS: UNDER 18 YOA     OTHER FELONIES                                      \\n23-04-04030-ZCRAJA    05/02/2023  WILLIAMS, TELLAS SAVALAS              OLS                                    \\n                                   SMUGGLING OF PERSONS: MONETARY GAIN    OTHER FELONIES                                      \\n23-04-04031-ZCRAJA    05/02/2023  CROWELL, TRENTON LANE                 OLS                                    \\n                                   SMUGGLING OF PERSONS: MONETARY GAIN    OTHER FELONIES                                      \\n23-04-04032-ZCRAJA    05/02/2023  PATTERSON, RANDY JAMES                OLS                                    \\n                                   SMUGGLING OF PERSONS: MONETARY GAIN    OTHER FELONIES                                      \\n23-05-04058-ZCRAJA    05/23/2023  ESPINOZA, LAURA PATRICIA ROMERO       OLS                                    \\n                                   SMUGGLING OF PERSONS                   OTHER FELONIES                                      \\n23-05-04059-ZCRAJA    05/23/2023  GONZALEZ, BRYAN ANTHONY               OLS                                    \\n                                   SMUGGLING OF PERSONS                   OTHER FELONIES                                      \\n23-05-04060-ZCRAJA    05/23/2023  CEDILLO, YHAJAIRA                     OLS                                    \\n                                   SMUGGLING OF PERSONS                   OTHER FELONIES                                      \\n23-05-04061-ZCRAJA    05/23/2023  ZAPATA, CARLOS OMAR                   OLS                                    \\n                                   SMUGGLING OF PERSONS                   OTHER FELONIES                                      \\n23-05-04062-ZCRAJA    05/23/2023  SANDIA, JUAN MENDEZ                   OLS                                    \\n                                   SMUGGLING OF PERSONS                   OTHER FELONIES                                      \\n23-05-04064-ZCRAJA    05/23/2023  SAUR, DIANE RAMIREZ                   OLS                                    \\n                                   EVADE ARR DET W/VEH/WTRCFT W/PREV      OTHER FELONIES                                      \\n                                   CONV OR SBI                                                                                \\n23-05-04066-ZCRAJA    05/23/2023  DUBON, EDGARDO BARRERA                OLS                                    \\n                                   SMUGGLING OF PERSONS: UNDER 18 YOA     OTHER FELONIES                                      \\n23-05-04067-ZCRAJA    05/23/2023  CASTLEMAN, CHARLES WILLIAM            OLS                                    \\n                                   SMUGGLING OF PERSONS                   OTHER FELONIES                                      \\n\\nTOTAL NUMBER OF CASES FILED: 108\\n------------------------------------------------------------------------------------------------------------------------------\\nMTR-A CASES FILED\\n------------------------------------------------------------------------------------------------------------------------------\\n\\nTOTAL NUMBER OF MTR-A FILINGS: 0\\n\\n------------------------------------------------------------------------------------------------------------------------------\\nALL OTHER CASES ADDED/APPEALED\\n------------------------------------------------------------------------------------------------------------------------------\\n\\nTOTAL NUMBER OF CASES ADDED/APPEALED: 0\\n\\n\\x0c'"
      ]
     },
     "execution_count": 16,
     "metadata": {},
     "output_type": "execute_result"
    }
   ],
   "source": [
    "#Remove subsequent headers using regex\n",
    "body = re.sub(r\"\"\"\\n\\x0c\\s*[A-Z -]*\\d{2}/\\d{2}/\\d{4}\\n\\s*\\w{6,8}[A-Z0-9 -]*\\n\\s*[A-Z ]*\\d{2}/\\d{2}/\\d{4}[A-Z0-9 -]*\\n\\n[A-Z ]*#\\s*[A-Z -']*\\n[A-Z0-9/ -]*\\n\\n\"\"\", '', body)\n",
    "body"
   ]
  },
  {
   "cell_type": "code",
   "execution_count": 17,
   "id": "481fe6f1",
   "metadata": {},
   "outputs": [],
   "source": [
    "#Remove leading and trailing whitespaces from the body text\n",
    "body = body.strip()"
   ]
  },
  {
   "cell_type": "code",
   "execution_count": 18,
   "id": "4d8d0ca4",
   "metadata": {},
   "outputs": [
    {
     "data": {
      "text/plain": [
       "'23-05-04063-ZCRAJA    05/23/0203  THOMPSON, TAREZ CHARLES               OLS                                    \\n                                   SMUGGLING OF PERSONS: UNDER 18 YOA     OTHER FELONIES                                      \\n23-05-04065-ZCRAJA    05/23/2021  FLORES, JOE ANTHONY                   OLS                                    \\n                                   SMUGGLING OF PERSONS: FIREARM          OTHER FELONIES                                      \\n22-05-03911-ZCR       05/13/2022  TORRES, BRYAN OMAR ESCOBAR            OLS                                    \\n                                   SMUGGLING OF PERSONS                   OTHER FELONIES                                      \\n22-05-03912-ZCR       05/13/2022  GONZALEZ ESCOBAR, MARIA T.            OLS                                    \\n                                   SMUGGLING OF PERSONS                   OTHER FELONIES                                      \\n22-05-03913-ZCR       05/13/2022  LOPEZ, DANIEL PEREZ                   OLS                                    \\n                                   SMUGGLING OF PERSONS                   OTHER FELONIES                                      \\n22-05-03914-ZCR       05/13/2022  CONTRERAS DE JESUS, JOSE              OLS                                    \\n   PONCE, FRANCISCO                SMUGGLING OF PERSONS                   OTHER FELONIES                                      \\n22-05-03915-ZCR       05/13/2022  ALLEN, CHRISTOPHER DESHAWN            OLS                                    \\n                                   SMUGGLING OF PERSONS                   OTHER FELONIES                                      \\n22-05-03917-ZCR       05/13/2022  ANORVE, JASON QUINTERO                OLS                                    \\n                                   SMUGGLING OF PERSONS                   OTHER FELONIES                                      \\n22-08-03924-ZCRAJA    08/10/2022  MOTEN III, BOBBY EUGENE               OLS                                    \\n   RODRIGUEZ JR., TED              SMUGGLING OF PERSONS                   OTHER FELONIES                                      \\n22-08-03925-ZCRAJA    08/10/2022  MOTEN III, BOBBY EUGENE               OLS                                    \\n                                   EVADING ARREST DET W/VEH               OTHER FELONIES                                      \\n22-08-03926-ZCRAJA    08/10/2022  CRUZ, CARLOS MANUEL                   OLS                                    \\n   RODRIGUEZ JR., TED              SMUGGLING OF PERSONS                   OTHER FELONIES                                      \\n22-08-03930-ZCRAJA    08/10/2022  HARRIS, BURNARSHA ASHUNAE             OLS                                    \\n                                   SMUGGLING OF PERSONS                   OTHER FELONIES                                      \\n22-08-03932-ZCRAJA    08/10/2022  WILKINS, ERIN DORAY                   OLS                                    \\n                                   SMUGGLING OF PERSONS                   OTHER FELONIES                                      \\n22-08-03933-ZCRAJA    08/10/2022  CHAIREZ, JOSE ALFREDO                 OLS                                    \\n                                   SMUGGLING OF PERSONS                   OTHER FELONIES                                      \\n22-08-03936-ZCRAJA    08/10/2022  WILLIAMS, DAVID EDWARD                OLS                                    \\n                                   SMUGGLING OF PERSONS: UNDER 18 YOA     OTHER FELONIES                                      \\n22-08-03938-ZCRAJA    08/10/2022  NAVA, MARCOS GERARDO                  OLS                                    \\n                                   SMUGGLING OF PERSONS                   OTHER FELONIES                                      \\n22-08-03939-ZCRAJA    08/10/2022  MOSLEY, CORY NICHOLS                  OLS                                    \\n                                   SMUGGLING OF PERSONS                   OTHER FELONIES                                      \\n22-08-03940-ZCRAJA    08/10/2022  ALVARADO, PATRICIA FELIZA             OLS                                    \\n                                   SMUGGLING OF PERSONS                   OTHER FELONIES                                      \\n22-08-03942-ZCRAJA    08/10/2022  ARREDONDO JR, RAMON                   OLS                                    \\n                                   SMUGGLING OF PERSONS                   OTHER FELONIES                                      \\n22-08-03943-ZCR       08/10/2022  MORATAYA, ANGEL HERNANDEZ             OLS                                    \\n                                   SMUGGLING OF PERSONS                   OTHER FELONIES                                      \\n22-08-03944-ZCRAJA    08/10/2022  RAMIREZ, DAMIAN ROY                   OLS                                    \\n                                   SMUGGLING OF PERSONS                   OTHER FELONIES                                      \\n22-08-03945-ZCRAJA    08/10/2022  CHERNOSKY, DONNA RENNEE               OLS                                    \\n                                   SMUGGLING OF PERSONS                   OTHER FELONIES                                      \\n22-08-03946-ZCRAJA    08/10/2022  AGUIRRE JR, DAVID                     OLS                                    \\n   PONCE, FRANCISCO                SMUGGLING OF PERSONS                   OTHER FELONIES                                      \\n22-08-03948-ZCRAJA    08/10/2022  ANDRADE, KARINA M                     OLS                                    \\n                                   SMUGGLING OF PERSONS                   OTHER FELONIES                                      \\n22-08-03949-ZCRAJA    08/10/2022  ANDRADE, KARINA M                     OLS                                    \\n                                   EVADING ARREST DET W/VEH               OTHER FELONIES                                      \\n22-08-03950-ZCRAJA    08/10/2022  MOORE JR, PAUL JOHN                   OLS                                    \\n                                   SMUGGLING OF PERSONS                   OTHER FELONIES                                      \\n22-08-03951-ZCR       08/10/2022  PASTRANA, JAIME MATUTE                OLS                                    \\n                                   SMUGGLING OF PERSONS                   OTHER FELONIES                                      \\n22-08-03952-ZCRAJA    08/10/2022  LOPEZ, AUSTIN RYAN                    OLS                                    \\n                                   SMUGGLING OF PERSONS                   OTHER FELONIES                                      \\n22-08-03928-ZCRAJA    08/29/2022  RAMIREZ, NAHTANIEL XAVIER             OLS                                    \\n                                   SMUGGLING OF PERSONS                   OTHER FELONIES                                      \\n22-11-03964-ZCRAJA    11/09/2022  JIMENEZ, VICTOR HUGO                  OLS                                    \\n   PONCE, FRANCISCO                SMUGGLING OF PERSONS: PECUNIARY        OTHER FELONIES                                      \\n                                   BENEFIT                                                                                    \\n22-11-03965-ZCR       11/09/2022  MIRELES, BLAS CRLOS                   OLS                                    \\n                                   SMUGGLING OF PERSONS: LIKELIHOOD SBI   OTHER FELONIES                                      \\n                                   OR DEATH                                                                                   \\n23-02-03975-ZCRAJA    02/16/2023  MENDOZA III, VALENTIN                 OLS                                    \\n                                   SMUGGLING OF PERSONS                   OTHER FELONIES                                      \\n23-02-03976-ZCRAJA    02/16/2023  RINA, DULCE RUBY                      OLS                                    \\n                                   SMUGGLING OF PERSONS                   OTHER FELONIES                                      \\n23-02-03977-ZCRAJA    02/16/2023  MURILLO, MARIANO DAVILA               OLS                                    \\n                                   SMUGGLING OF PERSONS                   OTHER FELONIES                                      \\n23-02-03978-ZCRAJA    02/16/2023  ANDUJAR, JULIO CESAR NATER            OLS                                    \\n                                   SMUGGLING OF PERSONS                   OTHER FELONIES                                      \\n23-02-03979-ZCRAJA    02/16/2023  GARCIA JR, ROBERTO                    OLS                                    \\n                                   SMUGGLING OF PERSONS                   OTHER FELONIES                                      \\n23-02-03980-ZCRAJA    02/16/2023  ROSALES, NOE CORREA                   OLS                                    \\n                                   SMUGGLING OF PERSONS                   OTHER FELONIES                                      \\n23-02-03981-ZCRAJA    02/16/2023  HERNDERSON, TERAICE LARAY             OLS                                    \\n                                   SMUGGLING OF PERSONS                   OTHER FELONIES                                      \\n23-02-03982-ZCRAJA    02/16/2023  CRUZ, NORMA M GALO                    OLS                                    \\n                                   SMUGGLING OF PERSONS                   OTHER FELONIES                                      \\n23-02-03983-ZCRAJA    02/16/2023  HERNANDEZ, JOSIAS PEREZ               OLS                                    \\n   DE LOS SANTOS, LUIS             SMUGGLING OF PERSONS                   OTHER FELONIES                                      \\n23-02-03984-ZCRAJA    02/16/2023  CAMPOS, JUAN CARLOS                   OLS                                    \\n                                   SMUGGLING OF PERSONS                   OTHER FELONIES                                      \\n23-02-03985-ZCRAJA    02/16/2023  GARCIA, PAUL ALLEN                    OLS                                    \\n   CASARES, ANDREA                 EVADING ARREST DET W/VEH               OTHER FELONIES                                      \\n23-02-03986-ZCRAJA    02/16/2023  RIVAS, ERVIN ARIEL                    OLS                                    \\n                                   SMUGGLING OF PERSONS                   OTHER FELONIES                                      \\n23-02-03987-ZCRAJA    02/16/2023  DANIEL, PATRICK HENRY                 OLS                                    \\n                                   EVADING ARREST DET W/VEH               OTHER FELONIES                                      \\n23-02-03988-ZCRAJA    02/16/2023  HERNANDEZ, ARTURO CRUZ                OLS                                    \\n   RODRIGUEZ JR., TED              SMUGGLING OF PERSONS                   OTHER FELONIES                                      \\n23-02-03989-ZCRAJA    02/16/2023  DURON, MIALYZA NICOLE                 OLS                                    \\n                                   SMUGGLING OF PERSONS                   OTHER FELONIES                                      \\n23-02-03990-ZCRAJA    02/16/2023  JOINER, JEROME RASHAWN                OLS                                    \\n                                   SMUGGLING OF PERSONS                   OTHER FELONIES                                      \\n23-02-03991-ZCRAJA    02/16/2023  CARTER, KEITHRICK TIJAH               OLS                                    \\n                                   SMUGGLING OF PERSONS                   OTHER FELONIES                                      \\n23-02-03992-ZCRAJA    02/16/2023  MATA, PRISCILLA ANN                   OLS                                    \\n                                   SMUGGLING OF PERSONS                   OTHER FELONIES                                      \\n23-02-03993-ZCRAJA    02/16/2023  MATA, PRISCILLA ANN                   OLS                                    \\n                                   SMUGGLING OF PERSONS: UNDER 18 YOA     OTHER FELONIES                                      \\n23-02-03994-ZCRAJA    02/16/2023  ALONZO, FREDDY A. VEGA                OLS                                    \\n                                   SMUGGLING OF PERSONS                   OTHER FELONIES                                      \\n23-02-03995-ZCRAJA    02/16/2023  FUENTES, MARIO ALBERTO MARTINEZ       OLS                                    \\n                                   SMUGGLING OF PERSONS: SBI OR DEATH     OTHER FELONIES                                      \\n23-02-03996-ZCRAJA    02/16/2023  FUENTES, MARIO ALBERTO MARTINEZ       OLS                                    \\n                                   SMUGGLING OF PERSONS: SBI OR DEATH     OTHER FELONIES                                      \\n23-02-03997-ZCRAJA    02/16/2023  FUENTES, MARIO ALBERTO MARTINEZ       OLS                                    \\n                                   SMUGGLING OF PERSONS: SBI OR DEATH     OTHER FELONIES                                      \\n23-02-03998-ZCRAJA    02/16/2023  BARRON, DANIEL ANDRES MAYA            OLS                                    \\n   RODRIGUEZ JR., TED              SMUGGLING OF PERSONS: FLEEING          OTHER FELONIES                                      \\n   RODRIGUEZ JR., TED                                                                                                         \\n23-02-03999-ZCRAJA    02/16/2023  TEATE, DALCOBY DONNELL                OLS                                    \\n                                   SMUGGLING OF PERSONS                   OTHER FELONIES                                      \\n23-02-04000-ZCRAJA    02/16/2023  RUVALCABA, SONIA ARACELI              OLS                                    \\n                                   SMUGGLING OF PERSONS                   OTHER FELONIES                                      \\n23-02-04001-ZCRAJA    02/16/2023  RUVALCABA, SONIA ARACELI              OLS                                    \\n                                   POSS CS PG 1 <1G                       DRUG POSSESSION                                     \\n23-02-04002-ZCRAJA    02/16/2023  PHILLIPS, JOSHUA RONALD               OLS                                    \\n                                   SMUGGLING OF PERSONS                   OTHER FELONIES                                      \\n23-02-04003-ZCRAJA    02/16/2023  REYES, RUBEN HERNANDEZ                OLS                                    \\n                                   SMUGGLING OF PERSONS                   OTHER FELONIES                                      \\n23-02-04004-ZCRAJA    02/16/2023  GUERRA, DAMIAN RAY                    OLS                                    \\n                                   EVADING ARREST DET W/VEH               OTHER FELONIES                                      \\n23-02-04005-ZCRAJA    02/16/2023  MONREAL, XAVIER ORTIZ                 OLS                                    \\n                                   EVADING ARREST DET W/VEH               OTHER FELONIES                                      \\n23-02-04006-ZCRAJA    02/16/2023  MARQUEZ, ADXEL GUERRA                 OLS                                    \\n                                   SMUGGLING OF PERSONS                   OTHER FELONIES                                      \\n23-02-04007-ZCRAJA    02/16/2023  ALVAREZ, DAVID                        OLS                                    \\n                                   SMUGGLING OF PERSONS: UNDER 18 YOA     OTHER FELONIES                                      \\n23-02-04008-ZCRAJA    02/16/2023  ALVAREZ, MARIA GUADALUPE              OLS                                    \\n                                   SMUGGLING OF PERSONS                   OTHER FELONIES                                      \\n23-02-04009-ZCRAJA    02/16/2023  GOMEZ, NESTOR GEOVANNI ORTIZ          OLS                                    \\n                                   SMUGGLING OF PERSONS                   OTHER FELONIES                                      \\n23-02-04010-ZCRAJA    02/16/2023  SOTO, IRENE NICOLE                    OLS                                    \\n                                   SMUGGLING OF PERSONS                   OTHER FELONIES                                      \\n23-02-04011-ZCRAJA    02/16/2023  GUERRA, DAMIAN RAY                    OLS                                    \\n                                   SMUGGLING OF PERSONS                   OTHER FELONIES                                      \\n23-02-04012-ZCRAJA    02/16/2023  CROSSWELL, CHRISTOPHER ANDERSON       OLS                                    \\n                                   EVADING ARREST DET W/VEH               OTHER FELONIES                                      \\n23-02-04013-ZCRAJA    02/16/2023  CROSWELL, CHRISTOPHER ANDERSON        OLS                                    \\n                                   SMUGGLING OF PERSONS                   OTHER FELONIES                                      \\n23-03-04016-ZCRAJA    04/17/2023  ALAS, ODALYS MARCELA                  OLS                                    \\n                                   SMUGGLING OF PERSONS: PECUNIARY        OTHER FELONIES                                      \\n                                   BENEFIT                                                                                    \\n23-03-04017-ZCRAJA    04/17/2023  COMPIAN JR, PERFECTO                  OLS                                    \\n                                   SMUGGLING OF PERSONS: FLEEING          OTHER FELONIES                                      \\n23-03-04018-ZCRAJA    04/17/2023  GALLARDO, JOSE ABDON IBARRA           OLS                                    \\n                                   SMUGGLING OF PERSONS: PECUNIARY        OTHER FELONIES                                      \\n                                   BENEFIT                                                                                    \\n23-03-04020-ZCRAJA    04/18/2023  RIOS, NOE                             OLS                                    \\n                                   SMUGGLING OF PERSONS: PECUNIARY        OTHER FELONIES                                      \\n                                   BENEFIT                                                                                    \\n23-04-04033-ZCRAJA    04/27/2023  SHEDRICK, RUDOLPH JOHN                OLS                                    \\n                                   SMUGGLING OF PERSONS                   OTHER FELONIES                                      \\n23-04-04034-ZCRAJA    04/27/2023  CAMPOS, FLOR ALEJANDRA MENDOZA        OLS                                    \\n                                   SMUGGLING OF PERSONS                   OTHER FELONIES                                      \\n23-04-04035-ZCRAJA    04/27/2023  SEGOVIA, ROSA ISABEL                  OLS                                    \\n                                   EVADING ARREST DET W/VEH               OTHER FELONIES                                      \\n23-04-04036-ZCRAJA    04/27/2023  ALPIZAR, JASMINE                      OLS                                    \\n                                   SMUGGLING OF PERSONS                   OTHER FELONIES                                      \\n23-04-04037-ZCRAJA    04/27/2023  VALDEZ, JASON ALLEN                   OLS                                    \\n                                   SMUGGLING OF PERSONS                   OTHER FELONIES                                      \\n23-04-04038-ZCRAJA    04/27/2023  OROPEZA, ALFREDO DURAN                OLS                                    \\n                                   SMUGGLING OF PERSONS: FLEEING          OTHER FELONIES                                      \\n23-04-04039-ZCRAJA    04/27/2023  IBARRA, OSCAR ALBERTO                 OLS                                    \\n                                   SMUGGLING OF PERSONS: PECUNIARY        OTHER FELONIES                                      \\n                                   BENEFIT                                                                                    \\n23-04-04040-ZCRAJA    04/27/2023  IPINA, DULCE                          OLS                                    \\n                                   EVADING ARREST DET W/VEH               OTHER FELONIES                                      \\n23-04-04041-ZCRAJA    04/27/2023  MEYER, DAVID ASHTON                   OLS                                    \\n                                   SMUGGLING OF PERSONS                   OTHER FELONIES                                      \\n23-04-04042-ZCRAJA    04/27/2023  SAMANIEGO, CHRISTOPHER LAWREN         OLS                                    \\n                                   SMUGGLING OF PERSONS                   OTHER FELONIES                                      \\n23-04-04043-ZCRAJA    04/27/2023  MEDINA, VERONICA SAHARAI              OLS                                    \\n                                   SMUGGLING OF PERSONS                   OTHER FELONIES                                      \\n23-04-04044-ZCRAJA    04/27/2023  HERNANDEZ, MARLENE LEDESMA            OLS                                    \\n                                   SMUGGLING OF PERSONS                   OTHER FELONIES                                      \\n23-04-04045-ZCRAJA    04/27/2023  GRACIANO, JOHN ANTHONY                OLS                                    \\n                                   SMUGGLING OF PERSONS                   OTHER FELONIES                                      \\n23-04-04046-ZCRAJA    04/27/2023  SOLORZANO, ERIC GARCIA                OLS                                    \\n                                   SMUGGLING OF PERSONS: FLEEING          OTHER FELONIES                                      \\n23-04-04047-ZCRAJA    04/27/2023  FUENTES, DAVID NOE                    OLS                                    \\n                                   SMUGGLING OF PERSONS                   OTHER FELONIES                                      \\n23-04-04048-ZCRAJA    04/27/2023  ALEMAN, LUIS MORADEL                  OLS                                    \\n                                   SMUGGLING OF PERSONS                   OTHER FELONIES                                      \\n23-04-04049-ZCRAJA    04/27/2023  GAUNA, NANCY MARIE                    OLS                                    \\n                                   SMUGGLING OF PERSONS                   OTHER FELONIES                                      \\n23-04-04050-ZCRAJA    04/27/2023  LE, DERICK HUY TRANH                  OLS                                    \\n                                   EVADING ARREST DET W/VEH               OTHER FELONIES                                      \\n23-04-04051-ZCRAJA    04/27/2023  ARENAS JR., ARTURO                    OLS                                    \\n                                   SMUGGLING OF PERSONS: PECUNIARY        OTHER FELONIES                                      \\n                                   BENEFIT                                                                                    \\n23-04-04052-ZCRAJA    04/27/2023  MACIAS, JULIA MARIE                   OLS                                    \\n                                   SMUGGLING OF PERSONS                   OTHER FELONIES                                      \\n23-04-04053-ZCRAJA    04/27/2023  DAVILA, JOSE FELIPE                   OLS                                    \\n                                   SMUGGLING OF PERSONS: FLEEING          OTHER FELONIES                                      \\n23-04-04028-ZCRAJA    05/02/2023  RODRIGUEZ, SAMUEL ROBERTO RAMIREZ     OLS                                    \\n                                   SMUGGLING OF PERSONS: MONETARY GAIN    OTHER FELONIES                                      \\n23-04-04029-ZCRAJA    05/02/2023  ALVAREZ, LISA MICHELLE                OLS                                    \\n                                   SMUGGLING OF PERSONS: UNDER 18 YOA     OTHER FELONIES                                      \\n23-04-04030-ZCRAJA    05/02/2023  WILLIAMS, TELLAS SAVALAS              OLS                                    \\n                                   SMUGGLING OF PERSONS: MONETARY GAIN    OTHER FELONIES                                      \\n23-04-04031-ZCRAJA    05/02/2023  CROWELL, TRENTON LANE                 OLS                                    \\n                                   SMUGGLING OF PERSONS: MONETARY GAIN    OTHER FELONIES                                      \\n23-04-04032-ZCRAJA    05/02/2023  PATTERSON, RANDY JAMES                OLS                                    \\n                                   SMUGGLING OF PERSONS: MONETARY GAIN    OTHER FELONIES                                      \\n23-05-04058-ZCRAJA    05/23/2023  ESPINOZA, LAURA PATRICIA ROMERO       OLS                                    \\n                                   SMUGGLING OF PERSONS                   OTHER FELONIES                                      \\n23-05-04059-ZCRAJA    05/23/2023  GONZALEZ, BRYAN ANTHONY               OLS                                    \\n                                   SMUGGLING OF PERSONS                   OTHER FELONIES                                      \\n23-05-04060-ZCRAJA    05/23/2023  CEDILLO, YHAJAIRA                     OLS                                    \\n                                   SMUGGLING OF PERSONS                   OTHER FELONIES                                      \\n23-05-04061-ZCRAJA    05/23/2023  ZAPATA, CARLOS OMAR                   OLS                                    \\n                                   SMUGGLING OF PERSONS                   OTHER FELONIES                                      \\n23-05-04062-ZCRAJA    05/23/2023  SANDIA, JUAN MENDEZ                   OLS                                    \\n                                   SMUGGLING OF PERSONS                   OTHER FELONIES                                      \\n23-05-04064-ZCRAJA    05/23/2023  SAUR, DIANE RAMIREZ                   OLS                                    \\n                                   EVADE ARR DET W/VEH/WTRCFT W/PREV      OTHER FELONIES                                      \\n                                   CONV OR SBI                                                                                \\n23-05-04066-ZCRAJA    05/23/2023  DUBON, EDGARDO BARRERA                OLS                                    \\n                                   SMUGGLING OF PERSONS: UNDER 18 YOA     OTHER FELONIES                                      \\n23-05-04067-ZCRAJA    05/23/2023  CASTLEMAN, CHARLES WILLIAM            OLS                                    \\n                                   SMUGGLING OF PERSONS                   OTHER FELONIES                                      \\n\\n\\nTOTAL NUMBER OF MTR-A FILINGS: 0\\n\\n------------------------------------------------------------------------------------------------------------------------------\\nALL OTHER CASES ADDED/APPEALED\\n------------------------------------------------------------------------------------------------------------------------------\\n\\nTOTAL NUMBER OF CASES ADDED/APPEALED: 0'"
      ]
     },
     "execution_count": 18,
     "metadata": {},
     "output_type": "execute_result"
    }
   ],
   "source": [
    "#Now try removing the last section based on the number of characters\n",
    "new_body = re.sub(r\"\"\"\\nTOTAL NUMBER OF CASES FILED: [0-9\\n-]*MTR-A[A-Z\\n ]*[-]*\"\"\", '', body)\n",
    "new_body"
   ]
  },
  {
   "cell_type": "code",
   "execution_count": 19,
   "id": "0102ce05",
   "metadata": {},
   "outputs": [
    {
     "data": {
      "text/plain": [
       "'23-05-04063-ZCRAJA    05/23/0203  THOMPSON, TAREZ CHARLES               OLS                                    \\n                                   SMUGGLING OF PERSONS: UNDER 18 YOA     OTHER FELONIES                                      \\n23-05-04065-ZCRAJA    05/23/2021  FLORES, JOE ANTHONY                   OLS                                    \\n                                   SMUGGLING OF PERSONS: FIREARM          OTHER FELONIES                                      \\n22-05-03911-ZCR       05/13/2022  TORRES, BRYAN OMAR ESCOBAR            OLS                                    \\n                                   SMUGGLING OF PERSONS                   OTHER FELONIES                                      \\n22-05-03912-ZCR       05/13/2022  GONZALEZ ESCOBAR, MARIA T.            OLS                                    \\n                                   SMUGGLING OF PERSONS                   OTHER FELONIES                                      \\n22-05-03913-ZCR       05/13/2022  LOPEZ, DANIEL PEREZ                   OLS                                    \\n                                   SMUGGLING OF PERSONS                   OTHER FELONIES                                      \\n22-05-03914-ZCR       05/13/2022  CONTRERAS DE JESUS, JOSE              OLS                                    \\n   PONCE, FRANCISCO                SMUGGLING OF PERSONS                   OTHER FELONIES                                      \\n22-05-03915-ZCR       05/13/2022  ALLEN, CHRISTOPHER DESHAWN            OLS                                    \\n                                   SMUGGLING OF PERSONS                   OTHER FELONIES                                      \\n22-05-03917-ZCR       05/13/2022  ANORVE, JASON QUINTERO                OLS                                    \\n                                   SMUGGLING OF PERSONS                   OTHER FELONIES                                      \\n22-08-03924-ZCRAJA    08/10/2022  MOTEN III, BOBBY EUGENE               OLS                                    \\n   RODRIGUEZ JR., TED              SMUGGLING OF PERSONS                   OTHER FELONIES                                      \\n22-08-03925-ZCRAJA    08/10/2022  MOTEN III, BOBBY EUGENE               OLS                                    \\n                                   EVADING ARREST DET W/VEH               OTHER FELONIES                                      \\n22-08-03926-ZCRAJA    08/10/2022  CRUZ, CARLOS MANUEL                   OLS                                    \\n   RODRIGUEZ JR., TED              SMUGGLING OF PERSONS                   OTHER FELONIES                                      \\n22-08-03930-ZCRAJA    08/10/2022  HARRIS, BURNARSHA ASHUNAE             OLS                                    \\n                                   SMUGGLING OF PERSONS                   OTHER FELONIES                                      \\n22-08-03932-ZCRAJA    08/10/2022  WILKINS, ERIN DORAY                   OLS                                    \\n                                   SMUGGLING OF PERSONS                   OTHER FELONIES                                      \\n22-08-03933-ZCRAJA    08/10/2022  CHAIREZ, JOSE ALFREDO                 OLS                                    \\n                                   SMUGGLING OF PERSONS                   OTHER FELONIES                                      \\n22-08-03936-ZCRAJA    08/10/2022  WILLIAMS, DAVID EDWARD                OLS                                    \\n                                   SMUGGLING OF PERSONS: UNDER 18 YOA     OTHER FELONIES                                      \\n22-08-03938-ZCRAJA    08/10/2022  NAVA, MARCOS GERARDO                  OLS                                    \\n                                   SMUGGLING OF PERSONS                   OTHER FELONIES                                      \\n22-08-03939-ZCRAJA    08/10/2022  MOSLEY, CORY NICHOLS                  OLS                                    \\n                                   SMUGGLING OF PERSONS                   OTHER FELONIES                                      \\n22-08-03940-ZCRAJA    08/10/2022  ALVARADO, PATRICIA FELIZA             OLS                                    \\n                                   SMUGGLING OF PERSONS                   OTHER FELONIES                                      \\n22-08-03942-ZCRAJA    08/10/2022  ARREDONDO JR, RAMON                   OLS                                    \\n                                   SMUGGLING OF PERSONS                   OTHER FELONIES                                      \\n22-08-03943-ZCR       08/10/2022  MORATAYA, ANGEL HERNANDEZ             OLS                                    \\n                                   SMUGGLING OF PERSONS                   OTHER FELONIES                                      \\n22-08-03944-ZCRAJA    08/10/2022  RAMIREZ, DAMIAN ROY                   OLS                                    \\n                                   SMUGGLING OF PERSONS                   OTHER FELONIES                                      \\n22-08-03945-ZCRAJA    08/10/2022  CHERNOSKY, DONNA RENNEE               OLS                                    \\n                                   SMUGGLING OF PERSONS                   OTHER FELONIES                                      \\n22-08-03946-ZCRAJA    08/10/2022  AGUIRRE JR, DAVID                     OLS                                    \\n   PONCE, FRANCISCO                SMUGGLING OF PERSONS                   OTHER FELONIES                                      \\n22-08-03948-ZCRAJA    08/10/2022  ANDRADE, KARINA M                     OLS                                    \\n                                   SMUGGLING OF PERSONS                   OTHER FELONIES                                      \\n22-08-03949-ZCRAJA    08/10/2022  ANDRADE, KARINA M                     OLS                                    \\n                                   EVADING ARREST DET W/VEH               OTHER FELONIES                                      \\n22-08-03950-ZCRAJA    08/10/2022  MOORE JR, PAUL JOHN                   OLS                                    \\n                                   SMUGGLING OF PERSONS                   OTHER FELONIES                                      \\n22-08-03951-ZCR       08/10/2022  PASTRANA, JAIME MATUTE                OLS                                    \\n                                   SMUGGLING OF PERSONS                   OTHER FELONIES                                      \\n22-08-03952-ZCRAJA    08/10/2022  LOPEZ, AUSTIN RYAN                    OLS                                    \\n                                   SMUGGLING OF PERSONS                   OTHER FELONIES                                      \\n22-08-03928-ZCRAJA    08/29/2022  RAMIREZ, NAHTANIEL XAVIER             OLS                                    \\n                                   SMUGGLING OF PERSONS                   OTHER FELONIES                                      \\n22-11-03964-ZCRAJA    11/09/2022  JIMENEZ, VICTOR HUGO                  OLS                                    \\n   PONCE, FRANCISCO                SMUGGLING OF PERSONS: PECUNIARY        OTHER FELONIES                                      \\n                                   BENEFIT                                                                                    \\n22-11-03965-ZCR       11/09/2022  MIRELES, BLAS CRLOS                   OLS                                    \\n                                   SMUGGLING OF PERSONS: LIKELIHOOD SBI   OTHER FELONIES                                      \\n                                   OR DEATH                                                                                   \\n23-02-03975-ZCRAJA    02/16/2023  MENDOZA III, VALENTIN                 OLS                                    \\n                                   SMUGGLING OF PERSONS                   OTHER FELONIES                                      \\n23-02-03976-ZCRAJA    02/16/2023  RINA, DULCE RUBY                      OLS                                    \\n                                   SMUGGLING OF PERSONS                   OTHER FELONIES                                      \\n23-02-03977-ZCRAJA    02/16/2023  MURILLO, MARIANO DAVILA               OLS                                    \\n                                   SMUGGLING OF PERSONS                   OTHER FELONIES                                      \\n23-02-03978-ZCRAJA    02/16/2023  ANDUJAR, JULIO CESAR NATER            OLS                                    \\n                                   SMUGGLING OF PERSONS                   OTHER FELONIES                                      \\n23-02-03979-ZCRAJA    02/16/2023  GARCIA JR, ROBERTO                    OLS                                    \\n                                   SMUGGLING OF PERSONS                   OTHER FELONIES                                      \\n23-02-03980-ZCRAJA    02/16/2023  ROSALES, NOE CORREA                   OLS                                    \\n                                   SMUGGLING OF PERSONS                   OTHER FELONIES                                      \\n23-02-03981-ZCRAJA    02/16/2023  HERNDERSON, TERAICE LARAY             OLS                                    \\n                                   SMUGGLING OF PERSONS                   OTHER FELONIES                                      \\n23-02-03982-ZCRAJA    02/16/2023  CRUZ, NORMA M GALO                    OLS                                    \\n                                   SMUGGLING OF PERSONS                   OTHER FELONIES                                      \\n23-02-03983-ZCRAJA    02/16/2023  HERNANDEZ, JOSIAS PEREZ               OLS                                    \\n   DE LOS SANTOS, LUIS             SMUGGLING OF PERSONS                   OTHER FELONIES                                      \\n23-02-03984-ZCRAJA    02/16/2023  CAMPOS, JUAN CARLOS                   OLS                                    \\n                                   SMUGGLING OF PERSONS                   OTHER FELONIES                                      \\n23-02-03985-ZCRAJA    02/16/2023  GARCIA, PAUL ALLEN                    OLS                                    \\n   CASARES, ANDREA                 EVADING ARREST DET W/VEH               OTHER FELONIES                                      \\n23-02-03986-ZCRAJA    02/16/2023  RIVAS, ERVIN ARIEL                    OLS                                    \\n                                   SMUGGLING OF PERSONS                   OTHER FELONIES                                      \\n23-02-03987-ZCRAJA    02/16/2023  DANIEL, PATRICK HENRY                 OLS                                    \\n                                   EVADING ARREST DET W/VEH               OTHER FELONIES                                      \\n23-02-03988-ZCRAJA    02/16/2023  HERNANDEZ, ARTURO CRUZ                OLS                                    \\n   RODRIGUEZ JR., TED              SMUGGLING OF PERSONS                   OTHER FELONIES                                      \\n23-02-03989-ZCRAJA    02/16/2023  DURON, MIALYZA NICOLE                 OLS                                    \\n                                   SMUGGLING OF PERSONS                   OTHER FELONIES                                      \\n23-02-03990-ZCRAJA    02/16/2023  JOINER, JEROME RASHAWN                OLS                                    \\n                                   SMUGGLING OF PERSONS                   OTHER FELONIES                                      \\n23-02-03991-ZCRAJA    02/16/2023  CARTER, KEITHRICK TIJAH               OLS                                    \\n                                   SMUGGLING OF PERSONS                   OTHER FELONIES                                      \\n23-02-03992-ZCRAJA    02/16/2023  MATA, PRISCILLA ANN                   OLS                                    \\n                                   SMUGGLING OF PERSONS                   OTHER FELONIES                                      \\n23-02-03993-ZCRAJA    02/16/2023  MATA, PRISCILLA ANN                   OLS                                    \\n                                   SMUGGLING OF PERSONS: UNDER 18 YOA     OTHER FELONIES                                      \\n23-02-03994-ZCRAJA    02/16/2023  ALONZO, FREDDY A. VEGA                OLS                                    \\n                                   SMUGGLING OF PERSONS                   OTHER FELONIES                                      \\n23-02-03995-ZCRAJA    02/16/2023  FUENTES, MARIO ALBERTO MARTINEZ       OLS                                    \\n                                   SMUGGLING OF PERSONS: SBI OR DEATH     OTHER FELONIES                                      \\n23-02-03996-ZCRAJA    02/16/2023  FUENTES, MARIO ALBERTO MARTINEZ       OLS                                    \\n                                   SMUGGLING OF PERSONS: SBI OR DEATH     OTHER FELONIES                                      \\n23-02-03997-ZCRAJA    02/16/2023  FUENTES, MARIO ALBERTO MARTINEZ       OLS                                    \\n                                   SMUGGLING OF PERSONS: SBI OR DEATH     OTHER FELONIES                                      \\n23-02-03998-ZCRAJA    02/16/2023  BARRON, DANIEL ANDRES MAYA            OLS                                    \\n   RODRIGUEZ JR., TED              SMUGGLING OF PERSONS: FLEEING          OTHER FELONIES                                      \\n   RODRIGUEZ JR., TED                                                                                                         \\n23-02-03999-ZCRAJA    02/16/2023  TEATE, DALCOBY DONNELL                OLS                                    \\n                                   SMUGGLING OF PERSONS                   OTHER FELONIES                                      \\n23-02-04000-ZCRAJA    02/16/2023  RUVALCABA, SONIA ARACELI              OLS                                    \\n                                   SMUGGLING OF PERSONS                   OTHER FELONIES                                      \\n23-02-04001-ZCRAJA    02/16/2023  RUVALCABA, SONIA ARACELI              OLS                                    \\n                                   POSS CS PG 1 <1G                       DRUG POSSESSION                                     \\n23-02-04002-ZCRAJA    02/16/2023  PHILLIPS, JOSHUA RONALD               OLS                                    \\n                                   SMUGGLING OF PERSONS                   OTHER FELONIES                                      \\n23-02-04003-ZCRAJA    02/16/2023  REYES, RUBEN HERNANDEZ                OLS                                    \\n                                   SMUGGLING OF PERSONS                   OTHER FELONIES                                      \\n23-02-04004-ZCRAJA    02/16/2023  GUERRA, DAMIAN RAY                    OLS                                    \\n                                   EVADING ARREST DET W/VEH               OTHER FELONIES                                      \\n23-02-04005-ZCRAJA    02/16/2023  MONREAL, XAVIER ORTIZ                 OLS                                    \\n                                   EVADING ARREST DET W/VEH               OTHER FELONIES                                      \\n23-02-04006-ZCRAJA    02/16/2023  MARQUEZ, ADXEL GUERRA                 OLS                                    \\n                                   SMUGGLING OF PERSONS                   OTHER FELONIES                                      \\n23-02-04007-ZCRAJA    02/16/2023  ALVAREZ, DAVID                        OLS                                    \\n                                   SMUGGLING OF PERSONS: UNDER 18 YOA     OTHER FELONIES                                      \\n23-02-04008-ZCRAJA    02/16/2023  ALVAREZ, MARIA GUADALUPE              OLS                                    \\n                                   SMUGGLING OF PERSONS                   OTHER FELONIES                                      \\n23-02-04009-ZCRAJA    02/16/2023  GOMEZ, NESTOR GEOVANNI ORTIZ          OLS                                    \\n                                   SMUGGLING OF PERSONS                   OTHER FELONIES                                      \\n23-02-04010-ZCRAJA    02/16/2023  SOTO, IRENE NICOLE                    OLS                                    \\n                                   SMUGGLING OF PERSONS                   OTHER FELONIES                                      \\n23-02-04011-ZCRAJA    02/16/2023  GUERRA, DAMIAN RAY                    OLS                                    \\n                                   SMUGGLING OF PERSONS                   OTHER FELONIES                                      \\n23-02-04012-ZCRAJA    02/16/2023  CROSSWELL, CHRISTOPHER ANDERSON       OLS                                    \\n                                   EVADING ARREST DET W/VEH               OTHER FELONIES                                      \\n23-02-04013-ZCRAJA    02/16/2023  CROSWELL, CHRISTOPHER ANDERSON        OLS                                    \\n                                   SMUGGLING OF PERSONS                   OTHER FELONIES                                      \\n23-03-04016-ZCRAJA    04/17/2023  ALAS, ODALYS MARCELA                  OLS                                    \\n                                   SMUGGLING OF PERSONS: PECUNIARY        OTHER FELONIES                                      \\n                                   BENEFIT                                                                                    \\n23-03-04017-ZCRAJA    04/17/2023  COMPIAN JR, PERFECTO                  OLS                                    \\n                                   SMUGGLING OF PERSONS: FLEEING          OTHER FELONIES                                      \\n23-03-04018-ZCRAJA    04/17/2023  GALLARDO, JOSE ABDON IBARRA           OLS                                    \\n                                   SMUGGLING OF PERSONS: PECUNIARY        OTHER FELONIES                                      \\n                                   BENEFIT                                                                                    \\n23-03-04020-ZCRAJA    04/18/2023  RIOS, NOE                             OLS                                    \\n                                   SMUGGLING OF PERSONS: PECUNIARY        OTHER FELONIES                                      \\n                                   BENEFIT                                                                                    \\n23-04-04033-ZCRAJA    04/27/2023  SHEDRICK, RUDOLPH JOHN                OLS                                    \\n                                   SMUGGLING OF PERSONS                   OTHER FELONIES                                      \\n23-04-04034-ZCRAJA    04/27/2023  CAMPOS, FLOR ALEJANDRA MENDOZA        OLS                                    \\n                                   SMUGGLING OF PERSONS                   OTHER FELONIES                                      \\n23-04-04035-ZCRAJA    04/27/2023  SEGOVIA, ROSA ISABEL                  OLS                                    \\n                                   EVADING ARREST DET W/VEH               OTHER FELONIES                                      \\n23-04-04036-ZCRAJA    04/27/2023  ALPIZAR, JASMINE                      OLS                                    \\n                                   SMUGGLING OF PERSONS                   OTHER FELONIES                                      \\n23-04-04037-ZCRAJA    04/27/2023  VALDEZ, JASON ALLEN                   OLS                                    \\n                                   SMUGGLING OF PERSONS                   OTHER FELONIES                                      \\n23-04-04038-ZCRAJA    04/27/2023  OROPEZA, ALFREDO DURAN                OLS                                    \\n                                   SMUGGLING OF PERSONS: FLEEING          OTHER FELONIES                                      \\n23-04-04039-ZCRAJA    04/27/2023  IBARRA, OSCAR ALBERTO                 OLS                                    \\n                                   SMUGGLING OF PERSONS: PECUNIARY        OTHER FELONIES                                      \\n                                   BENEFIT                                                                                    \\n23-04-04040-ZCRAJA    04/27/2023  IPINA, DULCE                          OLS                                    \\n                                   EVADING ARREST DET W/VEH               OTHER FELONIES                                      \\n23-04-04041-ZCRAJA    04/27/2023  MEYER, DAVID ASHTON                   OLS                                    \\n                                   SMUGGLING OF PERSONS                   OTHER FELONIES                                      \\n23-04-04042-ZCRAJA    04/27/2023  SAMANIEGO, CHRISTOPHER LAWREN         OLS                                    \\n                                   SMUGGLING OF PERSONS                   OTHER FELONIES                                      \\n23-04-04043-ZCRAJA    04/27/2023  MEDINA, VERONICA SAHARAI              OLS                                    \\n                                   SMUGGLING OF PERSONS                   OTHER FELONIES                                      \\n23-04-04044-ZCRAJA    04/27/2023  HERNANDEZ, MARLENE LEDESMA            OLS                                    \\n                                   SMUGGLING OF PERSONS                   OTHER FELONIES                                      \\n23-04-04045-ZCRAJA    04/27/2023  GRACIANO, JOHN ANTHONY                OLS                                    \\n                                   SMUGGLING OF PERSONS                   OTHER FELONIES                                      \\n23-04-04046-ZCRAJA    04/27/2023  SOLORZANO, ERIC GARCIA                OLS                                    \\n                                   SMUGGLING OF PERSONS: FLEEING          OTHER FELONIES                                      \\n23-04-04047-ZCRAJA    04/27/2023  FUENTES, DAVID NOE                    OLS                                    \\n                                   SMUGGLING OF PERSONS                   OTHER FELONIES                                      \\n23-04-04048-ZCRAJA    04/27/2023  ALEMAN, LUIS MORADEL                  OLS                                    \\n                                   SMUGGLING OF PERSONS                   OTHER FELONIES                                      \\n23-04-04049-ZCRAJA    04/27/2023  GAUNA, NANCY MARIE                    OLS                                    \\n                                   SMUGGLING OF PERSONS                   OTHER FELONIES                                      \\n23-04-04050-ZCRAJA    04/27/2023  LE, DERICK HUY TRANH                  OLS                                    \\n                                   EVADING ARREST DET W/VEH               OTHER FELONIES                                      \\n23-04-04051-ZCRAJA    04/27/2023  ARENAS JR., ARTURO                    OLS                                    \\n                                   SMUGGLING OF PERSONS: PECUNIARY        OTHER FELONIES                                      \\n                                   BENEFIT                                                                                    \\n23-04-04052-ZCRAJA    04/27/2023  MACIAS, JULIA MARIE                   OLS                                    \\n                                   SMUGGLING OF PERSONS                   OTHER FELONIES                                      \\n23-04-04053-ZCRAJA    04/27/2023  DAVILA, JOSE FELIPE                   OLS                                    \\n                                   SMUGGLING OF PERSONS: FLEEING          OTHER FELONIES                                      \\n23-04-04028-ZCRAJA    05/02/2023  RODRIGUEZ, SAMUEL ROBERTO RAMIREZ     OLS                                    \\n                                   SMUGGLING OF PERSONS: MONETARY GAIN    OTHER FELONIES                                      \\n23-04-04029-ZCRAJA    05/02/2023  ALVAREZ, LISA MICHELLE                OLS                                    \\n                                   SMUGGLING OF PERSONS: UNDER 18 YOA     OTHER FELONIES                                      \\n23-04-04030-ZCRAJA    05/02/2023  WILLIAMS, TELLAS SAVALAS              OLS                                    \\n                                   SMUGGLING OF PERSONS: MONETARY GAIN    OTHER FELONIES                                      \\n23-04-04031-ZCRAJA    05/02/2023  CROWELL, TRENTON LANE                 OLS                                    \\n                                   SMUGGLING OF PERSONS: MONETARY GAIN    OTHER FELONIES                                      \\n23-04-04032-ZCRAJA    05/02/2023  PATTERSON, RANDY JAMES                OLS                                    \\n                                   SMUGGLING OF PERSONS: MONETARY GAIN    OTHER FELONIES                                      \\n23-05-04058-ZCRAJA    05/23/2023  ESPINOZA, LAURA PATRICIA ROMERO       OLS                                    \\n                                   SMUGGLING OF PERSONS                   OTHER FELONIES                                      \\n23-05-04059-ZCRAJA    05/23/2023  GONZALEZ, BRYAN ANTHONY               OLS                                    \\n                                   SMUGGLING OF PERSONS                   OTHER FELONIES                                      \\n23-05-04060-ZCRAJA    05/23/2023  CEDILLO, YHAJAIRA                     OLS                                    \\n                                   SMUGGLING OF PERSONS                   OTHER FELONIES                                      \\n23-05-04061-ZCRAJA    05/23/2023  ZAPATA, CARLOS OMAR                   OLS                                    \\n                                   SMUGGLING OF PERSONS                   OTHER FELONIES                                      \\n23-05-04062-ZCRAJA    05/23/2023  SANDIA, JUAN MENDEZ                   OLS                                    \\n                                   SMUGGLING OF PERSONS                   OTHER FELONIES                                      \\n23-05-04064-ZCRAJA    05/23/2023  SAUR, DIANE RAMIREZ                   OLS                                    \\n                                   EVADE ARR DET W/VEH/WTRCFT W/PREV      OTHER FELONIES                                      \\n                                   CONV OR SBI                                                                                \\n23-05-04066-ZCRAJA    05/23/2023  DUBON, EDGARDO BARRERA                OLS                                    \\n                                   SMUGGLING OF PERSONS: UNDER 18 YOA     OTHER FELONIES                                      \\n23-05-04067-ZCRAJA    05/23/2023  CASTLEMAN, CHARLES WILLIAM            OLS                                    \\n                                   SMUGGLING OF PERSONS                   OTHER FELONIES                                      \\n\\nTOTAL NUMBER OF CASES ADDED/APPEALED: 0'"
      ]
     },
     "execution_count": 19,
     "metadata": {},
     "output_type": "execute_result"
    }
   ],
   "source": [
    "new_body = re.sub(r\"\"\"\\nTOTAL NUMBER OF MTR-A FILINGS: [0-9\\n-]*ALL OTHER CASES ADDED/APPEALED[\\n-]*\"\"\", '', new_body)\n",
    "new_body"
   ]
  },
  {
   "cell_type": "code",
   "execution_count": 20,
   "id": "9a77045e",
   "metadata": {},
   "outputs": [
    {
     "data": {
      "text/plain": [
       "'23-05-04063-ZCRAJA    05/23/0203  THOMPSON, TAREZ CHARLES               OLS                                    \\n                                   SMUGGLING OF PERSONS: UNDER 18 YOA     OTHER FELONIES                                      \\n23-05-04065-ZCRAJA    05/23/2021  FLORES, JOE ANTHONY                   OLS                                    \\n                                   SMUGGLING OF PERSONS: FIREARM          OTHER FELONIES                                      \\n22-05-03911-ZCR       05/13/2022  TORRES, BRYAN OMAR ESCOBAR            OLS                                    \\n                                   SMUGGLING OF PERSONS                   OTHER FELONIES                                      \\n22-05-03912-ZCR       05/13/2022  GONZALEZ ESCOBAR, MARIA T.            OLS                                    \\n                                   SMUGGLING OF PERSONS                   OTHER FELONIES                                      \\n22-05-03913-ZCR       05/13/2022  LOPEZ, DANIEL PEREZ                   OLS                                    \\n                                   SMUGGLING OF PERSONS                   OTHER FELONIES                                      \\n22-05-03914-ZCR       05/13/2022  CONTRERAS DE JESUS, JOSE              OLS                                    \\n   PONCE, FRANCISCO                SMUGGLING OF PERSONS                   OTHER FELONIES                                      \\n22-05-03915-ZCR       05/13/2022  ALLEN, CHRISTOPHER DESHAWN            OLS                                    \\n                                   SMUGGLING OF PERSONS                   OTHER FELONIES                                      \\n22-05-03917-ZCR       05/13/2022  ANORVE, JASON QUINTERO                OLS                                    \\n                                   SMUGGLING OF PERSONS                   OTHER FELONIES                                      \\n22-08-03924-ZCRAJA    08/10/2022  MOTEN III, BOBBY EUGENE               OLS                                    \\n   RODRIGUEZ JR., TED              SMUGGLING OF PERSONS                   OTHER FELONIES                                      \\n22-08-03925-ZCRAJA    08/10/2022  MOTEN III, BOBBY EUGENE               OLS                                    \\n                                   EVADING ARREST DET W/VEH               OTHER FELONIES                                      \\n22-08-03926-ZCRAJA    08/10/2022  CRUZ, CARLOS MANUEL                   OLS                                    \\n   RODRIGUEZ JR., TED              SMUGGLING OF PERSONS                   OTHER FELONIES                                      \\n22-08-03930-ZCRAJA    08/10/2022  HARRIS, BURNARSHA ASHUNAE             OLS                                    \\n                                   SMUGGLING OF PERSONS                   OTHER FELONIES                                      \\n22-08-03932-ZCRAJA    08/10/2022  WILKINS, ERIN DORAY                   OLS                                    \\n                                   SMUGGLING OF PERSONS                   OTHER FELONIES                                      \\n22-08-03933-ZCRAJA    08/10/2022  CHAIREZ, JOSE ALFREDO                 OLS                                    \\n                                   SMUGGLING OF PERSONS                   OTHER FELONIES                                      \\n22-08-03936-ZCRAJA    08/10/2022  WILLIAMS, DAVID EDWARD                OLS                                    \\n                                   SMUGGLING OF PERSONS: UNDER 18 YOA     OTHER FELONIES                                      \\n22-08-03938-ZCRAJA    08/10/2022  NAVA, MARCOS GERARDO                  OLS                                    \\n                                   SMUGGLING OF PERSONS                   OTHER FELONIES                                      \\n22-08-03939-ZCRAJA    08/10/2022  MOSLEY, CORY NICHOLS                  OLS                                    \\n                                   SMUGGLING OF PERSONS                   OTHER FELONIES                                      \\n22-08-03940-ZCRAJA    08/10/2022  ALVARADO, PATRICIA FELIZA             OLS                                    \\n                                   SMUGGLING OF PERSONS                   OTHER FELONIES                                      \\n22-08-03942-ZCRAJA    08/10/2022  ARREDONDO JR, RAMON                   OLS                                    \\n                                   SMUGGLING OF PERSONS                   OTHER FELONIES                                      \\n22-08-03943-ZCR       08/10/2022  MORATAYA, ANGEL HERNANDEZ             OLS                                    \\n                                   SMUGGLING OF PERSONS                   OTHER FELONIES                                      \\n22-08-03944-ZCRAJA    08/10/2022  RAMIREZ, DAMIAN ROY                   OLS                                    \\n                                   SMUGGLING OF PERSONS                   OTHER FELONIES                                      \\n22-08-03945-ZCRAJA    08/10/2022  CHERNOSKY, DONNA RENNEE               OLS                                    \\n                                   SMUGGLING OF PERSONS                   OTHER FELONIES                                      \\n22-08-03946-ZCRAJA    08/10/2022  AGUIRRE JR, DAVID                     OLS                                    \\n   PONCE, FRANCISCO                SMUGGLING OF PERSONS                   OTHER FELONIES                                      \\n22-08-03948-ZCRAJA    08/10/2022  ANDRADE, KARINA M                     OLS                                    \\n                                   SMUGGLING OF PERSONS                   OTHER FELONIES                                      \\n22-08-03949-ZCRAJA    08/10/2022  ANDRADE, KARINA M                     OLS                                    \\n                                   EVADING ARREST DET W/VEH               OTHER FELONIES                                      \\n22-08-03950-ZCRAJA    08/10/2022  MOORE JR, PAUL JOHN                   OLS                                    \\n                                   SMUGGLING OF PERSONS                   OTHER FELONIES                                      \\n22-08-03951-ZCR       08/10/2022  PASTRANA, JAIME MATUTE                OLS                                    \\n                                   SMUGGLING OF PERSONS                   OTHER FELONIES                                      \\n22-08-03952-ZCRAJA    08/10/2022  LOPEZ, AUSTIN RYAN                    OLS                                    \\n                                   SMUGGLING OF PERSONS                   OTHER FELONIES                                      \\n22-08-03928-ZCRAJA    08/29/2022  RAMIREZ, NAHTANIEL XAVIER             OLS                                    \\n                                   SMUGGLING OF PERSONS                   OTHER FELONIES                                      \\n22-11-03964-ZCRAJA    11/09/2022  JIMENEZ, VICTOR HUGO                  OLS                                    \\n   PONCE, FRANCISCO                SMUGGLING OF PERSONS: PECUNIARY        OTHER FELONIES                                      \\n                                   BENEFIT                                                                                    \\n22-11-03965-ZCR       11/09/2022  MIRELES, BLAS CRLOS                   OLS                                    \\n                                   SMUGGLING OF PERSONS: LIKELIHOOD SBI   OTHER FELONIES                                      \\n                                   OR DEATH                                                                                   \\n23-02-03975-ZCRAJA    02/16/2023  MENDOZA III, VALENTIN                 OLS                                    \\n                                   SMUGGLING OF PERSONS                   OTHER FELONIES                                      \\n23-02-03976-ZCRAJA    02/16/2023  RINA, DULCE RUBY                      OLS                                    \\n                                   SMUGGLING OF PERSONS                   OTHER FELONIES                                      \\n23-02-03977-ZCRAJA    02/16/2023  MURILLO, MARIANO DAVILA               OLS                                    \\n                                   SMUGGLING OF PERSONS                   OTHER FELONIES                                      \\n23-02-03978-ZCRAJA    02/16/2023  ANDUJAR, JULIO CESAR NATER            OLS                                    \\n                                   SMUGGLING OF PERSONS                   OTHER FELONIES                                      \\n23-02-03979-ZCRAJA    02/16/2023  GARCIA JR, ROBERTO                    OLS                                    \\n                                   SMUGGLING OF PERSONS                   OTHER FELONIES                                      \\n23-02-03980-ZCRAJA    02/16/2023  ROSALES, NOE CORREA                   OLS                                    \\n                                   SMUGGLING OF PERSONS                   OTHER FELONIES                                      \\n23-02-03981-ZCRAJA    02/16/2023  HERNDERSON, TERAICE LARAY             OLS                                    \\n                                   SMUGGLING OF PERSONS                   OTHER FELONIES                                      \\n23-02-03982-ZCRAJA    02/16/2023  CRUZ, NORMA M GALO                    OLS                                    \\n                                   SMUGGLING OF PERSONS                   OTHER FELONIES                                      \\n23-02-03983-ZCRAJA    02/16/2023  HERNANDEZ, JOSIAS PEREZ               OLS                                    \\n   DE LOS SANTOS, LUIS             SMUGGLING OF PERSONS                   OTHER FELONIES                                      \\n23-02-03984-ZCRAJA    02/16/2023  CAMPOS, JUAN CARLOS                   OLS                                    \\n                                   SMUGGLING OF PERSONS                   OTHER FELONIES                                      \\n23-02-03985-ZCRAJA    02/16/2023  GARCIA, PAUL ALLEN                    OLS                                    \\n   CASARES, ANDREA                 EVADING ARREST DET W/VEH               OTHER FELONIES                                      \\n23-02-03986-ZCRAJA    02/16/2023  RIVAS, ERVIN ARIEL                    OLS                                    \\n                                   SMUGGLING OF PERSONS                   OTHER FELONIES                                      \\n23-02-03987-ZCRAJA    02/16/2023  DANIEL, PATRICK HENRY                 OLS                                    \\n                                   EVADING ARREST DET W/VEH               OTHER FELONIES                                      \\n23-02-03988-ZCRAJA    02/16/2023  HERNANDEZ, ARTURO CRUZ                OLS                                    \\n   RODRIGUEZ JR., TED              SMUGGLING OF PERSONS                   OTHER FELONIES                                      \\n23-02-03989-ZCRAJA    02/16/2023  DURON, MIALYZA NICOLE                 OLS                                    \\n                                   SMUGGLING OF PERSONS                   OTHER FELONIES                                      \\n23-02-03990-ZCRAJA    02/16/2023  JOINER, JEROME RASHAWN                OLS                                    \\n                                   SMUGGLING OF PERSONS                   OTHER FELONIES                                      \\n23-02-03991-ZCRAJA    02/16/2023  CARTER, KEITHRICK TIJAH               OLS                                    \\n                                   SMUGGLING OF PERSONS                   OTHER FELONIES                                      \\n23-02-03992-ZCRAJA    02/16/2023  MATA, PRISCILLA ANN                   OLS                                    \\n                                   SMUGGLING OF PERSONS                   OTHER FELONIES                                      \\n23-02-03993-ZCRAJA    02/16/2023  MATA, PRISCILLA ANN                   OLS                                    \\n                                   SMUGGLING OF PERSONS: UNDER 18 YOA     OTHER FELONIES                                      \\n23-02-03994-ZCRAJA    02/16/2023  ALONZO, FREDDY A. VEGA                OLS                                    \\n                                   SMUGGLING OF PERSONS                   OTHER FELONIES                                      \\n23-02-03995-ZCRAJA    02/16/2023  FUENTES, MARIO ALBERTO MARTINEZ       OLS                                    \\n                                   SMUGGLING OF PERSONS: SBI OR DEATH     OTHER FELONIES                                      \\n23-02-03996-ZCRAJA    02/16/2023  FUENTES, MARIO ALBERTO MARTINEZ       OLS                                    \\n                                   SMUGGLING OF PERSONS: SBI OR DEATH     OTHER FELONIES                                      \\n23-02-03997-ZCRAJA    02/16/2023  FUENTES, MARIO ALBERTO MARTINEZ       OLS                                    \\n                                   SMUGGLING OF PERSONS: SBI OR DEATH     OTHER FELONIES                                      \\n23-02-03998-ZCRAJA    02/16/2023  BARRON, DANIEL ANDRES MAYA            OLS                                    \\n   RODRIGUEZ JR., TED              SMUGGLING OF PERSONS: FLEEING          OTHER FELONIES                                      \\n   RODRIGUEZ JR., TED                                                                                                         \\n23-02-03999-ZCRAJA    02/16/2023  TEATE, DALCOBY DONNELL                OLS                                    \\n                                   SMUGGLING OF PERSONS                   OTHER FELONIES                                      \\n23-02-04000-ZCRAJA    02/16/2023  RUVALCABA, SONIA ARACELI              OLS                                    \\n                                   SMUGGLING OF PERSONS                   OTHER FELONIES                                      \\n23-02-04001-ZCRAJA    02/16/2023  RUVALCABA, SONIA ARACELI              OLS                                    \\n                                   POSS CS PG 1 <1G                       DRUG POSSESSION                                     \\n23-02-04002-ZCRAJA    02/16/2023  PHILLIPS, JOSHUA RONALD               OLS                                    \\n                                   SMUGGLING OF PERSONS                   OTHER FELONIES                                      \\n23-02-04003-ZCRAJA    02/16/2023  REYES, RUBEN HERNANDEZ                OLS                                    \\n                                   SMUGGLING OF PERSONS                   OTHER FELONIES                                      \\n23-02-04004-ZCRAJA    02/16/2023  GUERRA, DAMIAN RAY                    OLS                                    \\n                                   EVADING ARREST DET W/VEH               OTHER FELONIES                                      \\n23-02-04005-ZCRAJA    02/16/2023  MONREAL, XAVIER ORTIZ                 OLS                                    \\n                                   EVADING ARREST DET W/VEH               OTHER FELONIES                                      \\n23-02-04006-ZCRAJA    02/16/2023  MARQUEZ, ADXEL GUERRA                 OLS                                    \\n                                   SMUGGLING OF PERSONS                   OTHER FELONIES                                      \\n23-02-04007-ZCRAJA    02/16/2023  ALVAREZ, DAVID                        OLS                                    \\n                                   SMUGGLING OF PERSONS: UNDER 18 YOA     OTHER FELONIES                                      \\n23-02-04008-ZCRAJA    02/16/2023  ALVAREZ, MARIA GUADALUPE              OLS                                    \\n                                   SMUGGLING OF PERSONS                   OTHER FELONIES                                      \\n23-02-04009-ZCRAJA    02/16/2023  GOMEZ, NESTOR GEOVANNI ORTIZ          OLS                                    \\n                                   SMUGGLING OF PERSONS                   OTHER FELONIES                                      \\n23-02-04010-ZCRAJA    02/16/2023  SOTO, IRENE NICOLE                    OLS                                    \\n                                   SMUGGLING OF PERSONS                   OTHER FELONIES                                      \\n23-02-04011-ZCRAJA    02/16/2023  GUERRA, DAMIAN RAY                    OLS                                    \\n                                   SMUGGLING OF PERSONS                   OTHER FELONIES                                      \\n23-02-04012-ZCRAJA    02/16/2023  CROSSWELL, CHRISTOPHER ANDERSON       OLS                                    \\n                                   EVADING ARREST DET W/VEH               OTHER FELONIES                                      \\n23-02-04013-ZCRAJA    02/16/2023  CROSWELL, CHRISTOPHER ANDERSON        OLS                                    \\n                                   SMUGGLING OF PERSONS                   OTHER FELONIES                                      \\n23-03-04016-ZCRAJA    04/17/2023  ALAS, ODALYS MARCELA                  OLS                                    \\n                                   SMUGGLING OF PERSONS: PECUNIARY        OTHER FELONIES                                      \\n                                   BENEFIT                                                                                    \\n23-03-04017-ZCRAJA    04/17/2023  COMPIAN JR, PERFECTO                  OLS                                    \\n                                   SMUGGLING OF PERSONS: FLEEING          OTHER FELONIES                                      \\n23-03-04018-ZCRAJA    04/17/2023  GALLARDO, JOSE ABDON IBARRA           OLS                                    \\n                                   SMUGGLING OF PERSONS: PECUNIARY        OTHER FELONIES                                      \\n                                   BENEFIT                                                                                    \\n23-03-04020-ZCRAJA    04/18/2023  RIOS, NOE                             OLS                                    \\n                                   SMUGGLING OF PERSONS: PECUNIARY        OTHER FELONIES                                      \\n                                   BENEFIT                                                                                    \\n23-04-04033-ZCRAJA    04/27/2023  SHEDRICK, RUDOLPH JOHN                OLS                                    \\n                                   SMUGGLING OF PERSONS                   OTHER FELONIES                                      \\n23-04-04034-ZCRAJA    04/27/2023  CAMPOS, FLOR ALEJANDRA MENDOZA        OLS                                    \\n                                   SMUGGLING OF PERSONS                   OTHER FELONIES                                      \\n23-04-04035-ZCRAJA    04/27/2023  SEGOVIA, ROSA ISABEL                  OLS                                    \\n                                   EVADING ARREST DET W/VEH               OTHER FELONIES                                      \\n23-04-04036-ZCRAJA    04/27/2023  ALPIZAR, JASMINE                      OLS                                    \\n                                   SMUGGLING OF PERSONS                   OTHER FELONIES                                      \\n23-04-04037-ZCRAJA    04/27/2023  VALDEZ, JASON ALLEN                   OLS                                    \\n                                   SMUGGLING OF PERSONS                   OTHER FELONIES                                      \\n23-04-04038-ZCRAJA    04/27/2023  OROPEZA, ALFREDO DURAN                OLS                                    \\n                                   SMUGGLING OF PERSONS: FLEEING          OTHER FELONIES                                      \\n23-04-04039-ZCRAJA    04/27/2023  IBARRA, OSCAR ALBERTO                 OLS                                    \\n                                   SMUGGLING OF PERSONS: PECUNIARY        OTHER FELONIES                                      \\n                                   BENEFIT                                                                                    \\n23-04-04040-ZCRAJA    04/27/2023  IPINA, DULCE                          OLS                                    \\n                                   EVADING ARREST DET W/VEH               OTHER FELONIES                                      \\n23-04-04041-ZCRAJA    04/27/2023  MEYER, DAVID ASHTON                   OLS                                    \\n                                   SMUGGLING OF PERSONS                   OTHER FELONIES                                      \\n23-04-04042-ZCRAJA    04/27/2023  SAMANIEGO, CHRISTOPHER LAWREN         OLS                                    \\n                                   SMUGGLING OF PERSONS                   OTHER FELONIES                                      \\n23-04-04043-ZCRAJA    04/27/2023  MEDINA, VERONICA SAHARAI              OLS                                    \\n                                   SMUGGLING OF PERSONS                   OTHER FELONIES                                      \\n23-04-04044-ZCRAJA    04/27/2023  HERNANDEZ, MARLENE LEDESMA            OLS                                    \\n                                   SMUGGLING OF PERSONS                   OTHER FELONIES                                      \\n23-04-04045-ZCRAJA    04/27/2023  GRACIANO, JOHN ANTHONY                OLS                                    \\n                                   SMUGGLING OF PERSONS                   OTHER FELONIES                                      \\n23-04-04046-ZCRAJA    04/27/2023  SOLORZANO, ERIC GARCIA                OLS                                    \\n                                   SMUGGLING OF PERSONS: FLEEING          OTHER FELONIES                                      \\n23-04-04047-ZCRAJA    04/27/2023  FUENTES, DAVID NOE                    OLS                                    \\n                                   SMUGGLING OF PERSONS                   OTHER FELONIES                                      \\n23-04-04048-ZCRAJA    04/27/2023  ALEMAN, LUIS MORADEL                  OLS                                    \\n                                   SMUGGLING OF PERSONS                   OTHER FELONIES                                      \\n23-04-04049-ZCRAJA    04/27/2023  GAUNA, NANCY MARIE                    OLS                                    \\n                                   SMUGGLING OF PERSONS                   OTHER FELONIES                                      \\n23-04-04050-ZCRAJA    04/27/2023  LE, DERICK HUY TRANH                  OLS                                    \\n                                   EVADING ARREST DET W/VEH               OTHER FELONIES                                      \\n23-04-04051-ZCRAJA    04/27/2023  ARENAS JR., ARTURO                    OLS                                    \\n                                   SMUGGLING OF PERSONS: PECUNIARY        OTHER FELONIES                                      \\n                                   BENEFIT                                                                                    \\n23-04-04052-ZCRAJA    04/27/2023  MACIAS, JULIA MARIE                   OLS                                    \\n                                   SMUGGLING OF PERSONS                   OTHER FELONIES                                      \\n23-04-04053-ZCRAJA    04/27/2023  DAVILA, JOSE FELIPE                   OLS                                    \\n                                   SMUGGLING OF PERSONS: FLEEING          OTHER FELONIES                                      \\n23-04-04028-ZCRAJA    05/02/2023  RODRIGUEZ, SAMUEL ROBERTO RAMIREZ     OLS                                    \\n                                   SMUGGLING OF PERSONS: MONETARY GAIN    OTHER FELONIES                                      \\n23-04-04029-ZCRAJA    05/02/2023  ALVAREZ, LISA MICHELLE                OLS                                    \\n                                   SMUGGLING OF PERSONS: UNDER 18 YOA     OTHER FELONIES                                      \\n23-04-04030-ZCRAJA    05/02/2023  WILLIAMS, TELLAS SAVALAS              OLS                                    \\n                                   SMUGGLING OF PERSONS: MONETARY GAIN    OTHER FELONIES                                      \\n23-04-04031-ZCRAJA    05/02/2023  CROWELL, TRENTON LANE                 OLS                                    \\n                                   SMUGGLING OF PERSONS: MONETARY GAIN    OTHER FELONIES                                      \\n23-04-04032-ZCRAJA    05/02/2023  PATTERSON, RANDY JAMES                OLS                                    \\n                                   SMUGGLING OF PERSONS: MONETARY GAIN    OTHER FELONIES                                      \\n23-05-04058-ZCRAJA    05/23/2023  ESPINOZA, LAURA PATRICIA ROMERO       OLS                                    \\n                                   SMUGGLING OF PERSONS                   OTHER FELONIES                                      \\n23-05-04059-ZCRAJA    05/23/2023  GONZALEZ, BRYAN ANTHONY               OLS                                    \\n                                   SMUGGLING OF PERSONS                   OTHER FELONIES                                      \\n23-05-04060-ZCRAJA    05/23/2023  CEDILLO, YHAJAIRA                     OLS                                    \\n                                   SMUGGLING OF PERSONS                   OTHER FELONIES                                      \\n23-05-04061-ZCRAJA    05/23/2023  ZAPATA, CARLOS OMAR                   OLS                                    \\n                                   SMUGGLING OF PERSONS                   OTHER FELONIES                                      \\n23-05-04062-ZCRAJA    05/23/2023  SANDIA, JUAN MENDEZ                   OLS                                    \\n                                   SMUGGLING OF PERSONS                   OTHER FELONIES                                      \\n23-05-04064-ZCRAJA    05/23/2023  SAUR, DIANE RAMIREZ                   OLS                                    \\n                                   EVADE ARR DET W/VEH/WTRCFT W/PREV      OTHER FELONIES                                      \\n                                   CONV OR SBI                                                                                \\n23-05-04066-ZCRAJA    05/23/2023  DUBON, EDGARDO BARRERA                OLS                                    \\n                                   SMUGGLING OF PERSONS: UNDER 18 YOA     OTHER FELONIES                                      \\n23-05-04067-ZCRAJA    05/23/2023  CASTLEMAN, CHARLES WILLIAM            OLS                                    \\n                                   SMUGGLING OF PERSONS                   OTHER FELONIES                                      \\n'"
      ]
     },
     "execution_count": 20,
     "metadata": {},
     "output_type": "execute_result"
    }
   ],
   "source": [
    "new_body = re.sub(r\"\"\"\\nTOTAL NUMBER OF CASES ADDED/APPEALED: [0-9]*\"\"\", '', new_body)\n",
    "new_body"
   ]
  },
  {
   "cell_type": "code",
   "execution_count": 21,
   "id": "3db622c4",
   "metadata": {},
   "outputs": [],
   "source": [
    "#Split the text on the '\\n'\n",
    "cases = new_body.split('\\n')"
   ]
  },
  {
   "cell_type": "code",
   "execution_count": 22,
   "id": "6ee8c32f",
   "metadata": {},
   "outputs": [],
   "source": [
    "#Establish a container list for the dictionaries\n",
    "case_list = []\n",
    "attorney_names = []\n",
    "offense_list = []\n",
    "st_rpt_list = []\n",
    "temp_dict = {}"
   ]
  },
  {
   "cell_type": "code",
   "execution_count": 23,
   "id": "826091a3",
   "metadata": {},
   "outputs": [
    {
     "data": {
      "text/plain": [
       "111"
      ]
     },
     "execution_count": 23,
     "metadata": {},
     "output_type": "execute_result"
    }
   ],
   "source": [
    "len(cases[0])"
   ]
  },
  {
   "cell_type": "code",
   "execution_count": 25,
   "id": "0e683c25",
   "metadata": {},
   "outputs": [],
   "source": [
    "#Remove cases that happen to be empty or consist of whitespace only\n",
    "cases = [case for case in cases if case.isspace() == False and len(case) > 0]"
   ]
  },
  {
   "cell_type": "code",
   "execution_count": 26,
   "id": "4ab26cf1",
   "metadata": {},
   "outputs": [],
   "source": [
    "for line in cases:\n",
    "    #Check if line is the start of a new case\n",
    "    if not line[0].isspace():\n",
    "        #Check if the temp_dict is empty.\n",
    "        #If not, add temp_dict data to case_list\n",
    "        if bool(temp_dict) == True:\n",
    "            #Add list info to temp_dict\n",
    "            temp_dict['Attorney'] = attorney_names\n",
    "            temp_dict['First Offense'] = offense_list\n",
    "            temp_dict['ST RPT Column'] = st_rpt_list\n",
    "            \n",
    "            #Add temp dict data to case_list\n",
    "            case_list.append(temp_dict)\n",
    "        \n",
    "        #Reset temp_dict\n",
    "        temp_dict = {}\n",
    "        \n",
    "        #Reset lists\n",
    "        attorney_names = []\n",
    "        offense_list = []\n",
    "        st_rpt_list = []\n",
    "        \n",
    "        #Gather the cause number\n",
    "        temp_dict['Cause Number'] = line[:22].strip()\n",
    "        \n",
    "        #Gather the file date\n",
    "        temp_dict['File Date'] = line[22:34].strip()\n",
    "        \n",
    "        #Get defendant name\n",
    "        temp_dict['Defendant'] = line[34:72].strip()\n",
    "        \n",
    "        #Get court\n",
    "        temp_dict['Court'] = line[72:79].strip()\n",
    "        \n",
    "        #Get docket date\n",
    "        temp_dict['Docket Date'] = line[79:89].strip()\n",
    "        \n",
    "        #Get outstanding warrants\n",
    "        temp_dict['Outstanding Warrants'] = line[89:].strip()\n",
    "        \n",
    "        #End of line, so move to next one\n",
    "    \n",
    "    else:\n",
    "        #Get attorney name\n",
    "        attorney_name = line[:35].strip()\n",
    "        \n",
    "        #Check if attorney_name is all whitesapace. If not, strip it and add to names list\n",
    "        #Also check that the string is not empty\n",
    "        if attorney_name.isspace() == False and len(attorney_name) > 0:\n",
    "            attorney_names.append(attorney_name.strip())\n",
    "        \n",
    "        #Get first offense\n",
    "        offense = line[35:74].strip()\n",
    "        \n",
    "        #Check if offense is all whitesapace. If not, strip it and add to names list\n",
    "        #Also check that the string is not empty\n",
    "        if offense.isspace() == False and len(offense) > 0:\n",
    "            offense_list.append(offense.strip())\n",
    "        \n",
    "        #Get ST RPT Column\n",
    "        st_rpt = line[74:].strip()\n",
    "        \n",
    "        #Check if st_rpt is all whitesapace. If not, strip it and add to names list\n",
    "        #Also check that the string is not empty\n",
    "        if st_rpt.isspace() == False and len(st_rpt) > 0:\n",
    "            st_rpt_list.append(st_rpt.strip())\n",
    "        \n",
    "        #End of line\n",
    "        \n",
    "#Check that the last case was added to the list\n",
    "#If not, add it\n",
    "#Add list info to temp_dict\n",
    "temp_dict['Attorney'] = attorney_names\n",
    "temp_dict['First Offense'] = offense_list\n",
    "temp_dict['ST RPT Column'] = st_rpt_list\n",
    "\n",
    "#Add temp dict data to case_list\n",
    "case_list.append(temp_dict)"
   ]
  },
  {
   "cell_type": "code",
   "execution_count": 27,
   "id": "072bc685",
   "metadata": {
    "scrolled": false
   },
   "outputs": [
    {
     "data": {
      "text/html": [
       "<div>\n",
       "<style scoped>\n",
       "    .dataframe tbody tr th:only-of-type {\n",
       "        vertical-align: middle;\n",
       "    }\n",
       "\n",
       "    .dataframe tbody tr th {\n",
       "        vertical-align: top;\n",
       "    }\n",
       "\n",
       "    .dataframe thead th {\n",
       "        text-align: right;\n",
       "    }\n",
       "</style>\n",
       "<table border=\"1\" class=\"dataframe\">\n",
       "  <thead>\n",
       "    <tr style=\"text-align: right;\">\n",
       "      <th></th>\n",
       "      <th>Cause Number</th>\n",
       "      <th>File Date</th>\n",
       "      <th>Defendant</th>\n",
       "      <th>Court</th>\n",
       "      <th>Docket Date</th>\n",
       "      <th>Outstanding Warrants</th>\n",
       "      <th>Attorney</th>\n",
       "      <th>First Offense</th>\n",
       "      <th>ST RPT Column</th>\n",
       "    </tr>\n",
       "  </thead>\n",
       "  <tbody>\n",
       "    <tr>\n",
       "      <th>0</th>\n",
       "      <td>23-05-04063-ZCRAJA</td>\n",
       "      <td>05/23/0203</td>\n",
       "      <td>THOMPSON, TAREZ CHARLES</td>\n",
       "      <td>OLS</td>\n",
       "      <td></td>\n",
       "      <td></td>\n",
       "      <td>[]</td>\n",
       "      <td>[SMUGGLING OF PERSONS: UNDER 18 YOA]</td>\n",
       "      <td>[OTHER FELONIES]</td>\n",
       "    </tr>\n",
       "    <tr>\n",
       "      <th>1</th>\n",
       "      <td>23-05-04065-ZCRAJA</td>\n",
       "      <td>05/23/2021</td>\n",
       "      <td>FLORES, JOE ANTHONY</td>\n",
       "      <td>OLS</td>\n",
       "      <td></td>\n",
       "      <td></td>\n",
       "      <td>[]</td>\n",
       "      <td>[SMUGGLING OF PERSONS: FIREARM]</td>\n",
       "      <td>[OTHER FELONIES]</td>\n",
       "    </tr>\n",
       "    <tr>\n",
       "      <th>2</th>\n",
       "      <td>22-05-03911-ZCR</td>\n",
       "      <td>05/13/2022</td>\n",
       "      <td>TORRES, BRYAN OMAR ESCOBAR</td>\n",
       "      <td>OLS</td>\n",
       "      <td></td>\n",
       "      <td></td>\n",
       "      <td>[]</td>\n",
       "      <td>[SMUGGLING OF PERSONS]</td>\n",
       "      <td>[OTHER FELONIES]</td>\n",
       "    </tr>\n",
       "    <tr>\n",
       "      <th>3</th>\n",
       "      <td>22-05-03912-ZCR</td>\n",
       "      <td>05/13/2022</td>\n",
       "      <td>GONZALEZ ESCOBAR, MARIA T.</td>\n",
       "      <td>OLS</td>\n",
       "      <td></td>\n",
       "      <td></td>\n",
       "      <td>[]</td>\n",
       "      <td>[SMUGGLING OF PERSONS]</td>\n",
       "      <td>[OTHER FELONIES]</td>\n",
       "    </tr>\n",
       "    <tr>\n",
       "      <th>4</th>\n",
       "      <td>22-05-03913-ZCR</td>\n",
       "      <td>05/13/2022</td>\n",
       "      <td>LOPEZ, DANIEL PEREZ</td>\n",
       "      <td>OLS</td>\n",
       "      <td></td>\n",
       "      <td></td>\n",
       "      <td>[]</td>\n",
       "      <td>[SMUGGLING OF PERSONS]</td>\n",
       "      <td>[OTHER FELONIES]</td>\n",
       "    </tr>\n",
       "    <tr>\n",
       "      <th>...</th>\n",
       "      <td>...</td>\n",
       "      <td>...</td>\n",
       "      <td>...</td>\n",
       "      <td>...</td>\n",
       "      <td>...</td>\n",
       "      <td>...</td>\n",
       "      <td>...</td>\n",
       "      <td>...</td>\n",
       "      <td>...</td>\n",
       "    </tr>\n",
       "    <tr>\n",
       "      <th>211</th>\n",
       "      <td>23-05-04061-ZCRAJA</td>\n",
       "      <td>05/23/2023</td>\n",
       "      <td>ZAPATA, CARLOS OMAR</td>\n",
       "      <td>OLS</td>\n",
       "      <td></td>\n",
       "      <td></td>\n",
       "      <td>[]</td>\n",
       "      <td>[SMUGGLING OF PERSONS]</td>\n",
       "      <td>[OTHER FELONIES]</td>\n",
       "    </tr>\n",
       "    <tr>\n",
       "      <th>212</th>\n",
       "      <td>23-05-04062-ZCRAJA</td>\n",
       "      <td>05/23/2023</td>\n",
       "      <td>SANDIA, JUAN MENDEZ</td>\n",
       "      <td>OLS</td>\n",
       "      <td></td>\n",
       "      <td></td>\n",
       "      <td>[]</td>\n",
       "      <td>[SMUGGLING OF PERSONS]</td>\n",
       "      <td>[OTHER FELONIES]</td>\n",
       "    </tr>\n",
       "    <tr>\n",
       "      <th>213</th>\n",
       "      <td>23-05-04064-ZCRAJA</td>\n",
       "      <td>05/23/2023</td>\n",
       "      <td>SAUR, DIANE RAMIREZ</td>\n",
       "      <td>OLS</td>\n",
       "      <td></td>\n",
       "      <td></td>\n",
       "      <td>[]</td>\n",
       "      <td>[EVADE ARR DET W/VEH/WTRCFT W/PREV, CONV OR SBI]</td>\n",
       "      <td>[OTHER FELONIES]</td>\n",
       "    </tr>\n",
       "    <tr>\n",
       "      <th>214</th>\n",
       "      <td>23-05-04066-ZCRAJA</td>\n",
       "      <td>05/23/2023</td>\n",
       "      <td>DUBON, EDGARDO BARRERA</td>\n",
       "      <td>OLS</td>\n",
       "      <td></td>\n",
       "      <td></td>\n",
       "      <td>[]</td>\n",
       "      <td>[SMUGGLING OF PERSONS: UNDER 18 YOA]</td>\n",
       "      <td>[OTHER FELONIES]</td>\n",
       "    </tr>\n",
       "    <tr>\n",
       "      <th>215</th>\n",
       "      <td>23-05-04067-ZCRAJA</td>\n",
       "      <td>05/23/2023</td>\n",
       "      <td>CASTLEMAN, CHARLES WILLIAM</td>\n",
       "      <td>OLS</td>\n",
       "      <td></td>\n",
       "      <td></td>\n",
       "      <td>[]</td>\n",
       "      <td>[SMUGGLING OF PERSONS]</td>\n",
       "      <td>[OTHER FELONIES]</td>\n",
       "    </tr>\n",
       "  </tbody>\n",
       "</table>\n",
       "<p>216 rows × 9 columns</p>\n",
       "</div>"
      ],
      "text/plain": [
       "           Cause Number   File Date                   Defendant Court  \\\n",
       "0    23-05-04063-ZCRAJA  05/23/0203     THOMPSON, TAREZ CHARLES   OLS   \n",
       "1    23-05-04065-ZCRAJA  05/23/2021         FLORES, JOE ANTHONY   OLS   \n",
       "2       22-05-03911-ZCR  05/13/2022  TORRES, BRYAN OMAR ESCOBAR   OLS   \n",
       "3       22-05-03912-ZCR  05/13/2022  GONZALEZ ESCOBAR, MARIA T.   OLS   \n",
       "4       22-05-03913-ZCR  05/13/2022         LOPEZ, DANIEL PEREZ   OLS   \n",
       "..                  ...         ...                         ...   ...   \n",
       "211  23-05-04061-ZCRAJA  05/23/2023         ZAPATA, CARLOS OMAR   OLS   \n",
       "212  23-05-04062-ZCRAJA  05/23/2023         SANDIA, JUAN MENDEZ   OLS   \n",
       "213  23-05-04064-ZCRAJA  05/23/2023         SAUR, DIANE RAMIREZ   OLS   \n",
       "214  23-05-04066-ZCRAJA  05/23/2023      DUBON, EDGARDO BARRERA   OLS   \n",
       "215  23-05-04067-ZCRAJA  05/23/2023  CASTLEMAN, CHARLES WILLIAM   OLS   \n",
       "\n",
       "    Docket Date Outstanding Warrants Attorney  \\\n",
       "0                                          []   \n",
       "1                                          []   \n",
       "2                                          []   \n",
       "3                                          []   \n",
       "4                                          []   \n",
       "..          ...                  ...      ...   \n",
       "211                                        []   \n",
       "212                                        []   \n",
       "213                                        []   \n",
       "214                                        []   \n",
       "215                                        []   \n",
       "\n",
       "                                        First Offense     ST RPT Column  \n",
       "0                [SMUGGLING OF PERSONS: UNDER 18 YOA]  [OTHER FELONIES]  \n",
       "1                     [SMUGGLING OF PERSONS: FIREARM]  [OTHER FELONIES]  \n",
       "2                              [SMUGGLING OF PERSONS]  [OTHER FELONIES]  \n",
       "3                              [SMUGGLING OF PERSONS]  [OTHER FELONIES]  \n",
       "4                              [SMUGGLING OF PERSONS]  [OTHER FELONIES]  \n",
       "..                                                ...               ...  \n",
       "211                            [SMUGGLING OF PERSONS]  [OTHER FELONIES]  \n",
       "212                            [SMUGGLING OF PERSONS]  [OTHER FELONIES]  \n",
       "213  [EVADE ARR DET W/VEH/WTRCFT W/PREV, CONV OR SBI]  [OTHER FELONIES]  \n",
       "214              [SMUGGLING OF PERSONS: UNDER 18 YOA]  [OTHER FELONIES]  \n",
       "215                            [SMUGGLING OF PERSONS]  [OTHER FELONIES]  \n",
       "\n",
       "[216 rows x 9 columns]"
      ]
     },
     "execution_count": 27,
     "metadata": {},
     "output_type": "execute_result"
    }
   ],
   "source": [
    "#Create dataframe\n",
    "df = pd.DataFrame(case_list)\n",
    "df"
   ]
  },
  {
   "cell_type": "markdown",
   "id": "32afc5b5",
   "metadata": {},
   "source": [
    "# Build Function\n",
    "\n",
    "Create a function to gather the info from the entire document."
   ]
  },
  {
   "cell_type": "code",
   "execution_count": 3,
   "id": "ff2bd46f",
   "metadata": {},
   "outputs": [],
   "source": [
    "def extract_criminal_pdf_data(text):\n",
    "    \"\"\"\n",
    "    This function takes in the entire PDF document as a string of text. It will gather the info for each case\n",
    "    and add the info to a dictionary. The dictionary for each case will be added to a list which will be turned into\n",
    "    a dataframe.\n",
    "    \n",
    "    Parameter:\n",
    "        -text: A string consisting of the text of the entire PDF document.\n",
    "        \n",
    "    Returns:\n",
    "        -df: A dataframe of the newly gathered case info\n",
    "    \"\"\"\n",
    "    \n",
    "    #Initialize containers\n",
    "    case_list = []\n",
    "    attorney_names = []\n",
    "    offense_list = []\n",
    "    st_rpt_list = []\n",
    "    temp_dict = {}\n",
    "    \n",
    "    #Separate the first header from the body\n",
    "    #We'll use this to identify the county later\n",
    "    header = text[:500]\n",
    "    \n",
    "    #Body\n",
    "    body = text[500:]\n",
    "    \n",
    "    #Remove leading and trailing whitespaces from the body text\n",
    "    body = body.strip()\n",
    "    \n",
    "    #Use if statement to check for county names inside the header info\n",
    "    if header.count('MAVERICK') >= 1:\n",
    "        county = 'Maverick'\n",
    "    elif header.count('DIMMIT') >= 1:\n",
    "        county = 'Dimmit'\n",
    "    elif header.count('ZAVALA') >= 1:\n",
    "        county = 'Zavala'\n",
    "    else:\n",
    "        county = 'Something went wrong!'\n",
    "        \n",
    "    #Set up regex to remove all subsequent headers\n",
    "    #This regex should identify the headers even if the name of the district clerk changes later on\n",
    "    body = re.sub(r\"\"\"\\n\\x0c\\s*[A-Z -]*\\d{2}/\\d{2}/\\d{4}\\n\\s*\\w{6,8}[A-Z0-9 -]*\\n\\s*[A-Z ]*\\d{2}/\\d{2}/\\d{4}[A-Z0-9 -]*\\n\\n[A-Z ]*#\\s*[A-Z -']*\\n[A-Z0-9/ -]*\\n\\n\"\"\", '', body)\n",
    "    \n",
    "    #########################################################################################################\n",
    "    #Now remove the last divider sections using regex\n",
    "    body = re.sub(r\"\"\"\\nTOTAL NUMBER OF CASES FILED: [0-9\\n-]*MTR-A[A-Z\\n ]*[-]*\"\"\", '', body)\n",
    "    \n",
    "    body = re.sub(r\"\"\"\\nTOTAL NUMBER OF MTR-A FILINGS: [0-9\\n-]*ALL OTHER CASES ADDED/APPEALED[\\n-]*\"\"\", '', body)\n",
    "    \n",
    "    body = re.sub(r\"\"\"\\nTOTAL NUMBER OF CASES ADDED/APPEALED: [0-9- a-zA-Z\\.#;,:'=\\n]*\"\"\", '', body)\n",
    "    \n",
    "    #########################################################################################################\n",
    "    \n",
    "    #Split the text on the '\\n' to isolate each case\n",
    "    cases = body.split('\\n')\n",
    "    \n",
    "    #Remove cases that happen to be empty or consist of whitespace only\n",
    "    cases = [case for case in cases if case.isspace() == False and len(case) > 0]\n",
    "    \n",
    "    #Loop through each line. Add case info to temp dict, and then add that to the case list\n",
    "    for line in cases:\n",
    "        #Check if line is the start of a new case\n",
    "        if not line[0].isspace():\n",
    "            #Check if the temp_dict is empty.\n",
    "            #If not, add temp_dict data to case_list\n",
    "            if bool(temp_dict) == True:\n",
    "                #Add list info to temp_dict\n",
    "                #temp_dict['Attorney'] = attorney_names\n",
    "                temp_dict['First Offense'] = offense_list\n",
    "                temp_dict['ST RPT Column'] = st_rpt_list\n",
    "\n",
    "                #Add temp dict data to case_list\n",
    "                case_list.append(temp_dict)\n",
    "\n",
    "            #Reset temp_dict\n",
    "            temp_dict = {}\n",
    "\n",
    "            #Reset lists\n",
    "            #attorney_names = []\n",
    "            offense_list = []\n",
    "            st_rpt_list = []\n",
    "            \n",
    "            #Assign county\n",
    "            temp_dict['County'] = county\n",
    "\n",
    "            #Gather the cause number\n",
    "            temp_dict['Cause Number'] = line[:22].strip()\n",
    "\n",
    "            #Gather the file date\n",
    "            temp_dict['File Date'] = line[22:34].strip()\n",
    "\n",
    "            #As of 13 June 2023, we are no longer collecting names\n",
    "            #Get defendant name\n",
    "            #temp_dict['Defendant'] = line[34:72].strip()\n",
    "        \n",
    "            #Get court\n",
    "            temp_dict['Court'] = line[72:79].strip()\n",
    "\n",
    "            #Get docket date\n",
    "            temp_dict['Docket Date'] = line[79:89].strip()\n",
    "\n",
    "            #Get outstanding warrants\n",
    "            temp_dict['Outstanding Warrants'] = line[89:].strip()\n",
    "\n",
    "            #End of line, so move to next one\n",
    "\n",
    "        else:\n",
    "            #As of 13 June 2023, we are no longer collecting names\n",
    "            \n",
    "            #Get attorney name\n",
    "            #attorney_name = line[:35].strip()\n",
    "\n",
    "            #Check if attorney_name is all whitesapace. If not, strip it and add to names list\n",
    "            #Also check that the string is not empty\n",
    "            #if attorney_name.isspace() == False and len(attorney_name) > 0:\n",
    "            #    attorney_names.append(attorney_name.strip())\n",
    "\n",
    "            #Get first offense\n",
    "            offense = line[35:74].strip()\n",
    "\n",
    "            #Check if offense is all whitesapace. If not, strip it and add to names list\n",
    "            #Also check that the string is not empty\n",
    "            if offense.isspace() == False and len(offense) > 0:\n",
    "                offense_list.append(offense.strip())\n",
    "\n",
    "            #Get ST RPT Column\n",
    "            st_rpt = line[74:].strip()\n",
    "\n",
    "            #Check if st_rpt is all whitesapace. If not, strip it and add to names list\n",
    "            #Also check that the string is not empty\n",
    "            if st_rpt.isspace() == False and len(st_rpt) > 0:\n",
    "                st_rpt_list.append(st_rpt.strip())\n",
    "\n",
    "            #End of line\n",
    "        \n",
    "    #Check that the last case was added to the list\n",
    "    #If not, add it\n",
    "    #Add list info to temp_dict\n",
    "    #temp_dict['Attorney'] = attorney_names\n",
    "    temp_dict['First Offense'] = offense_list\n",
    "    temp_dict['ST RPT Column'] = st_rpt_list\n",
    "\n",
    "    #Add temp dict data to case_list\n",
    "    case_list.append(temp_dict)\n",
    "\n",
    "    \n",
    "    #How many?\n",
    "    print(f'Collected Data From {len(case_list)} Cases.')\n",
    "    \n",
    "    #Create dataframe\n",
    "    df = pd.DataFrame(case_list)\n",
    "    \n",
    "    return df"
   ]
  },
  {
   "cell_type": "markdown",
   "id": "fd853e9b",
   "metadata": {},
   "source": [
    "# Test Function"
   ]
  },
  {
   "cell_type": "code",
   "execution_count": 4,
   "id": "bdfb139c",
   "metadata": {},
   "outputs": [],
   "source": [
    "#Set up the pdf path\n",
    "pdf_path = '/Users/johnathonsmith/Downloads/Sep 19 CR Dimmit.pdf'"
   ]
  },
  {
   "cell_type": "code",
   "execution_count": 5,
   "id": "dbc62c66",
   "metadata": {},
   "outputs": [],
   "source": [
    "#Set up resource manager to handle pdf content. text, images, etc.\n",
    "resource_manager = PDFResourceManager()\n",
    "\n",
    "#Used to display text\n",
    "fake_file_handle = io.StringIO()\n",
    "\n",
    "#Set up converter\n",
    "converter = TextConverter(resource_manager, fake_file_handle, laparams=LAParams())\n",
    "\n",
    "#Set up page interpreter\n",
    "page_interpreter = PDFPageInterpreter(resource_manager, converter)\n",
    "\n",
    "with open(pdf_path, 'rb') as fh:\n",
    "\n",
    "    for page_num, page in enumerate(PDFPage.get_pages(fh, caching=True, check_extractable=True)):\n",
    "        #Process the current page\n",
    "        page_interpreter.process_page(page)\n",
    "\n",
    "    #Save the current page's text to a variable\n",
    "    text = fake_file_handle.getvalue()\n",
    "\n",
    "# close open handles\n",
    "converter.close()\n",
    "fake_file_handle.close()\n",
    "\n",
    "#print(text)"
   ]
  },
  {
   "cell_type": "code",
   "execution_count": 6,
   "id": "31f27c38",
   "metadata": {},
   "outputs": [
    {
     "name": "stdout",
     "output_type": "stream",
     "text": [
      "Collected Data From 63 Cases.\n"
     ]
    }
   ],
   "source": [
    "df = extract_criminal_pdf_data(text)"
   ]
  },
  {
   "cell_type": "code",
   "execution_count": 7,
   "id": "00d7fb10",
   "metadata": {
    "scrolled": true
   },
   "outputs": [
    {
     "data": {
      "text/plain": [
       "['ENGAGING IN ORGANIZED CRIMINAL', 'ACTIVITY']"
      ]
     },
     "execution_count": 7,
     "metadata": {},
     "output_type": "execute_result"
    }
   ],
   "source": [
    "df.iloc[-1]['First Offense']"
   ]
  },
  {
   "cell_type": "code",
   "execution_count": 8,
   "id": "b5c87617",
   "metadata": {},
   "outputs": [
    {
     "data": {
      "text/plain": [
       "['OTHER FELONIES']"
      ]
     },
     "execution_count": 8,
     "metadata": {},
     "output_type": "execute_result"
    }
   ],
   "source": [
    "df.iloc[-1]['ST RPT Column']"
   ]
  },
  {
   "cell_type": "code",
   "execution_count": 9,
   "id": "237493d9",
   "metadata": {},
   "outputs": [
    {
     "data": {
      "text/html": [
       "<div>\n",
       "<style scoped>\n",
       "    .dataframe tbody tr th:only-of-type {\n",
       "        vertical-align: middle;\n",
       "    }\n",
       "\n",
       "    .dataframe tbody tr th {\n",
       "        vertical-align: top;\n",
       "    }\n",
       "\n",
       "    .dataframe thead th {\n",
       "        text-align: right;\n",
       "    }\n",
       "</style>\n",
       "<table border=\"1\" class=\"dataframe\">\n",
       "  <thead>\n",
       "    <tr style=\"text-align: right;\">\n",
       "      <th></th>\n",
       "      <th>County</th>\n",
       "      <th>Cause Number</th>\n",
       "      <th>File Date</th>\n",
       "      <th>Court</th>\n",
       "      <th>Docket Date</th>\n",
       "      <th>Outstanding Warrants</th>\n",
       "      <th>First Offense</th>\n",
       "      <th>ST RPT Column</th>\n",
       "    </tr>\n",
       "  </thead>\n",
       "  <tbody>\n",
       "    <tr>\n",
       "      <th>0</th>\n",
       "      <td>Dimmit</td>\n",
       "      <td>12-11-02706-DCR</td>\n",
       "      <td>11/14/2012</td>\n",
       "      <td>293</td>\n",
       "      <td>12/04/2023</td>\n",
       "      <td></td>\n",
       "      <td>[POSS CS PG 1 &lt;1G]</td>\n",
       "      <td>[DRUG POSSESSION]</td>\n",
       "    </tr>\n",
       "    <tr>\n",
       "      <th>1</th>\n",
       "      <td>Dimmit</td>\n",
       "      <td>17-12-03194-DCR</td>\n",
       "      <td>12/08/2017</td>\n",
       "      <td>293</td>\n",
       "      <td>10/03/2023</td>\n",
       "      <td></td>\n",
       "      <td>[UNL POSS FIREARM BY FELON]</td>\n",
       "      <td>[OTHER FELONIES]</td>\n",
       "    </tr>\n",
       "    <tr>\n",
       "      <th>2</th>\n",
       "      <td>Dimmit</td>\n",
       "      <td>18-10-03248-DCR</td>\n",
       "      <td>10/25/2018</td>\n",
       "      <td>293</td>\n",
       "      <td>12/04/2023</td>\n",
       "      <td></td>\n",
       "      <td>[PROH SUBSTANCE IN CORRECTIONAL, FACILITY]</td>\n",
       "      <td>[OTHER FELONIES]</td>\n",
       "    </tr>\n",
       "    <tr>\n",
       "      <th>3</th>\n",
       "      <td>Dimmit</td>\n",
       "      <td>19-08-03314-DCR</td>\n",
       "      <td>08/23/2019</td>\n",
       "      <td>293</td>\n",
       "      <td>10/03/2023</td>\n",
       "      <td></td>\n",
       "      <td>[EVADING ARREST DET W/VEH]</td>\n",
       "      <td>[OTHER FELONIES]</td>\n",
       "    </tr>\n",
       "    <tr>\n",
       "      <th>4</th>\n",
       "      <td>Dimmit</td>\n",
       "      <td>20-02-03342-DCR</td>\n",
       "      <td>02/24/2020</td>\n",
       "      <td>293</td>\n",
       "      <td>09/21/2023</td>\n",
       "      <td></td>\n",
       "      <td>[MURDER]</td>\n",
       "      <td>[MURDER]</td>\n",
       "    </tr>\n",
       "    <tr>\n",
       "      <th>...</th>\n",
       "      <td>...</td>\n",
       "      <td>...</td>\n",
       "      <td>...</td>\n",
       "      <td>...</td>\n",
       "      <td>...</td>\n",
       "      <td>...</td>\n",
       "      <td>...</td>\n",
       "      <td>...</td>\n",
       "    </tr>\n",
       "    <tr>\n",
       "      <th>58</th>\n",
       "      <td>Dimmit</td>\n",
       "      <td>06-06-02372-DCR</td>\n",
       "      <td>06/21/2010</td>\n",
       "      <td>293</td>\n",
       "      <td></td>\n",
       "      <td></td>\n",
       "      <td>[POSS CS PG 1 &lt;1G]</td>\n",
       "      <td>[DRUG POSSESSION]</td>\n",
       "    </tr>\n",
       "    <tr>\n",
       "      <th>59</th>\n",
       "      <td>Dimmit</td>\n",
       "      <td>11-06-02616-DCR</td>\n",
       "      <td>12/05/2012</td>\n",
       "      <td>293</td>\n",
       "      <td>12/04/2023</td>\n",
       "      <td></td>\n",
       "      <td>[DRIVING WHILE INTOXICATED 3RD OR MORE, IAT]</td>\n",
       "      <td>[FELONY DWI]</td>\n",
       "    </tr>\n",
       "    <tr>\n",
       "      <th>60</th>\n",
       "      <td>Dimmit</td>\n",
       "      <td>09-08-02510-DCR</td>\n",
       "      <td>04/21/2015</td>\n",
       "      <td>293</td>\n",
       "      <td>12/04/2023</td>\n",
       "      <td></td>\n",
       "      <td>[POSS MARIJ &gt;50LBS&lt;=2,000LBS]</td>\n",
       "      <td>[DRUG POSSESSION]</td>\n",
       "    </tr>\n",
       "    <tr>\n",
       "      <th>61</th>\n",
       "      <td>Dimmit</td>\n",
       "      <td>08-11-02464-DCR</td>\n",
       "      <td>08/26/2015</td>\n",
       "      <td>293</td>\n",
       "      <td>12/04/2023</td>\n",
       "      <td></td>\n",
       "      <td>[THEFT PROP&gt;=$1,500&lt;$20K]</td>\n",
       "      <td>[THEFT]</td>\n",
       "    </tr>\n",
       "    <tr>\n",
       "      <th>62</th>\n",
       "      <td>Dimmit</td>\n",
       "      <td>18-08-03244-DCR</td>\n",
       "      <td>09/11/2023</td>\n",
       "      <td>293</td>\n",
       "      <td>10/03/2023</td>\n",
       "      <td></td>\n",
       "      <td>[ENGAGING IN ORGANIZED CRIMINAL, ACTIVITY]</td>\n",
       "      <td>[OTHER FELONIES]</td>\n",
       "    </tr>\n",
       "  </tbody>\n",
       "</table>\n",
       "<p>63 rows × 8 columns</p>\n",
       "</div>"
      ],
      "text/plain": [
       "    County     Cause Number   File Date Court Docket Date  \\\n",
       "0   Dimmit  12-11-02706-DCR  11/14/2012   293  12/04/2023   \n",
       "1   Dimmit  17-12-03194-DCR  12/08/2017   293  10/03/2023   \n",
       "2   Dimmit  18-10-03248-DCR  10/25/2018   293  12/04/2023   \n",
       "3   Dimmit  19-08-03314-DCR  08/23/2019   293  10/03/2023   \n",
       "4   Dimmit  20-02-03342-DCR  02/24/2020   293  09/21/2023   \n",
       "..     ...              ...         ...   ...         ...   \n",
       "58  Dimmit  06-06-02372-DCR  06/21/2010   293               \n",
       "59  Dimmit  11-06-02616-DCR  12/05/2012   293  12/04/2023   \n",
       "60  Dimmit  09-08-02510-DCR  04/21/2015   293  12/04/2023   \n",
       "61  Dimmit  08-11-02464-DCR  08/26/2015   293  12/04/2023   \n",
       "62  Dimmit  18-08-03244-DCR  09/11/2023   293  10/03/2023   \n",
       "\n",
       "   Outstanding Warrants                                 First Offense  \\\n",
       "0                                                  [POSS CS PG 1 <1G]   \n",
       "1                                         [UNL POSS FIREARM BY FELON]   \n",
       "2                          [PROH SUBSTANCE IN CORRECTIONAL, FACILITY]   \n",
       "3                                          [EVADING ARREST DET W/VEH]   \n",
       "4                                                            [MURDER]   \n",
       "..                  ...                                           ...   \n",
       "58                                                 [POSS CS PG 1 <1G]   \n",
       "59                       [DRIVING WHILE INTOXICATED 3RD OR MORE, IAT]   \n",
       "60                                      [POSS MARIJ >50LBS<=2,000LBS]   \n",
       "61                                          [THEFT PROP>=$1,500<$20K]   \n",
       "62                         [ENGAGING IN ORGANIZED CRIMINAL, ACTIVITY]   \n",
       "\n",
       "        ST RPT Column  \n",
       "0   [DRUG POSSESSION]  \n",
       "1    [OTHER FELONIES]  \n",
       "2    [OTHER FELONIES]  \n",
       "3    [OTHER FELONIES]  \n",
       "4            [MURDER]  \n",
       "..                ...  \n",
       "58  [DRUG POSSESSION]  \n",
       "59       [FELONY DWI]  \n",
       "60  [DRUG POSSESSION]  \n",
       "61            [THEFT]  \n",
       "62   [OTHER FELONIES]  \n",
       "\n",
       "[63 rows x 8 columns]"
      ]
     },
     "execution_count": 9,
     "metadata": {},
     "output_type": "execute_result"
    }
   ],
   "source": [
    "df"
   ]
  },
  {
   "cell_type": "code",
   "execution_count": 13,
   "id": "93d39bed",
   "metadata": {},
   "outputs": [
    {
     "data": {
      "text/html": [
       "<div>\n",
       "<style scoped>\n",
       "    .dataframe tbody tr th:only-of-type {\n",
       "        vertical-align: middle;\n",
       "    }\n",
       "\n",
       "    .dataframe tbody tr th {\n",
       "        vertical-align: top;\n",
       "    }\n",
       "\n",
       "    .dataframe thead th {\n",
       "        text-align: right;\n",
       "    }\n",
       "</style>\n",
       "<table border=\"1\" class=\"dataframe\">\n",
       "  <thead>\n",
       "    <tr style=\"text-align: right;\">\n",
       "      <th></th>\n",
       "      <th>County</th>\n",
       "      <th>Cause Number</th>\n",
       "      <th>File Date</th>\n",
       "      <th>Court</th>\n",
       "      <th>Docket Date</th>\n",
       "      <th>Outstanding Warrants</th>\n",
       "      <th>First Offense</th>\n",
       "      <th>ST RPT Column</th>\n",
       "    </tr>\n",
       "  </thead>\n",
       "  <tbody>\n",
       "    <tr>\n",
       "      <th>5</th>\n",
       "      <td>Dimmit</td>\n",
       "      <td>20-12-03364-DCR</td>\n",
       "      <td>12/03/2020</td>\n",
       "      <td>293</td>\n",
       "      <td>10/03/2023</td>\n",
       "      <td></td>\n",
       "      <td>[BURGLARY OF HAB (ASSAULT)]</td>\n",
       "      <td>[]</td>\n",
       "    </tr>\n",
       "  </tbody>\n",
       "</table>\n",
       "</div>"
      ],
      "text/plain": [
       "   County     Cause Number   File Date Court Docket Date Outstanding Warrants  \\\n",
       "5  Dimmit  20-12-03364-DCR  12/03/2020   293  10/03/2023                        \n",
       "\n",
       "                 First Offense ST RPT Column  \n",
       "5  [BURGLARY OF HAB (ASSAULT)]            []  "
      ]
     },
     "execution_count": 13,
     "metadata": {},
     "output_type": "execute_result"
    }
   ],
   "source": [
    "df[df['Cause Number'] == '20-12-03364-DCR']"
   ]
  },
  {
   "cell_type": "code",
   "execution_count": null,
   "id": "16a0724f",
   "metadata": {},
   "outputs": [],
   "source": []
  }
 ],
 "metadata": {
  "kernelspec": {
   "display_name": "Python 3",
   "language": "python",
   "name": "python3"
  },
  "language_info": {
   "codemirror_mode": {
    "name": "ipython",
    "version": 3
   },
   "file_extension": ".py",
   "mimetype": "text/x-python",
   "name": "python",
   "nbconvert_exporter": "python",
   "pygments_lexer": "ipython3",
   "version": "3.9.1"
  }
 },
 "nbformat": 4,
 "nbformat_minor": 5
}
