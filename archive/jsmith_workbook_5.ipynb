{
 "cells": [
  {
   "cell_type": "code",
   "execution_count": 1,
   "id": "24c465a9",
   "metadata": {},
   "outputs": [],
   "source": [
    "import pandas as pd\n",
    "import re\n",
    "\n",
    "from pdfminer.high_level import extract_text"
   ]
  },
  {
   "cell_type": "code",
   "execution_count": 2,
   "id": "b53ecfe5",
   "metadata": {},
   "outputs": [],
   "source": [
    "test_file = '/Users/johnathonsmith/Downloads/25_03_25CVMaverickInactive.pdf'"
   ]
  },
  {
   "cell_type": "code",
   "execution_count": 33,
   "id": "9536342b",
   "metadata": {},
   "outputs": [
    {
     "data": {
      "text/plain": [
       "\"                                 LEOPOLDO VIELMA - DISTRICT CLERK'S OFFICE\\n                                PENDING CIVIL CASES - INACTIVITY REPORT - RAN ON 03/26/2025\\n                               FILE DATES: ALL FILE DATES - INACTIVE ON: 03/25/2025 - PAGE 1\\n\\nCAUSE #             FILE DATE   INACTIVE ST DT  INACTIVE END DT  INACTIVE REASON                            \\n\""
      ]
     },
     "execution_count": 33,
     "metadata": {},
     "output_type": "execute_result"
    }
   ],
   "source": [
    "content = extract_text(test_file)\n",
    "content[:370]"
   ]
  },
  {
   "cell_type": "code",
   "execution_count": 34,
   "id": "0e2230df",
   "metadata": {},
   "outputs": [
    {
     "data": {
      "text/plain": [
       "\"LEOPOLDO VIELMA - DISTRICT CLERK'S OFFICE\\n                                PENDING CIVIL CASES - INACTIVITY REPORT - RAN ON 03/26/2025\\n                               FILE DATES: ALL FILE DATES - INACTIVE ON: 03/25/2025 - PAGE 1\\n\\nCAUSE #             FILE DATE   INACTIVE ST DT  INACTIVE END DT  INACTIVE REASON\""
      ]
     },
     "execution_count": 34,
     "metadata": {},
     "output_type": "execute_result"
    }
   ],
   "source": [
    "header = content[:370].strip()\n",
    "header"
   ]
  },
  {
   "cell_type": "code",
   "execution_count": 7,
   "id": "ab53fb5b",
   "metadata": {},
   "outputs": [
    {
     "data": {
      "text/plain": [
       "'\\n        18-11-36606-MCV    11/09/2018       12/09/2024                   ALL OTHER CASES ORDER ABATED BY A JUDGE    \\n        22-09-41428-MCV    09/30/2022       10/16/2024                   ALL OTHER CASES ORDER ABATED BY A JUDGE    \\n        23-10-42622-MCV    10/02/2023       02/10/2025                   ALL OTHER CASES ORDER ABATED BY A JUDGE    \\n        24-02-43040-MCV    02/05/2024       02/28/2025                   ALL OTHER CASES ORDER ABATED BY A JUDGE    \\n        24-06-43488-MCV    06/05/2024       10/24/0224                   ALL OTHER CASES ORDER ABATED BY A JUDGE    \\n        24-06-43494-MCV    06/07/2024       07/19/2024                   ALL OTHER CASES ORDER ABATED BY A JUDGE    \\n        24-09-43842-MCV    09/27/2024       01/10/2025                   ALL OTHER CASES ORDER ABATED BY A JUDGE    \\n        24-10-43944-MCV    10/29/2024       12/09/2024                   ALL OTHER CASES ORDER ABATED BY A JUDGE    \\n\\nTOTAL CASES LISTED: 8\\n\\n\\x0c'"
      ]
     },
     "execution_count": 7,
     "metadata": {},
     "output_type": "execute_result"
    }
   ],
   "source": [
    "body = content[370:]\n",
    "body"
   ]
  },
  {
   "cell_type": "markdown",
   "id": "d8a1cdcd",
   "metadata": {},
   "source": [
    "# Create Regex For Headers"
   ]
  },
  {
   "cell_type": "code",
   "execution_count": 8,
   "id": "a0062c90",
   "metadata": {},
   "outputs": [
    {
     "data": {
      "text/plain": [
       "\"                                 LEOPOLDO VIELMA - DISTRICT CLERK'S OFFICE\\n                                PENDING CIVIL CASES - INACTIVITY REPORT - RAN ON 03/26/2025\\n                               FILE DATES: ALL FILE DATES - INACTIVE ON: 03/25/2025 - PAGE 1\\n\\nCAUSE #             FILE DATE   INACTIVE ST DT  INACTIVE END DT  INACTIVE REASON                            \\n\\n        18-11-36606-MCV    11/09/2018       12/09/2024                   ALL OTHER CASES ORDER ABATED BY A JUDGE    \\n        22-09-41428-MCV    09/30/2022       10/16/2024                   ALL OTHER CASES ORDER ABATED BY A JUDGE    \\n        23-10-42622-MCV    10/02/2023       02/10/2025                   ALL OTHER CASES ORDER ABATED BY A JUDGE    \\n        24-02-43040-MCV    02/05/2024       02/28/2025                   ALL OTHER CASES ORDER ABATED BY A JUDGE    \\n        24-06-43488-MCV    06/05/2024       10/24/0224                   ALL OTHER CASES ORDER ABATED BY A JUDGE    \\n        24-06-43494-MCV    06/07/2024       07/19/2024                   ALL OTHER CASES ORDER ABATED BY A JUDGE    \\n        24-09-43842-MCV    09/27/2024       01/10/2025                   ALL OTHER CASES ORDER ABATED BY A JUDGE    \\n        24-10-43944-MCV    10/29/2024       12/09/2024                   ALL OTHER CASES ORDER ABATED BY A JUDGE    \\n\\nTOTAL CASES LISTED: 8\\n\\n\\x0c\""
      ]
     },
     "execution_count": 8,
     "metadata": {},
     "output_type": "execute_result"
    }
   ],
   "source": [
    "content"
   ]
  },
  {
   "cell_type": "code",
   "execution_count": 12,
   "id": "3b342125",
   "metadata": {},
   "outputs": [
    {
     "data": {
      "text/plain": [
       "'        18-11-36606-MCV    11/09/2018       12/09/2024                   ALL OTHER CASES ORDER ABATED BY A JUDGE    \\n        22-09-41428-MCV    09/30/2022       10/16/2024                   ALL OTHER CASES ORDER ABATED BY A JUDGE    \\n        23-10-42622-MCV    10/02/2023       02/10/2025                   ALL OTHER CASES ORDER ABATED BY A JUDGE    \\n        24-02-43040-MCV    02/05/2024       02/28/2025                   ALL OTHER CASES ORDER ABATED BY A JUDGE    \\n        24-06-43488-MCV    06/05/2024       10/24/0224                   ALL OTHER CASES ORDER ABATED BY A JUDGE    \\n        24-06-43494-MCV    06/07/2024       07/19/2024                   ALL OTHER CASES ORDER ABATED BY A JUDGE    \\n        24-09-43842-MCV    09/27/2024       01/10/2025                   ALL OTHER CASES ORDER ABATED BY A JUDGE    \\n        24-10-43944-MCV    10/29/2024       12/09/2024                   ALL OTHER CASES ORDER ABATED BY A JUDGE    \\n\\nTOTAL CASES LISTED: 8\\n\\n\\x0c'"
      ]
     },
     "execution_count": 12,
     "metadata": {},
     "output_type": "execute_result"
    }
   ],
   "source": [
    "#Set up regex to remove all subsequent headers\n",
    "#This regex should identify the headers even if the name of the district clerk changes later on\n",
    "new_content = re.sub(r\"\"\"\\s*[A-Z\\.\\' \\n-]*\\d{2}/\\d{2}/\\d{4}\\n\\s*[A-Z0-9 \\:-]*\\d{2}/\\d{2}/\\d{4}[A-Z0-9 \\n#-]*INACTIVE REASON\\s*\\n\\n\"\"\", '', content)\n",
    "new_content"
   ]
  },
  {
   "cell_type": "code",
   "execution_count": 13,
   "id": "147e7042",
   "metadata": {},
   "outputs": [
    {
     "data": {
      "text/plain": [
       "\"                                 LEOPOLDO VIELMA - DISTRICT CLERK'S OFFICE\\n                                PENDING CIVIL CASES - INACTIVITY REPORT - RAN ON 03/26/2025\\n                               FILE DATES: ALL FILE DATES - INACTIVE ON: 03/25/2025 - PAGE 1\\n\\nCAUSE #             FILE DATE   INACTIVE ST DT  INACTIVE END DT  INACTIVE REASON                            \\n\\n        18-11-36606-MCV    11/09/2018       12/09/2024                   ALL OTHER CASES ORDER ABATED BY A JUDGE    \\n        22-09-41428-MCV    09/30/2022       10/16/2024                   ALL OTHER CASES ORDER ABATED BY A JUDGE    \\n        23-10-42622-MCV    10/02/2023       02/10/2025                   ALL OTHER CASES ORDER ABATED BY A JUDGE    \\n        24-02-43040-MCV    02/05/2024       02/28/2025                   ALL OTHER CASES ORDER ABATED BY A JUDGE    \\n        24-06-43488-MCV    06/05/2024       10/24/0224                   ALL OTHER CASES ORDER ABATED BY A JUDGE    \\n        24-06-43494-MCV    06/07/2024       07/19/2024                   ALL OTHER CASES ORDER ABATED BY A JUDGE    \\n        24-09-43842-MCV    09/27/2024       01/10/2025                   ALL OTHER CASES ORDER ABATED BY A JUDGE    \\n        24-10-43944-MCV    10/29/2024       12/09/2024                   ALL OTHER CASES ORDER ABATED BY A JUDGE    \\n\\nTOTAL CASES LISTED: 8\\n\\n\\x0c\""
      ]
     },
     "execution_count": 13,
     "metadata": {},
     "output_type": "execute_result"
    }
   ],
   "source": [
    "#Now add the page break at the beginning of the regex string to capture the header on additional pages\n",
    "#It won't remove it with this file example with the page break included\n",
    "new_content = re.sub(r\"\"\"\\n\\x0c\\s*[A-Z\\.\\' \\n-]*\\d{2}/\\d{2}/\\d{4}\\n\\s*[A-Z0-9 \\:-]*\\d{2}/\\d{2}/\\d{4}[A-Z0-9 \\n#-]*INACTIVE REASON\\s*\\n\\n\"\"\", '', content)\n",
    "new_content"
   ]
  },
  {
   "cell_type": "code",
   "execution_count": 14,
   "id": "32af4c68",
   "metadata": {},
   "outputs": [
    {
     "data": {
      "text/plain": [
       "['',\n",
       " '        18-11-36606-MCV    11/09/2018       12/09/2024                   ALL OTHER CASES ORDER ABATED BY A JUDGE    ',\n",
       " '        22-09-41428-MCV    09/30/2022       10/16/2024                   ALL OTHER CASES ORDER ABATED BY A JUDGE    ',\n",
       " '        23-10-42622-MCV    10/02/2023       02/10/2025                   ALL OTHER CASES ORDER ABATED BY A JUDGE    ',\n",
       " '        24-02-43040-MCV    02/05/2024       02/28/2025                   ALL OTHER CASES ORDER ABATED BY A JUDGE    ',\n",
       " '        24-06-43488-MCV    06/05/2024       10/24/0224                   ALL OTHER CASES ORDER ABATED BY A JUDGE    ',\n",
       " '        24-06-43494-MCV    06/07/2024       07/19/2024                   ALL OTHER CASES ORDER ABATED BY A JUDGE    ',\n",
       " '        24-09-43842-MCV    09/27/2024       01/10/2025                   ALL OTHER CASES ORDER ABATED BY A JUDGE    ',\n",
       " '        24-10-43944-MCV    10/29/2024       12/09/2024                   ALL OTHER CASES ORDER ABATED BY A JUDGE    ',\n",
       " '',\n",
       " 'TOTAL CASES LISTED: 8',\n",
       " '',\n",
       " '\\x0c']"
      ]
     },
     "execution_count": 14,
     "metadata": {},
     "output_type": "execute_result"
    }
   ],
   "source": [
    "#Split cases\n",
    "cases = []\n",
    "cases = body.split('\\n')\n",
    "cases"
   ]
  },
  {
   "cell_type": "code",
   "execution_count": 15,
   "id": "bf112fa6",
   "metadata": {},
   "outputs": [
    {
     "data": {
      "text/plain": [
       "['        18-11-36606-MCV    11/09/2018       12/09/2024                   ALL OTHER CASES ORDER ABATED BY A JUDGE    ',\n",
       " '        22-09-41428-MCV    09/30/2022       10/16/2024                   ALL OTHER CASES ORDER ABATED BY A JUDGE    ',\n",
       " '        23-10-42622-MCV    10/02/2023       02/10/2025                   ALL OTHER CASES ORDER ABATED BY A JUDGE    ',\n",
       " '        24-02-43040-MCV    02/05/2024       02/28/2025                   ALL OTHER CASES ORDER ABATED BY A JUDGE    ',\n",
       " '        24-06-43488-MCV    06/05/2024       10/24/0224                   ALL OTHER CASES ORDER ABATED BY A JUDGE    ',\n",
       " '        24-06-43494-MCV    06/07/2024       07/19/2024                   ALL OTHER CASES ORDER ABATED BY A JUDGE    ',\n",
       " '        24-09-43842-MCV    09/27/2024       01/10/2025                   ALL OTHER CASES ORDER ABATED BY A JUDGE    ',\n",
       " '        24-10-43944-MCV    10/29/2024       12/09/2024                   ALL OTHER CASES ORDER ABATED BY A JUDGE    ',\n",
       " 'TOTAL CASES LISTED: 8']"
      ]
     },
     "execution_count": 15,
     "metadata": {},
     "output_type": "execute_result"
    }
   ],
   "source": [
    "#Remove cases that happen to be empty or consist of whitespace only\n",
    "cases = [case for case in cases if case.isspace() == False and len(case) > 0]\n",
    "cases"
   ]
  },
  {
   "cell_type": "code",
   "execution_count": 16,
   "id": "e95c9ac0",
   "metadata": {},
   "outputs": [
    {
     "data": {
      "text/plain": [
       "['        18-11-36606-MCV    11/09/2018       12/09/2024                   ALL OTHER CASES ORDER ABATED BY A JUDGE    ',\n",
       " '        22-09-41428-MCV    09/30/2022       10/16/2024                   ALL OTHER CASES ORDER ABATED BY A JUDGE    ',\n",
       " '        23-10-42622-MCV    10/02/2023       02/10/2025                   ALL OTHER CASES ORDER ABATED BY A JUDGE    ',\n",
       " '        24-02-43040-MCV    02/05/2024       02/28/2025                   ALL OTHER CASES ORDER ABATED BY A JUDGE    ',\n",
       " '        24-06-43488-MCV    06/05/2024       10/24/0224                   ALL OTHER CASES ORDER ABATED BY A JUDGE    ',\n",
       " '        24-06-43494-MCV    06/07/2024       07/19/2024                   ALL OTHER CASES ORDER ABATED BY A JUDGE    ',\n",
       " '        24-09-43842-MCV    09/27/2024       01/10/2025                   ALL OTHER CASES ORDER ABATED BY A JUDGE    ',\n",
       " '        24-10-43944-MCV    10/29/2024       12/09/2024                   ALL OTHER CASES ORDER ABATED BY A JUDGE    ']"
      ]
     },
     "execution_count": 16,
     "metadata": {},
     "output_type": "execute_result"
    }
   ],
   "source": [
    "#Drop the last part, it's just a count of total cases\n",
    "cases.pop()\n",
    "cases"
   ]
  },
  {
   "cell_type": "code",
   "execution_count": 17,
   "id": "a15634b6",
   "metadata": {},
   "outputs": [
    {
     "data": {
      "text/plain": [
       "'        18-11-36606-MCV    11/09/2018       12/09/2024                   ALL OTHER CASES ORDER ABATED BY A JUDGE    '"
      ]
     },
     "execution_count": 17,
     "metadata": {},
     "output_type": "execute_result"
    }
   ],
   "source": [
    "case = cases[0]\n",
    "case"
   ]
  },
  {
   "cell_type": "code",
   "execution_count": 23,
   "id": "dbc2458e",
   "metadata": {},
   "outputs": [
    {
     "data": {
      "text/plain": [
       "'18-11-36606-MCV'"
      ]
     },
     "execution_count": 23,
     "metadata": {},
     "output_type": "execute_result"
    }
   ],
   "source": [
    "#Get cause number\n",
    "cause_number = case[:27].strip()\n",
    "cause_number"
   ]
  },
  {
   "cell_type": "code",
   "execution_count": 25,
   "id": "1272ab6f",
   "metadata": {},
   "outputs": [
    {
     "data": {
      "text/plain": [
       "'11/09/2018'"
      ]
     },
     "execution_count": 25,
     "metadata": {},
     "output_type": "execute_result"
    }
   ],
   "source": [
    "#Get file date\n",
    "file_date = case[27:44].strip()\n",
    "file_date"
   ]
  },
  {
   "cell_type": "code",
   "execution_count": 29,
   "id": "1b1e28bc",
   "metadata": {},
   "outputs": [
    {
     "data": {
      "text/plain": [
       "'12/09/2024'"
      ]
     },
     "execution_count": 29,
     "metadata": {},
     "output_type": "execute_result"
    }
   ],
   "source": [
    "#Get inactivity start date\n",
    "#Since I don't have an example for the next date in the string,\n",
    "#just capture the 10 characters needed for the date, nothing more\n",
    "inactive_date = case[44:54].strip()\n",
    "inactive_date"
   ]
  },
  {
   "cell_type": "code",
   "execution_count": 31,
   "id": "d0d9c508",
   "metadata": {},
   "outputs": [
    {
     "data": {
      "text/plain": [
       "''"
      ]
     },
     "execution_count": 31,
     "metadata": {},
     "output_type": "execute_result"
    }
   ],
   "source": [
    "#Get the reactivated date\n",
    "#Again, no example for this, so just select everything from the end\n",
    "#of the last date to the beginning of the next field and strip it\n",
    "reactivated_date = case[54:73].strip()\n",
    "reactivated_date"
   ]
  },
  {
   "cell_type": "code",
   "execution_count": 32,
   "id": "6089b40c",
   "metadata": {},
   "outputs": [
    {
     "data": {
      "text/plain": [
       "'ALL OTHER CASES ORDER ABATED BY A JUDGE'"
      ]
     },
     "execution_count": 32,
     "metadata": {},
     "output_type": "execute_result"
    }
   ],
   "source": [
    "#Get the inactive reason\n",
    "reason = case[73:].strip()\n",
    "reason"
   ]
  },
  {
   "cell_type": "code",
   "execution_count": 35,
   "id": "bdde9f33",
   "metadata": {},
   "outputs": [],
   "source": [
    "def build_civil_inactive_cases_dataframe(text):\n",
    "    \"\"\"\n",
    "    This function takes in the entire PDF document as a string of text. It will gather the info for each case\n",
    "    and add the info to a dictionary. The dictionary for each case will be added to a list which will be turned into\n",
    "    a dataframe.\n",
    "    \n",
    "    Parameter:\n",
    "        -text: A string consisting of the text of the entire inactive cases PDF document.\n",
    "        \n",
    "    Returns:\n",
    "        -df: A dataframe of the newly gathered inactive case info\n",
    "    \"\"\"\n",
    "    \n",
    "    #Initialize containers\n",
    "    case_list = []\n",
    "    inactive_start_list = []\n",
    "    inactive_end_list = []\n",
    "    inactive_reason_list = []\n",
    "    temp_dict = {}\n",
    "    \n",
    "    #Separate the first header from the body\n",
    "    #We'll use this to identify the county later\n",
    "    header = text[:370]\n",
    "\n",
    "    #Use regex to find the 'AS OF' and 'RAN ON' dates\n",
    "    dates = re.findall(r\"[0-9]{2}/[0-9]{2}/[0-9]{4}\", header)\n",
    "\n",
    "    #For 'AS OF' date:\n",
    "    report_as_of_date = dates[1]\n",
    "    \n",
    "    #For county, check the name at the beginning of the header\n",
    "    if header.count('LEOPOLDO VIELMA') >= 1:\n",
    "        county = 'Maverick'\n",
    "    elif header.count('MARICELA G. GONZALEZ') >= 1:\n",
    "        county = 'Dimmit'\n",
    "    elif header.count('RACHEL P. RAMIREZ') >= 1:\n",
    "        county = 'Zavala'\n",
    "    else:\n",
    "        county = 'Unknown'\n",
    "    \n",
    "    #Body\n",
    "    body = text[370:]\n",
    "    \n",
    "    #Remove subsequent page headers\n",
    "    body = re.sub(r\"\"\"\\s*[A-Z\\.\\' \\n-]*\\d{2}/\\d{2}/\\d{4}\\n\\s*[A-Z0-9 \\:-]*\\d{2}/\\d{2}/\\d{4}[A-Z0-9 \\n#-]*INACTIVE REASON\\s*\\n\\n\"\"\", '', body)\n",
    "    \n",
    "    #Split the text on the '\\n' to isolate each case\n",
    "    cases = body.split('\\n')\n",
    "    \n",
    "    #Remove cases that happen to be empty or consist of whitespace only\n",
    "    cases = [case for case in cases if case.isspace() == False and len(case) > 0]\n",
    "    \n",
    "    #Check the case count\n",
    "    num_cases = cases.pop()\n",
    "    num_cases = num_cases[19:].strip()\n",
    "    \n",
    "    #If there are zero inactive cases on the report, return\n",
    "    if num_cases == '0':\n",
    "        return pd.DataFrame()\n",
    "    \n",
    "    for case in cases:\n",
    "        #Check to see if this line is the start of a new case\n",
    "        if case[:35].isspace() == False:\n",
    "            #Check if the temp_dict is empty\n",
    "            if bool(temp_dict) == True:\n",
    "                temp_dict['Inactive Start Date'] = inactive_start_list\n",
    "                temp_dict['Inactive End Date'] = inactive_end_list\n",
    "                temp_dict['Inactive Reason'] = inactive_reason_list\n",
    "                \n",
    "                case_list.append(temp_dict)\n",
    "                \n",
    "            #Reset temp_dict and lists\n",
    "            temp_dict = {}\n",
    "            inactive_start_list = []\n",
    "            inactive_end_list = []\n",
    "            inactive_reason_list = []\n",
    "            \n",
    "            #Assign county\n",
    "            temp_dict['County'] = county\n",
    "\n",
    "            #Gather the cause number\n",
    "            temp_dict['Cause Number'] = case[:27].strip()\n",
    "\n",
    "            #Gather the file date\n",
    "            temp_dict['File Date'] = case[27:44].strip()\n",
    "\n",
    "            #Get inactive start date\n",
    "            inactive_start_list.append(case[44:54].strip())\n",
    "\n",
    "            #Get inactive end date\n",
    "            inactive_end_list.append(case[54:73].strip())\n",
    "\n",
    "            #Assign Status\n",
    "            temp_dict['Status'] = 'Inactive'\n",
    "            \n",
    "            #Assign Case Type\n",
    "            temp_dict['Case Type'] = 'Civil'\n",
    "\n",
    "            #Get inactive reason\n",
    "            inactive_reason_list.append(case[73:].strip())\n",
    "\n",
    "            #End of line, so move to next one\n",
    "            \n",
    "        else:\n",
    "            #This line is a continuation of the same case\n",
    "            #Just grab the start and end dates\n",
    "            #As well as the reason\n",
    "            #Get inactive start date\n",
    "            inactive_start_list.append(case[44:54].strip())\n",
    "\n",
    "            #Get inactive end date\n",
    "            inactive_end_list.append(case[54:73].strip())\n",
    "\n",
    "            #Get inactive reason\n",
    "            inactive_reason_list.append(case[73:].strip())\n",
    "            \n",
    "    #Make sure the last case gets added\n",
    "    if bool(temp_dict) == True:\n",
    "        temp_dict['Inactive Start Date'] = inactive_start_list\n",
    "        temp_dict['Inactive End Date'] = inactive_end_list\n",
    "        temp_dict['Inactive Reason'] = inactive_reason_list\n",
    "\n",
    "        case_list.append(temp_dict)\n",
    "    \n",
    "    #How many?\n",
    "    print(f'Collected Data From {len(case_list)} Cases.')\n",
    "    \n",
    "    #Create dataframe\n",
    "    df = pd.DataFrame(case_list)\n",
    "\n",
    "    #Add 'Report Generated Date', 'Original As Of Date', 'Last As Of Date', and 'Comments' columns\n",
    "    df[\"Original As Of Date\"] = report_as_of_date\n",
    "    df[\"Last As Of Date\"] = report_as_of_date\n",
    "    \n",
    "    return df"
   ]
  },
  {
   "cell_type": "code",
   "execution_count": 36,
   "id": "1f819420",
   "metadata": {},
   "outputs": [
    {
     "name": "stdout",
     "output_type": "stream",
     "text": [
      "Collected Data From 8 Cases.\n"
     ]
    },
    {
     "data": {
      "text/html": [
       "<div>\n",
       "<style scoped>\n",
       "    .dataframe tbody tr th:only-of-type {\n",
       "        vertical-align: middle;\n",
       "    }\n",
       "\n",
       "    .dataframe tbody tr th {\n",
       "        vertical-align: top;\n",
       "    }\n",
       "\n",
       "    .dataframe thead th {\n",
       "        text-align: right;\n",
       "    }\n",
       "</style>\n",
       "<table border=\"1\" class=\"dataframe\">\n",
       "  <thead>\n",
       "    <tr style=\"text-align: right;\">\n",
       "      <th></th>\n",
       "      <th>County</th>\n",
       "      <th>Cause Number</th>\n",
       "      <th>File Date</th>\n",
       "      <th>Status</th>\n",
       "      <th>Case Type</th>\n",
       "      <th>Inactive Start Date</th>\n",
       "      <th>Inactive End Date</th>\n",
       "      <th>Inactive Reason</th>\n",
       "      <th>Original As Of Date</th>\n",
       "      <th>Last As Of Date</th>\n",
       "    </tr>\n",
       "  </thead>\n",
       "  <tbody>\n",
       "    <tr>\n",
       "      <th>0</th>\n",
       "      <td>Maverick</td>\n",
       "      <td>18-11-36606-MCV</td>\n",
       "      <td>11/09/2018</td>\n",
       "      <td>Inactive</td>\n",
       "      <td>Civil</td>\n",
       "      <td>[12/09/2024]</td>\n",
       "      <td>[]</td>\n",
       "      <td>[ALL OTHER CASES ORDER ABATED BY A JUDGE]</td>\n",
       "      <td>03/25/2025</td>\n",
       "      <td>03/25/2025</td>\n",
       "    </tr>\n",
       "    <tr>\n",
       "      <th>1</th>\n",
       "      <td>Maverick</td>\n",
       "      <td>22-09-41428-MCV</td>\n",
       "      <td>09/30/2022</td>\n",
       "      <td>Inactive</td>\n",
       "      <td>Civil</td>\n",
       "      <td>[10/16/2024]</td>\n",
       "      <td>[]</td>\n",
       "      <td>[ALL OTHER CASES ORDER ABATED BY A JUDGE]</td>\n",
       "      <td>03/25/2025</td>\n",
       "      <td>03/25/2025</td>\n",
       "    </tr>\n",
       "    <tr>\n",
       "      <th>2</th>\n",
       "      <td>Maverick</td>\n",
       "      <td>23-10-42622-MCV</td>\n",
       "      <td>10/02/2023</td>\n",
       "      <td>Inactive</td>\n",
       "      <td>Civil</td>\n",
       "      <td>[02/10/2025]</td>\n",
       "      <td>[]</td>\n",
       "      <td>[ALL OTHER CASES ORDER ABATED BY A JUDGE]</td>\n",
       "      <td>03/25/2025</td>\n",
       "      <td>03/25/2025</td>\n",
       "    </tr>\n",
       "    <tr>\n",
       "      <th>3</th>\n",
       "      <td>Maverick</td>\n",
       "      <td>24-02-43040-MCV</td>\n",
       "      <td>02/05/2024</td>\n",
       "      <td>Inactive</td>\n",
       "      <td>Civil</td>\n",
       "      <td>[02/28/2025]</td>\n",
       "      <td>[]</td>\n",
       "      <td>[ALL OTHER CASES ORDER ABATED BY A JUDGE]</td>\n",
       "      <td>03/25/2025</td>\n",
       "      <td>03/25/2025</td>\n",
       "    </tr>\n",
       "    <tr>\n",
       "      <th>4</th>\n",
       "      <td>Maverick</td>\n",
       "      <td>24-06-43488-MCV</td>\n",
       "      <td>06/05/2024</td>\n",
       "      <td>Inactive</td>\n",
       "      <td>Civil</td>\n",
       "      <td>[10/24/0224]</td>\n",
       "      <td>[]</td>\n",
       "      <td>[ALL OTHER CASES ORDER ABATED BY A JUDGE]</td>\n",
       "      <td>03/25/2025</td>\n",
       "      <td>03/25/2025</td>\n",
       "    </tr>\n",
       "    <tr>\n",
       "      <th>5</th>\n",
       "      <td>Maverick</td>\n",
       "      <td>24-06-43494-MCV</td>\n",
       "      <td>06/07/2024</td>\n",
       "      <td>Inactive</td>\n",
       "      <td>Civil</td>\n",
       "      <td>[07/19/2024]</td>\n",
       "      <td>[]</td>\n",
       "      <td>[ALL OTHER CASES ORDER ABATED BY A JUDGE]</td>\n",
       "      <td>03/25/2025</td>\n",
       "      <td>03/25/2025</td>\n",
       "    </tr>\n",
       "    <tr>\n",
       "      <th>6</th>\n",
       "      <td>Maverick</td>\n",
       "      <td>24-09-43842-MCV</td>\n",
       "      <td>09/27/2024</td>\n",
       "      <td>Inactive</td>\n",
       "      <td>Civil</td>\n",
       "      <td>[01/10/2025]</td>\n",
       "      <td>[]</td>\n",
       "      <td>[ALL OTHER CASES ORDER ABATED BY A JUDGE]</td>\n",
       "      <td>03/25/2025</td>\n",
       "      <td>03/25/2025</td>\n",
       "    </tr>\n",
       "    <tr>\n",
       "      <th>7</th>\n",
       "      <td>Maverick</td>\n",
       "      <td>24-10-43944-MCV</td>\n",
       "      <td>10/29/2024</td>\n",
       "      <td>Inactive</td>\n",
       "      <td>Civil</td>\n",
       "      <td>[12/09/2024]</td>\n",
       "      <td>[]</td>\n",
       "      <td>[ALL OTHER CASES ORDER ABATED BY A JUDGE]</td>\n",
       "      <td>03/25/2025</td>\n",
       "      <td>03/25/2025</td>\n",
       "    </tr>\n",
       "  </tbody>\n",
       "</table>\n",
       "</div>"
      ],
      "text/plain": [
       "     County     Cause Number   File Date    Status Case Type  \\\n",
       "0  Maverick  18-11-36606-MCV  11/09/2018  Inactive     Civil   \n",
       "1  Maverick  22-09-41428-MCV  09/30/2022  Inactive     Civil   \n",
       "2  Maverick  23-10-42622-MCV  10/02/2023  Inactive     Civil   \n",
       "3  Maverick  24-02-43040-MCV  02/05/2024  Inactive     Civil   \n",
       "4  Maverick  24-06-43488-MCV  06/05/2024  Inactive     Civil   \n",
       "5  Maverick  24-06-43494-MCV  06/07/2024  Inactive     Civil   \n",
       "6  Maverick  24-09-43842-MCV  09/27/2024  Inactive     Civil   \n",
       "7  Maverick  24-10-43944-MCV  10/29/2024  Inactive     Civil   \n",
       "\n",
       "  Inactive Start Date Inactive End Date  \\\n",
       "0        [12/09/2024]                []   \n",
       "1        [10/16/2024]                []   \n",
       "2        [02/10/2025]                []   \n",
       "3        [02/28/2025]                []   \n",
       "4        [10/24/0224]                []   \n",
       "5        [07/19/2024]                []   \n",
       "6        [01/10/2025]                []   \n",
       "7        [12/09/2024]                []   \n",
       "\n",
       "                             Inactive Reason Original As Of Date  \\\n",
       "0  [ALL OTHER CASES ORDER ABATED BY A JUDGE]          03/25/2025   \n",
       "1  [ALL OTHER CASES ORDER ABATED BY A JUDGE]          03/25/2025   \n",
       "2  [ALL OTHER CASES ORDER ABATED BY A JUDGE]          03/25/2025   \n",
       "3  [ALL OTHER CASES ORDER ABATED BY A JUDGE]          03/25/2025   \n",
       "4  [ALL OTHER CASES ORDER ABATED BY A JUDGE]          03/25/2025   \n",
       "5  [ALL OTHER CASES ORDER ABATED BY A JUDGE]          03/25/2025   \n",
       "6  [ALL OTHER CASES ORDER ABATED BY A JUDGE]          03/25/2025   \n",
       "7  [ALL OTHER CASES ORDER ABATED BY A JUDGE]          03/25/2025   \n",
       "\n",
       "  Last As Of Date  \n",
       "0      03/25/2025  \n",
       "1      03/25/2025  \n",
       "2      03/25/2025  \n",
       "3      03/25/2025  \n",
       "4      03/25/2025  \n",
       "5      03/25/2025  \n",
       "6      03/25/2025  \n",
       "7      03/25/2025  "
      ]
     },
     "execution_count": 36,
     "metadata": {},
     "output_type": "execute_result"
    }
   ],
   "source": [
    "#Test function\n",
    "df = build_inactive_cases_dataframe(content)\n",
    "df"
   ]
  },
  {
   "cell_type": "code",
   "execution_count": 37,
   "id": "ce3ddf5d",
   "metadata": {},
   "outputs": [],
   "source": [
    "import pandas as pd\n",
    "import re\n",
    "\n",
    "from pdfminer.high_level import extract_text"
   ]
  },
  {
   "cell_type": "code",
   "execution_count": 41,
   "id": "f5602ebe",
   "metadata": {},
   "outputs": [],
   "source": [
    "#Test with a file that has zero cases\n",
    "test_file = '/Users/johnathonsmith/Downloads/25_03_25CVZavalaInactive.pdf'"
   ]
  },
  {
   "cell_type": "code",
   "execution_count": 42,
   "id": "f228dc27",
   "metadata": {},
   "outputs": [],
   "source": [
    "content = extract_text(test_file)"
   ]
  },
  {
   "cell_type": "code",
   "execution_count": 43,
   "id": "d4aa68ff",
   "metadata": {},
   "outputs": [
    {
     "data": {
      "text/html": [
       "<div>\n",
       "<style scoped>\n",
       "    .dataframe tbody tr th:only-of-type {\n",
       "        vertical-align: middle;\n",
       "    }\n",
       "\n",
       "    .dataframe tbody tr th {\n",
       "        vertical-align: top;\n",
       "    }\n",
       "\n",
       "    .dataframe thead th {\n",
       "        text-align: right;\n",
       "    }\n",
       "</style>\n",
       "<table border=\"1\" class=\"dataframe\">\n",
       "  <thead>\n",
       "    <tr style=\"text-align: right;\">\n",
       "      <th></th>\n",
       "    </tr>\n",
       "  </thead>\n",
       "  <tbody>\n",
       "  </tbody>\n",
       "</table>\n",
       "</div>"
      ],
      "text/plain": [
       "Empty DataFrame\n",
       "Columns: []\n",
       "Index: []"
      ]
     },
     "execution_count": 43,
     "metadata": {},
     "output_type": "execute_result"
    }
   ],
   "source": [
    "#Test function\n",
    "df = build_inactive_cases_dataframe(content)\n",
    "df"
   ]
  },
  {
   "cell_type": "code",
   "execution_count": null,
   "id": "982adf80",
   "metadata": {},
   "outputs": [],
   "source": []
  }
 ],
 "metadata": {
  "kernelspec": {
   "display_name": "Python 3",
   "language": "python",
   "name": "python3"
  },
  "language_info": {
   "codemirror_mode": {
    "name": "ipython",
    "version": 3
   },
   "file_extension": ".py",
   "mimetype": "text/x-python",
   "name": "python",
   "nbconvert_exporter": "python",
   "pygments_lexer": "ipython3",
   "version": "3.9.1"
  }
 },
 "nbformat": 4,
 "nbformat_minor": 5
}
