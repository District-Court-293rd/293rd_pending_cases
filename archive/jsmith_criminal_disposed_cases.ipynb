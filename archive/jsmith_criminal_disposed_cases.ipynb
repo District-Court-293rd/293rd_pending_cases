{
 "cells": [
  {
   "cell_type": "code",
   "execution_count": 1,
   "id": "acc89ed7",
   "metadata": {},
   "outputs": [],
   "source": [
    "import numpy as np\n",
    "import pandas as pd\n",
    "import re\n",
    "from pdfminer3.layout import LAParams, LTTextBox\n",
    "from pdfminer3.pdfpage import PDFPage\n",
    "from pdfminer3.pdfinterp import PDFResourceManager\n",
    "from pdfminer3.pdfinterp import PDFPageInterpreter\n",
    "from pdfminer3.converter import PDFPageAggregator\n",
    "from pdfminer3.converter import TextConverter\n",
    "import io"
   ]
  },
  {
   "cell_type": "markdown",
   "id": "1a6d837a",
   "metadata": {},
   "source": [
    "# Load Disposed Cases File"
   ]
  },
  {
   "cell_type": "code",
   "execution_count": 5,
   "id": "de9c8215",
   "metadata": {},
   "outputs": [],
   "source": [
    "#Set up the pdf path\n",
    "pdf_path = '/Users/johnathonsmith/Downloads/Disposed_Case_Reports/Disposed CR Dimmit 01012019 thru 08242023.pdf'"
   ]
  },
  {
   "cell_type": "code",
   "execution_count": 113,
   "id": "51bef8d6",
   "metadata": {},
   "outputs": [],
   "source": [
    "#Set up resource manager to handle pdf content. text, images, etc.\n",
    "resource_manager = PDFResourceManager()\n",
    "\n",
    "#Used to display text\n",
    "fake_file_handle = io.StringIO()\n",
    "\n",
    "#Set up converter\n",
    "converter = TextConverter(resource_manager, fake_file_handle, laparams=LAParams())\n",
    "\n",
    "#Set up page interpreter\n",
    "page_interpreter = PDFPageInterpreter(resource_manager, converter)\n",
    "\n",
    "with open(pdf_path, 'rb') as fh:\n",
    "\n",
    "    for page_num, page in enumerate(PDFPage.get_pages(fh, caching=True, check_extractable=True)):\n",
    "        #Process the current page\n",
    "        page_interpreter.process_page(page)\n",
    "\n",
    "    #Save the current page's text to a variable\n",
    "    text = fake_file_handle.getvalue()\n",
    "\n",
    "# close open handles\n",
    "converter.close()\n",
    "fake_file_handle.close()\n",
    "\n",
    "#print(text)"
   ]
  },
  {
   "cell_type": "code",
   "execution_count": 114,
   "id": "e2f50716",
   "metadata": {},
   "outputs": [
    {
     "data": {
      "text/plain": [
       "\"                                AUGUST 24, 2023 06:31pm  DIMMIT DISTRICT CLERK OFFICE 830-876-4243\\n                                           CASES DISPOSED - COURT: 293RD DISTRICT COURT\\n                                                01/01/2019 TO 08/24/2023 - PAGE 1\\n\\nCAUSE #          DEFENDANT NAME              DIS DT/S  DISPOSITION/S            COMPLAINANT                   BONDSMAN                                   \\n\\n09-05-02506-DCR  ALEXANDRAVICE, KATHERINE L  10/10/19  MOTIONS TO REVOKE/ADJUD                                |----|\\n10-03-02566-DCR  NUNN, NATALIA RIVERA        02/18/22  ALL OTHER DISPOSITIONS                                 SAENZ BAIL BOND\\n10-05-02568-DCR  PERALES, JEFFREY LEE        03/08/21  DISMISSALS                                             |----|\\n11-06-02622-DCR  FLORES, JESSE               06/23/21  MOTIONS TO REVOKE/ADJUD                                SAENZ BAIL BOND\\n                                             03/08/23  DISMISSALS             \\n11-10-02632-DCR  MARTINEZ, WILLIE JOE        04/22/19  MOTIONS TO REVOKE/ADJUD                                |----|\\n12-10-02696-DCR  BALDERAS, EVELYN MICHELLE   09/01/21  ALL OTHER DISPOSITIONS                                 LIBERTAD BAIL B\\n12-12-02724-DCR  BREWER, RICHARD LEE         04/22/20                                                         |----|\\n13-04-02756-DCR  DIAZ, BRIAN                 07/13/22  MOTIONS TO REVOKE/ADJUD                                |----|\\n13-10-02816-DCR  GONZALEZ, JOSE ANTONIO      06/09/23  DISMISSALS                                             |----|\\n13-10-02817-DCR  GONZALEZ, JOSE ANTONIO      06/09/23  DISMISSALS                                             |----|\\n13-10-02818-DCR  GONZALEZ, JOSE ANTONIO      05/12/23  CONVICTIONS BY THE COUR                                |----|\\n13-12-02834-DCR  MARQUEZ, IRVING             06/02/23  MOTIONS TO REVOKE/ADJUD                                SAENZ BAIL BOND\\n14-05-02918-DCR  COVARRUBIAS, CANDELARIO     03/06/19                                                         |----|\\n                                             03/06/19  MOTIONS TO REVOKE/ADJUD\\n14-05-02920-DCR  ZUNIGA, RICK                09/10/19  MOTIONS TO REVOKE/ADJUD                                |----|\\n14-09-02946-DCR  ESQUIVEL, JORGE ANTONIO     09/21/20  MOTIONS TO REVOKE/ADJUD                                |----|\\n14-10-02952-DCR  LERMA, CORINA               10/29/19  MOTIONS TO REVOKE/ADJUD                                |----|\\n15-03-02974-DCR  DOMINGUEZ III, GUADALUPE    01/06/20  MOTIONS TO REVOKE/ADJUD                                |----|\\n15-09-03026-DCR  BLANCO, YOLANDA             05/01/19  CONVICTIONS BY THE COUR                                |----|\\n15-09-03028-DCR  OROSCO, JESSICA MARIA       01/09/20  MOTIONS TO REVOKE/ADJUD                                |----|\\n15-09-03034-DCR  SMITH, JAMES GABRIEL        11/03/20  MOTIONS TO REVOKE/ADJUD                                |----|\\n15-10-03044-DCR  SAUCEDO JR., RENE           04/03/19  DISMISSALS                                             |----|\\n16-03-03066-DCR  DELEON, ARNOLD ABRAHAM      10/05/22  MOTIONS TO REVOKE/ADJUD                                LIBERTAD BAIL B\\n16-04-03072-DCR  CENISEROS, RACHEL CASILLAS  10/29/19  PLACED ON DEFERRED ADJU                                |----|\\n                                             03/28/23  PLACED ON DEFERRED ADJU\\n16-09-03080-DCR  LUEVANO, MARCO              01/04/19  CONVICTIONS - GUILTY PL                                |----|\\n16-09-03092-DCR  SAIZ, ESTEVAN EDWARD        07/08/19  DISMISSALS                                             |----|\\n16-09-03093-DCR  SAIZ, ESTEVAN EDWARD        07/08/19  DISMISSALS                                             |----|\\n16-12-03108-DCR  SOLIS JR., JAVIER           10/19/19  MOTIONS TO REVOKE/ADJUD                                |----|\\n16-12-03116-DCR  STRICKLAND, AUSTIN          11/30/22  MOTIONS TO REVOKE/ADJUD                                LIBERTAD BAIL B\\n                                             05/05/23  ALL OTHER DISPOSITIONS \\n17-04-03150-DCR  CHAVEZ, MANUEL              08/09/19  MOTIONS TO REVOKE/ADJUD                                |----|\\n17-10-03166-DCR  REYES, ELIAS RUBEN          04/03/19  CONVICTIONS BY THE COUR                                |----|\\n17-10-03168-DCR  MARTINEZ, JR., ALBERTO      05/01/19  DISMISSALS                                             |----|\\n17-10-03169-DCR  MARTINEZ, JR., ALBERTO      04/29/19  PLACED ON DEFERRED ADJU                                |----|\\n17-10-03175-DCR  LUEVANO, MARCO ANTONIO      01/14/19  DISMISSALS                                             |----|\\n17-10-03176-DCR  LUEVANO, MARCO ANTONIO      01/14/19  DISMISSALS                                             |----|\\n17-12-03196-DCR  GARDNER, MARY E.            10/10/19  DISMISSALS                                             |----|\\n\\n\\x0c                                AUGUST 24, 2023 06:31pm  DIMMIT DISTRICT CLERK OFFICE 830-876-4243\\n                                           CASES DISPOSED - COURT: 293RD DISTRICT COURT\\n                                                01/01/2019 TO 08/24/2023 - PAGE 2\\n\\nCAUSE #          DEFENDANT NAME              DIS DT/S  DISPOSITION/S            COMPLAINANT                   BONDSMAN                                   \\n\\n18-02-03202-DCR  CHAPA, ELAINE               10/31/22  MOTIONS TO REVOKE/ADJUD                                SAENZ BAIL BOND\\n18-04-03212-DCR  HERNANDEZ, GABRIEL CHARLIE  04/29/19  CONVICTIONS BY THE COUR                                |----|\\n18-04-03214-DCR  CRUZ, ROLANDO MARCELINO     04/20/20  MOTIONS TO REVOKE/ADJUD                                |----|\\n18-04-03216-DCR  JIMENEZ, JOSE ALFREDO       05/01/19  CONVICTIONS BY THE COUR                                |----|\\n18-05-03220-DCR  TIJERINA, RAMIRO            01/04/19  CONVICTIONS - GUILTY PL                                |----|\\n18-05-03222-DCR  GUERRA, GONZALO BRIAN       06/03/19  CONVICTIONS BY THE COUR                                |----|\\n                                             07/27/23  MOTIONS TO REVOKE/ADJUD\\n18-05-03224-DCR  HART, BRANDON KEITH         03/27/23  DISMISSALS                                             LIBERTAD BAIL B\\n18-05-03228-DCR  GONZALEZ, JAVIER ISAAC      02/13/19  CONVICTIONS BY THE COUR                                |----|\\n18-06-03230-DCR  SALDANA, JESSE ESQUIVEL     03/06/19  CONVICTIONS BY THE COUR                                |----|\\n18-07-03232-DCR  DIAZ, BRENDA LEE            02/06/19  CONVICTIONS BY THE COUR  THE STATE OF TEXAS            |----|\\n18-07-03234-DCR  BRADY, EBEN EARL            05/01/19  DISMISSALS               THE STATE OF TEXAS            |----|\\n18-07-03236-DCR  LEAL III, GEORGE            01/04/19  CONVICTIONS - GUILTY PL                                |----|\\n                                             10/21/22  MOTIONS TO REVOKE/ADJUD\\n18-08-03238-DCR  DAMIAN, MONICA EVETTE       04/01/19  CONVICTIONS BY THE COUR                                LIBERTAD BAIL B\\n                                             08/19/21                         \\n18-08-03240-DCR  RODRIGUEZ, ELOY             04/01/19  PLACED ON DEFERRED ADJU                                |----|\\n18-08-03241-DCR  HERNANDEZ, GABRIEL CHARLIE  04/29/19  CONVICTIONS BY THE COUR                                |----|\\n18-08-03242-DCR  SIERRA, OCTAVIO JAVIER      01/04/19  CONVICTIONS - GUILTY PL                                |----|\\n18-08-03244-DCR  RODRIGUEZ, ULISES           05/01/19  CONVICTIONS BY THE COUR                                |----|\\n18-10-03246-DCR  KILPATRICK, NICOLE R        01/23/20  CONVICTIONS BY THE COUR                                |----|\\n18-10-03250-DCR  RAMOS, ROBERT ROMEO         10/17/19  CONVICTIONS BY THE COUR                                |----|\\n18-10-03252-DCR  ESQUIVEL, ERIC              11/04/21  DISMISSALS                                             LAW OFFICE OF J\\n18-10-03254-DCR  HERNANDEZ, JESUS            12/12/19  CONVICTIONS BY THE COUR                                |----|\\n18-10-03256-DCR  JIMENEZ, JOSE ALFREDO       05/01/19  CONVICTIONS BY THE COUR                                |----|\\n18-12-03260-DCR  RODRIGUEZ, ULISES           05/01/19  CONVICTIONS BY THE COUR                                |----|\\n18-12-03262-DCR  MENDOZA, ARMANDO            07/08/19  CONVICTIONS BY THE COUR                                |----|\\n18-12-03263-DCR  JIMENEZ, JOSE ALFREDO       05/01/19  DISMISSALS                                             |----|\\n18-12-03264-DCR  RAMIREZ, JOSE LUIS          06/02/20  CONVICTIONS - GUILTY PL                                |----|\\n18-12-03265-DCR  RAMIREZ, JOSE LUIS          06/02/20  CONVICTIONS - GUILTY PL                                |----|\\n18-12-03266-DCR  RAMIREZ, JOSE LUIS          06/02/20  CONVICTIONS - GUILTY PL                                |----|\\n18-12-03267-DCR  RAMIREZ, JOSE LUIS          06/02/20  CONVICTIONS - GUILTY PL                                |----|\\n18-12-03268-DCR  CASTRO, JUAN FELIMON        10/17/19  PLACED ON DEFERRED ADJU                                |----|\\n19-02-03270-DCR  CARREON JR., JUAN JOSE      10/02/19  CONVICTIONS BY THE COUR                                SAENZ BAIL BOND\\n                                             06/10/22  MOTIONS TO REVOKE/ADJUD\\n19-02-03272-DCR  MARTINEZ, MARIO             04/24/20  CONVICTIONS BY THE COUR                                |----|\\n19-02-03273-DCR  MARTINEZ, MARIO             04/24/20  CONVICTIONS BY THE COUR                                |----|\\n19-02-03274-DCR  RAMOS, ROBERT ROMEO         10/17/19  CONVICTIONS BY THE COUR                                |----|\\n19-02-03278-DCR  ARCE, MICHAEL ANDREW        07/14/20  DISMISSALS                                             |----|\\n\\n\\x0c                                AUGUST 24, 2023 06:31pm  DIMMIT DISTRICT CLERK OFFICE 830-876-4243\\n                                           CASES DISPOSED - COURT: 293RD DISTRICT COURT\\n                                                01/01/2019 TO 08/24/2023 - PAGE 3\\n\\nCAUSE #          DEFENDANT NAME              DIS DT/S  DISPOSITION/S            COMPLAINANT                   BONDSMAN                                   \\n\\n19-02-03280-DCR  ROCHA, JAVIER URRABAZO      11/04/21  CONVICTIONS BY THE COUR                                |----|\\n19-03-03282-DCR  GARCIA, CHRISTOPHER MICHAE  08/21/23  CONVICTIONS BY THE COUR                                LIBERTAD BAIL B\\n19-07-03292-DCR  MARTINEZ JR., OSCAR         02/11/20  CONVICTIONS BY THE COUR                                |----|\\n19-07-03294-DCR  RAMIREZ, GABRIEL            02/22/22  CONVICTIONS BY THE COUR                                LIBERTAD BAIL B\\n19-07-03296-DCR  RODRIGUEZ, NATHANIEL RAY    12/07/22  CONVICTIONS BY THE COUR                                LIBERTAD BAIL B\\n19-07-03298-DCR  PEREZ, MARIO ALONSO         05/12/23  CONVICTIONS BY THE COUR                                BIG JOE'S BAIL \\n19-08-03300-DCR  LONGORIA, SAMUEL SCOTT      06/26/20  CONVICTIONS BY THE COUR                                |----|\\n                                             09/09/20  MOTIONS TO REVOKE/ADJUD\\n                                             07/28/22  MOTIONS TO REVOKE/ADJUD\\n19-08-03303-DCR  LONGORIA, SAMUEL SCOTT      06/26/20  CONVICTIONS BY THE COUR                                |----|\\n                                             09/09/20  MOTIONS TO REVOKE/ADJUD\\n                                             07/28/22  MOTIONS TO REVOKE/ADJUD\\n19-08-03304-DCR  LONGORIA, SAMUEL SCOTT      06/26/20  CONVICTIONS BY THE COUR                                |----|\\n                                             09/09/20  MOTIONS TO REVOKE/ADJUD\\n                                             07/28/22  MOTIONS TO REVOKE/ADJUD\\n19-08-03306-DCR  CASTILLON, ANDREW DAVID     07/22/20  CONVICTIONS BY THE COUR                                |----|\\n19-08-03308-DCR  GARCIA, ALONSO DAVID        08/13/20  CONVICTIONS BY THE COUR                                |----|\\n19-08-03312-DCR  PERALES, ANGELICA NICOLE    05/24/21  DISMISSALS                                             LIBERTAD BAIL B\\n19-08-03319-DCR  CASTILLON, ANDREW DAVID     07/22/20  CONVICTIONS BY THE COUR                                |----|\\n19-10-03320-DCR  REYES, ROMAN                03/05/21  CONVICTIONS BY THE COUR                                |----|\\n                                             10/05/22  MOTIONS TO REVOKE/ADJUD\\n19-10-03322-DCR  CAICEDO, DALIA MARGARITA    05/07/21  DISMISSALS                                             |----|\\n19-12-03326-DCR  PAREDES, MAEGAN BRISYLDA    01/18/22  PLACED ON DEFERRED ADJU                                LIBERTAD BAIL B\\n19-12-03328-DCR  LOAEZA, NOE ESMERALDO       11/04/21  DISMISSALS                                             |----|\\n19-12-03330-DCR  ZARATE, CARLOS SANTANA      11/16/22  DISMISSALS                                             |----|\\n19-12-03331-DCR  ZARATE, CARLOS SANTANA      11/16/22  CONVICTIONS BY THE JURY                                |----|\\n19-12-03332-DCR  HERNANDEZ JR., OSCAR VARGA  08/10/21  CONVICTIONS BY THE COUR                                |----|\\n19-12-03336-DCR  MARTINEZ, CORNELIO          06/27/22  CONVICTIONS BY THE COUR                                LIBERTAD BAIL B\\n19-12-03337-DCR  MARTINEZ, CORNELIO          06/27/22  CONVICTIONS BY THE COUR                                LIBERTAD BAIL B\\n19-12-03338-DCR  OROSCO JR., PEDRO           09/21/20  CONVICTIONS BY THE COUR                                |----|\\n                                             03/16/23  ALL OTHER DISPOSITIONS \\n20-02-03340-DCR  ROCHA, JAVIER URRABAZO      01/04/22  DISMISSALS                                             |----|\\n20-02-03344-DCR  CAULEY, SHAWN MATTHEW       08/03/21  PLACED ON DEFERRED ADJU                                |----|\\n20-02-03346-DCR  TREVINO, ERIC               10/20/22  CONVICTIONS BY THE COUR                                BIG JOE'S BAIL \\n20-12-03352-DCR  MENDOZA, DULCIE VICTORIA    01/05/22  CONVICTIONS BY THE COUR                                LIBERTAD BAIL B\\n20-12-03354-DCR  SOTO, ZELYNA                09/09/21  CONVICTIONS BY THE COUR                                LARES BAIL BOND\\n20-12-03356-DCR  ESCAMILLA, LINDA PATRICIA   05/11/22  DISMISSALS                                             |----|\\n20-12-03357-DCR  ZARATE, CARLOS SANTANA      11/16/22  DISMISSALS                                             SAENZ BAIL BOND\\n20-12-03358-DCR  ZARATE, CARLOS SANTANA      11/16/22  DISMISSALS                                             |----|\\n\\n\\x0c                                AUGUST 24, 2023 06:31pm  DIMMIT DISTRICT CLERK OFFICE 830-876-4243\\n                                           CASES DISPOSED - COURT: 293RD DISTRICT COURT\\n                                                01/01/2019 TO 08/24/2023 - PAGE 4\\n\\nCAUSE #          DEFENDANT NAME              DIS DT/S  DISPOSITION/S            COMPLAINANT                   BONDSMAN                                   \\n\\n20-12-03360-DCR  MARTINEZ, JR., JULIO G.     04/05/22  CONVICTIONS BY THE COUR                                BIG JOE'S BAIL \\n20-12-03362-DCR  MARTINEZ, CORNELIO          06/27/22  CONVICTIONS BY THE COUR                                LIBERTAD BAIL B\\n20-12-03368-DCR  MUNOZ, RUBEN                06/07/22  DISMISSALS                                             LAW OFFICE OF A\\n20-12-03370-DCR  FUENTES, CARLOS             08/24/22  CONVICTIONS BY THE COUR                                LIBERTAD BAIL B\\n20-12-03372-DCR  CRUZ, JORGE ADAN            07/22/22  CONVICTIONS BY THE COUR                                LIBERTAD BAIL B\\n20-12-03374-DCR  BALDERAS III, ALFREDO       03/02/22  CONVICTIONS BY THE COUR                                LIBERTAD BAIL B\\n20-12-03375-DCR  BALDERAS III, ALFREDO       03/02/22  CONVICTIONS BY THE COUR                                LIBERTAD BAIL B\\n20-12-03376-DCR  BALDERAS III, ALFREDO       03/02/22  CONVICTIONS BY THE COUR                                LIBERTAD BAIL B\\n20-12-03378-DCR  HINOJOSA, RAMON JESUS       10/19/22  CONVICTIONS BY THE COUR                                |----|\\n20-12-03380-DCR  PAREDES, MAEGAN BRISYLDA    01/18/22  PLACED ON DEFERRED ADJU                                LAW OFFICE OF A\\n20-12-03382-DCR  VENCES-LUVIANO, RAFAEL      08/24/21  CONVICTIONS BY THE COUR                                BIG JOE'S BAIL \\n20-12-03383-DCR  VENCES-LUVIANO, RAFAEL      08/24/21  CONVICTIONS BY THE COUR                                BIG JOE'S BAIL \\n20-12-03384-DCR  GARCIA, NICOLE              06/24/21  DISMISSALS                                             BIG JOE'S BAIL \\n20-12-03385-DCR  LONGORIA, SAMUEL SCOTT      07/28/22  CONVICTIONS BY THE COUR                                LIBERTAD BAIL B\\n20-12-03386-DCR  RENTERIA, NATHANAEL GUSTAR  01/25/22  PLACED ON DEFERRED ADJU                                LIBERTAD BAIL B\\n                                             05/15/23  MOTIONS TO REVOKE/ADJUD\\n20-12-03387-DCR  RENTERIA, NATHANAEL GUSTAR  01/25/22  PLACED ON DEFERRED ADJU                                LIBERTAD BAIL B\\n                                             05/15/23  MOTIONS TO REVOKE/ADJUD\\n21-04-03390-DCR  VELA, NATHANIEL RYAN        04/05/22  CONVICTIONS BY THE COUR                                LIBERTAD BAIL B\\n21-04-03392-DCR  DIAZ, FAUSTINO ISMAEL       06/22/22  CONVICTIONS BY THE COUR                                |----|\\n21-04-03394-DCR  BRIONES, MERCEDES           03/16/23  DISMISSALS                                             LIBERTAD BAIL B\\n21-08-03398-DCR  GONZALEZ, JOSE ANTONIO      06/09/23  DISMISSALS                                             |----|\\n21-08-03399-DCR  GONZALEZ, JOSE ANTONIO      05/12/23  CONVICTIONS BY THE COUR                                |----|\\n21-08-03400-DCR  GONZALEZ, JOSE ANTONIO      06/09/23  DISMISSALS                                             |----|\\n21-08-03402-DCR  GALAN, ANDRES JIMENEZ       01/10/23  CONVICTIONS BY THE COUR                                LIBERTAD BAIL B\\n21-08-03404-DCR  ROCHA, JOSHUA RAE           06/15/23  DISMISSALS                                             LIBERTAD BAIL B\\n21-08-03405-DCR  ROCHA, JOSHUA RAE           06/15/23  CONVICTIONS BY THE COUR                                LIBERTAD BAIL B\\n21-08-03406-DCR  RAMIREZ, BETHANY GABRIELA   12/01/22  PLACED ON DEFERRED ADJU                                BIG JOE'S BAIL \\n21-08-03407-DCR  MARTINEZ, CORNELIO          06/27/22  CONVICTIONS BY THE COUR                                |----|\\n21-11-03408-DCR  LOPEZ II, NICOLAS           06/02/23  CONVICTIONS BY THE COUR                                LIBERTAD BAIL B\\n21-11-03422-DCR  PICHARDO, MARIO ALBERTO     04/14/23  CONVICTIONS BY THE COUR                                |----|\\n22-03-03432-DCR  MCKINNEY, MICHAEL BURL      02/02/23                                                         LIBERTAD BAIL B\\n22-11-03472-DCR  CAMPBELL, LARRY             07/17/23  DISMISSALS                                             |----|\\n23-02-03490-DCR  MORALES, FRANCISCO LEE      05/18/23  DISMISSALS                                             |----|\\n23-03-03560-DCR  MENDOZA, FRANKIE            06/08/23  DISMISSALS                                             LIBERTAD BAIL B\\n\\n134 CASES LISTED\\n\\n\\x0c\""
      ]
     },
     "execution_count": 114,
     "metadata": {},
     "output_type": "execute_result"
    }
   ],
   "source": [
    "text"
   ]
  },
  {
   "cell_type": "markdown",
   "id": "701f82fa",
   "metadata": {},
   "source": [
    "# Isolate Header"
   ]
  },
  {
   "cell_type": "code",
   "execution_count": 115,
   "id": "4ce912cf",
   "metadata": {},
   "outputs": [
    {
     "data": {
      "text/plain": [
       "'                                AUGUST 24, 2023 06:31pm  DIMMIT DISTRICT CLERK OFFICE 830-876-4243\\n                                           CASES DISPOSED - COURT: 293RD DISTRICT COURT\\n                                                01/01/2019 TO 08/24/2023 - PAGE 1\\n\\nCAUSE #          DEFENDANT NAME              DIS DT/S  DISPOSITION/S            COMPLAINANT                   BONDSMAN                                '"
      ]
     },
     "execution_count": 115,
     "metadata": {},
     "output_type": "execute_result"
    }
   ],
   "source": [
    "header = text[:420]\n",
    "header"
   ]
  },
  {
   "cell_type": "markdown",
   "id": "fd7102b4",
   "metadata": {},
   "source": [
    "# Isolate Body"
   ]
  },
  {
   "cell_type": "code",
   "execution_count": 116,
   "id": "5c51a477",
   "metadata": {},
   "outputs": [
    {
     "data": {
      "text/plain": [
       "\"   \\n\\n09-05-02506-DCR  ALEXANDRAVICE, KATHERINE L  10/10/19  MOTIONS TO REVOKE/ADJUD                                |----|\\n10-03-02566-DCR  NUNN, NATALIA RIVERA        02/18/22  ALL OTHER DISPOSITIONS                                 SAENZ BAIL BOND\\n10-05-02568-DCR  PERALES, JEFFREY LEE        03/08/21  DISMISSALS                                             |----|\\n11-06-02622-DCR  FLORES, JESSE               06/23/21  MOTIONS TO REVOKE/ADJUD                                SAENZ BAIL BOND\\n                                             03/08/23  DISMISSALS             \\n11-10-02632-DCR  MARTINEZ, WILLIE JOE        04/22/19  MOTIONS TO REVOKE/ADJUD                                |----|\\n12-10-02696-DCR  BALDERAS, EVELYN MICHELLE   09/01/21  ALL OTHER DISPOSITIONS                                 LIBERTAD BAIL B\\n12-12-02724-DCR  BREWER, RICHARD LEE         04/22/20                                                         |----|\\n13-04-02756-DCR  DIAZ, BRIAN                 07/13/22  MOTIONS TO REVOKE/ADJUD                                |----|\\n13-10-02816-DCR  GONZALEZ, JOSE ANTONIO      06/09/23  DISMISSALS                                             |----|\\n13-10-02817-DCR  GONZALEZ, JOSE ANTONIO      06/09/23  DISMISSALS                                             |----|\\n13-10-02818-DCR  GONZALEZ, JOSE ANTONIO      05/12/23  CONVICTIONS BY THE COUR                                |----|\\n13-12-02834-DCR  MARQUEZ, IRVING             06/02/23  MOTIONS TO REVOKE/ADJUD                                SAENZ BAIL BOND\\n14-05-02918-DCR  COVARRUBIAS, CANDELARIO     03/06/19                                                         |----|\\n                                             03/06/19  MOTIONS TO REVOKE/ADJUD\\n14-05-02920-DCR  ZUNIGA, RICK                09/10/19  MOTIONS TO REVOKE/ADJUD                                |----|\\n14-09-02946-DCR  ESQUIVEL, JORGE ANTONIO     09/21/20  MOTIONS TO REVOKE/ADJUD                                |----|\\n14-10-02952-DCR  LERMA, CORINA               10/29/19  MOTIONS TO REVOKE/ADJUD                                |----|\\n15-03-02974-DCR  DOMINGUEZ III, GUADALUPE    01/06/20  MOTIONS TO REVOKE/ADJUD                                |----|\\n15-09-03026-DCR  BLANCO, YOLANDA             05/01/19  CONVICTIONS BY THE COUR                                |----|\\n15-09-03028-DCR  OROSCO, JESSICA MARIA       01/09/20  MOTIONS TO REVOKE/ADJUD                                |----|\\n15-09-03034-DCR  SMITH, JAMES GABRIEL        11/03/20  MOTIONS TO REVOKE/ADJUD                                |----|\\n15-10-03044-DCR  SAUCEDO JR., RENE           04/03/19  DISMISSALS                                             |----|\\n16-03-03066-DCR  DELEON, ARNOLD ABRAHAM      10/05/22  MOTIONS TO REVOKE/ADJUD                                LIBERTAD BAIL B\\n16-04-03072-DCR  CENISEROS, RACHEL CASILLAS  10/29/19  PLACED ON DEFERRED ADJU                                |----|\\n                                             03/28/23  PLACED ON DEFERRED ADJU\\n16-09-03080-DCR  LUEVANO, MARCO              01/04/19  CONVICTIONS - GUILTY PL                                |----|\\n16-09-03092-DCR  SAIZ, ESTEVAN EDWARD        07/08/19  DISMISSALS                                             |----|\\n16-09-03093-DCR  SAIZ, ESTEVAN EDWARD        07/08/19  DISMISSALS                                             |----|\\n16-12-03108-DCR  SOLIS JR., JAVIER           10/19/19  MOTIONS TO REVOKE/ADJUD                                |----|\\n16-12-03116-DCR  STRICKLAND, AUSTIN          11/30/22  MOTIONS TO REVOKE/ADJUD                                LIBERTAD BAIL B\\n                                             05/05/23  ALL OTHER DISPOSITIONS \\n17-04-03150-DCR  CHAVEZ, MANUEL              08/09/19  MOTIONS TO REVOKE/ADJUD                                |----|\\n17-10-03166-DCR  REYES, ELIAS RUBEN          04/03/19  CONVICTIONS BY THE COUR                                |----|\\n17-10-03168-DCR  MARTINEZ, JR., ALBERTO      05/01/19  DISMISSALS                                             |----|\\n17-10-03169-DCR  MARTINEZ, JR., ALBERTO      04/29/19  PLACED ON DEFERRED ADJU                                |----|\\n17-10-03175-DCR  LUEVANO, MARCO ANTONIO      01/14/19  DISMISSALS                                             |----|\\n17-10-03176-DCR  LUEVANO, MARCO ANTONIO      01/14/19  DISMISSALS                                             |----|\\n17-12-03196-DCR  GARDNER, MARY E.            10/10/19  DISMISSALS                                             |----|\\n\\n\\x0c                                AUGUST 24, 2023 06:31pm  DIMMIT DISTRICT CLERK OFFICE 830-876-4243\\n                                           CASES DISPOSED - COURT: 293RD DISTRICT COURT\\n                                                01/01/2019 TO 08/24/2023 - PAGE 2\\n\\nCAUSE #          DEFENDANT NAME              DIS DT/S  DISPOSITION/S            COMPLAINANT                   BONDSMAN                                   \\n\\n18-02-03202-DCR  CHAPA, ELAINE               10/31/22  MOTIONS TO REVOKE/ADJUD                                SAENZ BAIL BOND\\n18-04-03212-DCR  HERNANDEZ, GABRIEL CHARLIE  04/29/19  CONVICTIONS BY THE COUR                                |----|\\n18-04-03214-DCR  CRUZ, ROLANDO MARCELINO     04/20/20  MOTIONS TO REVOKE/ADJUD                                |----|\\n18-04-03216-DCR  JIMENEZ, JOSE ALFREDO       05/01/19  CONVICTIONS BY THE COUR                                |----|\\n18-05-03220-DCR  TIJERINA, RAMIRO            01/04/19  CONVICTIONS - GUILTY PL                                |----|\\n18-05-03222-DCR  GUERRA, GONZALO BRIAN       06/03/19  CONVICTIONS BY THE COUR                                |----|\\n                                             07/27/23  MOTIONS TO REVOKE/ADJUD\\n18-05-03224-DCR  HART, BRANDON KEITH         03/27/23  DISMISSALS                                             LIBERTAD BAIL B\\n18-05-03228-DCR  GONZALEZ, JAVIER ISAAC      02/13/19  CONVICTIONS BY THE COUR                                |----|\\n18-06-03230-DCR  SALDANA, JESSE ESQUIVEL     03/06/19  CONVICTIONS BY THE COUR                                |----|\\n18-07-03232-DCR  DIAZ, BRENDA LEE            02/06/19  CONVICTIONS BY THE COUR  THE STATE OF TEXAS            |----|\\n18-07-03234-DCR  BRADY, EBEN EARL            05/01/19  DISMISSALS               THE STATE OF TEXAS            |----|\\n18-07-03236-DCR  LEAL III, GEORGE            01/04/19  CONVICTIONS - GUILTY PL                                |----|\\n                                             10/21/22  MOTIONS TO REVOKE/ADJUD\\n18-08-03238-DCR  DAMIAN, MONICA EVETTE       04/01/19  CONVICTIONS BY THE COUR                                LIBERTAD BAIL B\\n                                             08/19/21                         \\n18-08-03240-DCR  RODRIGUEZ, ELOY             04/01/19  PLACED ON DEFERRED ADJU                                |----|\\n18-08-03241-DCR  HERNANDEZ, GABRIEL CHARLIE  04/29/19  CONVICTIONS BY THE COUR                                |----|\\n18-08-03242-DCR  SIERRA, OCTAVIO JAVIER      01/04/19  CONVICTIONS - GUILTY PL                                |----|\\n18-08-03244-DCR  RODRIGUEZ, ULISES           05/01/19  CONVICTIONS BY THE COUR                                |----|\\n18-10-03246-DCR  KILPATRICK, NICOLE R        01/23/20  CONVICTIONS BY THE COUR                                |----|\\n18-10-03250-DCR  RAMOS, ROBERT ROMEO         10/17/19  CONVICTIONS BY THE COUR                                |----|\\n18-10-03252-DCR  ESQUIVEL, ERIC              11/04/21  DISMISSALS                                             LAW OFFICE OF J\\n18-10-03254-DCR  HERNANDEZ, JESUS            12/12/19  CONVICTIONS BY THE COUR                                |----|\\n18-10-03256-DCR  JIMENEZ, JOSE ALFREDO       05/01/19  CONVICTIONS BY THE COUR                                |----|\\n18-12-03260-DCR  RODRIGUEZ, ULISES           05/01/19  CONVICTIONS BY THE COUR                                |----|\\n18-12-03262-DCR  MENDOZA, ARMANDO            07/08/19  CONVICTIONS BY THE COUR                                |----|\\n18-12-03263-DCR  JIMENEZ, JOSE ALFREDO       05/01/19  DISMISSALS                                             |----|\\n18-12-03264-DCR  RAMIREZ, JOSE LUIS          06/02/20  CONVICTIONS - GUILTY PL                                |----|\\n18-12-03265-DCR  RAMIREZ, JOSE LUIS          06/02/20  CONVICTIONS - GUILTY PL                                |----|\\n18-12-03266-DCR  RAMIREZ, JOSE LUIS          06/02/20  CONVICTIONS - GUILTY PL                                |----|\\n18-12-03267-DCR  RAMIREZ, JOSE LUIS          06/02/20  CONVICTIONS - GUILTY PL                                |----|\\n18-12-03268-DCR  CASTRO, JUAN FELIMON        10/17/19  PLACED ON DEFERRED ADJU                                |----|\\n19-02-03270-DCR  CARREON JR., JUAN JOSE      10/02/19  CONVICTIONS BY THE COUR                                SAENZ BAIL BOND\\n                                             06/10/22  MOTIONS TO REVOKE/ADJUD\\n19-02-03272-DCR  MARTINEZ, MARIO             04/24/20  CONVICTIONS BY THE COUR                                |----|\\n19-02-03273-DCR  MARTINEZ, MARIO             04/24/20  CONVICTIONS BY THE COUR                                |----|\\n19-02-03274-DCR  RAMOS, ROBERT ROMEO         10/17/19  CONVICTIONS BY THE COUR                                |----|\\n19-02-03278-DCR  ARCE, MICHAEL ANDREW        07/14/20  DISMISSALS                                             |----|\\n\\n\\x0c                                AUGUST 24, 2023 06:31pm  DIMMIT DISTRICT CLERK OFFICE 830-876-4243\\n                                           CASES DISPOSED - COURT: 293RD DISTRICT COURT\\n                                                01/01/2019 TO 08/24/2023 - PAGE 3\\n\\nCAUSE #          DEFENDANT NAME              DIS DT/S  DISPOSITION/S            COMPLAINANT                   BONDSMAN                                   \\n\\n19-02-03280-DCR  ROCHA, JAVIER URRABAZO      11/04/21  CONVICTIONS BY THE COUR                                |----|\\n19-03-03282-DCR  GARCIA, CHRISTOPHER MICHAE  08/21/23  CONVICTIONS BY THE COUR                                LIBERTAD BAIL B\\n19-07-03292-DCR  MARTINEZ JR., OSCAR         02/11/20  CONVICTIONS BY THE COUR                                |----|\\n19-07-03294-DCR  RAMIREZ, GABRIEL            02/22/22  CONVICTIONS BY THE COUR                                LIBERTAD BAIL B\\n19-07-03296-DCR  RODRIGUEZ, NATHANIEL RAY    12/07/22  CONVICTIONS BY THE COUR                                LIBERTAD BAIL B\\n19-07-03298-DCR  PEREZ, MARIO ALONSO         05/12/23  CONVICTIONS BY THE COUR                                BIG JOE'S BAIL \\n19-08-03300-DCR  LONGORIA, SAMUEL SCOTT      06/26/20  CONVICTIONS BY THE COUR                                |----|\\n                                             09/09/20  MOTIONS TO REVOKE/ADJUD\\n                                             07/28/22  MOTIONS TO REVOKE/ADJUD\\n19-08-03303-DCR  LONGORIA, SAMUEL SCOTT      06/26/20  CONVICTIONS BY THE COUR                                |----|\\n                                             09/09/20  MOTIONS TO REVOKE/ADJUD\\n                                             07/28/22  MOTIONS TO REVOKE/ADJUD\\n19-08-03304-DCR  LONGORIA, SAMUEL SCOTT      06/26/20  CONVICTIONS BY THE COUR                                |----|\\n                                             09/09/20  MOTIONS TO REVOKE/ADJUD\\n                                             07/28/22  MOTIONS TO REVOKE/ADJUD\\n19-08-03306-DCR  CASTILLON, ANDREW DAVID     07/22/20  CONVICTIONS BY THE COUR                                |----|\\n19-08-03308-DCR  GARCIA, ALONSO DAVID        08/13/20  CONVICTIONS BY THE COUR                                |----|\\n19-08-03312-DCR  PERALES, ANGELICA NICOLE    05/24/21  DISMISSALS                                             LIBERTAD BAIL B\\n19-08-03319-DCR  CASTILLON, ANDREW DAVID     07/22/20  CONVICTIONS BY THE COUR                                |----|\\n19-10-03320-DCR  REYES, ROMAN                03/05/21  CONVICTIONS BY THE COUR                                |----|\\n                                             10/05/22  MOTIONS TO REVOKE/ADJUD\\n19-10-03322-DCR  CAICEDO, DALIA MARGARITA    05/07/21  DISMISSALS                                             |----|\\n19-12-03326-DCR  PAREDES, MAEGAN BRISYLDA    01/18/22  PLACED ON DEFERRED ADJU                                LIBERTAD BAIL B\\n19-12-03328-DCR  LOAEZA, NOE ESMERALDO       11/04/21  DISMISSALS                                             |----|\\n19-12-03330-DCR  ZARATE, CARLOS SANTANA      11/16/22  DISMISSALS                                             |----|\\n19-12-03331-DCR  ZARATE, CARLOS SANTANA      11/16/22  CONVICTIONS BY THE JURY                                |----|\\n19-12-03332-DCR  HERNANDEZ JR., OSCAR VARGA  08/10/21  CONVICTIONS BY THE COUR                                |----|\\n19-12-03336-DCR  MARTINEZ, CORNELIO          06/27/22  CONVICTIONS BY THE COUR                                LIBERTAD BAIL B\\n19-12-03337-DCR  MARTINEZ, CORNELIO          06/27/22  CONVICTIONS BY THE COUR                                LIBERTAD BAIL B\\n19-12-03338-DCR  OROSCO JR., PEDRO           09/21/20  CONVICTIONS BY THE COUR                                |----|\\n                                             03/16/23  ALL OTHER DISPOSITIONS \\n20-02-03340-DCR  ROCHA, JAVIER URRABAZO      01/04/22  DISMISSALS                                             |----|\\n20-02-03344-DCR  CAULEY, SHAWN MATTHEW       08/03/21  PLACED ON DEFERRED ADJU                                |----|\\n20-02-03346-DCR  TREVINO, ERIC               10/20/22  CONVICTIONS BY THE COUR                                BIG JOE'S BAIL \\n20-12-03352-DCR  MENDOZA, DULCIE VICTORIA    01/05/22  CONVICTIONS BY THE COUR                                LIBERTAD BAIL B\\n20-12-03354-DCR  SOTO, ZELYNA                09/09/21  CONVICTIONS BY THE COUR                                LARES BAIL BOND\\n20-12-03356-DCR  ESCAMILLA, LINDA PATRICIA   05/11/22  DISMISSALS                                             |----|\\n20-12-03357-DCR  ZARATE, CARLOS SANTANA      11/16/22  DISMISSALS                                             SAENZ BAIL BOND\\n20-12-03358-DCR  ZARATE, CARLOS SANTANA      11/16/22  DISMISSALS                                             |----|\\n\\n\\x0c                                AUGUST 24, 2023 06:31pm  DIMMIT DISTRICT CLERK OFFICE 830-876-4243\\n                                           CASES DISPOSED - COURT: 293RD DISTRICT COURT\\n                                                01/01/2019 TO 08/24/2023 - PAGE 4\\n\\nCAUSE #          DEFENDANT NAME              DIS DT/S  DISPOSITION/S            COMPLAINANT                   BONDSMAN                                   \\n\\n20-12-03360-DCR  MARTINEZ, JR., JULIO G.     04/05/22  CONVICTIONS BY THE COUR                                BIG JOE'S BAIL \\n20-12-03362-DCR  MARTINEZ, CORNELIO          06/27/22  CONVICTIONS BY THE COUR                                LIBERTAD BAIL B\\n20-12-03368-DCR  MUNOZ, RUBEN                06/07/22  DISMISSALS                                             LAW OFFICE OF A\\n20-12-03370-DCR  FUENTES, CARLOS             08/24/22  CONVICTIONS BY THE COUR                                LIBERTAD BAIL B\\n20-12-03372-DCR  CRUZ, JORGE ADAN            07/22/22  CONVICTIONS BY THE COUR                                LIBERTAD BAIL B\\n20-12-03374-DCR  BALDERAS III, ALFREDO       03/02/22  CONVICTIONS BY THE COUR                                LIBERTAD BAIL B\\n20-12-03375-DCR  BALDERAS III, ALFREDO       03/02/22  CONVICTIONS BY THE COUR                                LIBERTAD BAIL B\\n20-12-03376-DCR  BALDERAS III, ALFREDO       03/02/22  CONVICTIONS BY THE COUR                                LIBERTAD BAIL B\\n20-12-03378-DCR  HINOJOSA, RAMON JESUS       10/19/22  CONVICTIONS BY THE COUR                                |----|\\n20-12-03380-DCR  PAREDES, MAEGAN BRISYLDA    01/18/22  PLACED ON DEFERRED ADJU                                LAW OFFICE OF A\\n20-12-03382-DCR  VENCES-LUVIANO, RAFAEL      08/24/21  CONVICTIONS BY THE COUR                                BIG JOE'S BAIL \\n20-12-03383-DCR  VENCES-LUVIANO, RAFAEL      08/24/21  CONVICTIONS BY THE COUR                                BIG JOE'S BAIL \\n20-12-03384-DCR  GARCIA, NICOLE              06/24/21  DISMISSALS                                             BIG JOE'S BAIL \\n20-12-03385-DCR  LONGORIA, SAMUEL SCOTT      07/28/22  CONVICTIONS BY THE COUR                                LIBERTAD BAIL B\\n20-12-03386-DCR  RENTERIA, NATHANAEL GUSTAR  01/25/22  PLACED ON DEFERRED ADJU                                LIBERTAD BAIL B\\n                                             05/15/23  MOTIONS TO REVOKE/ADJUD\\n20-12-03387-DCR  RENTERIA, NATHANAEL GUSTAR  01/25/22  PLACED ON DEFERRED ADJU                                LIBERTAD BAIL B\\n                                             05/15/23  MOTIONS TO REVOKE/ADJUD\\n21-04-03390-DCR  VELA, NATHANIEL RYAN        04/05/22  CONVICTIONS BY THE COUR                                LIBERTAD BAIL B\\n21-04-03392-DCR  DIAZ, FAUSTINO ISMAEL       06/22/22  CONVICTIONS BY THE COUR                                |----|\\n21-04-03394-DCR  BRIONES, MERCEDES           03/16/23  DISMISSALS                                             LIBERTAD BAIL B\\n21-08-03398-DCR  GONZALEZ, JOSE ANTONIO      06/09/23  DISMISSALS                                             |----|\\n21-08-03399-DCR  GONZALEZ, JOSE ANTONIO      05/12/23  CONVICTIONS BY THE COUR                                |----|\\n21-08-03400-DCR  GONZALEZ, JOSE ANTONIO      06/09/23  DISMISSALS                                             |----|\\n21-08-03402-DCR  GALAN, ANDRES JIMENEZ       01/10/23  CONVICTIONS BY THE COUR                                LIBERTAD BAIL B\\n21-08-03404-DCR  ROCHA, JOSHUA RAE           06/15/23  DISMISSALS                                             LIBERTAD BAIL B\\n21-08-03405-DCR  ROCHA, JOSHUA RAE           06/15/23  CONVICTIONS BY THE COUR                                LIBERTAD BAIL B\\n21-08-03406-DCR  RAMIREZ, BETHANY GABRIELA   12/01/22  PLACED ON DEFERRED ADJU                                BIG JOE'S BAIL \\n21-08-03407-DCR  MARTINEZ, CORNELIO          06/27/22  CONVICTIONS BY THE COUR                                |----|\\n21-11-03408-DCR  LOPEZ II, NICOLAS           06/02/23  CONVICTIONS BY THE COUR                                LIBERTAD BAIL B\\n21-11-03422-DCR  PICHARDO, MARIO ALBERTO     04/14/23  CONVICTIONS BY THE COUR                                |----|\\n22-03-03432-DCR  MCKINNEY, MICHAEL BURL      02/02/23                                                         LIBERTAD BAIL B\\n22-11-03472-DCR  CAMPBELL, LARRY             07/17/23  DISMISSALS                                             |----|\\n23-02-03490-DCR  MORALES, FRANCISCO LEE      05/18/23  DISMISSALS                                             |----|\\n23-03-03560-DCR  MENDOZA, FRANKIE            06/08/23  DISMISSALS                                             LIBERTAD BAIL B\\n\\n134 CASES LISTED\\n\\n\\x0c\""
      ]
     },
     "execution_count": 116,
     "metadata": {},
     "output_type": "execute_result"
    }
   ],
   "source": [
    "body = text[420:]\n",
    "body"
   ]
  },
  {
   "cell_type": "code",
   "execution_count": 117,
   "id": "4caf740e",
   "metadata": {},
   "outputs": [],
   "source": [
    "#Remove whitespace surrounding the body and header\n",
    "header = header.strip()\n",
    "body = body.strip()"
   ]
  },
  {
   "cell_type": "code",
   "execution_count": 118,
   "id": "0411ae06",
   "metadata": {},
   "outputs": [
    {
     "data": {
      "text/plain": [
       "'AUGUST 24, 2023 06:31pm  DIMMIT DISTRICT CLERK OFFICE 830-876-4243\\n                                           CASES DISPOSED - COURT: 293RD DISTRICT COURT\\n                                                01/01/2019 TO 08/24/2023 - PAGE 1\\n\\nCAUSE #          DEFENDANT NAME              DIS DT/S  DISPOSITION/S            COMPLAINANT                   BONDSMAN'"
      ]
     },
     "execution_count": 118,
     "metadata": {},
     "output_type": "execute_result"
    }
   ],
   "source": [
    "header"
   ]
  },
  {
   "cell_type": "code",
   "execution_count": 119,
   "id": "117e6886",
   "metadata": {},
   "outputs": [
    {
     "data": {
      "text/plain": [
       "\"09-05-02506-DCR  ALEXANDRAVICE, KATHERINE L  10/10/19  MOTIONS TO REVOKE/ADJUD                                |----|\\n10-03-02566-DCR  NUNN, NATALIA RIVERA        02/18/22  ALL OTHER DISPOSITIONS                                 SAENZ BAIL BOND\\n10-05-02568-DCR  PERALES, JEFFREY LEE        03/08/21  DISMISSALS                                             |----|\\n11-06-02622-DCR  FLORES, JESSE               06/23/21  MOTIONS TO REVOKE/ADJUD                                SAENZ BAIL BOND\\n                                             03/08/23  DISMISSALS             \\n11-10-02632-DCR  MARTINEZ, WILLIE JOE        04/22/19  MOTIONS TO REVOKE/ADJUD                                |----|\\n12-10-02696-DCR  BALDERAS, EVELYN MICHELLE   09/01/21  ALL OTHER DISPOSITIONS                                 LIBERTAD BAIL B\\n12-12-02724-DCR  BREWER, RICHARD LEE         04/22/20                                                         |----|\\n13-04-02756-DCR  DIAZ, BRIAN                 07/13/22  MOTIONS TO REVOKE/ADJUD                                |----|\\n13-10-02816-DCR  GONZALEZ, JOSE ANTONIO      06/09/23  DISMISSALS                                             |----|\\n13-10-02817-DCR  GONZALEZ, JOSE ANTONIO      06/09/23  DISMISSALS                                             |----|\\n13-10-02818-DCR  GONZALEZ, JOSE ANTONIO      05/12/23  CONVICTIONS BY THE COUR                                |----|\\n13-12-02834-DCR  MARQUEZ, IRVING             06/02/23  MOTIONS TO REVOKE/ADJUD                                SAENZ BAIL BOND\\n14-05-02918-DCR  COVARRUBIAS, CANDELARIO     03/06/19                                                         |----|\\n                                             03/06/19  MOTIONS TO REVOKE/ADJUD\\n14-05-02920-DCR  ZUNIGA, RICK                09/10/19  MOTIONS TO REVOKE/ADJUD                                |----|\\n14-09-02946-DCR  ESQUIVEL, JORGE ANTONIO     09/21/20  MOTIONS TO REVOKE/ADJUD                                |----|\\n14-10-02952-DCR  LERMA, CORINA               10/29/19  MOTIONS TO REVOKE/ADJUD                                |----|\\n15-03-02974-DCR  DOMINGUEZ III, GUADALUPE    01/06/20  MOTIONS TO REVOKE/ADJUD                                |----|\\n15-09-03026-DCR  BLANCO, YOLANDA             05/01/19  CONVICTIONS BY THE COUR                                |----|\\n15-09-03028-DCR  OROSCO, JESSICA MARIA       01/09/20  MOTIONS TO REVOKE/ADJUD                                |----|\\n15-09-03034-DCR  SMITH, JAMES GABRIEL        11/03/20  MOTIONS TO REVOKE/ADJUD                                |----|\\n15-10-03044-DCR  SAUCEDO JR., RENE           04/03/19  DISMISSALS                                             |----|\\n16-03-03066-DCR  DELEON, ARNOLD ABRAHAM      10/05/22  MOTIONS TO REVOKE/ADJUD                                LIBERTAD BAIL B\\n16-04-03072-DCR  CENISEROS, RACHEL CASILLAS  10/29/19  PLACED ON DEFERRED ADJU                                |----|\\n                                             03/28/23  PLACED ON DEFERRED ADJU\\n16-09-03080-DCR  LUEVANO, MARCO              01/04/19  CONVICTIONS - GUILTY PL                                |----|\\n16-09-03092-DCR  SAIZ, ESTEVAN EDWARD        07/08/19  DISMISSALS                                             |----|\\n16-09-03093-DCR  SAIZ, ESTEVAN EDWARD        07/08/19  DISMISSALS                                             |----|\\n16-12-03108-DCR  SOLIS JR., JAVIER           10/19/19  MOTIONS TO REVOKE/ADJUD                                |----|\\n16-12-03116-DCR  STRICKLAND, AUSTIN          11/30/22  MOTIONS TO REVOKE/ADJUD                                LIBERTAD BAIL B\\n                                             05/05/23  ALL OTHER DISPOSITIONS \\n17-04-03150-DCR  CHAVEZ, MANUEL              08/09/19  MOTIONS TO REVOKE/ADJUD                                |----|\\n17-10-03166-DCR  REYES, ELIAS RUBEN          04/03/19  CONVICTIONS BY THE COUR                                |----|\\n17-10-03168-DCR  MARTINEZ, JR., ALBERTO      05/01/19  DISMISSALS                                             |----|\\n17-10-03169-DCR  MARTINEZ, JR., ALBERTO      04/29/19  PLACED ON DEFERRED ADJU                                |----|\\n17-10-03175-DCR  LUEVANO, MARCO ANTONIO      01/14/19  DISMISSALS                                             |----|\\n17-10-03176-DCR  LUEVANO, MARCO ANTONIO      01/14/19  DISMISSALS                                             |----|\\n17-12-03196-DCR  GARDNER, MARY E.            10/10/19  DISMISSALS                                             |----|\\n\\n\\x0c                                AUGUST 24, 2023 06:31pm  DIMMIT DISTRICT CLERK OFFICE 830-876-4243\\n                                           CASES DISPOSED - COURT: 293RD DISTRICT COURT\\n                                                01/01/2019 TO 08/24/2023 - PAGE 2\\n\\nCAUSE #          DEFENDANT NAME              DIS DT/S  DISPOSITION/S            COMPLAINANT                   BONDSMAN                                   \\n\\n18-02-03202-DCR  CHAPA, ELAINE               10/31/22  MOTIONS TO REVOKE/ADJUD                                SAENZ BAIL BOND\\n18-04-03212-DCR  HERNANDEZ, GABRIEL CHARLIE  04/29/19  CONVICTIONS BY THE COUR                                |----|\\n18-04-03214-DCR  CRUZ, ROLANDO MARCELINO     04/20/20  MOTIONS TO REVOKE/ADJUD                                |----|\\n18-04-03216-DCR  JIMENEZ, JOSE ALFREDO       05/01/19  CONVICTIONS BY THE COUR                                |----|\\n18-05-03220-DCR  TIJERINA, RAMIRO            01/04/19  CONVICTIONS - GUILTY PL                                |----|\\n18-05-03222-DCR  GUERRA, GONZALO BRIAN       06/03/19  CONVICTIONS BY THE COUR                                |----|\\n                                             07/27/23  MOTIONS TO REVOKE/ADJUD\\n18-05-03224-DCR  HART, BRANDON KEITH         03/27/23  DISMISSALS                                             LIBERTAD BAIL B\\n18-05-03228-DCR  GONZALEZ, JAVIER ISAAC      02/13/19  CONVICTIONS BY THE COUR                                |----|\\n18-06-03230-DCR  SALDANA, JESSE ESQUIVEL     03/06/19  CONVICTIONS BY THE COUR                                |----|\\n18-07-03232-DCR  DIAZ, BRENDA LEE            02/06/19  CONVICTIONS BY THE COUR  THE STATE OF TEXAS            |----|\\n18-07-03234-DCR  BRADY, EBEN EARL            05/01/19  DISMISSALS               THE STATE OF TEXAS            |----|\\n18-07-03236-DCR  LEAL III, GEORGE            01/04/19  CONVICTIONS - GUILTY PL                                |----|\\n                                             10/21/22  MOTIONS TO REVOKE/ADJUD\\n18-08-03238-DCR  DAMIAN, MONICA EVETTE       04/01/19  CONVICTIONS BY THE COUR                                LIBERTAD BAIL B\\n                                             08/19/21                         \\n18-08-03240-DCR  RODRIGUEZ, ELOY             04/01/19  PLACED ON DEFERRED ADJU                                |----|\\n18-08-03241-DCR  HERNANDEZ, GABRIEL CHARLIE  04/29/19  CONVICTIONS BY THE COUR                                |----|\\n18-08-03242-DCR  SIERRA, OCTAVIO JAVIER      01/04/19  CONVICTIONS - GUILTY PL                                |----|\\n18-08-03244-DCR  RODRIGUEZ, ULISES           05/01/19  CONVICTIONS BY THE COUR                                |----|\\n18-10-03246-DCR  KILPATRICK, NICOLE R        01/23/20  CONVICTIONS BY THE COUR                                |----|\\n18-10-03250-DCR  RAMOS, ROBERT ROMEO         10/17/19  CONVICTIONS BY THE COUR                                |----|\\n18-10-03252-DCR  ESQUIVEL, ERIC              11/04/21  DISMISSALS                                             LAW OFFICE OF J\\n18-10-03254-DCR  HERNANDEZ, JESUS            12/12/19  CONVICTIONS BY THE COUR                                |----|\\n18-10-03256-DCR  JIMENEZ, JOSE ALFREDO       05/01/19  CONVICTIONS BY THE COUR                                |----|\\n18-12-03260-DCR  RODRIGUEZ, ULISES           05/01/19  CONVICTIONS BY THE COUR                                |----|\\n18-12-03262-DCR  MENDOZA, ARMANDO            07/08/19  CONVICTIONS BY THE COUR                                |----|\\n18-12-03263-DCR  JIMENEZ, JOSE ALFREDO       05/01/19  DISMISSALS                                             |----|\\n18-12-03264-DCR  RAMIREZ, JOSE LUIS          06/02/20  CONVICTIONS - GUILTY PL                                |----|\\n18-12-03265-DCR  RAMIREZ, JOSE LUIS          06/02/20  CONVICTIONS - GUILTY PL                                |----|\\n18-12-03266-DCR  RAMIREZ, JOSE LUIS          06/02/20  CONVICTIONS - GUILTY PL                                |----|\\n18-12-03267-DCR  RAMIREZ, JOSE LUIS          06/02/20  CONVICTIONS - GUILTY PL                                |----|\\n18-12-03268-DCR  CASTRO, JUAN FELIMON        10/17/19  PLACED ON DEFERRED ADJU                                |----|\\n19-02-03270-DCR  CARREON JR., JUAN JOSE      10/02/19  CONVICTIONS BY THE COUR                                SAENZ BAIL BOND\\n                                             06/10/22  MOTIONS TO REVOKE/ADJUD\\n19-02-03272-DCR  MARTINEZ, MARIO             04/24/20  CONVICTIONS BY THE COUR                                |----|\\n19-02-03273-DCR  MARTINEZ, MARIO             04/24/20  CONVICTIONS BY THE COUR                                |----|\\n19-02-03274-DCR  RAMOS, ROBERT ROMEO         10/17/19  CONVICTIONS BY THE COUR                                |----|\\n19-02-03278-DCR  ARCE, MICHAEL ANDREW        07/14/20  DISMISSALS                                             |----|\\n\\n\\x0c                                AUGUST 24, 2023 06:31pm  DIMMIT DISTRICT CLERK OFFICE 830-876-4243\\n                                           CASES DISPOSED - COURT: 293RD DISTRICT COURT\\n                                                01/01/2019 TO 08/24/2023 - PAGE 3\\n\\nCAUSE #          DEFENDANT NAME              DIS DT/S  DISPOSITION/S            COMPLAINANT                   BONDSMAN                                   \\n\\n19-02-03280-DCR  ROCHA, JAVIER URRABAZO      11/04/21  CONVICTIONS BY THE COUR                                |----|\\n19-03-03282-DCR  GARCIA, CHRISTOPHER MICHAE  08/21/23  CONVICTIONS BY THE COUR                                LIBERTAD BAIL B\\n19-07-03292-DCR  MARTINEZ JR., OSCAR         02/11/20  CONVICTIONS BY THE COUR                                |----|\\n19-07-03294-DCR  RAMIREZ, GABRIEL            02/22/22  CONVICTIONS BY THE COUR                                LIBERTAD BAIL B\\n19-07-03296-DCR  RODRIGUEZ, NATHANIEL RAY    12/07/22  CONVICTIONS BY THE COUR                                LIBERTAD BAIL B\\n19-07-03298-DCR  PEREZ, MARIO ALONSO         05/12/23  CONVICTIONS BY THE COUR                                BIG JOE'S BAIL \\n19-08-03300-DCR  LONGORIA, SAMUEL SCOTT      06/26/20  CONVICTIONS BY THE COUR                                |----|\\n                                             09/09/20  MOTIONS TO REVOKE/ADJUD\\n                                             07/28/22  MOTIONS TO REVOKE/ADJUD\\n19-08-03303-DCR  LONGORIA, SAMUEL SCOTT      06/26/20  CONVICTIONS BY THE COUR                                |----|\\n                                             09/09/20  MOTIONS TO REVOKE/ADJUD\\n                                             07/28/22  MOTIONS TO REVOKE/ADJUD\\n19-08-03304-DCR  LONGORIA, SAMUEL SCOTT      06/26/20  CONVICTIONS BY THE COUR                                |----|\\n                                             09/09/20  MOTIONS TO REVOKE/ADJUD\\n                                             07/28/22  MOTIONS TO REVOKE/ADJUD\\n19-08-03306-DCR  CASTILLON, ANDREW DAVID     07/22/20  CONVICTIONS BY THE COUR                                |----|\\n19-08-03308-DCR  GARCIA, ALONSO DAVID        08/13/20  CONVICTIONS BY THE COUR                                |----|\\n19-08-03312-DCR  PERALES, ANGELICA NICOLE    05/24/21  DISMISSALS                                             LIBERTAD BAIL B\\n19-08-03319-DCR  CASTILLON, ANDREW DAVID     07/22/20  CONVICTIONS BY THE COUR                                |----|\\n19-10-03320-DCR  REYES, ROMAN                03/05/21  CONVICTIONS BY THE COUR                                |----|\\n                                             10/05/22  MOTIONS TO REVOKE/ADJUD\\n19-10-03322-DCR  CAICEDO, DALIA MARGARITA    05/07/21  DISMISSALS                                             |----|\\n19-12-03326-DCR  PAREDES, MAEGAN BRISYLDA    01/18/22  PLACED ON DEFERRED ADJU                                LIBERTAD BAIL B\\n19-12-03328-DCR  LOAEZA, NOE ESMERALDO       11/04/21  DISMISSALS                                             |----|\\n19-12-03330-DCR  ZARATE, CARLOS SANTANA      11/16/22  DISMISSALS                                             |----|\\n19-12-03331-DCR  ZARATE, CARLOS SANTANA      11/16/22  CONVICTIONS BY THE JURY                                |----|\\n19-12-03332-DCR  HERNANDEZ JR., OSCAR VARGA  08/10/21  CONVICTIONS BY THE COUR                                |----|\\n19-12-03336-DCR  MARTINEZ, CORNELIO          06/27/22  CONVICTIONS BY THE COUR                                LIBERTAD BAIL B\\n19-12-03337-DCR  MARTINEZ, CORNELIO          06/27/22  CONVICTIONS BY THE COUR                                LIBERTAD BAIL B\\n19-12-03338-DCR  OROSCO JR., PEDRO           09/21/20  CONVICTIONS BY THE COUR                                |----|\\n                                             03/16/23  ALL OTHER DISPOSITIONS \\n20-02-03340-DCR  ROCHA, JAVIER URRABAZO      01/04/22  DISMISSALS                                             |----|\\n20-02-03344-DCR  CAULEY, SHAWN MATTHEW       08/03/21  PLACED ON DEFERRED ADJU                                |----|\\n20-02-03346-DCR  TREVINO, ERIC               10/20/22  CONVICTIONS BY THE COUR                                BIG JOE'S BAIL \\n20-12-03352-DCR  MENDOZA, DULCIE VICTORIA    01/05/22  CONVICTIONS BY THE COUR                                LIBERTAD BAIL B\\n20-12-03354-DCR  SOTO, ZELYNA                09/09/21  CONVICTIONS BY THE COUR                                LARES BAIL BOND\\n20-12-03356-DCR  ESCAMILLA, LINDA PATRICIA   05/11/22  DISMISSALS                                             |----|\\n20-12-03357-DCR  ZARATE, CARLOS SANTANA      11/16/22  DISMISSALS                                             SAENZ BAIL BOND\\n20-12-03358-DCR  ZARATE, CARLOS SANTANA      11/16/22  DISMISSALS                                             |----|\\n\\n\\x0c                                AUGUST 24, 2023 06:31pm  DIMMIT DISTRICT CLERK OFFICE 830-876-4243\\n                                           CASES DISPOSED - COURT: 293RD DISTRICT COURT\\n                                                01/01/2019 TO 08/24/2023 - PAGE 4\\n\\nCAUSE #          DEFENDANT NAME              DIS DT/S  DISPOSITION/S            COMPLAINANT                   BONDSMAN                                   \\n\\n20-12-03360-DCR  MARTINEZ, JR., JULIO G.     04/05/22  CONVICTIONS BY THE COUR                                BIG JOE'S BAIL \\n20-12-03362-DCR  MARTINEZ, CORNELIO          06/27/22  CONVICTIONS BY THE COUR                                LIBERTAD BAIL B\\n20-12-03368-DCR  MUNOZ, RUBEN                06/07/22  DISMISSALS                                             LAW OFFICE OF A\\n20-12-03370-DCR  FUENTES, CARLOS             08/24/22  CONVICTIONS BY THE COUR                                LIBERTAD BAIL B\\n20-12-03372-DCR  CRUZ, JORGE ADAN            07/22/22  CONVICTIONS BY THE COUR                                LIBERTAD BAIL B\\n20-12-03374-DCR  BALDERAS III, ALFREDO       03/02/22  CONVICTIONS BY THE COUR                                LIBERTAD BAIL B\\n20-12-03375-DCR  BALDERAS III, ALFREDO       03/02/22  CONVICTIONS BY THE COUR                                LIBERTAD BAIL B\\n20-12-03376-DCR  BALDERAS III, ALFREDO       03/02/22  CONVICTIONS BY THE COUR                                LIBERTAD BAIL B\\n20-12-03378-DCR  HINOJOSA, RAMON JESUS       10/19/22  CONVICTIONS BY THE COUR                                |----|\\n20-12-03380-DCR  PAREDES, MAEGAN BRISYLDA    01/18/22  PLACED ON DEFERRED ADJU                                LAW OFFICE OF A\\n20-12-03382-DCR  VENCES-LUVIANO, RAFAEL      08/24/21  CONVICTIONS BY THE COUR                                BIG JOE'S BAIL \\n20-12-03383-DCR  VENCES-LUVIANO, RAFAEL      08/24/21  CONVICTIONS BY THE COUR                                BIG JOE'S BAIL \\n20-12-03384-DCR  GARCIA, NICOLE              06/24/21  DISMISSALS                                             BIG JOE'S BAIL \\n20-12-03385-DCR  LONGORIA, SAMUEL SCOTT      07/28/22  CONVICTIONS BY THE COUR                                LIBERTAD BAIL B\\n20-12-03386-DCR  RENTERIA, NATHANAEL GUSTAR  01/25/22  PLACED ON DEFERRED ADJU                                LIBERTAD BAIL B\\n                                             05/15/23  MOTIONS TO REVOKE/ADJUD\\n20-12-03387-DCR  RENTERIA, NATHANAEL GUSTAR  01/25/22  PLACED ON DEFERRED ADJU                                LIBERTAD BAIL B\\n                                             05/15/23  MOTIONS TO REVOKE/ADJUD\\n21-04-03390-DCR  VELA, NATHANIEL RYAN        04/05/22  CONVICTIONS BY THE COUR                                LIBERTAD BAIL B\\n21-04-03392-DCR  DIAZ, FAUSTINO ISMAEL       06/22/22  CONVICTIONS BY THE COUR                                |----|\\n21-04-03394-DCR  BRIONES, MERCEDES           03/16/23  DISMISSALS                                             LIBERTAD BAIL B\\n21-08-03398-DCR  GONZALEZ, JOSE ANTONIO      06/09/23  DISMISSALS                                             |----|\\n21-08-03399-DCR  GONZALEZ, JOSE ANTONIO      05/12/23  CONVICTIONS BY THE COUR                                |----|\\n21-08-03400-DCR  GONZALEZ, JOSE ANTONIO      06/09/23  DISMISSALS                                             |----|\\n21-08-03402-DCR  GALAN, ANDRES JIMENEZ       01/10/23  CONVICTIONS BY THE COUR                                LIBERTAD BAIL B\\n21-08-03404-DCR  ROCHA, JOSHUA RAE           06/15/23  DISMISSALS                                             LIBERTAD BAIL B\\n21-08-03405-DCR  ROCHA, JOSHUA RAE           06/15/23  CONVICTIONS BY THE COUR                                LIBERTAD BAIL B\\n21-08-03406-DCR  RAMIREZ, BETHANY GABRIELA   12/01/22  PLACED ON DEFERRED ADJU                                BIG JOE'S BAIL \\n21-08-03407-DCR  MARTINEZ, CORNELIO          06/27/22  CONVICTIONS BY THE COUR                                |----|\\n21-11-03408-DCR  LOPEZ II, NICOLAS           06/02/23  CONVICTIONS BY THE COUR                                LIBERTAD BAIL B\\n21-11-03422-DCR  PICHARDO, MARIO ALBERTO     04/14/23  CONVICTIONS BY THE COUR                                |----|\\n22-03-03432-DCR  MCKINNEY, MICHAEL BURL      02/02/23                                                         LIBERTAD BAIL B\\n22-11-03472-DCR  CAMPBELL, LARRY             07/17/23  DISMISSALS                                             |----|\\n23-02-03490-DCR  MORALES, FRANCISCO LEE      05/18/23  DISMISSALS                                             |----|\\n23-03-03560-DCR  MENDOZA, FRANKIE            06/08/23  DISMISSALS                                             LIBERTAD BAIL B\\n\\n134 CASES LISTED\""
      ]
     },
     "execution_count": 119,
     "metadata": {},
     "output_type": "execute_result"
    }
   ],
   "source": [
    "body"
   ]
  },
  {
   "cell_type": "markdown",
   "id": "fb46c6c9",
   "metadata": {},
   "source": [
    "# Remove Subsequent Headers"
   ]
  },
  {
   "cell_type": "code",
   "execution_count": 120,
   "id": "30d7706b",
   "metadata": {},
   "outputs": [
    {
     "data": {
      "text/plain": [
       "\"09-05-02506-DCR  ALEXANDRAVICE, KATHERINE L  10/10/19  MOTIONS TO REVOKE/ADJUD                                |----|\\n10-03-02566-DCR  NUNN, NATALIA RIVERA        02/18/22  ALL OTHER DISPOSITIONS                                 SAENZ BAIL BOND\\n10-05-02568-DCR  PERALES, JEFFREY LEE        03/08/21  DISMISSALS                                             |----|\\n11-06-02622-DCR  FLORES, JESSE               06/23/21  MOTIONS TO REVOKE/ADJUD                                SAENZ BAIL BOND\\n                                             03/08/23  DISMISSALS             \\n11-10-02632-DCR  MARTINEZ, WILLIE JOE        04/22/19  MOTIONS TO REVOKE/ADJUD                                |----|\\n12-10-02696-DCR  BALDERAS, EVELYN MICHELLE   09/01/21  ALL OTHER DISPOSITIONS                                 LIBERTAD BAIL B\\n12-12-02724-DCR  BREWER, RICHARD LEE         04/22/20                                                         |----|\\n13-04-02756-DCR  DIAZ, BRIAN                 07/13/22  MOTIONS TO REVOKE/ADJUD                                |----|\\n13-10-02816-DCR  GONZALEZ, JOSE ANTONIO      06/09/23  DISMISSALS                                             |----|\\n13-10-02817-DCR  GONZALEZ, JOSE ANTONIO      06/09/23  DISMISSALS                                             |----|\\n13-10-02818-DCR  GONZALEZ, JOSE ANTONIO      05/12/23  CONVICTIONS BY THE COUR                                |----|\\n13-12-02834-DCR  MARQUEZ, IRVING             06/02/23  MOTIONS TO REVOKE/ADJUD                                SAENZ BAIL BOND\\n14-05-02918-DCR  COVARRUBIAS, CANDELARIO     03/06/19                                                         |----|\\n                                             03/06/19  MOTIONS TO REVOKE/ADJUD\\n14-05-02920-DCR  ZUNIGA, RICK                09/10/19  MOTIONS TO REVOKE/ADJUD                                |----|\\n14-09-02946-DCR  ESQUIVEL, JORGE ANTONIO     09/21/20  MOTIONS TO REVOKE/ADJUD                                |----|\\n14-10-02952-DCR  LERMA, CORINA               10/29/19  MOTIONS TO REVOKE/ADJUD                                |----|\\n15-03-02974-DCR  DOMINGUEZ III, GUADALUPE    01/06/20  MOTIONS TO REVOKE/ADJUD                                |----|\\n15-09-03026-DCR  BLANCO, YOLANDA             05/01/19  CONVICTIONS BY THE COUR                                |----|\\n15-09-03028-DCR  OROSCO, JESSICA MARIA       01/09/20  MOTIONS TO REVOKE/ADJUD                                |----|\\n15-09-03034-DCR  SMITH, JAMES GABRIEL        11/03/20  MOTIONS TO REVOKE/ADJUD                                |----|\\n15-10-03044-DCR  SAUCEDO JR., RENE           04/03/19  DISMISSALS                                             |----|\\n16-03-03066-DCR  DELEON, ARNOLD ABRAHAM      10/05/22  MOTIONS TO REVOKE/ADJUD                                LIBERTAD BAIL B\\n16-04-03072-DCR  CENISEROS, RACHEL CASILLAS  10/29/19  PLACED ON DEFERRED ADJU                                |----|\\n                                             03/28/23  PLACED ON DEFERRED ADJU\\n16-09-03080-DCR  LUEVANO, MARCO              01/04/19  CONVICTIONS - GUILTY PL                                |----|\\n16-09-03092-DCR  SAIZ, ESTEVAN EDWARD        07/08/19  DISMISSALS                                             |----|\\n16-09-03093-DCR  SAIZ, ESTEVAN EDWARD        07/08/19  DISMISSALS                                             |----|\\n16-12-03108-DCR  SOLIS JR., JAVIER           10/19/19  MOTIONS TO REVOKE/ADJUD                                |----|\\n16-12-03116-DCR  STRICKLAND, AUSTIN          11/30/22  MOTIONS TO REVOKE/ADJUD                                LIBERTAD BAIL B\\n                                             05/05/23  ALL OTHER DISPOSITIONS \\n17-04-03150-DCR  CHAVEZ, MANUEL              08/09/19  MOTIONS TO REVOKE/ADJUD                                |----|\\n17-10-03166-DCR  REYES, ELIAS RUBEN          04/03/19  CONVICTIONS BY THE COUR                                |----|\\n17-10-03168-DCR  MARTINEZ, JR., ALBERTO      05/01/19  DISMISSALS                                             |----|\\n17-10-03169-DCR  MARTINEZ, JR., ALBERTO      04/29/19  PLACED ON DEFERRED ADJU                                |----|\\n17-10-03175-DCR  LUEVANO, MARCO ANTONIO      01/14/19  DISMISSALS                                             |----|\\n17-10-03176-DCR  LUEVANO, MARCO ANTONIO      01/14/19  DISMISSALS                                             |----|\\n17-12-03196-DCR  GARDNER, MARY E.            10/10/19  DISMISSALS                                             |----|\\n18-02-03202-DCR  CHAPA, ELAINE               10/31/22  MOTIONS TO REVOKE/ADJUD                                SAENZ BAIL BOND\\n18-04-03212-DCR  HERNANDEZ, GABRIEL CHARLIE  04/29/19  CONVICTIONS BY THE COUR                                |----|\\n18-04-03214-DCR  CRUZ, ROLANDO MARCELINO     04/20/20  MOTIONS TO REVOKE/ADJUD                                |----|\\n18-04-03216-DCR  JIMENEZ, JOSE ALFREDO       05/01/19  CONVICTIONS BY THE COUR                                |----|\\n18-05-03220-DCR  TIJERINA, RAMIRO            01/04/19  CONVICTIONS - GUILTY PL                                |----|\\n18-05-03222-DCR  GUERRA, GONZALO BRIAN       06/03/19  CONVICTIONS BY THE COUR                                |----|\\n                                             07/27/23  MOTIONS TO REVOKE/ADJUD\\n18-05-03224-DCR  HART, BRANDON KEITH         03/27/23  DISMISSALS                                             LIBERTAD BAIL B\\n18-05-03228-DCR  GONZALEZ, JAVIER ISAAC      02/13/19  CONVICTIONS BY THE COUR                                |----|\\n18-06-03230-DCR  SALDANA, JESSE ESQUIVEL     03/06/19  CONVICTIONS BY THE COUR                                |----|\\n18-07-03232-DCR  DIAZ, BRENDA LEE            02/06/19  CONVICTIONS BY THE COUR  THE STATE OF TEXAS            |----|\\n18-07-03234-DCR  BRADY, EBEN EARL            05/01/19  DISMISSALS               THE STATE OF TEXAS            |----|\\n18-07-03236-DCR  LEAL III, GEORGE            01/04/19  CONVICTIONS - GUILTY PL                                |----|\\n                                             10/21/22  MOTIONS TO REVOKE/ADJUD\\n18-08-03238-DCR  DAMIAN, MONICA EVETTE       04/01/19  CONVICTIONS BY THE COUR                                LIBERTAD BAIL B\\n                                             08/19/21                         \\n18-08-03240-DCR  RODRIGUEZ, ELOY             04/01/19  PLACED ON DEFERRED ADJU                                |----|\\n18-08-03241-DCR  HERNANDEZ, GABRIEL CHARLIE  04/29/19  CONVICTIONS BY THE COUR                                |----|\\n18-08-03242-DCR  SIERRA, OCTAVIO JAVIER      01/04/19  CONVICTIONS - GUILTY PL                                |----|\\n18-08-03244-DCR  RODRIGUEZ, ULISES           05/01/19  CONVICTIONS BY THE COUR                                |----|\\n18-10-03246-DCR  KILPATRICK, NICOLE R        01/23/20  CONVICTIONS BY THE COUR                                |----|\\n18-10-03250-DCR  RAMOS, ROBERT ROMEO         10/17/19  CONVICTIONS BY THE COUR                                |----|\\n18-10-03252-DCR  ESQUIVEL, ERIC              11/04/21  DISMISSALS                                             LAW OFFICE OF J\\n18-10-03254-DCR  HERNANDEZ, JESUS            12/12/19  CONVICTIONS BY THE COUR                                |----|\\n18-10-03256-DCR  JIMENEZ, JOSE ALFREDO       05/01/19  CONVICTIONS BY THE COUR                                |----|\\n18-12-03260-DCR  RODRIGUEZ, ULISES           05/01/19  CONVICTIONS BY THE COUR                                |----|\\n18-12-03262-DCR  MENDOZA, ARMANDO            07/08/19  CONVICTIONS BY THE COUR                                |----|\\n18-12-03263-DCR  JIMENEZ, JOSE ALFREDO       05/01/19  DISMISSALS                                             |----|\\n18-12-03264-DCR  RAMIREZ, JOSE LUIS          06/02/20  CONVICTIONS - GUILTY PL                                |----|\\n18-12-03265-DCR  RAMIREZ, JOSE LUIS          06/02/20  CONVICTIONS - GUILTY PL                                |----|\\n18-12-03266-DCR  RAMIREZ, JOSE LUIS          06/02/20  CONVICTIONS - GUILTY PL                                |----|\\n18-12-03267-DCR  RAMIREZ, JOSE LUIS          06/02/20  CONVICTIONS - GUILTY PL                                |----|\\n18-12-03268-DCR  CASTRO, JUAN FELIMON        10/17/19  PLACED ON DEFERRED ADJU                                |----|\\n19-02-03270-DCR  CARREON JR., JUAN JOSE      10/02/19  CONVICTIONS BY THE COUR                                SAENZ BAIL BOND\\n                                             06/10/22  MOTIONS TO REVOKE/ADJUD\\n19-02-03272-DCR  MARTINEZ, MARIO             04/24/20  CONVICTIONS BY THE COUR                                |----|\\n19-02-03273-DCR  MARTINEZ, MARIO             04/24/20  CONVICTIONS BY THE COUR                                |----|\\n19-02-03274-DCR  RAMOS, ROBERT ROMEO         10/17/19  CONVICTIONS BY THE COUR                                |----|\\n19-02-03278-DCR  ARCE, MICHAEL ANDREW        07/14/20  DISMISSALS                                             |----|\\n19-02-03280-DCR  ROCHA, JAVIER URRABAZO      11/04/21  CONVICTIONS BY THE COUR                                |----|\\n19-03-03282-DCR  GARCIA, CHRISTOPHER MICHAE  08/21/23  CONVICTIONS BY THE COUR                                LIBERTAD BAIL B\\n19-07-03292-DCR  MARTINEZ JR., OSCAR         02/11/20  CONVICTIONS BY THE COUR                                |----|\\n19-07-03294-DCR  RAMIREZ, GABRIEL            02/22/22  CONVICTIONS BY THE COUR                                LIBERTAD BAIL B\\n19-07-03296-DCR  RODRIGUEZ, NATHANIEL RAY    12/07/22  CONVICTIONS BY THE COUR                                LIBERTAD BAIL B\\n19-07-03298-DCR  PEREZ, MARIO ALONSO         05/12/23  CONVICTIONS BY THE COUR                                BIG JOE'S BAIL \\n19-08-03300-DCR  LONGORIA, SAMUEL SCOTT      06/26/20  CONVICTIONS BY THE COUR                                |----|\\n                                             09/09/20  MOTIONS TO REVOKE/ADJUD\\n                                             07/28/22  MOTIONS TO REVOKE/ADJUD\\n19-08-03303-DCR  LONGORIA, SAMUEL SCOTT      06/26/20  CONVICTIONS BY THE COUR                                |----|\\n                                             09/09/20  MOTIONS TO REVOKE/ADJUD\\n                                             07/28/22  MOTIONS TO REVOKE/ADJUD\\n19-08-03304-DCR  LONGORIA, SAMUEL SCOTT      06/26/20  CONVICTIONS BY THE COUR                                |----|\\n                                             09/09/20  MOTIONS TO REVOKE/ADJUD\\n                                             07/28/22  MOTIONS TO REVOKE/ADJUD\\n19-08-03306-DCR  CASTILLON, ANDREW DAVID     07/22/20  CONVICTIONS BY THE COUR                                |----|\\n19-08-03308-DCR  GARCIA, ALONSO DAVID        08/13/20  CONVICTIONS BY THE COUR                                |----|\\n19-08-03312-DCR  PERALES, ANGELICA NICOLE    05/24/21  DISMISSALS                                             LIBERTAD BAIL B\\n19-08-03319-DCR  CASTILLON, ANDREW DAVID     07/22/20  CONVICTIONS BY THE COUR                                |----|\\n19-10-03320-DCR  REYES, ROMAN                03/05/21  CONVICTIONS BY THE COUR                                |----|\\n                                             10/05/22  MOTIONS TO REVOKE/ADJUD\\n19-10-03322-DCR  CAICEDO, DALIA MARGARITA    05/07/21  DISMISSALS                                             |----|\\n19-12-03326-DCR  PAREDES, MAEGAN BRISYLDA    01/18/22  PLACED ON DEFERRED ADJU                                LIBERTAD BAIL B\\n19-12-03328-DCR  LOAEZA, NOE ESMERALDO       11/04/21  DISMISSALS                                             |----|\\n19-12-03330-DCR  ZARATE, CARLOS SANTANA      11/16/22  DISMISSALS                                             |----|\\n19-12-03331-DCR  ZARATE, CARLOS SANTANA      11/16/22  CONVICTIONS BY THE JURY                                |----|\\n19-12-03332-DCR  HERNANDEZ JR., OSCAR VARGA  08/10/21  CONVICTIONS BY THE COUR                                |----|\\n19-12-03336-DCR  MARTINEZ, CORNELIO          06/27/22  CONVICTIONS BY THE COUR                                LIBERTAD BAIL B\\n19-12-03337-DCR  MARTINEZ, CORNELIO          06/27/22  CONVICTIONS BY THE COUR                                LIBERTAD BAIL B\\n19-12-03338-DCR  OROSCO JR., PEDRO           09/21/20  CONVICTIONS BY THE COUR                                |----|\\n                                             03/16/23  ALL OTHER DISPOSITIONS \\n20-02-03340-DCR  ROCHA, JAVIER URRABAZO      01/04/22  DISMISSALS                                             |----|\\n20-02-03344-DCR  CAULEY, SHAWN MATTHEW       08/03/21  PLACED ON DEFERRED ADJU                                |----|\\n20-02-03346-DCR  TREVINO, ERIC               10/20/22  CONVICTIONS BY THE COUR                                BIG JOE'S BAIL \\n20-12-03352-DCR  MENDOZA, DULCIE VICTORIA    01/05/22  CONVICTIONS BY THE COUR                                LIBERTAD BAIL B\\n20-12-03354-DCR  SOTO, ZELYNA                09/09/21  CONVICTIONS BY THE COUR                                LARES BAIL BOND\\n20-12-03356-DCR  ESCAMILLA, LINDA PATRICIA   05/11/22  DISMISSALS                                             |----|\\n20-12-03357-DCR  ZARATE, CARLOS SANTANA      11/16/22  DISMISSALS                                             SAENZ BAIL BOND\\n20-12-03358-DCR  ZARATE, CARLOS SANTANA      11/16/22  DISMISSALS                                             |----|\\n20-12-03360-DCR  MARTINEZ, JR., JULIO G.     04/05/22  CONVICTIONS BY THE COUR                                BIG JOE'S BAIL \\n20-12-03362-DCR  MARTINEZ, CORNELIO          06/27/22  CONVICTIONS BY THE COUR                                LIBERTAD BAIL B\\n20-12-03368-DCR  MUNOZ, RUBEN                06/07/22  DISMISSALS                                             LAW OFFICE OF A\\n20-12-03370-DCR  FUENTES, CARLOS             08/24/22  CONVICTIONS BY THE COUR                                LIBERTAD BAIL B\\n20-12-03372-DCR  CRUZ, JORGE ADAN            07/22/22  CONVICTIONS BY THE COUR                                LIBERTAD BAIL B\\n20-12-03374-DCR  BALDERAS III, ALFREDO       03/02/22  CONVICTIONS BY THE COUR                                LIBERTAD BAIL B\\n20-12-03375-DCR  BALDERAS III, ALFREDO       03/02/22  CONVICTIONS BY THE COUR                                LIBERTAD BAIL B\\n20-12-03376-DCR  BALDERAS III, ALFREDO       03/02/22  CONVICTIONS BY THE COUR                                LIBERTAD BAIL B\\n20-12-03378-DCR  HINOJOSA, RAMON JESUS       10/19/22  CONVICTIONS BY THE COUR                                |----|\\n20-12-03380-DCR  PAREDES, MAEGAN BRISYLDA    01/18/22  PLACED ON DEFERRED ADJU                                LAW OFFICE OF A\\n20-12-03382-DCR  VENCES-LUVIANO, RAFAEL      08/24/21  CONVICTIONS BY THE COUR                                BIG JOE'S BAIL \\n20-12-03383-DCR  VENCES-LUVIANO, RAFAEL      08/24/21  CONVICTIONS BY THE COUR                                BIG JOE'S BAIL \\n20-12-03384-DCR  GARCIA, NICOLE              06/24/21  DISMISSALS                                             BIG JOE'S BAIL \\n20-12-03385-DCR  LONGORIA, SAMUEL SCOTT      07/28/22  CONVICTIONS BY THE COUR                                LIBERTAD BAIL B\\n20-12-03386-DCR  RENTERIA, NATHANAEL GUSTAR  01/25/22  PLACED ON DEFERRED ADJU                                LIBERTAD BAIL B\\n                                             05/15/23  MOTIONS TO REVOKE/ADJUD\\n20-12-03387-DCR  RENTERIA, NATHANAEL GUSTAR  01/25/22  PLACED ON DEFERRED ADJU                                LIBERTAD BAIL B\\n                                             05/15/23  MOTIONS TO REVOKE/ADJUD\\n21-04-03390-DCR  VELA, NATHANIEL RYAN        04/05/22  CONVICTIONS BY THE COUR                                LIBERTAD BAIL B\\n21-04-03392-DCR  DIAZ, FAUSTINO ISMAEL       06/22/22  CONVICTIONS BY THE COUR                                |----|\\n21-04-03394-DCR  BRIONES, MERCEDES           03/16/23  DISMISSALS                                             LIBERTAD BAIL B\\n21-08-03398-DCR  GONZALEZ, JOSE ANTONIO      06/09/23  DISMISSALS                                             |----|\\n21-08-03399-DCR  GONZALEZ, JOSE ANTONIO      05/12/23  CONVICTIONS BY THE COUR                                |----|\\n21-08-03400-DCR  GONZALEZ, JOSE ANTONIO      06/09/23  DISMISSALS                                             |----|\\n21-08-03402-DCR  GALAN, ANDRES JIMENEZ       01/10/23  CONVICTIONS BY THE COUR                                LIBERTAD BAIL B\\n21-08-03404-DCR  ROCHA, JOSHUA RAE           06/15/23  DISMISSALS                                             LIBERTAD BAIL B\\n21-08-03405-DCR  ROCHA, JOSHUA RAE           06/15/23  CONVICTIONS BY THE COUR                                LIBERTAD BAIL B\\n21-08-03406-DCR  RAMIREZ, BETHANY GABRIELA   12/01/22  PLACED ON DEFERRED ADJU                                BIG JOE'S BAIL \\n21-08-03407-DCR  MARTINEZ, CORNELIO          06/27/22  CONVICTIONS BY THE COUR                                |----|\\n21-11-03408-DCR  LOPEZ II, NICOLAS           06/02/23  CONVICTIONS BY THE COUR                                LIBERTAD BAIL B\\n21-11-03422-DCR  PICHARDO, MARIO ALBERTO     04/14/23  CONVICTIONS BY THE COUR                                |----|\\n22-03-03432-DCR  MCKINNEY, MICHAEL BURL      02/02/23                                                         LIBERTAD BAIL B\\n22-11-03472-DCR  CAMPBELL, LARRY             07/17/23  DISMISSALS                                             |----|\\n23-02-03490-DCR  MORALES, FRANCISCO LEE      05/18/23  DISMISSALS                                             |----|\\n23-03-03560-DCR  MENDOZA, FRANKIE            06/08/23  DISMISSALS                                             LIBERTAD BAIL B\\n\\n134 CASES LISTED\""
      ]
     },
     "execution_count": 120,
     "metadata": {},
     "output_type": "execute_result"
    }
   ],
   "source": [
    "#Set up regex to remove all subsequent headers\n",
    "#This regex should identify the headers even if the name of the district clerk changes later on\n",
    "new_body = re.sub(r\"\"\"\\n\\x0c\\s*[A-Z]{3,9}\\s[0-9]{1,2},\\s[0-9]{4}\\s[a-zA-Z0-9 \\n:/-]*#\\s*[A-Z /]*\\n\\n\"\"\", '', body)\n",
    "new_body"
   ]
  },
  {
   "cell_type": "markdown",
   "id": "92e26dc1",
   "metadata": {},
   "source": [
    "# Split Into Individual Cases"
   ]
  },
  {
   "cell_type": "code",
   "execution_count": 121,
   "id": "4c86c0fb",
   "metadata": {},
   "outputs": [
    {
     "data": {
      "text/plain": [
       "['09-05-02506-DCR  ALEXANDRAVICE, KATHERINE L  10/10/19  MOTIONS TO REVOKE/ADJUD                                |----|',\n",
       " '10-03-02566-DCR  NUNN, NATALIA RIVERA        02/18/22  ALL OTHER DISPOSITIONS                                 SAENZ BAIL BOND',\n",
       " '10-05-02568-DCR  PERALES, JEFFREY LEE        03/08/21  DISMISSALS                                             |----|',\n",
       " '11-06-02622-DCR  FLORES, JESSE               06/23/21  MOTIONS TO REVOKE/ADJUD                                SAENZ BAIL BOND',\n",
       " '                                             03/08/23  DISMISSALS             ',\n",
       " '11-10-02632-DCR  MARTINEZ, WILLIE JOE        04/22/19  MOTIONS TO REVOKE/ADJUD                                |----|',\n",
       " '12-10-02696-DCR  BALDERAS, EVELYN MICHELLE   09/01/21  ALL OTHER DISPOSITIONS                                 LIBERTAD BAIL B',\n",
       " '12-12-02724-DCR  BREWER, RICHARD LEE         04/22/20                                                         |----|',\n",
       " '13-04-02756-DCR  DIAZ, BRIAN                 07/13/22  MOTIONS TO REVOKE/ADJUD                                |----|',\n",
       " '13-10-02816-DCR  GONZALEZ, JOSE ANTONIO      06/09/23  DISMISSALS                                             |----|',\n",
       " '13-10-02817-DCR  GONZALEZ, JOSE ANTONIO      06/09/23  DISMISSALS                                             |----|',\n",
       " '13-10-02818-DCR  GONZALEZ, JOSE ANTONIO      05/12/23  CONVICTIONS BY THE COUR                                |----|',\n",
       " '13-12-02834-DCR  MARQUEZ, IRVING             06/02/23  MOTIONS TO REVOKE/ADJUD                                SAENZ BAIL BOND',\n",
       " '14-05-02918-DCR  COVARRUBIAS, CANDELARIO     03/06/19                                                         |----|',\n",
       " '                                             03/06/19  MOTIONS TO REVOKE/ADJUD',\n",
       " '14-05-02920-DCR  ZUNIGA, RICK                09/10/19  MOTIONS TO REVOKE/ADJUD                                |----|',\n",
       " '14-09-02946-DCR  ESQUIVEL, JORGE ANTONIO     09/21/20  MOTIONS TO REVOKE/ADJUD                                |----|',\n",
       " '14-10-02952-DCR  LERMA, CORINA               10/29/19  MOTIONS TO REVOKE/ADJUD                                |----|',\n",
       " '15-03-02974-DCR  DOMINGUEZ III, GUADALUPE    01/06/20  MOTIONS TO REVOKE/ADJUD                                |----|',\n",
       " '15-09-03026-DCR  BLANCO, YOLANDA             05/01/19  CONVICTIONS BY THE COUR                                |----|',\n",
       " '15-09-03028-DCR  OROSCO, JESSICA MARIA       01/09/20  MOTIONS TO REVOKE/ADJUD                                |----|',\n",
       " '15-09-03034-DCR  SMITH, JAMES GABRIEL        11/03/20  MOTIONS TO REVOKE/ADJUD                                |----|',\n",
       " '15-10-03044-DCR  SAUCEDO JR., RENE           04/03/19  DISMISSALS                                             |----|',\n",
       " '16-03-03066-DCR  DELEON, ARNOLD ABRAHAM      10/05/22  MOTIONS TO REVOKE/ADJUD                                LIBERTAD BAIL B',\n",
       " '16-04-03072-DCR  CENISEROS, RACHEL CASILLAS  10/29/19  PLACED ON DEFERRED ADJU                                |----|',\n",
       " '                                             03/28/23  PLACED ON DEFERRED ADJU',\n",
       " '16-09-03080-DCR  LUEVANO, MARCO              01/04/19  CONVICTIONS - GUILTY PL                                |----|',\n",
       " '16-09-03092-DCR  SAIZ, ESTEVAN EDWARD        07/08/19  DISMISSALS                                             |----|',\n",
       " '16-09-03093-DCR  SAIZ, ESTEVAN EDWARD        07/08/19  DISMISSALS                                             |----|',\n",
       " '16-12-03108-DCR  SOLIS JR., JAVIER           10/19/19  MOTIONS TO REVOKE/ADJUD                                |----|',\n",
       " '16-12-03116-DCR  STRICKLAND, AUSTIN          11/30/22  MOTIONS TO REVOKE/ADJUD                                LIBERTAD BAIL B',\n",
       " '                                             05/05/23  ALL OTHER DISPOSITIONS ',\n",
       " '17-04-03150-DCR  CHAVEZ, MANUEL              08/09/19  MOTIONS TO REVOKE/ADJUD                                |----|',\n",
       " '17-10-03166-DCR  REYES, ELIAS RUBEN          04/03/19  CONVICTIONS BY THE COUR                                |----|',\n",
       " '17-10-03168-DCR  MARTINEZ, JR., ALBERTO      05/01/19  DISMISSALS                                             |----|',\n",
       " '17-10-03169-DCR  MARTINEZ, JR., ALBERTO      04/29/19  PLACED ON DEFERRED ADJU                                |----|',\n",
       " '17-10-03175-DCR  LUEVANO, MARCO ANTONIO      01/14/19  DISMISSALS                                             |----|',\n",
       " '17-10-03176-DCR  LUEVANO, MARCO ANTONIO      01/14/19  DISMISSALS                                             |----|',\n",
       " '17-12-03196-DCR  GARDNER, MARY E.            10/10/19  DISMISSALS                                             |----|',\n",
       " '18-02-03202-DCR  CHAPA, ELAINE               10/31/22  MOTIONS TO REVOKE/ADJUD                                SAENZ BAIL BOND',\n",
       " '18-04-03212-DCR  HERNANDEZ, GABRIEL CHARLIE  04/29/19  CONVICTIONS BY THE COUR                                |----|',\n",
       " '18-04-03214-DCR  CRUZ, ROLANDO MARCELINO     04/20/20  MOTIONS TO REVOKE/ADJUD                                |----|',\n",
       " '18-04-03216-DCR  JIMENEZ, JOSE ALFREDO       05/01/19  CONVICTIONS BY THE COUR                                |----|',\n",
       " '18-05-03220-DCR  TIJERINA, RAMIRO            01/04/19  CONVICTIONS - GUILTY PL                                |----|',\n",
       " '18-05-03222-DCR  GUERRA, GONZALO BRIAN       06/03/19  CONVICTIONS BY THE COUR                                |----|',\n",
       " '                                             07/27/23  MOTIONS TO REVOKE/ADJUD',\n",
       " '18-05-03224-DCR  HART, BRANDON KEITH         03/27/23  DISMISSALS                                             LIBERTAD BAIL B',\n",
       " '18-05-03228-DCR  GONZALEZ, JAVIER ISAAC      02/13/19  CONVICTIONS BY THE COUR                                |----|',\n",
       " '18-06-03230-DCR  SALDANA, JESSE ESQUIVEL     03/06/19  CONVICTIONS BY THE COUR                                |----|',\n",
       " '18-07-03232-DCR  DIAZ, BRENDA LEE            02/06/19  CONVICTIONS BY THE COUR  THE STATE OF TEXAS            |----|',\n",
       " '18-07-03234-DCR  BRADY, EBEN EARL            05/01/19  DISMISSALS               THE STATE OF TEXAS            |----|',\n",
       " '18-07-03236-DCR  LEAL III, GEORGE            01/04/19  CONVICTIONS - GUILTY PL                                |----|',\n",
       " '                                             10/21/22  MOTIONS TO REVOKE/ADJUD',\n",
       " '18-08-03238-DCR  DAMIAN, MONICA EVETTE       04/01/19  CONVICTIONS BY THE COUR                                LIBERTAD BAIL B',\n",
       " '                                             08/19/21                         ',\n",
       " '18-08-03240-DCR  RODRIGUEZ, ELOY             04/01/19  PLACED ON DEFERRED ADJU                                |----|',\n",
       " '18-08-03241-DCR  HERNANDEZ, GABRIEL CHARLIE  04/29/19  CONVICTIONS BY THE COUR                                |----|',\n",
       " '18-08-03242-DCR  SIERRA, OCTAVIO JAVIER      01/04/19  CONVICTIONS - GUILTY PL                                |----|',\n",
       " '18-08-03244-DCR  RODRIGUEZ, ULISES           05/01/19  CONVICTIONS BY THE COUR                                |----|',\n",
       " '18-10-03246-DCR  KILPATRICK, NICOLE R        01/23/20  CONVICTIONS BY THE COUR                                |----|',\n",
       " '18-10-03250-DCR  RAMOS, ROBERT ROMEO         10/17/19  CONVICTIONS BY THE COUR                                |----|',\n",
       " '18-10-03252-DCR  ESQUIVEL, ERIC              11/04/21  DISMISSALS                                             LAW OFFICE OF J',\n",
       " '18-10-03254-DCR  HERNANDEZ, JESUS            12/12/19  CONVICTIONS BY THE COUR                                |----|',\n",
       " '18-10-03256-DCR  JIMENEZ, JOSE ALFREDO       05/01/19  CONVICTIONS BY THE COUR                                |----|',\n",
       " '18-12-03260-DCR  RODRIGUEZ, ULISES           05/01/19  CONVICTIONS BY THE COUR                                |----|',\n",
       " '18-12-03262-DCR  MENDOZA, ARMANDO            07/08/19  CONVICTIONS BY THE COUR                                |----|',\n",
       " '18-12-03263-DCR  JIMENEZ, JOSE ALFREDO       05/01/19  DISMISSALS                                             |----|',\n",
       " '18-12-03264-DCR  RAMIREZ, JOSE LUIS          06/02/20  CONVICTIONS - GUILTY PL                                |----|',\n",
       " '18-12-03265-DCR  RAMIREZ, JOSE LUIS          06/02/20  CONVICTIONS - GUILTY PL                                |----|',\n",
       " '18-12-03266-DCR  RAMIREZ, JOSE LUIS          06/02/20  CONVICTIONS - GUILTY PL                                |----|',\n",
       " '18-12-03267-DCR  RAMIREZ, JOSE LUIS          06/02/20  CONVICTIONS - GUILTY PL                                |----|',\n",
       " '18-12-03268-DCR  CASTRO, JUAN FELIMON        10/17/19  PLACED ON DEFERRED ADJU                                |----|',\n",
       " '19-02-03270-DCR  CARREON JR., JUAN JOSE      10/02/19  CONVICTIONS BY THE COUR                                SAENZ BAIL BOND',\n",
       " '                                             06/10/22  MOTIONS TO REVOKE/ADJUD',\n",
       " '19-02-03272-DCR  MARTINEZ, MARIO             04/24/20  CONVICTIONS BY THE COUR                                |----|',\n",
       " '19-02-03273-DCR  MARTINEZ, MARIO             04/24/20  CONVICTIONS BY THE COUR                                |----|',\n",
       " '19-02-03274-DCR  RAMOS, ROBERT ROMEO         10/17/19  CONVICTIONS BY THE COUR                                |----|',\n",
       " '19-02-03278-DCR  ARCE, MICHAEL ANDREW        07/14/20  DISMISSALS                                             |----|',\n",
       " '19-02-03280-DCR  ROCHA, JAVIER URRABAZO      11/04/21  CONVICTIONS BY THE COUR                                |----|',\n",
       " '19-03-03282-DCR  GARCIA, CHRISTOPHER MICHAE  08/21/23  CONVICTIONS BY THE COUR                                LIBERTAD BAIL B',\n",
       " '19-07-03292-DCR  MARTINEZ JR., OSCAR         02/11/20  CONVICTIONS BY THE COUR                                |----|',\n",
       " '19-07-03294-DCR  RAMIREZ, GABRIEL            02/22/22  CONVICTIONS BY THE COUR                                LIBERTAD BAIL B',\n",
       " '19-07-03296-DCR  RODRIGUEZ, NATHANIEL RAY    12/07/22  CONVICTIONS BY THE COUR                                LIBERTAD BAIL B',\n",
       " \"19-07-03298-DCR  PEREZ, MARIO ALONSO         05/12/23  CONVICTIONS BY THE COUR                                BIG JOE'S BAIL \",\n",
       " '19-08-03300-DCR  LONGORIA, SAMUEL SCOTT      06/26/20  CONVICTIONS BY THE COUR                                |----|',\n",
       " '                                             09/09/20  MOTIONS TO REVOKE/ADJUD',\n",
       " '                                             07/28/22  MOTIONS TO REVOKE/ADJUD',\n",
       " '19-08-03303-DCR  LONGORIA, SAMUEL SCOTT      06/26/20  CONVICTIONS BY THE COUR                                |----|',\n",
       " '                                             09/09/20  MOTIONS TO REVOKE/ADJUD',\n",
       " '                                             07/28/22  MOTIONS TO REVOKE/ADJUD',\n",
       " '19-08-03304-DCR  LONGORIA, SAMUEL SCOTT      06/26/20  CONVICTIONS BY THE COUR                                |----|',\n",
       " '                                             09/09/20  MOTIONS TO REVOKE/ADJUD',\n",
       " '                                             07/28/22  MOTIONS TO REVOKE/ADJUD',\n",
       " '19-08-03306-DCR  CASTILLON, ANDREW DAVID     07/22/20  CONVICTIONS BY THE COUR                                |----|',\n",
       " '19-08-03308-DCR  GARCIA, ALONSO DAVID        08/13/20  CONVICTIONS BY THE COUR                                |----|',\n",
       " '19-08-03312-DCR  PERALES, ANGELICA NICOLE    05/24/21  DISMISSALS                                             LIBERTAD BAIL B',\n",
       " '19-08-03319-DCR  CASTILLON, ANDREW DAVID     07/22/20  CONVICTIONS BY THE COUR                                |----|',\n",
       " '19-10-03320-DCR  REYES, ROMAN                03/05/21  CONVICTIONS BY THE COUR                                |----|',\n",
       " '                                             10/05/22  MOTIONS TO REVOKE/ADJUD',\n",
       " '19-10-03322-DCR  CAICEDO, DALIA MARGARITA    05/07/21  DISMISSALS                                             |----|',\n",
       " '19-12-03326-DCR  PAREDES, MAEGAN BRISYLDA    01/18/22  PLACED ON DEFERRED ADJU                                LIBERTAD BAIL B',\n",
       " '19-12-03328-DCR  LOAEZA, NOE ESMERALDO       11/04/21  DISMISSALS                                             |----|',\n",
       " '19-12-03330-DCR  ZARATE, CARLOS SANTANA      11/16/22  DISMISSALS                                             |----|',\n",
       " '19-12-03331-DCR  ZARATE, CARLOS SANTANA      11/16/22  CONVICTIONS BY THE JURY                                |----|',\n",
       " '19-12-03332-DCR  HERNANDEZ JR., OSCAR VARGA  08/10/21  CONVICTIONS BY THE COUR                                |----|',\n",
       " '19-12-03336-DCR  MARTINEZ, CORNELIO          06/27/22  CONVICTIONS BY THE COUR                                LIBERTAD BAIL B',\n",
       " '19-12-03337-DCR  MARTINEZ, CORNELIO          06/27/22  CONVICTIONS BY THE COUR                                LIBERTAD BAIL B',\n",
       " '19-12-03338-DCR  OROSCO JR., PEDRO           09/21/20  CONVICTIONS BY THE COUR                                |----|',\n",
       " '                                             03/16/23  ALL OTHER DISPOSITIONS ',\n",
       " '20-02-03340-DCR  ROCHA, JAVIER URRABAZO      01/04/22  DISMISSALS                                             |----|',\n",
       " '20-02-03344-DCR  CAULEY, SHAWN MATTHEW       08/03/21  PLACED ON DEFERRED ADJU                                |----|',\n",
       " \"20-02-03346-DCR  TREVINO, ERIC               10/20/22  CONVICTIONS BY THE COUR                                BIG JOE'S BAIL \",\n",
       " '20-12-03352-DCR  MENDOZA, DULCIE VICTORIA    01/05/22  CONVICTIONS BY THE COUR                                LIBERTAD BAIL B',\n",
       " '20-12-03354-DCR  SOTO, ZELYNA                09/09/21  CONVICTIONS BY THE COUR                                LARES BAIL BOND',\n",
       " '20-12-03356-DCR  ESCAMILLA, LINDA PATRICIA   05/11/22  DISMISSALS                                             |----|',\n",
       " '20-12-03357-DCR  ZARATE, CARLOS SANTANA      11/16/22  DISMISSALS                                             SAENZ BAIL BOND',\n",
       " '20-12-03358-DCR  ZARATE, CARLOS SANTANA      11/16/22  DISMISSALS                                             |----|',\n",
       " \"20-12-03360-DCR  MARTINEZ, JR., JULIO G.     04/05/22  CONVICTIONS BY THE COUR                                BIG JOE'S BAIL \",\n",
       " '20-12-03362-DCR  MARTINEZ, CORNELIO          06/27/22  CONVICTIONS BY THE COUR                                LIBERTAD BAIL B',\n",
       " '20-12-03368-DCR  MUNOZ, RUBEN                06/07/22  DISMISSALS                                             LAW OFFICE OF A',\n",
       " '20-12-03370-DCR  FUENTES, CARLOS             08/24/22  CONVICTIONS BY THE COUR                                LIBERTAD BAIL B',\n",
       " '20-12-03372-DCR  CRUZ, JORGE ADAN            07/22/22  CONVICTIONS BY THE COUR                                LIBERTAD BAIL B',\n",
       " '20-12-03374-DCR  BALDERAS III, ALFREDO       03/02/22  CONVICTIONS BY THE COUR                                LIBERTAD BAIL B',\n",
       " '20-12-03375-DCR  BALDERAS III, ALFREDO       03/02/22  CONVICTIONS BY THE COUR                                LIBERTAD BAIL B',\n",
       " '20-12-03376-DCR  BALDERAS III, ALFREDO       03/02/22  CONVICTIONS BY THE COUR                                LIBERTAD BAIL B',\n",
       " '20-12-03378-DCR  HINOJOSA, RAMON JESUS       10/19/22  CONVICTIONS BY THE COUR                                |----|',\n",
       " '20-12-03380-DCR  PAREDES, MAEGAN BRISYLDA    01/18/22  PLACED ON DEFERRED ADJU                                LAW OFFICE OF A',\n",
       " \"20-12-03382-DCR  VENCES-LUVIANO, RAFAEL      08/24/21  CONVICTIONS BY THE COUR                                BIG JOE'S BAIL \",\n",
       " \"20-12-03383-DCR  VENCES-LUVIANO, RAFAEL      08/24/21  CONVICTIONS BY THE COUR                                BIG JOE'S BAIL \",\n",
       " \"20-12-03384-DCR  GARCIA, NICOLE              06/24/21  DISMISSALS                                             BIG JOE'S BAIL \",\n",
       " '20-12-03385-DCR  LONGORIA, SAMUEL SCOTT      07/28/22  CONVICTIONS BY THE COUR                                LIBERTAD BAIL B',\n",
       " '20-12-03386-DCR  RENTERIA, NATHANAEL GUSTAR  01/25/22  PLACED ON DEFERRED ADJU                                LIBERTAD BAIL B',\n",
       " '                                             05/15/23  MOTIONS TO REVOKE/ADJUD',\n",
       " '20-12-03387-DCR  RENTERIA, NATHANAEL GUSTAR  01/25/22  PLACED ON DEFERRED ADJU                                LIBERTAD BAIL B',\n",
       " '                                             05/15/23  MOTIONS TO REVOKE/ADJUD',\n",
       " '21-04-03390-DCR  VELA, NATHANIEL RYAN        04/05/22  CONVICTIONS BY THE COUR                                LIBERTAD BAIL B',\n",
       " '21-04-03392-DCR  DIAZ, FAUSTINO ISMAEL       06/22/22  CONVICTIONS BY THE COUR                                |----|',\n",
       " '21-04-03394-DCR  BRIONES, MERCEDES           03/16/23  DISMISSALS                                             LIBERTAD BAIL B',\n",
       " '21-08-03398-DCR  GONZALEZ, JOSE ANTONIO      06/09/23  DISMISSALS                                             |----|',\n",
       " '21-08-03399-DCR  GONZALEZ, JOSE ANTONIO      05/12/23  CONVICTIONS BY THE COUR                                |----|',\n",
       " '21-08-03400-DCR  GONZALEZ, JOSE ANTONIO      06/09/23  DISMISSALS                                             |----|',\n",
       " '21-08-03402-DCR  GALAN, ANDRES JIMENEZ       01/10/23  CONVICTIONS BY THE COUR                                LIBERTAD BAIL B',\n",
       " '21-08-03404-DCR  ROCHA, JOSHUA RAE           06/15/23  DISMISSALS                                             LIBERTAD BAIL B',\n",
       " '21-08-03405-DCR  ROCHA, JOSHUA RAE           06/15/23  CONVICTIONS BY THE COUR                                LIBERTAD BAIL B',\n",
       " \"21-08-03406-DCR  RAMIREZ, BETHANY GABRIELA   12/01/22  PLACED ON DEFERRED ADJU                                BIG JOE'S BAIL \",\n",
       " '21-08-03407-DCR  MARTINEZ, CORNELIO          06/27/22  CONVICTIONS BY THE COUR                                |----|',\n",
       " '21-11-03408-DCR  LOPEZ II, NICOLAS           06/02/23  CONVICTIONS BY THE COUR                                LIBERTAD BAIL B',\n",
       " '21-11-03422-DCR  PICHARDO, MARIO ALBERTO     04/14/23  CONVICTIONS BY THE COUR                                |----|',\n",
       " '22-03-03432-DCR  MCKINNEY, MICHAEL BURL      02/02/23                                                         LIBERTAD BAIL B',\n",
       " '22-11-03472-DCR  CAMPBELL, LARRY             07/17/23  DISMISSALS                                             |----|',\n",
       " '23-02-03490-DCR  MORALES, FRANCISCO LEE      05/18/23  DISMISSALS                                             |----|',\n",
       " '23-03-03560-DCR  MENDOZA, FRANKIE            06/08/23  DISMISSALS                                             LIBERTAD BAIL B',\n",
       " '',\n",
       " '134 CASES LISTED']"
      ]
     },
     "execution_count": 121,
     "metadata": {},
     "output_type": "execute_result"
    }
   ],
   "source": [
    "cases = new_body.split('\\n')\n",
    "cases"
   ]
  },
  {
   "cell_type": "markdown",
   "id": "cd7694b1",
   "metadata": {},
   "source": [
    "# Drop the Last Case\n",
    "\n",
    "It's just the total case count"
   ]
  },
  {
   "cell_type": "code",
   "execution_count": 122,
   "id": "90df642c",
   "metadata": {},
   "outputs": [
    {
     "data": {
      "text/plain": [
       "'134 CASES LISTED'"
      ]
     },
     "execution_count": 122,
     "metadata": {},
     "output_type": "execute_result"
    }
   ],
   "source": [
    "cases[-1]"
   ]
  },
  {
   "cell_type": "code",
   "execution_count": 123,
   "id": "4ad44476",
   "metadata": {},
   "outputs": [
    {
     "data": {
      "text/plain": [
       "''"
      ]
     },
     "execution_count": 123,
     "metadata": {},
     "output_type": "execute_result"
    }
   ],
   "source": [
    "cases.pop()\n",
    "cases[-1]"
   ]
  },
  {
   "cell_type": "markdown",
   "id": "ef159140",
   "metadata": {},
   "source": [
    "# Find the Data"
   ]
  },
  {
   "cell_type": "code",
   "execution_count": 124,
   "id": "706e2545",
   "metadata": {},
   "outputs": [
    {
     "data": {
      "text/plain": [
       "'09-05-02506-DCR  ALEXANDRAVICE, KATHERINE L  10/10/19  MOTIONS TO REVOKE/ADJUD                                |----|'"
      ]
     },
     "execution_count": 124,
     "metadata": {},
     "output_type": "execute_result"
    }
   ],
   "source": [
    "#Only work with the first case for now\n",
    "case = cases[0]\n",
    "case"
   ]
  },
  {
   "cell_type": "markdown",
   "id": "8fbff7d9",
   "metadata": {},
   "source": [
    "__Cause Number__"
   ]
  },
  {
   "cell_type": "code",
   "execution_count": 125,
   "id": "f7f1ca1d",
   "metadata": {},
   "outputs": [
    {
     "data": {
      "text/plain": [
       "'09-05-02506-DCR'"
      ]
     },
     "execution_count": 125,
     "metadata": {},
     "output_type": "execute_result"
    }
   ],
   "source": [
    "cause_number = case[:17].strip()\n",
    "cause_number"
   ]
  },
  {
   "cell_type": "markdown",
   "id": "cd683a1b",
   "metadata": {},
   "source": [
    "__Defendant Name__"
   ]
  },
  {
   "cell_type": "code",
   "execution_count": 126,
   "id": "e2690392",
   "metadata": {},
   "outputs": [
    {
     "data": {
      "text/plain": [
       "'ALEXANDRAVICE, KATHERINE L'"
      ]
     },
     "execution_count": 126,
     "metadata": {},
     "output_type": "execute_result"
    }
   ],
   "source": [
    "defendant = case[17:45].strip()\n",
    "defendant"
   ]
  },
  {
   "cell_type": "markdown",
   "id": "33f3aabe",
   "metadata": {},
   "source": [
    "__Disposed Date__"
   ]
  },
  {
   "cell_type": "code",
   "execution_count": 127,
   "id": "1d7e6b3d",
   "metadata": {},
   "outputs": [
    {
     "data": {
      "text/plain": [
       "'10/10/19'"
      ]
     },
     "execution_count": 127,
     "metadata": {},
     "output_type": "execute_result"
    }
   ],
   "source": [
    "disposed_date = case[45:55].strip()\n",
    "disposed_date"
   ]
  },
  {
   "cell_type": "markdown",
   "id": "75574b82",
   "metadata": {},
   "source": [
    "__Disposition__"
   ]
  },
  {
   "cell_type": "code",
   "execution_count": 128,
   "id": "757d7d10",
   "metadata": {},
   "outputs": [
    {
     "data": {
      "text/plain": [
       "'MOTIONS TO REVOKE/ADJUD'"
      ]
     },
     "execution_count": 128,
     "metadata": {},
     "output_type": "execute_result"
    }
   ],
   "source": [
    "disposition = case[55:78].strip()\n",
    "disposition"
   ]
  },
  {
   "cell_type": "markdown",
   "id": "631b7a89",
   "metadata": {},
   "source": [
    "__Complainant__"
   ]
  },
  {
   "cell_type": "code",
   "execution_count": 129,
   "id": "696fc078",
   "metadata": {},
   "outputs": [
    {
     "data": {
      "text/plain": [
       "''"
      ]
     },
     "execution_count": 129,
     "metadata": {},
     "output_type": "execute_result"
    }
   ],
   "source": [
    "complainant = case[78:110].strip()\n",
    "complainant"
   ]
  },
  {
   "cell_type": "markdown",
   "id": "1c3272a5",
   "metadata": {},
   "source": [
    "__Bondsman__"
   ]
  },
  {
   "cell_type": "code",
   "execution_count": 130,
   "id": "11760bf5",
   "metadata": {},
   "outputs": [
    {
     "data": {
      "text/plain": [
       "'|----|'"
      ]
     },
     "execution_count": 130,
     "metadata": {},
     "output_type": "execute_result"
    }
   ],
   "source": [
    "bondsman = case[110:].strip()\n",
    "bondsman"
   ]
  },
  {
   "cell_type": "markdown",
   "id": "feebbeec",
   "metadata": {},
   "source": [
    "# Build a Dataframe"
   ]
  },
  {
   "cell_type": "code",
   "execution_count": 138,
   "id": "ba202ce8",
   "metadata": {},
   "outputs": [],
   "source": [
    "#Establish a container list for the dictionaries\n",
    "case_list = []\n",
    "dispo_dates_list = []\n",
    "#disposition_list = []\n",
    "temp_dict = {}"
   ]
  },
  {
   "cell_type": "code",
   "execution_count": 139,
   "id": "d115bc4d",
   "metadata": {},
   "outputs": [],
   "source": [
    "for line in cases:\n",
    "    if line.isspace() or len(line) == 0:\n",
    "        continue\n",
    "    \n",
    "    #Check if line is the start of a new case\n",
    "    if not line[0].isspace():\n",
    "        #Check if the temp_dict is empty.\n",
    "        #If not, add temp_dict data to case_list\n",
    "        if bool(temp_dict) == True:\n",
    "            #Add list info to temp_dict\n",
    "            temp_dict['Disposed Dates'] = dispo_dates_list\n",
    "            #temp_dict['Dispositions'] = disposition_list\n",
    "            \n",
    "            #Add temp dict data to case_list\n",
    "            case_list.append(temp_dict)\n",
    "        \n",
    "        #Reset temp_dict\n",
    "        temp_dict = {}\n",
    "        \n",
    "        #Reset lists\n",
    "        dispo_dates_list = []\n",
    "        #disposition_list = []\n",
    "        \n",
    "        #Gather the cause number\n",
    "        temp_dict['Cause Number'] = line[:17].strip()\n",
    "        \n",
    "        #Gather the defendant name\n",
    "        #temp_dict['Defendant'] = line[17:45].strip()\n",
    "        \n",
    "        #Get first dispo date\n",
    "        dispo_dates_list.append(line[45:55].strip())\n",
    "        \n",
    "        #Get first disposition\n",
    "        #disposition_list.append(line[55:78].strip())\n",
    "        \n",
    "        #Get complainant\n",
    "        #temp_dict['Complainant'] = line[78:110].strip()\n",
    "        \n",
    "        #Get bondsman\n",
    "        #temp_dict['Bondsman'] = line[110:].strip()\n",
    "        \n",
    "        #End of line, so move to next one\n",
    "    \n",
    "    else:\n",
    "        #Get additional dispo date\n",
    "        dispo_date = line[45:55].strip()\n",
    "        \n",
    "        #Check if dispo_date is all whitesapace. If not, strip it and add to list\n",
    "        #Also check that the string is not empty\n",
    "        if dispo_date.isspace() == False and len(dispo_date) > 0:\n",
    "            dispo_dates_list.append(dispo_date.strip())\n",
    "        \n",
    "        #Get additional disposition\n",
    "        #disposition = line[55:78].strip()\n",
    "        \n",
    "        #Check if disposition is all whitesapace. If not, strip it and add to list\n",
    "        #Also check that the string is not empty\n",
    "        #if disposition.isspace() == False and len(disposition) > 0:\n",
    "            #disposition_list.append(disposition.strip())\n",
    "        \n",
    "        #End of line\n",
    "        \n",
    "#Check that the last case was added to the list\n",
    "#If not, add it\n",
    "#Add list info to temp_dict\n",
    "temp_dict['Disposed Dates'] = dispo_dates_list\n",
    "#temp_dict['Dispositions'] = disposition_list\n",
    "\n",
    "#Add temp dict data to case_list\n",
    "case_list.append(temp_dict)"
   ]
  },
  {
   "cell_type": "code",
   "execution_count": 140,
   "id": "5922ac17",
   "metadata": {},
   "outputs": [
    {
     "data": {
      "text/plain": [
       "134"
      ]
     },
     "execution_count": 140,
     "metadata": {},
     "output_type": "execute_result"
    }
   ],
   "source": [
    "len(case_list)"
   ]
  },
  {
   "cell_type": "code",
   "execution_count": 141,
   "id": "9eeb799e",
   "metadata": {},
   "outputs": [
    {
     "data": {
      "text/plain": [
       "[{'Cause Number': '09-05-02506-DCR', 'Disposed Dates': ['10/10/19']},\n",
       " {'Cause Number': '10-03-02566-DCR', 'Disposed Dates': ['02/18/22']},\n",
       " {'Cause Number': '10-05-02568-DCR', 'Disposed Dates': ['03/08/21']},\n",
       " {'Cause Number': '11-06-02622-DCR',\n",
       "  'Disposed Dates': ['06/23/21', '03/08/23']},\n",
       " {'Cause Number': '11-10-02632-DCR', 'Disposed Dates': ['04/22/19']},\n",
       " {'Cause Number': '12-10-02696-DCR', 'Disposed Dates': ['09/01/21']},\n",
       " {'Cause Number': '12-12-02724-DCR', 'Disposed Dates': ['04/22/20']},\n",
       " {'Cause Number': '13-04-02756-DCR', 'Disposed Dates': ['07/13/22']},\n",
       " {'Cause Number': '13-10-02816-DCR', 'Disposed Dates': ['06/09/23']},\n",
       " {'Cause Number': '13-10-02817-DCR', 'Disposed Dates': ['06/09/23']},\n",
       " {'Cause Number': '13-10-02818-DCR', 'Disposed Dates': ['05/12/23']},\n",
       " {'Cause Number': '13-12-02834-DCR', 'Disposed Dates': ['06/02/23']},\n",
       " {'Cause Number': '14-05-02918-DCR',\n",
       "  'Disposed Dates': ['03/06/19', '03/06/19']},\n",
       " {'Cause Number': '14-05-02920-DCR', 'Disposed Dates': ['09/10/19']},\n",
       " {'Cause Number': '14-09-02946-DCR', 'Disposed Dates': ['09/21/20']},\n",
       " {'Cause Number': '14-10-02952-DCR', 'Disposed Dates': ['10/29/19']},\n",
       " {'Cause Number': '15-03-02974-DCR', 'Disposed Dates': ['01/06/20']},\n",
       " {'Cause Number': '15-09-03026-DCR', 'Disposed Dates': ['05/01/19']},\n",
       " {'Cause Number': '15-09-03028-DCR', 'Disposed Dates': ['01/09/20']},\n",
       " {'Cause Number': '15-09-03034-DCR', 'Disposed Dates': ['11/03/20']},\n",
       " {'Cause Number': '15-10-03044-DCR', 'Disposed Dates': ['04/03/19']},\n",
       " {'Cause Number': '16-03-03066-DCR', 'Disposed Dates': ['10/05/22']},\n",
       " {'Cause Number': '16-04-03072-DCR',\n",
       "  'Disposed Dates': ['10/29/19', '03/28/23']},\n",
       " {'Cause Number': '16-09-03080-DCR', 'Disposed Dates': ['01/04/19']},\n",
       " {'Cause Number': '16-09-03092-DCR', 'Disposed Dates': ['07/08/19']},\n",
       " {'Cause Number': '16-09-03093-DCR', 'Disposed Dates': ['07/08/19']},\n",
       " {'Cause Number': '16-12-03108-DCR', 'Disposed Dates': ['10/19/19']},\n",
       " {'Cause Number': '16-12-03116-DCR',\n",
       "  'Disposed Dates': ['11/30/22', '05/05/23']},\n",
       " {'Cause Number': '17-04-03150-DCR', 'Disposed Dates': ['08/09/19']},\n",
       " {'Cause Number': '17-10-03166-DCR', 'Disposed Dates': ['04/03/19']},\n",
       " {'Cause Number': '17-10-03168-DCR', 'Disposed Dates': ['05/01/19']},\n",
       " {'Cause Number': '17-10-03169-DCR', 'Disposed Dates': ['04/29/19']},\n",
       " {'Cause Number': '17-10-03175-DCR', 'Disposed Dates': ['01/14/19']},\n",
       " {'Cause Number': '17-10-03176-DCR', 'Disposed Dates': ['01/14/19']},\n",
       " {'Cause Number': '17-12-03196-DCR', 'Disposed Dates': ['10/10/19']},\n",
       " {'Cause Number': '18-02-03202-DCR', 'Disposed Dates': ['10/31/22']},\n",
       " {'Cause Number': '18-04-03212-DCR', 'Disposed Dates': ['04/29/19']},\n",
       " {'Cause Number': '18-04-03214-DCR', 'Disposed Dates': ['04/20/20']},\n",
       " {'Cause Number': '18-04-03216-DCR', 'Disposed Dates': ['05/01/19']},\n",
       " {'Cause Number': '18-05-03220-DCR', 'Disposed Dates': ['01/04/19']},\n",
       " {'Cause Number': '18-05-03222-DCR',\n",
       "  'Disposed Dates': ['06/03/19', '07/27/23']},\n",
       " {'Cause Number': '18-05-03224-DCR', 'Disposed Dates': ['03/27/23']},\n",
       " {'Cause Number': '18-05-03228-DCR', 'Disposed Dates': ['02/13/19']},\n",
       " {'Cause Number': '18-06-03230-DCR', 'Disposed Dates': ['03/06/19']},\n",
       " {'Cause Number': '18-07-03232-DCR', 'Disposed Dates': ['02/06/19']},\n",
       " {'Cause Number': '18-07-03234-DCR', 'Disposed Dates': ['05/01/19']},\n",
       " {'Cause Number': '18-07-03236-DCR',\n",
       "  'Disposed Dates': ['01/04/19', '10/21/22']},\n",
       " {'Cause Number': '18-08-03238-DCR',\n",
       "  'Disposed Dates': ['04/01/19', '08/19/21']},\n",
       " {'Cause Number': '18-08-03240-DCR', 'Disposed Dates': ['04/01/19']},\n",
       " {'Cause Number': '18-08-03241-DCR', 'Disposed Dates': ['04/29/19']},\n",
       " {'Cause Number': '18-08-03242-DCR', 'Disposed Dates': ['01/04/19']},\n",
       " {'Cause Number': '18-08-03244-DCR', 'Disposed Dates': ['05/01/19']},\n",
       " {'Cause Number': '18-10-03246-DCR', 'Disposed Dates': ['01/23/20']},\n",
       " {'Cause Number': '18-10-03250-DCR', 'Disposed Dates': ['10/17/19']},\n",
       " {'Cause Number': '18-10-03252-DCR', 'Disposed Dates': ['11/04/21']},\n",
       " {'Cause Number': '18-10-03254-DCR', 'Disposed Dates': ['12/12/19']},\n",
       " {'Cause Number': '18-10-03256-DCR', 'Disposed Dates': ['05/01/19']},\n",
       " {'Cause Number': '18-12-03260-DCR', 'Disposed Dates': ['05/01/19']},\n",
       " {'Cause Number': '18-12-03262-DCR', 'Disposed Dates': ['07/08/19']},\n",
       " {'Cause Number': '18-12-03263-DCR', 'Disposed Dates': ['05/01/19']},\n",
       " {'Cause Number': '18-12-03264-DCR', 'Disposed Dates': ['06/02/20']},\n",
       " {'Cause Number': '18-12-03265-DCR', 'Disposed Dates': ['06/02/20']},\n",
       " {'Cause Number': '18-12-03266-DCR', 'Disposed Dates': ['06/02/20']},\n",
       " {'Cause Number': '18-12-03267-DCR', 'Disposed Dates': ['06/02/20']},\n",
       " {'Cause Number': '18-12-03268-DCR', 'Disposed Dates': ['10/17/19']},\n",
       " {'Cause Number': '19-02-03270-DCR',\n",
       "  'Disposed Dates': ['10/02/19', '06/10/22']},\n",
       " {'Cause Number': '19-02-03272-DCR', 'Disposed Dates': ['04/24/20']},\n",
       " {'Cause Number': '19-02-03273-DCR', 'Disposed Dates': ['04/24/20']},\n",
       " {'Cause Number': '19-02-03274-DCR', 'Disposed Dates': ['10/17/19']},\n",
       " {'Cause Number': '19-02-03278-DCR', 'Disposed Dates': ['07/14/20']},\n",
       " {'Cause Number': '19-02-03280-DCR', 'Disposed Dates': ['11/04/21']},\n",
       " {'Cause Number': '19-03-03282-DCR', 'Disposed Dates': ['08/21/23']},\n",
       " {'Cause Number': '19-07-03292-DCR', 'Disposed Dates': ['02/11/20']},\n",
       " {'Cause Number': '19-07-03294-DCR', 'Disposed Dates': ['02/22/22']},\n",
       " {'Cause Number': '19-07-03296-DCR', 'Disposed Dates': ['12/07/22']},\n",
       " {'Cause Number': '19-07-03298-DCR', 'Disposed Dates': ['05/12/23']},\n",
       " {'Cause Number': '19-08-03300-DCR',\n",
       "  'Disposed Dates': ['06/26/20', '09/09/20', '07/28/22']},\n",
       " {'Cause Number': '19-08-03303-DCR',\n",
       "  'Disposed Dates': ['06/26/20', '09/09/20', '07/28/22']},\n",
       " {'Cause Number': '19-08-03304-DCR',\n",
       "  'Disposed Dates': ['06/26/20', '09/09/20', '07/28/22']},\n",
       " {'Cause Number': '19-08-03306-DCR', 'Disposed Dates': ['07/22/20']},\n",
       " {'Cause Number': '19-08-03308-DCR', 'Disposed Dates': ['08/13/20']},\n",
       " {'Cause Number': '19-08-03312-DCR', 'Disposed Dates': ['05/24/21']},\n",
       " {'Cause Number': '19-08-03319-DCR', 'Disposed Dates': ['07/22/20']},\n",
       " {'Cause Number': '19-10-03320-DCR',\n",
       "  'Disposed Dates': ['03/05/21', '10/05/22']},\n",
       " {'Cause Number': '19-10-03322-DCR', 'Disposed Dates': ['05/07/21']},\n",
       " {'Cause Number': '19-12-03326-DCR', 'Disposed Dates': ['01/18/22']},\n",
       " {'Cause Number': '19-12-03328-DCR', 'Disposed Dates': ['11/04/21']},\n",
       " {'Cause Number': '19-12-03330-DCR', 'Disposed Dates': ['11/16/22']},\n",
       " {'Cause Number': '19-12-03331-DCR', 'Disposed Dates': ['11/16/22']},\n",
       " {'Cause Number': '19-12-03332-DCR', 'Disposed Dates': ['08/10/21']},\n",
       " {'Cause Number': '19-12-03336-DCR', 'Disposed Dates': ['06/27/22']},\n",
       " {'Cause Number': '19-12-03337-DCR', 'Disposed Dates': ['06/27/22']},\n",
       " {'Cause Number': '19-12-03338-DCR',\n",
       "  'Disposed Dates': ['09/21/20', '03/16/23']},\n",
       " {'Cause Number': '20-02-03340-DCR', 'Disposed Dates': ['01/04/22']},\n",
       " {'Cause Number': '20-02-03344-DCR', 'Disposed Dates': ['08/03/21']},\n",
       " {'Cause Number': '20-02-03346-DCR', 'Disposed Dates': ['10/20/22']},\n",
       " {'Cause Number': '20-12-03352-DCR', 'Disposed Dates': ['01/05/22']},\n",
       " {'Cause Number': '20-12-03354-DCR', 'Disposed Dates': ['09/09/21']},\n",
       " {'Cause Number': '20-12-03356-DCR', 'Disposed Dates': ['05/11/22']},\n",
       " {'Cause Number': '20-12-03357-DCR', 'Disposed Dates': ['11/16/22']},\n",
       " {'Cause Number': '20-12-03358-DCR', 'Disposed Dates': ['11/16/22']},\n",
       " {'Cause Number': '20-12-03360-DCR', 'Disposed Dates': ['04/05/22']},\n",
       " {'Cause Number': '20-12-03362-DCR', 'Disposed Dates': ['06/27/22']},\n",
       " {'Cause Number': '20-12-03368-DCR', 'Disposed Dates': ['06/07/22']},\n",
       " {'Cause Number': '20-12-03370-DCR', 'Disposed Dates': ['08/24/22']},\n",
       " {'Cause Number': '20-12-03372-DCR', 'Disposed Dates': ['07/22/22']},\n",
       " {'Cause Number': '20-12-03374-DCR', 'Disposed Dates': ['03/02/22']},\n",
       " {'Cause Number': '20-12-03375-DCR', 'Disposed Dates': ['03/02/22']},\n",
       " {'Cause Number': '20-12-03376-DCR', 'Disposed Dates': ['03/02/22']},\n",
       " {'Cause Number': '20-12-03378-DCR', 'Disposed Dates': ['10/19/22']},\n",
       " {'Cause Number': '20-12-03380-DCR', 'Disposed Dates': ['01/18/22']},\n",
       " {'Cause Number': '20-12-03382-DCR', 'Disposed Dates': ['08/24/21']},\n",
       " {'Cause Number': '20-12-03383-DCR', 'Disposed Dates': ['08/24/21']},\n",
       " {'Cause Number': '20-12-03384-DCR', 'Disposed Dates': ['06/24/21']},\n",
       " {'Cause Number': '20-12-03385-DCR', 'Disposed Dates': ['07/28/22']},\n",
       " {'Cause Number': '20-12-03386-DCR',\n",
       "  'Disposed Dates': ['01/25/22', '05/15/23']},\n",
       " {'Cause Number': '20-12-03387-DCR',\n",
       "  'Disposed Dates': ['01/25/22', '05/15/23']},\n",
       " {'Cause Number': '21-04-03390-DCR', 'Disposed Dates': ['04/05/22']},\n",
       " {'Cause Number': '21-04-03392-DCR', 'Disposed Dates': ['06/22/22']},\n",
       " {'Cause Number': '21-04-03394-DCR', 'Disposed Dates': ['03/16/23']},\n",
       " {'Cause Number': '21-08-03398-DCR', 'Disposed Dates': ['06/09/23']},\n",
       " {'Cause Number': '21-08-03399-DCR', 'Disposed Dates': ['05/12/23']},\n",
       " {'Cause Number': '21-08-03400-DCR', 'Disposed Dates': ['06/09/23']},\n",
       " {'Cause Number': '21-08-03402-DCR', 'Disposed Dates': ['01/10/23']},\n",
       " {'Cause Number': '21-08-03404-DCR', 'Disposed Dates': ['06/15/23']},\n",
       " {'Cause Number': '21-08-03405-DCR', 'Disposed Dates': ['06/15/23']},\n",
       " {'Cause Number': '21-08-03406-DCR', 'Disposed Dates': ['12/01/22']},\n",
       " {'Cause Number': '21-08-03407-DCR', 'Disposed Dates': ['06/27/22']},\n",
       " {'Cause Number': '21-11-03408-DCR', 'Disposed Dates': ['06/02/23']},\n",
       " {'Cause Number': '21-11-03422-DCR', 'Disposed Dates': ['04/14/23']},\n",
       " {'Cause Number': '22-03-03432-DCR', 'Disposed Dates': ['02/02/23']},\n",
       " {'Cause Number': '22-11-03472-DCR', 'Disposed Dates': ['07/17/23']},\n",
       " {'Cause Number': '23-02-03490-DCR', 'Disposed Dates': ['05/18/23']},\n",
       " {'Cause Number': '23-03-03560-DCR', 'Disposed Dates': ['06/08/23']}]"
      ]
     },
     "execution_count": 141,
     "metadata": {},
     "output_type": "execute_result"
    }
   ],
   "source": [
    "case_list"
   ]
  },
  {
   "cell_type": "code",
   "execution_count": 142,
   "id": "c9e05a13",
   "metadata": {},
   "outputs": [
    {
     "data": {
      "text/html": [
       "<div>\n",
       "<style scoped>\n",
       "    .dataframe tbody tr th:only-of-type {\n",
       "        vertical-align: middle;\n",
       "    }\n",
       "\n",
       "    .dataframe tbody tr th {\n",
       "        vertical-align: top;\n",
       "    }\n",
       "\n",
       "    .dataframe thead th {\n",
       "        text-align: right;\n",
       "    }\n",
       "</style>\n",
       "<table border=\"1\" class=\"dataframe\">\n",
       "  <thead>\n",
       "    <tr style=\"text-align: right;\">\n",
       "      <th></th>\n",
       "      <th>Cause Number</th>\n",
       "      <th>Disposed Dates</th>\n",
       "    </tr>\n",
       "  </thead>\n",
       "  <tbody>\n",
       "    <tr>\n",
       "      <th>0</th>\n",
       "      <td>09-05-02506-DCR</td>\n",
       "      <td>[10/10/19]</td>\n",
       "    </tr>\n",
       "    <tr>\n",
       "      <th>1</th>\n",
       "      <td>10-03-02566-DCR</td>\n",
       "      <td>[02/18/22]</td>\n",
       "    </tr>\n",
       "    <tr>\n",
       "      <th>2</th>\n",
       "      <td>10-05-02568-DCR</td>\n",
       "      <td>[03/08/21]</td>\n",
       "    </tr>\n",
       "    <tr>\n",
       "      <th>3</th>\n",
       "      <td>11-06-02622-DCR</td>\n",
       "      <td>[06/23/21, 03/08/23]</td>\n",
       "    </tr>\n",
       "    <tr>\n",
       "      <th>4</th>\n",
       "      <td>11-10-02632-DCR</td>\n",
       "      <td>[04/22/19]</td>\n",
       "    </tr>\n",
       "    <tr>\n",
       "      <th>...</th>\n",
       "      <td>...</td>\n",
       "      <td>...</td>\n",
       "    </tr>\n",
       "    <tr>\n",
       "      <th>129</th>\n",
       "      <td>21-11-03422-DCR</td>\n",
       "      <td>[04/14/23]</td>\n",
       "    </tr>\n",
       "    <tr>\n",
       "      <th>130</th>\n",
       "      <td>22-03-03432-DCR</td>\n",
       "      <td>[02/02/23]</td>\n",
       "    </tr>\n",
       "    <tr>\n",
       "      <th>131</th>\n",
       "      <td>22-11-03472-DCR</td>\n",
       "      <td>[07/17/23]</td>\n",
       "    </tr>\n",
       "    <tr>\n",
       "      <th>132</th>\n",
       "      <td>23-02-03490-DCR</td>\n",
       "      <td>[05/18/23]</td>\n",
       "    </tr>\n",
       "    <tr>\n",
       "      <th>133</th>\n",
       "      <td>23-03-03560-DCR</td>\n",
       "      <td>[06/08/23]</td>\n",
       "    </tr>\n",
       "  </tbody>\n",
       "</table>\n",
       "<p>134 rows × 2 columns</p>\n",
       "</div>"
      ],
      "text/plain": [
       "        Cause Number        Disposed Dates\n",
       "0    09-05-02506-DCR            [10/10/19]\n",
       "1    10-03-02566-DCR            [02/18/22]\n",
       "2    10-05-02568-DCR            [03/08/21]\n",
       "3    11-06-02622-DCR  [06/23/21, 03/08/23]\n",
       "4    11-10-02632-DCR            [04/22/19]\n",
       "..               ...                   ...\n",
       "129  21-11-03422-DCR            [04/14/23]\n",
       "130  22-03-03432-DCR            [02/02/23]\n",
       "131  22-11-03472-DCR            [07/17/23]\n",
       "132  23-02-03490-DCR            [05/18/23]\n",
       "133  23-03-03560-DCR            [06/08/23]\n",
       "\n",
       "[134 rows x 2 columns]"
      ]
     },
     "execution_count": 142,
     "metadata": {},
     "output_type": "execute_result"
    }
   ],
   "source": [
    "df = pd.DataFrame(case_list)\n",
    "df"
   ]
  },
  {
   "cell_type": "markdown",
   "id": "63b06389",
   "metadata": {},
   "source": [
    "# Build the Function"
   ]
  },
  {
   "cell_type": "code",
   "execution_count": 3,
   "id": "9800d21d",
   "metadata": {},
   "outputs": [],
   "source": [
    "def extract_criminal_disposed_cases(text):\n",
    "    \"\"\"\n",
    "    This function takes in the entire PDF document as a string of text. It will gather the info for each case\n",
    "    and add the info to a dictionary. The dictionary for each case will be added to a list which will be turned into\n",
    "    a dataframe.\n",
    "    \n",
    "    Parameter:\n",
    "        -text: A string consisting of the text of the entire disposed cases PDF document.\n",
    "        \n",
    "    Returns:\n",
    "        -df: A dataframe of the newly gathered disposed case info\n",
    "    \"\"\"\n",
    "    \n",
    "    #Initialize containers\n",
    "    #Establish a container list for the dictionaries\n",
    "    case_list = []\n",
    "    dispo_dates_list = []\n",
    "    disposition_list = []\n",
    "    temp_dict = {}\n",
    "    \n",
    "    #Add a var to count the number of dispositions\n",
    "    dispo_count = 0\n",
    "    \n",
    "    #Get the header and remove surrounding whitespace\n",
    "    header = text[:420].strip()\n",
    "\n",
    "    #Get the body and remove surrounding whitespace\n",
    "    body = text[420:].strip()\n",
    "    \n",
    "    #Get the 'AS OF' date:\n",
    "    report_as_of_date = re.findall(r\"[0-9]{2}/[0-9]{2}/[0-9]{4}\", header)[1]\n",
    "    \n",
    "    #Use if statement to check for county names inside the header info\n",
    "    if header.count('MAVERICK') >= 1:\n",
    "        county = 'Maverick'\n",
    "    elif header.count('DIMMIT') >= 1:\n",
    "        county = 'Dimmit'\n",
    "    elif header.count('ZAVALA') >= 1:\n",
    "        county = 'Zavala'\n",
    "    else:\n",
    "        county = 'Something went wrong!'\n",
    "        \n",
    "    #Set up regex to remove all subsequent headers\n",
    "    #This regex should identify the headers even if some of the info changes later on\n",
    "    body = re.sub(r\"\"\"\\n\\x0c\\s*[A-Z]{3,9}\\s[0-9]{1,2},\\s[0-9]{4}\\s[a-zA-Z0-9 \\n:/-]*#\\s*[A-Z /]*\\n\\n\"\"\", '', body)\n",
    "    \n",
    "    #Split the text on the \\n to isolate each case\n",
    "    cases = body.split('\\n')\n",
    "    \n",
    "    #Drop the last case. It's just the total case count from the report\n",
    "    cases.pop()\n",
    "    \n",
    "    #Remove cases that happen to be empty or consist of whitespace only\n",
    "    cases = [case for case in cases if case.isspace() == False and len(case) > 0]\n",
    "    \n",
    "    #Loop through each line. Add case info to temp dict, and then add that to the case list\n",
    "    #Most fields are commented out because we don't need that info yet.\n",
    "    for line in cases:\n",
    "        #Check if line is the start of a new case\n",
    "        if not line[0].isspace():\n",
    "            #Check if the temp_dict is empty.\n",
    "            #If not, add temp_dict data to case_list\n",
    "            if bool(temp_dict) == True:\n",
    "                #Add list info to temp_dict\n",
    "                temp_dict['Disposed Dates'] = dispo_dates_list\n",
    "                temp_dict['Dispositions'] = disposition_list\n",
    "                dispo_count += len(dispo_dates_list)\n",
    "                \n",
    "                #Add temp dict data to case_list\n",
    "                case_list.append(temp_dict)\n",
    "\n",
    "            #Reset temp_dict\n",
    "            temp_dict = {}\n",
    "\n",
    "            #Reset lists\n",
    "            dispo_dates_list = []\n",
    "            disposition_list = []\n",
    "            \n",
    "            #Assign the county name\n",
    "            temp_dict['County'] = county\n",
    "\n",
    "            #Gather the cause number\n",
    "            temp_dict['Cause Number'] = line[:17].strip()\n",
    "\n",
    "            #Gather the defendant name\n",
    "            #temp_dict['Defendant'] = line[17:45].strip()\n",
    "\n",
    "            #Get first dispo date\n",
    "            dispo_dates_list.append(line[45:55].strip())\n",
    "\n",
    "            #Get first disposition\n",
    "            disposition_list.append(line[55:78].strip())\n",
    "\n",
    "            #Get complainant\n",
    "            #temp_dict['Complainant'] = line[78:110].strip()\n",
    "\n",
    "            #Get bondsman\n",
    "            #temp_dict['Bondsman'] = line[110:].strip()\n",
    "\n",
    "            #End of line, so move to next one\n",
    "\n",
    "        else:\n",
    "            #Get additional dispo date\n",
    "            dispo_date = line[45:55].strip()\n",
    "\n",
    "            #Check if dispo_date is all whitesapace. If not, strip it and add to list\n",
    "            #Also check that the string is not empty\n",
    "            if dispo_date.isspace() == False and len(dispo_date) > 0:\n",
    "                dispo_dates_list.append(dispo_date.strip())\n",
    "\n",
    "            #Get additional disposition\n",
    "            disposition = line[55:78].strip()\n",
    "\n",
    "            #Check if disposition is all whitesapace. If not, strip it and add to list\n",
    "            #Also check that the string is not empty\n",
    "            if disposition.isspace() == False and len(disposition) > 0:\n",
    "                disposition_list.append(disposition.strip())\n",
    "\n",
    "            #End of line\n",
    "\n",
    "    #Check that the last case was added to the list\n",
    "    #If not, add it\n",
    "    #Add list info to temp_dict\n",
    "    temp_dict['Disposed Dates'] = dispo_dates_list\n",
    "    temp_dict['Dispositions'] = disposition_list\n",
    "    dispo_count += len(dispo_dates_list)\n",
    "    \n",
    "    #Add temp dict data to case_list\n",
    "    case_list.append(temp_dict)\n",
    "    \n",
    "    #How many?\n",
    "    print(f'Collected Data From {len(case_list)} Cases.')\n",
    "    \n",
    "    print(f'There were {dispo_count} disposed cases.')\n",
    "    \n",
    "    #Create dataframe\n",
    "    df = pd.DataFrame(case_list)\n",
    "    \n",
    "    #Add report as of date\n",
    "    df['Disposed As Of Date'] = report_as_of_date\n",
    "    \n",
    "    return df"
   ]
  },
  {
   "cell_type": "markdown",
   "id": "8fb81006",
   "metadata": {},
   "source": [
    "# Test Function"
   ]
  },
  {
   "cell_type": "code",
   "execution_count": 14,
   "id": "9c72175c",
   "metadata": {},
   "outputs": [],
   "source": [
    "#Set up the pdf path\n",
    "pdf_path = '/Users/johnathonsmith/Downloads/Disposed_Case_Reports/Disposed CR Zavala 01012019 thru 08242023.pdf'"
   ]
  },
  {
   "cell_type": "code",
   "execution_count": 15,
   "id": "733f8464",
   "metadata": {},
   "outputs": [],
   "source": [
    "#Set up resource manager to handle pdf content. text, images, etc.\n",
    "resource_manager = PDFResourceManager()\n",
    "\n",
    "#Used to display text\n",
    "fake_file_handle = io.StringIO()\n",
    "\n",
    "#Set up converter\n",
    "converter = TextConverter(resource_manager, fake_file_handle, laparams=LAParams())\n",
    "\n",
    "#Set up page interpreter\n",
    "page_interpreter = PDFPageInterpreter(resource_manager, converter)\n",
    "\n",
    "with open(pdf_path, 'rb') as fh:\n",
    "\n",
    "    for page_num, page in enumerate(PDFPage.get_pages(fh, caching=True, check_extractable=True)):\n",
    "        #Process the current page\n",
    "        page_interpreter.process_page(page)\n",
    "\n",
    "    #Save the current page's text to a variable\n",
    "    text = fake_file_handle.getvalue()\n",
    "\n",
    "# close open handles\n",
    "converter.close()\n",
    "fake_file_handle.close()\n",
    "\n",
    "#print(text)"
   ]
  },
  {
   "cell_type": "code",
   "execution_count": 16,
   "id": "2e1460c3",
   "metadata": {},
   "outputs": [
    {
     "name": "stdout",
     "output_type": "stream",
     "text": [
      "Collected Data From 113 Cases.\n",
      "There were 113 disposed cases.\n"
     ]
    }
   ],
   "source": [
    "df = extract_criminal_disposed_cases(text)"
   ]
  },
  {
   "cell_type": "code",
   "execution_count": 17,
   "id": "31720820",
   "metadata": {},
   "outputs": [
    {
     "data": {
      "text/html": [
       "<div>\n",
       "<style scoped>\n",
       "    .dataframe tbody tr th:only-of-type {\n",
       "        vertical-align: middle;\n",
       "    }\n",
       "\n",
       "    .dataframe tbody tr th {\n",
       "        vertical-align: top;\n",
       "    }\n",
       "\n",
       "    .dataframe thead th {\n",
       "        text-align: right;\n",
       "    }\n",
       "</style>\n",
       "<table border=\"1\" class=\"dataframe\">\n",
       "  <thead>\n",
       "    <tr style=\"text-align: right;\">\n",
       "      <th></th>\n",
       "      <th>County</th>\n",
       "      <th>Cause Number</th>\n",
       "      <th>Disposed Dates</th>\n",
       "      <th>Dispositions</th>\n",
       "      <th>Disposed As Of Date</th>\n",
       "    </tr>\n",
       "  </thead>\n",
       "  <tbody>\n",
       "    <tr>\n",
       "      <th>0</th>\n",
       "      <td>Zavala</td>\n",
       "      <td>00-00-00000-ZCR</td>\n",
       "      <td>[09/16/22]</td>\n",
       "      <td>[ALL OTHER DISPOSITIONS]</td>\n",
       "      <td>08/24/2023</td>\n",
       "    </tr>\n",
       "    <tr>\n",
       "      <th>1</th>\n",
       "      <td>Zavala</td>\n",
       "      <td>05-11-02996-ZCR</td>\n",
       "      <td>[07/08/19]</td>\n",
       "      <td>[DISMISSALS]</td>\n",
       "      <td>08/24/2023</td>\n",
       "    </tr>\n",
       "    <tr>\n",
       "      <th>2</th>\n",
       "      <td>Zavala</td>\n",
       "      <td>09-02-03168-ZCR</td>\n",
       "      <td>[02/17/22]</td>\n",
       "      <td>[DISMISSALS]</td>\n",
       "      <td>08/24/2023</td>\n",
       "    </tr>\n",
       "    <tr>\n",
       "      <th>3</th>\n",
       "      <td>Zavala</td>\n",
       "      <td>12-01-03315-ZCR</td>\n",
       "      <td>[06/06/19]</td>\n",
       "      <td>[ALL OTHER DISPOSITIONS]</td>\n",
       "      <td>08/24/2023</td>\n",
       "    </tr>\n",
       "    <tr>\n",
       "      <th>4</th>\n",
       "      <td>Zavala</td>\n",
       "      <td>12-03-03336-ZCR</td>\n",
       "      <td>[02/01/19]</td>\n",
       "      <td>[CONVICTIONS BY THE JURY]</td>\n",
       "      <td>08/24/2023</td>\n",
       "    </tr>\n",
       "    <tr>\n",
       "      <th>...</th>\n",
       "      <td>...</td>\n",
       "      <td>...</td>\n",
       "      <td>...</td>\n",
       "      <td>...</td>\n",
       "      <td>...</td>\n",
       "    </tr>\n",
       "    <tr>\n",
       "      <th>108</th>\n",
       "      <td>Zavala</td>\n",
       "      <td>22-03-03902-ZCR</td>\n",
       "      <td>[04/06/23]</td>\n",
       "      <td>[CONVICTIONS BY THE COUR]</td>\n",
       "      <td>08/24/2023</td>\n",
       "    </tr>\n",
       "    <tr>\n",
       "      <th>109</th>\n",
       "      <td>Zavala</td>\n",
       "      <td>22-03-03906-ZCR</td>\n",
       "      <td>[04/13/23]</td>\n",
       "      <td>[CONVICTIONS BY THE COUR]</td>\n",
       "      <td>08/24/2023</td>\n",
       "    </tr>\n",
       "    <tr>\n",
       "      <th>110</th>\n",
       "      <td>Zavala</td>\n",
       "      <td>22-05-03908-ZCR</td>\n",
       "      <td>[03/09/23]</td>\n",
       "      <td>[CONVICTIONS BY THE COUR]</td>\n",
       "      <td>08/24/2023</td>\n",
       "    </tr>\n",
       "    <tr>\n",
       "      <th>111</th>\n",
       "      <td>Zavala</td>\n",
       "      <td>22-11-03972-ZCR</td>\n",
       "      <td>[05/08/23]</td>\n",
       "      <td>[CONVICTIONS BY THE COUR]</td>\n",
       "      <td>08/24/2023</td>\n",
       "    </tr>\n",
       "    <tr>\n",
       "      <th>112</th>\n",
       "      <td>Zavala</td>\n",
       "      <td>91-02-02334-ZCR</td>\n",
       "      <td>[03/03/21]</td>\n",
       "      <td>[DISMISSALS]</td>\n",
       "      <td>08/24/2023</td>\n",
       "    </tr>\n",
       "  </tbody>\n",
       "</table>\n",
       "<p>113 rows × 5 columns</p>\n",
       "</div>"
      ],
      "text/plain": [
       "     County     Cause Number Disposed Dates               Dispositions  \\\n",
       "0    Zavala  00-00-00000-ZCR     [09/16/22]   [ALL OTHER DISPOSITIONS]   \n",
       "1    Zavala  05-11-02996-ZCR     [07/08/19]               [DISMISSALS]   \n",
       "2    Zavala  09-02-03168-ZCR     [02/17/22]               [DISMISSALS]   \n",
       "3    Zavala  12-01-03315-ZCR     [06/06/19]   [ALL OTHER DISPOSITIONS]   \n",
       "4    Zavala  12-03-03336-ZCR     [02/01/19]  [CONVICTIONS BY THE JURY]   \n",
       "..      ...              ...            ...                        ...   \n",
       "108  Zavala  22-03-03902-ZCR     [04/06/23]  [CONVICTIONS BY THE COUR]   \n",
       "109  Zavala  22-03-03906-ZCR     [04/13/23]  [CONVICTIONS BY THE COUR]   \n",
       "110  Zavala  22-05-03908-ZCR     [03/09/23]  [CONVICTIONS BY THE COUR]   \n",
       "111  Zavala  22-11-03972-ZCR     [05/08/23]  [CONVICTIONS BY THE COUR]   \n",
       "112  Zavala  91-02-02334-ZCR     [03/03/21]               [DISMISSALS]   \n",
       "\n",
       "    Disposed As Of Date  \n",
       "0            08/24/2023  \n",
       "1            08/24/2023  \n",
       "2            08/24/2023  \n",
       "3            08/24/2023  \n",
       "4            08/24/2023  \n",
       "..                  ...  \n",
       "108          08/24/2023  \n",
       "109          08/24/2023  \n",
       "110          08/24/2023  \n",
       "111          08/24/2023  \n",
       "112          08/24/2023  \n",
       "\n",
       "[113 rows x 5 columns]"
      ]
     },
     "execution_count": 17,
     "metadata": {},
     "output_type": "execute_result"
    }
   ],
   "source": [
    "df"
   ]
  },
  {
   "cell_type": "code",
   "execution_count": null,
   "id": "e65000e1",
   "metadata": {},
   "outputs": [],
   "source": []
  }
 ],
 "metadata": {
  "kernelspec": {
   "display_name": "Python 3",
   "language": "python",
   "name": "python3"
  },
  "language_info": {
   "codemirror_mode": {
    "name": "ipython",
    "version": 3
   },
   "file_extension": ".py",
   "mimetype": "text/x-python",
   "name": "python",
   "nbconvert_exporter": "python",
   "pygments_lexer": "ipython3",
   "version": "3.9.1"
  }
 },
 "nbformat": 4,
 "nbformat_minor": 5
}
