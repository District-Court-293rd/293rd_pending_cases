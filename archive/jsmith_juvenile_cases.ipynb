{
 "cells": [
  {
   "cell_type": "code",
   "execution_count": 1,
   "id": "01d10deb",
   "metadata": {},
   "outputs": [],
   "source": [
    "import numpy as np\n",
    "import pandas as pd\n",
    "import re\n",
    "from pdfminer3.layout import LAParams, LTTextBox\n",
    "from pdfminer3.pdfpage import PDFPage\n",
    "from pdfminer3.pdfinterp import PDFResourceManager\n",
    "from pdfminer3.pdfinterp import PDFPageInterpreter\n",
    "from pdfminer3.converter import PDFPageAggregator\n",
    "from pdfminer3.converter import TextConverter\n",
    "import io"
   ]
  },
  {
   "cell_type": "code",
   "execution_count": 4,
   "id": "585c2a35",
   "metadata": {},
   "outputs": [],
   "source": [
    "#Set up the pdf path\n",
    "pdf_path = '/Users/johnathonsmith/Downloads/Juvenile_Case_Reports/MJU as of 8 24 23.pdf'"
   ]
  },
  {
   "cell_type": "code",
   "execution_count": 5,
   "id": "fe740c64",
   "metadata": {},
   "outputs": [],
   "source": [
    "#Set up resource manager to handle pdf content. text, images, etc.\n",
    "resource_manager = PDFResourceManager()\n",
    "\n",
    "#Used to display text\n",
    "fake_file_handle = io.StringIO()\n",
    "\n",
    "#Set up converter\n",
    "converter = TextConverter(resource_manager, fake_file_handle, laparams=LAParams())\n",
    "\n",
    "#Set up page interpreter\n",
    "page_interpreter = PDFPageInterpreter(resource_manager, converter)\n",
    "\n",
    "with open(pdf_path, 'rb') as fh:\n",
    "\n",
    "    for page_num, page in enumerate(PDFPage.get_pages(fh, caching=True, check_extractable=True)):\n",
    "        #Process the current page\n",
    "        page_interpreter.process_page(page)\n",
    "\n",
    "    #Save the current page's text to a variable\n",
    "    text = fake_file_handle.getvalue()\n",
    "\n",
    "# close open handles\n",
    "converter.close()\n",
    "fake_file_handle.close()\n",
    "\n",
    "#print(text)"
   ]
  },
  {
   "cell_type": "code",
   "execution_count": 6,
   "id": "29376b6e",
   "metadata": {},
   "outputs": [
    {
     "data": {
      "text/plain": [
       "'                         COURT COORDINATOR - JUVENILE CASE FILINGS\\n              FILE DATES: ON OR AFTER 08/24/2023 - COURT: 293RD DISTRICT COURT\\n              FILING COUNTY: MAVERICK - FILING OFFICE: DISTRICT CLERK - PAGE 1\\n\\nKEY              CAUSE #   FILE DATE  COURT                           RESPONDENT                              \\n     OFFENSE(S)                                                                                                \\n\\n453      19-01-00554-MJU  01/10/2019  293RD DISTRICT COURT            GUERRA                                   \\n454      19-02-00556-MJU  02/07/2019  293RD DISTRICT COURT            RODRIGUEZ, ANTHONY                       \\n455      19-03-00558-MJU  03/20/2019  293RD DISTRICT COURT            CASTILLO                                 \\n456      19-04-00560-MJU  04/08/2019  293RD DISTRICT COURT            RODRIGUEZ                                \\n457      19-07-00562-MJU  07/09/2019  293RD DISTRICT COURT            CONTRERAS                                \\n458      19-08-00564-MJU  08/29/2019  293RD DISTRICT COURT            SANCHEZ                                  \\n459      20-01-00566-MJU  01/09/2020  293RD DISTRICT COURT            JIMENEZ, BRAULIO                         \\n2        20-02-00568-MJU  02/26/2020  293RD DISTRICT COURT            JUSTIN ANDREW RODRIGUEZ                  \\n3        20-05-00570-MJU  05/14/2020  293RD DISTRICT COURT            PEDRO MARTINEZ                           \\n368      21-05-00572-MJU  05/12/2021  293RD DISTRICT COURT            DIEGO CAZARES JR.                        \\n369      21-09-00574-MJU  09/24/2021  293RD DISTRICT COURT            LESLIE RAMOS                             \\n371      21-12-00576-MJU  12/07/2021  293RD DISTRICT COURT            OWYN ENRIQUE BELLIKKA                    \\n397      22-03-00578-MJU  03/28/2022  293RD DISTRICT COURT            JOSE REFUGIO CORTES                      \\n     HARASSMENT                                                                                                \\n402      22-07-00580-MJU  07/22/2022  293RD DISTRICT COURT            ANDRES ADRIAN HERNANDEZ                  \\n403      22-08-DAVIN-MJU  08/29/2022  293RD DISTRICT COURT            DAVIN THOMAS ST.ANN                      \\n405      22-09-JUANH-MJU  09/06/2022  293RD DISTRICT COURT            JUAN HUGO ALDACO                         \\n417      22-10-00582-MJU  10/14/2022  293RD DISTRICT COURT            CARLOS MANUEL RODRIGUEZ                  \\n     AGG ROBBERY                                                                                               \\n410      22-11-JUANP-MJU  11/04/2022  293RD DISTRICT COURT            JUAN PABLO RODRIGUEZ                     \\n414      22-11-ALEXA-MJU  11/16/2022  293RD DISTRICT COURT            ALEXANDER VILLEGAS                       \\n418      22-11-00584-MJU  11/16/2022  293RD DISTRICT COURT            DAVID J. ZAPATA CASTILLEJA               \\n     EVADING ARREST DETENTION                                                                                  \\n     CRIMINAL MISCHIEF >=$100<$750                                                                             \\n     EVADING ARREST DET W/VEH                                                                                  \\n436      23-02-00586-MJU  03/06/2023  293RD DISTRICT COURT            JONATHAN BALLONES                        \\n     POSS CS PG 1 >=1G<4G                                                                                      \\n435      23-03-00588-MJU  03/27/2023  293RD DISTRICT COURT            ADRIAN ALEXANDER MCGUIRE, JR             \\n     ASSAULT CAUSES BODILY INJ                                                                                 \\n     EVADING ARREST DETENTION                                                                                  \\n442      23-05-00590-MJU  05/08/2023  293RD DISTRICT COURT            NATHANIEL SETH PEREZ                     \\n     ASSAULT PEACE OFFICER/JUDGE                                                                               \\n     EVADING ARREST DET W/VEH                                                                                  \\n452      23-07-00592-MJU  07/29/2023  293RD DISTRICT COURT            ASHLEY BERNABE LEYVA                     \\n     EVADING ARREST DET W/VEH                                                                                  \\n\\nTOTAL JUVENILE CASES LISTED: 24\\n\\n\\x0c'"
      ]
     },
     "execution_count": 6,
     "metadata": {},
     "output_type": "execute_result"
    }
   ],
   "source": [
    "text"
   ]
  },
  {
   "cell_type": "markdown",
   "id": "e03a69c1",
   "metadata": {},
   "source": [
    "# Isolate Header"
   ]
  },
  {
   "cell_type": "code",
   "execution_count": 7,
   "id": "975c7a7d",
   "metadata": {},
   "outputs": [
    {
     "data": {
      "text/plain": [
       "'                         COURT COORDINATOR - JUVENILE CASE FILINGS\\n              FILE DATES: ON OR AFTER 08/24/2023 - COURT: 293RD DISTRICT COURT\\n              FILING COUNTY: MAVERICK - FILING OFFICE: DISTRICT CLERK - PAGE 1\\n\\nKEY              CAUSE #   FILE DATE  COURT                           RESPONDENT                              \\n     OFFENSE(S)                                                                    '"
      ]
     },
     "execution_count": 7,
     "metadata": {},
     "output_type": "execute_result"
    }
   ],
   "source": [
    "header = text[:420]\n",
    "header"
   ]
  },
  {
   "cell_type": "markdown",
   "id": "873ff11b",
   "metadata": {},
   "source": [
    "# Isolate Body"
   ]
  },
  {
   "cell_type": "code",
   "execution_count": 9,
   "id": "d5bf7119",
   "metadata": {},
   "outputs": [
    {
     "data": {
      "text/plain": [
       "'                            \\n\\n453      19-01-00554-MJU  01/10/2019  293RD DISTRICT COURT            GUERRA                                   \\n454      19-02-00556-MJU  02/07/2019  293RD DISTRICT COURT            RODRIGUEZ, ANTHONY                       \\n455      19-03-00558-MJU  03/20/2019  293RD DISTRICT COURT            CASTILLO                                 \\n456      19-04-00560-MJU  04/08/2019  293RD DISTRICT COURT            RODRIGUEZ                                \\n457      19-07-00562-MJU  07/09/2019  293RD DISTRICT COURT            CONTRERAS                                \\n458      19-08-00564-MJU  08/29/2019  293RD DISTRICT COURT            SANCHEZ                                  \\n459      20-01-00566-MJU  01/09/2020  293RD DISTRICT COURT            JIMENEZ, BRAULIO                         \\n2        20-02-00568-MJU  02/26/2020  293RD DISTRICT COURT            JUSTIN ANDREW RODRIGUEZ                  \\n3        20-05-00570-MJU  05/14/2020  293RD DISTRICT COURT            PEDRO MARTINEZ                           \\n368      21-05-00572-MJU  05/12/2021  293RD DISTRICT COURT            DIEGO CAZARES JR.                        \\n369      21-09-00574-MJU  09/24/2021  293RD DISTRICT COURT            LESLIE RAMOS                             \\n371      21-12-00576-MJU  12/07/2021  293RD DISTRICT COURT            OWYN ENRIQUE BELLIKKA                    \\n397      22-03-00578-MJU  03/28/2022  293RD DISTRICT COURT            JOSE REFUGIO CORTES                      \\n     HARASSMENT                                                                                                \\n402      22-07-00580-MJU  07/22/2022  293RD DISTRICT COURT            ANDRES ADRIAN HERNANDEZ                  \\n403      22-08-DAVIN-MJU  08/29/2022  293RD DISTRICT COURT            DAVIN THOMAS ST.ANN                      \\n405      22-09-JUANH-MJU  09/06/2022  293RD DISTRICT COURT            JUAN HUGO ALDACO                         \\n417      22-10-00582-MJU  10/14/2022  293RD DISTRICT COURT            CARLOS MANUEL RODRIGUEZ                  \\n     AGG ROBBERY                                                                                               \\n410      22-11-JUANP-MJU  11/04/2022  293RD DISTRICT COURT            JUAN PABLO RODRIGUEZ                     \\n414      22-11-ALEXA-MJU  11/16/2022  293RD DISTRICT COURT            ALEXANDER VILLEGAS                       \\n418      22-11-00584-MJU  11/16/2022  293RD DISTRICT COURT            DAVID J. ZAPATA CASTILLEJA               \\n     EVADING ARREST DETENTION                                                                                  \\n     CRIMINAL MISCHIEF >=$100<$750                                                                             \\n     EVADING ARREST DET W/VEH                                                                                  \\n436      23-02-00586-MJU  03/06/2023  293RD DISTRICT COURT            JONATHAN BALLONES                        \\n     POSS CS PG 1 >=1G<4G                                                                                      \\n435      23-03-00588-MJU  03/27/2023  293RD DISTRICT COURT            ADRIAN ALEXANDER MCGUIRE, JR             \\n     ASSAULT CAUSES BODILY INJ                                                                                 \\n     EVADING ARREST DETENTION                                                                                  \\n442      23-05-00590-MJU  05/08/2023  293RD DISTRICT COURT            NATHANIEL SETH PEREZ                     \\n     ASSAULT PEACE OFFICER/JUDGE                                                                               \\n     EVADING ARREST DET W/VEH                                                                                  \\n452      23-07-00592-MJU  07/29/2023  293RD DISTRICT COURT            ASHLEY BERNABE LEYVA                     \\n     EVADING ARREST DET W/VEH                                                                                  \\n\\nTOTAL JUVENILE CASES LISTED: 24\\n\\n\\x0c'"
      ]
     },
     "execution_count": 9,
     "metadata": {},
     "output_type": "execute_result"
    }
   ],
   "source": [
    "body = text[420:]\n",
    "body"
   ]
  },
  {
   "cell_type": "code",
   "execution_count": 10,
   "id": "1e976c78",
   "metadata": {},
   "outputs": [],
   "source": [
    "#Remove whitespace surrounding the body and header\n",
    "header = header.strip()\n",
    "body = body.strip()"
   ]
  },
  {
   "cell_type": "code",
   "execution_count": 11,
   "id": "323d6782",
   "metadata": {},
   "outputs": [
    {
     "data": {
      "text/plain": [
       "'COURT COORDINATOR - JUVENILE CASE FILINGS\\n              FILE DATES: ON OR AFTER 08/24/2023 - COURT: 293RD DISTRICT COURT\\n              FILING COUNTY: MAVERICK - FILING OFFICE: DISTRICT CLERK - PAGE 1\\n\\nKEY              CAUSE #   FILE DATE  COURT                           RESPONDENT                              \\n     OFFENSE(S)'"
      ]
     },
     "execution_count": 11,
     "metadata": {},
     "output_type": "execute_result"
    }
   ],
   "source": [
    "header"
   ]
  },
  {
   "cell_type": "code",
   "execution_count": 12,
   "id": "0d5f35a0",
   "metadata": {},
   "outputs": [
    {
     "data": {
      "text/plain": [
       "'453      19-01-00554-MJU  01/10/2019  293RD DISTRICT COURT            GUERRA                                   \\n454      19-02-00556-MJU  02/07/2019  293RD DISTRICT COURT            RODRIGUEZ, ANTHONY                       \\n455      19-03-00558-MJU  03/20/2019  293RD DISTRICT COURT            CASTILLO                                 \\n456      19-04-00560-MJU  04/08/2019  293RD DISTRICT COURT            RODRIGUEZ                                \\n457      19-07-00562-MJU  07/09/2019  293RD DISTRICT COURT            CONTRERAS                                \\n458      19-08-00564-MJU  08/29/2019  293RD DISTRICT COURT            SANCHEZ                                  \\n459      20-01-00566-MJU  01/09/2020  293RD DISTRICT COURT            JIMENEZ, BRAULIO                         \\n2        20-02-00568-MJU  02/26/2020  293RD DISTRICT COURT            JUSTIN ANDREW RODRIGUEZ                  \\n3        20-05-00570-MJU  05/14/2020  293RD DISTRICT COURT            PEDRO MARTINEZ                           \\n368      21-05-00572-MJU  05/12/2021  293RD DISTRICT COURT            DIEGO CAZARES JR.                        \\n369      21-09-00574-MJU  09/24/2021  293RD DISTRICT COURT            LESLIE RAMOS                             \\n371      21-12-00576-MJU  12/07/2021  293RD DISTRICT COURT            OWYN ENRIQUE BELLIKKA                    \\n397      22-03-00578-MJU  03/28/2022  293RD DISTRICT COURT            JOSE REFUGIO CORTES                      \\n     HARASSMENT                                                                                                \\n402      22-07-00580-MJU  07/22/2022  293RD DISTRICT COURT            ANDRES ADRIAN HERNANDEZ                  \\n403      22-08-DAVIN-MJU  08/29/2022  293RD DISTRICT COURT            DAVIN THOMAS ST.ANN                      \\n405      22-09-JUANH-MJU  09/06/2022  293RD DISTRICT COURT            JUAN HUGO ALDACO                         \\n417      22-10-00582-MJU  10/14/2022  293RD DISTRICT COURT            CARLOS MANUEL RODRIGUEZ                  \\n     AGG ROBBERY                                                                                               \\n410      22-11-JUANP-MJU  11/04/2022  293RD DISTRICT COURT            JUAN PABLO RODRIGUEZ                     \\n414      22-11-ALEXA-MJU  11/16/2022  293RD DISTRICT COURT            ALEXANDER VILLEGAS                       \\n418      22-11-00584-MJU  11/16/2022  293RD DISTRICT COURT            DAVID J. ZAPATA CASTILLEJA               \\n     EVADING ARREST DETENTION                                                                                  \\n     CRIMINAL MISCHIEF >=$100<$750                                                                             \\n     EVADING ARREST DET W/VEH                                                                                  \\n436      23-02-00586-MJU  03/06/2023  293RD DISTRICT COURT            JONATHAN BALLONES                        \\n     POSS CS PG 1 >=1G<4G                                                                                      \\n435      23-03-00588-MJU  03/27/2023  293RD DISTRICT COURT            ADRIAN ALEXANDER MCGUIRE, JR             \\n     ASSAULT CAUSES BODILY INJ                                                                                 \\n     EVADING ARREST DETENTION                                                                                  \\n442      23-05-00590-MJU  05/08/2023  293RD DISTRICT COURT            NATHANIEL SETH PEREZ                     \\n     ASSAULT PEACE OFFICER/JUDGE                                                                               \\n     EVADING ARREST DET W/VEH                                                                                  \\n452      23-07-00592-MJU  07/29/2023  293RD DISTRICT COURT            ASHLEY BERNABE LEYVA                     \\n     EVADING ARREST DET W/VEH                                                                                  \\n\\nTOTAL JUVENILE CASES LISTED: 24'"
      ]
     },
     "execution_count": 12,
     "metadata": {},
     "output_type": "execute_result"
    }
   ],
   "source": [
    "body"
   ]
  },
  {
   "cell_type": "markdown",
   "id": "26925abb",
   "metadata": {},
   "source": [
    "# Remove Subsequent Headers"
   ]
  },
  {
   "cell_type": "code",
   "execution_count": 19,
   "id": "08cdd91d",
   "metadata": {},
   "outputs": [
    {
     "data": {
      "text/plain": [
       "'453      19-01-00554-MJU  01/10/2019  293RD DISTRICT COURT            GUERRA                                   \\n454      19-02-00556-MJU  02/07/2019  293RD DISTRICT COURT            RODRIGUEZ, ANTHONY                       \\n455      19-03-00558-MJU  03/20/2019  293RD DISTRICT COURT            CASTILLO                                 \\n456      19-04-00560-MJU  04/08/2019  293RD DISTRICT COURT            RODRIGUEZ                                \\n457      19-07-00562-MJU  07/09/2019  293RD DISTRICT COURT            CONTRERAS                                \\n458      19-08-00564-MJU  08/29/2019  293RD DISTRICT COURT            SANCHEZ                                  \\n459      20-01-00566-MJU  01/09/2020  293RD DISTRICT COURT            JIMENEZ, BRAULIO                         \\n2        20-02-00568-MJU  02/26/2020  293RD DISTRICT COURT            JUSTIN ANDREW RODRIGUEZ                  \\n3        20-05-00570-MJU  05/14/2020  293RD DISTRICT COURT            PEDRO MARTINEZ                           \\n368      21-05-00572-MJU  05/12/2021  293RD DISTRICT COURT            DIEGO CAZARES JR.                        \\n369      21-09-00574-MJU  09/24/2021  293RD DISTRICT COURT            LESLIE RAMOS                             \\n371      21-12-00576-MJU  12/07/2021  293RD DISTRICT COURT            OWYN ENRIQUE BELLIKKA                    \\n397      22-03-00578-MJU  03/28/2022  293RD DISTRICT COURT            JOSE REFUGIO CORTES                      \\n     HARASSMENT                                                                                                \\n402      22-07-00580-MJU  07/22/2022  293RD DISTRICT COURT            ANDRES ADRIAN HERNANDEZ                  \\n403      22-08-DAVIN-MJU  08/29/2022  293RD DISTRICT COURT            DAVIN THOMAS ST.ANN                      \\n405      22-09-JUANH-MJU  09/06/2022  293RD DISTRICT COURT            JUAN HUGO ALDACO                         \\n417      22-10-00582-MJU  10/14/2022  293RD DISTRICT COURT            CARLOS MANUEL RODRIGUEZ                  \\n     AGG ROBBERY                                                                                               \\n410      22-11-JUANP-MJU  11/04/2022  293RD DISTRICT COURT            JUAN PABLO RODRIGUEZ                     \\n414      22-11-ALEXA-MJU  11/16/2022  293RD DISTRICT COURT            ALEXANDER VILLEGAS                       \\n418      22-11-00584-MJU  11/16/2022  293RD DISTRICT COURT            DAVID J. ZAPATA CASTILLEJA               \\n     EVADING ARREST DETENTION                                                                                  \\n     CRIMINAL MISCHIEF >=$100<$750                                                                             \\n     EVADING ARREST DET W/VEH                                                                                  \\n436      23-02-00586-MJU  03/06/2023  293RD DISTRICT COURT            JONATHAN BALLONES                        \\n     POSS CS PG 1 >=1G<4G                                                                                      \\n435      23-03-00588-MJU  03/27/2023  293RD DISTRICT COURT            ADRIAN ALEXANDER MCGUIRE, JR             \\n     ASSAULT CAUSES BODILY INJ                                                                                 \\n     EVADING ARREST DETENTION                                                                                  \\n442      23-05-00590-MJU  05/08/2023  293RD DISTRICT COURT            NATHANIEL SETH PEREZ                     \\n     ASSAULT PEACE OFFICER/JUDGE                                                                               \\n     EVADING ARREST DET W/VEH                                                                                  \\n452      23-07-00592-MJU  07/29/2023  293RD DISTRICT COURT            ASHLEY BERNABE LEYVA                     \\n     EVADING ARREST DET W/VEH                                                                                  \\n\\nTOTAL JUVENILE CASES LISTED: 24'"
      ]
     },
     "execution_count": 19,
     "metadata": {},
     "output_type": "execute_result"
    }
   ],
   "source": [
    "#Set up regex to remove all subsequent headers\n",
    "#This regex should identify the headers even if the name of the district clerk changes later on\n",
    "#Since all current juvenile case reports are only one page, make it work on the header and then add in\n",
    "# a page break at the beginning\n",
    "new_body = re.sub(r\"\"\"\\n\\x0c\\s*[A-Z0-9 \\n/#\\:-]*\\(S\\)\\s*\\n\\n\"\"\", '', body)\n",
    "new_body"
   ]
  },
  {
   "cell_type": "markdown",
   "id": "f09af2f8",
   "metadata": {},
   "source": [
    "# Split Into Individual Cases"
   ]
  },
  {
   "cell_type": "code",
   "execution_count": 20,
   "id": "e1de8852",
   "metadata": {},
   "outputs": [
    {
     "data": {
      "text/plain": [
       "['453      19-01-00554-MJU  01/10/2019  293RD DISTRICT COURT            GUERRA                                   ',\n",
       " '454      19-02-00556-MJU  02/07/2019  293RD DISTRICT COURT            RODRIGUEZ, ANTHONY                       ',\n",
       " '455      19-03-00558-MJU  03/20/2019  293RD DISTRICT COURT            CASTILLO                                 ',\n",
       " '456      19-04-00560-MJU  04/08/2019  293RD DISTRICT COURT            RODRIGUEZ                                ',\n",
       " '457      19-07-00562-MJU  07/09/2019  293RD DISTRICT COURT            CONTRERAS                                ',\n",
       " '458      19-08-00564-MJU  08/29/2019  293RD DISTRICT COURT            SANCHEZ                                  ',\n",
       " '459      20-01-00566-MJU  01/09/2020  293RD DISTRICT COURT            JIMENEZ, BRAULIO                         ',\n",
       " '2        20-02-00568-MJU  02/26/2020  293RD DISTRICT COURT            JUSTIN ANDREW RODRIGUEZ                  ',\n",
       " '3        20-05-00570-MJU  05/14/2020  293RD DISTRICT COURT            PEDRO MARTINEZ                           ',\n",
       " '368      21-05-00572-MJU  05/12/2021  293RD DISTRICT COURT            DIEGO CAZARES JR.                        ',\n",
       " '369      21-09-00574-MJU  09/24/2021  293RD DISTRICT COURT            LESLIE RAMOS                             ',\n",
       " '371      21-12-00576-MJU  12/07/2021  293RD DISTRICT COURT            OWYN ENRIQUE BELLIKKA                    ',\n",
       " '397      22-03-00578-MJU  03/28/2022  293RD DISTRICT COURT            JOSE REFUGIO CORTES                      ',\n",
       " '     HARASSMENT                                                                                                ',\n",
       " '402      22-07-00580-MJU  07/22/2022  293RD DISTRICT COURT            ANDRES ADRIAN HERNANDEZ                  ',\n",
       " '403      22-08-DAVIN-MJU  08/29/2022  293RD DISTRICT COURT            DAVIN THOMAS ST.ANN                      ',\n",
       " '405      22-09-JUANH-MJU  09/06/2022  293RD DISTRICT COURT            JUAN HUGO ALDACO                         ',\n",
       " '417      22-10-00582-MJU  10/14/2022  293RD DISTRICT COURT            CARLOS MANUEL RODRIGUEZ                  ',\n",
       " '     AGG ROBBERY                                                                                               ',\n",
       " '410      22-11-JUANP-MJU  11/04/2022  293RD DISTRICT COURT            JUAN PABLO RODRIGUEZ                     ',\n",
       " '414      22-11-ALEXA-MJU  11/16/2022  293RD DISTRICT COURT            ALEXANDER VILLEGAS                       ',\n",
       " '418      22-11-00584-MJU  11/16/2022  293RD DISTRICT COURT            DAVID J. ZAPATA CASTILLEJA               ',\n",
       " '     EVADING ARREST DETENTION                                                                                  ',\n",
       " '     CRIMINAL MISCHIEF >=$100<$750                                                                             ',\n",
       " '     EVADING ARREST DET W/VEH                                                                                  ',\n",
       " '436      23-02-00586-MJU  03/06/2023  293RD DISTRICT COURT            JONATHAN BALLONES                        ',\n",
       " '     POSS CS PG 1 >=1G<4G                                                                                      ',\n",
       " '435      23-03-00588-MJU  03/27/2023  293RD DISTRICT COURT            ADRIAN ALEXANDER MCGUIRE, JR             ',\n",
       " '     ASSAULT CAUSES BODILY INJ                                                                                 ',\n",
       " '     EVADING ARREST DETENTION                                                                                  ',\n",
       " '442      23-05-00590-MJU  05/08/2023  293RD DISTRICT COURT            NATHANIEL SETH PEREZ                     ',\n",
       " '     ASSAULT PEACE OFFICER/JUDGE                                                                               ',\n",
       " '     EVADING ARREST DET W/VEH                                                                                  ',\n",
       " '452      23-07-00592-MJU  07/29/2023  293RD DISTRICT COURT            ASHLEY BERNABE LEYVA                     ',\n",
       " '     EVADING ARREST DET W/VEH                                                                                  ',\n",
       " '',\n",
       " 'TOTAL JUVENILE CASES LISTED: 24']"
      ]
     },
     "execution_count": 20,
     "metadata": {},
     "output_type": "execute_result"
    }
   ],
   "source": [
    "cases = new_body.split('\\n')\n",
    "cases"
   ]
  },
  {
   "cell_type": "markdown",
   "id": "6512641c",
   "metadata": {},
   "source": [
    "# Drop the Last Case\n",
    "\n",
    "It's just the total case count"
   ]
  },
  {
   "cell_type": "code",
   "execution_count": 21,
   "id": "c7c56d61",
   "metadata": {},
   "outputs": [
    {
     "data": {
      "text/plain": [
       "'TOTAL JUVENILE CASES LISTED: 24'"
      ]
     },
     "execution_count": 21,
     "metadata": {},
     "output_type": "execute_result"
    }
   ],
   "source": [
    "cases[-1]"
   ]
  },
  {
   "cell_type": "code",
   "execution_count": 22,
   "id": "e0737a2f",
   "metadata": {},
   "outputs": [
    {
     "data": {
      "text/plain": [
       "''"
      ]
     },
     "execution_count": 22,
     "metadata": {},
     "output_type": "execute_result"
    }
   ],
   "source": [
    "cases.pop()\n",
    "cases[-1]"
   ]
  },
  {
   "cell_type": "markdown",
   "id": "d0d6982d",
   "metadata": {},
   "source": [
    "# Find the Data"
   ]
  },
  {
   "cell_type": "code",
   "execution_count": 23,
   "id": "4c5a5885",
   "metadata": {},
   "outputs": [
    {
     "data": {
      "text/plain": [
       "'453      19-01-00554-MJU  01/10/2019  293RD DISTRICT COURT            GUERRA                                   '"
      ]
     },
     "execution_count": 23,
     "metadata": {},
     "output_type": "execute_result"
    }
   ],
   "source": [
    "#Only work with the first case for now\n",
    "case = cases[0]\n",
    "case"
   ]
  },
  {
   "cell_type": "markdown",
   "id": "50591518",
   "metadata": {},
   "source": [
    "__Key__"
   ]
  },
  {
   "cell_type": "code",
   "execution_count": 27,
   "id": "b3750946",
   "metadata": {},
   "outputs": [
    {
     "data": {
      "text/plain": [
       "'453'"
      ]
     },
     "execution_count": 27,
     "metadata": {},
     "output_type": "execute_result"
    }
   ],
   "source": [
    "key = case[:9].strip()\n",
    "key"
   ]
  },
  {
   "cell_type": "markdown",
   "id": "943992b8",
   "metadata": {},
   "source": [
    "__Cause Number__"
   ]
  },
  {
   "cell_type": "code",
   "execution_count": 32,
   "id": "a0209439",
   "metadata": {},
   "outputs": [
    {
     "data": {
      "text/plain": [
       "'19-01-00554-MJU'"
      ]
     },
     "execution_count": 32,
     "metadata": {},
     "output_type": "execute_result"
    }
   ],
   "source": [
    "cause_number = case[9:26].strip()\n",
    "cause_number"
   ]
  },
  {
   "cell_type": "markdown",
   "id": "0ee567a3",
   "metadata": {},
   "source": [
    "__File Date__"
   ]
  },
  {
   "cell_type": "code",
   "execution_count": 36,
   "id": "0f3dd579",
   "metadata": {},
   "outputs": [
    {
     "data": {
      "text/plain": [
       "'01/10/2019'"
      ]
     },
     "execution_count": 36,
     "metadata": {},
     "output_type": "execute_result"
    }
   ],
   "source": [
    "file_date = case[26:38].strip()\n",
    "file_date"
   ]
  },
  {
   "cell_type": "markdown",
   "id": "8d49d528",
   "metadata": {},
   "source": [
    "__Court__"
   ]
  },
  {
   "cell_type": "code",
   "execution_count": 44,
   "id": "f3a9c245",
   "metadata": {},
   "outputs": [
    {
     "data": {
      "text/plain": [
       "'293RD DISTRICT COURT'"
      ]
     },
     "execution_count": 44,
     "metadata": {},
     "output_type": "execute_result"
    }
   ],
   "source": [
    "court = case[38:70].strip()\n",
    "court"
   ]
  },
  {
   "cell_type": "markdown",
   "id": "72d27061",
   "metadata": {},
   "source": [
    "__Respondent__"
   ]
  },
  {
   "cell_type": "code",
   "execution_count": 46,
   "id": "f5768c2e",
   "metadata": {},
   "outputs": [
    {
     "data": {
      "text/plain": [
       "'GUERRA'"
      ]
     },
     "execution_count": 46,
     "metadata": {},
     "output_type": "execute_result"
    }
   ],
   "source": [
    "respondent = case[70:].strip()\n",
    "respondent"
   ]
  },
  {
   "cell_type": "markdown",
   "id": "8af67f19",
   "metadata": {},
   "source": [
    "# Build a Dataframe"
   ]
  },
  {
   "cell_type": "code",
   "execution_count": 47,
   "id": "9cdee38c",
   "metadata": {},
   "outputs": [],
   "source": [
    "#Establish a container list for the dictionaries\n",
    "case_list = []\n",
    "offense_list = []\n",
    "temp_dict = {}"
   ]
  },
  {
   "cell_type": "code",
   "execution_count": 52,
   "id": "5096b0da",
   "metadata": {},
   "outputs": [],
   "source": [
    "for line in cases:\n",
    "    if line.isspace() or len(line) == 0:\n",
    "        continue\n",
    "    \n",
    "    #Check if line is the start of a new case\n",
    "    if not line[0].isspace():\n",
    "        #Check if the temp_dict is empty.\n",
    "        #If not, add temp_dict data to case_list\n",
    "        if bool(temp_dict) == True:\n",
    "            #Add list info to temp_dict\n",
    "            temp_dict['Offense'] = offense_list\n",
    "            \n",
    "            #Add temp dict data to case_list\n",
    "            case_list.append(temp_dict)\n",
    "        \n",
    "        #Reset temp_dict\n",
    "        temp_dict = {}\n",
    "        \n",
    "        #Reset lists\n",
    "        offense_list = []\n",
    "        \n",
    "        #Gather the cause number\n",
    "        temp_dict['Cause Number'] = line[9:26].strip()\n",
    "        \n",
    "        #Gather the file date\n",
    "        temp_dict['File Date'] = line[26:38].strip()\n",
    "        \n",
    "        #Get court\n",
    "        #temp_dict['Court'] = line[38:70].strip()\n",
    "        \n",
    "        #Get respondent\n",
    "        #temp_dict['Respondent'] = line[70:].strip()\n",
    "        \n",
    "        #End of line, so move to next one\n",
    "    \n",
    "    else:\n",
    "        #Get offenses\n",
    "        offense = line.strip()\n",
    "        \n",
    "        #Check if offense is all whitesapace. If not, strip it and add to list\n",
    "        #Also check that the string is not empty\n",
    "        if offense.isspace() == False and len(offense) > 0:\n",
    "            offense_list.append(offense.strip())\n",
    "        \n",
    "        #End of line\n",
    "        \n",
    "#Check that the last case was added to the list\n",
    "#If not, add it\n",
    "#Add list info to temp_dict\n",
    "temp_dict['Offense'] = offense_list\n",
    "\n",
    "#Add temp dict data to case_list\n",
    "case_list.append(temp_dict)"
   ]
  },
  {
   "cell_type": "code",
   "execution_count": 54,
   "id": "2c8ba252",
   "metadata": {},
   "outputs": [
    {
     "data": {
      "text/plain": [
       "24"
      ]
     },
     "execution_count": 54,
     "metadata": {},
     "output_type": "execute_result"
    }
   ],
   "source": [
    "len(case_list)"
   ]
  },
  {
   "cell_type": "code",
   "execution_count": 55,
   "id": "481476eb",
   "metadata": {},
   "outputs": [
    {
     "data": {
      "text/plain": [
       "[{'Cause Number': '19-01-00554-MJU', 'File Date': '01/10/2019', 'Offense': []},\n",
       " {'Cause Number': '19-02-00556-MJU', 'File Date': '02/07/2019', 'Offense': []},\n",
       " {'Cause Number': '19-03-00558-MJU', 'File Date': '03/20/2019', 'Offense': []},\n",
       " {'Cause Number': '19-04-00560-MJU', 'File Date': '04/08/2019', 'Offense': []},\n",
       " {'Cause Number': '19-07-00562-MJU', 'File Date': '07/09/2019', 'Offense': []},\n",
       " {'Cause Number': '19-08-00564-MJU', 'File Date': '08/29/2019', 'Offense': []},\n",
       " {'Cause Number': '20-01-00566-MJU', 'File Date': '01/09/2020', 'Offense': []},\n",
       " {'Cause Number': '20-02-00568-MJU', 'File Date': '02/26/2020', 'Offense': []},\n",
       " {'Cause Number': '20-05-00570-MJU', 'File Date': '05/14/2020', 'Offense': []},\n",
       " {'Cause Number': '21-05-00572-MJU', 'File Date': '05/12/2021', 'Offense': []},\n",
       " {'Cause Number': '21-09-00574-MJU', 'File Date': '09/24/2021', 'Offense': []},\n",
       " {'Cause Number': '21-12-00576-MJU', 'File Date': '12/07/2021', 'Offense': []},\n",
       " {'Cause Number': '22-03-00578-MJU',\n",
       "  'File Date': '03/28/2022',\n",
       "  'Offense': ['HARASSMENT']},\n",
       " {'Cause Number': '22-07-00580-MJU', 'File Date': '07/22/2022', 'Offense': []},\n",
       " {'Cause Number': '22-08-DAVIN-MJU', 'File Date': '08/29/2022', 'Offense': []},\n",
       " {'Cause Number': '22-09-JUANH-MJU', 'File Date': '09/06/2022', 'Offense': []},\n",
       " {'Cause Number': '22-10-00582-MJU',\n",
       "  'File Date': '10/14/2022',\n",
       "  'Offense': ['AGG ROBBERY']},\n",
       " {'Cause Number': '22-11-JUANP-MJU', 'File Date': '11/04/2022', 'Offense': []},\n",
       " {'Cause Number': '22-11-ALEXA-MJU', 'File Date': '11/16/2022', 'Offense': []},\n",
       " {'Cause Number': '22-11-00584-MJU',\n",
       "  'File Date': '11/16/2022',\n",
       "  'Offense': ['EVADING ARREST DETENTION',\n",
       "   'CRIMINAL MISCHIEF >=$100<$750',\n",
       "   'EVADING ARREST DET W/VEH']},\n",
       " {'Cause Number': '23-02-00586-MJU',\n",
       "  'File Date': '03/06/2023',\n",
       "  'Offense': ['POSS CS PG 1 >=1G<4G']},\n",
       " {'Cause Number': '23-03-00588-MJU',\n",
       "  'File Date': '03/27/2023',\n",
       "  'Offense': ['ASSAULT CAUSES BODILY INJ', 'EVADING ARREST DETENTION']},\n",
       " {'Cause Number': '23-05-00590-MJU',\n",
       "  'File Date': '05/08/2023',\n",
       "  'Offense': ['ASSAULT PEACE OFFICER/JUDGE', 'EVADING ARREST DET W/VEH']},\n",
       " {'Cause Number': '23-07-00592-MJU',\n",
       "  'File Date': '07/29/2023',\n",
       "  'Offense': ['EVADING ARREST DET W/VEH']}]"
      ]
     },
     "execution_count": 55,
     "metadata": {},
     "output_type": "execute_result"
    }
   ],
   "source": [
    "case_list"
   ]
  },
  {
   "cell_type": "code",
   "execution_count": 56,
   "id": "8e0d87d1",
   "metadata": {},
   "outputs": [
    {
     "data": {
      "text/html": [
       "<div>\n",
       "<style scoped>\n",
       "    .dataframe tbody tr th:only-of-type {\n",
       "        vertical-align: middle;\n",
       "    }\n",
       "\n",
       "    .dataframe tbody tr th {\n",
       "        vertical-align: top;\n",
       "    }\n",
       "\n",
       "    .dataframe thead th {\n",
       "        text-align: right;\n",
       "    }\n",
       "</style>\n",
       "<table border=\"1\" class=\"dataframe\">\n",
       "  <thead>\n",
       "    <tr style=\"text-align: right;\">\n",
       "      <th></th>\n",
       "      <th>Cause Number</th>\n",
       "      <th>File Date</th>\n",
       "      <th>Offense</th>\n",
       "    </tr>\n",
       "  </thead>\n",
       "  <tbody>\n",
       "    <tr>\n",
       "      <th>0</th>\n",
       "      <td>19-01-00554-MJU</td>\n",
       "      <td>01/10/2019</td>\n",
       "      <td>[]</td>\n",
       "    </tr>\n",
       "    <tr>\n",
       "      <th>1</th>\n",
       "      <td>19-02-00556-MJU</td>\n",
       "      <td>02/07/2019</td>\n",
       "      <td>[]</td>\n",
       "    </tr>\n",
       "    <tr>\n",
       "      <th>2</th>\n",
       "      <td>19-03-00558-MJU</td>\n",
       "      <td>03/20/2019</td>\n",
       "      <td>[]</td>\n",
       "    </tr>\n",
       "    <tr>\n",
       "      <th>3</th>\n",
       "      <td>19-04-00560-MJU</td>\n",
       "      <td>04/08/2019</td>\n",
       "      <td>[]</td>\n",
       "    </tr>\n",
       "    <tr>\n",
       "      <th>4</th>\n",
       "      <td>19-07-00562-MJU</td>\n",
       "      <td>07/09/2019</td>\n",
       "      <td>[]</td>\n",
       "    </tr>\n",
       "    <tr>\n",
       "      <th>5</th>\n",
       "      <td>19-08-00564-MJU</td>\n",
       "      <td>08/29/2019</td>\n",
       "      <td>[]</td>\n",
       "    </tr>\n",
       "    <tr>\n",
       "      <th>6</th>\n",
       "      <td>20-01-00566-MJU</td>\n",
       "      <td>01/09/2020</td>\n",
       "      <td>[]</td>\n",
       "    </tr>\n",
       "    <tr>\n",
       "      <th>7</th>\n",
       "      <td>20-02-00568-MJU</td>\n",
       "      <td>02/26/2020</td>\n",
       "      <td>[]</td>\n",
       "    </tr>\n",
       "    <tr>\n",
       "      <th>8</th>\n",
       "      <td>20-05-00570-MJU</td>\n",
       "      <td>05/14/2020</td>\n",
       "      <td>[]</td>\n",
       "    </tr>\n",
       "    <tr>\n",
       "      <th>9</th>\n",
       "      <td>21-05-00572-MJU</td>\n",
       "      <td>05/12/2021</td>\n",
       "      <td>[]</td>\n",
       "    </tr>\n",
       "    <tr>\n",
       "      <th>10</th>\n",
       "      <td>21-09-00574-MJU</td>\n",
       "      <td>09/24/2021</td>\n",
       "      <td>[]</td>\n",
       "    </tr>\n",
       "    <tr>\n",
       "      <th>11</th>\n",
       "      <td>21-12-00576-MJU</td>\n",
       "      <td>12/07/2021</td>\n",
       "      <td>[]</td>\n",
       "    </tr>\n",
       "    <tr>\n",
       "      <th>12</th>\n",
       "      <td>22-03-00578-MJU</td>\n",
       "      <td>03/28/2022</td>\n",
       "      <td>[HARASSMENT]</td>\n",
       "    </tr>\n",
       "    <tr>\n",
       "      <th>13</th>\n",
       "      <td>22-07-00580-MJU</td>\n",
       "      <td>07/22/2022</td>\n",
       "      <td>[]</td>\n",
       "    </tr>\n",
       "    <tr>\n",
       "      <th>14</th>\n",
       "      <td>22-08-DAVIN-MJU</td>\n",
       "      <td>08/29/2022</td>\n",
       "      <td>[]</td>\n",
       "    </tr>\n",
       "    <tr>\n",
       "      <th>15</th>\n",
       "      <td>22-09-JUANH-MJU</td>\n",
       "      <td>09/06/2022</td>\n",
       "      <td>[]</td>\n",
       "    </tr>\n",
       "    <tr>\n",
       "      <th>16</th>\n",
       "      <td>22-10-00582-MJU</td>\n",
       "      <td>10/14/2022</td>\n",
       "      <td>[AGG ROBBERY]</td>\n",
       "    </tr>\n",
       "    <tr>\n",
       "      <th>17</th>\n",
       "      <td>22-11-JUANP-MJU</td>\n",
       "      <td>11/04/2022</td>\n",
       "      <td>[]</td>\n",
       "    </tr>\n",
       "    <tr>\n",
       "      <th>18</th>\n",
       "      <td>22-11-ALEXA-MJU</td>\n",
       "      <td>11/16/2022</td>\n",
       "      <td>[]</td>\n",
       "    </tr>\n",
       "    <tr>\n",
       "      <th>19</th>\n",
       "      <td>22-11-00584-MJU</td>\n",
       "      <td>11/16/2022</td>\n",
       "      <td>[EVADING ARREST DETENTION, CRIMINAL MISCHIEF &gt;...</td>\n",
       "    </tr>\n",
       "    <tr>\n",
       "      <th>20</th>\n",
       "      <td>23-02-00586-MJU</td>\n",
       "      <td>03/06/2023</td>\n",
       "      <td>[POSS CS PG 1 &gt;=1G&lt;4G]</td>\n",
       "    </tr>\n",
       "    <tr>\n",
       "      <th>21</th>\n",
       "      <td>23-03-00588-MJU</td>\n",
       "      <td>03/27/2023</td>\n",
       "      <td>[ASSAULT CAUSES BODILY INJ, EVADING ARREST DET...</td>\n",
       "    </tr>\n",
       "    <tr>\n",
       "      <th>22</th>\n",
       "      <td>23-05-00590-MJU</td>\n",
       "      <td>05/08/2023</td>\n",
       "      <td>[ASSAULT PEACE OFFICER/JUDGE, EVADING ARREST D...</td>\n",
       "    </tr>\n",
       "    <tr>\n",
       "      <th>23</th>\n",
       "      <td>23-07-00592-MJU</td>\n",
       "      <td>07/29/2023</td>\n",
       "      <td>[EVADING ARREST DET W/VEH]</td>\n",
       "    </tr>\n",
       "  </tbody>\n",
       "</table>\n",
       "</div>"
      ],
      "text/plain": [
       "       Cause Number   File Date  \\\n",
       "0   19-01-00554-MJU  01/10/2019   \n",
       "1   19-02-00556-MJU  02/07/2019   \n",
       "2   19-03-00558-MJU  03/20/2019   \n",
       "3   19-04-00560-MJU  04/08/2019   \n",
       "4   19-07-00562-MJU  07/09/2019   \n",
       "5   19-08-00564-MJU  08/29/2019   \n",
       "6   20-01-00566-MJU  01/09/2020   \n",
       "7   20-02-00568-MJU  02/26/2020   \n",
       "8   20-05-00570-MJU  05/14/2020   \n",
       "9   21-05-00572-MJU  05/12/2021   \n",
       "10  21-09-00574-MJU  09/24/2021   \n",
       "11  21-12-00576-MJU  12/07/2021   \n",
       "12  22-03-00578-MJU  03/28/2022   \n",
       "13  22-07-00580-MJU  07/22/2022   \n",
       "14  22-08-DAVIN-MJU  08/29/2022   \n",
       "15  22-09-JUANH-MJU  09/06/2022   \n",
       "16  22-10-00582-MJU  10/14/2022   \n",
       "17  22-11-JUANP-MJU  11/04/2022   \n",
       "18  22-11-ALEXA-MJU  11/16/2022   \n",
       "19  22-11-00584-MJU  11/16/2022   \n",
       "20  23-02-00586-MJU  03/06/2023   \n",
       "21  23-03-00588-MJU  03/27/2023   \n",
       "22  23-05-00590-MJU  05/08/2023   \n",
       "23  23-07-00592-MJU  07/29/2023   \n",
       "\n",
       "                                              Offense  \n",
       "0                                                  []  \n",
       "1                                                  []  \n",
       "2                                                  []  \n",
       "3                                                  []  \n",
       "4                                                  []  \n",
       "5                                                  []  \n",
       "6                                                  []  \n",
       "7                                                  []  \n",
       "8                                                  []  \n",
       "9                                                  []  \n",
       "10                                                 []  \n",
       "11                                                 []  \n",
       "12                                       [HARASSMENT]  \n",
       "13                                                 []  \n",
       "14                                                 []  \n",
       "15                                                 []  \n",
       "16                                      [AGG ROBBERY]  \n",
       "17                                                 []  \n",
       "18                                                 []  \n",
       "19  [EVADING ARREST DETENTION, CRIMINAL MISCHIEF >...  \n",
       "20                             [POSS CS PG 1 >=1G<4G]  \n",
       "21  [ASSAULT CAUSES BODILY INJ, EVADING ARREST DET...  \n",
       "22  [ASSAULT PEACE OFFICER/JUDGE, EVADING ARREST D...  \n",
       "23                         [EVADING ARREST DET W/VEH]  "
      ]
     },
     "execution_count": 56,
     "metadata": {},
     "output_type": "execute_result"
    }
   ],
   "source": [
    "df = pd.DataFrame(case_list)\n",
    "df"
   ]
  },
  {
   "cell_type": "markdown",
   "id": "99bc992c",
   "metadata": {},
   "source": [
    "# Build the Function"
   ]
  },
  {
   "cell_type": "code",
   "execution_count": 62,
   "id": "c56b0639",
   "metadata": {},
   "outputs": [],
   "source": [
    "def extract_juvenile_cases(text):\n",
    "    \"\"\"\n",
    "    This function takes in the entire PDF document as a string of text. It will gather the info for each case\n",
    "    and add the info to a dictionary. The dictionary for each case will be added to a list which will be turned into\n",
    "    a dataframe.\n",
    "    \n",
    "    Parameter:\n",
    "        -text: A string consisting of the text of the entire juvenile cases PDF document.\n",
    "        \n",
    "    Returns:\n",
    "        -df: A dataframe of the newly gathered juvenile case info\n",
    "    \"\"\"\n",
    "    \n",
    "    #Initialize containers\n",
    "    #Establish a container list for the dictionaries\n",
    "    case_list = []\n",
    "    offense_list = []\n",
    "    temp_dict = {}\n",
    "    \n",
    "    #Get the header and remove surrounding whitespace\n",
    "    header = text[:420].strip()\n",
    "\n",
    "    #Get the body and remove surrounding whitespace\n",
    "    body = text[420:].strip()\n",
    "    \n",
    "    #Get the 'AS OF' date:\n",
    "    report_as_of_date = re.findall(r\"[0-9]{2}/[0-9]{2}/[0-9]{4}\", header)[0]\n",
    "    \n",
    "    #Use if statement to check for county names inside the header info\n",
    "    if header.count('MAVERICK') >= 1:\n",
    "        county = 'Maverick'\n",
    "    elif header.count('DIMMIT') >= 1:\n",
    "        county = 'Dimmit'\n",
    "    elif header.count('ZAVALA') >= 1:\n",
    "        county = 'Zavala'\n",
    "    else:\n",
    "        county = 'Something went wrong!'\n",
    "        \n",
    "    #Set up regex to remove all subsequent headers\n",
    "    #This regex should identify the headers even if some of the info changes later on\n",
    "    body = re.sub(r\"\"\"\\n\\x0c\\s*[A-Z0-9 \\n/#\\:-]*\\(S\\)\\s*\\n\\n\"\"\", '', body)\n",
    "    \n",
    "    #Split the text on the \\n to isolate each case\n",
    "    cases = body.split('\\n')\n",
    "    \n",
    "    #Drop the last case. It's just the total case count from the report\n",
    "    cases.pop()\n",
    "    \n",
    "    #Remove cases that happen to be empty or consist of whitespace only\n",
    "    cases = [case for case in cases if case.isspace() == False and len(case) > 0]\n",
    "    \n",
    "    #Loop through each line. Add case info to temp dict, and then add that to the case list\n",
    "    #Some fields are commented out because we don't need that info yet.\n",
    "    for line in cases:\n",
    "        #Check if line is the start of a new case\n",
    "        if not line[0].isspace():\n",
    "            #Check if the temp_dict is empty.\n",
    "            #If not, add temp_dict data to case_list\n",
    "            if bool(temp_dict) == True:\n",
    "                #Add list info to temp_dict\n",
    "                temp_dict['Offense'] = offense_list\n",
    "\n",
    "                #Add temp dict data to case_list\n",
    "                case_list.append(temp_dict)\n",
    "\n",
    "            #Reset temp_dict\n",
    "            temp_dict = {}\n",
    "\n",
    "            #Reset lists\n",
    "            offense_list = []\n",
    "            \n",
    "            #Assign the county\n",
    "            temp_dict['County'] = county\n",
    "\n",
    "            #Gather the cause number\n",
    "            temp_dict['Cause Number'] = line[9:26].strip()\n",
    "\n",
    "            #Gather the file date\n",
    "            temp_dict['File Date'] = line[26:38].strip()\n",
    "\n",
    "            #Get court\n",
    "            #temp_dict['Court'] = line[38:70].strip()\n",
    "\n",
    "            #Get respondent\n",
    "            #temp_dict['Respondent'] = line[70:].strip()\n",
    "\n",
    "            #End of line, so move to next one\n",
    "\n",
    "        else:\n",
    "            #Get offenses\n",
    "            offense = line.strip()\n",
    "\n",
    "            #Check if offense is all whitesapace. If not, strip it and add to list\n",
    "            #Also check that the string is not empty\n",
    "            if offense.isspace() == False and len(offense) > 0:\n",
    "                offense_list.append(offense.strip())\n",
    "\n",
    "            #End of line\n",
    "\n",
    "    #Check that the last case was added to the list\n",
    "    #If not, add it\n",
    "    #Add list info to temp_dict\n",
    "    temp_dict['Offense'] = offense_list\n",
    "\n",
    "    #Add temp dict data to case_list\n",
    "    case_list.append(temp_dict)\n",
    "    \n",
    "    #How many?\n",
    "    print(f'Collected Data From {len(case_list)} Cases.')\n",
    "    \n",
    "    #Create dataframe\n",
    "    df = pd.DataFrame(case_list)\n",
    "    \n",
    "    #Add report as of date\n",
    "    df[\"Original As Of Date\"] = report_as_of_date\n",
    "    df[\"Last As Of Date\"] = report_as_of_date\n",
    "    \n",
    "    return df"
   ]
  },
  {
   "cell_type": "markdown",
   "id": "755bba7a",
   "metadata": {},
   "source": [
    "# Test Function"
   ]
  },
  {
   "cell_type": "code",
   "execution_count": 75,
   "id": "943b439b",
   "metadata": {},
   "outputs": [],
   "source": [
    "#Set up the pdf path\n",
    "pdf_path = '/Users/johnathonsmith/Downloads/Juvenile_Case_Reports/MJU as of 8 24 23.pdf'"
   ]
  },
  {
   "cell_type": "code",
   "execution_count": 76,
   "id": "f59fefb1",
   "metadata": {},
   "outputs": [],
   "source": [
    "#Set up resource manager to handle pdf content. text, images, etc.\n",
    "resource_manager = PDFResourceManager()\n",
    "\n",
    "#Used to display text\n",
    "fake_file_handle = io.StringIO()\n",
    "\n",
    "#Set up converter\n",
    "converter = TextConverter(resource_manager, fake_file_handle, laparams=LAParams())\n",
    "\n",
    "#Set up page interpreter\n",
    "page_interpreter = PDFPageInterpreter(resource_manager, converter)\n",
    "\n",
    "with open(pdf_path, 'rb') as fh:\n",
    "\n",
    "    for page_num, page in enumerate(PDFPage.get_pages(fh, caching=True, check_extractable=True)):\n",
    "        #Process the current page\n",
    "        page_interpreter.process_page(page)\n",
    "\n",
    "    #Save the current page's text to a variable\n",
    "    text = fake_file_handle.getvalue()\n",
    "\n",
    "# close open handles\n",
    "converter.close()\n",
    "fake_file_handle.close()\n",
    "\n",
    "#print(text)"
   ]
  },
  {
   "cell_type": "code",
   "execution_count": 77,
   "id": "0b0fcc14",
   "metadata": {},
   "outputs": [
    {
     "name": "stdout",
     "output_type": "stream",
     "text": [
      "Collected Data From 24 Cases.\n"
     ]
    }
   ],
   "source": [
    "df = extract_juvenile_cases(text)"
   ]
  },
  {
   "cell_type": "code",
   "execution_count": 78,
   "id": "4dde765a",
   "metadata": {},
   "outputs": [
    {
     "data": {
      "text/html": [
       "<div>\n",
       "<style scoped>\n",
       "    .dataframe tbody tr th:only-of-type {\n",
       "        vertical-align: middle;\n",
       "    }\n",
       "\n",
       "    .dataframe tbody tr th {\n",
       "        vertical-align: top;\n",
       "    }\n",
       "\n",
       "    .dataframe thead th {\n",
       "        text-align: right;\n",
       "    }\n",
       "</style>\n",
       "<table border=\"1\" class=\"dataframe\">\n",
       "  <thead>\n",
       "    <tr style=\"text-align: right;\">\n",
       "      <th></th>\n",
       "      <th>County</th>\n",
       "      <th>Cause Number</th>\n",
       "      <th>File Date</th>\n",
       "      <th>Offense</th>\n",
       "      <th>Original As Of Date</th>\n",
       "      <th>Last As Of Date</th>\n",
       "    </tr>\n",
       "  </thead>\n",
       "  <tbody>\n",
       "    <tr>\n",
       "      <th>0</th>\n",
       "      <td>Maverick</td>\n",
       "      <td>19-01-00554-MJU</td>\n",
       "      <td>01/10/2019</td>\n",
       "      <td>[]</td>\n",
       "      <td>08/24/2023</td>\n",
       "      <td>08/24/2023</td>\n",
       "    </tr>\n",
       "    <tr>\n",
       "      <th>1</th>\n",
       "      <td>Maverick</td>\n",
       "      <td>19-02-00556-MJU</td>\n",
       "      <td>02/07/2019</td>\n",
       "      <td>[]</td>\n",
       "      <td>08/24/2023</td>\n",
       "      <td>08/24/2023</td>\n",
       "    </tr>\n",
       "    <tr>\n",
       "      <th>2</th>\n",
       "      <td>Maverick</td>\n",
       "      <td>19-03-00558-MJU</td>\n",
       "      <td>03/20/2019</td>\n",
       "      <td>[]</td>\n",
       "      <td>08/24/2023</td>\n",
       "      <td>08/24/2023</td>\n",
       "    </tr>\n",
       "    <tr>\n",
       "      <th>3</th>\n",
       "      <td>Maverick</td>\n",
       "      <td>19-04-00560-MJU</td>\n",
       "      <td>04/08/2019</td>\n",
       "      <td>[]</td>\n",
       "      <td>08/24/2023</td>\n",
       "      <td>08/24/2023</td>\n",
       "    </tr>\n",
       "    <tr>\n",
       "      <th>4</th>\n",
       "      <td>Maverick</td>\n",
       "      <td>19-07-00562-MJU</td>\n",
       "      <td>07/09/2019</td>\n",
       "      <td>[]</td>\n",
       "      <td>08/24/2023</td>\n",
       "      <td>08/24/2023</td>\n",
       "    </tr>\n",
       "    <tr>\n",
       "      <th>5</th>\n",
       "      <td>Maverick</td>\n",
       "      <td>19-08-00564-MJU</td>\n",
       "      <td>08/29/2019</td>\n",
       "      <td>[]</td>\n",
       "      <td>08/24/2023</td>\n",
       "      <td>08/24/2023</td>\n",
       "    </tr>\n",
       "    <tr>\n",
       "      <th>6</th>\n",
       "      <td>Maverick</td>\n",
       "      <td>20-01-00566-MJU</td>\n",
       "      <td>01/09/2020</td>\n",
       "      <td>[]</td>\n",
       "      <td>08/24/2023</td>\n",
       "      <td>08/24/2023</td>\n",
       "    </tr>\n",
       "    <tr>\n",
       "      <th>7</th>\n",
       "      <td>Maverick</td>\n",
       "      <td>20-02-00568-MJU</td>\n",
       "      <td>02/26/2020</td>\n",
       "      <td>[]</td>\n",
       "      <td>08/24/2023</td>\n",
       "      <td>08/24/2023</td>\n",
       "    </tr>\n",
       "    <tr>\n",
       "      <th>8</th>\n",
       "      <td>Maverick</td>\n",
       "      <td>20-05-00570-MJU</td>\n",
       "      <td>05/14/2020</td>\n",
       "      <td>[]</td>\n",
       "      <td>08/24/2023</td>\n",
       "      <td>08/24/2023</td>\n",
       "    </tr>\n",
       "    <tr>\n",
       "      <th>9</th>\n",
       "      <td>Maverick</td>\n",
       "      <td>21-05-00572-MJU</td>\n",
       "      <td>05/12/2021</td>\n",
       "      <td>[]</td>\n",
       "      <td>08/24/2023</td>\n",
       "      <td>08/24/2023</td>\n",
       "    </tr>\n",
       "    <tr>\n",
       "      <th>10</th>\n",
       "      <td>Maverick</td>\n",
       "      <td>21-09-00574-MJU</td>\n",
       "      <td>09/24/2021</td>\n",
       "      <td>[]</td>\n",
       "      <td>08/24/2023</td>\n",
       "      <td>08/24/2023</td>\n",
       "    </tr>\n",
       "    <tr>\n",
       "      <th>11</th>\n",
       "      <td>Maverick</td>\n",
       "      <td>21-12-00576-MJU</td>\n",
       "      <td>12/07/2021</td>\n",
       "      <td>[]</td>\n",
       "      <td>08/24/2023</td>\n",
       "      <td>08/24/2023</td>\n",
       "    </tr>\n",
       "    <tr>\n",
       "      <th>12</th>\n",
       "      <td>Maverick</td>\n",
       "      <td>22-03-00578-MJU</td>\n",
       "      <td>03/28/2022</td>\n",
       "      <td>[HARASSMENT]</td>\n",
       "      <td>08/24/2023</td>\n",
       "      <td>08/24/2023</td>\n",
       "    </tr>\n",
       "    <tr>\n",
       "      <th>13</th>\n",
       "      <td>Maverick</td>\n",
       "      <td>22-07-00580-MJU</td>\n",
       "      <td>07/22/2022</td>\n",
       "      <td>[]</td>\n",
       "      <td>08/24/2023</td>\n",
       "      <td>08/24/2023</td>\n",
       "    </tr>\n",
       "    <tr>\n",
       "      <th>14</th>\n",
       "      <td>Maverick</td>\n",
       "      <td>22-08-DAVIN-MJU</td>\n",
       "      <td>08/29/2022</td>\n",
       "      <td>[]</td>\n",
       "      <td>08/24/2023</td>\n",
       "      <td>08/24/2023</td>\n",
       "    </tr>\n",
       "    <tr>\n",
       "      <th>15</th>\n",
       "      <td>Maverick</td>\n",
       "      <td>22-09-JUANH-MJU</td>\n",
       "      <td>09/06/2022</td>\n",
       "      <td>[]</td>\n",
       "      <td>08/24/2023</td>\n",
       "      <td>08/24/2023</td>\n",
       "    </tr>\n",
       "    <tr>\n",
       "      <th>16</th>\n",
       "      <td>Maverick</td>\n",
       "      <td>22-10-00582-MJU</td>\n",
       "      <td>10/14/2022</td>\n",
       "      <td>[AGG ROBBERY]</td>\n",
       "      <td>08/24/2023</td>\n",
       "      <td>08/24/2023</td>\n",
       "    </tr>\n",
       "    <tr>\n",
       "      <th>17</th>\n",
       "      <td>Maverick</td>\n",
       "      <td>22-11-JUANP-MJU</td>\n",
       "      <td>11/04/2022</td>\n",
       "      <td>[]</td>\n",
       "      <td>08/24/2023</td>\n",
       "      <td>08/24/2023</td>\n",
       "    </tr>\n",
       "    <tr>\n",
       "      <th>18</th>\n",
       "      <td>Maverick</td>\n",
       "      <td>22-11-ALEXA-MJU</td>\n",
       "      <td>11/16/2022</td>\n",
       "      <td>[]</td>\n",
       "      <td>08/24/2023</td>\n",
       "      <td>08/24/2023</td>\n",
       "    </tr>\n",
       "    <tr>\n",
       "      <th>19</th>\n",
       "      <td>Maverick</td>\n",
       "      <td>22-11-00584-MJU</td>\n",
       "      <td>11/16/2022</td>\n",
       "      <td>[EVADING ARREST DETENTION, CRIMINAL MISCHIEF &gt;...</td>\n",
       "      <td>08/24/2023</td>\n",
       "      <td>08/24/2023</td>\n",
       "    </tr>\n",
       "    <tr>\n",
       "      <th>20</th>\n",
       "      <td>Maverick</td>\n",
       "      <td>23-02-00586-MJU</td>\n",
       "      <td>03/06/2023</td>\n",
       "      <td>[POSS CS PG 1 &gt;=1G&lt;4G]</td>\n",
       "      <td>08/24/2023</td>\n",
       "      <td>08/24/2023</td>\n",
       "    </tr>\n",
       "    <tr>\n",
       "      <th>21</th>\n",
       "      <td>Maverick</td>\n",
       "      <td>23-03-00588-MJU</td>\n",
       "      <td>03/27/2023</td>\n",
       "      <td>[ASSAULT CAUSES BODILY INJ, EVADING ARREST DET...</td>\n",
       "      <td>08/24/2023</td>\n",
       "      <td>08/24/2023</td>\n",
       "    </tr>\n",
       "    <tr>\n",
       "      <th>22</th>\n",
       "      <td>Maverick</td>\n",
       "      <td>23-05-00590-MJU</td>\n",
       "      <td>05/08/2023</td>\n",
       "      <td>[ASSAULT PEACE OFFICER/JUDGE, EVADING ARREST D...</td>\n",
       "      <td>08/24/2023</td>\n",
       "      <td>08/24/2023</td>\n",
       "    </tr>\n",
       "    <tr>\n",
       "      <th>23</th>\n",
       "      <td>Maverick</td>\n",
       "      <td>23-07-00592-MJU</td>\n",
       "      <td>07/29/2023</td>\n",
       "      <td>[EVADING ARREST DET W/VEH]</td>\n",
       "      <td>08/24/2023</td>\n",
       "      <td>08/24/2023</td>\n",
       "    </tr>\n",
       "  </tbody>\n",
       "</table>\n",
       "</div>"
      ],
      "text/plain": [
       "      County     Cause Number   File Date  \\\n",
       "0   Maverick  19-01-00554-MJU  01/10/2019   \n",
       "1   Maverick  19-02-00556-MJU  02/07/2019   \n",
       "2   Maverick  19-03-00558-MJU  03/20/2019   \n",
       "3   Maverick  19-04-00560-MJU  04/08/2019   \n",
       "4   Maverick  19-07-00562-MJU  07/09/2019   \n",
       "5   Maverick  19-08-00564-MJU  08/29/2019   \n",
       "6   Maverick  20-01-00566-MJU  01/09/2020   \n",
       "7   Maverick  20-02-00568-MJU  02/26/2020   \n",
       "8   Maverick  20-05-00570-MJU  05/14/2020   \n",
       "9   Maverick  21-05-00572-MJU  05/12/2021   \n",
       "10  Maverick  21-09-00574-MJU  09/24/2021   \n",
       "11  Maverick  21-12-00576-MJU  12/07/2021   \n",
       "12  Maverick  22-03-00578-MJU  03/28/2022   \n",
       "13  Maverick  22-07-00580-MJU  07/22/2022   \n",
       "14  Maverick  22-08-DAVIN-MJU  08/29/2022   \n",
       "15  Maverick  22-09-JUANH-MJU  09/06/2022   \n",
       "16  Maverick  22-10-00582-MJU  10/14/2022   \n",
       "17  Maverick  22-11-JUANP-MJU  11/04/2022   \n",
       "18  Maverick  22-11-ALEXA-MJU  11/16/2022   \n",
       "19  Maverick  22-11-00584-MJU  11/16/2022   \n",
       "20  Maverick  23-02-00586-MJU  03/06/2023   \n",
       "21  Maverick  23-03-00588-MJU  03/27/2023   \n",
       "22  Maverick  23-05-00590-MJU  05/08/2023   \n",
       "23  Maverick  23-07-00592-MJU  07/29/2023   \n",
       "\n",
       "                                              Offense Original As Of Date  \\\n",
       "0                                                  []          08/24/2023   \n",
       "1                                                  []          08/24/2023   \n",
       "2                                                  []          08/24/2023   \n",
       "3                                                  []          08/24/2023   \n",
       "4                                                  []          08/24/2023   \n",
       "5                                                  []          08/24/2023   \n",
       "6                                                  []          08/24/2023   \n",
       "7                                                  []          08/24/2023   \n",
       "8                                                  []          08/24/2023   \n",
       "9                                                  []          08/24/2023   \n",
       "10                                                 []          08/24/2023   \n",
       "11                                                 []          08/24/2023   \n",
       "12                                       [HARASSMENT]          08/24/2023   \n",
       "13                                                 []          08/24/2023   \n",
       "14                                                 []          08/24/2023   \n",
       "15                                                 []          08/24/2023   \n",
       "16                                      [AGG ROBBERY]          08/24/2023   \n",
       "17                                                 []          08/24/2023   \n",
       "18                                                 []          08/24/2023   \n",
       "19  [EVADING ARREST DETENTION, CRIMINAL MISCHIEF >...          08/24/2023   \n",
       "20                             [POSS CS PG 1 >=1G<4G]          08/24/2023   \n",
       "21  [ASSAULT CAUSES BODILY INJ, EVADING ARREST DET...          08/24/2023   \n",
       "22  [ASSAULT PEACE OFFICER/JUDGE, EVADING ARREST D...          08/24/2023   \n",
       "23                         [EVADING ARREST DET W/VEH]          08/24/2023   \n",
       "\n",
       "   Last As Of Date  \n",
       "0       08/24/2023  \n",
       "1       08/24/2023  \n",
       "2       08/24/2023  \n",
       "3       08/24/2023  \n",
       "4       08/24/2023  \n",
       "5       08/24/2023  \n",
       "6       08/24/2023  \n",
       "7       08/24/2023  \n",
       "8       08/24/2023  \n",
       "9       08/24/2023  \n",
       "10      08/24/2023  \n",
       "11      08/24/2023  \n",
       "12      08/24/2023  \n",
       "13      08/24/2023  \n",
       "14      08/24/2023  \n",
       "15      08/24/2023  \n",
       "16      08/24/2023  \n",
       "17      08/24/2023  \n",
       "18      08/24/2023  \n",
       "19      08/24/2023  \n",
       "20      08/24/2023  \n",
       "21      08/24/2023  \n",
       "22      08/24/2023  \n",
       "23      08/24/2023  "
      ]
     },
     "execution_count": 78,
     "metadata": {},
     "output_type": "execute_result"
    }
   ],
   "source": [
    "df"
   ]
  },
  {
   "cell_type": "code",
   "execution_count": null,
   "id": "a1dcfd29",
   "metadata": {},
   "outputs": [],
   "source": []
  }
 ],
 "metadata": {
  "kernelspec": {
   "display_name": "Python 3",
   "language": "python",
   "name": "python3"
  },
  "language_info": {
   "codemirror_mode": {
    "name": "ipython",
    "version": 3
   },
   "file_extension": ".py",
   "mimetype": "text/x-python",
   "name": "python",
   "nbconvert_exporter": "python",
   "pygments_lexer": "ipython3",
   "version": "3.9.1"
  }
 },
 "nbformat": 4,
 "nbformat_minor": 5
}
