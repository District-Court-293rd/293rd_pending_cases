{
 "cells": [
  {
   "cell_type": "code",
   "execution_count": 1,
   "id": "b151a316-2352-4b39-929a-178487802555",
   "metadata": {
    "tags": []
   },
   "outputs": [],
   "source": [
    "import pandas as pd\n",
    "import re\n",
    "import sys\n",
    "from PyPDF2 import PdfFileReader\n",
    "import docx2txt\n",
    "import openpyxl\n",
    "import gspread\n",
    "import df2gspread as d2g"
   ]
  },
  {
   "cell_type": "code",
   "execution_count": 2,
   "id": "8df22dd4",
   "metadata": {},
   "outputs": [],
   "source": [
    "#opens the google sheet of pending case notes\n",
    "    #sets the json to service account path\n",
    "json_path = gspread.service_account(filename = '/Users/hector/codeup-data-science/293pending_cases/pending_cases.json')\n",
    "    #opens the google sheet by key found in the address\n",
    "opens_civil_pending_gs = json_path.open_by_key('1b3fmZrbfwZWMvu4kUGJSSGsp61utlE0Ny-ebozZ5aBk')\n",
    "    #pulls the data from the google worksheet (civil_pending_notes tab)\n",
    "civil_pending_notes_tab = opens_civil_pending_gs.get_worksheet(0)\n",
    "    #puts the data from the google sheet and puts it into a dataframe\n",
    "civil_pending_notes = pd.DataFrame(civil_pending_notes_tab.get_all_records())"
   ]
  },
  {
   "cell_type": "code",
   "execution_count": null,
   "id": "43216eb1",
   "metadata": {
    "scrolled": true
   },
   "outputs": [],
   "source": [
    "#civil_pending_notes.shape"
   ]
  },
  {
   "cell_type": "code",
   "execution_count": null,
   "id": "41ab20ea",
   "metadata": {},
   "outputs": [],
   "source": [
    "#df['notes'].value_counts()"
   ]
  },
  {
   "cell_type": "code",
   "execution_count": null,
   "id": "258108ec",
   "metadata": {},
   "outputs": [],
   "source": [
    "#civil_pending_notes.info()"
   ]
  },
  {
   "cell_type": "code",
   "execution_count": 3,
   "id": "eebfa63d",
   "metadata": {},
   "outputs": [],
   "source": [
    "#Extract pdf text\n",
    "file = open('/Users/hector/Desktop/pau/CV.PEND.CASE_1-24-2022.pdf', 'rb') #opens pdf\n",
    "pdfReader = PdfFileReader(file) #reads pdf\n",
    "count = pdfReader.numPages #counts the number of pages\n",
    "content = \" \" #empty variable for the extracted text\n",
    "for i in range(count): #for loop to extract text from all pages\n",
    "    page = pdfReader.getPage(i) #gets page numbers\n",
    "    content += page.extractText() #extracts text from iterated pages\n",
    "    #print(content)#, file = open('yesterdays_causes.txt', 'a')) #prints cause numbers to file. I did this because the extracted texts was seperated into lists by pages.\n",
    "    \n",
    "    "
   ]
  },
  {
   "cell_type": "code",
   "execution_count": 4,
   "id": "94b9aaff",
   "metadata": {},
   "outputs": [],
   "source": [
    "#regex - finds and extracts cause_numbers, file_date, cause_action(24 character), docket_date, docket-type, plaintiff (21 character)\n",
    "finds_cause_numbers = re.findall(r'(\\d{2}-\\d{2}-\\d{5}-\\w*|\\d*-\\d*-\\d*-\\w*|\\d*-\\w*)\\s*(\\d{2}/\\d{2}/\\d{4})\\s*(\\D.{23})\\s*(\\d{2}/\\d{2}/\\d{4}|[ ]{0,1})(\\D.[M$][O$][T$][I$].{,12}|\\D.[W$][O$][N$]..{,12}|\\D.[T$][R$][I$]..{,12}|\\D.[J$][U$][R$]..{,12}|\\D.[S$][T$][A$]..{,12}|\\D.[H$][E$][A$]..{,12}|\\D.[P$][R$][E$]..{,12}|\\D.[E$][N$][T$]..{,12}|\\D.[P$][E$][T$]..{,12}|\\D.[F$][I$][N$]..{,12}|\\D.[C$][O$][M$]..{,12}|\\D.[P$][L$][E$]..{,12}|\\D.[N$][O$][T$]..{,12}|[ ]{0,1})\\s(\\D.{,20})', content)#pattern for cause number\n",
    "\n",
    "#\\s*(\\D.{,15}\\s*([ ]{0,1})\\s*([ ]{0,1})\\s*(\\D.{,20})\n"
   ]
  },
  {
   "cell_type": "code",
   "execution_count": 5,
   "id": "e923c089",
   "metadata": {},
   "outputs": [
    {
     "data": {
      "text/plain": [
       "(1147, 6)"
      ]
     },
     "execution_count": 5,
     "metadata": {},
     "output_type": "execute_result"
    }
   ],
   "source": [
    "pending_cause_number_df = pd.DataFrame(finds_cause_numbers, columns = ['cause_number', 'file_date', 'cause_of_action', 'docket_date', 'docket_type', \"plaintiff\"])#converts list into df\n",
    "pending_cause_number_df.shape\n"
   ]
  },
  {
   "cell_type": "code",
   "execution_count": 6,
   "id": "5c7ca096",
   "metadata": {},
   "outputs": [
    {
     "data": {
      "text/html": [
       "<div>\n",
       "<style scoped>\n",
       "    .dataframe tbody tr th:only-of-type {\n",
       "        vertical-align: middle;\n",
       "    }\n",
       "\n",
       "    .dataframe tbody tr th {\n",
       "        vertical-align: top;\n",
       "    }\n",
       "\n",
       "    .dataframe thead th {\n",
       "        text-align: right;\n",
       "    }\n",
       "</style>\n",
       "<table border=\"1\" class=\"dataframe\">\n",
       "  <thead>\n",
       "    <tr style=\"text-align: right;\">\n",
       "      <th></th>\n",
       "      <th>cause_number</th>\n",
       "      <th>file_date</th>\n",
       "      <th>cause_of_action</th>\n",
       "      <th>docket_date</th>\n",
       "      <th>docket_type</th>\n",
       "      <th>plaintiff</th>\n",
       "    </tr>\n",
       "  </thead>\n",
       "  <tbody>\n",
       "    <tr>\n",
       "      <th>0</th>\n",
       "      <td>7815-OTH</td>\n",
       "      <td>02/22/1985</td>\n",
       "      <td>1</td>\n",
       "      <td></td>\n",
       "      <td></td>\n",
       "      <td>ATTORNEY GENERAL</td>\n",
       "    </tr>\n",
       "    <tr>\n",
       "      <th>1</th>\n",
       "      <td>90-11-10256-CV</td>\n",
       "      <td>11/08/1990</td>\n",
       "      <td>1</td>\n",
       "      <td></td>\n",
       "      <td></td>\n",
       "      <td>ATTORNEY GENERAL</td>\n",
       "    </tr>\n",
       "    <tr>\n",
       "      <th>2</th>\n",
       "      <td>90-12-10326-CV</td>\n",
       "      <td>12/14/1990</td>\n",
       "      <td>INJURY OR DAMAGE OTHER T</td>\n",
       "      <td></td>\n",
       "      <td></td>\n",
       "      <td>DIAZ CARPENTER, ENRIQ</td>\n",
       "    </tr>\n",
       "    <tr>\n",
       "      <th>3</th>\n",
       "      <td>91-06-10598-CV</td>\n",
       "      <td>10/22/1993</td>\n",
       "      <td>MOTION ENFORCEMENT, TO M</td>\n",
       "      <td>09/13/1994</td>\n",
       "      <td>MOTION TO ENFORC</td>\n",
       "      <td>A</td>\n",
       "    </tr>\n",
       "    <tr>\n",
       "      <th>4</th>\n",
       "      <td>95-01-12880-CV</td>\n",
       "      <td>01/05/1995</td>\n",
       "      <td>1</td>\n",
       "      <td></td>\n",
       "      <td></td>\n",
       "      <td>ATTORNEY GENERAL</td>\n",
       "    </tr>\n",
       "  </tbody>\n",
       "</table>\n",
       "</div>"
      ],
      "text/plain": [
       "     cause_number   file_date           cause_of_action docket_date  \\\n",
       "0        7815-OTH  02/22/1985   1                                     \n",
       "1  90-11-10256-CV  11/08/1990   1                                     \n",
       "2  90-12-10326-CV  12/14/1990  INJURY OR DAMAGE OTHER T               \n",
       "3  91-06-10598-CV  10/22/1993  MOTION ENFORCEMENT, TO M  09/13/1994   \n",
       "4  95-01-12880-CV  01/05/1995   1                                     \n",
       "\n",
       "          docket_type              plaintiff  \n",
       "0                      ATTORNEY GENERAL       \n",
       "1                      ATTORNEY GENERAL       \n",
       "2                      DIAZ CARPENTER, ENRIQ  \n",
       "3    MOTION TO ENFORC                      A  \n",
       "4                      ATTORNEY GENERAL       "
      ]
     },
     "execution_count": 6,
     "metadata": {},
     "output_type": "execute_result"
    }
   ],
   "source": [
    "pending_cause_number_df.head(5)"
   ]
  },
  {
   "cell_type": "code",
   "execution_count": null,
   "id": "81bac6c7",
   "metadata": {},
   "outputs": [],
   "source": [
    "#df.to_csv('/Users/hector/Desktop/pau/cause.csv')#writes to csv"
   ]
  },
  {
   "cell_type": "code",
   "execution_count": null,
   "id": "4ad6c8a9",
   "metadata": {},
   "outputs": [],
   "source": [
    "#t_causenum is today's causenumber\n",
    "#pending_cause_number_df = pd.DataFrame(finds_cause_numbers, columns = ['cause_number'])#puts the extract cause number into a df\n",
    "#pending_cause_number_df.shape\n"
   ]
  },
  {
   "cell_type": "code",
   "execution_count": null,
   "id": "57c2691e",
   "metadata": {},
   "outputs": [],
   "source": [
    "#pending_cause_number_df"
   ]
  },
  {
   "cell_type": "code",
   "execution_count": null,
   "id": "9ae7edee",
   "metadata": {},
   "outputs": [],
   "source": [
    "df = civil_pending_notes.merge(pending_cause_number_df, how = 'outer', on = 'cause_number')\n",
    "#df\n"
   ]
  },
  {
   "cell_type": "code",
   "execution_count": null,
   "id": "ef5485d6",
   "metadata": {},
   "outputs": [],
   "source": [
    "#adds both lists together in order to search for dups later\n",
    "#df = civil_pending_notes.append(pd.DataFrame(pending_cause_number_df, columns=['cause_number']), ignore_index=True)\n",
    "#df.shape"
   ]
  },
  {
   "cell_type": "code",
   "execution_count": null,
   "id": "6b21269d",
   "metadata": {},
   "outputs": [],
   "source": [
    "#df.to_csv('/Users/hector/Desktop/pau/cause.csv')#writes to csv"
   ]
  },
  {
   "cell_type": "code",
   "execution_count": null,
   "id": "0a733aa2",
   "metadata": {},
   "outputs": [],
   "source": [
    "    #drops the duplicated cause numbers and reindexes the dataframe\n",
    "    #resets the index and drops the output index\n",
    "    #fills in the na with an empty space to avoid error\n",
    "df = df.drop_duplicates('cause_number').reset_index(drop=True).fillna(' ')\n",
    "#df.shape\n"
   ]
  },
  {
   "cell_type": "code",
   "execution_count": null,
   "id": "90fd6b80",
   "metadata": {},
   "outputs": [],
   "source": [
    "#df.to_csv('/Users/hector/Desktop/pau/causenew.csv')#writes to csv"
   ]
  },
  {
   "cell_type": "code",
   "execution_count": null,
   "id": "84806d5d",
   "metadata": {},
   "outputs": [],
   "source": [
    "total = df.cause_number.count()\n",
    "total"
   ]
  },
  {
   "cell_type": "code",
   "execution_count": null,
   "id": "17d8c08a",
   "metadata": {},
   "outputs": [],
   "source": [
    "disposed = (df['disposed']).value_counts()['TRUE']"
   ]
  },
  {
   "cell_type": "code",
   "execution_count": null,
   "id": "3936b6c4",
   "metadata": {},
   "outputs": [],
   "source": [
    "pending = total - disposed\n",
    "pending"
   ]
  },
  {
   "cell_type": "code",
   "execution_count": null,
   "id": "cdba0f67",
   "metadata": {},
   "outputs": [],
   "source": []
  },
  {
   "cell_type": "code",
   "execution_count": null,
   "id": "71b1d81d",
   "metadata": {},
   "outputs": [],
   "source": []
  },
  {
   "cell_type": "code",
   "execution_count": null,
   "id": "56996e73",
   "metadata": {},
   "outputs": [],
   "source": [
    "#civil_pending_notes_tab.clear()"
   ]
  },
  {
   "cell_type": "code",
   "execution_count": null,
   "id": "6ce21bcc",
   "metadata": {},
   "outputs": [],
   "source": [
    "#civil_pending_notes_tab.update([df.columns.values.tolist()] + df.values.tolist())"
   ]
  },
  {
   "cell_type": "code",
   "execution_count": null,
   "id": "40ba0e78",
   "metadata": {},
   "outputs": [],
   "source": []
  },
  {
   "cell_type": "code",
   "execution_count": null,
   "id": "978dbe1a",
   "metadata": {},
   "outputs": [],
   "source": []
  },
  {
   "cell_type": "markdown",
   "id": "4f4e954e",
   "metadata": {},
   "source": [
    "# SCRATCH code"
   ]
  },
  {
   "cell_type": "code",
   "execution_count": null,
   "id": "a353fc58",
   "metadata": {
    "tags": []
   },
   "outputs": [],
   "source": [
    "pending_cause_number_df"
   ]
  },
  {
   "cell_type": "code",
   "execution_count": null,
   "id": "61c2f450",
   "metadata": {},
   "outputs": [],
   "source": [
    "#adds both lists together in order to search for dups later\n",
    "df = civil_pending_notes.append(pd.DataFrame(pending_cause_number_df, columns=['cause_number']), ignore_index=True)\n",
    "df"
   ]
  },
  {
   "cell_type": "code",
   "execution_count": null,
   "id": "2c7641ec",
   "metadata": {},
   "outputs": [],
   "source": [
    "#drops the duplicated cause numbers\n",
    "df = df.drop_duplicates('cause_number').fillna(' ').reset_index(drop=True)\n",
    "df"
   ]
  },
  {
   "cell_type": "code",
   "execution_count": null,
   "id": "965288c7",
   "metadata": {},
   "outputs": [],
   "source": [
    "# add a sheet with 20 rows and 2 columns\n",
    "opens_civil_pending_gs.add_worksheet(rows=2000,cols=10,title='new')\n",
    "\n",
    "# get the instance of the second sheet\n",
    "civil_pending_notes = opens_civil_pending_gs.get_worksheet(1)"
   ]
  },
  {
   "cell_type": "code",
   "execution_count": null,
   "id": "15ea0f05",
   "metadata": {},
   "outputs": [],
   "source": [
    "    #updates the google sheet with the new list of pending cases\n",
    "civil_pending_notes.update([df.columns.values.tolist()] + df.values.tolist())"
   ]
  },
  {
   "cell_type": "code",
   "execution_count": null,
   "id": "0eaf715f",
   "metadata": {},
   "outputs": [],
   "source": [
    "civil_pending_notes"
   ]
  },
  {
   "cell_type": "code",
   "execution_count": null,
   "id": "5399661d",
   "metadata": {},
   "outputs": [],
   "source": [
    "rangeAll = '{0}!A1:Z'.format( sheetName )\n",
    "body = {}\n",
    "resultClear = service.spreadsheets( ).batchUpdate().values( ).clear( spreadsheetId=spreadsheet_id, range=rangeAll,\n",
    "                                                       body=body ).execute( )"
   ]
  },
  {
   "cell_type": "code",
   "execution_count": null,
   "id": "7adce5c6",
   "metadata": {},
   "outputs": [],
   "source": [
    "gc = gspread.service_account(filename = '/Users/hector/Desktop/pau/pending_cases.json')\n",
    "sht1 = gc.open_by_key('1b3fmZrbfwZWMvu4kUGJSSGsp61utlE0Ny-ebozZ5aBk')\n"
   ]
  },
  {
   "cell_type": "code",
   "execution_count": null,
   "id": "45b5684e",
   "metadata": {},
   "outputs": [],
   "source": [
    "worksheet = sht1.get_worksheet(0)"
   ]
  },
  {
   "cell_type": "code",
   "execution_count": null,
   "id": "197a800b",
   "metadata": {
    "scrolled": true
   },
   "outputs": [],
   "source": [
    "\n",
    "civil_pending_notes = pd.DataFrame(worksheet.get_all_records())\n"
   ]
  },
  {
   "cell_type": "code",
   "execution_count": null,
   "id": "6d58c3a0",
   "metadata": {},
   "outputs": [],
   "source": [
    "#civil_pending_notes = pd.read_excel('civil_pending.xlsx')\n",
    "civil_pending_notes\n"
   ]
  },
  {
   "cell_type": "code",
   "execution_count": null,
   "id": "85d04fad",
   "metadata": {},
   "outputs": [],
   "source": [
    "df = df.fillna(' ')\n",
    "df"
   ]
  },
  {
   "cell_type": "code",
   "execution_count": null,
   "id": "100c05b6",
   "metadata": {},
   "outputs": [],
   "source": [
    "worksheet.update([df.columns.values.tolist()] + df.values.tolist())"
   ]
  },
  {
   "cell_type": "code",
   "execution_count": null,
   "id": "78e3878b",
   "metadata": {},
   "outputs": [],
   "source": [
    "#prints to excel\n",
    "#add notes to this excel file\n",
    "df.to_excel('pending_cause_numbers.xlsx', sheet_name='pending_cause_numbers')  \n",
    "\n",
    "#New version of this will be a google sheet"
   ]
  },
  {
   "cell_type": "code",
   "execution_count": null,
   "id": "c2dda7bc-4aff-4292-ac1a-2742c24cca58",
   "metadata": {
    "tags": []
   },
   "outputs": [],
   "source": [
    "#opens and reads the previous days pending report i.e. 'yesterdays_pending.pdf'\n",
    "file = open('yesterdays_pending.pdf', 'rb') #opens pdf\n",
    "pdfReader = PdfFileReader(file) #reads pdf\n",
    "count = pdfReader.numPages #counts the number of pages\n",
    "content = \" \"\n",
    "for i in range(count): #for loop to extract text from all pages\n",
    "    page = pdfReader.getPage(i) #gets page numbers\n",
    "    content += page.extractText() #extracts text from iterated pages\n",
    "    print(content)#, file = open('yesterdays_causes.txt', 'a')) #prints cause numbers to file. I did this because the extracted texts was seperated into lists by pages.\n",
    "    \n",
    "    "
   ]
  },
  {
   "cell_type": "code",
   "execution_count": null,
   "id": "71c2b394",
   "metadata": {},
   "outputs": [],
   "source": [
    "#extracts cause numbers from the previous day's pending report\n",
    "y_causenum = re.findall(r'\\d{2}-\\d{2}-\\d{5}-\\w*', content)\n",
    "yesterday_df = pd.DataFrame(y_causenum, columns = ['cause_number'])#puts it into a df\n",
    "yesterday_df.shape"
   ]
  },
  {
   "cell_type": "code",
   "execution_count": null,
   "id": "5852f3c7",
   "metadata": {},
   "outputs": [],
   "source": [
    "#adds both lists together in order to search for dups later\n",
    "df = todays_df.append(pd.DataFrame(y_causenum, columns=['cause_number']), ignore_index=True)\n",
    "df.shape #shape of total rows\n"
   ]
  },
  {
   "cell_type": "code",
   "execution_count": null,
   "id": "5ee1855c",
   "metadata": {},
   "outputs": [],
   "source": [
    "#drops the duplicated cause numbers\n",
    "df = df.drop_duplicates()\n",
    "df.shape"
   ]
  },
  {
   "cell_type": "code",
   "execution_count": null,
   "id": "6e1ecfbb",
   "metadata": {},
   "outputs": [],
   "source": [
    "df"
   ]
  },
  {
   "cell_type": "code",
   "execution_count": null,
   "id": "a735e8f6",
   "metadata": {},
   "outputs": [],
   "source": [
    "#prints to excel\n",
    "#add notes to this excel file\n",
    "df.to_excel('pending_causes.xlsx', sheet_name='pending_cause_numbers')  \n",
    "\n",
    "#New version of this will be a google sheet"
   ]
  },
  {
   "cell_type": "code",
   "execution_count": null,
   "id": "2cf98144",
   "metadata": {},
   "outputs": [],
   "source": [
    "#reads in the most recent excel file that has notes ie 'latest_df'\n",
    "latest_df = pd.read_excel('pending_causes.xlsx', index_col=0)#index_col = 0 so that it does not add in another indexed col\n",
    "#this will read in a google sheet that has the notes in it\n"
   ]
  },
  {
   "cell_type": "code",
   "execution_count": null,
   "id": "2badac7c",
   "metadata": {},
   "outputs": [],
   "source": [
    "latest_df"
   ]
  },
  {
   "cell_type": "code",
   "execution_count": null,
   "id": "d5e1bdbb",
   "metadata": {},
   "outputs": [],
   "source": [
    "#opens and reads the previous days pending report i.e. 'yesterdays_pending.pdf'\n",
    "file = open('7_pen.pdf', 'rb') #opens pdf\n",
    "pdfReader = PdfFileReader(file) #reads pdf\n",
    "count = pdfReader.numPages #counts the number of pages\n",
    "content = \" \"\n",
    "for i in range(count): #for loop to extract text from all pages\n",
    "    page = pdfReader.getPage(i) #gets page numbers\n",
    "    content += page.extractText() #extracts text from iterated pages\n",
    "    print(content)#, file = open('yesterdays_causes.txt', 'a')) #prints cause numbers to file. I did this because the extracted texts was seperated into lists by pages.\n",
    "    \n",
    "    "
   ]
  },
  {
   "cell_type": "code",
   "execution_count": null,
   "id": "bb01c46c",
   "metadata": {},
   "outputs": [],
   "source": [
    "#extracts new day report cause numbers to be compared to latest report\n",
    "t_causenum = re.findall(r'\\d{2}-\\d{2}-\\d{5}-\\w*', content)\n",
    "todays_df = pd.DataFrame(t_causenum, columns = ['cause_number'])"
   ]
  },
  {
   "cell_type": "code",
   "execution_count": null,
   "id": "0659edfe",
   "metadata": {},
   "outputs": [],
   "source": [
    "todays_df"
   ]
  },
  {
   "cell_type": "code",
   "execution_count": null,
   "id": "ba9dc6a9",
   "metadata": {},
   "outputs": [],
   "source": [
    "#takes the new day report and adds it to the latest report for comparison\n",
    "df = latest_df.append(pd.DataFrame(todays_df, columns=['cause_number']), ignore_index=True) #adds both lists together in order to search for dups later\n",
    "df\n"
   ]
  },
  {
   "cell_type": "code",
   "execution_count": null,
   "id": "58c04c86",
   "metadata": {},
   "outputs": [],
   "source": [
    "#drops the duplicated cause numbers\n",
    "df = df.drop_duplicates() \n",
    "df\n",
    "###Needs to be reindexes!!"
   ]
  },
  {
   "cell_type": "code",
   "execution_count": null,
   "id": "1b2e6a08",
   "metadata": {},
   "outputs": [],
   "source": [
    "#prints back to excel\n",
    "#update this file\n",
    "df.to_excel(\"_pending_causes.xlsx\", sheet_name='pending_cause_numbers')  \n",
    "\n",
    "#New version of this will go back to the google sheet"
   ]
  },
  {
   "cell_type": "code",
   "execution_count": null,
   "id": "0d55179e-8a07-4055-b9ce-84cc640c859e",
   "metadata": {
    "tags": []
   },
   "outputs": [],
   "source": [
    "#duplicated=df[df.duplicated()] #finds all duplicates\n",
    "#duplicated.shape #count of rows and columns of the duplicated cause numbers"
   ]
  },
  {
   "cell_type": "code",
   "execution_count": null,
   "id": "ef76406e",
   "metadata": {},
   "outputs": [],
   "source": [
    "#shows ONLY the duplicates\n",
    "#duplicated.sort_values('cause_number')"
   ]
  }
 ],
 "metadata": {
  "kernelspec": {
   "display_name": "Python 3 (ipykernel)",
   "language": "python",
   "name": "python3"
  },
  "language_info": {
   "codemirror_mode": {
    "name": "ipython",
    "version": 3
   },
   "file_extension": ".py",
   "mimetype": "text/x-python",
   "name": "python",
   "nbconvert_exporter": "python",
   "pygments_lexer": "ipython3",
   "version": "3.10.1"
  }
 },
 "nbformat": 4,
 "nbformat_minor": 5
}
