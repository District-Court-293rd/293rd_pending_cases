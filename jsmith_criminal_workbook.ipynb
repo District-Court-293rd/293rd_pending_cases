{
 "cells": [
  {
   "cell_type": "code",
   "execution_count": 1,
   "id": "76f4fbb4",
   "metadata": {},
   "outputs": [],
   "source": [
    "import numpy as np\n",
    "import pandas as pd\n",
    "import re\n",
    "from pdfminer3.layout import LAParams, LTTextBox\n",
    "from pdfminer3.pdfpage import PDFPage\n",
    "from pdfminer3.pdfinterp import PDFResourceManager\n",
    "from pdfminer3.pdfinterp import PDFPageInterpreter\n",
    "from pdfminer3.converter import PDFPageAggregator\n",
    "from pdfminer3.converter import TextConverter\n",
    "import io\n",
    "\n",
    "#Custom module\n",
    "import jsmith_acquire"
   ]
  },
  {
   "cell_type": "markdown",
   "id": "7994a293",
   "metadata": {},
   "source": [
    "# Read In Criminal Case PDF\n",
    "\n",
    "Start with just the first page. Break it down and gather the available info."
   ]
  },
  {
   "cell_type": "code",
   "execution_count": 2,
   "id": "3b3a3f19",
   "metadata": {},
   "outputs": [],
   "source": [
    "#Set up the pdf path\n",
    "pdf_path = '/Users/johnathonsmith/Downloads/CR.PEND_Maverick_1-21-2022.pdf'"
   ]
  },
  {
   "cell_type": "code",
   "execution_count": 3,
   "id": "a5075f26",
   "metadata": {},
   "outputs": [
    {
     "name": "stdout",
     "output_type": "stream",
     "text": [
      "                                                  MAVERICK COUNTY CRIMINAL PENDING REPORT -- PAGE: 1\n",
      "                                                           LEOPOLDO VIELMA, DISTRICT CLERK\n",
      "                                                              RUN ON 01/21/2022  09:52am\n",
      "                                                                   AS OF 01/21/2022\n",
      "\n",
      "CAUSE #           FILE DATE  DEFENDANT NAME             ATTORNEY         BONDSMAN NAME    OFFENSE DESCRIPTION                  CASE STATUS            \n",
      "00-05-05160-CR   05/09/2000  LOZANO JR., JUAN JESUS     HERNANDEZ, FELI                   DEADLY CONDUCT DISCHARGE FIREARM     ACTIVE                 \n",
      "02-02-05382-MCR  02/08/2002  FLORES, MARIA DEL ROSARIO  RHODES, CRAWFOR                   POSS MARIJ >5LBS<=50LBS              ACTIVE                 \n",
      "03-03-05484-MCR  03/27/2003  FUENTES-GARCIA, OSCAR      RAMON, ALBERTO                    BURGLARY OF HABITATION               ACTIVE                 \n",
      "03-03-05485-MCR  03/27/2003  FUENTES-GARCIA, OSCAR                                        POSS CS PG 1 >=4G<200G               ACTIVE                 \n",
      "04-09-05658-MCR  09/30/2004  MENCHACA, MARTHA           HARPER, JAD P.                    THEFT PROP>=$1500<$20K               ACTIVE                 \n",
      "04-10-05690-MCR  10/28/2004  TREVINO, CARLOS JESUS      GONZALEZ, DANIE                   THEFT PROP>=$1500<$20K               ACTIVE                 \n",
      "05-05-05774-MCR  05/12/2005  NAVARRO, CARMEN            TORRES, GREGORY                   POSS MARIJ >5LBS<=50LBS              ACTIVE                 \n",
      "07-06-06074-MCR  06/22/2007  DE LEON, MARIO ENRIQUE                                       POSS CS PG 4 >=28G<200G              ACTIVE                 \n",
      "08-12-06344-MCR  12/03/2008  HERNANDEZ, MANUEL ANGEL    JUAREZ, EDGAR    ACES BONDING CO  AGG ASSAULT W/DEADLY WEAPON          ACTIVE                 \n",
      "09-11-06538-MCR  11/03/2009  FUENTES, RENE                                                INDECENCY W/CHILD SEXUAL CONTACT     ACTIVE                 \n",
      "09-11-06539-MCR  11/03/2009  FUENTES, RENE                                                INDECENCY W/CHILD SEXUAL CONTACT     ACTIVE                 \n",
      "09-11-06546-MCR  11/03/2009  CALDERA, JUAN CARLOS       TORRES, GREGORY                   DRIVING WHILE INTOXICATED 3RD OR MO  ACTIVE                 \n",
      "09-11-06552-MCR  11/03/2009  MARTINEZ, SALVADOR ADRIAN                                    SEXUAL ASSAULT CHILD                 ACTIVE                 \n",
      "10-08-06732-MCR  08/27/2010  CEDILLO, JESUS ANDRES      HEREDIA, CLAUDI                   DEL MARIJ >50LBS<=2,000LBS           ACTIVE                 \n",
      "10-08-06734-MCR  08/27/2010  RAMIREZ, MARTIN A.                                           POSS MARIJ >50LBS<=2,000LBS          ACTIVE                 \n",
      "11-04-06866-MCR  04/29/2011  REQUENA, ROLANDO SOTO      ROMAN, ARMANDO                    DRIVING WHILE INTOXICATED 3RD OR MO  ACTIVE                 \n",
      "11-12-06988-MCR  12/09/2011  RIOS, DANIEL OJEDA         TORRES, GREGORY                   AGG ASSAULT W/DEADLY WEAPON          ACTIVE                 \n",
      "12-10-07116-MCR  10/12/2012  GONZALEZ, CRUZ JOSE                                          POSS MARIJ >50LBS<=2,000LBS          ACTIVE                 \n",
      "12-11-07152-MCR  11/30/2012  CHAVEZ, JOSE FEDERICO                                        AGG SEXUAL ASSAULT CHILD             ACTIVE                 \n",
      "13-04-07238-MCR  04/17/2013  APARICIO, JORGE CARRANCO                                     POSS CS PG 1 <1G                     ACTIVE                 \n",
      "13-11-07314-MCR  08/27/2018  HERRERA, HOMERO                                              MURDER                               ACTIVE                 \n",
      "13-11-07314-MCR  01/04/2019  HERRERA, HOMERO                                              MURDER                               ACTIVE                 \n",
      "14-04-07389-MCR  04/14/2014  ANDRADE CABALLERO, PEDRO   DE LOS SANTOS,                    AGG SEXUAL ASSAULT                   ACTIVE                 \n",
      "14-05-07400-MCR  05/28/2014  VILLARREAL, JOSEFINA RAMO                                    THEFT PROP>=$1500<$20K               ACTIVE                 \n",
      "15-08-07534-MCR  08/18/2015  ANDRADE CABALLERO, PEDRO                                     BAIL JUMPING AND FAIL TO APPEAR FEL  ACTIVE                 \n",
      "15-12-07560-MCR  12/10/2015  DIAZ CASTILLO, ROBERTO                                       UNAUTH USE OF VEHICLE                ACTIVE                 \n",
      "16-07-07614-MCR  07/14/2016  DIAZ, JAIME ULISES                          ACES BONDING CO  EVADING ARREST DET W/VEH             ACTIVE                 \n",
      "16-07-07618-MCR  07/14/2016  AVILA, JORGE               PONCE, MARTHA A  CANTU'S BAIL BO  EVADING ARREST DET W/VEH             ACTIVE                 \n",
      "16-07-07624-MCR  07/14/2016  LUGO DE SANTOS, ROSALIA                                      THEFT <10 HEAD LIVESTOCK <$30K       ACTIVE                 \n",
      "16-08-07640-MCR  08/16/2016  GARCIA, JEREMY SIMON       ZAPATA, HUGO                      POSS CS PG 1 <1G                     ACTIVE                 \n",
      "17-04-07716-MCR  04/04/2017  GARCIA, JEREMY SIMON       ZAPATA, HUGO     AMIGO BAIL BOND  ROBBERY                              ACTIVE                 \n",
      "17-04-07720-MCR  04/21/2017  AVILA, JORGE               PONCE, MARTHA A                   BAIL JUMPING AND FAIL TO APPEAR FEL  ACTIVE                 \n",
      "17-04-07726-MCR  04/04/2017  ESCARENO, IGNACIO ADRIAN   SALINAS, ROLAND  CANTU'S BAIL BO  SEXUAL ASSAULT CHILD                 ACTIVE                 \n",
      "17-08-07758-MCR  08/03/2017  JIMENEZ, HECTOR                             ACES BONDING CO  EVADING ARREST DET W/VEH             ACTIVE                 \n",
      "17-09-07766-MCR  09/06/2017  GARCIA, JEREMY SIMON                                         BAIL JUMPING AND FAIL TO APPEAR FEL  ACTIVE                 \n",
      "18-02-07812-MCR  02/22/2018  GARCIA, JEREMY SIMON                                         BURGLARY OF BUILDING                 ACTIVE                 \n",
      "18-04-07826-MCR  04/26/2017  GARCIA JR, PEDRO           TORRES, GREGORY                   FAIL TO STOP AND RENDER AID          ACTIVE                 \n",
      "18-05-07856-MCR  05/24/2018  DE ALBA, EDUARDO           GONZALEZ, LEO H                   SEXUAL ASSAULT CHILD                 ACTIVE                 \n",
      "18-05-07857-MCR  05/24/2018  DE ALBA, EDUARDO           GONZALEZ, LEO H                   SEXUAL ASSAULT CHILD                 ACTIVE                 \n",
      "18-05-07858-MCR  05/24/2018  DE ALBA, EDUARDO           GONZALEZ, LEO H  CANTU'S BAIL BO  SEXUAL ASSAULT CHILD                 ACTIVE                 \n",
      "18-05-07859-MCR  05/24/2018  DE ALBA, EDUARDO           PEREZ, JOHN      CANTU'S BAIL BO  SEXUAL ASSAULT CHILD                 ACTIVE                 \n",
      "18-05-07860-MCR  05/24/2018  DE ALBA, EDUARDO           GONZALEZ, LEO H  CANTU'S BAIL BO  SEXUAL ASSAULT CHILD                 ACTIVE                 \n",
      "18-05-07862-MCR  05/24/2018  SPRINGS, MARLON DWAYNE     CASARES, ANDREA  SAENZ BAIL BOND  POSS CS PG 1 >=4G<200G               ACTIVE                 \n",
      "18-05-07880-MCR  05/24/2018  FIGUEROA LOPEZ, EDWIN JAV  JUAREZ, EDGAR H                   THEFT PROP >=$30K<$150K              ACTIVE                 \n",
      "18-05-07882-MCR  05/24/2018  SOTO CEDILLO, MARGARITO                     MARGARITO CEDIL  INDECENCY W/CHILD SEXUAL CONTACT     ACTIVE                 \n",
      "18-06-07896-MCR  06/29/2019  RAMIREZ, MARCOS            HEREDIA, CLAUDI  CANTU'S BAIL BO  MAN DEL CS PG 1 >=400G               ACTIVE                 \n",
      "18-08-07906-MCR  08/22/2018  DE ALBA, EDUARDO           GONZALEZ, LEO H                   INDECENCY W/CHILD SEXUAL CONTACT     ACTIVE                 \n",
      "18-08-07907-MCR  08/22/2018  DE ALBA, EDUARDO           GONZALEZ, LEO H                   SEXUAL ASSAULT CHILD                 ACTIVE                 \n",
      "\n",
      "\f",
      "\n"
     ]
    }
   ],
   "source": [
    "#Set up resource manager to handle pdf content. text, images, etc.\n",
    "resource_manager = PDFResourceManager()\n",
    "\n",
    "#Used to display text\n",
    "fake_file_handle = io.StringIO()\n",
    "\n",
    "#Set up converter\n",
    "converter = TextConverter(resource_manager, fake_file_handle, laparams=LAParams())\n",
    "\n",
    "#Set up page interpreter\n",
    "page_interpreter = PDFPageInterpreter(resource_manager, converter)\n",
    "\n",
    "with open(pdf_path, 'rb') as fh:\n",
    "\n",
    "    for page in PDFPage.get_pages(fh, caching=True, maxpages = 1, check_extractable=True):\n",
    "        #Process the current page\n",
    "        page_interpreter.process_page(page)\n",
    "\n",
    "    #Save the current page's text to a variable\n",
    "    text = fake_file_handle.getvalue()\n",
    "\n",
    "# close open handles\n",
    "converter.close()\n",
    "fake_file_handle.close()\n",
    "\n",
    "print(text)"
   ]
  },
  {
   "cell_type": "code",
   "execution_count": 4,
   "id": "4106bb46",
   "metadata": {},
   "outputs": [
    {
     "name": "stdout",
     "output_type": "stream",
     "text": [
      "\"                                                  MAVERICK COUNTY CRIMINAL PENDING REPORT -- PAGE: 1\\n                                                           LEOPOLDO VIELMA, DISTRICT CLERK\\n                                                              RUN ON 01/21/2022  09:52am\\n                                                                   AS OF 01/21/2022\\n\\nCAUSE #           FILE DATE  DEFENDANT NAME             ATTORNEY         BONDSMAN NAME    OFFENSE DESCRIPTION                  CASE STATUS            \\n00-05-05160-CR   05/09/2000  LOZANO JR., JUAN JESUS     HERNANDEZ, FELI                   DEADLY CONDUCT DISCHARGE FIREARM     ACTIVE                 \\n02-02-05382-MCR  02/08/2002  FLORES, MARIA DEL ROSARIO  RHODES, CRAWFOR                   POSS MARIJ >5LBS<=50LBS              ACTIVE                 \\n03-03-05484-MCR  03/27/2003  FUENTES-GARCIA, OSCAR      RAMON, ALBERTO                    BURGLARY OF HABITATION               ACTIVE                 \\n03-03-05485-MCR  03/27/2003  FUENTES-GARCIA, OSCAR                                        POSS CS PG 1 >=4G<200G               ACTIVE                 \\n04-09-05658-MCR  09/30/2004  MENCHACA, MARTHA           HARPER, JAD P.                    THEFT PROP>=$1500<$20K               ACTIVE                 \\n04-10-05690-MCR  10/28/2004  TREVINO, CARLOS JESUS      GONZALEZ, DANIE                   THEFT PROP>=$1500<$20K               ACTIVE                 \\n05-05-05774-MCR  05/12/2005  NAVARRO, CARMEN            TORRES, GREGORY                   POSS MARIJ >5LBS<=50LBS              ACTIVE                 \\n07-06-06074-MCR  06/22/2007  DE LEON, MARIO ENRIQUE                                       POSS CS PG 4 >=28G<200G              ACTIVE                 \\n08-12-06344-MCR  12/03/2008  HERNANDEZ, MANUEL ANGEL    JUAREZ, EDGAR    ACES BONDING CO  AGG ASSAULT W/DEADLY WEAPON          ACTIVE                 \\n09-11-06538-MCR  11/03/2009  FUENTES, RENE                                                INDECENCY W/CHILD SEXUAL CONTACT     ACTIVE                 \\n09-11-06539-MCR  11/03/2009  FUENTES, RENE                                                INDECENCY W/CHILD SEXUAL CONTACT     ACTIVE                 \\n09-11-06546-MCR  11/03/2009  CALDERA, JUAN CARLOS       TORRES, GREGORY                   DRIVING WHILE INTOXICATED 3RD OR MO  ACTIVE                 \\n09-11-06552-MCR  11/03/2009  MARTINEZ, SALVADOR ADRIAN                                    SEXUAL ASSAULT CHILD                 ACTIVE                 \\n10-08-06732-MCR  08/27/2010  CEDILLO, JESUS ANDRES      HEREDIA, CLAUDI                   DEL MARIJ >50LBS<=2,000LBS           ACTIVE                 \\n10-08-06734-MCR  08/27/2010  RAMIREZ, MARTIN A.                                           POSS MARIJ >50LBS<=2,000LBS          ACTIVE                 \\n11-04-06866-MCR  04/29/2011  REQUENA, ROLANDO SOTO      ROMAN, ARMANDO                    DRIVING WHILE INTOXICATED 3RD OR MO  ACTIVE                 \\n11-12-06988-MCR  12/09/2011  RIOS, DANIEL OJEDA         TORRES, GREGORY                   AGG ASSAULT W/DEADLY WEAPON          ACTIVE                 \\n12-10-07116-MCR  10/12/2012  GONZALEZ, CRUZ JOSE                                          POSS MARIJ >50LBS<=2,000LBS          ACTIVE                 \\n12-11-07152-MCR  11/30/2012  CHAVEZ, JOSE FEDERICO                                        AGG SEXUAL ASSAULT CHILD             ACTIVE                 \\n13-04-07238-MCR  04/17/2013  APARICIO, JORGE CARRANCO                                     POSS CS PG 1 <1G                     ACTIVE                 \\n13-11-07314-MCR  08/27/2018  HERRERA, HOMERO                                              MURDER                               ACTIVE                 \\n13-11-07314-MCR  01/04/2019  HERRERA, HOMERO                                              MURDER                               ACTIVE                 \\n14-04-07389-MCR  04/14/2014  ANDRADE CABALLERO, PEDRO   DE LOS SANTOS,                    AGG SEXUAL ASSAULT                   ACTIVE                 \\n14-05-07400-MCR  05/28/2014  VILLARREAL, JOSEFINA RAMO                                    THEFT PROP>=$1500<$20K               ACTIVE                 \\n15-08-07534-MCR  08/18/2015  ANDRADE CABALLERO, PEDRO                                     BAIL JUMPING AND FAIL TO APPEAR FEL  ACTIVE                 \\n15-12-07560-MCR  12/10/2015  DIAZ CASTILLO, ROBERTO                                       UNAUTH USE OF VEHICLE                ACTIVE                 \\n16-07-07614-MCR  07/14/2016  DIAZ, JAIME ULISES                          ACES BONDING CO  EVADING ARREST DET W/VEH             ACTIVE                 \\n16-07-07618-MCR  07/14/2016  AVILA, JORGE               PONCE, MARTHA A  CANTU'S BAIL BO  EVADING ARREST DET W/VEH             ACTIVE                 \\n16-07-07624-MCR  07/14/2016  LUGO DE SANTOS, ROSALIA                                      THEFT <10 HEAD LIVESTOCK <$30K       ACTIVE                 \\n16-08-07640-MCR  08/16/2016  GARCIA, JEREMY SIMON       ZAPATA, HUGO                      POSS CS PG 1 <1G                     ACTIVE                 \\n17-04-07716-MCR  04/04/2017  GARCIA, JEREMY SIMON       ZAPATA, HUGO     AMIGO BAIL BOND  ROBBERY                              ACTIVE                 \\n17-04-07720-MCR  04/21/2017  AVILA, JORGE               PONCE, MARTHA A                   BAIL JUMPING AND FAIL TO APPEAR FEL  ACTIVE                 \\n17-04-07726-MCR  04/04/2017  ESCARENO, IGNACIO ADRIAN   SALINAS, ROLAND  CANTU'S BAIL BO  SEXUAL ASSAULT CHILD                 ACTIVE                 \\n17-08-07758-MCR  08/03/2017  JIMENEZ, HECTOR                             ACES BONDING CO  EVADING ARREST DET W/VEH             ACTIVE                 \\n17-09-07766-MCR  09/06/2017  GARCIA, JEREMY SIMON                                         BAIL JUMPING AND FAIL TO APPEAR FEL  ACTIVE                 \\n18-02-07812-MCR  02/22/2018  GARCIA, JEREMY SIMON                                         BURGLARY OF BUILDING                 ACTIVE                 \\n18-04-07826-MCR  04/26/2017  GARCIA JR, PEDRO           TORRES, GREGORY                   FAIL TO STOP AND RENDER AID          ACTIVE                 \\n18-05-07856-MCR  05/24/2018  DE ALBA, EDUARDO           GONZALEZ, LEO H                   SEXUAL ASSAULT CHILD                 ACTIVE                 \\n18-05-07857-MCR  05/24/2018  DE ALBA, EDUARDO           GONZALEZ, LEO H                   SEXUAL ASSAULT CHILD                 ACTIVE                 \\n18-05-07858-MCR  05/24/2018  DE ALBA, EDUARDO           GONZALEZ, LEO H  CANTU'S BAIL BO  SEXUAL ASSAULT CHILD                 ACTIVE                 \\n18-05-07859-MCR  05/24/2018  DE ALBA, EDUARDO           PEREZ, JOHN      CANTU'S BAIL BO  SEXUAL ASSAULT CHILD                 ACTIVE                 \\n18-05-07860-MCR  05/24/2018  DE ALBA, EDUARDO           GONZALEZ, LEO H  CANTU'S BAIL BO  SEXUAL ASSAULT CHILD                 ACTIVE                 \\n18-05-07862-MCR  05/24/2018  SPRINGS, MARLON DWAYNE     CASARES, ANDREA  SAENZ BAIL BOND  POSS CS PG 1 >=4G<200G               ACTIVE                 \\n18-05-07880-MCR  05/24/2018  FIGUEROA LOPEZ, EDWIN JAV  JUAREZ, EDGAR H                   THEFT PROP >=$30K<$150K              ACTIVE                 \\n18-05-07882-MCR  05/24/2018  SOTO CEDILLO, MARGARITO                     MARGARITO CEDIL  INDECENCY W/CHILD SEXUAL CONTACT     ACTIVE                 \\n18-06-07896-MCR  06/29/2019  RAMIREZ, MARCOS            HEREDIA, CLAUDI  CANTU'S BAIL BO  MAN DEL CS PG 1 >=400G               ACTIVE                 \\n18-08-07906-MCR  08/22/2018  DE ALBA, EDUARDO           GONZALEZ, LEO H                   INDECENCY W/CHILD SEXUAL CONTACT     ACTIVE                 \\n18-08-07907-MCR  08/22/2018  DE ALBA, EDUARDO           GONZALEZ, LEO H                   SEXUAL ASSAULT CHILD                 ACTIVE                 \\n\\n\\x0c\"\n"
     ]
    }
   ],
   "source": [
    "print(repr(text))"
   ]
  },
  {
   "cell_type": "code",
   "execution_count": 5,
   "id": "618f79be",
   "metadata": {},
   "outputs": [
    {
     "data": {
      "text/plain": [
       "'                                                  MAVERICK COUNTY CRIMINAL PENDING REPORT -- PAGE: 1\\n                                                           LEOPOLDO VIELMA, DISTRICT CLERK\\n                                                              RUN ON 01/21/2022  09:52am\\n                                                                   AS OF 01/21/2022\\n\\nCAUSE #           FILE DATE  DEFENDANT NAME             ATTORNEY         BONDSMAN NAME    OFFENSE DESCRIPTION                  CASE STATUS            \\n'"
      ]
     },
     "execution_count": 5,
     "metadata": {},
     "output_type": "execute_result"
    }
   ],
   "source": [
    "#Separate the header from the body\n",
    "header = text[:517]\n",
    "header"
   ]
  },
  {
   "cell_type": "code",
   "execution_count": 6,
   "id": "801833bd",
   "metadata": {},
   "outputs": [
    {
     "data": {
      "text/plain": [
       "\"00-05-05160-CR   05/09/2000  LOZANO JR., JUAN JESUS     HERNANDEZ, FELI                   DEADLY CONDUCT DISCHARGE FIREARM     ACTIVE                 \\n02-02-05382-MCR  02/08/2002  FLORES, MARIA DEL ROSARIO  RHODES, CRAWFOR                   POSS MARIJ >5LBS<=50LBS              ACTIVE                 \\n03-03-05484-MCR  03/27/2003  FUENTES-GARCIA, OSCAR      RAMON, ALBERTO                    BURGLARY OF HABITATION               ACTIVE                 \\n03-03-05485-MCR  03/27/2003  FUENTES-GARCIA, OSCAR                                        POSS CS PG 1 >=4G<200G               ACTIVE                 \\n04-09-05658-MCR  09/30/2004  MENCHACA, MARTHA           HARPER, JAD P.                    THEFT PROP>=$1500<$20K               ACTIVE                 \\n04-10-05690-MCR  10/28/2004  TREVINO, CARLOS JESUS      GONZALEZ, DANIE                   THEFT PROP>=$1500<$20K               ACTIVE                 \\n05-05-05774-MCR  05/12/2005  NAVARRO, CARMEN            TORRES, GREGORY                   POSS MARIJ >5LBS<=50LBS              ACTIVE                 \\n07-06-06074-MCR  06/22/2007  DE LEON, MARIO ENRIQUE                                       POSS CS PG 4 >=28G<200G              ACTIVE                 \\n08-12-06344-MCR  12/03/2008  HERNANDEZ, MANUEL ANGEL    JUAREZ, EDGAR    ACES BONDING CO  AGG ASSAULT W/DEADLY WEAPON          ACTIVE                 \\n09-11-06538-MCR  11/03/2009  FUENTES, RENE                                                INDECENCY W/CHILD SEXUAL CONTACT     ACTIVE                 \\n09-11-06539-MCR  11/03/2009  FUENTES, RENE                                                INDECENCY W/CHILD SEXUAL CONTACT     ACTIVE                 \\n09-11-06546-MCR  11/03/2009  CALDERA, JUAN CARLOS       TORRES, GREGORY                   DRIVING WHILE INTOXICATED 3RD OR MO  ACTIVE                 \\n09-11-06552-MCR  11/03/2009  MARTINEZ, SALVADOR ADRIAN                                    SEXUAL ASSAULT CHILD                 ACTIVE                 \\n10-08-06732-MCR  08/27/2010  CEDILLO, JESUS ANDRES      HEREDIA, CLAUDI                   DEL MARIJ >50LBS<=2,000LBS           ACTIVE                 \\n10-08-06734-MCR  08/27/2010  RAMIREZ, MARTIN A.                                           POSS MARIJ >50LBS<=2,000LBS          ACTIVE                 \\n11-04-06866-MCR  04/29/2011  REQUENA, ROLANDO SOTO      ROMAN, ARMANDO                    DRIVING WHILE INTOXICATED 3RD OR MO  ACTIVE                 \\n11-12-06988-MCR  12/09/2011  RIOS, DANIEL OJEDA         TORRES, GREGORY                   AGG ASSAULT W/DEADLY WEAPON          ACTIVE                 \\n12-10-07116-MCR  10/12/2012  GONZALEZ, CRUZ JOSE                                          POSS MARIJ >50LBS<=2,000LBS          ACTIVE                 \\n12-11-07152-MCR  11/30/2012  CHAVEZ, JOSE FEDERICO                                        AGG SEXUAL ASSAULT CHILD             ACTIVE                 \\n13-04-07238-MCR  04/17/2013  APARICIO, JORGE CARRANCO                                     POSS CS PG 1 <1G                     ACTIVE                 \\n13-11-07314-MCR  08/27/2018  HERRERA, HOMERO                                              MURDER                               ACTIVE                 \\n13-11-07314-MCR  01/04/2019  HERRERA, HOMERO                                              MURDER                               ACTIVE                 \\n14-04-07389-MCR  04/14/2014  ANDRADE CABALLERO, PEDRO   DE LOS SANTOS,                    AGG SEXUAL ASSAULT                   ACTIVE                 \\n14-05-07400-MCR  05/28/2014  VILLARREAL, JOSEFINA RAMO                                    THEFT PROP>=$1500<$20K               ACTIVE                 \\n15-08-07534-MCR  08/18/2015  ANDRADE CABALLERO, PEDRO                                     BAIL JUMPING AND FAIL TO APPEAR FEL  ACTIVE                 \\n15-12-07560-MCR  12/10/2015  DIAZ CASTILLO, ROBERTO                                       UNAUTH USE OF VEHICLE                ACTIVE                 \\n16-07-07614-MCR  07/14/2016  DIAZ, JAIME ULISES                          ACES BONDING CO  EVADING ARREST DET W/VEH             ACTIVE                 \\n16-07-07618-MCR  07/14/2016  AVILA, JORGE               PONCE, MARTHA A  CANTU'S BAIL BO  EVADING ARREST DET W/VEH             ACTIVE                 \\n16-07-07624-MCR  07/14/2016  LUGO DE SANTOS, ROSALIA                                      THEFT <10 HEAD LIVESTOCK <$30K       ACTIVE                 \\n16-08-07640-MCR  08/16/2016  GARCIA, JEREMY SIMON       ZAPATA, HUGO                      POSS CS PG 1 <1G                     ACTIVE                 \\n17-04-07716-MCR  04/04/2017  GARCIA, JEREMY SIMON       ZAPATA, HUGO     AMIGO BAIL BOND  ROBBERY                              ACTIVE                 \\n17-04-07720-MCR  04/21/2017  AVILA, JORGE               PONCE, MARTHA A                   BAIL JUMPING AND FAIL TO APPEAR FEL  ACTIVE                 \\n17-04-07726-MCR  04/04/2017  ESCARENO, IGNACIO ADRIAN   SALINAS, ROLAND  CANTU'S BAIL BO  SEXUAL ASSAULT CHILD                 ACTIVE                 \\n17-08-07758-MCR  08/03/2017  JIMENEZ, HECTOR                             ACES BONDING CO  EVADING ARREST DET W/VEH             ACTIVE                 \\n17-09-07766-MCR  09/06/2017  GARCIA, JEREMY SIMON                                         BAIL JUMPING AND FAIL TO APPEAR FEL  ACTIVE                 \\n18-02-07812-MCR  02/22/2018  GARCIA, JEREMY SIMON                                         BURGLARY OF BUILDING                 ACTIVE                 \\n18-04-07826-MCR  04/26/2017  GARCIA JR, PEDRO           TORRES, GREGORY                   FAIL TO STOP AND RENDER AID          ACTIVE                 \\n18-05-07856-MCR  05/24/2018  DE ALBA, EDUARDO           GONZALEZ, LEO H                   SEXUAL ASSAULT CHILD                 ACTIVE                 \\n18-05-07857-MCR  05/24/2018  DE ALBA, EDUARDO           GONZALEZ, LEO H                   SEXUAL ASSAULT CHILD                 ACTIVE                 \\n18-05-07858-MCR  05/24/2018  DE ALBA, EDUARDO           GONZALEZ, LEO H  CANTU'S BAIL BO  SEXUAL ASSAULT CHILD                 ACTIVE                 \\n18-05-07859-MCR  05/24/2018  DE ALBA, EDUARDO           PEREZ, JOHN      CANTU'S BAIL BO  SEXUAL ASSAULT CHILD                 ACTIVE                 \\n18-05-07860-MCR  05/24/2018  DE ALBA, EDUARDO           GONZALEZ, LEO H  CANTU'S BAIL BO  SEXUAL ASSAULT CHILD                 ACTIVE                 \\n18-05-07862-MCR  05/24/2018  SPRINGS, MARLON DWAYNE     CASARES, ANDREA  SAENZ BAIL BOND  POSS CS PG 1 >=4G<200G               ACTIVE                 \\n18-05-07880-MCR  05/24/2018  FIGUEROA LOPEZ, EDWIN JAV  JUAREZ, EDGAR H                   THEFT PROP >=$30K<$150K              ACTIVE                 \\n18-05-07882-MCR  05/24/2018  SOTO CEDILLO, MARGARITO                     MARGARITO CEDIL  INDECENCY W/CHILD SEXUAL CONTACT     ACTIVE                 \\n18-06-07896-MCR  06/29/2019  RAMIREZ, MARCOS            HEREDIA, CLAUDI  CANTU'S BAIL BO  MAN DEL CS PG 1 >=400G               ACTIVE                 \\n18-08-07906-MCR  08/22/2018  DE ALBA, EDUARDO           GONZALEZ, LEO H                   INDECENCY W/CHILD SEXUAL CONTACT     ACTIVE                 \\n18-08-07907-MCR  08/22/2018  DE ALBA, EDUARDO           GONZALEZ, LEO H                   SEXUAL ASSAULT CHILD                 ACTIVE                 \\n\\n\\x0c\""
      ]
     },
     "execution_count": 6,
     "metadata": {},
     "output_type": "execute_result"
    }
   ],
   "source": [
    "#body \n",
    "body = text[517:]\n",
    "body"
   ]
  },
  {
   "cell_type": "code",
   "execution_count": 7,
   "id": "d2640f71",
   "metadata": {},
   "outputs": [],
   "source": [
    "#Remove leading and trailing whitespace\n",
    "body = body.strip()"
   ]
  },
  {
   "cell_type": "code",
   "execution_count": 8,
   "id": "83d05ce0",
   "metadata": {},
   "outputs": [],
   "source": [
    "#Try splitting the cases up on the new lines\n",
    "cases = body.split('\\n')"
   ]
  },
  {
   "cell_type": "code",
   "execution_count": 9,
   "id": "6e1488bf",
   "metadata": {},
   "outputs": [
    {
     "data": {
      "text/plain": [
       "48"
      ]
     },
     "execution_count": 9,
     "metadata": {},
     "output_type": "execute_result"
    }
   ],
   "source": [
    "#How many cases per page?\n",
    "len(cases)"
   ]
  },
  {
   "cell_type": "code",
   "execution_count": 10,
   "id": "a8b7a870",
   "metadata": {},
   "outputs": [
    {
     "data": {
      "text/plain": [
       "['00-05-05160-CR   05/09/2000  LOZANO JR., JUAN JESUS     HERNANDEZ, FELI                   DEADLY CONDUCT DISCHARGE FIREARM     ACTIVE                 ',\n",
       " '02-02-05382-MCR  02/08/2002  FLORES, MARIA DEL ROSARIO  RHODES, CRAWFOR                   POSS MARIJ >5LBS<=50LBS              ACTIVE                 ',\n",
       " '03-03-05484-MCR  03/27/2003  FUENTES-GARCIA, OSCAR      RAMON, ALBERTO                    BURGLARY OF HABITATION               ACTIVE                 ',\n",
       " '03-03-05485-MCR  03/27/2003  FUENTES-GARCIA, OSCAR                                        POSS CS PG 1 >=4G<200G               ACTIVE                 ',\n",
       " '04-09-05658-MCR  09/30/2004  MENCHACA, MARTHA           HARPER, JAD P.                    THEFT PROP>=$1500<$20K               ACTIVE                 ',\n",
       " '04-10-05690-MCR  10/28/2004  TREVINO, CARLOS JESUS      GONZALEZ, DANIE                   THEFT PROP>=$1500<$20K               ACTIVE                 ',\n",
       " '05-05-05774-MCR  05/12/2005  NAVARRO, CARMEN            TORRES, GREGORY                   POSS MARIJ >5LBS<=50LBS              ACTIVE                 ',\n",
       " '07-06-06074-MCR  06/22/2007  DE LEON, MARIO ENRIQUE                                       POSS CS PG 4 >=28G<200G              ACTIVE                 ',\n",
       " '08-12-06344-MCR  12/03/2008  HERNANDEZ, MANUEL ANGEL    JUAREZ, EDGAR    ACES BONDING CO  AGG ASSAULT W/DEADLY WEAPON          ACTIVE                 ',\n",
       " '09-11-06538-MCR  11/03/2009  FUENTES, RENE                                                INDECENCY W/CHILD SEXUAL CONTACT     ACTIVE                 ',\n",
       " '09-11-06539-MCR  11/03/2009  FUENTES, RENE                                                INDECENCY W/CHILD SEXUAL CONTACT     ACTIVE                 ',\n",
       " '09-11-06546-MCR  11/03/2009  CALDERA, JUAN CARLOS       TORRES, GREGORY                   DRIVING WHILE INTOXICATED 3RD OR MO  ACTIVE                 ',\n",
       " '09-11-06552-MCR  11/03/2009  MARTINEZ, SALVADOR ADRIAN                                    SEXUAL ASSAULT CHILD                 ACTIVE                 ',\n",
       " '10-08-06732-MCR  08/27/2010  CEDILLO, JESUS ANDRES      HEREDIA, CLAUDI                   DEL MARIJ >50LBS<=2,000LBS           ACTIVE                 ',\n",
       " '10-08-06734-MCR  08/27/2010  RAMIREZ, MARTIN A.                                           POSS MARIJ >50LBS<=2,000LBS          ACTIVE                 ',\n",
       " '11-04-06866-MCR  04/29/2011  REQUENA, ROLANDO SOTO      ROMAN, ARMANDO                    DRIVING WHILE INTOXICATED 3RD OR MO  ACTIVE                 ',\n",
       " '11-12-06988-MCR  12/09/2011  RIOS, DANIEL OJEDA         TORRES, GREGORY                   AGG ASSAULT W/DEADLY WEAPON          ACTIVE                 ',\n",
       " '12-10-07116-MCR  10/12/2012  GONZALEZ, CRUZ JOSE                                          POSS MARIJ >50LBS<=2,000LBS          ACTIVE                 ',\n",
       " '12-11-07152-MCR  11/30/2012  CHAVEZ, JOSE FEDERICO                                        AGG SEXUAL ASSAULT CHILD             ACTIVE                 ',\n",
       " '13-04-07238-MCR  04/17/2013  APARICIO, JORGE CARRANCO                                     POSS CS PG 1 <1G                     ACTIVE                 ',\n",
       " '13-11-07314-MCR  08/27/2018  HERRERA, HOMERO                                              MURDER                               ACTIVE                 ',\n",
       " '13-11-07314-MCR  01/04/2019  HERRERA, HOMERO                                              MURDER                               ACTIVE                 ',\n",
       " '14-04-07389-MCR  04/14/2014  ANDRADE CABALLERO, PEDRO   DE LOS SANTOS,                    AGG SEXUAL ASSAULT                   ACTIVE                 ',\n",
       " '14-05-07400-MCR  05/28/2014  VILLARREAL, JOSEFINA RAMO                                    THEFT PROP>=$1500<$20K               ACTIVE                 ',\n",
       " '15-08-07534-MCR  08/18/2015  ANDRADE CABALLERO, PEDRO                                     BAIL JUMPING AND FAIL TO APPEAR FEL  ACTIVE                 ',\n",
       " '15-12-07560-MCR  12/10/2015  DIAZ CASTILLO, ROBERTO                                       UNAUTH USE OF VEHICLE                ACTIVE                 ',\n",
       " '16-07-07614-MCR  07/14/2016  DIAZ, JAIME ULISES                          ACES BONDING CO  EVADING ARREST DET W/VEH             ACTIVE                 ',\n",
       " \"16-07-07618-MCR  07/14/2016  AVILA, JORGE               PONCE, MARTHA A  CANTU'S BAIL BO  EVADING ARREST DET W/VEH             ACTIVE                 \",\n",
       " '16-07-07624-MCR  07/14/2016  LUGO DE SANTOS, ROSALIA                                      THEFT <10 HEAD LIVESTOCK <$30K       ACTIVE                 ',\n",
       " '16-08-07640-MCR  08/16/2016  GARCIA, JEREMY SIMON       ZAPATA, HUGO                      POSS CS PG 1 <1G                     ACTIVE                 ',\n",
       " '17-04-07716-MCR  04/04/2017  GARCIA, JEREMY SIMON       ZAPATA, HUGO     AMIGO BAIL BOND  ROBBERY                              ACTIVE                 ',\n",
       " '17-04-07720-MCR  04/21/2017  AVILA, JORGE               PONCE, MARTHA A                   BAIL JUMPING AND FAIL TO APPEAR FEL  ACTIVE                 ',\n",
       " \"17-04-07726-MCR  04/04/2017  ESCARENO, IGNACIO ADRIAN   SALINAS, ROLAND  CANTU'S BAIL BO  SEXUAL ASSAULT CHILD                 ACTIVE                 \",\n",
       " '17-08-07758-MCR  08/03/2017  JIMENEZ, HECTOR                             ACES BONDING CO  EVADING ARREST DET W/VEH             ACTIVE                 ',\n",
       " '17-09-07766-MCR  09/06/2017  GARCIA, JEREMY SIMON                                         BAIL JUMPING AND FAIL TO APPEAR FEL  ACTIVE                 ',\n",
       " '18-02-07812-MCR  02/22/2018  GARCIA, JEREMY SIMON                                         BURGLARY OF BUILDING                 ACTIVE                 ',\n",
       " '18-04-07826-MCR  04/26/2017  GARCIA JR, PEDRO           TORRES, GREGORY                   FAIL TO STOP AND RENDER AID          ACTIVE                 ',\n",
       " '18-05-07856-MCR  05/24/2018  DE ALBA, EDUARDO           GONZALEZ, LEO H                   SEXUAL ASSAULT CHILD                 ACTIVE                 ',\n",
       " '18-05-07857-MCR  05/24/2018  DE ALBA, EDUARDO           GONZALEZ, LEO H                   SEXUAL ASSAULT CHILD                 ACTIVE                 ',\n",
       " \"18-05-07858-MCR  05/24/2018  DE ALBA, EDUARDO           GONZALEZ, LEO H  CANTU'S BAIL BO  SEXUAL ASSAULT CHILD                 ACTIVE                 \",\n",
       " \"18-05-07859-MCR  05/24/2018  DE ALBA, EDUARDO           PEREZ, JOHN      CANTU'S BAIL BO  SEXUAL ASSAULT CHILD                 ACTIVE                 \",\n",
       " \"18-05-07860-MCR  05/24/2018  DE ALBA, EDUARDO           GONZALEZ, LEO H  CANTU'S BAIL BO  SEXUAL ASSAULT CHILD                 ACTIVE                 \",\n",
       " '18-05-07862-MCR  05/24/2018  SPRINGS, MARLON DWAYNE     CASARES, ANDREA  SAENZ BAIL BOND  POSS CS PG 1 >=4G<200G               ACTIVE                 ',\n",
       " '18-05-07880-MCR  05/24/2018  FIGUEROA LOPEZ, EDWIN JAV  JUAREZ, EDGAR H                   THEFT PROP >=$30K<$150K              ACTIVE                 ',\n",
       " '18-05-07882-MCR  05/24/2018  SOTO CEDILLO, MARGARITO                     MARGARITO CEDIL  INDECENCY W/CHILD SEXUAL CONTACT     ACTIVE                 ',\n",
       " \"18-06-07896-MCR  06/29/2019  RAMIREZ, MARCOS            HEREDIA, CLAUDI  CANTU'S BAIL BO  MAN DEL CS PG 1 >=400G               ACTIVE                 \",\n",
       " '18-08-07906-MCR  08/22/2018  DE ALBA, EDUARDO           GONZALEZ, LEO H                   INDECENCY W/CHILD SEXUAL CONTACT     ACTIVE                 ',\n",
       " '18-08-07907-MCR  08/22/2018  DE ALBA, EDUARDO           GONZALEZ, LEO H                   SEXUAL ASSAULT CHILD                 ACTIVE']"
      ]
     },
     "execution_count": 10,
     "metadata": {},
     "output_type": "execute_result"
    }
   ],
   "source": [
    "cases"
   ]
  },
  {
   "cell_type": "code",
   "execution_count": 11,
   "id": "5a79e82f",
   "metadata": {},
   "outputs": [
    {
     "data": {
      "text/plain": [
       "'08-12-06344-MCR  12/03/2008  HERNANDEZ, MANUEL ANGEL    JUAREZ, EDGAR    ACES BONDING CO  AGG ASSAULT W/DEADLY WEAPON          ACTIVE                 '"
      ]
     },
     "execution_count": 11,
     "metadata": {},
     "output_type": "execute_result"
    }
   ],
   "source": [
    "#Just work with a case that has information in all fields for now\n",
    "case = cases[8]\n",
    "case"
   ]
  },
  {
   "cell_type": "code",
   "execution_count": 12,
   "id": "a599a3aa",
   "metadata": {},
   "outputs": [],
   "source": [
    "#Strip whitespace\n",
    "case = case.strip()"
   ]
  },
  {
   "cell_type": "code",
   "execution_count": 13,
   "id": "bf3a9466",
   "metadata": {},
   "outputs": [
    {
     "data": {
      "text/plain": [
       "'08-12-06344-MCR  12/03/2008  HERNANDEZ, MANUEL ANGEL    JUAREZ, EDGAR    ACES BONDING CO  AGG ASSAULT W/DEADLY WEAPON          ACTIVE'"
      ]
     },
     "execution_count": 13,
     "metadata": {},
     "output_type": "execute_result"
    }
   ],
   "source": [
    "case"
   ]
  },
  {
   "cell_type": "markdown",
   "id": "8d5681d5",
   "metadata": {},
   "source": [
    "# Gather Info For a Single Case"
   ]
  },
  {
   "cell_type": "markdown",
   "id": "52460d09",
   "metadata": {},
   "source": [
    "__Cause Number__"
   ]
  },
  {
   "cell_type": "code",
   "execution_count": 14,
   "id": "497637b8",
   "metadata": {},
   "outputs": [
    {
     "data": {
      "text/plain": [
       "'08-12-06344-MCR'"
      ]
     },
     "execution_count": 14,
     "metadata": {},
     "output_type": "execute_result"
    }
   ],
   "source": [
    "#Gather the cause number\n",
    "cause_num = case[:17].strip()\n",
    "cause_num"
   ]
  },
  {
   "cell_type": "markdown",
   "id": "2c742f58",
   "metadata": {},
   "source": [
    "__File Date__"
   ]
  },
  {
   "cell_type": "code",
   "execution_count": 15,
   "id": "02c79a44",
   "metadata": {},
   "outputs": [
    {
     "data": {
      "text/plain": [
       "'12/03/2008'"
      ]
     },
     "execution_count": 15,
     "metadata": {},
     "output_type": "execute_result"
    }
   ],
   "source": [
    "#Gather the file date\n",
    "file_date = case[17:29].strip()\n",
    "file_date"
   ]
  },
  {
   "cell_type": "markdown",
   "id": "44e0fa8e",
   "metadata": {},
   "source": [
    "__Defendant Name__"
   ]
  },
  {
   "cell_type": "code",
   "execution_count": 16,
   "id": "19bb62ed",
   "metadata": {},
   "outputs": [
    {
     "data": {
      "text/plain": [
       "'HERNANDEZ, MANUEL ANGEL'"
      ]
     },
     "execution_count": 16,
     "metadata": {},
     "output_type": "execute_result"
    }
   ],
   "source": [
    "defendant_name = case[29:56].strip()\n",
    "defendant_name"
   ]
  },
  {
   "cell_type": "markdown",
   "id": "0a84cb5c",
   "metadata": {},
   "source": [
    "__Attorney__"
   ]
  },
  {
   "cell_type": "code",
   "execution_count": 17,
   "id": "a5bcf3e8",
   "metadata": {},
   "outputs": [
    {
     "data": {
      "text/plain": [
       "'JUAREZ, EDGAR'"
      ]
     },
     "execution_count": 17,
     "metadata": {},
     "output_type": "execute_result"
    }
   ],
   "source": [
    "attorney = case[56:72].strip()\n",
    "attorney"
   ]
  },
  {
   "cell_type": "markdown",
   "id": "289574b2",
   "metadata": {},
   "source": [
    "__Bondsman Name__"
   ]
  },
  {
   "cell_type": "code",
   "execution_count": 18,
   "id": "22a47742",
   "metadata": {},
   "outputs": [
    {
     "data": {
      "text/plain": [
       "'ACES BONDING CO'"
      ]
     },
     "execution_count": 18,
     "metadata": {},
     "output_type": "execute_result"
    }
   ],
   "source": [
    "bondsman = case[72:90].strip()\n",
    "bondsman"
   ]
  },
  {
   "cell_type": "markdown",
   "id": "e302f654",
   "metadata": {},
   "source": [
    "__Offense Description__"
   ]
  },
  {
   "cell_type": "code",
   "execution_count": 19,
   "id": "f70ce2c8",
   "metadata": {},
   "outputs": [
    {
     "data": {
      "text/plain": [
       "'AGG ASSAULT W/DEADLY WEAPON'"
      ]
     },
     "execution_count": 19,
     "metadata": {},
     "output_type": "execute_result"
    }
   ],
   "source": [
    "offense = case[90:127].strip()\n",
    "offense"
   ]
  },
  {
   "cell_type": "markdown",
   "id": "be4a29e4",
   "metadata": {},
   "source": [
    "__Case Status__\n",
    "\n",
    "Not sure we're going to need this, but capture it anyway for now."
   ]
  },
  {
   "cell_type": "code",
   "execution_count": 20,
   "id": "26a07572",
   "metadata": {},
   "outputs": [
    {
     "data": {
      "text/plain": [
       "'ACTIVE'"
      ]
     },
     "execution_count": 20,
     "metadata": {},
     "output_type": "execute_result"
    }
   ],
   "source": [
    "status = case[127:].strip()\n",
    "status"
   ]
  },
  {
   "cell_type": "markdown",
   "id": "8226ed99",
   "metadata": {},
   "source": [
    "# Load The First Two Pages\n",
    "\n",
    "Using the first two pages, set up a loop to gather all the info for each case and create a dataframe."
   ]
  },
  {
   "cell_type": "code",
   "execution_count": 21,
   "id": "a9761906",
   "metadata": {
    "scrolled": false
   },
   "outputs": [],
   "source": [
    "#Set up resource manager to handle pdf content. text, images, etc.\n",
    "resource_manager = PDFResourceManager()\n",
    "\n",
    "#Used to display text\n",
    "fake_file_handle = io.StringIO()\n",
    "\n",
    "#Set up converter\n",
    "converter = TextConverter(resource_manager, fake_file_handle, laparams=LAParams())\n",
    "\n",
    "#Set up page interpreter\n",
    "page_interpreter = PDFPageInterpreter(resource_manager, converter)\n",
    "\n",
    "with open(pdf_path, 'rb') as fh:\n",
    "\n",
    "    for page in PDFPage.get_pages(fh, caching=True, maxpages = 2, check_extractable=True):\n",
    "        #Process the current page\n",
    "        page_interpreter.process_page(page)\n",
    "\n",
    "    #Save the current page's text to a variable\n",
    "    text = fake_file_handle.getvalue()\n",
    "\n",
    "# close open handles\n",
    "converter.close()\n",
    "fake_file_handle.close()\n",
    "\n",
    "#print(text)"
   ]
  },
  {
   "cell_type": "code",
   "execution_count": 22,
   "id": "818e20dd",
   "metadata": {},
   "outputs": [],
   "source": [
    "#Separate the first header from the body\n",
    "#We'll use this to identify the county later\n",
    "header = text[:517]"
   ]
  },
  {
   "cell_type": "code",
   "execution_count": 23,
   "id": "2553f60b",
   "metadata": {},
   "outputs": [],
   "source": [
    "#body\n",
    "text = text[517:]"
   ]
  },
  {
   "cell_type": "code",
   "execution_count": 24,
   "id": "d1933226",
   "metadata": {},
   "outputs": [],
   "source": [
    "#Remove leading and trailing whitespaces from the body text\n",
    "text = text.strip()"
   ]
  },
  {
   "cell_type": "code",
   "execution_count": 25,
   "id": "7b84dff6",
   "metadata": {},
   "outputs": [],
   "source": [
    "#Set up regex to remove all subsequent headers\n",
    "#This regex should identify the headers even if the name of the district clerk changes later on\n",
    "text = re.sub(r\"\"\"                 \n",
    "\n",
    "\f",
    "                                                  .{6,8} COUNTY CRIMINAL PENDING REPORT -- PAGE: \\d{1,3}\n",
    "\\w*.*, DISTRICT CLERK\n",
    "                                                              RUN ON .{19}\n",
    "                                                                   AS OF .{10}\n",
    "\n",
    "CAUSE #           FILE DATE  DEFENDANT NAME             ATTORNEY         BONDSMAN NAME    OFFENSE DESCRIPTION                  CASE STATUS\"\"\", '', text)"
   ]
  },
  {
   "cell_type": "code",
   "execution_count": 32,
   "id": "0f2e565a",
   "metadata": {},
   "outputs": [],
   "source": [
    "#Split the text on the '\\n' to isolate each case\n",
    "cases = text.split('\\n')"
   ]
  },
  {
   "cell_type": "code",
   "execution_count": 33,
   "id": "59b09ad5",
   "metadata": {},
   "outputs": [
    {
     "data": {
      "text/plain": [
       "96"
      ]
     },
     "execution_count": 33,
     "metadata": {},
     "output_type": "execute_result"
    }
   ],
   "source": [
    "#How many? Should be 48 per page. 48 * 2 = 96\n",
    "len(cases)"
   ]
  },
  {
   "cell_type": "code",
   "execution_count": 34,
   "id": "3708e58e",
   "metadata": {},
   "outputs": [],
   "source": [
    "#Establish a container list for the dictionaries\n",
    "case_list = []"
   ]
  },
  {
   "cell_type": "code",
   "execution_count": 35,
   "id": "589566c5",
   "metadata": {},
   "outputs": [],
   "source": [
    "#Loop through each case. Add case info to temp dict, and then add that to the case list\n",
    "for case in cases:\n",
    "    #Create temp_dict\n",
    "    temp_dict = {}\n",
    "    \n",
    "    #Strip leading and trailing whitespace\n",
    "    case = case.strip()\n",
    "    \n",
    "    #Gather the cause number\n",
    "    cause_num = case[:17].strip()\n",
    "    \n",
    "    #Gather the file date\n",
    "    file_date = case[17:29].strip()\n",
    "    \n",
    "    #Get defendant name\n",
    "    defendant_name = case[29:56].strip()\n",
    "    \n",
    "    #Get attorney name\n",
    "    attorney = case[56:72].strip()\n",
    "    \n",
    "    #Get bondsman name\n",
    "    bondsman = case[72:90].strip()\n",
    "    \n",
    "    #Get offense description\n",
    "    offense = case[90:127].strip()\n",
    "    \n",
    "    #Get case status\n",
    "    status = case[127:].strip()\n",
    "    \n",
    "    #Add info to temp dict\n",
    "    temp_dict['Cause Number'] = cause_num\n",
    "    temp_dict['File Date'] = file_date\n",
    "    temp_dict['Defendant Name'] = defendant_name\n",
    "    temp_dict['Attorney Name'] = attorney\n",
    "    temp_dict['Bondsman Name'] = bondsman\n",
    "    temp_dict['Offense'] = offense\n",
    "    temp_dict['Status'] = status\n",
    "    \n",
    "    #Append to case list\n",
    "    case_list.append(temp_dict)"
   ]
  },
  {
   "cell_type": "code",
   "execution_count": 36,
   "id": "830cefa0",
   "metadata": {},
   "outputs": [],
   "source": [
    "#Create dataframe\n",
    "df = pd.DataFrame(case_list)"
   ]
  },
  {
   "cell_type": "code",
   "execution_count": 37,
   "id": "c514cd59",
   "metadata": {},
   "outputs": [
    {
     "data": {
      "text/html": [
       "<div>\n",
       "<style scoped>\n",
       "    .dataframe tbody tr th:only-of-type {\n",
       "        vertical-align: middle;\n",
       "    }\n",
       "\n",
       "    .dataframe tbody tr th {\n",
       "        vertical-align: top;\n",
       "    }\n",
       "\n",
       "    .dataframe thead th {\n",
       "        text-align: right;\n",
       "    }\n",
       "</style>\n",
       "<table border=\"1\" class=\"dataframe\">\n",
       "  <thead>\n",
       "    <tr style=\"text-align: right;\">\n",
       "      <th></th>\n",
       "      <th>Cause Number</th>\n",
       "      <th>File Date</th>\n",
       "      <th>Defendant Name</th>\n",
       "      <th>Attorney Name</th>\n",
       "      <th>Bondsman Name</th>\n",
       "      <th>Offense</th>\n",
       "      <th>Status</th>\n",
       "    </tr>\n",
       "  </thead>\n",
       "  <tbody>\n",
       "    <tr>\n",
       "      <th>0</th>\n",
       "      <td>00-05-05160-CR</td>\n",
       "      <td>05/09/2000</td>\n",
       "      <td>LOZANO JR., JUAN JESUS</td>\n",
       "      <td>HERNANDEZ, FELI</td>\n",
       "      <td></td>\n",
       "      <td>DEADLY CONDUCT DISCHARGE FIREARM</td>\n",
       "      <td>ACTIVE</td>\n",
       "    </tr>\n",
       "    <tr>\n",
       "      <th>1</th>\n",
       "      <td>02-02-05382-MCR</td>\n",
       "      <td>02/08/2002</td>\n",
       "      <td>FLORES, MARIA DEL ROSARIO</td>\n",
       "      <td>RHODES, CRAWFOR</td>\n",
       "      <td></td>\n",
       "      <td>POSS MARIJ &gt;5LBS&lt;=50LBS</td>\n",
       "      <td>ACTIVE</td>\n",
       "    </tr>\n",
       "    <tr>\n",
       "      <th>2</th>\n",
       "      <td>03-03-05484-MCR</td>\n",
       "      <td>03/27/2003</td>\n",
       "      <td>FUENTES-GARCIA, OSCAR</td>\n",
       "      <td>RAMON, ALBERTO</td>\n",
       "      <td></td>\n",
       "      <td>BURGLARY OF HABITATION</td>\n",
       "      <td>ACTIVE</td>\n",
       "    </tr>\n",
       "    <tr>\n",
       "      <th>3</th>\n",
       "      <td>03-03-05485-MCR</td>\n",
       "      <td>03/27/2003</td>\n",
       "      <td>FUENTES-GARCIA, OSCAR</td>\n",
       "      <td></td>\n",
       "      <td></td>\n",
       "      <td>POSS CS PG 1 &gt;=4G&lt;200G</td>\n",
       "      <td>ACTIVE</td>\n",
       "    </tr>\n",
       "    <tr>\n",
       "      <th>4</th>\n",
       "      <td>04-09-05658-MCR</td>\n",
       "      <td>09/30/2004</td>\n",
       "      <td>MENCHACA, MARTHA</td>\n",
       "      <td>HARPER, JAD P.</td>\n",
       "      <td></td>\n",
       "      <td>THEFT PROP&gt;=$1500&lt;$20K</td>\n",
       "      <td>ACTIVE</td>\n",
       "    </tr>\n",
       "    <tr>\n",
       "      <th>...</th>\n",
       "      <td>...</td>\n",
       "      <td>...</td>\n",
       "      <td>...</td>\n",
       "      <td>...</td>\n",
       "      <td>...</td>\n",
       "      <td>...</td>\n",
       "      <td>...</td>\n",
       "    </tr>\n",
       "    <tr>\n",
       "      <th>91</th>\n",
       "      <td>20-02-08082-MCR</td>\n",
       "      <td>02/13/2020</td>\n",
       "      <td>MARTINEZ-DAVILA, EDGAR OM</td>\n",
       "      <td>LOS SANTOS, LUI</td>\n",
       "      <td>AMIGO BAIL BOND</td>\n",
       "      <td>THEFT PROP &gt;=$30K&lt;$150K</td>\n",
       "      <td>ACTIVE</td>\n",
       "    </tr>\n",
       "    <tr>\n",
       "      <th>92</th>\n",
       "      <td>20-02-08084-MCR</td>\n",
       "      <td>02/13/2020</td>\n",
       "      <td>CASSIAS JR., RICHARD</td>\n",
       "      <td></td>\n",
       "      <td>CANTU'S BAIL BO</td>\n",
       "      <td>POSS CS PG 1 &lt;1G</td>\n",
       "      <td>ACTIVE</td>\n",
       "    </tr>\n",
       "    <tr>\n",
       "      <th>93</th>\n",
       "      <td>20-06-08090-MCR</td>\n",
       "      <td>06/19/2020</td>\n",
       "      <td>VIGIL, SAMUEL</td>\n",
       "      <td>JUAREZ, EDGAR H</td>\n",
       "      <td>ACES BONDING CO</td>\n",
       "      <td>INJURY CHILD/ELDERLY/DISABLE W/INT</td>\n",
       "      <td>ACTIVE</td>\n",
       "    </tr>\n",
       "    <tr>\n",
       "      <th>94</th>\n",
       "      <td>20-06-08092-MCR</td>\n",
       "      <td>06/19/2020</td>\n",
       "      <td>RODRIGUEZ, ALFREDO</td>\n",
       "      <td>LOS SANTOS, LUI</td>\n",
       "      <td>CANTU'S BAIL BO</td>\n",
       "      <td>THEFT OF SERV &gt;=$2,500&lt;$30K</td>\n",
       "      <td>ACTIVE</td>\n",
       "    </tr>\n",
       "    <tr>\n",
       "      <th>95</th>\n",
       "      <td>20-06-08096-MCR</td>\n",
       "      <td>06/19/2020</td>\n",
       "      <td>SALAZAR TREVINO, QUMAN</td>\n",
       "      <td>TORRES, GREGORY</td>\n",
       "      <td>CANTU'S BAIL BO</td>\n",
       "      <td>POSS CS PG 1 &lt;1G</td>\n",
       "      <td>ACTIVE</td>\n",
       "    </tr>\n",
       "  </tbody>\n",
       "</table>\n",
       "<p>96 rows × 7 columns</p>\n",
       "</div>"
      ],
      "text/plain": [
       "       Cause Number   File Date             Defendant Name    Attorney Name  \\\n",
       "0    00-05-05160-CR  05/09/2000     LOZANO JR., JUAN JESUS  HERNANDEZ, FELI   \n",
       "1   02-02-05382-MCR  02/08/2002  FLORES, MARIA DEL ROSARIO  RHODES, CRAWFOR   \n",
       "2   03-03-05484-MCR  03/27/2003      FUENTES-GARCIA, OSCAR   RAMON, ALBERTO   \n",
       "3   03-03-05485-MCR  03/27/2003      FUENTES-GARCIA, OSCAR                    \n",
       "4   04-09-05658-MCR  09/30/2004           MENCHACA, MARTHA   HARPER, JAD P.   \n",
       "..              ...         ...                        ...              ...   \n",
       "91  20-02-08082-MCR  02/13/2020  MARTINEZ-DAVILA, EDGAR OM  LOS SANTOS, LUI   \n",
       "92  20-02-08084-MCR  02/13/2020       CASSIAS JR., RICHARD                    \n",
       "93  20-06-08090-MCR  06/19/2020              VIGIL, SAMUEL  JUAREZ, EDGAR H   \n",
       "94  20-06-08092-MCR  06/19/2020         RODRIGUEZ, ALFREDO  LOS SANTOS, LUI   \n",
       "95  20-06-08096-MCR  06/19/2020     SALAZAR TREVINO, QUMAN  TORRES, GREGORY   \n",
       "\n",
       "      Bondsman Name                             Offense  Status  \n",
       "0                      DEADLY CONDUCT DISCHARGE FIREARM  ACTIVE  \n",
       "1                               POSS MARIJ >5LBS<=50LBS  ACTIVE  \n",
       "2                                BURGLARY OF HABITATION  ACTIVE  \n",
       "3                                POSS CS PG 1 >=4G<200G  ACTIVE  \n",
       "4                                THEFT PROP>=$1500<$20K  ACTIVE  \n",
       "..              ...                                 ...     ...  \n",
       "91  AMIGO BAIL BOND             THEFT PROP >=$30K<$150K  ACTIVE  \n",
       "92  CANTU'S BAIL BO                    POSS CS PG 1 <1G  ACTIVE  \n",
       "93  ACES BONDING CO  INJURY CHILD/ELDERLY/DISABLE W/INT  ACTIVE  \n",
       "94  CANTU'S BAIL BO         THEFT OF SERV >=$2,500<$30K  ACTIVE  \n",
       "95  CANTU'S BAIL BO                    POSS CS PG 1 <1G  ACTIVE  \n",
       "\n",
       "[96 rows x 7 columns]"
      ]
     },
     "execution_count": 37,
     "metadata": {},
     "output_type": "execute_result"
    }
   ],
   "source": [
    "df"
   ]
  },
  {
   "cell_type": "markdown",
   "id": "32afc5b5",
   "metadata": {},
   "source": [
    "# Build Function\n",
    "\n",
    "Create a function to gather the info from the entire document."
   ]
  },
  {
   "cell_type": "code",
   "execution_count": 160,
   "id": "ff2bd46f",
   "metadata": {},
   "outputs": [],
   "source": [
    "def extract_criminal_pdf_data(text):\n",
    "    \"\"\"\n",
    "    This function takes in the entire PDF document as a string of text. It will gather the info for each case\n",
    "    and add the info to a dictionary. The dictionary for each case will be added to a list which will be turned into\n",
    "    a dataframe.\n",
    "    \n",
    "    Parameter:\n",
    "        -text: A string consisting of the text of the entire PDF document.\n",
    "        \n",
    "    Returns:\n",
    "        -df: A dataframe of the newly gathered case info\n",
    "    \"\"\"\n",
    "    \n",
    "    #Initialize container list\n",
    "    case_list = []\n",
    "    \n",
    "    #Separate the first header from the body\n",
    "    #We'll use this to identify the county later\n",
    "    header = text[:517]\n",
    "    \n",
    "    #Body\n",
    "    body = text[517:]\n",
    "    \n",
    "    #Remove leading and trailing whitespaces from the body text\n",
    "    body = body.strip()\n",
    "    \n",
    "    #Use if statement to check for county names inside the header info\n",
    "    if header.count('MAVERICK') >= 1:\n",
    "        county = 'Maverick'\n",
    "    elif header.count('DIMMIT') >= 1:\n",
    "        county = 'Dimmit'\n",
    "    elif header.count('ZAVALA') >= 1:\n",
    "        county = 'Zavala'\n",
    "    else:\n",
    "        county = 'Something went wrong!'\n",
    "        \n",
    "    #Set up regex to remove all subsequent headers\n",
    "    #This regex should identify the headers even if the name of the district clerk changes later on\n",
    "    body = re.sub(r\"\"\"\\n\n",
    "                                                  .{6,8} COUNTY CRIMINAL PENDING REPORT -- PAGE: \\d{1,3}\n",
    "                                                        .*, DISTRICT CLERK\n",
    "                                                              RUN ON .{19}\n",
    "                                                                   AS OF .{10}\n",
    "\n",
    "CAUSE #           FILE DATE  DEFENDANT NAME             ATTORNEY         BONDSMAN NAME    OFFENSE DESCRIPTION                  CASE STATUS\"\"\",\n",
    "    '', body)\n",
    "    \n",
    "    \n",
    "    #########################################################################################################\n",
    "    #Set up regex to remove the MTR/MTA separation\n",
    "    body = re.sub(\"\"\"TOTAL FILED CASES: \\d{1,4}\n",
    "\n",
    "MTR/MTA CASES FILED\n",
    "\n",
    "\"\"\", '', body)\n",
    "    \n",
    "    \n",
    "    #########################################################################################################\n",
    "    #Set up regex to remove the case count section at the end\n",
    "    body = re.sub(\"\"\"\n",
    "NUMBER OF MTR/MTA CASES: \\d{1,4}\n",
    "\n",
    ".*\\d{1,4}\n",
    ".*\\d{1,4}\n",
    "------------------------------\n",
    ".*\\d{1,4}\"\"\", '', body)\n",
    "    \n",
    "    #########################################################################################################\n",
    "    \n",
    "    #Split the text on the '\\n' to isolate each case\n",
    "    cases = body.split('\\n')\n",
    "    \n",
    "    #Remove cases that happen to be empty or consist of whitespace only\n",
    "    cases = [case for case in cases if case.isspace() == False and len(case) > 0]\n",
    "    \n",
    "    #Loop through each case. Add case info to temp dict, and then add that to the case list\n",
    "    for case in cases:\n",
    "        #Create temp_dict\n",
    "        temp_dict = {}\n",
    "\n",
    "        #Verify this is a valid case. Check for cause number\n",
    "        if case[:17].isspace():\n",
    "            continue\n",
    "        \n",
    "        #Strip leading and trailing whitespace\n",
    "        case = case.strip()\n",
    "\n",
    "        #Gather the cause number\n",
    "        cause_num = case[:17].strip()\n",
    "\n",
    "        #Gather the file date\n",
    "        file_date = case[17:29].strip()\n",
    "\n",
    "        #Get defendant name\n",
    "        defendant_name = case[29:56].strip()\n",
    "\n",
    "        #Get attorney name\n",
    "        attorney = case[56:72].strip()\n",
    "\n",
    "        #Get bondsman name\n",
    "        bondsman = case[72:90].strip()\n",
    "\n",
    "        #Get offense description\n",
    "        offense = case[90:127].strip()\n",
    "\n",
    "        #Get case status\n",
    "        status = case[127:].strip()\n",
    "\n",
    "        #Add info to temp dict\n",
    "        temp_dict['County'] = county\n",
    "        temp_dict['Cause Number'] = cause_num\n",
    "        temp_dict['File Date'] = file_date\n",
    "        temp_dict['Defendant Name'] = defendant_name\n",
    "        temp_dict['Attorney Name'] = attorney\n",
    "        temp_dict['Bondsman Name'] = bondsman\n",
    "        temp_dict['Offense'] = offense\n",
    "        temp_dict['Status'] = status\n",
    "\n",
    "        #Append to case list\n",
    "        case_list.append(temp_dict)\n",
    "    \n",
    "    #How many?\n",
    "    print(f'Collected Data From {len(case_list)} Cases.')\n",
    "    \n",
    "    #Create dataframe\n",
    "    df = pd.DataFrame(case_list)\n",
    "    \n",
    "    return df"
   ]
  },
  {
   "cell_type": "markdown",
   "id": "fd853e9b",
   "metadata": {},
   "source": [
    "# Test Function"
   ]
  },
  {
   "cell_type": "code",
   "execution_count": 161,
   "id": "dbc62c66",
   "metadata": {},
   "outputs": [],
   "source": [
    "#Set up resource manager to handle pdf content. text, images, etc.\n",
    "resource_manager = PDFResourceManager()\n",
    "\n",
    "#Used to display text\n",
    "fake_file_handle = io.StringIO()\n",
    "\n",
    "#Set up converter\n",
    "converter = TextConverter(resource_manager, fake_file_handle, laparams=LAParams())\n",
    "\n",
    "#Set up page interpreter\n",
    "page_interpreter = PDFPageInterpreter(resource_manager, converter)\n",
    "\n",
    "with open(pdf_path, 'rb') as fh:\n",
    "\n",
    "    for page_num, page in enumerate(PDFPage.get_pages(fh, caching=True, check_extractable=True)):\n",
    "        #Process the current page\n",
    "        page_interpreter.process_page(page)\n",
    "\n",
    "    #Save the current page's text to a variable\n",
    "    text = fake_file_handle.getvalue()\n",
    "\n",
    "# close open handles\n",
    "converter.close()\n",
    "fake_file_handle.close()\n",
    "\n",
    "#print(text)"
   ]
  },
  {
   "cell_type": "code",
   "execution_count": 162,
   "id": "31f27c38",
   "metadata": {},
   "outputs": [
    {
     "name": "stdout",
     "output_type": "stream",
     "text": [
      "Collected Data From 78 Cases.\n"
     ]
    }
   ],
   "source": [
    "df = extract_criminal_pdf_data(text)"
   ]
  },
  {
   "cell_type": "code",
   "execution_count": 163,
   "id": "00d7fb10",
   "metadata": {},
   "outputs": [
    {
     "data": {
      "text/html": [
       "<div>\n",
       "<style scoped>\n",
       "    .dataframe tbody tr th:only-of-type {\n",
       "        vertical-align: middle;\n",
       "    }\n",
       "\n",
       "    .dataframe tbody tr th {\n",
       "        vertical-align: top;\n",
       "    }\n",
       "\n",
       "    .dataframe thead th {\n",
       "        text-align: right;\n",
       "    }\n",
       "</style>\n",
       "<table border=\"1\" class=\"dataframe\">\n",
       "  <thead>\n",
       "    <tr style=\"text-align: right;\">\n",
       "      <th></th>\n",
       "      <th>County</th>\n",
       "      <th>Cause Number</th>\n",
       "      <th>File Date</th>\n",
       "      <th>Defendant Name</th>\n",
       "      <th>Attorney Name</th>\n",
       "      <th>Bondsman Name</th>\n",
       "      <th>Offense</th>\n",
       "      <th>Status</th>\n",
       "    </tr>\n",
       "  </thead>\n",
       "  <tbody>\n",
       "    <tr>\n",
       "      <th>0</th>\n",
       "      <td>Dimmit</td>\n",
       "      <td>02-10-02242-DCR</td>\n",
       "      <td>10/03/2005</td>\n",
       "      <td>MONTOYA, ROBERT</td>\n",
       "      <td>CABELLO, RUFINO</td>\n",
       "      <td></td>\n",
       "      <td>POSS CS PG 1 &lt;1G</td>\n",
       "      <td></td>\n",
       "    </tr>\n",
       "    <tr>\n",
       "      <th>1</th>\n",
       "      <td>Dimmit</td>\n",
       "      <td>10-09-02599-DCR</td>\n",
       "      <td>09/17/2010</td>\n",
       "      <td>LOZANO, JR., REYMUNDO</td>\n",
       "      <td></td>\n",
       "      <td></td>\n",
       "      <td>DRIVING WHILE INTOXICATED 3RD OR MO</td>\n",
       "      <td></td>\n",
       "    </tr>\n",
       "    <tr>\n",
       "      <th>2</th>\n",
       "      <td>Dimmit</td>\n",
       "      <td>12-11-02706-DCR</td>\n",
       "      <td>11/14/2012</td>\n",
       "      <td>FLOYD, SARAH KRISTINE</td>\n",
       "      <td></td>\n",
       "      <td></td>\n",
       "      <td>POSS CS PG 1 &lt;1G</td>\n",
       "      <td></td>\n",
       "    </tr>\n",
       "    <tr>\n",
       "      <th>3</th>\n",
       "      <td>Dimmit</td>\n",
       "      <td>13-10-02816-DCR</td>\n",
       "      <td>10/09/2013</td>\n",
       "      <td>GONZALEZ, JOSE ANTONIO</td>\n",
       "      <td>RODRIGUEZ, JR.,</td>\n",
       "      <td></td>\n",
       "      <td>INTOXICATED MANSLAUGHTER W/VEHICLE</td>\n",
       "      <td></td>\n",
       "    </tr>\n",
       "    <tr>\n",
       "      <th>4</th>\n",
       "      <td>Dimmit</td>\n",
       "      <td>13-10-02817-DCR</td>\n",
       "      <td>10/09/2013</td>\n",
       "      <td>GONZALEZ, JOSE ANTONIO</td>\n",
       "      <td>RODRIGUEZ, JR.,</td>\n",
       "      <td></td>\n",
       "      <td>INTOXICATED MANSLAUGHTER W/VEHICLE</td>\n",
       "      <td></td>\n",
       "    </tr>\n",
       "    <tr>\n",
       "      <th>...</th>\n",
       "      <td>...</td>\n",
       "      <td>...</td>\n",
       "      <td>...</td>\n",
       "      <td>...</td>\n",
       "      <td>...</td>\n",
       "      <td>...</td>\n",
       "      <td>...</td>\n",
       "      <td>...</td>\n",
       "    </tr>\n",
       "    <tr>\n",
       "      <th>73</th>\n",
       "      <td>Dimmit</td>\n",
       "      <td>19-02-03270-DCR</td>\n",
       "      <td>11/06/2019</td>\n",
       "      <td>CARREON JR., JUAN JOSE</td>\n",
       "      <td>RODRIGUEZ, JR.,</td>\n",
       "      <td>SAENZ BAIL BOND</td>\n",
       "      <td>POSS CS PG 1 &lt;1G</td>\n",
       "      <td></td>\n",
       "    </tr>\n",
       "    <tr>\n",
       "      <th>74</th>\n",
       "      <td>Dimmit</td>\n",
       "      <td>19-08-03300-DCR</td>\n",
       "      <td>11/01/2021</td>\n",
       "      <td>LONGORIA, SAMUEL SCOTT</td>\n",
       "      <td>PONCE, FRANCISC</td>\n",
       "      <td></td>\n",
       "      <td>POSS CS PG 1 &lt;1G</td>\n",
       "      <td></td>\n",
       "    </tr>\n",
       "    <tr>\n",
       "      <th>75</th>\n",
       "      <td>Dimmit</td>\n",
       "      <td>19-08-03303-DCR</td>\n",
       "      <td>11/01/2021</td>\n",
       "      <td>LONGORIA, SAMUEL SCOTT</td>\n",
       "      <td>PONCE, FRANCISC</td>\n",
       "      <td></td>\n",
       "      <td>POSS CS PG 1 &lt;1G</td>\n",
       "      <td></td>\n",
       "    </tr>\n",
       "    <tr>\n",
       "      <th>76</th>\n",
       "      <td>Dimmit</td>\n",
       "      <td>19-08-03304-DCR</td>\n",
       "      <td>11/01/2021</td>\n",
       "      <td>LONGORIA, SAMUEL SCOTT</td>\n",
       "      <td>PONCE, FRANCISC</td>\n",
       "      <td></td>\n",
       "      <td>POSS CS PG 1 &lt;1G</td>\n",
       "      <td></td>\n",
       "    </tr>\n",
       "    <tr>\n",
       "      <th>77</th>\n",
       "      <td>Dimmit</td>\n",
       "      <td>99-11-02156-DCR</td>\n",
       "      <td>07/27/2007</td>\n",
       "      <td>AKERS, DEBBIE KUBISH</td>\n",
       "      <td>JOHNSON, CHARLE</td>\n",
       "      <td></td>\n",
       "      <td>THEFT OF SERV &gt;=$1,500&lt;$20K</td>\n",
       "      <td></td>\n",
       "    </tr>\n",
       "  </tbody>\n",
       "</table>\n",
       "<p>78 rows × 8 columns</p>\n",
       "</div>"
      ],
      "text/plain": [
       "    County     Cause Number   File Date          Defendant Name  \\\n",
       "0   Dimmit  02-10-02242-DCR  10/03/2005         MONTOYA, ROBERT   \n",
       "1   Dimmit  10-09-02599-DCR  09/17/2010   LOZANO, JR., REYMUNDO   \n",
       "2   Dimmit  12-11-02706-DCR  11/14/2012   FLOYD, SARAH KRISTINE   \n",
       "3   Dimmit  13-10-02816-DCR  10/09/2013  GONZALEZ, JOSE ANTONIO   \n",
       "4   Dimmit  13-10-02817-DCR  10/09/2013  GONZALEZ, JOSE ANTONIO   \n",
       "..     ...              ...         ...                     ...   \n",
       "73  Dimmit  19-02-03270-DCR  11/06/2019  CARREON JR., JUAN JOSE   \n",
       "74  Dimmit  19-08-03300-DCR  11/01/2021  LONGORIA, SAMUEL SCOTT   \n",
       "75  Dimmit  19-08-03303-DCR  11/01/2021  LONGORIA, SAMUEL SCOTT   \n",
       "76  Dimmit  19-08-03304-DCR  11/01/2021  LONGORIA, SAMUEL SCOTT   \n",
       "77  Dimmit  99-11-02156-DCR  07/27/2007    AKERS, DEBBIE KUBISH   \n",
       "\n",
       "      Attorney Name    Bondsman Name                              Offense  \\\n",
       "0   CABELLO, RUFINO                                      POSS CS PG 1 <1G   \n",
       "1                                     DRIVING WHILE INTOXICATED 3RD OR MO   \n",
       "2                                                        POSS CS PG 1 <1G   \n",
       "3   RODRIGUEZ, JR.,                    INTOXICATED MANSLAUGHTER W/VEHICLE   \n",
       "4   RODRIGUEZ, JR.,                    INTOXICATED MANSLAUGHTER W/VEHICLE   \n",
       "..              ...              ...                                  ...   \n",
       "73  RODRIGUEZ, JR.,  SAENZ BAIL BOND                     POSS CS PG 1 <1G   \n",
       "74  PONCE, FRANCISC                                      POSS CS PG 1 <1G   \n",
       "75  PONCE, FRANCISC                                      POSS CS PG 1 <1G   \n",
       "76  PONCE, FRANCISC                                      POSS CS PG 1 <1G   \n",
       "77  JOHNSON, CHARLE                           THEFT OF SERV >=$1,500<$20K   \n",
       "\n",
       "   Status  \n",
       "0          \n",
       "1          \n",
       "2          \n",
       "3          \n",
       "4          \n",
       "..    ...  \n",
       "73         \n",
       "74         \n",
       "75         \n",
       "76         \n",
       "77         \n",
       "\n",
       "[78 rows x 8 columns]"
      ]
     },
     "execution_count": 163,
     "metadata": {},
     "output_type": "execute_result"
    }
   ],
   "source": [
    "df"
   ]
  },
  {
   "cell_type": "code",
   "execution_count": 147,
   "id": "4d7f836d",
   "metadata": {},
   "outputs": [],
   "source": [
    "def build_criminal_cases_dataframe(pdf_path):\n",
    "    \"\"\"\n",
    "    This function reads in the criminal cases pdf document and extracts all available information for each case. \n",
    "    It then returns a dataframe.\n",
    "    \n",
    "    Parameter:\n",
    "        - pdf_path: The file path for the pdf to be read.\n",
    "        \n",
    "    Returns:\n",
    "        - df: A dataframe of the resulting case information\n",
    "    \"\"\"\n",
    "    \n",
    "    #Set up resource manager to handle pdf content. text, images, etc.\n",
    "    resource_manager = PDFResourceManager()\n",
    "\n",
    "    #Used to display text\n",
    "    fake_file_handle = io.StringIO()\n",
    "\n",
    "    #Set up converter\n",
    "    converter = TextConverter(resource_manager, fake_file_handle, laparams=LAParams())\n",
    "\n",
    "    #Set up page interpreter\n",
    "    page_interpreter = PDFPageInterpreter(resource_manager, converter)\n",
    "\n",
    "    with open(pdf_path, 'rb') as fh:\n",
    "\n",
    "        for page_num, page in enumerate(PDFPage.get_pages(fh, caching=True, check_extractable=True)):\n",
    "            #Process the current page\n",
    "            page_interpreter.process_page(page)\n",
    "\n",
    "        #Save the current page's text to a variable\n",
    "        text = fake_file_handle.getvalue()\n",
    "\n",
    "    # close open handles\n",
    "    converter.close()\n",
    "    fake_file_handle.close()\n",
    "    \n",
    "    #Collect criminal case info and get the df\n",
    "    df = extract_criminal_pdf_data(text)\n",
    "    \n",
    "    return df"
   ]
  }
 ],
 "metadata": {
  "kernelspec": {
   "display_name": "Python 3",
   "language": "python",
   "name": "python3"
  },
  "language_info": {
   "codemirror_mode": {
    "name": "ipython",
    "version": 3
   },
   "file_extension": ".py",
   "mimetype": "text/x-python",
   "name": "python",
   "nbconvert_exporter": "python",
   "pygments_lexer": "ipython3",
   "version": "3.9.1"
  }
 },
 "nbformat": 4,
 "nbformat_minor": 5
}
