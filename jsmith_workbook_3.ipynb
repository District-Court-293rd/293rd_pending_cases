{
 "cells": [
  {
   "cell_type": "markdown",
   "id": "87accfda",
   "metadata": {},
   "source": [
    "# Testing Connection to Google Sheets"
   ]
  },
  {
   "cell_type": "code",
   "execution_count": 1,
   "id": "22509fb3",
   "metadata": {},
   "outputs": [],
   "source": [
    "import numpy as np\n",
    "import pandas as pd\n",
    "import gspread\n",
    "from oauth2client.service_account import ServiceAccountCredentials\n",
    "import jsmith_acquire\n",
    "import jsmith_prepare"
   ]
  },
  {
   "cell_type": "code",
   "execution_count": 2,
   "id": "52cbd3f9",
   "metadata": {},
   "outputs": [],
   "source": [
    "#Set up credentials\n",
    "gc = gspread.service_account(filename='credentials.json')"
   ]
  },
  {
   "cell_type": "code",
   "execution_count": 3,
   "id": "a2bff52b",
   "metadata": {},
   "outputs": [],
   "source": [
    "#Open Google Sheet By Name\n",
    "gsheet = gc.open(\"Pending Reports\")"
   ]
  },
  {
   "cell_type": "code",
   "execution_count": 4,
   "id": "f9f0effa",
   "metadata": {},
   "outputs": [],
   "source": [
    "#Try Loading First Tab, 'DistrictCivil', as a dataframe\n",
    "original_data = pd.DataFrame(gsheet.sheet1.get_all_records())"
   ]
  },
  {
   "cell_type": "code",
   "execution_count": 5,
   "id": "81243999",
   "metadata": {},
   "outputs": [
    {
     "data": {
      "text/html": [
       "<div>\n",
       "<style scoped>\n",
       "    .dataframe tbody tr th:only-of-type {\n",
       "        vertical-align: middle;\n",
       "    }\n",
       "\n",
       "    .dataframe tbody tr th {\n",
       "        vertical-align: top;\n",
       "    }\n",
       "\n",
       "    .dataframe thead th {\n",
       "        text-align: right;\n",
       "    }\n",
       "</style>\n",
       "<table border=\"1\" class=\"dataframe\">\n",
       "  <thead>\n",
       "    <tr style=\"text-align: right;\">\n",
       "      <th></th>\n",
       "      <th>cause_number</th>\n",
       "      <th>notes</th>\n",
       "      <th>disposed</th>\n",
       "      <th>dispose_date</th>\n",
       "      <th>on_track</th>\n",
       "      <th>file_date</th>\n",
       "      <th>cause_of_action</th>\n",
       "      <th>docket_date</th>\n",
       "      <th>docket_type</th>\n",
       "      <th>plaintiff</th>\n",
       "    </tr>\n",
       "  </thead>\n",
       "  <tbody>\n",
       "    <tr>\n",
       "      <th>0</th>\n",
       "      <td>03-06-19302-MCV</td>\n",
       "      <td>Waiver of service 6/30/2003</td>\n",
       "      <td></td>\n",
       "      <td></td>\n",
       "      <td></td>\n",
       "      <td></td>\n",
       "      <td></td>\n",
       "      <td></td>\n",
       "      <td></td>\n",
       "      <td></td>\n",
       "    </tr>\n",
       "    <tr>\n",
       "      <th>1</th>\n",
       "      <td>21-12-40648-MCV</td>\n",
       "      <td>WAIVER OF SERVICE 12/09/2021</td>\n",
       "      <td></td>\n",
       "      <td></td>\n",
       "      <td></td>\n",
       "      <td>12/8/2021</td>\n",
       "      <td>DIVORCE - NO CHILDREN</td>\n",
       "      <td></td>\n",
       "      <td></td>\n",
       "      <td>FIDEL MARTINEZ JR.</td>\n",
       "    </tr>\n",
       "    <tr>\n",
       "      <th>2</th>\n",
       "      <td>07-01-22238-MCV</td>\n",
       "      <td>WAIVER OF SERVICE 01/10/2022</td>\n",
       "      <td></td>\n",
       "      <td></td>\n",
       "      <td></td>\n",
       "      <td>1/9/2007</td>\n",
       "      <td>MOTION ENFORCEMENT, TO M</td>\n",
       "      <td>5/14/2007</td>\n",
       "      <td>FINAL HEARING</td>\n",
       "      <td></td>\n",
       "    </tr>\n",
       "    <tr>\n",
       "      <th>3</th>\n",
       "      <td>03-08-19404-MCV</td>\n",
       "      <td>Waive 8/11/2003</td>\n",
       "      <td></td>\n",
       "      <td></td>\n",
       "      <td></td>\n",
       "      <td></td>\n",
       "      <td></td>\n",
       "      <td></td>\n",
       "      <td></td>\n",
       "      <td></td>\n",
       "    </tr>\n",
       "    <tr>\n",
       "      <th>4</th>\n",
       "      <td>15-07-31756-MCV</td>\n",
       "      <td>UIFSA - FOREIGN SUPPORT ORDER, NOTICE OF REG. ...</td>\n",
       "      <td>FALSE</td>\n",
       "      <td></td>\n",
       "      <td></td>\n",
       "      <td>7/27/2015</td>\n",
       "      <td>1</td>\n",
       "      <td></td>\n",
       "      <td></td>\n",
       "      <td>DEHOYOS, MARIO ALBERT</td>\n",
       "    </tr>\n",
       "  </tbody>\n",
       "</table>\n",
       "</div>"
      ],
      "text/plain": [
       "      cause_number                                              notes  \\\n",
       "0  03-06-19302-MCV                        Waiver of service 6/30/2003   \n",
       "1  21-12-40648-MCV                       WAIVER OF SERVICE 12/09/2021   \n",
       "2  07-01-22238-MCV                       WAIVER OF SERVICE 01/10/2022   \n",
       "3  03-08-19404-MCV                                    Waive 8/11/2003   \n",
       "4  15-07-31756-MCV  UIFSA - FOREIGN SUPPORT ORDER, NOTICE OF REG. ...   \n",
       "\n",
       "  disposed dispose_date on_track  file_date           cause_of_action  \\\n",
       "0                                                                       \n",
       "1                                 12/8/2021     DIVORCE - NO CHILDREN   \n",
       "2                                  1/9/2007  MOTION ENFORCEMENT, TO M   \n",
       "3                                                                       \n",
       "4    FALSE                        7/27/2015                         1   \n",
       "\n",
       "  docket_date    docket_type              plaintiff  \n",
       "0                                                    \n",
       "1                                FIDEL MARTINEZ JR.  \n",
       "2   5/14/2007  FINAL HEARING                         \n",
       "3                                                    \n",
       "4                             DEHOYOS, MARIO ALBERT  "
      ]
     },
     "execution_count": 5,
     "metadata": {},
     "output_type": "execute_result"
    }
   ],
   "source": [
    "original_data.head()"
   ]
  },
  {
   "cell_type": "markdown",
   "id": "2e027cba",
   "metadata": {},
   "source": [
    "# Connection Successful!\n",
    "\n",
    "Now try adding the newly created data from your functions to the other tabs."
   ]
  },
  {
   "cell_type": "code",
   "execution_count": 11,
   "id": "2b736f53",
   "metadata": {},
   "outputs": [],
   "source": [
    "#Create a list of PDF paths to iterate through\n",
    "path_list = ['/Users/johnathonsmith/Downloads/CV.PEND.CASE_Dimmit_1-21-2022.pdf',\n",
    "             '/Users/johnathonsmith/Downloads/CV.PEND.CASE_Zavala_1-21-2022.pdf',\n",
    "             '/Users/johnathonsmith/Downloads/CV.PEND.CASE_MAVERICK_2-3-2022.pdf',\n",
    "             '/Users/johnathonsmith/Downloads/CR.PEND_Zavala_1-21-2022.pdf',\n",
    "             '/Users/johnathonsmith/Downloads/CR.PEND_Maverick_1-21-2022.pdf',\n",
    "             '/Users/johnathonsmith/Downloads/CR.PEND_Dimmit_1-21-2022.pdf']"
   ]
  },
  {
   "cell_type": "code",
   "execution_count": 12,
   "id": "4a8207cf",
   "metadata": {},
   "outputs": [
    {
     "data": {
      "text/plain": [
       "'/Users/johnathonsmith/Downloads/CV.PEND.CASE_MAVERICK_2-3-2022.pdf'"
      ]
     },
     "execution_count": 12,
     "metadata": {},
     "output_type": "execute_result"
    }
   ],
   "source": [
    "path_list[2]"
   ]
  },
  {
   "cell_type": "code",
   "execution_count": 13,
   "id": "6312b74a",
   "metadata": {},
   "outputs": [
    {
     "name": "stdout",
     "output_type": "stream",
     "text": [
      "Collected Data From 1110 Cases.\n"
     ]
    }
   ],
   "source": [
    "#Try adding just one first\n",
    "df = jsmith_acquire.build_dataframe(path_list[2])\n",
    "df = jsmith_prepare.prepare_dataframe(df)"
   ]
  },
  {
   "cell_type": "code",
   "execution_count": 14,
   "id": "ef8cd649",
   "metadata": {},
   "outputs": [
    {
     "data": {
      "text/html": [
       "<div>\n",
       "<style scoped>\n",
       "    .dataframe tbody tr th:only-of-type {\n",
       "        vertical-align: middle;\n",
       "    }\n",
       "\n",
       "    .dataframe tbody tr th {\n",
       "        vertical-align: top;\n",
       "    }\n",
       "\n",
       "    .dataframe thead th {\n",
       "        text-align: right;\n",
       "    }\n",
       "</style>\n",
       "<table border=\"1\" class=\"dataframe\">\n",
       "  <thead>\n",
       "    <tr style=\"text-align: right;\">\n",
       "      <th></th>\n",
       "      <th>County</th>\n",
       "      <th>Cause Number</th>\n",
       "      <th>File Date</th>\n",
       "      <th>Cause of Action</th>\n",
       "      <th>Docket Date</th>\n",
       "      <th>Docket Type</th>\n",
       "      <th>ANS File</th>\n",
       "      <th>CR Number</th>\n",
       "      <th>Plaintiff Name</th>\n",
       "      <th>Plaintiff Attorney</th>\n",
       "      <th>Defendant Name</th>\n",
       "      <th>Defendant Attorney</th>\n",
       "      <th>Case Type</th>\n",
       "      <th>On Track</th>\n",
       "      <th>Status</th>\n",
       "      <th>File Has Image</th>\n",
       "      <th>Need File</th>\n",
       "      <th>Disposed Date</th>\n",
       "      <th>Finding</th>\n",
       "      <th>Finding Date</th>\n",
       "    </tr>\n",
       "  </thead>\n",
       "  <tbody>\n",
       "    <tr>\n",
       "      <th>0</th>\n",
       "      <td>Maverick</td>\n",
       "      <td>00-02-16392-CV</td>\n",
       "      <td>02/04/2000</td>\n",
       "      <td>(TITLE IV-D OAG USE ONLY</td>\n",
       "      <td></td>\n",
       "      <td></td>\n",
       "      <td></td>\n",
       "      <td></td>\n",
       "      <td>ATTORNEY GENERAL\\nCHAVARRIA, AZUCENA</td>\n",
       "      <td>MELINDA S. LAUCK</td>\n",
       "      <td>CHAVARRIA, JOSE M.</td>\n",
       "      <td></td>\n",
       "      <td>Civil</td>\n",
       "      <td>False</td>\n",
       "      <td>Pending</td>\n",
       "      <td></td>\n",
       "      <td></td>\n",
       "      <td></td>\n",
       "      <td></td>\n",
       "      <td></td>\n",
       "    </tr>\n",
       "    <tr>\n",
       "      <th>1</th>\n",
       "      <td>Maverick</td>\n",
       "      <td>1-01-33838-MCV</td>\n",
       "      <td>01/11/2017</td>\n",
       "      <td>MOTOR VEHICLE</td>\n",
       "      <td></td>\n",
       "      <td></td>\n",
       "      <td></td>\n",
       "      <td></td>\n",
       "      <td>CANO, ANA</td>\n",
       "      <td>ROLANDO SALINAS</td>\n",
       "      <td>FIDLER, WILLIAM</td>\n",
       "      <td></td>\n",
       "      <td>Civil</td>\n",
       "      <td>False</td>\n",
       "      <td>Pending</td>\n",
       "      <td></td>\n",
       "      <td></td>\n",
       "      <td></td>\n",
       "      <td></td>\n",
       "      <td></td>\n",
       "    </tr>\n",
       "    <tr>\n",
       "      <th>2</th>\n",
       "      <td>Maverick</td>\n",
       "      <td>1-03-34076-MCV</td>\n",
       "      <td>03/09/2017</td>\n",
       "      <td>DIVORCE - CHILDREN</td>\n",
       "      <td></td>\n",
       "      <td></td>\n",
       "      <td></td>\n",
       "      <td></td>\n",
       "      <td>MORALES, SYLVIA DANIELA</td>\n",
       "      <td>FELIPE HERNANDEZ</td>\n",
       "      <td>MORALES, ROBERTO</td>\n",
       "      <td></td>\n",
       "      <td>Civil</td>\n",
       "      <td>False</td>\n",
       "      <td>Pending</td>\n",
       "      <td></td>\n",
       "      <td></td>\n",
       "      <td></td>\n",
       "      <td></td>\n",
       "      <td></td>\n",
       "    </tr>\n",
       "    <tr>\n",
       "      <th>3</th>\n",
       "      <td>Maverick</td>\n",
       "      <td>01-06-17430-CV</td>\n",
       "      <td>11/09/2017</td>\n",
       "      <td>SHOW CAUSE MOTION</td>\n",
       "      <td>08/29/2001</td>\n",
       "      <td>PETITION TO ESTA</td>\n",
       "      <td></td>\n",
       "      <td></td>\n",
       "      <td>ATTORNEY GENERAL\\nMUNOZ, CLARISA</td>\n",
       "      <td>MELINDA S. LAUCK</td>\n",
       "      <td>BARRIENTOS, JOSE ALEJANDRO</td>\n",
       "      <td></td>\n",
       "      <td>Civil</td>\n",
       "      <td>False</td>\n",
       "      <td>Pending</td>\n",
       "      <td></td>\n",
       "      <td></td>\n",
       "      <td></td>\n",
       "      <td></td>\n",
       "      <td></td>\n",
       "    </tr>\n",
       "    <tr>\n",
       "      <th>4</th>\n",
       "      <td>Maverick</td>\n",
       "      <td>1-07-34542-MCV</td>\n",
       "      <td>07/17/2017</td>\n",
       "      <td>DIVORCE - CHILDREN</td>\n",
       "      <td></td>\n",
       "      <td></td>\n",
       "      <td></td>\n",
       "      <td></td>\n",
       "      <td>RODRIGUEZ AVALOS, ALEJANDRO</td>\n",
       "      <td>FRANCISCO MARTINEZ III</td>\n",
       "      <td>AVALOS, MARIELLA</td>\n",
       "      <td></td>\n",
       "      <td>Civil</td>\n",
       "      <td>False</td>\n",
       "      <td>Pending</td>\n",
       "      <td></td>\n",
       "      <td></td>\n",
       "      <td></td>\n",
       "      <td></td>\n",
       "      <td></td>\n",
       "    </tr>\n",
       "  </tbody>\n",
       "</table>\n",
       "</div>"
      ],
      "text/plain": [
       "     County    Cause Number   File Date           Cause of Action Docket Date  \\\n",
       "0  Maverick  00-02-16392-CV  02/04/2000  (TITLE IV-D OAG USE ONLY               \n",
       "1  Maverick  1-01-33838-MCV  01/11/2017             MOTOR VEHICLE               \n",
       "2  Maverick  1-03-34076-MCV  03/09/2017        DIVORCE - CHILDREN               \n",
       "3  Maverick  01-06-17430-CV  11/09/2017         SHOW CAUSE MOTION  08/29/2001   \n",
       "4  Maverick  1-07-34542-MCV  07/17/2017        DIVORCE - CHILDREN               \n",
       "\n",
       "        Docket Type ANS File CR Number                        Plaintiff Name  \\\n",
       "0                                       ATTORNEY GENERAL\\nCHAVARRIA, AZUCENA   \n",
       "1                                                                  CANO, ANA   \n",
       "2                                                    MORALES, SYLVIA DANIELA   \n",
       "3  PETITION TO ESTA                         ATTORNEY GENERAL\\nMUNOZ, CLARISA   \n",
       "4                                                RODRIGUEZ AVALOS, ALEJANDRO   \n",
       "\n",
       "       Plaintiff Attorney              Defendant Name Defendant Attorney  \\\n",
       "0        MELINDA S. LAUCK          CHAVARRIA, JOSE M.                      \n",
       "1         ROLANDO SALINAS             FIDLER, WILLIAM                      \n",
       "2        FELIPE HERNANDEZ            MORALES, ROBERTO                      \n",
       "3        MELINDA S. LAUCK  BARRIENTOS, JOSE ALEJANDRO                      \n",
       "4  FRANCISCO MARTINEZ III            AVALOS, MARIELLA                      \n",
       "\n",
       "  Case Type  On Track   Status File Has Image Need File Disposed Date Finding  \\\n",
       "0     Civil     False  Pending                                                  \n",
       "1     Civil     False  Pending                                                  \n",
       "2     Civil     False  Pending                                                  \n",
       "3     Civil     False  Pending                                                  \n",
       "4     Civil     False  Pending                                                  \n",
       "\n",
       "  Finding Date  \n",
       "0               \n",
       "1               \n",
       "2               \n",
       "3               \n",
       "4               "
      ]
     },
     "execution_count": 14,
     "metadata": {},
     "output_type": "execute_result"
    }
   ],
   "source": [
    "df.head()"
   ]
  },
  {
   "cell_type": "code",
   "execution_count": 15,
   "id": "95700c39",
   "metadata": {},
   "outputs": [],
   "source": [
    "#Civil cases go to the 'Civil Cases' tab\n",
    "civil_sheet = gsheet.worksheet('Civil Cases')\n",
    "\n",
    "#Criminal cases go to the 'Criminal Cases' tab\n",
    "crim_sheet = gsheet.worksheet('Criminal Cases')"
   ]
  },
  {
   "cell_type": "code",
   "execution_count": 16,
   "id": "9ffd8289",
   "metadata": {},
   "outputs": [
    {
     "data": {
      "text/plain": [
       "{'spreadsheetId': '1b3fmZrbfwZWMvu4kUGJSSGsp61utlE0Ny-ebozZ5aBk',\n",
       " 'updatedRange': \"'Civil Cases'!A1:T1111\",\n",
       " 'updatedRows': 1111,\n",
       " 'updatedColumns': 20,\n",
       " 'updatedCells': 22220}"
      ]
     },
     "execution_count": 16,
     "metadata": {},
     "output_type": "execute_result"
    }
   ],
   "source": [
    "civil_sheet.update([df.columns.values.tolist()] + df.values.tolist())"
   ]
  },
  {
   "cell_type": "code",
   "execution_count": 17,
   "id": "f8a546a9",
   "metadata": {},
   "outputs": [],
   "source": [
    "#Create dataframes\n",
    "civil_df = pd.DataFrame()\n",
    "crim_df = pd.DataFrame()"
   ]
  },
  {
   "cell_type": "code",
   "execution_count": 18,
   "id": "d62cff0f",
   "metadata": {},
   "outputs": [
    {
     "name": "stdout",
     "output_type": "stream",
     "text": [
      "Collected Data From 644 Cases.\n",
      "Collected Data From 779 Cases.\n",
      "Collected Data From 1110 Cases.\n",
      "Collected Data From 59 Cases.\n",
      "Collected Data From 221 Cases.\n",
      "Collected Data From 77 Cases.\n"
     ]
    }
   ],
   "source": [
    "#Use a loop to extract all the data and prepare the dataframes accordingly.\n",
    "#Add them one by one to the google sheet in the proper tabs\n",
    "\n",
    "for path in path_list:\n",
    "    #Extract the PDF data\n",
    "    df = jsmith_acquire.build_dataframe(path)\n",
    "    \n",
    "    #Prepare the df and add new columns\n",
    "    df = jsmith_prepare.prepare_dataframe(df)\n",
    "    \n",
    "    if df['Case Type'][0] == 'Criminal':\n",
    "        #Add to criminal cases tab\n",
    "        crim_df = crim_df.append(df, ignore_index = True)\n",
    "    elif df['Case Type'][0] == 'Civil' or df['Case Type'][0] == 'Tax':\n",
    "        civil_df = civil_df.append(df, ignore_index = True)\n",
    "    else:\n",
    "        print('Something went wrong in the loop!')"
   ]
  },
  {
   "cell_type": "code",
   "execution_count": 19,
   "id": "4f18e48a",
   "metadata": {},
   "outputs": [
    {
     "data": {
      "text/plain": [
       "{'spreadsheetId': '1b3fmZrbfwZWMvu4kUGJSSGsp61utlE0Ny-ebozZ5aBk',\n",
       " 'updatedRange': \"'Criminal Cases'!A1:P358\",\n",
       " 'updatedRows': 358,\n",
       " 'updatedColumns': 16,\n",
       " 'updatedCells': 5728}"
      ]
     },
     "execution_count": 19,
     "metadata": {},
     "output_type": "execute_result"
    }
   ],
   "source": [
    "#Now add it to the Criminal Cases tab in the Google Sheet\n",
    "crim_sheet.update([crim_df.columns.values.tolist()] + crim_df.values.tolist())"
   ]
  },
  {
   "cell_type": "code",
   "execution_count": 20,
   "id": "aad09eb4",
   "metadata": {},
   "outputs": [
    {
     "data": {
      "text/plain": [
       "{'spreadsheetId': '1b3fmZrbfwZWMvu4kUGJSSGsp61utlE0Ny-ebozZ5aBk',\n",
       " 'updatedRange': \"'Civil Cases'!A1:T2534\",\n",
       " 'updatedRows': 2534,\n",
       " 'updatedColumns': 20,\n",
       " 'updatedCells': 50680}"
      ]
     },
     "execution_count": 20,
     "metadata": {},
     "output_type": "execute_result"
    }
   ],
   "source": [
    "#Next add the data to the Civil Cases tab\n",
    "civil_sheet.update([civil_df.columns.values.tolist()] + civil_df.values.tolist())"
   ]
  },
  {
   "cell_type": "code",
   "execution_count": null,
   "id": "e00bbcdd",
   "metadata": {},
   "outputs": [],
   "source": []
  }
 ],
 "metadata": {
  "kernelspec": {
   "display_name": "Python 3",
   "language": "python",
   "name": "python3"
  },
  "language_info": {
   "codemirror_mode": {
    "name": "ipython",
    "version": 3
   },
   "file_extension": ".py",
   "mimetype": "text/x-python",
   "name": "python",
   "nbconvert_exporter": "python",
   "pygments_lexer": "ipython3",
   "version": "3.9.1"
  }
 },
 "nbformat": 4,
 "nbformat_minor": 5
}
